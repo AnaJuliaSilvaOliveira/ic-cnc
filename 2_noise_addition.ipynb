{
 "cells": [
  {
   "cell_type": "code",
   "execution_count": 1,
   "metadata": {},
   "outputs": [],
   "source": [
    "import pandas as pd\n",
    "import numpy as np\n",
    "\n",
    "import scipy.io as sc\n",
    "import scipy.stats\n",
    "from scipy.fft import fft, fftfreq\n",
    "from scipy.fftpack import fft, ifft \n",
    "from os import listdir\n",
    "import os.path\n",
    "import shutil \n",
    "\n",
    "import matplotlib.pyplot as plt\n",
    "import seaborn as sns"
   ]
  },
  {
   "cell_type": "code",
   "execution_count": null,
   "metadata": {},
   "outputs": [],
   "source": [
    "# list_of_folders = listdir(\"split_cutting_tests_processed\")\n",
    "# cols = {'t': [],\n",
    "#         'y': []} # dictionary to whom the data will be added to create a df\n",
    "# for folder in list_of_folders:\n",
    "#     list_of_files = listdir(f'split_cutting_tests_processed/{folder}')\n",
    "#     for file in list_of_files:\n",
    "#         if file[0] != 'u':\n",
    "#             ''' Adding noise to all the split data files and saving it as a separate file.\n",
    "#              The only column to whom was added noise is the \"y\" column. The other one\n",
    "#              represents time, therefor cannot have added noise. \n",
    "#              The files classified as \"unknown\" for the presence of chatter were not used \n",
    "#              '''\n",
    "#             df = pd.read_csv(f'/content/split_cutting_tests_processed/{folder}/{file}')\n",
    "#             df['y'] = df['y'].astype('float')\n",
    "#             df['t'] = df['t'].astype('float')\n",
    "\n",
    "#             mu, sigma = 0, np.sqrt(np.mean(df['y']**2))*0.1 # adding noise using rms\n",
    "#             noise = np.random.normal(mu, sigma, df['y'].shape)\n",
    "\n",
    "#             cols['y'] = df['y'] + noise\n",
    "#             cols['t'] = df['t']\n",
    "\n",
    "#             df_noise_added = pd.DataFrame(cols)\n",
    "#             df_noise_added.to_csv(f'split_cutting_tests_processed/{folder}/{file[:-4]}_noise_added.csv')"
   ]
  }
 ],
 "metadata": {
  "kernelspec": {
   "display_name": "Python 3",
   "language": "python",
   "name": "python3"
  },
  "language_info": {
   "codemirror_mode": {
    "name": "ipython",
    "version": 3
   },
   "file_extension": ".py",
   "mimetype": "text/x-python",
   "name": "python",
   "nbconvert_exporter": "python",
   "pygments_lexer": "ipython3",
   "version": "3.11.4"
  },
  "orig_nbformat": 4
 },
 "nbformat": 4,
 "nbformat_minor": 2
}
