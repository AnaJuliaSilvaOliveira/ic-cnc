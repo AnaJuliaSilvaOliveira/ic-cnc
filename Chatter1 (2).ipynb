{
 "cells": [
  {
   "cell_type": "markdown",
   "id": "OBjuiCi_ix3H",
   "metadata": {
    "id": "OBjuiCi_ix3H"
   },
   "source": [
    "# Libraries and Data"
   ]
  },
  {
   "cell_type": "markdown",
   "id": "cce16783",
   "metadata": {
    "id": "cce16783"
   },
   "source": [
    "**A FAZER:**\n",
    "- Criar o dataframe\n",
    "    - Gerar as features a partir de várias funções de agregação, onde cada uma será uma coluna do dataframe\n",
    "    - Cada uma das partes (janelas) geradas anteriormente serão uma linha do dataframe\n",
    "\n",
    "**Extra:** Pesquisar o significidado de cada uma das funções de agregação abaixo\n",
    "\n",
    "Abaixo está um algoritmo que caminha por todos os arquivos dentro de um diretório e retorna o nome da sua pasta, o nome do arquivo e os seus dados de X e Y. Isso serve para poder iniciar as análises de forma mais automatizada."
   ]
  },
  {
   "cell_type": "markdown",
   "id": "16v-WobI3lZi",
   "metadata": {
    "id": "16v-WobI3lZi"
   },
   "source": [
    "# Data and libraries"
   ]
  },
  {
   "cell_type": "code",
   "execution_count": 1,
   "id": "CqS9J3pr2wcp",
   "metadata": {
    "colab": {
     "base_uri": "https://localhost:8080/"
    },
    "id": "CqS9J3pr2wcp",
    "outputId": "7110eec6-e200-4102-c126-9ed91781b8c1"
   },
   "outputs": [
    {
     "name": "stdout",
     "output_type": "stream",
     "text": [
      "Mounted at /content/drive\n"
     ]
    }
   ],
   "source": [
    "from google.colab import drive\n",
    "drive.mount('/content/drive')"
   ]
  },
  {
   "cell_type": "code",
   "execution_count": 2,
   "id": "Ub8yqZ5C2qET",
   "metadata": {
    "colab": {
     "base_uri": "https://localhost:8080/"
    },
    "id": "Ub8yqZ5C2qET",
    "outputId": "9c80d3dd-5770-4316-8b54-1158d2ae78d9"
   },
   "outputs": [
    {
     "name": "stdout",
     "output_type": "stream",
     "text": [
      "cp: cannot stat '/content/dados-chatter/timeSeries_3inchStickout/F_12-Jun-2017_rpm570_doc0p015.mat': No such file or directory\n"
     ]
    }
   ],
   "source": [
    "!cp -r /content/drive/MyDrive/IC\\ CNC/cutting_tests_processed /content/\n",
    "path_df_processed = \"/content/drive/MyDrive/IC CNC/cutting_tests_processed\"\n",
    "! cp /content/dados-chatter/timeSeries_3inchStickout/F_12-Jun-2017_rpm570_doc0p015.mat /content/"
   ]
  },
  {
   "cell_type": "code",
   "execution_count": 3,
   "id": "0df16d3c",
   "metadata": {
    "id": "0df16d3c"
   },
   "outputs": [],
   "source": [
    "import numpy as np\n",
    "import pandas as pd\n",
    "import matplotlib.pyplot as plt\n",
    "import scipy.io as sc\n",
    "import scipy.stats\n",
    "from scipy.fftpack import fft, ifft \n",
    "from os import listdir\n",
    "import os.path"
   ]
  },
  {
   "cell_type": "code",
   "execution_count": 4,
   "id": "ZrefO-2a2qdF",
   "metadata": {
    "id": "ZrefO-2a2qdF"
   },
   "outputs": [],
   "source": [
    "mat = scipy.io.loadmat('/content/cutting_tests_processed/2inch_stickout/c_320_005.mat')"
   ]
  },
  {
   "cell_type": "code",
   "execution_count": 5,
   "id": "1XbFtyqF3j38",
   "metadata": {
    "id": "1XbFtyqF3j38"
   },
   "outputs": [],
   "source": [
    "# creating new folders that will withhold the new dataframes created by spliting\n",
    "! mkdir split_cutting_tests_processed \n",
    "! cd split_cutting_tests_processed \n",
    "list_of_folders = listdir(\"cutting_tests_processed\")\n",
    "for folder in list_of_folders:\n",
    "    list_of_files = listdir(f'cutting_tests_processed/{folder}')\n",
    "    ! mkdir split_cutting_tests_processed/{folder}"
   ]
  },
  {
   "cell_type": "code",
   "execution_count": 6,
   "id": "av3_5S_Y32fd",
   "metadata": {
    "id": "av3_5S_Y32fd"
   },
   "outputs": [],
   "source": [
    "list_of_folders = listdir(\"cutting_tests_processed\")\n",
    "for folder in list_of_folders:\n",
    "    list_of_files = listdir(f'cutting_tests_processed/{folder}')\n",
    "    for file in list_of_files:\n",
    "        if file[0] != 'u':\n",
    "            ''' spliting each processed data into for new files\n",
    "            saves them as files in the same organization logic as the original files\n",
    "            files classified as unkown were not used\n",
    "            '''\n",
    "            data = sc.loadmat(f'cutting_tests_processed/{folder}/{file}')\n",
    "            df = pd.DataFrame.from_dict(data['tsDS'][:,:])\n",
    "            df.rename({0: 't', 1: 'y'}, axis=1, inplace=True)\n",
    "            df_split = np.array_split(df,4)\n",
    "            for split_num in np.arange(4):\n",
    "                df_split[split_num].to_csv(f'split_cutting_tests_processed/{folder}/{file[:-4]}_split_{split_num}.csv')\n",
    "                "
   ]
  },
  {
   "cell_type": "code",
   "execution_count": 7,
   "id": "Bvcu0q6M4TOw",
   "metadata": {
    "id": "Bvcu0q6M4TOw"
   },
   "outputs": [],
   "source": [
    "list_of_folders = listdir(\"split_cutting_tests_processed\")\n",
    "cols = {'t': [],\n",
    "        'y': []} # dictionary to whom the data will be added to create a df\n",
    "for folder in list_of_folders:\n",
    "    list_of_files = listdir(f'split_cutting_tests_processed/{folder}')\n",
    "    for file in list_of_files:\n",
    "        if file[0] != 'u':\n",
    "            ''' Adding noise to all the split data files and saving it as a separate file.\n",
    "             The only column to whom was added noise is the \"y\" column. The other one\n",
    "             represents time, therefor cannot have added noise. \n",
    "             The files classified as \"unknown\" for the presence of chatter were not used \n",
    "             '''\n",
    "            df = pd.read_csv(f'/content/split_cutting_tests_processed/{folder}/{file}')\n",
    "            df['y'] = df['y'].astype('float')\n",
    "            df['t'] = df['t'].astype('float')\n",
    "\n",
    "            mu, sigma = 0, np.sqrt(np.mean(df['y']**2))*0.1 # adding noise using rms\n",
    "            noise = np.random.normal(mu, sigma, df['y'].shape)\n",
    "\n",
    "            cols['y'] = df['y'] + noise\n",
    "            cols['t'] = df['t']\n",
    "\n",
    "            df_noise_added = pd.DataFrame(cols)\n",
    "            df_noise_added.to_csv(f'split_cutting_tests_processed/{folder}/{file[:-4]}_noise_added.csv')\n"
   ]
  },
  {
   "cell_type": "code",
   "execution_count": 8,
   "id": "040c67d8",
   "metadata": {
    "id": "040c67d8",
    "scrolled": true
   },
   "outputs": [],
   "source": [
    "# list_of_folders = listdir('cutting_tests_processed') # returns a list with the name of the folders inside \"cutting_tests_processed\"\n",
    "# for folder in list_of_folders:\n",
    "#     list_of_files = listdir(f'cutting_tests_processed/{folder}') # returns a list with the name of the files in the folder \"cutting_tests_processed\"\n",
    "#     for file in list_of_files:\n",
    "#         if file[0] != \"u\": # ignores data that has not been categorized by the occurence or not of chatter\n",
    "#             data = sc.loadmat(f'cutting_tests_processed/{folder}/{file}') # reads .mat file\n",
    "#             t = data['tsDS'][:, 0] # takes information from axis x\n",
    "#             y = data['tsDS'][:, 1] # takes information from axis y\n",
    "#             data_df = pd.DataFrame.from_dict(data['tsDS'][:,0])\n",
    "#             # print(\"t =\", t)\n",
    "#             # print(\"y =\", y)\n",
    "        "
   ]
  },
  {
   "cell_type": "code",
   "execution_count": 8,
   "id": "MMoJuq0SGp14",
   "metadata": {
    "id": "MMoJuq0SGp14"
   },
   "outputs": [],
   "source": []
  },
  {
   "cell_type": "code",
   "execution_count": 8,
   "id": "bEUR660XGp5B",
   "metadata": {
    "id": "bEUR660XGp5B"
   },
   "outputs": [],
   "source": []
  },
  {
   "cell_type": "markdown",
   "id": "98753ad5",
   "metadata": {
    "id": "98753ad5"
   },
   "source": [
    "# Exemplos de Funções de Agregação\n",
    "\n",
    "## Domínio do tempo:\n",
    "\n",
    "### Média ($\\mu_x$)\n",
    "\n",
    "$$\\mu_x = \\frac{1}{N}\\sum_{i=0}^{N} x_i$$\n",
    "\n",
    "### Desvio Padrão ($\\sigma_x$)\n",
    "\n",
    "$$\\sigma_x^2 = \\frac{1}{N}\\sum_{i=0}^{N} (x_i - \\mu_x)^2$$\n",
    "\n",
    "### Curtose ($\\kappa_x$)\n",
    "\n",
    "$$\\kappa_x = \\frac{1}{N}\\sum_{i=0}^{N} \\Bigg(\\frac{x_i - \\mu_x}{\\sigma_x}\\Bigg)^4$$\n",
    "\n",
    "### Distorção ($\\gamma_x$)\n",
    "\n",
    "$$\\gamma_x = \\frac{1}{N}\\sum_{i=0}^{N} \\Bigg(\\frac{x_i - \\mu_x}{\\sigma_x}\\Bigg)^3$$\n",
    "\n",
    "### Amplitude Pico a Pico ($x_{ppv}$)\n",
    "\n",
    "$$x_{ppv} = max(x_i) - min(x_i)$$\n",
    "\n",
    "### Valor Quadrático Médio ($x_{rms}$)\n",
    "\n",
    "$$x_{rms} = \\Bigg(\\frac{1}{N}\\sum_{i=0}^{N} x_i^2\\Bigg)^{1/2} $$\n",
    "\n",
    "### Raiz Quadrada da Amplitude ($x_{sra}$)\n",
    "\n",
    "$$x_{sra} = \\Bigg(\\frac{1}{N}\\sum_{i=0}^{N} \\sqrt{\\left |x_i  \\right |}\\Bigg)^2$$\n",
    "\n",
    "### Fator de Crista ($x_{cf}$)\n",
    "\n",
    "$$x_{cf} = \\frac{max(\\left | x_i \\right |)}{x_{rms}}$$\n",
    "\n",
    "### Fator de Impulso ($x_{if}$)\n",
    "\n",
    "$$x_{if} = \\frac{max(\\left | x_i \\right |)}{\\frac{1}{N}\\sum_{i=0}^{N} \\left |x_i  \\right |}$$\n",
    "\n",
    "### Fator de Margem ($x_{mf}$)\n",
    "\n",
    "$$x_{mf} = \\frac{max(\\left | x_i \\right |)}{x_{sra}}$$\n",
    "\n",
    "### Fator de Curtose ($x_{kf}$)\n",
    "\n",
    "$$x_{kf} = \\frac{\\kappa_x}{x_{rms}^4}$$\n",
    "\n",
    "\n",
    "## Domínio da Frequência:\n",
    "\n",
    "### Média ($\\mu_x$)\n",
    "\n",
    "$$\\mu_X = \\frac{1}{N}\\sum_{i=0}^{N} X_i$$\n",
    "\n",
    "### Desvio Padrão ($\\sigma_x$)\n",
    "\n",
    "$$\\sigma_X^2 = \\frac{1}{N}\\sum_{i=0}^{N} (X_i - \\mu_X)^2$$\n",
    "\n",
    "### Valor Quadrático Médio ($x_{rms}$)\n",
    "\n",
    "$$x_{rms} = \\Bigg(\\frac{1}{N}\\sum_{i=0}^{N} X_i^2\\Bigg)^{1/2} $$\n",
    "\n",
    "### Valor de Pico\n",
    "\n",
    "$$max(X)$$\n",
    "\n",
    "### Frequência do Pico\n",
    "\n",
    "$$f \\space para \\space quando \\space max(X) \\space é \\space verdadeiro $$\n",
    "\n",
    "## Categorias:\n",
    "\n",
    "### Label 1\n",
    "\n",
    "Nome da pasta\n",
    "\n",
    "### Label 2\n",
    "\n",
    "Primeira letra do nome do arquivo"
   ]
  },
  {
   "cell_type": "code",
   "execution_count": 8,
   "id": "48681bea",
   "metadata": {
    "id": "48681bea"
   },
   "outputs": [],
   "source": []
  }
 ],
 "metadata": {
  "colab": {
   "provenance": []
  },
  "kernelspec": {
   "display_name": "Python 3.9.4 64-bit",
   "language": "python",
   "name": "python3"
  },
  "language_info": {
   "codemirror_mode": {
    "name": "ipython",
    "version": 3
   },
   "file_extension": ".py",
   "mimetype": "text/x-python",
   "name": "python",
   "nbconvert_exporter": "python",
   "pygments_lexer": "ipython3",
   "version": "3.9.4"
  },
  "vscode": {
   "interpreter": {
    "hash": "1d1e006576485885fb2fda865a3a5c1ff58f4b5b8d8819df6e7d00271f0fe765"
   }
  }
 },
 "nbformat": 4,
 "nbformat_minor": 5
}
