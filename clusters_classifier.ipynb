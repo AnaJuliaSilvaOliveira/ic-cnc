{
 "cells": [
  {
   "cell_type": "code",
   "execution_count": 14,
   "metadata": {},
   "outputs": [],
   "source": [
    "from numpy import where\n",
    "import pandas as pd\n",
    "from sklearn.datasets import make_classification\n",
    "# from pycaret.clustering import *\n",
    "from sklearn.cluster import KMeans\n",
    "from sklearn.preprocessing import LabelEncoder\n",
    "import seaborn as sns\n",
    "import matplotlib.pyplot as plt\n",
    "import plotly as py\n",
    "import plotly.graph_objs as go\n",
    "\n",
    "le = LabelEncoder()"
   ]
  },
  {
   "cell_type": "code",
   "execution_count": 9,
   "metadata": {},
   "outputs": [
    {
     "data": {
      "text/html": [
       "<div>\n",
       "<style scoped>\n",
       "    .dataframe tbody tr th:only-of-type {\n",
       "        vertical-align: middle;\n",
       "    }\n",
       "\n",
       "    .dataframe tbody tr th {\n",
       "        vertical-align: top;\n",
       "    }\n",
       "\n",
       "    .dataframe thead th {\n",
       "        text-align: right;\n",
       "    }\n",
       "</style>\n",
       "<table border=\"1\" class=\"dataframe\">\n",
       "  <thead>\n",
       "    <tr style=\"text-align: right;\">\n",
       "      <th></th>\n",
       "      <th>Unnamed: 0</th>\n",
       "      <th>Experiment</th>\n",
       "      <th>chatter_presence</th>\n",
       "      <th>med</th>\n",
       "      <th>std</th>\n",
       "      <th>rms</th>\n",
       "      <th>curtose</th>\n",
       "      <th>distortion</th>\n",
       "      <th>amplitude</th>\n",
       "      <th>sra</th>\n",
       "      <th>crest</th>\n",
       "      <th>impulse</th>\n",
       "      <th>margin</th>\n",
       "      <th>max</th>\n",
       "      <th>freq_max</th>\n",
       "      <th>freq_sec_highest</th>\n",
       "      <th>fft_mean</th>\n",
       "    </tr>\n",
       "  </thead>\n",
       "  <tbody>\n",
       "    <tr>\n",
       "      <th>0</th>\n",
       "      <td>0</td>\n",
       "      <td>s_320_045_split_1</td>\n",
       "      <td>s</td>\n",
       "      <td>0.005482</td>\n",
       "      <td>0.002285</td>\n",
       "      <td>0.005940</td>\n",
       "      <td>-0.684501</td>\n",
       "      <td>13046.608858</td>\n",
       "      <td>0.019401</td>\n",
       "      <td>0.005217</td>\n",
       "      <td>2.709846</td>\n",
       "      <td>2.934679</td>\n",
       "      <td>3.084994</td>\n",
       "      <td>0.016095</td>\n",
       "      <td>3075.253849</td>\n",
       "      <td>3314.593371</td>\n",
       "      <td>0.617542</td>\n",
       "    </tr>\n",
       "    <tr>\n",
       "      <th>1</th>\n",
       "      <td>1</td>\n",
       "      <td>s_320_015_split_0</td>\n",
       "      <td>s</td>\n",
       "      <td>0.005475</td>\n",
       "      <td>0.002081</td>\n",
       "      <td>0.005857</td>\n",
       "      <td>-0.254890</td>\n",
       "      <td>7052.357014</td>\n",
       "      <td>0.041907</td>\n",
       "      <td>0.005266</td>\n",
       "      <td>4.755544</td>\n",
       "      <td>5.084255</td>\n",
       "      <td>5.289695</td>\n",
       "      <td>0.027854</td>\n",
       "      <td>119.866400</td>\n",
       "      <td>696.665119</td>\n",
       "      <td>0.406478</td>\n",
       "    </tr>\n",
       "    <tr>\n",
       "      <th>2</th>\n",
       "      <td>2</td>\n",
       "      <td>s_320_020_split_3</td>\n",
       "      <td>s</td>\n",
       "      <td>0.005492</td>\n",
       "      <td>0.001971</td>\n",
       "      <td>0.005835</td>\n",
       "      <td>-1.170823</td>\n",
       "      <td>8819.340916</td>\n",
       "      <td>0.010459</td>\n",
       "      <td>0.005303</td>\n",
       "      <td>1.792693</td>\n",
       "      <td>1.904703</td>\n",
       "      <td>1.972551</td>\n",
       "      <td>0.010460</td>\n",
       "      <td>-119.598804</td>\n",
       "      <td>-1207.787922</td>\n",
       "      <td>0.159834</td>\n",
       "    </tr>\n",
       "    <tr>\n",
       "      <th>3</th>\n",
       "      <td>3</td>\n",
       "      <td>c_770_005_split_3</td>\n",
       "      <td>c</td>\n",
       "      <td>0.005414</td>\n",
       "      <td>0.040638</td>\n",
       "      <td>0.040996</td>\n",
       "      <td>0.898666</td>\n",
       "      <td>4733.248435</td>\n",
       "      <td>0.416909</td>\n",
       "      <td>0.026842</td>\n",
       "      <td>5.159852</td>\n",
       "      <td>6.625808</td>\n",
       "      <td>7.880688</td>\n",
       "      <td>0.205375</td>\n",
       "      <td>-945.862463</td>\n",
       "      <td>-845.862907</td>\n",
       "      <td>6.028744</td>\n",
       "    </tr>\n",
       "    <tr>\n",
       "      <th>4</th>\n",
       "      <td>4</td>\n",
       "      <td>c_770_002_split_0</td>\n",
       "      <td>c</td>\n",
       "      <td>0.005469</td>\n",
       "      <td>0.014140</td>\n",
       "      <td>0.015160</td>\n",
       "      <td>3.312443</td>\n",
       "      <td>1899.488742</td>\n",
       "      <td>0.160458</td>\n",
       "      <td>0.008789</td>\n",
       "      <td>5.493718</td>\n",
       "      <td>7.627771</td>\n",
       "      <td>9.475498</td>\n",
       "      <td>0.077174</td>\n",
       "      <td>933.575105</td>\n",
       "      <td>959.974401</td>\n",
       "      <td>1.305385</td>\n",
       "    </tr>\n",
       "  </tbody>\n",
       "</table>\n",
       "</div>"
      ],
      "text/plain": [
       "   Unnamed: 0         Experiment chatter_presence       med       std  \\\n",
       "0           0  s_320_045_split_1                s  0.005482  0.002285   \n",
       "1           1  s_320_015_split_0                s  0.005475  0.002081   \n",
       "2           2  s_320_020_split_3                s  0.005492  0.001971   \n",
       "3           3  c_770_005_split_3                c  0.005414  0.040638   \n",
       "4           4  c_770_002_split_0                c  0.005469  0.014140   \n",
       "\n",
       "        rms   curtose    distortion  amplitude       sra     crest   impulse  \\\n",
       "0  0.005940 -0.684501  13046.608858   0.019401  0.005217  2.709846  2.934679   \n",
       "1  0.005857 -0.254890   7052.357014   0.041907  0.005266  4.755544  5.084255   \n",
       "2  0.005835 -1.170823   8819.340916   0.010459  0.005303  1.792693  1.904703   \n",
       "3  0.040996  0.898666   4733.248435   0.416909  0.026842  5.159852  6.625808   \n",
       "4  0.015160  3.312443   1899.488742   0.160458  0.008789  5.493718  7.627771   \n",
       "\n",
       "     margin       max     freq_max  freq_sec_highest  fft_mean  \n",
       "0  3.084994  0.016095  3075.253849       3314.593371  0.617542  \n",
       "1  5.289695  0.027854   119.866400        696.665119  0.406478  \n",
       "2  1.972551  0.010460  -119.598804      -1207.787922  0.159834  \n",
       "3  7.880688  0.205375  -945.862463       -845.862907  6.028744  \n",
       "4  9.475498  0.077174   933.575105        959.974401  1.305385  "
      ]
     },
     "execution_count": 9,
     "metadata": {},
     "output_type": "execute_result"
    }
   ],
   "source": [
    "df = pd.read_csv('for_clustering_math_outputs.csv')\n",
    "df.head()"
   ]
  },
  {
   "cell_type": "code",
   "execution_count": 11,
   "metadata": {},
   "outputs": [
    {
     "data": {
      "text/html": [
       "<div>\n",
       "<style scoped>\n",
       "    .dataframe tbody tr th:only-of-type {\n",
       "        vertical-align: middle;\n",
       "    }\n",
       "\n",
       "    .dataframe tbody tr th {\n",
       "        vertical-align: top;\n",
       "    }\n",
       "\n",
       "    .dataframe thead th {\n",
       "        text-align: right;\n",
       "    }\n",
       "</style>\n",
       "<table border=\"1\" class=\"dataframe\">\n",
       "  <thead>\n",
       "    <tr style=\"text-align: right;\">\n",
       "      <th></th>\n",
       "      <th>Unnamed: 0</th>\n",
       "      <th>Experiment</th>\n",
       "      <th>chatter_presence</th>\n",
       "      <th>med</th>\n",
       "      <th>std</th>\n",
       "      <th>rms</th>\n",
       "      <th>curtose</th>\n",
       "      <th>distortion</th>\n",
       "      <th>amplitude</th>\n",
       "      <th>sra</th>\n",
       "      <th>crest</th>\n",
       "      <th>impulse</th>\n",
       "      <th>margin</th>\n",
       "      <th>max</th>\n",
       "      <th>freq_max</th>\n",
       "      <th>freq_sec_highest</th>\n",
       "      <th>fft_mean</th>\n",
       "    </tr>\n",
       "  </thead>\n",
       "  <tbody>\n",
       "    <tr>\n",
       "      <th>0</th>\n",
       "      <td>0</td>\n",
       "      <td>s_320_045_split_1</td>\n",
       "      <td>2</td>\n",
       "      <td>0.005482</td>\n",
       "      <td>0.002285</td>\n",
       "      <td>0.005940</td>\n",
       "      <td>-0.684501</td>\n",
       "      <td>13046.608858</td>\n",
       "      <td>0.019401</td>\n",
       "      <td>0.005217</td>\n",
       "      <td>2.709846</td>\n",
       "      <td>2.934679</td>\n",
       "      <td>3.084994</td>\n",
       "      <td>0.016095</td>\n",
       "      <td>3075.253849</td>\n",
       "      <td>3314.593371</td>\n",
       "      <td>0.617542</td>\n",
       "    </tr>\n",
       "    <tr>\n",
       "      <th>1</th>\n",
       "      <td>1</td>\n",
       "      <td>s_320_015_split_0</td>\n",
       "      <td>2</td>\n",
       "      <td>0.005475</td>\n",
       "      <td>0.002081</td>\n",
       "      <td>0.005857</td>\n",
       "      <td>-0.254890</td>\n",
       "      <td>7052.357014</td>\n",
       "      <td>0.041907</td>\n",
       "      <td>0.005266</td>\n",
       "      <td>4.755544</td>\n",
       "      <td>5.084255</td>\n",
       "      <td>5.289695</td>\n",
       "      <td>0.027854</td>\n",
       "      <td>119.866400</td>\n",
       "      <td>696.665119</td>\n",
       "      <td>0.406478</td>\n",
       "    </tr>\n",
       "    <tr>\n",
       "      <th>2</th>\n",
       "      <td>2</td>\n",
       "      <td>s_320_020_split_3</td>\n",
       "      <td>2</td>\n",
       "      <td>0.005492</td>\n",
       "      <td>0.001971</td>\n",
       "      <td>0.005835</td>\n",
       "      <td>-1.170823</td>\n",
       "      <td>8819.340916</td>\n",
       "      <td>0.010459</td>\n",
       "      <td>0.005303</td>\n",
       "      <td>1.792693</td>\n",
       "      <td>1.904703</td>\n",
       "      <td>1.972551</td>\n",
       "      <td>0.010460</td>\n",
       "      <td>-119.598804</td>\n",
       "      <td>-1207.787922</td>\n",
       "      <td>0.159834</td>\n",
       "    </tr>\n",
       "    <tr>\n",
       "      <th>3</th>\n",
       "      <td>3</td>\n",
       "      <td>c_770_005_split_3</td>\n",
       "      <td>0</td>\n",
       "      <td>0.005414</td>\n",
       "      <td>0.040638</td>\n",
       "      <td>0.040996</td>\n",
       "      <td>0.898666</td>\n",
       "      <td>4733.248435</td>\n",
       "      <td>0.416909</td>\n",
       "      <td>0.026842</td>\n",
       "      <td>5.159852</td>\n",
       "      <td>6.625808</td>\n",
       "      <td>7.880688</td>\n",
       "      <td>0.205375</td>\n",
       "      <td>-945.862463</td>\n",
       "      <td>-845.862907</td>\n",
       "      <td>6.028744</td>\n",
       "    </tr>\n",
       "    <tr>\n",
       "      <th>4</th>\n",
       "      <td>4</td>\n",
       "      <td>c_770_002_split_0</td>\n",
       "      <td>0</td>\n",
       "      <td>0.005469</td>\n",
       "      <td>0.014140</td>\n",
       "      <td>0.015160</td>\n",
       "      <td>3.312443</td>\n",
       "      <td>1899.488742</td>\n",
       "      <td>0.160458</td>\n",
       "      <td>0.008789</td>\n",
       "      <td>5.493718</td>\n",
       "      <td>7.627771</td>\n",
       "      <td>9.475498</td>\n",
       "      <td>0.077174</td>\n",
       "      <td>933.575105</td>\n",
       "      <td>959.974401</td>\n",
       "      <td>1.305385</td>\n",
       "    </tr>\n",
       "  </tbody>\n",
       "</table>\n",
       "</div>"
      ],
      "text/plain": [
       "   Unnamed: 0         Experiment  chatter_presence       med       std  \\\n",
       "0           0  s_320_045_split_1                 2  0.005482  0.002285   \n",
       "1           1  s_320_015_split_0                 2  0.005475  0.002081   \n",
       "2           2  s_320_020_split_3                 2  0.005492  0.001971   \n",
       "3           3  c_770_005_split_3                 0  0.005414  0.040638   \n",
       "4           4  c_770_002_split_0                 0  0.005469  0.014140   \n",
       "\n",
       "        rms   curtose    distortion  amplitude       sra     crest   impulse  \\\n",
       "0  0.005940 -0.684501  13046.608858   0.019401  0.005217  2.709846  2.934679   \n",
       "1  0.005857 -0.254890   7052.357014   0.041907  0.005266  4.755544  5.084255   \n",
       "2  0.005835 -1.170823   8819.340916   0.010459  0.005303  1.792693  1.904703   \n",
       "3  0.040996  0.898666   4733.248435   0.416909  0.026842  5.159852  6.625808   \n",
       "4  0.015160  3.312443   1899.488742   0.160458  0.008789  5.493718  7.627771   \n",
       "\n",
       "     margin       max     freq_max  freq_sec_highest  fft_mean  \n",
       "0  3.084994  0.016095  3075.253849       3314.593371  0.617542  \n",
       "1  5.289695  0.027854   119.866400        696.665119  0.406478  \n",
       "2  1.972551  0.010460  -119.598804      -1207.787922  0.159834  \n",
       "3  7.880688  0.205375  -945.862463       -845.862907  6.028744  \n",
       "4  9.475498  0.077174   933.575105        959.974401  1.305385  "
      ]
     },
     "execution_count": 11,
     "metadata": {},
     "output_type": "execute_result"
    }
   ],
   "source": [
    "df['chatter_presence'] = le.fit_transform(df['chatter_presence'])\n",
    "df.head() # s = 2; c = 0; i = 1"
   ]
  },
  {
   "cell_type": "code",
   "execution_count": 16,
   "metadata": {},
   "outputs": [],
   "source": [
    "X = df[['chatter_presence', 'freq_max']]"
   ]
  },
  {
   "cell_type": "code",
   "execution_count": 17,
   "metadata": {},
   "outputs": [
    {
     "name": "stderr",
     "output_type": "stream",
     "text": [
      "/home/naju/.local/lib/python3.10/site-packages/sklearn/cluster/_kmeans.py:870: FutureWarning: The default value of `n_init` will change from 10 to 'auto' in 1.4. Set the value of `n_init` explicitly to suppress the warning\n",
      "  warnings.warn(\n"
     ]
    }
   ],
   "source": [
    "kmeans = KMeans(n_clusters = 2, init = 'k-means++', random_state = 42)\n",
    "y_kmeans = kmeans.fit_predict(X)"
   ]
  },
  {
   "cell_type": "code",
   "execution_count": 19,
   "metadata": {},
   "outputs": [
    {
     "name": "stderr",
     "output_type": "stream",
     "text": [
      "/home/naju/.local/lib/python3.10/site-packages/sklearn/cluster/_kmeans.py:870: FutureWarning: The default value of `n_init` will change from 10 to 'auto' in 1.4. Set the value of `n_init` explicitly to suppress the warning\n",
      "  warnings.warn(\n",
      "/home/naju/.local/lib/python3.10/site-packages/sklearn/cluster/_kmeans.py:870: FutureWarning: The default value of `n_init` will change from 10 to 'auto' in 1.4. Set the value of `n_init` explicitly to suppress the warning\n",
      "  warnings.warn(\n",
      "/home/naju/.local/lib/python3.10/site-packages/sklearn/cluster/_kmeans.py:870: FutureWarning: The default value of `n_init` will change from 10 to 'auto' in 1.4. Set the value of `n_init` explicitly to suppress the warning\n",
      "  warnings.warn(\n",
      "/home/naju/.local/lib/python3.10/site-packages/sklearn/cluster/_kmeans.py:870: FutureWarning: The default value of `n_init` will change from 10 to 'auto' in 1.4. Set the value of `n_init` explicitly to suppress the warning\n",
      "  warnings.warn(\n",
      "/home/naju/.local/lib/python3.10/site-packages/sklearn/cluster/_kmeans.py:870: FutureWarning: The default value of `n_init` will change from 10 to 'auto' in 1.4. Set the value of `n_init` explicitly to suppress the warning\n",
      "  warnings.warn(\n",
      "/home/naju/.local/lib/python3.10/site-packages/sklearn/cluster/_kmeans.py:870: FutureWarning: The default value of `n_init` will change from 10 to 'auto' in 1.4. Set the value of `n_init` explicitly to suppress the warning\n",
      "  warnings.warn(\n",
      "/home/naju/.local/lib/python3.10/site-packages/sklearn/cluster/_kmeans.py:870: FutureWarning: The default value of `n_init` will change from 10 to 'auto' in 1.4. Set the value of `n_init` explicitly to suppress the warning\n",
      "  warnings.warn(\n",
      "/home/naju/.local/lib/python3.10/site-packages/sklearn/cluster/_kmeans.py:870: FutureWarning: The default value of `n_init` will change from 10 to 'auto' in 1.4. Set the value of `n_init` explicitly to suppress the warning\n",
      "  warnings.warn(\n",
      "/home/naju/.local/lib/python3.10/site-packages/sklearn/cluster/_kmeans.py:870: FutureWarning: The default value of `n_init` will change from 10 to 'auto' in 1.4. Set the value of `n_init` explicitly to suppress the warning\n",
      "  warnings.warn(\n",
      "/home/naju/.local/lib/python3.10/site-packages/sklearn/cluster/_kmeans.py:870: FutureWarning: The default value of `n_init` will change from 10 to 'auto' in 1.4. Set the value of `n_init` explicitly to suppress the warning\n",
      "  warnings.warn(\n"
     ]
    },
    {
     "data": {
      "text/plain": [
       "Text(0, 0.5, 'WCSS')"
      ]
     },
     "execution_count": 19,
     "metadata": {},
     "output_type": "execute_result"
    },
    {
     "data": {
      "image/png": "[encoded data removed]",
      "text/plain": [
       "<Figure size 640x480 with 1 Axes>"
      ]
     },
     "metadata": {},
     "output_type": "display_data"
    }
   ],
   "source": [
    "wcss = []\n",
    "for i in range(1, 11):\n",
    "    kmeans = KMeans(n_clusters = i, init = 'k-means++', random_state = 42)\n",
    "    kmeans.fit(X)\n",
    "    wcss.append(kmeans.inertia_)\n",
    "plt.plot(range(1, 11), wcss)\n",
    "plt.xlabel('Número de clusters')\n",
    "plt.ylabel('WCSS')"
   ]
  },
  {
   "cell_type": "code",
   "execution_count": 22,
   "metadata": {},
   "outputs": [
    {
     "data": {
      "text/html": [
       "<div>\n",
       "<style scoped>\n",
       "    .dataframe tbody tr th:only-of-type {\n",
       "        vertical-align: middle;\n",
       "    }\n",
       "\n",
       "    .dataframe tbody tr th {\n",
       "        vertical-align: top;\n",
       "    }\n",
       "\n",
       "    .dataframe thead th {\n",
       "        text-align: right;\n",
       "    }\n",
       "</style>\n",
       "<table border=\"1\" class=\"dataframe\">\n",
       "  <thead>\n",
       "    <tr style=\"text-align: right;\">\n",
       "      <th></th>\n",
       "      <th>Unnamed: 0</th>\n",
       "      <th>Experiment</th>\n",
       "      <th>chatter_presence</th>\n",
       "      <th>med</th>\n",
       "      <th>std</th>\n",
       "      <th>rms</th>\n",
       "      <th>curtose</th>\n",
       "      <th>distortion</th>\n",
       "      <th>amplitude</th>\n",
       "      <th>sra</th>\n",
       "      <th>crest</th>\n",
       "      <th>impulse</th>\n",
       "      <th>margin</th>\n",
       "      <th>max</th>\n",
       "      <th>freq_max</th>\n",
       "      <th>freq_sec_highest</th>\n",
       "      <th>fft_mean</th>\n",
       "      <th>cluster</th>\n",
       "    </tr>\n",
       "  </thead>\n",
       "  <tbody>\n",
       "    <tr>\n",
       "      <th>0</th>\n",
       "      <td>0</td>\n",
       "      <td>s_320_045_split_1</td>\n",
       "      <td>2</td>\n",
       "      <td>0.005482</td>\n",
       "      <td>0.002285</td>\n",
       "      <td>0.005940</td>\n",
       "      <td>-0.684501</td>\n",
       "      <td>13046.608858</td>\n",
       "      <td>0.019401</td>\n",
       "      <td>0.005217</td>\n",
       "      <td>2.709846</td>\n",
       "      <td>2.934679</td>\n",
       "      <td>3.084994</td>\n",
       "      <td>0.016095</td>\n",
       "      <td>3075.253849</td>\n",
       "      <td>3314.593371</td>\n",
       "      <td>0.617542</td>\n",
       "      <td>1</td>\n",
       "    </tr>\n",
       "    <tr>\n",
       "      <th>1</th>\n",
       "      <td>1</td>\n",
       "      <td>s_320_015_split_0</td>\n",
       "      <td>2</td>\n",
       "      <td>0.005475</td>\n",
       "      <td>0.002081</td>\n",
       "      <td>0.005857</td>\n",
       "      <td>-0.254890</td>\n",
       "      <td>7052.357014</td>\n",
       "      <td>0.041907</td>\n",
       "      <td>0.005266</td>\n",
       "      <td>4.755544</td>\n",
       "      <td>5.084255</td>\n",
       "      <td>5.289695</td>\n",
       "      <td>0.027854</td>\n",
       "      <td>119.866400</td>\n",
       "      <td>696.665119</td>\n",
       "      <td>0.406478</td>\n",
       "      <td>0</td>\n",
       "    </tr>\n",
       "    <tr>\n",
       "      <th>2</th>\n",
       "      <td>2</td>\n",
       "      <td>s_320_020_split_3</td>\n",
       "      <td>2</td>\n",
       "      <td>0.005492</td>\n",
       "      <td>0.001971</td>\n",
       "      <td>0.005835</td>\n",
       "      <td>-1.170823</td>\n",
       "      <td>8819.340916</td>\n",
       "      <td>0.010459</td>\n",
       "      <td>0.005303</td>\n",
       "      <td>1.792693</td>\n",
       "      <td>1.904703</td>\n",
       "      <td>1.972551</td>\n",
       "      <td>0.010460</td>\n",
       "      <td>-119.598804</td>\n",
       "      <td>-1207.787922</td>\n",
       "      <td>0.159834</td>\n",
       "      <td>0</td>\n",
       "    </tr>\n",
       "    <tr>\n",
       "      <th>3</th>\n",
       "      <td>3</td>\n",
       "      <td>c_770_005_split_3</td>\n",
       "      <td>0</td>\n",
       "      <td>0.005414</td>\n",
       "      <td>0.040638</td>\n",
       "      <td>0.040996</td>\n",
       "      <td>0.898666</td>\n",
       "      <td>4733.248435</td>\n",
       "      <td>0.416909</td>\n",
       "      <td>0.026842</td>\n",
       "      <td>5.159852</td>\n",
       "      <td>6.625808</td>\n",
       "      <td>7.880688</td>\n",
       "      <td>0.205375</td>\n",
       "      <td>-945.862463</td>\n",
       "      <td>-845.862907</td>\n",
       "      <td>6.028744</td>\n",
       "      <td>0</td>\n",
       "    </tr>\n",
       "    <tr>\n",
       "      <th>4</th>\n",
       "      <td>4</td>\n",
       "      <td>c_770_002_split_0</td>\n",
       "      <td>0</td>\n",
       "      <td>0.005469</td>\n",
       "      <td>0.014140</td>\n",
       "      <td>0.015160</td>\n",
       "      <td>3.312443</td>\n",
       "      <td>1899.488742</td>\n",
       "      <td>0.160458</td>\n",
       "      <td>0.008789</td>\n",
       "      <td>5.493718</td>\n",
       "      <td>7.627771</td>\n",
       "      <td>9.475498</td>\n",
       "      <td>0.077174</td>\n",
       "      <td>933.575105</td>\n",
       "      <td>959.974401</td>\n",
       "      <td>1.305385</td>\n",
       "      <td>1</td>\n",
       "    </tr>\n",
       "  </tbody>\n",
       "</table>\n",
       "</div>"
      ],
      "text/plain": [
       "   Unnamed: 0         Experiment  chatter_presence       med       std  \\\n",
       "0           0  s_320_045_split_1                 2  0.005482  0.002285   \n",
       "1           1  s_320_015_split_0                 2  0.005475  0.002081   \n",
       "2           2  s_320_020_split_3                 2  0.005492  0.001971   \n",
       "3           3  c_770_005_split_3                 0  0.005414  0.040638   \n",
       "4           4  c_770_002_split_0                 0  0.005469  0.014140   \n",
       "\n",
       "        rms   curtose    distortion  amplitude       sra     crest   impulse  \\\n",
       "0  0.005940 -0.684501  13046.608858   0.019401  0.005217  2.709846  2.934679   \n",
       "1  0.005857 -0.254890   7052.357014   0.041907  0.005266  4.755544  5.084255   \n",
       "2  0.005835 -1.170823   8819.340916   0.010459  0.005303  1.792693  1.904703   \n",
       "3  0.040996  0.898666   4733.248435   0.416909  0.026842  5.159852  6.625808   \n",
       "4  0.015160  3.312443   1899.488742   0.160458  0.008789  5.493718  7.627771   \n",
       "\n",
       "     margin       max     freq_max  freq_sec_highest  fft_mean  cluster  \n",
       "0  3.084994  0.016095  3075.253849       3314.593371  0.617542        1  \n",
       "1  5.289695  0.027854   119.866400        696.665119  0.406478        0  \n",
       "2  1.972551  0.010460  -119.598804      -1207.787922  0.159834        0  \n",
       "3  7.880688  0.205375  -945.862463       -845.862907  6.028744        0  \n",
       "4  9.475498  0.077174   933.575105        959.974401  1.305385        1  "
      ]
     },
     "execution_count": 22,
     "metadata": {},
     "output_type": "execute_result"
    }
   ],
   "source": [
    "df['cluster'] = y_kmeans\n",
    "df.head()"
   ]
  },
  {
   "cell_type": "code",
   "execution_count": 23,
   "metadata": {},
   "outputs": [
    {
     "data": {
      "text/plain": [
       "0    202\n",
       "1    162\n",
       "Name: cluster, dtype: int64"
      ]
     },
     "execution_count": 23,
     "metadata": {},
     "output_type": "execute_result"
    }
   ],
   "source": [
    "df.cluster.value_counts()"
   ]
  },
  {
   "cell_type": "code",
   "execution_count": 24,
   "metadata": {},
   "outputs": [],
   "source": [
    "df.to_csv('kmeans_output.csv')"
   ]
  },
  {
   "attachments": {},
   "cell_type": "markdown",
   "metadata": {},
   "source": [
    "# ."
   ]
  },
  {
   "cell_type": "code",
   "execution_count": 3,
   "metadata": {},
   "outputs": [
    {
     "ename": "NameError",
     "evalue": "name 'setup' is not defined",
     "output_type": "error",
     "traceback": [
      "\u001b[0;31m---------------------------------------------------------------------------\u001b[0m",
      "\u001b[0;31mNameError\u001b[0m                                 Traceback (most recent call last)",
      "Cell \u001b[0;32mIn[3], line 1\u001b[0m\n\u001b[0;32m----> 1\u001b[0m exp_clu101 \u001b[39m=\u001b[39m setup(df, normalize\u001b[39m=\u001b[39m\u001b[39mTrue\u001b[39;00m, ignore_features\u001b[39m=\u001b[39m[\u001b[39m'\u001b[39m\u001b[39mUnnamed: 0\u001b[39m\u001b[39m'\u001b[39m, \u001b[39m'\u001b[39m\u001b[39mExperiment\u001b[39m\u001b[39m'\u001b[39m], session_id\u001b[39m=\u001b[39m\u001b[39m123\u001b[39m)\n",
      "\u001b[0;31mNameError\u001b[0m: name 'setup' is not defined"
     ]
    }
   ],
   "source": [
    "exp_clu101 = setup(df, normalize=True, ignore_features=['Unnamed: 0', 'Experiment'], session_id=123)"
   ]
  },
  {
   "cell_type": "code",
   "execution_count": null,
   "metadata": {},
   "outputs": [
    {
     "data": {
      "text/html": [
       "<style type=\"text/css\">\n",
       "</style>\n",
       "<table id=\"T_ed478\">\n",
       "  <thead>\n",
       "    <tr>\n",
       "      <th class=\"blank level0\" >&nbsp;</th>\n",
       "      <th id=\"T_ed478_level0_col0\" class=\"col_heading level0 col0\" >Silhouette</th>\n",
       "      <th id=\"T_ed478_level0_col1\" class=\"col_heading level0 col1\" >Calinski-Harabasz</th>\n",
       "      <th id=\"T_ed478_level0_col2\" class=\"col_heading level0 col2\" >Davies-Bouldin</th>\n",
       "      <th id=\"T_ed478_level0_col3\" class=\"col_heading level0 col3\" >Homogeneity</th>\n",
       "      <th id=\"T_ed478_level0_col4\" class=\"col_heading level0 col4\" >Rand Index</th>\n",
       "      <th id=\"T_ed478_level0_col5\" class=\"col_heading level0 col5\" >Completeness</th>\n",
       "    </tr>\n",
       "  </thead>\n",
       "  <tbody>\n",
       "    <tr>\n",
       "      <th id=\"T_ed478_level0_row0\" class=\"row_heading level0 row0\" >0</th>\n",
       "      <td id=\"T_ed478_row0_col0\" class=\"data row0 col0\" >0.5212</td>\n",
       "      <td id=\"T_ed478_row0_col1\" class=\"data row0 col1\" >172.3797</td>\n",
       "      <td id=\"T_ed478_row0_col2\" class=\"data row0 col2\" >1.0858</td>\n",
       "      <td id=\"T_ed478_row0_col3\" class=\"data row0 col3\" >0</td>\n",
       "      <td id=\"T_ed478_row0_col4\" class=\"data row0 col4\" >0</td>\n",
       "      <td id=\"T_ed478_row0_col5\" class=\"data row0 col5\" >0</td>\n",
       "    </tr>\n",
       "  </tbody>\n",
       "</table>\n"
      ],
      "text/plain": [
       "<pandas.io.formats.style.Styler at 0x7f201835b3a0>"
      ]
     },
     "metadata": {},
     "output_type": "display_data"
    }
   ],
   "source": [
    "kmeans = create_model('kmeans', num_clusters = 2)"
   ]
  },
  {
   "cell_type": "code",
   "execution_count": null,
   "metadata": {},
   "outputs": [
    {
     "name": "stdout",
     "output_type": "stream",
     "text": [
      "KMeans(n_clusters=2, random_state=123)\n"
     ]
    }
   ],
   "source": [
    "print(kmeans)"
   ]
  },
  {
   "cell_type": "code",
   "execution_count": null,
   "metadata": {},
   "outputs": [
    {
     "data": {
      "text/html": [
       "<div>\n",
       "<style scoped>\n",
       "    .dataframe tbody tr th:only-of-type {\n",
       "        vertical-align: middle;\n",
       "    }\n",
       "\n",
       "    .dataframe tbody tr th {\n",
       "        vertical-align: top;\n",
       "    }\n",
       "\n",
       "    .dataframe thead th {\n",
       "        text-align: right;\n",
       "    }\n",
       "</style>\n",
       "<table border=\"1\" class=\"dataframe\">\n",
       "  <thead>\n",
       "    <tr style=\"text-align: right;\">\n",
       "      <th></th>\n",
       "      <th>Name</th>\n",
       "      <th>Reference</th>\n",
       "    </tr>\n",
       "    <tr>\n",
       "      <th>ID</th>\n",
       "      <th></th>\n",
       "      <th></th>\n",
       "    </tr>\n",
       "  </thead>\n",
       "  <tbody>\n",
       "    <tr>\n",
       "      <th>kmeans</th>\n",
       "      <td>K-Means Clustering</td>\n",
       "      <td>sklearn.cluster._kmeans.KMeans</td>\n",
       "    </tr>\n",
       "    <tr>\n",
       "      <th>ap</th>\n",
       "      <td>Affinity Propagation</td>\n",
       "      <td>sklearn.cluster._affinity_propagation.Affinity...</td>\n",
       "    </tr>\n",
       "    <tr>\n",
       "      <th>meanshift</th>\n",
       "      <td>Mean Shift Clustering</td>\n",
       "      <td>sklearn.cluster._mean_shift.MeanShift</td>\n",
       "    </tr>\n",
       "    <tr>\n",
       "      <th>sc</th>\n",
       "      <td>Spectral Clustering</td>\n",
       "      <td>sklearn.cluster._spectral.SpectralClustering</td>\n",
       "    </tr>\n",
       "    <tr>\n",
       "      <th>hclust</th>\n",
       "      <td>Agglomerative Clustering</td>\n",
       "      <td>sklearn.cluster._agglomerative.AgglomerativeCl...</td>\n",
       "    </tr>\n",
       "    <tr>\n",
       "      <th>dbscan</th>\n",
       "      <td>Density-Based Spatial Clustering</td>\n",
       "      <td>sklearn.cluster._dbscan.DBSCAN</td>\n",
       "    </tr>\n",
       "    <tr>\n",
       "      <th>optics</th>\n",
       "      <td>OPTICS Clustering</td>\n",
       "      <td>sklearn.cluster._optics.OPTICS</td>\n",
       "    </tr>\n",
       "    <tr>\n",
       "      <th>birch</th>\n",
       "      <td>Birch Clustering</td>\n",
       "      <td>sklearn.cluster._birch.Birch</td>\n",
       "    </tr>\n",
       "  </tbody>\n",
       "</table>\n",
       "</div>"
      ],
      "text/plain": [
       "                                       Name  \\\n",
       "ID                                            \n",
       "kmeans                   K-Means Clustering   \n",
       "ap                     Affinity Propagation   \n",
       "meanshift             Mean Shift Clustering   \n",
       "sc                      Spectral Clustering   \n",
       "hclust             Agglomerative Clustering   \n",
       "dbscan     Density-Based Spatial Clustering   \n",
       "optics                    OPTICS Clustering   \n",
       "birch                      Birch Clustering   \n",
       "\n",
       "                                                   Reference  \n",
       "ID                                                            \n",
       "kmeans                        sklearn.cluster._kmeans.KMeans  \n",
       "ap         sklearn.cluster._affinity_propagation.Affinity...  \n",
       "meanshift              sklearn.cluster._mean_shift.MeanShift  \n",
       "sc              sklearn.cluster._spectral.SpectralClustering  \n",
       "hclust     sklearn.cluster._agglomerative.AgglomerativeCl...  \n",
       "dbscan                        sklearn.cluster._dbscan.DBSCAN  \n",
       "optics                        sklearn.cluster._optics.OPTICS  \n",
       "birch                           sklearn.cluster._birch.Birch  "
      ]
     },
     "execution_count": 61,
     "metadata": {},
     "output_type": "execute_result"
    }
   ],
   "source": [
    "models()"
   ]
  },
  {
   "cell_type": "code",
   "execution_count": null,
   "metadata": {},
   "outputs": [
    {
     "data": {
      "text/html": [
       "<div>\n",
       "<style scoped>\n",
       "    .dataframe tbody tr th:only-of-type {\n",
       "        vertical-align: middle;\n",
       "    }\n",
       "\n",
       "    .dataframe tbody tr th {\n",
       "        vertical-align: top;\n",
       "    }\n",
       "\n",
       "    .dataframe thead th {\n",
       "        text-align: right;\n",
       "    }\n",
       "</style>\n",
       "<table border=\"1\" class=\"dataframe\">\n",
       "  <thead>\n",
       "    <tr style=\"text-align: right;\">\n",
       "      <th></th>\n",
       "      <th>chatter_presence</th>\n",
       "      <th>med</th>\n",
       "      <th>std</th>\n",
       "      <th>rms</th>\n",
       "      <th>curtose</th>\n",
       "      <th>distortion</th>\n",
       "      <th>amplitude</th>\n",
       "      <th>sra</th>\n",
       "      <th>crest</th>\n",
       "      <th>impulse</th>\n",
       "      <th>margin</th>\n",
       "      <th>max</th>\n",
       "      <th>freq_max</th>\n",
       "      <th>freq_sec_highest</th>\n",
       "      <th>fft_mean</th>\n",
       "      <th>Cluster</th>\n",
       "    </tr>\n",
       "  </thead>\n",
       "  <tbody>\n",
       "    <tr>\n",
       "      <th>0</th>\n",
       "      <td>s</td>\n",
       "      <td>0.005482</td>\n",
       "      <td>0.002285</td>\n",
       "      <td>0.005940</td>\n",
       "      <td>-0.684501</td>\n",
       "      <td>13046.608398</td>\n",
       "      <td>0.019401</td>\n",
       "      <td>0.005217</td>\n",
       "      <td>2.709846</td>\n",
       "      <td>2.934680</td>\n",
       "      <td>3.084994</td>\n",
       "      <td>0.016095</td>\n",
       "      <td>3075.253906</td>\n",
       "      <td>3314.593262</td>\n",
       "      <td>0.617542</td>\n",
       "      <td>Cluster 1</td>\n",
       "    </tr>\n",
       "    <tr>\n",
       "      <th>1</th>\n",
       "      <td>s</td>\n",
       "      <td>0.005475</td>\n",
       "      <td>0.002081</td>\n",
       "      <td>0.005857</td>\n",
       "      <td>-0.254890</td>\n",
       "      <td>7052.356934</td>\n",
       "      <td>0.041907</td>\n",
       "      <td>0.005266</td>\n",
       "      <td>4.755545</td>\n",
       "      <td>5.084255</td>\n",
       "      <td>5.289695</td>\n",
       "      <td>0.027854</td>\n",
       "      <td>119.866402</td>\n",
       "      <td>696.665100</td>\n",
       "      <td>0.406478</td>\n",
       "      <td>Cluster 1</td>\n",
       "    </tr>\n",
       "    <tr>\n",
       "      <th>2</th>\n",
       "      <td>s</td>\n",
       "      <td>0.005492</td>\n",
       "      <td>0.001971</td>\n",
       "      <td>0.005835</td>\n",
       "      <td>-1.170823</td>\n",
       "      <td>8819.340820</td>\n",
       "      <td>0.010459</td>\n",
       "      <td>0.005303</td>\n",
       "      <td>1.792693</td>\n",
       "      <td>1.904703</td>\n",
       "      <td>1.972551</td>\n",
       "      <td>0.010460</td>\n",
       "      <td>-119.598801</td>\n",
       "      <td>-1207.787964</td>\n",
       "      <td>0.159834</td>\n",
       "      <td>Cluster 1</td>\n",
       "    </tr>\n",
       "    <tr>\n",
       "      <th>3</th>\n",
       "      <td>c</td>\n",
       "      <td>0.005414</td>\n",
       "      <td>0.040638</td>\n",
       "      <td>0.040996</td>\n",
       "      <td>0.898666</td>\n",
       "      <td>4733.248535</td>\n",
       "      <td>0.416909</td>\n",
       "      <td>0.026842</td>\n",
       "      <td>5.159852</td>\n",
       "      <td>6.625808</td>\n",
       "      <td>7.880688</td>\n",
       "      <td>0.205375</td>\n",
       "      <td>-945.862488</td>\n",
       "      <td>-845.862915</td>\n",
       "      <td>6.028744</td>\n",
       "      <td>Cluster 0</td>\n",
       "    </tr>\n",
       "    <tr>\n",
       "      <th>4</th>\n",
       "      <td>c</td>\n",
       "      <td>0.005469</td>\n",
       "      <td>0.014140</td>\n",
       "      <td>0.015160</td>\n",
       "      <td>3.312443</td>\n",
       "      <td>1899.488770</td>\n",
       "      <td>0.160458</td>\n",
       "      <td>0.008789</td>\n",
       "      <td>5.493718</td>\n",
       "      <td>7.627771</td>\n",
       "      <td>9.475498</td>\n",
       "      <td>0.077174</td>\n",
       "      <td>933.575134</td>\n",
       "      <td>959.974426</td>\n",
       "      <td>1.305385</td>\n",
       "      <td>Cluster 0</td>\n",
       "    </tr>\n",
       "  </tbody>\n",
       "</table>\n",
       "</div>"
      ],
      "text/plain": [
       "  chatter_presence       med       std       rms   curtose    distortion  \\\n",
       "0                s  0.005482  0.002285  0.005940 -0.684501  13046.608398   \n",
       "1                s  0.005475  0.002081  0.005857 -0.254890   7052.356934   \n",
       "2                s  0.005492  0.001971  0.005835 -1.170823   8819.340820   \n",
       "3                c  0.005414  0.040638  0.040996  0.898666   4733.248535   \n",
       "4                c  0.005469  0.014140  0.015160  3.312443   1899.488770   \n",
       "\n",
       "   amplitude       sra     crest   impulse    margin       max     freq_max  \\\n",
       "0   0.019401  0.005217  2.709846  2.934680  3.084994  0.016095  3075.253906   \n",
       "1   0.041907  0.005266  4.755545  5.084255  5.289695  0.027854   119.866402   \n",
       "2   0.010459  0.005303  1.792693  1.904703  1.972551  0.010460  -119.598801   \n",
       "3   0.416909  0.026842  5.159852  6.625808  7.880688  0.205375  -945.862488   \n",
       "4   0.160458  0.008789  5.493718  7.627771  9.475498  0.077174   933.575134   \n",
       "\n",
       "   freq_sec_highest  fft_mean    Cluster  \n",
       "0       3314.593262  0.617542  Cluster 1  \n",
       "1        696.665100  0.406478  Cluster 1  \n",
       "2      -1207.787964  0.159834  Cluster 1  \n",
       "3       -845.862915  6.028744  Cluster 0  \n",
       "4        959.974426  1.305385  Cluster 0  "
      ]
     },
     "execution_count": 62,
     "metadata": {},
     "output_type": "execute_result"
    }
   ],
   "source": [
    "kmean_results = assign_model(kmeans)\n",
    "kmean_results.head()"
   ]
  },
  {
   "cell_type": "code",
   "execution_count": null,
   "metadata": {},
   "outputs": [
    {
     "data": {
      "text/html": [],
      "text/plain": [
       "<IPython.core.display.HTML object>"
      ]
     },
     "metadata": {},
     "output_type": "display_data"
    },
    {
     "data": {
      "application/vnd.plotly.v1+json": {
       "config": {
        "plotlyServerURL": "https://plot.ly"
       },
       "data": [
        {
         "customdata": [
          [
           100
          ],
          [
           52
          ],
          [
           53
          ],
          [
           54
          ],
          [
           152
          ],
          [
           151
          ],
          [
           62
          ],
          [
           63
          ],
          [
           69
          ],
          [
           71
          ],
          [
           144
          ],
          [
           141
          ],
          [
           139
          ],
          [
           78
          ],
          [
           43
          ],
          [
           301
          ],
          [
           132
          ],
          [
           87
          ],
          [
           131
          ],
          [
           128
          ],
          [
           92
          ],
          [
           127
          ],
          [
           96
          ],
          [
           97
          ],
          [
           124
          ],
          [
           101
          ],
          [
           107
          ],
          [
           116
          ],
          [
           115
          ],
          [
           137
          ],
          [
           38
          ],
          [
           55
          ],
          [
           113
          ],
          [
           11
          ],
          [
           24
          ],
          [
           4
          ],
          [
           15
          ],
          [
           28
          ],
          [
           3
          ],
          [
           16
          ]
         ],
         "hovertemplate": "Cluster=Cluster 0<br>PCA1=%{x}<br>PCA2=%{y}<br>Feature=%{customdata[0]}<extra></extra>",
         "legendgroup": "Cluster 0",
         "marker": {
          "color": "#636efa",
          "opacity": 0.5,
          "symbol": "circle"
         },
         "mode": "markers",
         "name": "Cluster 0",
         "orientation": "v",
         "showlegend": true,
         "textposition": "top center",
         "type": "scatter",
         "x": [
          3.7930092263879978,
          5.593164648056265,
          4.908398074737465,
          14.287741204893125,
          12.88693585009203,
          9.60306109377946,
          4.087773518873541,
          4.063610443496239,
          4.196875578660013,
          14.952498378613203,
          3.633246496865305,
          5.580893460976709,
          3.6309064684381185,
          6.02848709984753,
          5.042398515951828,
          3.1056852984077157,
          7.391742397253832,
          3.6114565012584383,
          8.403371240638785,
          4.938091971105082,
          3.78851399345144,
          2.9225236269513766,
          3.8180731130468826,
          5.409344053264213,
          3.99197300762679,
          3.8976874222911366,
          15.110345058125544,
          3.7671440707586794,
          4.301036427166056,
          17.70299287946039,
          6.178737137973255,
          3.746952991787682,
          8.341498194294385,
          5.752055462975942,
          3.994609880690002,
          5.856547865185938,
          3.4920422673578444,
          9.19648453495234,
          13.253196196607751,
          11.456924442685754
         ],
         "xaxis": "x",
         "y": [
          -0.293193765258254,
          0.18936146181771443,
          -1.1078378987197244,
          7.77732952442597,
          0.47698032418118214,
          5.399235890192164,
          -2.6900143828520218,
          -0.5751244173431583,
          0.14513627869928425,
          4.782855943184749,
          -3.3462548254023767,
          -3.6657423438105528,
          -3.4436438814707366,
          -1.6586390611966524,
          2.3073752638165557,
          -1.5168197876646738,
          -1.413193888187339,
          0.3180736883509655,
          -3.7374775558987903,
          0.752018558608971,
          -2.1008184020013587,
          -1.2845673336293286,
          -0.7416420251929458,
          -1.54018678094951,
          1.3893227083204296,
          -3.091777042692997,
          8.385116010723346,
          1.532708081105898,
          -1.798354561152244,
          -7.429836640932882,
          -5.143317156653033,
          0.09802681429110016,
          4.786473696230905,
          -3.9247857179576604,
          1.7694027658578815,
          -1.5882025115444611,
          -3.0891154585021927,
          5.083611230671559,
          5.94450724628585,
          5.244760731350452
         ],
         "yaxis": "y"
        },
        {
         "customdata": [
          [
           214
          ],
          [
           258
          ],
          [
           213
          ],
          [
           264
          ],
          [
           257
          ],
          [
           260
          ],
          [
           261
          ],
          [
           262
          ],
          [
           212
          ],
          [
           211
          ],
          [
           215
          ],
          [
           263
          ],
          [
           259
          ],
          [
           210
          ],
          [
           209
          ],
          [
           203
          ],
          [
           204
          ],
          [
           273
          ],
          [
           272
          ],
          [
           271
          ],
          [
           270
          ],
          [
           269
          ],
          [
           268
          ],
          [
           267
          ],
          [
           205
          ],
          [
           206
          ],
          [
           207
          ],
          [
           266
          ],
          [
           265
          ],
          [
           208
          ],
          [
           256
          ],
          [
           255
          ],
          [
           227
          ],
          [
           226
          ],
          [
           241
          ],
          [
           240
          ],
          [
           239
          ],
          [
           238
          ],
          [
           237
          ],
          [
           224
          ],
          [
           236
          ],
          [
           242
          ],
          [
           235
          ],
          [
           233
          ],
          [
           225
          ],
          [
           232
          ],
          [
           231
          ],
          [
           230
          ],
          [
           229
          ],
          [
           228
          ],
          [
           234
          ],
          [
           216
          ],
          [
           243
          ],
          [
           223
          ],
          [
           254
          ],
          [
           218
          ],
          [
           253
          ],
          [
           252
          ],
          [
           251
          ],
          [
           250
          ],
          [
           249
          ],
          [
           244
          ],
          [
           219
          ],
          [
           221
          ],
          [
           248
          ],
          [
           247
          ],
          [
           246
          ],
          [
           245
          ],
          [
           274
          ],
          [
           222
          ],
          [
           220
          ],
          [
           217
          ],
          [
           0
          ],
          [
           276
          ],
          [
           339
          ],
          [
           338
          ],
          [
           337
          ],
          [
           336
          ],
          [
           335
          ],
          [
           334
          ],
          [
           333
          ],
          [
           332
          ],
          [
           340
          ],
          [
           331
          ],
          [
           329
          ],
          [
           328
          ],
          [
           327
          ],
          [
           326
          ],
          [
           325
          ],
          [
           324
          ],
          [
           323
          ],
          [
           322
          ],
          [
           330
          ],
          [
           321
          ],
          [
           341
          ],
          [
           343
          ],
          [
           361
          ],
          [
           360
          ],
          [
           359
          ],
          [
           358
          ],
          [
           357
          ],
          [
           356
          ],
          [
           355
          ],
          [
           354
          ],
          [
           342
          ],
          [
           353
          ],
          [
           351
          ],
          [
           350
          ],
          [
           349
          ],
          [
           348
          ],
          [
           347
          ],
          [
           346
          ],
          [
           345
          ],
          [
           344
          ],
          [
           352
          ],
          [
           320
          ],
          [
           319
          ],
          [
           318
          ],
          [
           293
          ],
          [
           292
          ],
          [
           291
          ],
          [
           290
          ],
          [
           289
          ],
          [
           288
          ],
          [
           287
          ],
          [
           286
          ],
          [
           294
          ],
          [
           285
          ],
          [
           284
          ],
          [
           283
          ],
          [
           282
          ],
          [
           281
          ],
          [
           280
          ],
          [
           279
          ],
          [
           278
          ],
          [
           277
          ],
          [
           202
          ],
          [
           295
          ],
          [
           296
          ],
          [
           297
          ],
          [
           317
          ],
          [
           316
          ],
          [
           315
          ],
          [
           314
          ],
          [
           313
          ],
          [
           312
          ],
          [
           311
          ],
          [
           310
          ],
          [
           309
          ],
          [
           308
          ],
          [
           307
          ],
          [
           306
          ],
          [
           305
          ],
          [
           304
          ],
          [
           303
          ],
          [
           302
          ],
          [
           300
          ],
          [
           299
          ],
          [
           298
          ],
          [
           275
          ],
          [
           201
          ],
          [
           181
          ],
          [
           199
          ],
          [
           74
          ],
          [
           73
          ],
          [
           72
          ],
          [
           70
          ],
          [
           68
          ],
          [
           67
          ],
          [
           66
          ],
          [
           75
          ],
          [
           65
          ],
          [
           61
          ],
          [
           60
          ],
          [
           59
          ],
          [
           58
          ],
          [
           57
          ],
          [
           56
          ],
          [
           51
          ],
          [
           64
          ],
          [
           50
          ],
          [
           76
          ],
          [
           79
          ],
          [
           99
          ],
          [
           98
          ],
          [
           95
          ],
          [
           94
          ],
          [
           93
          ],
          [
           91
          ],
          [
           90
          ],
          [
           77
          ],
          [
           89
          ],
          [
           86
          ],
          [
           85
          ],
          [
           84
          ],
          [
           83
          ],
          [
           82
          ],
          [
           81
          ],
          [
           80
          ],
          [
           88
          ],
          [
           49
          ],
          [
           48
          ],
          [
           47
          ],
          [
           21
          ],
          [
           20
          ],
          [
           19
          ],
          [
           18
          ],
          [
           17
          ],
          [
           14
          ],
          [
           13
          ],
          [
           22
          ],
          [
           12
          ],
          [
           9
          ],
          [
           8
          ],
          [
           7
          ],
          [
           6
          ],
          [
           5
          ],
          [
           2
          ],
          [
           1
          ],
          [
           10
          ],
          [
           23
          ],
          [
           25
          ],
          [
           26
          ],
          [
           46
          ],
          [
           45
          ],
          [
           44
          ],
          [
           42
          ],
          [
           41
          ],
          [
           40
          ],
          [
           39
          ],
          [
           37
          ],
          [
           36
          ],
          [
           35
          ],
          [
           34
          ],
          [
           33
          ],
          [
           32
          ],
          [
           31
          ],
          [
           30
          ],
          [
           29
          ],
          [
           27
          ],
          [
           102
          ],
          [
           103
          ],
          [
           104
          ],
          [
           105
          ],
          [
           177
          ],
          [
           176
          ],
          [
           175
          ],
          [
           174
          ],
          [
           173
          ],
          [
           172
          ],
          [
           171
          ],
          [
           178
          ],
          [
           170
          ],
          [
           168
          ],
          [
           167
          ],
          [
           166
          ],
          [
           165
          ],
          [
           164
          ],
          [
           163
          ],
          [
           162
          ],
          [
           169
          ],
          [
           179
          ],
          [
           180
          ],
          [
           362
          ],
          [
           198
          ],
          [
           197
          ],
          [
           196
          ],
          [
           195
          ],
          [
           194
          ],
          [
           193
          ],
          [
           192
          ],
          [
           191
          ],
          [
           190
          ],
          [
           189
          ],
          [
           188
          ],
          [
           187
          ],
          [
           186
          ],
          [
           185
          ],
          [
           184
          ],
          [
           183
          ],
          [
           182
          ],
          [
           161
          ],
          [
           200
          ],
          [
           160
          ],
          [
           158
          ],
          [
           126
          ],
          [
           125
          ],
          [
           123
          ],
          [
           122
          ],
          [
           121
          ],
          [
           120
          ],
          [
           119
          ],
          [
           129
          ],
          [
           118
          ],
          [
           114
          ],
          [
           112
          ],
          [
           111
          ],
          [
           110
          ],
          [
           109
          ],
          [
           108
          ],
          [
           106
          ],
          [
           117
          ],
          [
           130
          ],
          [
           133
          ],
          [
           134
          ],
          [
           157
          ],
          [
           156
          ],
          [
           155
          ],
          [
           154
          ],
          [
           153
          ],
          [
           150
          ],
          [
           149
          ],
          [
           148
          ],
          [
           147
          ],
          [
           146
          ],
          [
           145
          ],
          [
           143
          ],
          [
           142
          ],
          [
           140
          ],
          [
           138
          ],
          [
           136
          ],
          [
           135
          ],
          [
           159
          ],
          [
           363
          ]
         ],
         "hovertemplate": "Cluster=Cluster 1<br>PCA1=%{x}<br>PCA2=%{y}<br>Feature=%{customdata[0]}<extra></extra>",
         "legendgroup": "Cluster 1",
         "marker": {
          "color": "#EF553B",
          "opacity": 0.5,
          "symbol": "circle"
         },
         "mode": "markers",
         "name": "Cluster 1",
         "orientation": "v",
         "showlegend": true,
         "textposition": "top center",
         "type": "scatter",
         "x": [
          1.563002679894862,
          0.6131909965882273,
          -1.1880238163720929,
          -1.9131649000053847,
          -2.038401820106676,
          -2.005974395738166,
          -1.783797162505674,
          -1.6893097091188416,
          1.0485073120670698,
          -1.451706988684744,
          -1.1422126311557115,
          -1.4593140075363962,
          -1.250417287615156,
          -1.3668947560419518,
          -0.7510315099330946,
          1.117564871950794,
          -1.462455885568238,
          0.9554942806763258,
          -1.939142794782748,
          -1.2935248888716733,
          -1.031959876599321,
          0.5861276344812567,
          -1.9973579375529404,
          -1.78565857923733,
          -1.5621053561035734,
          0.1879390234649081,
          -1.422871268696337,
          0.5322134917239711,
          -1.6578222598189516,
          -1.8379248523103746,
          -0.747915502043695,
          -0.9773362876028943,
          -0.7613499089105331,
          0.7480279580324202,
          0.7396431286522784,
          -0.4020212254410147,
          -0.3059855569929717,
          -1.1779500653033594,
          -0.6492228727537813,
          -0.8853616658560791,
          -1.3818812127429891,
          0.5724596335352639,
          -1.27195902582618,
          -0.32054529001569165,
          1.1383765412579918,
          -1.2622741712624665,
          0.26836009560211155,
          -0.746857631003074,
          1.3160239707301544,
          0.7291922135280041,
          -1.3584180795079959,
          -1.57829982842563,
          -0.5832590741904328,
          -1.069553835632324,
          -0.8723616469530382,
          -0.46598905964719234,
          -1.8220475509742728,
          -1.6405449301280957,
          -1.3976107461772516,
          -1.4674847540275882,
          1.0404123753563372,
          -1.9697311008549885,
          -0.5850157261981678,
          -1.1610456355694783,
          -1.7305648205184652,
          -1.7066422942949895,
          -2.0356877396741395,
          -1.7316464210281766,
          -0.3653484821874456,
          -0.825259908078983,
          -1.6562193751818264,
          0.19048388273908656,
          -1.5476241002947038,
          -1.284110229258509,
          -1.5987062035353277,
          -1.6791317836778612,
          -2.011536526636961,
          -1.7217247958523036,
          -0.9590446205418557,
          0.8403245298992046,
          -0.7763763937695797,
          1.4981321522102398,
          -1.593559393998633,
          0.44204129808793957,
          -1.639974266038832,
          -2.0251399834900514,
          2.0497728739188465,
          2.001389390737878,
          -1.561132527800011,
          -1.8016051326776124,
          -1.4440280725080603,
          0.10738279227772224,
          -1.6030187357803463,
          -1.717872410696967,
          -1.9284763729150873,
          -0.4104380453579737,
          -1.5851186987301622,
          -0.44445782199270645,
          0.4468649618458622,
          -1.865259319066225,
          -1.7226477160877587,
          -1.6397880275770498,
          -1.5880806171095732,
          -1.187585833444734,
          -1.2435631161287388,
          -1.7555122744936862,
          -1.3883759002509846,
          -1.7078114164625904,
          -0.9360454259699149,
          -0.7786210217330864,
          -1.8247627320006001,
          -1.8956458394700355,
          0.8996294679654006,
          -0.4772212382415606,
          -0.9465645596910642,
          -1.3306070812091333,
          -0.2666749524825059,
          -1.736248899304055,
          1.188890026460032,
          -1.8979168610555623,
          -1.9601647664958006,
          -2.1184436315856003,
          -1.1018440104354108,
          -1.8956591876926414,
          -2.041152031794612,
          -0.9081470345701206,
          -1.5884206136562407,
          0.2272048418927522,
          -1.7253112260590904,
          -1.6839151868738342,
          -1.9915896654746705,
          1.2942955582680968,
          -1.8466404296256922,
          -1.682283479796894,
          -1.7587055838543946,
          -1.7857343214090973,
          0.3703611835806694,
          -0.4155245269070591,
          -1.9174517641400348,
          -0.6947956109820749,
          -1.713983328373147,
          -1.864220044031212,
          0.1692185522960107,
          1.6070953396094563,
          -1.583122418815022,
          -1.080535367056074,
          -0.7817214380235301,
          -0.6936667171603785,
          -0.7265785371695235,
          -0.9241962782084815,
          -1.7673076427955774,
          -0.12094019748721757,
          -1.5686350042299277,
          -2.0075215895973875,
          -1.4232864484153682,
          -1.383203136553548,
          1.7602028315101017,
          -0.7702274557922717,
          -1.443049564179069,
          -1.3118656485276152,
          -0.698294092355134,
          -0.5078368086477602,
          -0.43604900562205645,
          -1.1808212928525952,
          -0.4161163790738634,
          2.2432581090317054,
          -0.18484834262195526,
          -1.772190413485505,
          -1.7123098791316196,
          -1.294115696885721,
          2.3683712999857973,
          -1.2677386180552745,
          -1.7459231694759723,
          -0.782915530394871,
          -0.07558438527216065,
          1.8752568330325532,
          -1.7314757192775148,
          1.8391026191553046,
          0.28929060837033677,
          -1.2819521234073965,
          -1.3424147944145766,
          -1.5472158912503424,
          0.48999811371066293,
          -2.2414217055376215,
          -1.7609468931811363,
          -0.6637784251192475,
          -1.5343264364070055,
          -1.582453891014011,
          -1.504634337883935,
          -1.3034234584239848,
          -1.647164995091202,
          -1.972926461026564,
          -0.9429606204889368,
          -0.42688843505457436,
          -2.183923141439952,
          -2.172058134307993,
          1.2375976153330093,
          -1.077019582963777,
          -1.3027624226644618,
          -1.7159618802097472,
          -0.13099960673963532,
          -1.7875838504649457,
          -0.82471171531322,
          -0.7662798745886079,
          -2.5074314874883776,
          -1.6028936679770664,
          0.7339067504171636,
          -1.1829319699125613,
          -0.24998592490604932,
          -2.135386348978679,
          -1.8136764866250839,
          -1.7151499251461555,
          -2.176909067089253,
          -1.7803379307173042,
          -1.1561523582413349,
          -2.3308129178311674,
          -1.2863667071114513,
          -2.2293042689563456,
          0.1999356579853376,
          -1.2648183225932503,
          -1.4937823113123525,
          0.9342651905202589,
          -0.6317727747770393,
          -1.6298354225949374,
          2.5238007951436012,
          0.48433287265651825,
          -2.0121013307834055,
          0.5632891012771019,
          -1.9678424802943912,
          -0.8666898823758353,
          0.2656292463205109,
          2.759204033416176,
          -1.831433212893061,
          -2.1459103252240137,
          1.6048430587002795,
          -2.080579402487945,
          -2.0366199799439006,
          -1.148045106232955,
          2.5804475366535797,
          -1.4075125370836925,
          -1.6768811711117193,
          -0.90259289321087,
          -1.3654329786165895,
          -0.808304244946476,
          0.7022111979367236,
          -0.7058449070353077,
          0.47876050234554673,
          0.4668878112281667,
          -0.11616160083476502,
          -0.06019405232412614,
          -0.606611744949348,
          0.22776665339097393,
          -0.7602268921434752,
          -1.4656470190017743,
          -0.6363524433202257,
          -0.47014061422607656,
          -1.0318482561921714,
          -1.0788974510817557,
          -1.6067724568571968,
          1.187066065125568,
          -0.7089675795437873,
          -1.5662575954987912,
          1.078541399052943,
          0.32158265201352215,
          -1.2321760206410688,
          -0.6398008940461855,
          -1.0907704473053033,
          -1.4615959331073205,
          -1.4655278411510153,
          -0.8597914099746446,
          -1.435455685893966,
          0.2392736423330315,
          -1.6538490984814123,
          -0.23791237107705082,
          -0.6106493953107677,
          -1.3156658179641922,
          0.8112573367678166,
          -1.4628345012400197,
          -1.5354536251259188,
          -0.4467164425545036,
          -1.3996685592333034,
          -1.0454238633925261,
          -1.227138207945791,
          -1.498915828595433,
          -0.028415225692188954,
          -1.518440985976752,
          -0.3655632344917663,
          -1.2783857142396327,
          1.4736340412931372,
          -1.9374565980731804,
          0.24738774906585204,
          -1.759741050513591,
          -1.819973711971209,
          -1.8964237908479071,
          -1.0759682827993609,
          2.6456681009799095,
          2.0153248995826627,
          -1.6733959968115386,
          -1.3453293018938195,
          -0.7976687797265822,
          -1.8477299770394933,
          0.9336768452512026,
          2.384147352923474,
          -1.6259179894365376,
          -2.3259687404258487,
          -1.5178300272454976,
          -1.2018901061279375,
          1.8973911682174314,
          0.07308323980602077,
          0.14104442871083706,
          -2.330554239974503,
          -1.3697928032305153,
          -1.3234750169286615,
          2.516557669257349,
          -2.105385631541851,
          -0.6558647615322669,
          -1.9005425637097615,
          -1.408826169093584,
          0.9003300748733999,
          2.849159124171425,
          -2.2405396306099354,
          -1.304376361456665,
          -1.2919892352326399,
          -1.4665845071220476
         ],
         "xaxis": "x",
         "y": [
          -1.3104766831962869,
          -0.638735070526249,
          0.6290714676895718,
          1.0210569586397165,
          0.7501453231547774,
          0.9451558926652737,
          1.0811787799405232,
          0.5976564030409642,
          -1.519706087841322,
          0.911716204673926,
          0.5965379351274293,
          -0.5297195809599416,
          0.14322963033517544,
          0.8007361965952422,
          -0.6783773152898948,
          -1.2675102121634068,
          0.06156690761336603,
          -0.05073350701734232,
          1.2076927378475641,
          0.3022250442368425,
          -0.8043570139140548,
          -0.08819339398730107,
          1.0388696772209733,
          0.9271901927720898,
          0.5766080868530091,
          -0.8280523334818158,
          0.38085248150522266,
          -0.5644287391894739,
          0.7851687735493263,
          0.654000029291574,
          -1.3122816802514214,
          -0.8364645091069918,
          -1.332264942326958,
          -0.7145017893172285,
          0.017559593570528883,
          -1.360436011131752,
          -1.4781972621038673,
          -0.3200191268333802,
          -0.36965514151722073,
          0.33280379661036574,
          0.4555764858053596,
          -1.091182695537285,
          0.4685607792732406,
          -1.083428040538388,
          -1.1627065438003545,
          0.7672833155815685,
          0.15409341510435778,
          0.8230382120943193,
          -1.001050790378546,
          -0.5383775199684179,
          0.7351455262125114,
          0.95392205283411,
          -1.2440261863981728,
          0.23032246916672328,
          -1.1273677392034374,
          0.08654690490986648,
          0.7865432821402878,
          0.8533068281491729,
          0.4576622324440782,
          0.21576137254289263,
          -0.3238416270628959,
          1.0226386979788062,
          0.36622764670112085,
          -0.014837418683340375,
          0.3764194081861011,
          1.1096579994631657,
          1.0236826046724559,
          1.1387792230431173,
          -1.6453688845459442,
          -1.1495010609764564,
          1.107099580013185,
          -0.3022667165393364,
          1.5010626750263025,
          0.5296769813483354,
          0.5911551388317117,
          0.7956603216188934,
          0.7474055967206418,
          0.44384683188658647,
          -0.026335197848585908,
          -1.1264702698401332,
          0.03347044081897082,
          0.644561930474674,
          -0.45589109792004445,
          -1.5897734312001344,
          0.13962975088255156,
          0.613616379928922,
          -0.17750620661688413,
          -1.1527929102086922,
          0.8647620437392862,
          1.1054110218094064,
          0.5143849606938217,
          -1.4528144930345306,
          0.8089885633269299,
          0.17737995133736906,
          1.3587884488863553,
          -0.22768344923385203,
          0.4398655920430194,
          -0.47891435462253795,
          -2.0625570652596834,
          0.5798542736755647,
          1.190750088997072,
          0.33087633115591936,
          0.07893487782973506,
          -0.5362003041502923,
          -0.7394836297199795,
          0.6730618421355588,
          -0.4535012862311819,
          0.9772129603699526,
          -0.4368798264934111,
          -1.0166128831239116,
          0.521693731258183,
          1.2879762334492864,
          -1.3590916537763063,
          -0.8416946076689922,
          -0.2534509796778932,
          -0.7767855151163126,
          -0.4183230765555976,
          0.6224686921084454,
          0.22550766022045848,
          1.1899484509735971,
          1.036038254163782,
          1.2885175700420428,
          -0.6060417344700214,
          0.9886888060975432,
          1.1052361921043459,
          -0.7842826509471443,
          0.6564184529137851,
          -0.675269678483054,
          0.5647088541502028,
          0.47968666054458037,
          0.95501369312677,
          0.5475058423210708,
          1.2438495998832386,
          0.9974910131155832,
          1.063140769943293,
          1.1226925377774035,
          -0.833742739151421,
          -1.1286906698269643,
          0.5925982346692175,
          -0.9388729045456432,
          0.48025633592985717,
          0.7550326560505186,
          -1.444941302470935,
          1.0301115878136047,
          0.2626943613398965,
          -1.1306385090892412,
          -0.04185788044059317,
          -0.07793408785325531,
          -1.7044141493424356,
          -0.9560747402421155,
          0.8501524572232877,
          -1.875794374234574,
          0.5753007550715996,
          0.9549737475806749,
          -0.2271230608516241,
          0.1496235211165939,
          0.2624231223076638,
          -1.0426843431889288,
          0.6821859542098648,
          -0.8963377614442765,
          -0.988618430310113,
          0.016965208760924187,
          -1.443425984894828,
          0.7056723990038593,
          0.34132035728476245,
          1.2631782209826843,
          -0.08879072674132198,
          0.13316685371379391,
          1.0439337749663289,
          0.4834425644561634,
          0.8438221549314852,
          -0.6928627276053211,
          1.7040165055662322,
          -1.14011266065566,
          -2.0220122550651296,
          -1.5637033643168838,
          0.7906337423863564,
          -1.4646294978771501,
          -2.5119169743728795,
          -0.7986258708488929,
          -0.8041193578487988,
          0.583934007138547,
          -1.4237447716829976,
          1.7644921501178976,
          1.0727663118573025,
          -0.5348153256115195,
          1.2628195056363012,
          0.48334840731248063,
          0.02294651642982408,
          1.124114185445609,
          1.0326346136369915,
          1.681453699360844,
          0.3578891146147242,
          -0.3857833319603809,
          0.9584483505290159,
          2.1911744239593,
          -2.4092434653312416,
          -0.33621375213256627,
          -0.8487482704509233,
          0.4106853131551265,
          -1.8632823744836355,
          1.5281107173266661,
          -0.9028175297123808,
          -1.1351629414231472,
          2.2261587825643363,
          0.8167950301691483,
          -0.9328695432293037,
          -1.022486374705416,
          -1.7690723644704507,
          2.0432326130802267,
          0.5191450520770234,
          0.7086218541261375,
          1.8623588927594976,
          0.8900887442092074,
          -0.3697320532604241,
          1.577628573770246,
          0.43870797061791367,
          1.2359762054049348,
          -0.405995457332274,
          -0.9842628820820261,
          0.3243019325620431,
          -3.151538648436015,
          0.3928052992161412,
          0.5377871460623,
          -2.682707075681676,
          -1.028335696874984,
          1.2490104955457286,
          -1.7385004768874432,
          0.6806186412180143,
          -0.4936257808462759,
          -2.764625171948372,
          -0.7854068629902276,
          0.5745294511796237,
          1.6558813501327774,
          -3.0823902290147327,
          1.8141030132891232,
          1.5527240381109786,
          0.2873066668100268,
          -0.6025134373405988,
          0.03638724909835231,
          0.8550270358075477,
          -1.5082958127085544,
          0.28146510561457255,
          0.39371193885079087,
          -0.9296319839290335,
          0.6672640423167179,
          -0.7888382930521488,
          -0.7984252459209065,
          -0.3508331995522747,
          -0.5221321875767709,
          -0.4721046806873643,
          -1.1568061982815476,
          -0.9626975834758451,
          0.36497873780311374,
          -0.8197851817337387,
          -1.403635876633182,
          0.1505300364825308,
          0.2865672495815236,
          0.768129623774228,
          -1.3158759204135881,
          -1.108785045999385,
          0.9132410500482876,
          -1.0476777275851907,
          -2.187614897590357,
          0.23642548844363276,
          -1.4092793300791138,
          0.30113907233743586,
          0.7248620975725865,
          0.2088608223061927,
          0.22980289459475237,
          0.5197604027217612,
          -0.33385367018122103,
          0.5936194829612841,
          -0.46307412023968625,
          -0.8467814276056422,
          0.5065366395395959,
          -0.42148427336941396,
          0.6735857149400445,
          0.2581324095851887,
          -1.0097367185841304,
          0.6575909852709941,
          0.1355951959403409,
          0.18015007453052698,
          0.3362966449698593,
          -0.21717500326024364,
          1.4326719769182759,
          0.3540272398654225,
          0.7401622730612328,
          -1.7118997179902777,
          1.0261929813507147,
          -1.8867812760207228,
          0.8207538551737196,
          1.415864176784334,
          1.6338893937068348,
          -0.8262442689090971,
          -1.0047746570612863,
          -2.084408302983317,
          0.12841639403638141,
          0.01375871322543785,
          0.04742320336498962,
          1.1912448016448298,
          -2.262058614750764,
          0.42267823697198087,
          1.4223539353220003,
          1.9404147916620038,
          0.4020235985203825,
          0.21211181843466712,
          -0.9811793751715446,
          -0.05352301286596253,
          -2.028259766065826,
          1.6408516491928729,
          0.7823472487946109,
          0.3565438331340915,
          0.04045902386653138,
          1.8662639267174488,
          -1.5185170715241996,
          0.7975607436061195,
          0.8727989959272047,
          -2.9292950103014554,
          -2.3102165525340683,
          2.110557987715725,
          -0.6625888605663939,
          0.40444213056143796,
          0.8709335267742286
         ],
         "yaxis": "y"
        }
       ],
       "layout": {
        "height": 600,
        "legend": {
         "title": {
          "text": "Cluster"
         },
         "tracegroupgap": 0
        },
        "margin": {
         "t": 60
        },
        "plot_bgcolor": "rgb(240,240,240)",
        "template": {
         "data": {
          "bar": [
           {
            "error_x": {
             "color": "#2a3f5f"
            },
            "error_y": {
             "color": "#2a3f5f"
            },
            "marker": {
             "line": {
              "color": "#E5ECF6",
              "width": 0.5
             },
             "pattern": {
              "fillmode": "overlay",
              "size": 10,
              "solidity": 0.2
             }
            },
            "type": "bar"
           }
          ],
          "barpolar": [
           {
            "marker": {
             "line": {
              "color": "#E5ECF6",
              "width": 0.5
             },
             "pattern": {
              "fillmode": "overlay",
              "size": 10,
              "solidity": 0.2
             }
            },
            "type": "barpolar"
           }
          ],
          "carpet": [
           {
            "aaxis": {
             "endlinecolor": "#2a3f5f",
             "gridcolor": "white",
             "linecolor": "white",
             "minorgridcolor": "white",
             "startlinecolor": "#2a3f5f"
            },
            "baxis": {
             "endlinecolor": "#2a3f5f",
             "gridcolor": "white",
             "linecolor": "white",
             "minorgridcolor": "white",
             "startlinecolor": "#2a3f5f"
            },
            "type": "carpet"
           }
          ],
          "choropleth": [
           {
            "colorbar": {
             "outlinewidth": 0,
             "ticks": ""
            },
            "type": "choropleth"
           }
          ],
          "contour": [
           {
            "colorbar": {
             "outlinewidth": 0,
             "ticks": ""
            },
            "colorscale": [
             [
              0,
              "#0d0887"
             ],
             [
              0.1111111111111111,
              "#46039f"
             ],
             [
              0.2222222222222222,
              "#7201a8"
             ],
             [
              0.3333333333333333,
              "#9c179e"
             ],
             [
              0.4444444444444444,
              "#bd3786"
             ],
             [
              0.5555555555555556,
              "#d8576b"
             ],
             [
              0.6666666666666666,
              "#ed7953"
             ],
             [
              0.7777777777777778,
              "#fb9f3a"
             ],
             [
              0.8888888888888888,
              "#fdca26"
             ],
             [
              1,
              "#f0f921"
             ]
            ],
            "type": "contour"
           }
          ],
          "contourcarpet": [
           {
            "colorbar": {
             "outlinewidth": 0,
             "ticks": ""
            },
            "type": "contourcarpet"
           }
          ],
          "heatmap": [
           {
            "colorbar": {
             "outlinewidth": 0,
             "ticks": ""
            },
            "colorscale": [
             [
              0,
              "#0d0887"
             ],
             [
              0.1111111111111111,
              "#46039f"
             ],
             [
              0.2222222222222222,
              "#7201a8"
             ],
             [
              0.3333333333333333,
              "#9c179e"
             ],
             [
              0.4444444444444444,
              "#bd3786"
             ],
             [
              0.5555555555555556,
              "#d8576b"
             ],
             [
              0.6666666666666666,
              "#ed7953"
             ],
             [
              0.7777777777777778,
              "#fb9f3a"
             ],
             [
              0.8888888888888888,
              "#fdca26"
             ],
             [
              1,
              "#f0f921"
             ]
            ],
            "type": "heatmap"
           }
          ],
          "heatmapgl": [
           {
            "colorbar": {
             "outlinewidth": 0,
             "ticks": ""
            },
            "colorscale": [
             [
              0,
              "#0d0887"
             ],
             [
              0.1111111111111111,
              "#46039f"
             ],
             [
              0.2222222222222222,
              "#7201a8"
             ],
             [
              0.3333333333333333,
              "#9c179e"
             ],
             [
              0.4444444444444444,
              "#bd3786"
             ],
             [
              0.5555555555555556,
              "#d8576b"
             ],
             [
              0.6666666666666666,
              "#ed7953"
             ],
             [
              0.7777777777777778,
              "#fb9f3a"
             ],
             [
              0.8888888888888888,
              "#fdca26"
             ],
             [
              1,
              "#f0f921"
             ]
            ],
            "type": "heatmapgl"
           }
          ],
          "histogram": [
           {
            "marker": {
             "pattern": {
              "fillmode": "overlay",
              "size": 10,
              "solidity": 0.2
             }
            },
            "type": "histogram"
           }
          ],
          "histogram2d": [
           {
            "colorbar": {
             "outlinewidth": 0,
             "ticks": ""
            },
            "colorscale": [
             [
              0,
              "#0d0887"
             ],
             [
              0.1111111111111111,
              "#46039f"
             ],
             [
              0.2222222222222222,
              "#7201a8"
             ],
             [
              0.3333333333333333,
              "#9c179e"
             ],
             [
              0.4444444444444444,
              "#bd3786"
             ],
             [
              0.5555555555555556,
              "#d8576b"
             ],
             [
              0.6666666666666666,
              "#ed7953"
             ],
             [
              0.7777777777777778,
              "#fb9f3a"
             ],
             [
              0.8888888888888888,
              "#fdca26"
             ],
             [
              1,
              "#f0f921"
             ]
            ],
            "type": "histogram2d"
           }
          ],
          "histogram2dcontour": [
           {
            "colorbar": {
             "outlinewidth": 0,
             "ticks": ""
            },
            "colorscale": [
             [
              0,
              "#0d0887"
             ],
             [
              0.1111111111111111,
              "#46039f"
             ],
             [
              0.2222222222222222,
              "#7201a8"
             ],
             [
              0.3333333333333333,
              "#9c179e"
             ],
             [
              0.4444444444444444,
              "#bd3786"
             ],
             [
              0.5555555555555556,
              "#d8576b"
             ],
             [
              0.6666666666666666,
              "#ed7953"
             ],
             [
              0.7777777777777778,
              "#fb9f3a"
             ],
             [
              0.8888888888888888,
              "#fdca26"
             ],
             [
              1,
              "#f0f921"
             ]
            ],
            "type": "histogram2dcontour"
           }
          ],
          "mesh3d": [
           {
            "colorbar": {
             "outlinewidth": 0,
             "ticks": ""
            },
            "type": "mesh3d"
           }
          ],
          "parcoords": [
           {
            "line": {
             "colorbar": {
              "outlinewidth": 0,
              "ticks": ""
             }
            },
            "type": "parcoords"
           }
          ],
          "pie": [
           {
            "automargin": true,
            "type": "pie"
           }
          ],
          "scatter": [
           {
            "fillpattern": {
             "fillmode": "overlay",
             "size": 10,
             "solidity": 0.2
            },
            "type": "scatter"
           }
          ],
          "scatter3d": [
           {
            "line": {
             "colorbar": {
              "outlinewidth": 0,
              "ticks": ""
             }
            },
            "marker": {
             "colorbar": {
              "outlinewidth": 0,
              "ticks": ""
             }
            },
            "type": "scatter3d"
           }
          ],
          "scattercarpet": [
           {
            "marker": {
             "colorbar": {
              "outlinewidth": 0,
              "ticks": ""
             }
            },
            "type": "scattercarpet"
           }
          ],
          "scattergeo": [
           {
            "marker": {
             "colorbar": {
              "outlinewidth": 0,
              "ticks": ""
             }
            },
            "type": "scattergeo"
           }
          ],
          "scattergl": [
           {
            "marker": {
             "colorbar": {
              "outlinewidth": 0,
              "ticks": ""
             }
            },
            "type": "scattergl"
           }
          ],
          "scattermapbox": [
           {
            "marker": {
             "colorbar": {
              "outlinewidth": 0,
              "ticks": ""
             }
            },
            "type": "scattermapbox"
           }
          ],
          "scatterpolar": [
           {
            "marker": {
             "colorbar": {
              "outlinewidth": 0,
              "ticks": ""
             }
            },
            "type": "scatterpolar"
           }
          ],
          "scatterpolargl": [
           {
            "marker": {
             "colorbar": {
              "outlinewidth": 0,
              "ticks": ""
             }
            },
            "type": "scatterpolargl"
           }
          ],
          "scatterternary": [
           {
            "marker": {
             "colorbar": {
              "outlinewidth": 0,
              "ticks": ""
             }
            },
            "type": "scatterternary"
           }
          ],
          "surface": [
           {
            "colorbar": {
             "outlinewidth": 0,
             "ticks": ""
            },
            "colorscale": [
             [
              0,
              "#0d0887"
             ],
             [
              0.1111111111111111,
              "#46039f"
             ],
             [
              0.2222222222222222,
              "#7201a8"
             ],
             [
              0.3333333333333333,
              "#9c179e"
             ],
             [
              0.4444444444444444,
              "#bd3786"
             ],
             [
              0.5555555555555556,
              "#d8576b"
             ],
             [
              0.6666666666666666,
              "#ed7953"
             ],
             [
              0.7777777777777778,
              "#fb9f3a"
             ],
             [
              0.8888888888888888,
              "#fdca26"
             ],
             [
              1,
              "#f0f921"
             ]
            ],
            "type": "surface"
           }
          ],
          "table": [
           {
            "cells": {
             "fill": {
              "color": "#EBF0F8"
             },
             "line": {
              "color": "white"
             }
            },
            "header": {
             "fill": {
              "color": "#C8D4E3"
             },
             "line": {
              "color": "white"
             }
            },
            "type": "table"
           }
          ]
         },
         "layout": {
          "annotationdefaults": {
           "arrowcolor": "#2a3f5f",
           "arrowhead": 0,
           "arrowwidth": 1
          },
          "autotypenumbers": "strict",
          "coloraxis": {
           "colorbar": {
            "outlinewidth": 0,
            "ticks": ""
           }
          },
          "colorscale": {
           "diverging": [
            [
             0,
             "#8e0152"
            ],
            [
             0.1,
             "#c51b7d"
            ],
            [
             0.2,
             "#de77ae"
            ],
            [
             0.3,
             "#f1b6da"
            ],
            [
             0.4,
             "#fde0ef"
            ],
            [
             0.5,
             "#f7f7f7"
            ],
            [
             0.6,
             "#e6f5d0"
            ],
            [
             0.7,
             "#b8e186"
            ],
            [
             0.8,
             "#7fbc41"
            ],
            [
             0.9,
             "#4d9221"
            ],
            [
             1,
             "#276419"
            ]
           ],
           "sequential": [
            [
             0,
             "#0d0887"
            ],
            [
             0.1111111111111111,
             "#46039f"
            ],
            [
             0.2222222222222222,
             "#7201a8"
            ],
            [
             0.3333333333333333,
             "#9c179e"
            ],
            [
             0.4444444444444444,
             "#bd3786"
            ],
            [
             0.5555555555555556,
             "#d8576b"
            ],
            [
             0.6666666666666666,
             "#ed7953"
            ],
            [
             0.7777777777777778,
             "#fb9f3a"
            ],
            [
             0.8888888888888888,
             "#fdca26"
            ],
            [
             1,
             "#f0f921"
            ]
           ],
           "sequentialminus": [
            [
             0,
             "#0d0887"
            ],
            [
             0.1111111111111111,
             "#46039f"
            ],
            [
             0.2222222222222222,
             "#7201a8"
            ],
            [
             0.3333333333333333,
             "#9c179e"
            ],
            [
             0.4444444444444444,
             "#bd3786"
            ],
            [
             0.5555555555555556,
             "#d8576b"
            ],
            [
             0.6666666666666666,
             "#ed7953"
            ],
            [
             0.7777777777777778,
             "#fb9f3a"
            ],
            [
             0.8888888888888888,
             "#fdca26"
            ],
            [
             1,
             "#f0f921"
            ]
           ]
          },
          "colorway": [
           "#636efa",
           "#EF553B",
           "#00cc96",
           "#ab63fa",
           "#FFA15A",
           "#19d3f3",
           "#FF6692",
           "#B6E880",
           "#FF97FF",
           "#FECB52"
          ],
          "font": {
           "color": "#2a3f5f"
          },
          "geo": {
           "bgcolor": "white",
           "lakecolor": "white",
           "landcolor": "#E5ECF6",
           "showlakes": true,
           "showland": true,
           "subunitcolor": "white"
          },
          "hoverlabel": {
           "align": "left"
          },
          "hovermode": "closest",
          "mapbox": {
           "style": "light"
          },
          "paper_bgcolor": "white",
          "plot_bgcolor": "#E5ECF6",
          "polar": {
           "angularaxis": {
            "gridcolor": "white",
            "linecolor": "white",
            "ticks": ""
           },
           "bgcolor": "#E5ECF6",
           "radialaxis": {
            "gridcolor": "white",
            "linecolor": "white",
            "ticks": ""
           }
          },
          "scene": {
           "xaxis": {
            "backgroundcolor": "#E5ECF6",
            "gridcolor": "white",
            "gridwidth": 2,
            "linecolor": "white",
            "showbackground": true,
            "ticks": "",
            "zerolinecolor": "white"
           },
           "yaxis": {
            "backgroundcolor": "#E5ECF6",
            "gridcolor": "white",
            "gridwidth": 2,
            "linecolor": "white",
            "showbackground": true,
            "ticks": "",
            "zerolinecolor": "white"
           },
           "zaxis": {
            "backgroundcolor": "#E5ECF6",
            "gridcolor": "white",
            "gridwidth": 2,
            "linecolor": "white",
            "showbackground": true,
            "ticks": "",
            "zerolinecolor": "white"
           }
          },
          "shapedefaults": {
           "line": {
            "color": "#2a3f5f"
           }
          },
          "ternary": {
           "aaxis": {
            "gridcolor": "white",
            "linecolor": "white",
            "ticks": ""
           },
           "baxis": {
            "gridcolor": "white",
            "linecolor": "white",
            "ticks": ""
           },
           "bgcolor": "#E5ECF6",
           "caxis": {
            "gridcolor": "white",
            "linecolor": "white",
            "ticks": ""
           }
          },
          "title": {
           "x": 0.05
          },
          "xaxis": {
           "automargin": true,
           "gridcolor": "white",
           "linecolor": "white",
           "ticks": "",
           "title": {
            "standoff": 15
           },
           "zerolinecolor": "white",
           "zerolinewidth": 2
          },
          "yaxis": {
           "automargin": true,
           "gridcolor": "white",
           "linecolor": "white",
           "ticks": "",
           "title": {
            "standoff": 15
           },
           "zerolinecolor": "white",
           "zerolinewidth": 2
          }
         }
        },
        "title": {
         "text": "2D Cluster PCA Plot"
        },
        "xaxis": {
         "anchor": "y",
         "domain": [
          0,
          1
         ],
         "title": {
          "text": "PCA1"
         }
        },
        "yaxis": {
         "anchor": "x",
         "domain": [
          0,
          1
         ],
         "title": {
          "text": "PCA2"
         }
        }
       }
      }
     },
     "metadata": {},
     "output_type": "display_data"
    }
   ],
   "source": [
    "plot_model(kmeans) # 0 seems to be \"s\" (without chatter)\\ and 1 seems to be \"c\" (with chatter)"
   ]
  },
  {
   "cell_type": "code",
   "execution_count": null,
   "metadata": {},
   "outputs": [
    {
     "data": {
      "text/plain": [
       "s    200\n",
       "c     88\n",
       "i     76\n",
       "Name: chatter_presence, dtype: int64"
      ]
     },
     "execution_count": 64,
     "metadata": {},
     "output_type": "execute_result"
    }
   ],
   "source": [
    "df.chatter_presence.value_counts()"
   ]
  },
  {
   "cell_type": "code",
   "execution_count": null,
   "metadata": {},
   "outputs": [
    {
     "data": {
      "text/html": [],
      "text/plain": [
       "<IPython.core.display.HTML object>"
      ]
     },
     "metadata": {},
     "output_type": "display_data"
    },
    {
     "data": {
      "application/vnd.plotly.v1+json": {
       "config": {
        "plotlyServerURL": "https://plot.ly"
       },
       "data": [
        {
         "alignmentgroup": "True",
         "bingroup": "x",
         "hovertemplate": "Cluster=%{x}<br>count=%{y}<extra></extra>",
         "legendgroup": "Cluster 0",
         "marker": {
          "color": "#636efa",
          "opacity": 0.7,
          "pattern": {
           "shape": ""
          }
         },
         "name": "Cluster 0",
         "offsetgroup": "Cluster 0",
         "orientation": "v",
         "showlegend": true,
         "type": "histogram",
         "x": [
          "Cluster 0",
          "Cluster 0",
          "Cluster 0",
          "Cluster 0",
          "Cluster 0",
          "Cluster 0",
          "Cluster 0",
          "Cluster 0",
          "Cluster 0",
          "Cluster 0",
          "Cluster 0",
          "Cluster 0",
          "Cluster 0",
          "Cluster 0",
          "Cluster 0",
          "Cluster 0",
          "Cluster 0",
          "Cluster 0",
          "Cluster 0",
          "Cluster 0",
          "Cluster 0",
          "Cluster 0",
          "Cluster 0",
          "Cluster 0",
          "Cluster 0",
          "Cluster 0",
          "Cluster 0",
          "Cluster 0",
          "Cluster 0",
          "Cluster 0",
          "Cluster 0",
          "Cluster 0",
          "Cluster 0",
          "Cluster 0",
          "Cluster 0",
          "Cluster 0",
          "Cluster 0",
          "Cluster 0",
          "Cluster 0",
          "Cluster 0"
         ],
         "xaxis": "x",
         "yaxis": "y"
        },
        {
         "alignmentgroup": "True",
         "customdata": [
          [
           "c",
           0.005484491586685181,
           0.012395118363201618,
           0.013554057106375694,
           0.5051963925361633,
           4186.75390625,
           0.11043865978717804,
           0.00902804359793663,
           4.372564792633057,
           5.5258612632751465,
           6.564655303955078,
           0.05117266625165939,
           -3871.76123046875,
           -3895.6611328125,
           1.819014310836792
          ],
          [
           "c",
           0.005463855806738138,
           0.016310904175043106,
           0.017201106995344162,
           1.8452690839767456,
           2413.046630859375,
           0.16207349300384521,
           0.010649140924215317,
           4.792956829071045,
           6.350702285766602,
           7.741860389709473,
           0.0796293318271637,
           3909.32177734375,
           3782.5244140625,
           2.2192862033843994
          ],
          [
           "c",
           0.005483240820467472,
           0.011967546306550503,
           0.013163675554096699,
           1.4153401851654053,
           3071.869384765625,
           0.13958676159381866,
           0.008327551186084747,
           5.459401607513428,
           7.145145893096924,
           8.6298828125,
           0.06772095710039139,
           980.3901977539062,
           1196.0880126953125,
           1.4940869808197021
          ],
          [
           "c",
           0.005409283097833395,
           0.04081236571073532,
           0.04116892069578171,
           0.7546960711479187,
           4934.4853515625,
           0.3957327902317047,
           0.02704869955778122,
           4.807009220123291,
           6.157003402709961,
           7.316409587860107,
           0.19783343374729156,
           -3859.227294921875,
           -3810.338623046875,
           12.481369018554688
          ],
          [
           "c",
           0.005440111737698317,
           0.030929796397686005,
           0.03140294551849365,
           4.804506778717041,
           1433.119384765625,
           0.4225460886955261,
           0.017405059188604355,
           6.739824295043945,
           9.654864311218262,
           12.160277366638184,
           0.21165034174919128,
           -3812.965087890625,
           -3741.500244140625,
           2.7061190605163574
          ],
          [
           "c",
           0.005424237344413996,
           0.030498556792736053,
           0.03097691759467125,
           -0.16010773181915283,
           5521.84130859375,
           0.2687888741493225,
           0.022049464285373688,
           4.526732921600342,
           5.503958702087402,
           6.359529972076416,
           0.14022423326969147,
           4018.263916015625,
           3489.946044921875,
           6.7268476486206055
          ],
          [
           "c",
           0.005497246980667114,
           0.008553114719688892,
           0.010166327469050884,
           3.7052855491638184,
           1092.4208984375,
           0.10341932624578476,
           0.006730614695698023,
           5.34426212310791,
           6.890815258026123,
           8.072297096252441,
           0.054331518709659576,
           -962.11181640625,
           -925.0236206054688,
           0.5397824048995972
          ],
          [
           "c",
           0.0055088563822209835,
           0.011784986592829227,
           0.01300876121968031,
           1.490659475326538,
           3507.70556640625,
           0.11961822211742401,
           0.00823191273957491,
           4.689419746398926,
           6.134790897369385,
           7.41061544418335,
           0.05861468240618706,
           3904.06103515625,
           3826.76171875,
           1.5268863439559937
          ],
          [
           "c",
           0.005487510468810797,
           0.014789639040827751,
           0.01577458158135414,
           0.17811472713947296,
           3781.649169921875,
           0.126459002494812,
           0.010266892611980438,
           4.179621696472168,
           5.345249652862549,
           6.421785831451416,
           0.0659317895770073,
           -3904.06103515625,
           -3826.76171875,
           1.5268863439559937
          ],
          [
           "c",
           0.005457265302538872,
           0.0406428761780262,
           0.04100726544857025,
           2.189605236053467,
           3806.807861328125,
           0.46964573860168457,
           0.024462712928652763,
           6.228082656860352,
           8.479188919067383,
           10.440241813659668,
           0.25539663434028625,
           945.8624877929688,
           845.8629150390625,
           6.050340175628662
          ],
          [
           "c",
           0.005483257118612528,
           0.0043164766393601894,
           0.006978293880820274,
           3.8990700244903564,
           1787.420166015625,
           0.0691971480846405,
           0.005265265237540007,
           6.2454986572265625,
           7.374850749969482,
           8.277441024780273,
           0.04358292371034622,
           715.1856689453125,
           905.3818969726562,
           0.6477260589599609
          ],
          [
           "c",
           0.005445319227874279,
           0.007912046276032925,
           0.009604714810848236,
           6.494952201843262,
           3234.424560546875,
           0.1163485050201416,
           0.006289955228567123,
           6.463749885559082,
           8.482305526733398,
           9.870098114013672,
           0.06208247318863869,
           -4660.25927734375,
           -3925.006103515625,
           1.655203938484192
          ],
          [
           "c",
           0.005484603811055422,
           0.005445972550660372,
           0.0077289496548473835,
           7.285404682159424,
           1938.9793701171875,
           0.07580456882715225,
           0.005711432546377182,
           5.26990270614624,
           6.395200252532959,
           7.131453037261963,
           0.04073081165552139,
           999.1403198242188,
           1018.2443237304688,
           0.8259340524673462
          ],
          [
           "c",
           0.005441373214125633,
           0.012046825140714645,
           0.013218593783676624,
           2.960988759994507,
           3338.362548828125,
           0.1490524858236313,
           0.007936879061162472,
           6.262688159942627,
           8.537179946899414,
           10.43028736114502,
           0.08278393000364304,
           4660.25927734375,
           3925.006103515625,
           1.655203938484192
          ],
          [
           "c",
           0.005454865749925375,
           0.02083943784236908,
           0.021540459245443344,
           0.3208470046520233,
           2848.34912109375,
           0.1438341587781906,
           0.014001390896737576,
           3.3972299098968506,
           4.352804660797119,
           5.226473331451416,
           0.07317789644002914,
           3812.965087890625,
           3741.500244140625,
           2.7061190605163574
          ],
          [
           "c",
           0.005422403570264578,
           0.008803361095488071,
           0.010338524356484413,
           1.089070200920105,
           1802.6754150390625,
           0.08822472393512726,
           0.0069878799840807915,
           4.74163818359375,
           5.952059268951416,
           7.015223503112793,
           0.039203181862831116,
           -1275.1319580078125,
           -1112.4739990234375,
           0.41670605540275574
          ],
          [
           "c",
           0.005492647644132376,
           0.016267867758870125,
           0.017169494181871414,
           2.4818241596221924,
           1783.826904296875,
           0.2037266045808792,
           0.010310528799891472,
           6.257789611816406,
           8.467670440673828,
           10.42071533203125,
           0.10744308680295944,
           -3909.32177734375,
           -3782.5244140625,
           2.2192862033843994
          ],
          [
           "c",
           0.005490909796208143,
           0.012458964250981808,
           0.01361505314707756,
           0.5140854120254517,
           3811.943359375,
           0.11053355038166046,
           0.009065761230885983,
           4.14642858505249,
           5.242889881134033,
           6.227148532867432,
           0.05645384266972542,
           3871.76123046875,
           3895.6611328125,
           1.819014310836792
          ],
          [
           "c",
           0.005470529664307833,
           0.013462627306580544,
           0.014531060121953487,
           4.890751361846924,
           1399.00341796875,
           0.22184641659259796,
           0.00844015646725893,
           7.972018241882324,
           11.135601997375488,
           13.725086212158203,
           0.10600454360246658,
           -999.1403198242188,
           -1018.2443237304688,
           0.8040518760681152
          ],
          [
           "c",
           0.005484506022185087,
           0.017482956871390343,
           0.018322700634598732,
           0.00233116140589118,
           3656.030029296875,
           0.15063168108463287,
           0.011977944523096085,
           4.323125839233398,
           5.504205226898193,
           6.613099098205566,
           0.07921133935451508,
           -980.3901977539062,
           -1196.0880126953125,
           1.4721823930740356
          ],
          [
           "i",
           0.005483505316078663,
           0.012358448468148708,
           0.013519453816115856,
           1.8634506464004517,
           1595.0355224609375,
           0.11090792715549469,
           0.008340887725353241,
           4.946725368499756,
           6.643486022949219,
           8.017974853515625,
           0.06687702983617783,
           -897.964111328125,
           -954.7617797851562,
           0.5518573522567749
          ],
          [
           "c",
           0.005493317265063524,
           0.008860788308084011,
           0.010424358770251274,
           1.2924795150756836,
           1428.8397216796875,
           0.08942971378564835,
           0.006910357158631086,
           4.485289096832275,
           5.704071044921875,
           6.766113758087158,
           0.04267344996333122,
           3875.3544921875,
           3933.5322265625,
           0.46339815855026245
          ],
          [
           "c",
           0.005464160814881325,
           0.012737217359244823,
           0.01385923009365797,
           1.0904406309127808,
           2421.58447265625,
           0.11249811947345734,
           0.00883365236222744,
           4.2216572761535645,
           5.502612113952637,
           6.623412132263184,
           0.058508921414613724,
           -3914.17529296875,
           -3837.520263671875,
           0.9242613315582275
          ],
          [
           "c",
           0.0054671429097652435,
           0.012138357385993004,
           0.01331262569874525,
           2.63490629196167,
           3650.771240234375,
           0.13988234102725983,
           0.008109739050269127,
           5.727254867553711,
           7.709959506988525,
           9.401634216308594,
           0.07624480128288269,
           1038.50830078125,
           965.8230590820312,
           1.409706473350525
          ],
          [
           "c",
           0.005478902719914913,
           0.017995595932006836,
           0.01881047524511814,
           -0.1573055237531662,
           3534.438232421875,
           0.12049224972724915,
           0.012805025093257427,
           3.243600368499756,
           4.038939952850342,
           4.764822006225586,
           0.05947858467698097,
           -3868.12255859375,
           -3811.123779296875,
           1.828121542930603
          ],
          [
           "c",
           0.005481435917317867,
           0.004448278341442347,
           0.007059159688651562,
           2.7464520931243896,
           1660.55322265625,
           0.07026573270559311,
           0.005289160646498203,
           6.720725059509277,
           7.9624342918396,
           8.969792366027832,
           0.04744267091155052,
           3501.72998046875,
           3860.122802734375,
           0.8496307134628296
          ],
          [
           "c",
           0.005423230119049549,
           0.04302934929728508,
           0.04336938261985779,
           0.5506352782249451,
           5043.29541015625,
           0.4329476058483124,
           0.028126107528805733,
           5.281022071838379,
           6.79782247543335,
           8.143135070800781,
           0.2039129137992859,
           3859.227294921875,
           3810.338623046875,
           12.481369018554688
          ],
          [
           "c",
           0.005495304241776466,
           0.01675122044980526,
           0.017628934234380722,
           -0.06879163533449173,
           3308.4912109375,
           0.11601614207029343,
           0.011977365240454674,
           3.37774395942688,
           4.210748672485352,
           4.971545696258545,
           0.05954602360725403,
           3868.12255859375,
           3811.123779296875,
           1.828121542930603
          ],
          [
           "c",
           0.0054862406104803085,
           0.01050094049423933,
           0.011847279965877533,
           3.1821043491363525,
           2461.429443359375,
           0.1114528551697731,
           0.007428884971886873,
           5.254031181335449,
           7.004272937774658,
           8.378912925720215,
           0.04920687526464462,
           3914.17529296875,
           3837.520263671875,
           0.9242093563079834
          ],
          [
           "c",
           0.005478781647980213,
           0.025896456092596054,
           0.026468319818377495,
           19.269060134887695,
           1027.044189453125,
           0.4770222306251526,
           0.010077327489852905,
           9.383126258850098,
           17.591154098510742,
           24.64498519897461,
           0.24835559725761414,
           -933.5751342773438,
           -959.9744262695312,
           1.2836813926696777
          ],
          [
           "c",
           0.005450661294162273,
           0.0051619005389511585,
           0.0075069512240588665,
           9.13510513305664,
           2625.689208984375,
           0.10892722755670547,
           0.005550121422857046,
           7.960328102111816,
           9.66424560546875,
           10.766935348510742,
           0.05975779518485069,
           -1038.50830078125,
           -965.8230590820312,
           1.3879340887069702
          ],
          [
           "c",
           0.005474105477333069,
           0.013576654717326164,
           0.014638442546129227,
           0.3786567747592926,
           4174.76318359375,
           0.11655354499816895,
           0.009748101234436035,
           4.175867080688477,
           5.277188777923584,
           6.270779609680176,
           0.05542535334825516,
           -1009.7899169921875,
           -911.6908569335938,
           1.2311066389083862
          ],
          [
           "c",
           0.005437604617327452,
           0.029008112847805023,
           0.029513128101825714,
           -0.42402008175849915,
           6093.9453125,
           0.2407563030719757,
           0.021094612777233124,
           4.1019134521484375,
           4.963529109954834,
           5.738919734954834,
           0.12106028944253922,
           845.3566284179688,
           783.31689453125,
           5.198611736297607
          ],
          [
           "c",
           0.00547885661944747,
           0.008628536947071552,
           0.010220741853117943,
           8.492365837097168,
           1795.9913330078125,
           0.12595319747924805,
           0.0064577218145132065,
           6.215785026550293,
           8.296980857849121,
           9.837824821472168,
           0.06352993845939636,
           1071.778564453125,
           1259.5748291015625,
           1.2854816913604736
          ],
          [
           "c",
           0.005478484556078911,
           0.019542545080184937,
           0.02029518038034439,
           -0.3686767816543579,
           3597.78173828125,
           0.1253700852394104,
           0.013917790725827217,
           3.1063649654388428,
           3.844698429107666,
           4.529758930206299,
           0.0630442351102829,
           -908.7817993164062,
           -1414.1717529296875,
           1.0978809595108032
          ],
          [
           "c",
           0.005468503572046757,
           0.014140067622065544,
           0.015159971080720425,
           3.3124427795410156,
           1899.48876953125,
           0.16045832633972168,
           0.008789469487965107,
           5.493717670440674,
           7.627771377563477,
           9.47549819946289,
           0.07717371731996536,
           933.5751342773438,
           959.9744262695312,
           1.3053849935531616
          ],
          [
           "c",
           0.005486064590513706,
           0.005674524698406458,
           0.007892690598964691,
           5.062982082366943,
           2066.730712890625,
           0.08397745341062546,
           0.0058586616069078445,
           5.403353214263916,
           6.470215320587158,
           7.279306411743164,
           0.042646992951631546,
           -715.1856689453125,
           -905.3818969726562,
           0.625824511051178
          ],
          [
           "c",
           0.005440704524517059,
           0.03066389262676239,
           0.031142583116889,
           -0.24499088525772095,
           6045.79541015625,
           0.2522902488708496,
           0.02188609354197979,
           4.134539604187012,
           5.056169509887695,
           5.8831987380981445,
           0.12876024842262268,
           -4018.263916015625,
           -3489.946044921875,
           6.7268476486206055
          ],
          [
           "c",
           0.005413639824837446,
           0.04063750430941582,
           0.04099615663290024,
           0.8986664414405823,
           4733.24853515625,
           0.416909396648407,
           0.026842083781957626,
           5.159851551055908,
           6.625808238983154,
           7.880688190460205,
           0.2053752988576889,
           -945.8624877929688,
           -845.8629150390625,
           6.028744220733643
          ],
          [
           "c",
           0.005429938435554504,
           0.035444099456071854,
           0.03585733100771904,
           -0.24231363832950592,
           4845.0078125,
           0.3436638414859772,
           0.025069328024983406,
           5.158851623535156,
           6.331270694732666,
           7.378843307495117,
           0.18498265743255615,
           -845.3566284179688,
           -783.31689453125,
           5.176962375640869
          ]
         ],
         "hovertemplate": "Cluster=%{x}<br>chatter_presence=%{customdata[0]}<br>med=%{customdata[1]}<br>std=%{customdata[2]}<br>rms=%{customdata[3]}<br>curtose=%{customdata[4]}<br>distortion=%{customdata[5]}<br>amplitude=%{customdata[6]}<br>sra=%{customdata[7]}<br>crest=%{customdata[8]}<br>impulse=%{customdata[9]}<br>margin=%{customdata[10]}<br>max=%{customdata[11]}<br>freq_max=%{customdata[12]}<br>freq_sec_highest=%{customdata[13]}<br>fft_mean=%{customdata[14]}<extra></extra>",
         "legendgroup": "Cluster 0",
         "marker": {
          "color": "#636efa"
         },
         "name": "Cluster 0",
         "notched": true,
         "offsetgroup": "Cluster 0",
         "showlegend": false,
         "type": "box",
         "x": [
          "Cluster 0",
          "Cluster 0",
          "Cluster 0",
          "Cluster 0",
          "Cluster 0",
          "Cluster 0",
          "Cluster 0",
          "Cluster 0",
          "Cluster 0",
          "Cluster 0",
          "Cluster 0",
          "Cluster 0",
          "Cluster 0",
          "Cluster 0",
          "Cluster 0",
          "Cluster 0",
          "Cluster 0",
          "Cluster 0",
          "Cluster 0",
          "Cluster 0",
          "Cluster 0",
          "Cluster 0",
          "Cluster 0",
          "Cluster 0",
          "Cluster 0",
          "Cluster 0",
          "Cluster 0",
          "Cluster 0",
          "Cluster 0",
          "Cluster 0",
          "Cluster 0",
          "Cluster 0",
          "Cluster 0",
          "Cluster 0",
          "Cluster 0",
          "Cluster 0",
          "Cluster 0",
          "Cluster 0",
          "Cluster 0",
          "Cluster 0"
         ],
         "xaxis": "x2",
         "yaxis": "y2"
        },
        {
         "alignmentgroup": "True",
         "bingroup": "x",
         "hovertemplate": "Cluster=%{x}<br>count=%{y}<extra></extra>",
         "legendgroup": "Cluster 1",
         "marker": {
          "color": "#EF553B",
          "opacity": 0.7,
          "pattern": {
           "shape": ""
          }
         },
         "name": "Cluster 1",
         "offsetgroup": "Cluster 1",
         "orientation": "v",
         "showlegend": true,
         "type": "histogram",
         "x": [
          "Cluster 1",
          "Cluster 1",
          "Cluster 1",
          "Cluster 1",
          "Cluster 1",
          "Cluster 1",
          "Cluster 1",
          "Cluster 1",
          "Cluster 1",
          "Cluster 1",
          "Cluster 1",
          "Cluster 1",
          "Cluster 1",
          "Cluster 1",
          "Cluster 1",
          "Cluster 1",
          "Cluster 1",
          "Cluster 1",
          "Cluster 1",
          "Cluster 1",
          "Cluster 1",
          "Cluster 1",
          "Cluster 1",
          "Cluster 1",
          "Cluster 1",
          "Cluster 1",
          "Cluster 1",
          "Cluster 1",
          "Cluster 1",
          "Cluster 1",
          "Cluster 1",
          "Cluster 1",
          "Cluster 1",
          "Cluster 1",
          "Cluster 1",
          "Cluster 1",
          "Cluster 1",
          "Cluster 1",
          "Cluster 1",
          "Cluster 1",
          "Cluster 1",
          "Cluster 1",
          "Cluster 1",
          "Cluster 1",
          "Cluster 1",
          "Cluster 1",
          "Cluster 1",
          "Cluster 1",
          "Cluster 1",
          "Cluster 1",
          "Cluster 1",
          "Cluster 1",
          "Cluster 1",
          "Cluster 1",
          "Cluster 1",
          "Cluster 1",
          "Cluster 1",
          "Cluster 1",
          "Cluster 1",
          "Cluster 1",
          "Cluster 1",
          "Cluster 1",
          "Cluster 1",
          "Cluster 1",
          "Cluster 1",
          "Cluster 1",
          "Cluster 1",
          "Cluster 1",
          "Cluster 1",
          "Cluster 1",
          "Cluster 1",
          "Cluster 1",
          "Cluster 1",
          "Cluster 1",
          "Cluster 1",
          "Cluster 1",
          "Cluster 1",
          "Cluster 1",
          "Cluster 1",
          "Cluster 1",
          "Cluster 1",
          "Cluster 1",
          "Cluster 1",
          "Cluster 1",
          "Cluster 1",
          "Cluster 1",
          "Cluster 1",
          "Cluster 1",
          "Cluster 1",
          "Cluster 1",
          "Cluster 1",
          "Cluster 1",
          "Cluster 1",
          "Cluster 1",
          "Cluster 1",
          "Cluster 1",
          "Cluster 1",
          "Cluster 1",
          "Cluster 1",
          "Cluster 1",
          "Cluster 1",
          "Cluster 1",
          "Cluster 1",
          "Cluster 1",
          "Cluster 1",
          "Cluster 1",
          "Cluster 1",
          "Cluster 1",
          "Cluster 1",
          "Cluster 1",
          "Cluster 1",
          "Cluster 1",
          "Cluster 1",
          "Cluster 1",
          "Cluster 1",
          "Cluster 1",
          "Cluster 1",
          "Cluster 1",
          "Cluster 1",
          "Cluster 1",
          "Cluster 1",
          "Cluster 1",
          "Cluster 1",
          "Cluster 1",
          "Cluster 1",
          "Cluster 1",
          "Cluster 1",
          "Cluster 1",
          "Cluster 1",
          "Cluster 1",
          "Cluster 1",
          "Cluster 1",
          "Cluster 1",
          "Cluster 1",
          "Cluster 1",
          "Cluster 1",
          "Cluster 1",
          "Cluster 1",
          "Cluster 1",
          "Cluster 1",
          "Cluster 1",
          "Cluster 1",
          "Cluster 1",
          "Cluster 1",
          "Cluster 1",
          "Cluster 1",
          "Cluster 1",
          "Cluster 1",
          "Cluster 1",
          "Cluster 1",
          "Cluster 1",
          "Cluster 1",
          "Cluster 1",
          "Cluster 1",
          "Cluster 1",
          "Cluster 1",
          "Cluster 1",
          "Cluster 1",
          "Cluster 1",
          "Cluster 1",
          "Cluster 1",
          "Cluster 1",
          "Cluster 1",
          "Cluster 1",
          "Cluster 1",
          "Cluster 1",
          "Cluster 1",
          "Cluster 1",
          "Cluster 1",
          "Cluster 1",
          "Cluster 1",
          "Cluster 1",
          "Cluster 1",
          "Cluster 1",
          "Cluster 1",
          "Cluster 1",
          "Cluster 1",
          "Cluster 1",
          "Cluster 1",
          "Cluster 1",
          "Cluster 1",
          "Cluster 1",
          "Cluster 1",
          "Cluster 1",
          "Cluster 1",
          "Cluster 1",
          "Cluster 1",
          "Cluster 1",
          "Cluster 1",
          "Cluster 1",
          "Cluster 1",
          "Cluster 1",
          "Cluster 1",
          "Cluster 1",
          "Cluster 1",
          "Cluster 1",
          "Cluster 1",
          "Cluster 1",
          "Cluster 1",
          "Cluster 1",
          "Cluster 1",
          "Cluster 1",
          "Cluster 1",
          "Cluster 1",
          "Cluster 1",
          "Cluster 1",
          "Cluster 1",
          "Cluster 1",
          "Cluster 1",
          "Cluster 1",
          "Cluster 1",
          "Cluster 1",
          "Cluster 1",
          "Cluster 1",
          "Cluster 1",
          "Cluster 1",
          "Cluster 1",
          "Cluster 1",
          "Cluster 1",
          "Cluster 1",
          "Cluster 1",
          "Cluster 1",
          "Cluster 1",
          "Cluster 1",
          "Cluster 1",
          "Cluster 1",
          "Cluster 1",
          "Cluster 1",
          "Cluster 1",
          "Cluster 1",
          "Cluster 1",
          "Cluster 1",
          "Cluster 1",
          "Cluster 1",
          "Cluster 1",
          "Cluster 1",
          "Cluster 1",
          "Cluster 1",
          "Cluster 1",
          "Cluster 1",
          "Cluster 1",
          "Cluster 1",
          "Cluster 1",
          "Cluster 1",
          "Cluster 1",
          "Cluster 1",
          "Cluster 1",
          "Cluster 1",
          "Cluster 1",
          "Cluster 1",
          "Cluster 1",
          "Cluster 1",
          "Cluster 1",
          "Cluster 1",
          "Cluster 1",
          "Cluster 1",
          "Cluster 1",
          "Cluster 1",
          "Cluster 1",
          "Cluster 1",
          "Cluster 1",
          "Cluster 1",
          "Cluster 1",
          "Cluster 1",
          "Cluster 1",
          "Cluster 1",
          "Cluster 1",
          "Cluster 1",
          "Cluster 1",
          "Cluster 1",
          "Cluster 1",
          "Cluster 1",
          "Cluster 1",
          "Cluster 1",
          "Cluster 1",
          "Cluster 1",
          "Cluster 1",
          "Cluster 1",
          "Cluster 1",
          "Cluster 1",
          "Cluster 1",
          "Cluster 1",
          "Cluster 1",
          "Cluster 1",
          "Cluster 1",
          "Cluster 1",
          "Cluster 1",
          "Cluster 1",
          "Cluster 1",
          "Cluster 1",
          "Cluster 1",
          "Cluster 1",
          "Cluster 1",
          "Cluster 1",
          "Cluster 1",
          "Cluster 1",
          "Cluster 1",
          "Cluster 1",
          "Cluster 1",
          "Cluster 1",
          "Cluster 1",
          "Cluster 1",
          "Cluster 1",
          "Cluster 1",
          "Cluster 1",
          "Cluster 1",
          "Cluster 1",
          "Cluster 1",
          "Cluster 1",
          "Cluster 1",
          "Cluster 1",
          "Cluster 1",
          "Cluster 1",
          "Cluster 1",
          "Cluster 1",
          "Cluster 1",
          "Cluster 1",
          "Cluster 1",
          "Cluster 1",
          "Cluster 1",
          "Cluster 1",
          "Cluster 1",
          "Cluster 1",
          "Cluster 1"
         ],
         "xaxis": "x",
         "yaxis": "y"
        },
        {
         "alignmentgroup": "True",
         "customdata": [
          [
           "c",
           0.005451781675219536,
           0.0037267820443958044,
           0.006603817455470562,
           1.0196261405944824,
           4176.30517578125,
           0.04339423403143883,
           0.005178686697036028,
           4.336169719696045,
           4.999804973602295,
           5.529447078704834,
           0.02863527461886406,
           2411.5625,
           41.14254379272461,
           0.8258324861526489
          ],
          [
           "c",
           0.005376431159675121,
           0.005372424144297838,
           0.007600299548357725,
           -0.0879744365811348,
           2861.109619140625,
           0.03888128325343132,
           0.00571365375071764,
           2.82977294921875,
           3.3306691646575928,
           3.76416277885437,
           0.021507123485207558,
           -4785.34130859375,
           -4715.6298828125,
           0.2190961241722107
          ],
          [
           "s",
           0.00543499831110239,
           0.002595876343548298,
           0.006023071240633726,
           -0.1840820163488388,
           4968.65283203125,
           0.019489558413624763,
           0.0050995731726288795,
           2.638068437576294,
           2.909839391708374,
           3.11580491065979,
           0.015889275819063187,
           2958.64794921875,
           2900.321533203125,
           0.4784005880355835
          ],
          [
           "s",
           0.005431888159364462,
           0.001896426547318697,
           0.0057534086517989635,
           -0.801941990852356,
           8083.2412109375,
           0.012168669141829014,
           0.005253730341792107,
           2.0160980224609375,
           2.1354005336761475,
           2.2078473567962646,
           0.011599434539675713,
           -2384.918701171875,
           -2215.979248046875,
           0.2814751863479614
          ],
          [
           "s",
           0.005503242835402489,
           0.0018390739569440484,
           0.005802390165627003,
           -0.9054431915283203,
           7836.78564453125,
           0.011028236709535122,
           0.00534121785312891,
           1.953381061553955,
           2.059563636779785,
           2.122040033340454,
           0.011334278620779514,
           -4539.25830078125,
           -3309.084716796875,
           0.12860538065433502
          ],
          [
           "s",
           0.005434855353087187,
           0.0018040649592876434,
           0.005726408679038286,
           -1.047589659690857,
           4210.3017578125,
           0.010841111652553082,
           0.005273210350424051,
           1.829719066619873,
           1.9278298616409302,
           1.9869714975357056,
           0.010477718897163868,
           1512.7784423828125,
           119.99494934082031,
           0.19459615647792816
          ],
          [
           "s",
           0.0054509202018380165,
           0.0017034098273143172,
           0.00571086909621954,
           -0.8886247277259827,
           7128.947265625,
           0.014297897927463055,
           0.005311600863933563,
           2.2859694957733154,
           2.3949294090270996,
           2.457803964614868,
           0.013054872862994671,
           2384.918701171875,
           2215.979248046875,
           0.303166002035141
          ],
          [
           "s",
           0.005436452571302652,
           0.0022545706015080214,
           0.005885276477783918,
           -0.8128065466880798,
           2668.177734375,
           0.013707609847187996,
           0.005169248208403587,
           2.09399151802063,
           2.2660224437713623,
           2.384044885635376,
           0.012323719449341297,
           2001.43994140625,
           119.99040222167969,
           0.1456708163022995
          ],
          [
           "c",
           0.0054894667118787766,
           0.0024342848919332027,
           0.006004988215863705,
           1.0384842157363892,
           5831.45556640625,
           0.03640313446521759,
           0.00523718586191535,
           4.094630241394043,
           4.449277877807617,
           4.694927215576172,
           0.02458820678293705,
           -4371.75048828125,
           -4928.85498046875,
           0.6642183661460876
          ],
          [
           "s",
           0.005441175773739815,
           0.0021597689483314753,
           0.005854129325598478,
           -0.26023736596107483,
           6612.03857421875,
           0.0183732770383358,
           0.005201243795454502,
           2.536069869995117,
           2.724729537963867,
           2.85440993309021,
           0.014846481382846832,
           3863.343505859375,
           4757.82421875,
           0.32673653960227966
          ],
          [
           "s",
           0.0054743364453315735,
           0.002172880107536912,
           0.005889792460948229,
           -0.09894217550754547,
           6846.455078125,
           0.021890005096793175,
           0.005239972844719887,
           2.9436392784118652,
           3.1599459648132324,
           3.3086860179901123,
           0.01733742468059063,
           3553.947265625,
           3472.655517578125,
           0.38830146193504333
          ],
          [
           "i",
           0.0054051256738603115,
           0.002176193753257394,
           0.005826679524034262,
           -0.8434591889381409,
           3559.002685546875,
           0.012128275819122791,
           0.00515661621466279,
           1.9228606224060059,
           2.072425603866577,
           2.1727218627929688,
           0.011203892529010773,
           -327.9825134277344,
           -1038.8779296875,
           0.24072600901126862
          ],
          [
           "s",
           0.005403595510870218,
           0.0023618750274181366,
           0.005897148512303829,
           -0.4826711118221283,
           3016.728515625,
           0.017605392262339592,
           0.005113118793815374,
           2.5529680252075195,
           2.782034397125244,
           2.944432258605957,
           0.015055231750011444,
           -2527.472412109375,
           -2783.8828125,
           0.09422953426837921
          ],
          [
           "s",
           0.005446700379252434,
           0.0024801716208457947,
           0.0059847766533494,
           -0.5864058136940002,
           6213.5029296875,
           0.018484795466065407,
           0.005119314882904291,
           2.544403314590454,
           2.7887766361236572,
           2.974555253982544,
           0.015227685682475567,
           2410.3759765625,
           1259.6873779296875,
           0.4757958650588989
          ],
          [
           "i",
           0.005430170334875584,
           0.003911580424755812,
           0.006692115683108568,
           -0.4336514174938202,
           2966.703369140625,
           0.02393816038966179,
           0.0050895060412585735,
           2.4913413524627686,
           2.904330015182495,
           3.2758278846740723,
           0.016672344878315926,
           3298.135009765625,
           4905.3759765625,
           0.25155535340309143
          ],
          [
           "c",
           0.005453702062368393,
           0.0035187897738069296,
           0.006490328814834356,
           1.1884369850158691,
           4794.240234375,
           0.03594494238495827,
           0.0051653627306222916,
           3.7775368690490723,
           4.321074962615967,
           4.746511936187744,
           0.02451745606958866,
           -2508.781005859375,
           -2696.1318359375,
           0.8072932958602905
          ],
          [
           "s",
           0.005481729283928871,
           0.0022400079760700464,
           0.00592169351875782,
           0.054847024381160736,
           4221.6015625,
           0.016865935176610947,
           0.005236766766756773,
           2.29290771484375,
           2.4699525833129883,
           2.592801332473755,
           0.013577896170318127,
           -3290.578857421875,
           -3965.2275390625,
           0.14750953018665314
          ],
          [
           "c",
           0.005383756943047047,
           0.007034395355731249,
           0.008857928216457367,
           -0.17153742909431458,
           3655.1953125,
           0.04784981533885002,
           0.00636659562587738,
           2.8189761638641357,
           3.399411678314209,
           3.9220786094665527,
           0.024970289319753647,
           -1674.3135986328125,
           -1623.4912109375,
           0.6347234845161438
          ],
          [
           "s",
           0.005465737544000149,
           0.0018018357222899795,
           0.005755067337304354,
           -0.8366949558258057,
           8760.9755859375,
           0.015423632226884365,
           0.005309110041707754,
           2.0674843788146973,
           2.17671275138855,
           2.24114990234375,
           0.011898511089384556,
           120.22765350341797,
           655.461669921875,
           0.3723088204860687
          ],
          [
           "s",
           0.005413481034338474,
           0.00251370039768517,
           0.005968534387648106,
           -0.4194861352443695,
           3122.79150390625,
           0.018466893583536148,
           0.005098555702716112,
           2.46614146232605,
           2.7093706130981445,
           2.8869452476501465,
           0.014719250611960888,
           -1512.7784423828125,
           -119.99494934082031,
           0.17295467853546143
          ],
          [
           "i",
           0.005417568609118462,
           0.0027457401156425476,
           0.006073484197258949,
           -0.5311174392700195,
           2691.457763671875,
           0.01763972081243992,
           0.005039353389292955,
           2.3207831382751465,
           2.586942195892334,
           2.7970333099365234,
           0.014095239341259003,
           1805.324462890625,
           179.8284912109375,
           0.2714482843875885
          ],
          [
           "c",
           0.005373229272663593,
           0.005522432271391153,
           0.00770481675863266,
           0.13457536697387695,
           2829.01806640625,
           0.03954266384243965,
           0.005697628948837519,
           2.861833333969116,
           3.3988165855407715,
           3.870013475418091,
           0.022049900144338608,
           4785.34130859375,
           4715.6298828125,
           0.2190961241722107
          ],
          [
           "s",
           0.005412726663053036,
           0.0018838486867025495,
           0.005731161218136549,
           -0.940495491027832,
           6002.9208984375,
           0.010309705510735512,
           0.005239750724285841,
           1.8622249364852905,
           1.9717810153961182,
           2.0368738174438477,
           0.01067271176725626,
           -120.19759368896484,
           -1108.3778076171875,
           0.18737824261188507
          ],
          [
           "s",
           0.005388294812291861,
           0.0018987299408763647,
           0.005713034421205521,
           -0.7786203026771545,
           7619.0693359375,
           0.013076298870146275,
           0.005208978429436684,
           2.1389431953430176,
           2.267774820327759,
           2.345921754837036,
           0.012219855561852455,
           -2527.505615234375,
           -3546.88427734375,
           0.1829008311033249
          ],
          [
           "s",
           0.005504962522536516,
           0.0022644700948148966,
           0.005952498875558376,
           -0.5050255060195923,
           6849.9033203125,
           0.01688341051340103,
           0.005237536039203405,
           2.379028558731079,
           2.569207191467285,
           2.7037839889526367,
           0.014161165803670883,
           -1725.1602783203125,
           -893.3563232421875,
           0.3670773208141327
          ],
          [
           "s",
           0.005508966278284788,
           0.0034600046928972006,
           0.006505349650979042,
           0.30999618768692017,
           3027.8779296875,
           0.03788146749138832,
           0.005173529032617807,
           4.126054286956787,
           4.700075149536133,
           5.188223838806152,
           0.026841426268219948,
           -482.8722839355469,
           -22.079647064208984,
           0.30116474628448486
          ],
          [
           "s",
           0.0054521323181688786,
           0.0022732482757419348,
           0.0059069241397082806,
           -0.15787483751773834,
           2323.401123046875,
           0.016377180814743042,
           0.005190995521843433,
           2.4038033485412598,
           2.5997986793518066,
           2.7353296279907227,
           0.014199083670973778,
           3462.39990234375,
           3953.60009765625,
           0.0871792808175087
          ],
          [
           "c",
           0.005371313542127609,
           0.0039039135444909334,
           0.006639971863478422,
           0.20783299207687378,
           2623.501708984375,
           0.03036148101091385,
           0.00510490732267499,
           3.0857062339782715,
           3.5907230377197266,
           4.013589382171631,
           0.020489003509283066,
           1633.842529296875,
           1646.4134521484375,
           0.39153796434402466
          ],
          [
           "s",
           0.005427555181086063,
           0.002306296955794096,
           0.005897088907659054,
           -0.8425548672676086,
           2527.06298828125,
           0.013647757470607758,
           0.005147462710738182,
           2.2103915214538574,
           2.401437282562256,
           2.5322911739349365,
           0.013034874573349953,
           4984.4013671875,
           4995.6005859375,
           0.07755571603775024
          ],
          [
           "s",
           0.005495052319020033,
           0.0018354712519794703,
           0.005793461576104164,
           -0.29255393147468567,
           4800.73388671875,
           0.013056370429694653,
           0.005322202108800411,
           2.016540765762329,
           2.1257340908050537,
           2.1950972080230713,
           0.011682750657200813,
           1098.10400390625,
           1680.2218017578125,
           0.22144196927547455
          ],
          [
           "i",
           0.0053931777365505695,
           0.002689020475372672,
           0.006026247050613165,
           0.11404123157262802,
           2699.791259765625,
           0.0220362339168787,
           0.005082463379949331,
           2.534346103668213,
           2.7994067668914795,
           3.0049591064453125,
           0.0152725949883461,
           -3381.153076171875,
           -3343.82177734375,
           0.13554981350898743
          ],
          [
           "i",
           0.005432430189102888,
           0.002840700326487422,
           0.006130243185907602,
           -0.4087134003639221,
           3760.118896484375,
           0.019811728969216347,
           0.005041154101490974,
           2.3965322971343994,
           2.6849234104156494,
           2.914278507232666,
           0.014691326767206192,
           416.2948913574219,
           119.99630737304688,
           0.2797183692455292
          ],
          [
           "i",
           0.005458536092191935,
           0.0032498890068382025,
           0.006352595053613186,
           -0.33112427592277527,
           2945.43994140625,
           0.021524740383028984,
           0.005067290738224983,
           2.509305953979492,
           2.8528201580047607,
           3.145784616470337,
           0.015940604731440544,
           -3298.135009765625,
           -4905.3759765625,
           0.2515025734901428
          ],
          [
           "c",
           0.0054620178416371346,
           0.005098254419863224,
           0.00747154513373971,
           -0.14483614265918732,
           3704.090087890625,
           0.04088975489139557,
           0.0054189059883356094,
           3.200249195098877,
           3.8394954204559326,
           4.412478923797607,
           0.023910807445645332,
           -1089.9361572265625,
           -430.392333984375,
           0.33895930647850037
          ],
          [
           "c",
           0.0054005892015993595,
           0.006750320550054312,
           0.0086446488276124,
           -0.38934582471847534,
           4163.95947265625,
           0.0395590141415596,
           0.006176095921546221,
           2.847130060195923,
           3.4501287937164307,
           3.9851129055023193,
           0.024612439796328545,
           1089.9361572265625,
           430.392333984375,
           0.3606477379798889
          ],
          [
           "i",
           0.005455148871988058,
           0.004014837555587292,
           0.006773181259632111,
           -0.16849809885025024,
           3626.356689453125,
           0.02750854752957821,
           0.00513547845184803,
           2.777958631515503,
           3.2508389949798584,
           3.663848876953125,
           0.01881561614573002,
           -2875.252197265625,
           -4689.85400390625,
           0.3172673285007477
          ],
          [
           "i",
           0.005440686829388142,
           0.003255419200286269,
           0.0063401018269360065,
           -0.0681057721376419,
           2392.255615234375,
           0.027313699945807457,
           0.00504227913916111,
           3.088639736175537,
           3.520164966583252,
           3.8836190700531006,
           0.019582290202379227,
           -476.3210754394531,
           -119.76595306396484,
           0.1883692890405655
          ],
          [
           "s",
           0.005484833847731352,
           0.002251983853057027,
           0.005929014179855585,
           -0.04811248928308487,
           2128.452880859375,
           0.018180809915065765,
           0.005240992177277803,
           2.623506784439087,
           2.8295884132385254,
           2.9679129123687744,
           0.015554809011518955,
           -3462.39990234375,
           -3953.60009765625,
           0.08710061013698578
          ],
          [
           "s",
           0.005481178872287273,
           0.00260080280713737,
           0.006066896021366119,
           0.3243103623390198,
           4892.283203125,
           0.02676508203148842,
           0.0051796333864331245,
           3.2312285900115967,
           3.5467402935028076,
           3.7847328186035156,
           0.019603528082370758,
           -4937.650390625,
           -3243.567626953125,
           0.34607189893722534
          ],
          [
           "s",
           0.00547430757433176,
           0.002763827797025442,
           0.006132412236183882,
           0.16914553940296173,
           5195.5654296875,
           0.025543227791786194,
           0.005144244991242886,
           3.0426833629608154,
           3.3731086254119873,
           3.627157688140869,
           0.018658988177776337,
           4937.650390625,
           3243.567626953125,
           0.34607189893722534
          ],
          [
           "s",
           0.0054779332131147385,
           0.0024084006436169147,
           0.005983959883451462,
           -0.4093126654624939,
           5009.95263671875,
           0.018884757533669472,
           0.0051842061802744865,
           2.4946165084838867,
           2.719534158706665,
           2.8794543743133545,
           0.01492768619209528,
           482.8722839355469,
           22.079647064208984,
           0.32310783863067627
          ],
          [
           "c",
           0.005428786389529705,
           0.003506000153720379,
           0.006462314631789923,
           0.34023985266685486,
           2256.08203125,
           0.030403533950448036,
           0.005052537657320499,
           3.274710178375244,
           3.77645206451416,
           4.188431739807129,
           0.021162208169698715,
           -1279.9415283203125,
           -45.712196350097656,
           0.1773734837770462
          ],
          [
           "s",
           0.00549387838691473,
           0.002885692985728383,
           0.0062055704183876514,
           -0.23478803038597107,
           3971.984619140625,
           0.02220122329890728,
           0.005116949323564768,
           2.536515951156616,
           2.8341732025146484,
           3.0761547088623047,
           0.01574052684009075,
           4208.634765625,
           3354.994384765625,
           0.28023409843444824
          ],
          [
           "i",
           0.005447677802294493,
           0.0042129866778850555,
           0.006886603776365519,
           0.2586968243122101,
           4357.84912109375,
           0.030290914699435234,
           0.005262226797640324,
           2.8677244186401367,
           3.347369432449341,
           3.7529516220092773,
           0.019748881459236145,
           488.4721984863281,
           1192.4609375,
           0.3078594505786896
          ],
          [
           "c",
           0.005454538390040398,
           0.0028828242793679237,
           0.006169483065605164,
           1.5214414596557617,
           5888.69091796875,
           0.04004450887441635,
           0.005189887247979641,
           4.054879188537598,
           4.497560501098633,
           4.820241451263428,
           0.025016507133841515,
           409.7735595703125,
           1614.020263671875,
           0.6741961240768433
          ],
          [
           "s",
           0.0054525407031178474,
           0.0025112349539995193,
           0.006003021262586117,
           -0.19760683178901672,
           6044.3037109375,
           0.021645141765475273,
           0.0051449136808514595,
           2.696080446243286,
           2.954263925552368,
           3.1457533836364746,
           0.016184629872441292,
           4790.7314453125,
           4952.423828125,
           0.32196253538131714
          ],
          [
           "c",
           0.005405407398939133,
           0.005957083776593208,
           0.008043555542826653,
           -0.780905544757843,
           2929.643310546875,
           0.03212098404765129,
           0.005735036451369524,
           2.522820472717285,
           3.043248176574707,
           3.5383291244506836,
           0.02029244787991047,
           2940.20849609375,
           2889.925048828125,
           0.3093167245388031
          ],
          [
           "s",
           0.005293448455631733,
           0.0022068344987928867,
           0.005735033191740513,
           0.07782158255577087,
           6554.4208984375,
           0.02502249740064144,
           0.005049322731792927,
           3.190833568572998,
           3.4465548992156982,
           3.6241567134857178,
           0.018299536779522896,
           3119.525146484375,
           3625.864990234375,
           0.545539915561676
          ],
          [
           "c",
           0.0054483553394675255,
           0.0038510647136718035,
           0.006671943236142397,
           1.0764966011047363,
           4536.181640625,
           0.04501352459192276,
           0.00521817896515131,
           3.992335319519043,
           4.607914924621582,
           5.104584217071533,
           0.026636634021997452,
           2508.781005859375,
           2696.1318359375,
           0.8072932958602905
          ],
          [
           "c",
           0.005432199686765671,
           0.002694333204999566,
           0.006063670385628939,
           0.9997528195381165,
           6438.73779296875,
           0.03622986003756523,
           0.005144326947629452,
           3.7085673809051514,
           4.091951370239258,
           4.371325492858887,
           0.02248753048479557,
           4371.75048828125,
           4928.85498046875,
           0.664210319519043
          ],
          [
           "s",
           0.005448128562420607,
           0.0021694134920835495,
           0.0058641573414206505,
           -0.27797552943229675,
           7618.6630859375,
           0.018282579258084297,
           0.005205056164413691,
           2.6453664302825928,
           2.843853235244751,
           2.980341672897339,
           0.015512845478951931,
           696.7957153320312,
           696.9187622070312,
           0.4026985168457031
          ],
          [
           "s",
           0.005450887605547905,
           0.00212207087315619,
           0.005849380046129227,
           -0.37648576498031616,
           8344.9306640625,
           0.01696154847741127,
           0.005216341000050306,
           2.4151721000671387,
           2.5889906883239746,
           2.7082700729370117,
           0.014127260074019432,
           1285.345947265625,
           697.1033935546875,
           0.38201653957366943
          ],
          [
           "i",
           0.005464719142764807,
           0.0030769517179578543,
           0.0062713781371712685,
           -0.08736073970794678,
           4511.0830078125,
           0.025026962161064148,
           0.005075080785900354,
           2.7702724933624268,
           3.128868579864502,
           3.423280715942383,
           0.017373425886034966,
           -2969.552490234375,
           -2903.153564453125,
           0.452880322933197
          ],
          [
           "s",
           0.005464846268296242,
           0.0027225525118410587,
           0.006105451844632626,
           0.013415351510047913,
           5742.595703125,
           0.02253858372569084,
           0.00512731121852994,
           2.7529349327087402,
           3.0471084117889404,
           3.278114080429077,
           0.016807910054922104,
           -2059.679443359375,
           -922.4907836914062,
           0.370526522397995
          ],
          [
           "i",
           0.005432690493762493,
           0.002910815877839923,
           0.006163181737065315,
           0.04183216765522957,
           2621.578125,
           0.02016689069569111,
           0.005103881470859051,
           2.382251262664795,
           2.6575403213500977,
           2.876682758331299,
           0.014682247303426266,
           -1805.324462890625,
           -179.8284912109375,
           0.24983251094818115
          ],
          [
           "s",
           0.00544407544657588,
           0.0030089563224464655,
           0.006220242474228144,
           0.06472335755825043,
           4560.84765625,
           0.029354292899370193,
           0.005075166001915932,
           3.4659323692321777,
           3.8979012966156006,
           4.247927665710449,
           0.021558938547968864,
           3302.56689453125,
           2890.77099609375,
           0.39637187123298645
          ],
          [
           "s",
           0.005415789783000946,
           0.0021796103101223707,
           0.005837911274284124,
           -0.9684739112854004,
           6486.0712890625,
           0.013267782516777515,
           0.005170683842152357,
           2.0393214225769043,
           2.1980903148651123,
           2.302476406097412,
           0.011905377730727196,
           -4165.9404296875,
           -3292.81005859375,
           0.14619438350200653
          ],
          [
           "s",
           0.005433240905404091,
           0.002028388436883688,
           0.005799494683742523,
           -0.420009046792984,
           4850.060546875,
           0.0167190320789814,
           0.005231131333857775,
           2.30470609664917,
           2.457563877105713,
           2.555112600326538,
           0.01336613018065691,
           4541.9091796875,
           4546.9091796875,
           0.09078150987625122
          ],
          [
           "s",
           0.005433787126094103,
           0.002077842131257057,
           0.005817503202706575,
           -0.36827337741851807,
           7078.8125,
           0.02030820958316326,
           0.005221612751483917,
           2.558699131011963,
           2.736509323120117,
           2.8506977558135986,
           0.014885240234434605,
           -3239.746826171875,
           -3586.33447265625,
           0.18972289562225342
          ],
          [
           "s",
           0.00542171997949481,
           0.0019982142839580774,
           0.005778199061751366,
           -0.19028516113758087,
           4785.619140625,
           0.017649874091148376,
           0.005235874559730291,
           2.3357272148132324,
           2.4844987392425537,
           2.5776586532592773,
           0.013496296480298042,
           -4541.9091796875,
           -4546.9091796875,
           0.09078150987625122
          ],
          [
           "c",
           0.005377292633056641,
           0.006881154142320156,
           0.008732760325074196,
           -0.07423260062932968,
           3463.244140625,
           0.047709718346595764,
           0.006295290309935808,
           2.9750919342041016,
           3.575814723968506,
           4.127016544342041,
           0.025980764999985695,
           -2515.47021484375,
           -3414.7431640625,
           0.42034053802490234
          ],
          [
           "s",
           0.005486934445798397,
           0.001702767563983798,
           0.005745062604546547,
           -0.871419370174408,
           7454.484375,
           0.013699039816856384,
           0.0053489916026592255,
           2.053542137145996,
           2.1500113010406494,
           2.2055983543395996,
           0.011797727085649967,
           1087.135009765625,
           119.89205169677734,
           0.25240734219551086
          ],
          [
           "s",
           0.0053712124936282635,
           0.0028756307438015938,
           0.0060925353318452835,
           0.18235301971435547,
           6493.302734375,
           0.030938738957047462,
           0.005027447361499071,
           3.220860242843628,
           3.602263927459717,
           3.903214454650879,
           0.019623205065727234,
           -119.99931335449219,
           -360.1122131347656,
           0.5331425666809082
          ],
          [
           "s",
           0.005469111725687981,
           0.0024095068220049143,
           0.0059763104654848576,
           0.39816340804100037,
           3752.281005859375,
           0.02226945012807846,
           0.005208228249102831,
           2.5795035362243652,
           2.8023180961608887,
           2.9599151611328125,
           0.015415913425385952,
           -1098.10400390625,
           -1680.2218017578125,
           0.19952385127544403
          ],
          [
           "s",
           0.005440175533294678,
           0.002304572146385908,
           0.005908033810555935,
           -0.8474571704864502,
           2786.184326171875,
           0.012193459086120129,
           0.005158792249858379,
           2.0050981044769287,
           2.1772475242614746,
           2.2963101863861084,
           0.011846186593174934,
           -2822.17431640625,
           -2910.967041015625,
           0.07755571603775024
          ],
          [
           "s",
           0.005366344470530748,
           0.002012669574469328,
           0.005731337703764439,
           -0.7004126310348511,
           5732.01220703125,
           0.016250114887952805,
           0.00515771983191371,
           2.180403232574463,
           2.3276925086975098,
           2.4228975772857666,
           0.012496626935899258,
           2696.27685546875,
           2593.718505859375,
           0.16738519072532654
          ],
          [
           "s",
           0.005428064148873091,
           0.0018827037420123816,
           0.005745242349803448,
           -1.0319925546646118,
           4126.6162109375,
           0.010571036487817764,
           0.005250330548733473,
           1.7915642261505127,
           1.896213412284851,
           1.9604424238204956,
           0.010292970575392246,
           1255.2569580078125,
           2483.543701171875,
           0.1600928008556366
          ],
          [
           "s",
           0.00543445348739624,
           0.0019519866909831762,
           0.005774376448243856,
           -0.6808812022209167,
           7725.54541015625,
           0.015357173047959805,
           0.005246514454483986,
           2.344538927078247,
           2.4907515048980713,
           2.580427408218384,
           0.013538249768316746,
           3239.746826171875,
           3586.33447265625,
           0.18972289562225342
          ],
          [
           "i",
           0.005422839429229498,
           0.003065281780436635,
           0.006229023449122906,
           0.10097087174654007,
           2096.547119140625,
           0.024372076615691185,
           0.005084705073386431,
           2.977611541748047,
           3.345641613006592,
           3.64772629737854,
           0.01854761317372322,
           -3565.851806640625,
           -2852.29736328125,
           0.14694280922412872
          ],
          [
           "i",
           0.005456652492284775,
           0.002719100331887603,
           0.006096542812883854,
           -0.29819270968437195,
           3806.9892578125,
           0.019611259922385216,
           0.005082782823592424,
           2.6462442874908447,
           2.945834159851074,
           3.174036979675293,
           0.016132941469550133,
           -927.7310180664062,
           -1357.5050048828125,
           0.20307299494743347
          ],
          [
           "s",
           0.005451071076095104,
           0.0020825855899602175,
           0.005835343152284622,
           -0.2694534361362457,
           8535.1708984375,
           0.017656434327363968,
           0.005228664726018906,
           2.361319065093994,
           2.5244009494781494,
           2.635301351547241,
           0.013779107481241226,
           3692.223388671875,
           2939.85888671875,
           0.3041871190071106
          ],
          [
           "c",
           0.005462903529405594,
           0.0036825404968112707,
           0.0065881432965397835,
           0.049721308052539825,
           4562.59912109375,
           0.029167423024773598,
           0.0051199705339968204,
           2.8727383613586426,
           3.3175289630889893,
           3.696507692337036,
           0.01892601139843464,
           2963.44775390625,
           2947.1572265625,
           0.5450159311294556
          ],
          [
           "s",
           0.0054824473336339,
           0.0022851263638585806,
           0.005939611699432135,
           -0.6845011711120605,
           13046.6083984375,
           0.019401386380195618,
           0.005217330064624548,
           2.709846019744873,
           2.9346795082092285,
           3.084994316101074,
           0.01609543338418007,
           3075.25390625,
           3314.59326171875,
           0.6175416707992554
          ],
          [
           "s",
           0.005385061260312796,
           0.002298408653587103,
           0.005855017341673374,
           -0.1337215155363083,
           4991.62939453125,
           0.020513903349637985,
           0.005123538430780172,
           2.503689765930176,
           2.7126901149749756,
           2.8611373901367188,
           0.014659146778285503,
           -346.554443359375,
           -479.83233642578125,
           0.26213186979293823
          ],
          [
           "s",
           0.0054893651977181435,
           0.0018584236968308687,
           0.0057954019866883755,
           0.0312822051346302,
           5915.56982421875,
           0.01568714715540409,
           0.005316893104463816,
           2.314480781555176,
           2.4423675537109375,
           2.5227792263031006,
           0.013413346372544765,
           1902.5079345703125,
           1058.3858642578125,
           0.3039024770259857
          ],
          [
           "s",
           0.005466736387461424,
           0.001781868515536189,
           0.00574979092925787,
           -0.2104889303445816,
           5966.76953125,
           0.014539611525833607,
           0.005308777559548616,
           2.294564962387085,
           2.4130470752716064,
           2.485180377960205,
           0.01319326926022768,
           2843.6953125,
           3389.2880859375,
           0.2286866307258606
          ],
          [
           "s",
           0.005533702205866575,
           0.00179616070818156,
           0.00581787247210741,
           -0.6338459849357605,
           4565.28857421875,
           0.010849733836948872,
           0.005378622096031904,
           1.9356931447982788,
           2.0350961685180664,
           2.093773365020752,
           0.011261614970862865,
           3561.805908203125,
           2538.798828125,
           0.1268792599439621
          ],
          [
           "s",
           0.00545826880261302,
           0.001853855443187058,
           0.005764437839388847,
           -0.3124939203262329,
           3350.96875,
           0.014756320975720882,
           0.005291395355015993,
           2.0421321392059326,
           2.1552114486694336,
           2.2246954441070557,
           0.011771743185818195,
           -179.19044494628906,
           -798.8907470703125,
           0.1657542884349823
          ],
          [
           "s",
           0.005498243495821953,
           0.0018854085355997086,
           0.005812518764287233,
           0.16772617399692535,
           7226.47607421875,
           0.028523709625005722,
           0.005328009836375713,
           3.09397554397583,
           3.2678325176239014,
           3.3753297328948975,
           0.01798379048705101,
           -3065.084716796875,
           -4934.775390625,
           0.3607911467552185
          ],
          [
           "c",
           0.005478181876242161,
           0.005433501675724983,
           0.007715615443885326,
           0.6549177169799805,
           3356.736083984375,
           0.039241891354322433,
           0.005587933585047722,
           3.114290475845337,
           3.767371892929077,
           4.300098896026611,
           0.02402866818010807,
           -3616.60302734375,
           -3893.168212890625,
           0.20060297846794128
          ],
          [
           "c",
           0.005429267417639494,
           0.001713036559522152,
           0.005693049635738134,
           -0.4285490810871124,
           3411.74169921875,
           0.012570244260132313,
           0.005281630903482437,
           2.0060012340545654,
           2.103271484375,
           2.1622607707977295,
           0.011420263908803463,
           1275.1319580078125,
           1112.4739990234375,
           0.43834781646728516
          ],
          [
           "c",
           0.005446117836982012,
           0.010178553871810436,
           0.011543761007487774,
           -0.7183502316474915,
           5114.7734375,
           0.05562150850892067,
           0.007649489212781191,
           2.891176462173462,
           3.64217209815979,
           4.363042831420898,
           0.033375050872564316,
           1055.9879150390625,
           1037.1309814453125,
           0.9066747426986694
          ],
          [
           "i",
           0.005438679363578558,
           0.001672485377639532,
           0.005689977668225765,
           -0.34567517042160034,
           3629.3720703125,
           0.010762826539576054,
           0.005300209857523441,
           1.8858082294464111,
           1.9729382991790771,
           2.024487018585205,
           0.010730206966400146,
           3545.410888671875,
           3456.348876953125,
           0.1040664091706276
          ],
          [
           "i",
           0.005470543168485165,
           0.004098869860172272,
           0.006835732609033585,
           1.7659655809402466,
           6135.287109375,
           0.04180097579956055,
           0.005381645634770393,
           3.6441545486450195,
           4.209433555603027,
           4.628782749176025,
           0.024910466745495796,
           1044.0947265625,
           1048.8447265625,
           0.5613875389099121
          ],
          [
           "s",
           0.005516375880688429,
           0.0018097629072144628,
           0.005805619992315769,
           -0.6011983752250671,
           3859.460693359375,
           0.013633161783218384,
           0.005356804467737675,
           2.2894785404205322,
           2.4094862937927246,
           2.4813005924224854,
           0.013291842304170132,
           -3561.805908203125,
           -2505.83984375,
           0.1268792599439621
          ],
          [
           "s",
           0.005502224434167147,
           0.0017939945682883263,
           0.0057872687466442585,
           -0.7323462963104248,
           4874.212890625,
           0.010558194480836391,
           0.005344810429960489,
           1.8129475116729736,
           1.9068619012832642,
           1.9630283117294312,
           0.010492014698684216,
           -2366.96435546875,
           -1610.1884765625,
           0.17068466544151306
          ],
          [
           "c",
           0.005473039112985134,
           0.009477542713284492,
           0.0109441252425313,
           -0.3187859058380127,
           4167.615234375,
           0.06676133722066879,
           0.007326218765228987,
           3.547818899154663,
           4.455156326293945,
           5.299838066101074,
           0.03882777318358421,
           -1055.9879150390625,
           -1037.1309814453125,
           0.8848588466644287
          ],
          [
           "c",
           0.0054320236667990685,
           0.007904776372015476,
           0.009590569883584976,
           0.195081889629364,
           1815.751953125,
           0.061786528676748276,
           0.00659922556951642,
           3.765127182006836,
           4.685303211212158,
           5.471810817718506,
           0.036109715700149536,
           -4686.14990234375,
           -4728.28125,
           0.32989367842674255
          ],
          [
           "s",
           0.005457371007651091,
           0.0018331550527364016,
           0.00575702078640461,
           -0.04737222567200661,
           9183.083984375,
           0.01676219329237938,
           0.005289372522383928,
           2.4348413944244385,
           2.5677404403686523,
           2.6501123905181885,
           0.014017432928085327,
           -55.19972229003906,
           -1048.894775390625,
           0.4547525942325592
          ],
          [
           "s",
           0.005497113335877657,
           0.0017947960877791047,
           0.005782688967883587,
           0.03304167464375496,
           10658.0390625,
           0.01637481525540352,
           0.005337351933121681,
           2.194065570831299,
           2.307262659072876,
           2.37713360786438,
           0.01268759835511446,
           25.23417091369629,
           697.5968017578125,
           0.5125207304954529
          ],
          [
           "s",
           0.005477682687342167,
           0.0019753563683480024,
           0.005822968203574419,
           0.21896010637283325,
           8972.6708984375,
           0.019196705892682076,
           0.005284050013870001,
           2.4919326305389404,
           2.646368980407715,
           2.746083974838257,
           0.014510445296764374,
           -3602.431884765625,
           -3108.83447265625,
           0.4015209376811981
          ],
          [
           "i",
           0.005442036781460047,
           0.003672948107123375,
           0.00656546838581562,
           1.1491849422454834,
           3516.2900390625,
           0.03286951035261154,
           0.0051687974482774734,
           3.408345937728882,
           3.929546356201172,
           4.329322338104248,
           0.022377388551831245,
           3717.50048828125,
           4653.83203125,
           0.32348117232322693
          ],
          [
           "s",
           0.0054693385027348995,
           0.0018032367806881666,
           0.005758929066359997,
           -0.3104187548160553,
           9201.5595703125,
           0.01827700063586235,
           0.0053106313571333885,
           2.429953098297119,
           2.5575780868530273,
           2.635077953338623,
           0.013993927277624607,
           -2050.98974609375,
           -1545.4923095703125,
           0.3848745822906494
          ],
          [
           "s",
           0.005503085441887379,
           0.001832670415751636,
           0.005800185725092888,
           -0.5713130831718445,
           3935.232421875,
           0.014508729800581932,
           0.0053411126136779785,
           2.1300902366638184,
           2.244785785675049,
           2.313173294067383,
           0.012354918755590916,
           -3657.114501953125,
           -4569.4375,
           0.12026874721050262
          ],
          [
           "s",
           0.005486784502863884,
           0.001756874262355268,
           0.005761193577200174,
           -0.20748722553253174,
           10481.20703125,
           0.015511468052864075,
           0.005333716981112957,
           2.133309841156006,
           2.2396399974823,
           2.304286241531372,
           0.01229041162878275,
           3602.431884765625,
           3108.83447265625,
           0.4015209376811981
          ],
          [
           "c",
           0.0054481057450175285,
           0.0019740478601306677,
           0.005794642958790064,
           0.21854610741138458,
           2811.01953125,
           0.017305472865700722,
           0.005255425814539194,
           2.434194564819336,
           2.587493658065796,
           2.683947801589966,
           0.014105288311839104,
           4686.14990234375,
           4728.28125,
           0.32989367842674255
          ],
          [
           "s",
           0.00546217430382967,
           0.0016194273484870791,
           0.005697167944163084,
           -0.3560388684272766,
           5265.63330078125,
           0.01392512395977974,
           0.005334049928933382,
           2.37345552444458,
           2.4754750728607178,
           2.535029411315918,
           0.01352197490632534,
           -853.9063110351562,
           -1765.091796875,
           0.21784882247447968
          ],
          [
           "s",
           0.005466510076075792,
           0.002554373349994421,
           0.006033780984580517,
           1.406596064567566,
           2328.811767578125,
           0.027255594730377197,
           0.0052129486575722694,
           3.3916075229644775,
           3.704620599746704,
           3.9256508350372314,
           0.0204642154276371,
           2696.292236328125,
           4574.216796875,
           0.14741957187652588
          ],
          [
           "i",
           0.005463438108563423,
           0.004673128016293049,
           0.007189062424004078,
           1.400803565979004,
           1982.86572265625,
           0.03792908042669296,
           0.0054242610931396484,
           3.4482803344726562,
           4.078653812408447,
           4.570189952850342,
           0.024789903312921524,
           -455.9756774902344,
           -2122.020263671875,
           0.18213112652301788
          ],
          [
           "s",
           0.005497574340552092,
           0.0018428986659273505,
           0.005798199214041233,
           -0.6651607155799866,
           4171.9853515625,
           0.011975116096436977,
           0.005331350024789572,
           2.009425640106201,
           2.1192708015441895,
           2.185384750366211,
           0.011651050299406052,
           56.17578125,
           120.17350769042969,
           0.18323969841003418
          ],
          [
           "s",
           0.005479920655488968,
           0.0018080362351611257,
           0.005770482122898102,
           -0.4476785361766815,
           9232.619140625,
           0.015910163521766663,
           0.0053181760013103485,
           2.4217793941497803,
           2.5499277114868164,
           2.6277496814727783,
           0.01397483516484499,
           3065.084716796875,
           4934.775390625,
           0.3607911467552185
          ],
          [
           "s",
           0.00547276996076107,
           0.0017512377817183733,
           0.005746115930378437,
           -0.11331750452518463,
           5647.07470703125,
           0.014427343383431435,
           0.005319418851286173,
           2.213188648223877,
           2.3233327865600586,
           2.390719413757324,
           0.012717238627374172,
           -3566.343017578125,
           -3533.863525390625,
           0.21597589552402496
          ],
          [
           "s",
           0.005460432264953852,
           0.001719681196846068,
           0.00572477001696825,
           -0.4502071142196655,
           3065.576904296875,
           0.01319272443652153,
           0.005316449794918299,
           2.232290029525757,
           2.3401334285736084,
           2.4037370681762695,
           0.012779347598552704,
           -4134.712890625,
           -4659.48486328125,
           0.11471675336360931
          ],
          [
           "i",
           0.005488038063049316,
           0.0021820764522999525,
           0.005905909463763237,
           -0.15640871226787567,
           5610.2734375,
           0.01828697882592678,
           0.005242966115474701,
           2.4403247833251953,
           2.623403787612915,
           2.748889923095703,
           0.014412336982786655,
           4886.3349609375,
           4985,
           0.2573882043361664
          ],
          [
           "i",
           0.005484459456056356,
           0.00204283045604825,
           0.005852540489286184,
           -0.20191814005374908,
           5912.4716796875,
           0.015696432441473007,
           0.005269622430205345,
           2.315631628036499,
           2.469710111618042,
           2.5717835426330566,
           0.013552327640354633,
           -229.1969451904297,
           -11.999839782714844,
           0.31337907910346985
          ],
          [
           "s",
           0.005485642235726118,
           0.001760386978276074,
           0.005761166103184223,
           -0.07394906133413315,
           5844.22314453125,
           0.014358380809426308,
           0.005333146546036005,
           2.1386196613311768,
           2.2454495429992676,
           2.31025767326355,
           0.012320943176746368,
           853.9063110351562,
           1765.091796875,
           0.23972173035144806
          ],
          [
           "i",
           0.005483866203576326,
           0.001979831140488386,
           0.005830303765833378,
           -0.2556919455528259,
           10000.5,
           0.016044525429606438,
           0.00528332544490695,
           2.235844373703003,
           2.376338005065918,
           2.4673194885253906,
           0.013035652227699757,
           -3492.732421875,
           -3601.931884765625,
           0.43930864334106445
          ],
          [
           "s",
           0.00550307659432292,
           0.0019470512634143233,
           0.005837361328303814,
           -0.1018248051404953,
           9721.923828125,
           0.016767125576734543,
           0.005311248358339071,
           2.2999277114868164,
           2.4384918212890625,
           2.527750253677368,
           0.013425508514046669,
           55.19972229003906,
           1048.894775390625,
           0.4766680896282196
          ],
          [
           "s",
           0.005474898964166641,
           0.0024918238632380962,
           0.006015206687152386,
           0.6139025092124939,
           2836.197509765625,
           0.021880920976400375,
           0.005206298548728228,
           2.785696268081665,
           3.0388424396514893,
           3.218512535095215,
           0.016756538301706314,
           -2696.292236328125,
           -4574.216796875,
           0.14741957187652588
          ],
          [
           "i",
           0.005442493129521608,
           0.0021581153851002455,
           0.005854730494320393,
           0.45093992352485657,
           4466.8798828125,
           0.02073359675705433,
           0.0052202544175088406,
           2.6835269927978516,
           2.8780601024627686,
           3.00968599319458,
           0.015711328014731407,
           1183.4576416015625,
           1038.9384765625,
           0.4168517589569092
          ],
          [
           "s",
           0.005495775490999222,
           0.0018408057512715459,
           0.005795828532427549,
           -0.6279401183128357,
           4062.48486328125,
           0.011499013751745224,
           0.005328754894435406,
           2.063408613204956,
           2.1760647296905518,
           2.244269609451294,
           0.011959163472056389,
           -56.17578125,
           -24.176918029785156,
           0.16126848757266998
          ],
          [
           "s",
           0.00547974556684494,
           0.0017041617538779974,
           0.005738616921007633,
           -0.5974475741386414,
           10107.140625,
           0.014560351148247719,
           0.005338127259165049,
           2.2122786045074463,
           2.3167097568511963,
           2.378253221511841,
           0.012695418670773506,
           2050.98974609375,
           1545.4923095703125,
           0.4067938029766083
          ],
          [
           "c",
           0.005489754024893045,
           0.004265072289854288,
           0.006951732095330954,
           1.649670958518982,
           3111.146484375,
           0.03753380849957466,
           0.005421981681138277,
           3.3597302436828613,
           3.9045515060424805,
           4.307640075683594,
           0.023355945944786072,
           -46.170372009277344,
           -1095.9749755859375,
           0.2905389666557312
          ],
          [
           "i",
           0.005461269058287144,
           0.0029379744082689285,
           0.006201369222253561,
           0.6638936400413513,
           7286.36181640625,
           0.02671707421541214,
           0.00517417723312974,
           3.0685513019561768,
           3.415217161178589,
           3.6777286529541016,
           0.019029218703508377,
           3492.732421875,
           3601.931884765625,
           0.43930864334106445
          ],
          [
           "s",
           0.005440586246550083,
           0.002419469878077507,
           0.005954205524176359,
           1.7579752206802368,
           2654.27099609375,
           0.02446046657860279,
           0.005225684028118849,
           2.5777485370635986,
           2.78771710395813,
           2.937116861343384,
           0.015348444692790508,
           179.19044494628906,
           798.8907470703125,
           0.18753044307231903
          ],
          [
           "i",
           0.005439835134893656,
           0.001646474003791809,
           0.00568349426612258,
           -0.22266249358654022,
           3182.84326171875,
           0.012432870455086231,
           0.005300975404679775,
           2.15012788772583,
           2.2463531494140625,
           2.305281162261963,
           0.012220239266753197,
           455.9756774902344,
           2122.020263671875,
           0.20389656722545624
          ],
          [
           "c",
           0.005466594360768795,
           0.002200514078140259,
           0.005892832763493061,
           0.5361056327819824,
           3971.92236328125,
           0.019671546295285225,
           0.005233346484601498,
           2.6322710514068604,
           2.8292810916900635,
           2.963979721069336,
           0.015511532314121723,
           3616.60302734375,
           3893.168212890625,
           0.20060297846794128
          ],
          [
           "s",
           0.005476280115544796,
           0.0017261069733649492,
           0.005741857457906008,
           -0.34967589378356934,
           6311.43798828125,
           0.01500769518315792,
           0.005328417755663395,
           2.1692910194396973,
           2.2742650508880615,
           2.3376095294952393,
           0.012455759570002556,
           -1902.5079345703125,
           -1058.3858642578125,
           0.28202110528945923
          ],
          [
           "c",
           0.005398099776357412,
           0.008032532408833504,
           0.009677550755441189,
           -0.16579705476760864,
           3434.631103515625,
           0.053340211510658264,
           0.006981620565056801,
           2.9998557567596436,
           3.6106746196746826,
           4.15824031829834,
           0.029031256213784218,
           3414.7431640625,
           3464.15380859375,
           0.42034053802490234
          ],
          [
           "s",
           0.005378813482820988,
           0.001870787120424211,
           0.005694844760000706,
           -0.9784632325172424,
           6320.04638671875,
           0.011367280967533588,
           0.005203427746891975,
           1.9776493310928345,
           2.0938401222229004,
           2.1644206047058105,
           0.011262405663728714,
           346.554443359375,
           479.83233642578125,
           0.283624529838562
          ],
          [
           "s",
           0.005419584456831217,
           0.0019362767925485969,
           0.0057550352066755295,
           -1.0634878873825073,
           3991.2626953125,
           0.010464268736541271,
           0.00523413484916091,
           1.9300719499588013,
           2.0495357513427734,
           2.12215256690979,
           0.011107632890343666,
           2783.8828125,
           3648.267333984375,
           0.09422953426837921
          ],
          [
           "s",
           0.005487358663231134,
           0.0018215373856946826,
           0.005781778134405613,
           -0.9065842628479004,
           7809.14892578125,
           0.011168385855853558,
           0.005328118335455656,
           1.960292935371399,
           2.0654709339141846,
           2.1272010803222656,
           0.011333978734910488,
           4539.25830078125,
           3309.084716796875,
           0.12860538065433502
          ],
          [
           "i",
           0.005429863464087248,
           0.0024675498716533184,
           0.0059641823172569275,
           -0.4767788052558899,
           3753.059326171875,
           0.02014351263642311,
           0.005117734428495169,
           2.4008893966674805,
           2.6294705867767334,
           2.7979846000671387,
           0.014319341629743576,
           3263.591796875,
           4441.70947265625,
           0.16930659115314484
          ],
          [
           "s",
           0.005421280395239592,
           0.0018663182854652405,
           0.005733510944992304,
           -0.9039079546928406,
           5587.4189453125,
           0.011682725511491299,
           0.005249960348010063,
           2.000744342803955,
           2.1159605979919434,
           2.185023784637451,
           0.011471289210021496,
           120.19759368896484,
           1108.3778076171875,
           0.20905090868473053
          ],
          [
           "s",
           0.005433171521872282,
           0.0019830954261124134,
           0.005783710163086653,
           -1.0487672090530396,
           4004.7841796875,
           0.010036299005150795,
           0.0052351029589772224,
           1.8460332155227661,
           1.965135931968689,
           2.0394864082336426,
           0.010676921345293522,
           3606.6923828125,
           4888.91943359375,
           0.07017181068658829
          ],
          [
           "i",
           0.0054094018414616585,
           0.0031517536845058203,
           0.006260402034968138,
           -0.3630243241786957,
           2572.493896484375,
           0.019464004784822464,
           0.004984220955520868,
           2.427948474884033,
           2.769254207611084,
           3.0496108531951904,
           0.015199934132397175,
           3565.851806640625,
           2852.29736328125,
           0.14691311120986938
          ],
          [
           "s",
           0.005380226299166679,
           0.0022215787321329117,
           0.0058208187110722065,
           -0.37393391132354736,
           5734.20849609375,
           0.015813011676073074,
           0.005129379220306873,
           2.179568290710449,
           2.3529088497161865,
           2.4733738899230957,
           0.012686872854828835,
           -2696.27685546875,
           -2593.718505859375,
           0.16738519072532654
          ],
          [
           "c",
           0.005399306304752827,
           0.0035550149623304605,
           0.006464418955147266,
           0.35517850518226624,
           2944.176513671875,
           0.026928769424557686,
           0.005133742932230234,
           2.7498176097869873,
           3.141660690307617,
           3.462575674057007,
           0.017775973305106163,
           -1633.842529296875,
           -1646.4134521484375,
           0.37007489800453186
          ],
          [
           "s",
           0.005430057644844055,
           0.002283561509102583,
           0.005890605039894581,
           -0.9202957153320312,
           3593.2001953125,
           0.01279973704367876,
           0.005154907237738371,
           2.0573320388793945,
           2.23154878616333,
           2.350950241088867,
           0.0121189309284091,
           -1255.2569580078125,
           -2178.18603515625,
           0.13841211795806885
          ],
          [
           "s",
           0.00543778482824564,
           0.0024416872765868902,
           0.005960656795650721,
           -0.8516359329223633,
           2720.792236328125,
           0.013050276786088943,
           0.005122039001435041,
           2.053224802017212,
           2.249340295791626,
           2.3893938064575195,
           0.012238568626344204,
           -2001.43994140625,
           -119.99040222167969,
           0.12397372722625732
          ],
          [
           "s",
           0.0055003296583890915,
           0.0018754432676360011,
           0.00581126194447279,
           -0.8772100806236267,
           7645.45556640625,
           0.014035276137292385,
           0.005331919528543949,
           2.002213954925537,
           2.1153135299682617,
           2.1822140216827393,
           0.011635389178991318,
           -1087.135009765625,
           -119.89205169677734,
           0.23043952882289886
          ],
          [
           "c",
           0.0053946757689118385,
           0.009157165884971619,
           0.010627714917063713,
           -0.5301212072372437,
           3620.177978515625,
           0.053106505423784256,
           0.007731493096798658,
           2.8463568687438965,
           3.4041285514831543,
           3.9126036167144775,
           0.030250268056988716,
           1674.3135986328125,
           1623.4912109375,
           0.656216025352478
          ],
          [
           "s",
           0.005401122849434614,
           0.002148665953427553,
           0.005812798626720905,
           -0.9730481505393982,
           6258.07861328125,
           0.013461253605782986,
           0.00516239320859313,
           2.1135988235473633,
           2.274507999420166,
           2.3798892498016357,
           0.012285924516618252,
           4165.9404296875,
           3292.81005859375,
           0.14619438350200653
          ],
          [
           "s",
           0.005430962424725294,
           0.0019275437807664275,
           0.005762869492173195,
           -0.7937412261962891,
           7823.845703125,
           0.01636345684528351,
           0.005249097011983395,
           2.315051317214966,
           2.4561870098114014,
           2.54164457321167,
           0.013341338373720646,
           -120.22765350341797,
           -655.461669921875,
           0.3505547344684601
          ],
          [
           "s",
           0.0053871707059443,
           0.0021195425651967525,
           0.005789111368358135,
           -0.9569997191429138,
           6227.19189453125,
           0.012851874344050884,
           0.005155167542397976,
           2.1241402626037598,
           2.282477378845215,
           2.3853509426116943,
           0.012296884320676327,
           119.99828338623047,
           119.71257781982422,
           0.2801341116428375
          ],
          [
           "s",
           0.005430488847196102,
           0.0019755037501454353,
           0.005778639577329159,
           -0.5720206499099731,
           7365.556640625,
           0.015402852557599545,
           0.005232602823525667,
           2.2125494480133057,
           2.353964328765869,
           2.443434953689575,
           0.012785525992512703,
           2527.505615234375,
           3546.88427734375,
           0.1829008311033249
          ],
          [
           "c",
           0.00543926702812314,
           0.004287320654839277,
           0.006925560068339109,
           -0.0037462019827216864,
           2601.310546875,
           0.02928098477423191,
           0.005230797454714775,
           2.8408029079437256,
           3.3395097255706787,
           3.761214256286621,
           0.01967415027320385,
           -2940.20849609375,
           -2889.925048828125,
           0.30924949049949646
          ],
          [
           "i",
           0.0053939977660775185,
           0.0036451402120292187,
           0.006509948056191206,
           -0.07110995799303055,
           2439.2744140625,
           0.02623855508863926,
           0.005042822100222111,
           2.804584264755249,
           3.2426435947418213,
           3.6205320358276367,
           0.01825769804418087,
           327.9825134277344,
           1038.8779296875,
           0.26226961612701416
          ],
          [
           "s",
           0.005415921099483967,
           0.0020574182271957397,
           0.0057934788055717945,
           -1.034899353981018,
           4020.617919921875,
           0.010426939465105534,
           0.005200451705604792,
           1.8387677669525146,
           1.966952919960022,
           2.0484492778778076,
           0.01065286248922348,
           -3606.6923828125,
           -4888.91943359375,
           0.07014882564544678
          ],
          [
           "i",
           0.005403828341513872,
           0.003200751030817628,
           0.00628044456243515,
           0.058551084250211716,
           2610.445068359375,
           0.023350579664111137,
           0.00504578510299325,
           2.620962619781494,
           2.9719464778900146,
           3.262289047241211,
           0.016460809856653214,
           3381.153076171875,
           3343.82177734375,
           0.13554981350898743
          ],
          [
           "s",
           0.005523898173123598,
           0.0020151224453002214,
           0.005879936274141073,
           -0.2652706503868103,
           4097.60595703125,
           0.01589474081993103,
           0.005321420729160309,
           2.1564998626708984,
           2.293912172317505,
           2.3828377723693848,
           0.012680081650614738,
           2366.96435546875,
           1610.1884765625,
           0.19273830950260162
          ],
          [
           "s",
           0.005499279126524925,
           0.0019062788924202323,
           0.005820262245833874,
           -0.5650927424430847,
           4052.61962890625,
           0.012318790890276432,
           0.005320033058524132,
           2.068575620651245,
           2.1892831325531006,
           2.263078451156616,
           0.012039653025567532,
           3657.114501953125,
           4569.4375,
           0.12025929987430573
          ],
          [
           "s",
           0.005471471231430769,
           0.0018217323813587427,
           0.005766729824244976,
           3.3657355308532715,
           1968.1954345703125,
           0.02794324979186058,
           0.00532795675098896,
           4.011868476867676,
           4.219336032867432,
           4.342257976531982,
           0.023135362192988396,
           979.9608154296875,
           377.9848937988281,
           0.21800725162029266
          ],
          [
           "c",
           0.005464764777570963,
           0.011370640248060226,
           0.01261543482542038,
           -0.8768990635871887,
           5244.9951171875,
           0.06270983070135117,
           0.008517426438629627,
           2.819356918334961,
           3.5082714557647705,
           4.175840377807617,
           0.03556741029024124,
           3163.278076171875,
           3158.478271484375,
           0.8307616710662842
          ],
          [
           "s",
           0.005491230171173811,
           0.0019303848966956139,
           0.005820601247251034,
           -0.2712858319282532,
           3496.08837890625,
           0.014244427904486656,
           0.005298356059938669,
           2.2603726387023926,
           2.3957929611206055,
           2.4831717014312744,
           0.013156726956367493,
           -979.9608154296875,
           -377.9848937988281,
           0.19613714516162872
          ],
          [
           "i",
           0.005473059602081776,
           0.002154539106413722,
           0.00588185153901577,
           -0.13339479267597198,
           5674.05908203125,
           0.017598358914256096,
           0.005236899945884943,
           2.41290020942688,
           2.591019630432129,
           2.7100613117218018,
           0.014192319475114346,
           -4886.3349609375,
           -4985,
           0.2573882043361664
          ],
          [
           "c",
           0.005464070942252874,
           0.0016391787212342024,
           0.0057046241126954556,
           -0.4247739315032959,
           4852.32421875,
           0.012595794163644314,
           0.005332255270332098,
           2.1548991203308105,
           2.249725580215454,
           2.3053829669952393,
           0.012292889878153801,
           46.170372009277344,
           1095.9749755859375,
           0.31241050362586975
          ],
          [
           "s",
           0.005471224430948496,
           0.0019831745885312557,
           0.005819553975015879,
           1.3973759412765503,
           7180.6533203125,
           0.02514507621526718,
           0.005294905509799719,
           3.2563867568969727,
           3.453090190887451,
           3.579047441482544,
           0.01895071752369404,
           -25.23417091369629,
           -697.5968017578125,
           0.49055713415145874
          ],
          [
           "i",
           0.005463502835482359,
           0.002333936048671603,
           0.005941040348261595,
           0.9747397899627686,
           2655.543212890625,
           0.020440950989723206,
           0.005217774771153927,
           2.5765154361724854,
           2.7873947620391846,
           2.9336609840393066,
           0.015307181514799595,
           -3545.410888671875,
           -3456.348876953125,
           0.1040664091706276
          ],
          [
           "i",
           0.005497792735695839,
           0.002587518421933055,
           0.0060762339271605015,
           0.14443577826023102,
           5345.23583984375,
           0.021649722009897232,
           0.005186430644243956,
           2.561352491378784,
           2.8129518032073975,
           3.0007877349853516,
           0.015563377179205418,
           229.1969451904297,
           1578.37890625,
           0.3353048264980316
          ],
          [
           "s",
           0.005467300768941641,
           0.0017841124208644032,
           0.005751019809395075,
           -0.1697576940059662,
           5768.9423828125,
           0.013416372239589691,
           0.0053075989708304405,
           2.166449546813965,
           2.278726100921631,
           2.347444534301758,
           0.012459293939173222,
           3566.343017578125,
           3533.863525390625,
           0.21597589552402496
          ],
          [
           "i",
           0.0054907361045479774,
           0.0028437175787985325,
           0.006183392833918333,
           1.7333643436431885,
           3764.34423828125,
           0.028136931359767914,
           0.005258915014564991,
           3.1839144229888916,
           3.51051664352417,
           3.7436227798461914,
           0.01968739554286003,
           -1183.4576416015625,
           -1038.9384765625,
           0.3950229585170746
          ],
          [
           "s",
           0.005497336853295565,
           0.0017875204794108868,
           0.0057806470431387424,
           0.0988638699054718,
           9671.591796875,
           0.017674876376986504,
           0.005341564770787954,
           2.4178249835968018,
           2.5410561561584473,
           2.616572856903076,
           0.013976593501865864,
           -4388.4140625,
           -3522.40673828125,
           0.41925710439682007
          ],
          [
           "s",
           0.005453393328934908,
           0.0017060121754184365,
           0.00571396155282855,
           -0.6461814641952515,
           3689.88330078125,
           0.010451685637235641,
           0.005309211555868387,
           1.854905366897583,
           1.9435343742370605,
           1.9963148832321167,
           0.010598857887089252,
           4134.712890625,
           4659.48486328125,
           0.11471675336360931
          ],
          [
           "i",
           0.005480681546032429,
           0.001835696049965918,
           0.005779929459095001,
           -0.4446088373661041,
           9923.66015625,
           0.015514572151005268,
           0.005312041845172644,
           2.253154993057251,
           2.3759050369262695,
           2.4516141414642334,
           0.013023076578974724,
           -1044.0947265625,
           -1048.8447265625,
           0.5395022630691528
          ],
          [
           "s",
           0.005464904010295868,
           0.002011488424614072,
           0.005823318846523762,
           0.5008198618888855,
           5694.9375,
           0.018001914024353027,
           0.005267733708024025,
           2.4040567874908447,
           2.5566720962524414,
           2.657611608505249,
           0.013999590650200844,
           -2843.6953125,
           -3389.2880859375,
           0.2286866307258606
          ],
          [
           "c",
           0.005473158322274685,
           0.01049328874796629,
           0.011834675446152687,
           -0.6066091656684875,
           4844.8955078125,
           0.06369268149137497,
           0.008109944872558117,
           3.052088499069214,
           3.7855355739593506,
           4.453849792480469,
           0.03612047806382179,
           -3163.278076171875,
           -3158.478271484375,
           0.8307616710662842
          ],
          [
           "i",
           0.0054249148815870285,
           0.0027938915882259607,
           0.006102013401687145,
           -0.2880798578262329,
           3415.887451171875,
           0.021500781178474426,
           0.005055292975157499,
           2.6376800537109375,
           2.9451098442077637,
           3.183823347091675,
           0.016095159575343132,
           -416.2948913574219,
           -119.99630737304688,
           0.2580142617225647
          ],
          [
           "s",
           0.005409853532910347,
           0.0023586631286889315,
           0.005901651456952095,
           -0.5699871778488159,
           5473.74267578125,
           0.018031129613518715,
           0.005122355185449123,
           2.416363000869751,
           2.6311802864074707,
           2.783979654312134,
           0.014260532334446907,
           -119.99828338623047,
           -119.71257781982422,
           0.25853586196899414
          ],
          [
           "i",
           0.005450677126646042,
           0.0022606258280575275,
           0.005900820251554251,
           -0.8849055767059326,
           4170.81982421875,
           0.014411394484341145,
           0.005184432957321405,
           2.160555601119995,
           2.3385298252105713,
           2.459102153778076,
           0.012749050743877888,
           -3263.591796875,
           -4441.70947265625,
           0.16930659115314484
          ],
          [
           "i",
           0.00543961999937892,
           0.003331506624817848,
           0.006378660444170237,
           -0.15168876945972443,
           3790.0126953125,
           0.022816061973571777,
           0.005054054316133261,
           2.658220052719116,
           3.035029888153076,
           3.354907512664795,
           0.01695588417351246,
           927.7310180664062,
           1357.5050048828125,
           0.22485105693340302
          ],
          [
           "s",
           0.0054472689516842365,
           0.003449385752901435,
           0.006447466555982828,
           -0.017148001119494438,
           3098.107421875,
           0.029472414404153824,
           0.005096809938549995,
           3.2513232231140137,
           3.7165651321411133,
           4.112925052642822,
           0.020962798967957497,
           2535.322265625,
           2538.768310546875,
           0.34503066539764404
          ],
          [
           "i",
           0.005483757238835096,
           0.0033246399834752083,
           0.006412741262465715,
           0.5449644327163696,
           2934.125,
           0.028113767504692078,
           0.005203561391681433,
           2.856332302093506,
           3.2247745990753174,
           3.520073890686035,
           0.01831691898405552,
           698.9973754882812,
           119.46241760253906,
           0.25372806191444397
          ],
          [
           "s",
           0.005498953629285097,
           0.0022078549955040216,
           0.005925626493990421,
           -0.7380459308624268,
           9110.2919921875,
           0.0310512762516737,
           0.005255056079477072,
           3.005903720855713,
           3.237255811691284,
           3.3894712924957275,
           0.017811862751841545,
           360.19879150390625,
           149.16616821289062,
           0.4155322015285492
          ],
          [
           "s",
           0.005487811751663685,
           0.002610329305753112,
           0.006076992489397526,
           0.05011339485645294,
           9228.7177734375,
           0.034143295139074326,
           0.0051648360677063465,
           3.7338061332702637,
           4.112979888916016,
           4.393230438232422,
           0.022690312936902046,
           1171.934326171875,
           1124.6923828125,
           0.7982632517814636
          ],
          [
           "c",
           0.005454446654766798,
           0.012788157910108566,
           0.013902595266699791,
           -0.49294954538345337,
           5491.94482421875,
           0.0745130181312561,
           0.009556567296385765,
           3.053149938583374,
           3.764349937438965,
           4.441627025604248,
           0.04244670644402504,
           3886.365478515625,
           3742.811279296875,
           1.1579819917678833
          ],
          [
           "s",
           0.0054727960377931595,
           0.002576141618192196,
           0.0060487971641123295,
           -0.2451043725013733,
           8579.5498046875,
           0.033023957163095474,
           0.005143946502357721,
           4.016268730163574,
           4.423494338989258,
           4.72275447845459,
           0.024293597787618637,
           -3125.76171875,
           -3923.907470703125,
           0.747319221496582
          ],
          [
           "s",
           0.005495368968695402,
           0.0022295978851616383,
           0.0059303115122020245,
           -0.6616995334625244,
           2852.994873046875,
           0.012618858367204666,
           0.005233795382082462,
           1.9582016468048096,
           2.112281322479248,
           2.2188003063201904,
           0.011612745933234692,
           -4403.64794921875,
           -4756.41943359375,
           0.06496769934892654
          ],
          [
           "s",
           0.005493642296642065,
           0.002380696590989828,
           0.0059872898273169994,
           -0.5164693593978882,
           7715.1953125,
           0.01625824347138405,
           0.005206338129937649,
           2.2910871505737305,
           2.4950125217437744,
           2.6347506046295166,
           0.013717401772737503,
           4615.48291015625,
           2931.256591796875,
           0.29582396149635315
          ],
          [
           "s",
           0.0054772403091192245,
           0.002165315207093954,
           0.005889708176255226,
           -0.4587060511112213,
           8145.61376953125,
           0.020212987437844276,
           0.005246315151453018,
           2.7449121475219727,
           2.9480667114257812,
           3.081540107727051,
           0.01616673171520233,
           -3268.68359375,
           -2926.88525390625,
           0.4186154305934906
          ],
          [
           "c",
           0.005459781736135483,
           0.012936368584632874,
           0.01404111459851265,
           -0.6494572758674622,
           5461.0478515625,
           0.0770297721028328,
           0.009846813045442104,
           3.070417881011963,
           3.747910261154175,
           4.378278732299805,
           0.04311209172010422,
           -3886.365478515625,
           -3742.811279296875,
           1.1579819917678833
          ],
          [
           "i",
           0.005494420416653156,
           0.0021383713465183973,
           0.005895839538425207,
           -0.8282530307769775,
           4661.34375,
           0.016399014741182327,
           0.0052694655023515224,
           2.398066997528076,
           2.572455883026123,
           2.683121919631958,
           0.014138618484139442,
           1928.5614013671875,
           1780.3643798828125,
           0.16846588253974915
          ],
          [
           "s",
           0.005487642716616392,
           0.0021687475964426994,
           0.005900648422539234,
           -0.8305751085281372,
           14417.0029296875,
           0.018597692251205444,
           0.0052530220709741116,
           2.452286958694458,
           2.636199712753296,
           2.7546207904815674,
           0.014470083639025688,
           1181.9976806640625,
           695.9385986328125,
           0.813805103302002
          ],
          [
           "i",
           0.005465163849294186,
           0.002641970757395029,
           0.006070073693990707,
           0.18163298070430756,
           2103.0185546875,
           0.021937044337391853,
           0.00517559377476573,
           2.655164957046509,
           2.9211909770965576,
           3.1140475273132324,
           0.016117045655846596,
           2668.58642578125,
           4837.212890625,
           0.13285131752490997
          ],
          [
           "i",
           0.005490350537002087,
           0.0036608045920729637,
           0.006598711479455233,
           0.8909278512001038,
           2356.55517578125,
           0.03030022606253624,
           0.005234458018094301,
           3.135347604751587,
           3.592700719833374,
           3.9525113105773926,
           0.020689252763986588,
           -2623.4228515625,
           -4757.26806640625,
           0.16686980426311493
          ],
          [
           "i",
           0.005517412442713976,
           0.008530933409929276,
           0.010159531608223915,
           0.8343782424926758,
           4254.341796875,
           0.0818026214838028,
           0.006810234859585762,
           4.110924243927002,
           5.178433895111084,
           6.132690906524658,
           0.04003756120800972,
           -1098.6568603515625,
           -946.7471313476562,
           0.8465975522994995
          ],
          [
           "s",
           0.005485238507390022,
           0.0020279823802411556,
           0.0058481101877987385,
           -0.9944677352905273,
           6789.20068359375,
           0.015048238448798656,
           0.005282857920974493,
           2.3286502361297607,
           2.4825406074523926,
           2.5778098106384277,
           0.013618201948702335,
           -120.19879913330078,
           -64.49935150146484,
           0.20289373397827148
          ],
          [
           "c",
           0.0055053806863725185,
           0.005145737435668707,
           0.007535629440099001,
           1.5451947450637817,
           2786.933349609375,
           0.05142125114798546,
           0.005557830911129713,
           4.009119510650635,
           4.792065143585205,
           5.435797214508057,
           0.03021124191582203,
           -1071.778564453125,
           -1259.5748291015625,
           1.2636433839797974
          ],
          [
           "i",
           0.0054984730668365955,
           0.0036212685517966747,
           0.006583572831004858,
           3.4512972831726074,
           1943.50537109375,
           0.03637027367949486,
           0.005365903023630381,
           3.2114875316619873,
           3.639812469482422,
           3.9402616024017334,
           0.02114306204020977,
           -119.6723403930664,
           -1834.12255859375,
           0.1580311805009842
          ],
          [
           "i",
           0.005512704607099295,
           0.0022627110593020916,
           0.005958938971161842,
           -0.4013592600822449,
           3478.401611328125,
           0.015441087074577808,
           0.00525650242343545,
           2.2718565464019775,
           2.45255184173584,
           2.575448989868164,
           0.013537853956222534,
           2905.48388671875,
           3864.245361328125,
           0.1589452177286148
          ],
          [
           "i",
           0.005468809045851231,
           0.002254361053928733,
           0.005915098823606968,
           -0.49093756079673767,
           2709.645263671875,
           0.014015275053679943,
           0.00520364148542285,
           2.0619897842407227,
           2.2274718284606934,
           2.3439111709594727,
           0.012196873314678669,
           980.7215576171875,
           887.1290283203125,
           0.21821556985378265
          ],
          [
           "s",
           0.0054967766627669334,
           0.002186988713219762,
           0.0059158531948924065,
           -0.5362294912338257,
           7214.59326171875,
           0.018873482942581177,
           0.005255948286503553,
           2.4500303268432617,
           2.6345877647399902,
           2.757641077041626,
           0.01449401956051588,
           -2281.26171875,
           -273.5978088378906,
           0.26514384150505066
          ],
          [
           "i",
           0.005491261836141348,
           0.004618398379534483,
           0.007175151724368334,
           0.5527350306510925,
           4654.87646484375,
           0.04297499358654022,
           0.0052864449098706245,
           3.602015972137451,
           4.299264907836914,
           4.88892126083374,
           0.025845011696219444,
           1098.6568603515625,
           946.7471313476562,
           0.8685817122459412
          ],
          [
           "s",
           0.005483788438141346,
           0.0019818900618702173,
           0.005830932874232531,
           -1.141397476196289,
           14480.42578125,
           0.013987564481794834,
           0.005292794667184353,
           2.005927324295044,
           2.132847547531128,
           2.2098774909973145,
           0.011696428060531616,
           -817.30126953125,
           -148.82919311523438,
           0.258136510848999
          ],
          [
           "s",
           0.005481068044900894,
           0.002263784408569336,
           0.005930156446993351,
           -0.9727421998977661,
           11706.6982421875,
           0.015942847356200218,
           0.005219887476414442,
           2.3392698764801025,
           2.5304081439971924,
           2.65757417678833,
           0.01387223694473505,
           -4501.78515625,
           -4168.0859375,
           0.4233745038509369
          ],
          [
           "s",
           0.005509022157639265,
           0.0027963556349277496,
           0.0061778477393090725,
           1.3081295490264893,
           1650.598876953125,
           0.02605382725596428,
           0.005255965515971184,
           3.024264097213745,
           3.330042600631714,
           3.5547122955322266,
           0.01868344470858574,
           2330.766845703125,
           1480.8519287109375,
           0.16723965108394623
          ],
          [
           "s",
           0.005489910952746868,
           0.0023130825720727444,
           0.005957298446446657,
           -0.7718707323074341,
           10254.2578125,
           0.021138548851013184,
           0.005217132158577442,
           2.6705808639526367,
           2.894944190979004,
           3.049462080001831,
           0.01590944640338421,
           4501.78515625,
           4168.0859375,
           0.4233745038509369
          ],
          [
           "s",
           0.005504037253558636,
           0.0025968956761062145,
           0.006085687782615423,
           -0.35900506377220154,
           2251.31103515625,
           0.015399744734168053,
           0.005165047477930784,
           2.218740463256836,
           2.445401906967163,
           2.614218235015869,
           0.01350256148725748,
           4968.5029296875,
           4944.50537109375,
           0.1180541068315506
          ],
          [
           "s",
           0.005539815407246351,
           0.0024881886783987284,
           0.006072779651731253,
           -0.26751378178596497,
           2458.9609375,
           0.016778307035565376,
           0.005230176728218794,
           2.2715094089508057,
           2.4790542125701904,
           2.6374590396881104,
           0.013794377446174622,
           -712.7429809570312,
           -693.5444946289062,
           0.13218194246292114
          ],
          [
           "s",
           0.005494634620845318,
           0.002381501719355583,
           0.005988531745970249,
           -0.4944952428340912,
           11622.0625,
           0.020722679793834686,
           0.0052062636241316795,
           2.9649510383605957,
           3.229231119155884,
           3.4104502201080322,
           0.017755704000592232,
           3567.066162109375,
           2673.02587890625,
           0.5227053761482239
          ],
          [
           "s",
           0.005490640178322792,
           0.0021721217781305313,
           0.0059046670794487,
           -0.5503296852111816,
           7372.83642578125,
           0.01745809055864811,
           0.005249416455626488,
           2.3974549770355225,
           2.575894355773926,
           2.69671368598938,
           0.014156173914670944,
           4146.52685546875,
           4689.16259765625,
           0.3471258282661438
          ],
          [
           "s",
           0.005482913926243782,
           0.0021598816383630037,
           0.005892995744943619,
           -0.9914996027946472,
           15268.4267578125,
           0.015313833951950073,
           0.005249209236353636,
           2.315535306930542,
           2.4884984493255615,
           2.5995230674743652,
           0.01364543940871954,
           -815.7583618164062,
           -695.8986206054688,
           0.4138947129249573
          ],
          [
           "s",
           0.005484563298523426,
           0.002251328667625785,
           0.0059286486357450485,
           -0.2724702060222626,
           10819.37890625,
           0.02584945410490036,
           0.005250535439699888,
           3.267639398574829,
           3.5243122577667236,
           3.689659595489502,
           0.019372686743736267,
           -4465.35107421875,
           -4862.43017578125,
           0.46593037247657776
          ],
          [
           "s",
           0.005475691519677639,
           0.001971775433048606,
           0.005819874815642834,
           0.08136139810085297,
           4170.677734375,
           0.03054899163544178,
           0.005293291062116623,
           3.790070056915283,
           4.0247039794921875,
           4.167111396789551,
           0.022057732567191124,
           120.19879913330078,
           64.49935150146484,
           0.22480416297912598
          ],
          [
           "s",
           0.005488167516887188,
           0.0019214892527088523,
           0.005814804695546627,
           -1.1712613105773926,
           8749.94921875,
           0.009224371053278446,
           0.005309587810188532,
           1.8069082498550415,
           1.9144494533538818,
           1.9788389205932617,
           0.010506819002330303,
           -4628.853515625,
           -4721.15283203125,
           0.12864702939987183
          ],
          [
           "s",
           0.005492379888892174,
           0.0021178501192480326,
           0.005886551924049854,
           -1.0339062213897705,
           16160.0947265625,
           0.014022566378116608,
           0.005269249901175499,
           2.1877756118774414,
           2.3447306156158447,
           2.444077491760254,
           0.01287845429033041,
           4465.35107421875,
           4862.43017578125,
           0.46593037247657776
          ],
          [
           "i",
           0.005497701466083527,
           0.005509974434971809,
           0.007783250417560339,
           1.5297741889953613,
           1779.3785400390625,
           0.05693932622671127,
           0.0056784567423164845,
           4.149548530578613,
           4.991766929626465,
           5.6876325607299805,
           0.03229697421193123,
           -905.55859375,
           -256.4454345703125,
           0.2521209418773651
          ],
          [
           "s",
           0.005477471277117729,
           0.0026955793146044016,
           0.006104503758251667,
           -0.08460750430822372,
           1647.263671875,
           0.020666049793362617,
           0.005135742947459221,
           2.6238484382629395,
           2.902350425720215,
           3.1187877655029297,
           0.01601729355752468,
           -3546.19384765625,
           -3612.8515625,
           0.11797477304935455
          ],
          [
           "i",
           0.005490831099450588,
           0.0022291054483503103,
           0.005925978999584913,
           -0.3073980212211609,
           3483.1767578125,
           0.015198440290987492,
           0.005240109283477068,
           2.1222646236419678,
           2.2865869998931885,
           2.4000444412231445,
           0.012576496228575706,
           905.55859375,
           256.4454345703125,
           0.2740625739097595
          ],
          [
           "s",
           0.005490306299179792,
           0.0022342116571962833,
           0.005927357356995344,
           -0.6335378885269165,
           2692.712158203125,
           0.013594969175755978,
           0.0052221608348190784,
           2.0749387741088867,
           2.2386181354522705,
           2.3551368713378906,
           0.012298903428018093,
           119.99040222167969,
           707.1434326171875,
           0.14971233904361725
          ],
          [
           "i",
           0.005491341929882765,
           0.002998760435730219,
           0.0062567307613790035,
           0.28006982803344727,
           3384.826171875,
           0.028541797772049904,
           0.005121272522956133,
           3.301635980606079,
           3.7127339839935303,
           4.033655643463135,
           0.02065744809806347,
           -3661.52685546875,
           -4636.30712890625,
           0.3918890655040741
          ],
          [
           "s",
           0.005494639277458191,
           0.0023616566322743893,
           0.005980672314763069,
           -0.7198852896690369,
           14734.4150390625,
           0.018069660291075706,
           0.005205059889703989,
           2.3994522094726562,
           2.609865665435791,
           2.756997585296631,
           0.014350336976349354,
           -1271.657470703125,
           -700.9985961914062,
           0.5919966101646423
          ],
          [
           "i",
           0.00550064304843545,
           0.0023814612068235874,
           0.005993994884192944,
           -0.26669296622276306,
           3983.587158203125,
           0.019709551706910133,
           0.005220898427069187,
           2.8057172298431396,
           3.0517845153808594,
           3.2211802005767822,
           0.016817454248666763,
           3661.52685546875,
           4636.30712890625,
           0.3918890655040741
          ],
          [
           "i",
           0.005477515049278736,
           0.00257489993236959,
           0.006052443291991949,
           0.11346396803855896,
           2694.0029296875,
           0.02097025327384472,
           0.005173203535377979,
           2.743196487426758,
           3.012643814086914,
           3.2094314098358154,
           0.01660304144024849,
           2623.4228515625,
           4757.26806640625,
           0.1668783724308014
          ],
          [
           "s",
           0.005506062414497137,
           0.0019764546304941177,
           0.005850046873092651,
           -1.1931395530700684,
           15870.541015625,
           0.010556558147072792,
           0.0053179324604570866,
           1.8302336931228638,
           1.944575309753418,
           2.0133676528930664,
           0.010706952773034573,
           3935.8994140625,
           3627.6337890625,
           0.24563121795654297
          ],
          [
           "s",
           0.005484950263053179,
           0.0021715157199651003,
           0.005899153184145689,
           -0.5563986301422119,
           7331.572265625,
           0.018352389335632324,
           0.005243625957518816,
           2.410984754562378,
           2.5910115242004395,
           2.7123918533325195,
           0.014222768135368824,
           2281.26171875,
           273.5978088378906,
           0.2871016263961792
          ],
          [
           "i",
           0.00549654196947813,
           0.005630530882626772,
           0.007868527434766293,
           0.4228918254375458,
           4740.39111328125,
           0.04849923029541969,
           0.005556805990636349,
           3.5370032787323,
           4.319541931152344,
           5.008454322814941,
           0.027831008657813072,
           3886.720947265625,
           3913.654052734375,
           1.469128966331482
          ],
          [
           "i",
           0.005518823862075806,
           0.0021619792096316814,
           0.005927125923335552,
           -0.467586487531662,
           3303.09521484375,
           0.015535361133515835,
           0.005279533099383116,
           2.3925154209136963,
           2.5684897899627686,
           2.685983657836914,
           0.014180739410221577,
           612.37548828125,
           1349.14599609375,
           0.18338996171951294
          ],
          [
           "i",
           0.005509838927537203,
           0.0034187270794063807,
           0.006484242156147957,
           0.8814220428466797,
           4439.06494140625,
           0.029418792575597763,
           0.005197302438318729,
           3.083890676498413,
           3.513953685760498,
           3.8475136756896973,
           0.01999669335782528,
           -3011.159912109375,
           -2569.565673828125,
           0.2055261731147766
          ],
          [
           "s",
           0.005496885161846876,
           0.002047005109488964,
           0.005865657702088356,
           -1.0603063106536865,
           15073.9375,
           0.013997120782732964,
           0.00529017997905612,
           2.225051164627075,
           2.3742918968200684,
           2.467097282409668,
           0.01305138785392046,
           4354.14599609375,
           4963.63330078125,
           0.40819790959358215
          ],
          [
           "s",
           0.005488295573741198,
           0.0022204939741641283,
           0.005920337978750467,
           -0.6905946731567383,
           2845.8779296875,
           0.012448483146727085,
           0.0052293697372078896,
           1.9634066820144653,
           2.117325782775879,
           2.2228360176086426,
           0.011624031700193882,
           712.7429809570312,
           693.5444946289062,
           0.15419816970825195
          ],
          [
           "s",
           0.005473758094012737,
           0.0021522738970816135,
           0.005881680175662041,
           -0.804729163646698,
           7947.884765625,
           0.014764673076570034,
           0.005236535798758268,
           2.2240219116210938,
           2.38919734954834,
           2.4980227947235107,
           0.013080986216664314,
           -4314.36572265625,
           -4157.56689453125,
           0.35124021768569946
          ],
          [
           "s",
           0.005488978698849678,
           0.0020900999661535025,
           0.005873445887118578,
           -1.0798267126083374,
           15858.1689453125,
           0.01328743901103735,
           0.005272846668958664,
           2.115020513534546,
           2.2631335258483887,
           2.3559300899505615,
           0.012422459200024605,
           -119.86640167236328,
           -696.6651000976562,
           0.38454246520996094
          ],
          [
           "s",
           0.005486154928803444,
           0.0021837218664586544,
           0.005904776509851217,
           -0.7523409128189087,
           7960.06591796875,
           0.015459498390555382,
           0.0052424767054617405,
           2.2206192016601562,
           2.3889007568359375,
           2.501157522201538,
           0.013112259097397327,
           -295.75762939453125,
           -696.554443359375,
           0.2550429403781891
          ],
          [
           "s",
           0.0054911780171096325,
           0.002754222834482789,
           0.006142942700535059,
           -0.021513095125555992,
           1987.998291015625,
           0.018851637840270996,
           0.005137454252690077,
           2.5119168758392334,
           2.7899277210235596,
           3.003542184829712,
           0.01543056033551693,
           -4848.51513671875,
           -4664.53369140625,
           0.1180541068315506
          ],
          [
           "s",
           0.005495917983353138,
           0.0018949733348563313,
           0.005813423544168472,
           -1.1777677536010742,
           8882.0703125,
           0.009266376495361328,
           0.005323251709342003,
           1.780033826828003,
           1.8828685283660889,
           1.9439417123794556,
           0.010348090901970863,
           4628.853515625,
           4721.15283203125,
           0.12864702939987183
          ],
          [
           "s",
           0.005483629181981087,
           0.0022656049113720655,
           0.0059332107193768024,
           -0.40405067801475525,
           6453.73876953125,
           0.02004576101899147,
           0.005229067988693714,
           2.738807439804077,
           2.9582552909851074,
           3.1076133251190186,
           0.016249923035502434,
           -69.03944396972656,
           -240.0780792236328,
           0.2883117198944092
          ],
          [
           "s",
           0.005491730757057667,
           0.0019714566878974438,
           0.005834860261529684,
           -1.170823097229004,
           8819.3408203125,
           0.010458587668836117,
           0.005302835255861282,
           1.7926931381225586,
           1.9047025442123413,
           1.9725512266159058,
           0.010460113175213337,
           -119.59880065917969,
           -1207.7879638671875,
           0.15983395278453827
          ],
          [
           "s",
           0.005474938079714775,
           0.0020810619462281466,
           0.0058571090921759605,
           -0.25488969683647156,
           7052.35693359375,
           0.041906654834747314,
           0.0052656615152955055,
           4.755544662475586,
           5.084255218505859,
           5.289694786071777,
           0.027853742241859436,
           119.86640167236328,
           696.6651000976562,
           0.4064783751964569
          ],
          [
           "i",
           0.0055066002532839775,
           0.002176335547119379,
           0.005920968949794769,
           -0.3413277566432953,
           2827.549560546875,
           0.015721797943115234,
           0.005264969542622566,
           2.2092254161834717,
           2.3732104301452637,
           2.4844882488250732,
           0.01308075524866581,
           119.6723403930664,
           1834.12255859375,
           0.18000932037830353
          ],
          [
           "s",
           0.005496702156960964,
           0.0026086282450705767,
           0.006083999294787645,
           -0.25204896926879883,
           1903.230712890625,
           0.015713516622781754,
           0.005167562048882246,
           2.2720115184783936,
           2.5035386085510254,
           2.6749396324157715,
           0.013822916895151138,
           3546.19384765625,
           3612.8515625,
           0.11797477304935455
          ],
          [
           "i",
           0.005510628689080477,
           0.0031334618106484413,
           0.006339088082313538,
           4.089519500732422,
           1930.8865966796875,
           0.0422968789935112,
           0.005288790445774794,
           4.08885383605957,
           4.566356182098389,
           4.900856971740723,
           0.025919605046510696,
           -612.37548828125,
           -1349.14599609375,
           0.16136513650417328
          ],
          [
           "s",
           0.00549362413585186,
           0.0026069132145494223,
           0.006080776918679476,
           -0.2384730875492096,
           9786.0556640625,
           0.02821909822523594,
           0.005157355219125748,
           3.521165609359741,
           3.8843276500701904,
           4.151628494262695,
           0.02141142264008522,
           -1171.934326171875,
           -1124.6923828125,
           0.7763245701789856
          ],
          [
           "s",
           0.005494412500411272,
           0.0021567100193351507,
           0.005902526434510946,
           -0.579346776008606,
           7686.341796875,
           0.01659085601568222,
           0.005258318968117237,
           2.2996861934661865,
           2.4688799381256104,
           2.581425428390503,
           0.013573958538472652,
           -4146.52685546875,
           -4689.16259765625,
           0.3471258282661438
          ],
          [
           "i",
           0.005500054452568293,
           0.007433889899402857,
           0.009246863424777985,
           3.344325304031372,
           1615.158447265625,
           0.07438237965106964,
           0.006494406145066023,
           4.885331630706787,
           6.120264053344727,
           6.955831050872803,
           0.045173995196819305,
           4809.40771484375,
           3431.462646484375,
           0.4543217718601227
          ],
          [
           "s",
           0.005479537881910801,
           0.002421983052045107,
           0.005990928038954735,
           1.400373935699463,
           4771.73193359375,
           0.038830555975437164,
           0.005232649855315685,
           4.685090065002441,
           5.09210205078125,
           5.364019870758057,
           0.02806803770363331,
           682.3966064453125,
           125.89936828613281,
           0.3894857168197632
          ],
          [
           "s",
           0.005501453764736652,
           0.002112835645675659,
           0.00589320994913578,
           -0.8862041234970093,
           8752.0966796875,
           0.013179345987737179,
           0.00527743436396122,
           2.019721508026123,
           2.1633877754211426,
           2.2553842067718506,
           0.01190264243632555,
           1818.7054443359375,
           2235.822021484375,
           0.318096786737442
          ],
          [
           "s",
           0.005479122046381235,
           0.0034627756103873253,
           0.006481141783297062,
           4.539231300354004,
           1121.1474609375,
           0.03896469622850418,
           0.005249626934528351,
           3.8479814529418945,
           4.374358177185059,
           4.750683307647705,
           0.024939315393567085,
           1354.486083984375,
           707.9056396484375,
           0.1709093600511551
          ],
          [
           "s",
           0.005540335550904274,
           0.002149927197024226,
           0.005942728836089373,
           -0.8123438954353333,
           2884.016845703125,
           0.011411793529987335,
           0.005301720462739468,
           1.9371635913848877,
           2.077859401702881,
           2.171377658843994,
           0.011512037366628647,
           4403.64794921875,
           4756.41943359375,
           0.06496769934892654
          ],
          [
           "s",
           0.005503298714756966,
           0.00272447825409472,
           0.006140530109405518,
           0.39012226462364197,
           1739.6190185546875,
           0.023036738857626915,
           0.005183988716453314,
           2.869455575942993,
           3.1715826988220215,
           3.398922920227051,
           0.01761997863650322,
           -2330.766845703125,
           -1480.8519287109375,
           0.14529681205749512
          ],
          [
           "i",
           0.0055095963180065155,
           0.0030547587666660547,
           0.006299588363617659,
           3.3571064472198486,
           1870.578369140625,
           0.03328191488981247,
           0.00532354973256588,
           3.336341619491577,
           3.7000415325164795,
           3.9480385780334473,
           0.02101757936179638,
           -3556.25244140625,
           -2893.2548828125,
           0.11093037575483322
          ],
          [
           "c",
           0.005505589302629232,
           0.009059097617864609,
           0.010600730776786804,
           1.3362058401107788,
           3878.342529296875,
           0.08437363058328629,
           0.007023440673947334,
           4.075568675994873,
           5.195364952087402,
           6.151401519775391,
           0.04320400580763817,
           1009.7899169921875,
           911.6908569335938,
           1.2530118227005005
          ],
          [
           "s",
           0.005521612241864204,
           0.002218383364379406,
           0.005950449965894222,
           -0.5893299579620361,
           2756.294677734375,
           0.013980529271066189,
           0.00526602054014802,
           2.026813268661499,
           2.1824443340301514,
           2.2902400493621826,
           0.01206045038998127,
           3205.343505859375,
           4745.22021484375,
           0.06569874286651611
          ],
          [
           "s",
           0.005478675477206707,
           0.002080392325296998,
           0.005860364995896816,
           -1.0736411809921265,
           16114.0390625,
           0.013006797060370445,
           0.0052641998045146465,
           2.0814380645751953,
           2.2264301776885986,
           2.3171586990356445,
           0.012197987176477909,
           -4354.14599609375,
           -4963.63330078125,
           0.40819790959358215
          ],
          [
           "i",
           0.00552668422460556,
           0.004544324241578579,
           0.007154845632612705,
           3.9261794090270996,
           1743.699462890625,
           0.05026031658053398,
           0.005601109936833382,
           4.526787281036377,
           5.275152683258057,
           5.782508373260498,
           0.032388463616371155,
           897.964111328125,
           954.7617797851562,
           0.5737626552581787
          ],
          [
           "s",
           0.005483115091919899,
           0.002235875930637121,
           0.005921456962823868,
           -1.0252279043197632,
           16621.853515625,
           0.013494851067662239,
           0.005229192320257425,
           2.1270010471343994,
           2.296948194503784,
           2.408583402633667,
           0.012594945728778839,
           -3075.25390625,
           -3314.59326171875,
           0.6175416707992554
          ],
          [
           "s",
           0.005497640930116177,
           0.0022038707975298166,
           0.005922924727201462,
           -1.0202723741531372,
           12963.109375,
           0.017636971548199654,
           0.005254040006548166,
           2.1125574111938477,
           2.27547550201416,
           2.3815042972564697,
           0.012512518092989922,
           -360.19879150390625,
           -149.16616821289062,
           0.39357009530067444
          ],
          [
           "s",
           0.005501177627593279,
           0.0022358980495482683,
           0.005938184913247824,
           -0.3219137191772461,
           6036.04638671875,
           0.022060265764594078,
           0.005250014830380678,
           2.928328514099121,
           3.1566972732543945,
           3.3121728897094727,
           0.017388956621289253,
           295.75762939453125,
           696.554443359375,
           0.2769777476787567
          ],
          [
           "c",
           0.005494463257491589,
           0.009214868769049644,
           0.010728462599217892,
           1.446057677268982,
           4356.21142578125,
           0.0783717930316925,
           0.007104684133082628,
           3.848846912384033,
           4.917168140411377,
           5.811969757080078,
           0.041292209178209305,
           918.6585083007812,
           911.7252197265625,
           1.261342167854309
          ],
          [
           "s",
           0.00551525317132473,
           0.0023485980927944183,
           0.005994344595819712,
           -0.4803493022918701,
           2281.35986328125,
           0.016519254073500633,
           0.005229203496128321,
           2.448016881942749,
           2.6576452255249023,
           2.8062126636505127,
           0.014674256555736065,
           -119.99040222167969,
           -707.1434326171875,
           0.12774568796157837
          ],
          [
           "s",
           0.005480807274580002,
           0.0021536974236369133,
           0.0058887614868581295,
           -0.6304177045822144,
           7641.626953125,
           0.017185568809509277,
           0.0052439868450164795,
           2.3131773471832275,
           2.4840099811553955,
           2.5975942611694336,
           0.01362175028771162,
           69.03944396972656,
           240.0780792236328,
           0.31020230054855347
          ],
          [
           "i",
           0.0055111306719481945,
           0.0024226512759923935,
           0.006020038388669491,
           0.13887685537338257,
           3139.6181640625,
           0.020379627123475075,
           0.00524910306558013,
           2.5167670249938965,
           2.7344377040863037,
           2.886404514312744,
           0.015151034109294415,
           -2905.48388671875,
           -3864.245361328125,
           0.1589452177286148
          ],
          [
           "s",
           0.005502341315150261,
           0.00234948075376451,
           0.005982946138828993,
           -0.544347882270813,
           6751.1064453125,
           0.017650488764047623,
           0.005224679596722126,
           2.618197441101074,
           2.8455567359924316,
           2.998180866241455,
           0.015664534643292427,
           -4615.48291015625,
           -2931.256591796875,
           0.29582396149635315
          ],
          [
           "s",
           0.005487916991114616,
           0.002557457657530904,
           0.006054566241800785,
           -0.2774963974952698,
           10544.60546875,
           0.02561820112168789,
           0.005167786031961441,
           3.35278058052063,
           3.689457893371582,
           3.928110122680664,
           0.020299632102251053,
           -3542.79296875,
           -3033.7939453125,
           0.6192664504051208
          ],
          [
           "c",
           0.005466160364449024,
           0.0024127215147018433,
           0.005974950734525919,
           0.524776041507721,
           6293.333984375,
           0.031540460884571075,
           0.005200555548071861,
           3.7941970825195312,
           4.124741077423096,
           4.3591766357421875,
           0.022670140489935875,
           -409.7735595703125,
           -1614.020263671875,
           0.6523653864860535
          ],
          [
           "s",
           0.005253591109067202,
           0.0027723300736397505,
           0.005940190050750971,
           0.0723787248134613,
           7070.04736328125,
           0.029392927885055542,
           0.004907186143100262,
           2.9581711292266846,
           3.305701494216919,
           3.5808908939361572,
           0.01757209748029709,
           -3119.525146484375,
           -2504.8427734375,
           0.545539915561676
          ],
          [
           "c",
           0.005447982810437679,
           0.00384434312582016,
           0.006667730398476124,
           0.09637430310249329,
           4262.47412109375,
           0.03174198791384697,
           0.005140203516930342,
           3.0749030113220215,
           3.5655243396759033,
           3.9886794090270996,
           0.020502625033259392,
           -2963.44775390625,
           -2947.1572265625,
           0.5450159311294556
          ],
          [
           "c",
           0.005443515721708536,
           0.0037723511923104525,
           0.006622814107686281,
           -0.027202283963561058,
           4174.33251953125,
           0.03138965368270874,
           0.005115780513733625,
           3.139702081680298,
           3.637246608734131,
           4.064611911773682,
           0.02079366333782673,
           -2358.947509765625,
           -2360.402099609375,
           0.40860313177108765
          ],
          [
           "s",
           0.005426481831818819,
           0.003614659421145916,
           0.006520100403577089,
           0.5386505722999573,
           3661.372802734375,
           0.03555666655302048,
           0.0051260474137961864,
           3.579267740249634,
           4.108262062072754,
           4.552666187286377,
           0.02333718352019787,
           -186.17910766601562,
           -407.7031555175781,
           0.3253784775733948
          ],
          [
           "s",
           0.005494963843375444,
           0.003600083524361253,
           0.006569224409759045,
           0.11026707291603088,
           4197.40380859375,
           0.03450167179107666,
           0.005125231575220823,
           3.765876293182373,
           4.340220928192139,
           4.826881408691406,
           0.024738885462284088,
           -2410.3759765625,
           -1259.6873779296875,
           0.4539497494697571
          ],
          [
           "s",
           0.005494928918778896,
           0.003165401751175523,
           0.006341374013572931,
           0.00909437332302332,
           3194.531982421875,
           0.027881847694516182,
           0.005099667701870203,
           3.1531267166137695,
           3.5714330673217773,
           3.9208743572235107,
           0.019995154812932014,
           -4208.634765625,
           -3354.994384765625,
           0.28025633096694946
          ],
          [
           "s",
           0.005494459066540003,
           0.0029052714817225933,
           0.006215252913534641,
           0.8271580934524536,
           3883.53369140625,
           0.036578692495822906,
           0.005170777440071106,
           4.195343971252441,
           4.671902179718018,
           5.04278564453125,
           0.026075122877955437,
           -4790.7314453125,
           -4952.423828125,
           0.32196253538131714
          ],
          [
           "i",
           0.0054413629695773125,
           0.00376094039529562,
           0.006614417303353548,
           -0.32222652435302734,
           3001.264892578125,
           0.023353174328804016,
           0.005138826556503773,
           2.462683916091919,
           2.8393139839172363,
           3.169832468032837,
           0.01628921926021576,
           476.3210754394531,
           119.76595306396484,
           0.2100856602191925
          ],
          [
           "s",
           0.0055136289447546005,
           0.0028541795909404755,
           0.006208513397723436,
           -0.39033883810043335,
           4395.6787109375,
           0.019454732537269592,
           0.005140936467796564,
           2.2920446395874023,
           2.5548620223999023,
           2.7680153846740723,
           0.014230189844965935,
           -120.36626434326172,
           -368.7293701171875,
           0.2755771577358246
          ],
          [
           "i",
           0.005447710398584604,
           0.0035870701540261507,
           0.006522526498883963,
           -0.1524561643600464,
           3749.600830078125,
           0.025948498398065567,
           0.005060218274593353,
           2.6868491172790527,
           3.103106737136841,
           3.4632983207702637,
           0.017525045201182365,
           2875.252197265625,
           4689.85400390625,
           0.31724071502685547
          ],
          [
           "i",
           0.005482648964971304,
           0.003415169660001993,
           0.006459192372858524,
           0.062405992299318314,
           2935.797607421875,
           0.0284877959638834,
           0.005113352555781603,
           2.854503870010376,
           3.258439302444458,
           3.6058125495910645,
           0.018437789753079414,
           -698.9973754882812,
           -119.46241760253906,
           0.2318539023399353
          ],
          [
           "s",
           0.005479190964251757,
           0.0029198070988059044,
           0.006208579987287521,
           -0.14770497381687164,
           5759.337890625,
           0.026170514523983,
           0.005116747226566076,
           2.744934558868408,
           3.069300651550293,
           3.330660104751587,
           0.017042145133018494,
           -3302.56689453125,
           -2890.77099609375,
           0.39637187123298645
          ],
          [
           "s",
           0.0054567428305745125,
           0.0027470788918435574,
           0.0061091771349310875,
           -0.07463710010051727,
           4794.27392578125,
           0.021865706890821457,
           0.005106800235807896,
           2.733980178833008,
           3.0370967388153076,
           3.270613670349121,
           0.01670237071812153,
           186.17910766601562,
           407.7031555175781,
           0.34711143374443054
          ],
          [
           "s",
           0.00548904575407505,
           0.002177819609642029,
           0.005905279889702797,
           -0.12896698713302612,
           6912.4697265625,
           0.017307531088590622,
           0.005250199697911739,
           2.2871780395507812,
           2.4549107551574707,
           2.57255482673645,
           0.01350642740726471,
           2059.679443359375,
           922.4907836914062,
           0.3924204409122467
          ],
          [
           "c",
           0.0054398407228291035,
           0.0030783298425376415,
           0.006250415463000536,
           1.5288623571395874,
           4602.1552734375,
           0.03689311444759369,
           0.0051916674710810184,
           3.9350709915161133,
           4.394488334655762,
           4.737558364868164,
           0.024595826864242554,
           -2411.5625,
           -41.14254379272461,
           0.8040634989738464
          ],
          [
           "i",
           0.005460245534777641,
           0.0028921684715896845,
           0.0061788661405444145,
           -0.22448962926864624,
           4522.5546875,
           0.022367727011442184,
           0.005093616433441639,
           2.763249158859253,
           3.088404893875122,
           3.3519890308380127,
           0.017073746770620346,
           -488.4721984863281,
           -1192.4609375,
           0.2860445976257324
          ],
          [
           "s",
           0.005435476545244455,
           0.0023027306888252497,
           0.005903115961700678,
           -0.30313044786453247,
           7069.423828125,
           0.01687059924006462,
           0.00516454828903079,
           2.305213212966919,
           2.4970269203186035,
           2.6348752975463867,
           0.013607940636575222,
           1725.1602783203125,
           893.3563232421875,
           0.38895073533058167
          ],
          [
           "c",
           0.005430042278021574,
           0.004537504632025957,
           0.007076216861605644,
           0.17883048951625824,
           3329.527099609375,
           0.039666797965765,
           0.005280687473714352,
           3.560087203979492,
           4.207113742828369,
           4.770581245422363,
           0.02519194781780243,
           -2930.081298828125,
           -2980.213623046875,
           0.6287297010421753
          ],
          [
           "i",
           0.005482157692313194,
           0.003982331603765488,
           0.006775833200663328,
           1.8606442213058472,
           3536.756591796875,
           0.037606265395879745,
           0.005364818498492241,
           3.3886382579803467,
           3.8992691040039062,
           4.279892444610596,
           0.02296084724366665,
           -3717.50048828125,
           -4653.83203125,
           0.32348117232322693
          ],
          [
           "s",
           0.005445396061986685,
           0.002164524747058749,
           0.005859807133674622,
           -0.17664691805839539,
           6309.8515625,
           0.0206267312169075,
           0.005206916946917772,
           2.6574957370758057,
           2.8546764850616455,
           2.9907164573669434,
           0.015572412870824337,
           -3863.343505859375,
           -4757.82421875,
           0.32673653960227966
          ],
          [
           "i",
           0.005478254985064268,
           0.003113012295216322,
           0.006300852634012699,
           -0.17526115477085114,
           3099.165771484375,
           0.023246947675943375,
           0.0050857895985245705,
           2.704193592071533,
           3.057576894760132,
           3.3502614498138428,
           0.017038725316524506,
           -2949.939453125,
           -2917.2294921875,
           0.2925000786781311
          ],
          [
           "s",
           0.005453547462821007,
           0.002510823542252183,
           0.00600376445800066,
           0.12777471542358398,
           6043.3134765625,
           0.02184053137898445,
           0.005156300496309996,
           2.774672269821167,
           3.0379416942596436,
           3.230703830718994,
           0.01665847934782505,
           -1221.1446533203125,
           -120.17671203613281,
           0.3591289818286896
          ],
          [
           "s",
           0.005454590544104576,
           0.0021697762422263622,
           0.005870295688509941,
           -0.1399603933095932,
           8112.4892578125,
           0.018439657986164093,
           0.005216266494244337,
           2.4843316078186035,
           2.6683685779571533,
           2.795823574066162,
           0.014583760872483253,
           -696.7957153320312,
           -696.9187622070312,
           0.3809002935886383
          ],
          [
           "s",
           0.005475057289004326,
           0.0023239145521074533,
           0.005947697442024946,
           -0.10737226158380508,
           2440.19287109375,
           0.01586226560175419,
           0.0052075511775910854,
           2.2889509201049805,
           2.4806017875671387,
           2.6142780780792236,
           0.0136139877140522,
           82.4000015258789,
           1371.199951171875,
           0.1377294808626175
          ],
          [
           "s",
           0.0054363347589969635,
           0.003000939032062888,
           0.006209547631442547,
           -0.2094273567199707,
           3443.927734375,
           0.02578909508883953,
           0.005053672008216381,
           2.925133466720581,
           3.292862892150879,
           3.594170093536377,
           0.018163755536079407,
           1532.51611328125,
           2369.910888671875,
           0.32668715715408325
          ],
          [
           "s",
           0.005454227793961763,
           0.0021437928080558777,
           0.00586040411144495,
           -0.13314171135425568,
           8058.53857421875,
           0.018447821959853172,
           0.005222748499363661,
           2.5009613037109375,
           2.682053327560425,
           2.8063085079193115,
           0.014656643383204937,
           -3692.223388671875,
           -2939.85888671875,
           0.3041871190071106
          ],
          [
           "c",
           0.0054321191273629665,
           0.0050406851805746555,
           0.007410248275846243,
           -0.43792805075645447,
           2790.239990234375,
           0.03163355216383934,
           0.005413581617176533,
           2.64870548248291,
           3.1580002307891846,
           3.625615358352661,
           0.019627563655376434,
           1279.9415283203125,
           45.712196350097656,
           0.19901026785373688
          ],
          [
           "s",
           0.00549525860697031,
           0.002036670222878456,
           0.005860499106347561,
           -0.22794109582901,
           4286.1123046875,
           0.015752164646983147,
           0.005283369682729244,
           2.258415937423706,
           2.4071145057678223,
           2.5051143169403076,
           0.013235445134341717,
           3290.578857421875,
           3965.2275390625,
           0.14750953018665314
          ],
          [
           "s",
           0.005450613331049681,
           0.003585409140214324,
           0.006524038501083851,
           0.21915945410728455,
           2938.892822265625,
           0.034648168832063675,
           0.005143648944795132,
           3.427096366882324,
           3.9243125915527344,
           4.346818447113037,
           0.02235850878059864,
           -2535.322265625,
           -2538.768310546875,
           0.34505489468574524
          ],
          [
           "i",
           0.005464026238769293,
           0.004156976472586393,
           0.006865390110760927,
           -0.1883605420589447,
           3246.974853515625,
           0.02831892855465412,
           0.005274038761854172,
           2.5813961029052734,
           2.998218297958374,
           3.360288143157959,
           0.017722290009260178,
           2949.939453125,
           2917.2294921875,
           0.29246631264686584
          ],
          [
           "s",
           0.005473649129271507,
           0.0022580933291465044,
           0.005921122618019581,
           -0.03864296153187752,
           7621.51611328125,
           0.02011823281645775,
           0.005219746846705675,
           2.644343852996826,
           2.8532943725585938,
           2.999663829803467,
           0.015657484531402588,
           -1285.345947265625,
           -697.1033935546875,
           0.36016011238098145
          ],
          [
           "c",
           0.005420277360826731,
           0.00482973363250494,
           0.00725975725799799,
           0.05820496007800102,
           3633.917724609375,
           0.037505555897951126,
           0.0052998485043644905,
           3.2621169090270996,
           3.9043564796447754,
           4.468462944030762,
           0.02368217706680298,
           2930.081298828125,
           2980.213623046875,
           0.6287297010421753
          ],
          [
           "s",
           0.005462083965539932,
           0.002197164809331298,
           0.0058874208480119705,
           -0.0072164530865848064,
           6915.69384765625,
           0.018128089606761932,
           0.005222095642238855,
           2.4247827529907227,
           2.606943368911743,
           2.7337141036987305,
           0.014275716617703438,
           1221.1446533203125,
           120.17671203613281,
           0.38091784715652466
          ],
          [
           "s",
           0.00544600747525692,
           0.0022434957791119814,
           0.005889877676963806,
           -0.2351342737674713,
           2548.688232421875,
           0.014338921755552292,
           0.005188327748328447,
           2.1916654109954834,
           2.368189573287964,
           2.488015651702881,
           0.012908640317618847,
           -82.4000015258789,
           -1371.199951171875,
           0.11595204472541809
          ],
          [
           "i",
           0.005461576394736767,
           0.0031906114891171455,
           0.006325201131403446,
           -0.019251564517617226,
           4183.79833984375,
           0.027505166828632355,
           0.005084615666419268,
           2.986862897872925,
           3.387105941772461,
           3.7156214714050293,
           0.018892508000135422,
           2969.552490234375,
           2903.153564453125,
           0.452880322933197
          ],
          [
           "s",
           0.005488645285367966,
           0.00256414245814085,
           0.006058022379875183,
           -0.21976780891418457,
           5071.728515625,
           0.020889291539788246,
           0.005176255013793707,
           2.4641640186309814,
           2.7060706615448,
           2.8839306831359863,
           0.014927960932254791,
           4457.20849609375,
           3445.384765625,
           0.3394978642463684
          ],
          [
           "s",
           0.00546683045104146,
           0.0022438596934080124,
           0.00590940099209547,
           0.142729252576828,
           6963.0380859375,
           0.022398056462407112,
           0.005222404841333628,
           2.8943638801574707,
           3.1186959743499756,
           3.275111198425293,
           0.017103957012295723,
           -3553.947265625,
           -3472.655517578125,
           0.38830146193504333
          ],
          [
           "s",
           0.0054706702940166,
           0.0027611195109784603,
           0.006127908825874329,
           -0.3570140600204468,
           3981.60693359375,
           0.020097844302654266,
           0.005099078174680471,
           2.5302650928497314,
           2.8153700828552246,
           3.0407915115356445,
           0.015505233779549599,
           -1532.51611328125,
           -2369.910888671875,
           0.30491337180137634
          ],
          [
           "s",
           0.005487867631018162,
           0.0025792026426643133,
           0.006063707638531923,
           -0.4134203791618347,
           5536.1875,
           0.018324851989746094,
           0.005156848579645157,
           2.2575032711029053,
           2.4824037551879883,
           2.6544971466064453,
           0.01368884090334177,
           -4457.20849609375,
           -3445.384765625,
           0.3394978642463684
          ],
          [
           "c",
           0.0054709818214178085,
           0.0037301145493984222,
           0.006621524225920439,
           0.002754657529294491,
           4956.61669921875,
           0.026380006223917007,
           0.005150576122105122,
           2.6444718837738037,
           3.0538249015808105,
           3.3997042179107666,
           0.017510436475276947,
           2358.947509765625,
           2360.402099609375,
           0.4304044246673584
          ],
          [
           "s",
           0.005503189750015736,
           0.002169274026528001,
           0.005915303248912096,
           -0.8925508856773376,
           12624.5,
           0.021476970985531807,
           0.0052699316293001175,
           2.800446033477783,
           3.009337902069092,
           3.143397092819214,
           0.016565486788749695,
           3542.79296875,
           3033.7939453125,
           0.6192664504051208
          ],
          [
           "s",
           0.0054911114275455475,
           0.0025242085102945566,
           0.006043498869985342,
           0.37620076537132263,
           9050.4658203125,
           0.03652001544833183,
           0.00519888661801815,
           3.8073198795318604,
           4.169131278991699,
           4.425858020782471,
           0.023009534925222397,
           3125.76171875,
           3923.907470703125,
           0.747319221496582
          ],
          [
           "s",
           0.005468458868563175,
           0.0021950858645141125,
           0.005892562214285135,
           -0.5661486387252808,
           6260.8759765625,
           0.019126705825328827,
           0.005222182720899582,
           2.8231537342071533,
           3.039930582046509,
           3.1855664253234863,
           0.016635609790682793,
           4312.28564453125,
           3752.77001953125,
           0.3687346279621124
          ],
          [
           "i",
           0.005509663373231888,
           0.006492412183433771,
           0.008515063673257828,
           0.5440348982810974,
           4188.3603515625,
           0.06512491405010223,
           0.005837565753608942,
           4.002934455871582,
           4.969229698181152,
           5.838947296142578,
           0.034085240215063095,
           -3886.720947265625,
           -3913.654052734375,
           1.469128966331482
          ],
          [
           "s",
           0.005486559122800827,
           0.0018960675224661827,
           0.005804934073239565,
           -1.1603002548217773,
           7389.6494140625,
           0.014254597947001457,
           0.005313454195857048,
           2.1395137310028076,
           2.2634053230285645,
           2.3374130725860596,
           0.012419736944139004,
           119.59880065917969,
           1207.7879638671875,
           0.18178927898406982
          ],
          [
           "i",
           0.0054762400686740875,
           0.004585202783346176,
           0.007142241112887859,
           1.4975433349609375,
           3414.38330078125,
           0.04051917418837547,
           0.005533321760594845,
           3.2730793952941895,
           3.7938737869262695,
           4.224790096282959,
           0.02337712235748768,
           -1928.5614013671875,
           -1780.3643798828125,
           0.14651626348495483
          ],
          [
           "s",
           0.005482643377035856,
           0.0021912117954343557,
           0.005904289428144693,
           -0.8297412991523743,
           7941.0810546875,
           0.014353088103234768,
           0.005236955359578133,
           2.2259271144866943,
           2.396693229675293,
           2.5095722675323486,
           0.013142517767846584,
           -1818.7054443359375,
           -2235.822021484375,
           0.29612669348716736
          ],
          [
           "s",
           0.005484465509653091,
           0.002228387165814638,
           0.005919883958995342,
           -0.9053429365158081,
           14453.375,
           0.016216570511460304,
           0.005232491996139288,
           2.384169578552246,
           2.5731332302093506,
           2.6973776817321777,
           0.014114007353782654,
           -3567.066162109375,
           -2673.02587890625,
           0.5227053761482239
          ],
          [
           "s",
           0.005501880310475826,
           0.0021765537094324827,
           0.00591675890609622,
           -0.8147792220115662,
           14659.197265625,
           0.017137067392468452,
           0.005264123901724815,
           2.350706100463867,
           2.5276527404785156,
           2.642141819000244,
           0.013908561319112778,
           119.85237884521484,
           816.3772583007812,
           0.5309707522392273
          ],
          [
           "i",
           0.005507952533662319,
           0.002292066114023328,
           0.005965805146843195,
           -0.11577727645635605,
           5356.62158203125,
           0.018866315484046936,
           0.005243516527116299,
           2.555842161178589,
           2.763221502304077,
           2.9079065322875977,
           0.015247655101120472,
           3011.159912109375,
           2569.565673828125,
           0.2055261731147766
          ],
          [
           "c",
           0.00549487117677927,
           0.010488476604223251,
           0.01183933112770319,
           0.7727540135383606,
           1569.98486328125,
           0.08338705450296402,
           0.007794083096086979,
           3.7271621227264404,
           4.757381916046143,
           5.66161584854126,
           0.04412710666656494,
           -3875.3544921875,
           -3933.5322265625,
           0.46339815855026245
          ],
          [
           "c",
           0.005502176471054554,
           0.004964347463101149,
           0.007410581689327955,
           2.7852392196655273,
           2721.714111328125,
           0.05916944891214371,
           0.005499128717929125,
           4.105060577392578,
           4.88846492767334,
           5.531946182250977,
           0.030420884490013123,
           -3501.72998046875,
           -3860.122802734375,
           0.8496307134628296
          ],
          [
           "s",
           0.005485634319484234,
           0.0021421415731310844,
           0.00588892912492156,
           -0.7798607349395752,
           2643.097412109375,
           0.014477583579719067,
           0.005251928698271513,
           2.113495111465454,
           2.267857313156128,
           2.369838237762451,
           0.012446222826838493,
           -3205.343505859375,
           -4745.22021484375,
           0.06569874286651611
          ],
          [
           "s",
           0.0054839616641402245,
           0.0026645883917808533,
           0.006096727214753628,
           -0.08796826750040054,
           1858.7215576171875,
           0.017973849549889565,
           0.0051499526016414165,
           2.3262622356414795,
           2.5682756900787354,
           2.7539255619049072,
           0.01418258622288704,
           -119.98400115966797,
           -1354.486083984375,
           0.14906032383441925
          ],
          [
           "s",
           0.005477868486195803,
           0.0019954924937337637,
           0.005829997826367617,
           -0.08859764784574509,
           4644.2802734375,
           0.026160823181271553,
           0.005295480601489544,
           3.4036972522735596,
           3.618166208267212,
           3.747260808944702,
           0.01984354667365551,
           2895.171142578125,
           2945.970458984375,
           0.15961261093616486
          ],
          [
           "s",
           0.005475301295518875,
           0.0020943840499967337,
           0.00586219085380435,
           -0.8469659090042114,
           10071.6962890625,
           0.015594327822327614,
           0.00525515154004097,
           2.220040798187256,
           2.3761510848999023,
           2.476484775543213,
           0.013014302588999271,
           -682.3966064453125,
           -125.89936828613281,
           0.36756840348243713
          ],
          [
           "i",
           0.005494914948940277,
           0.005909129977226257,
           0.008068502880632877,
           1.8562157154083252,
           1543.2406005859375,
           0.051383331418037415,
           0.005697282496839762,
           3.614776849746704,
           4.43519926071167,
           5.119254112243652,
           0.029165836051106453,
           -980.7215576171875,
           -887.1290283203125,
           0.19638362526893616
          ],
          [
           "c",
           0.005453485995531082,
           0.011442256160080433,
           0.012675215490162373,
           -0.0043985238298773766,
           5047.38623046875,
           0.07619298249483109,
           0.008489523082971573,
           3.321960687637329,
           4.176877975463867,
           4.959827423095703,
           0.042106568813323975,
           -918.6585083007812,
           -911.7252197265625,
           1.2395246028900146
          ],
          [
           "s",
           0.005500262137502432,
           0.0024873760994523764,
           0.0060365451499819756,
           -0.3772369623184204,
           13960.626953125,
           0.018812155351042747,
           0.005189866758882999,
           2.5324490070343018,
           2.7762608528137207,
           2.945594072341919,
           0.015287241898477077,
           1271.657470703125,
           700.9985961914062,
           0.6139522194862366
          ],
          [
           "s",
           0.005477306433022022,
           0.001973668346181512,
           0.005822044797241688,
           -1.1775436401367188,
           15003.5859375,
           0.011933854781091213,
           0.005287868436425924,
           1.9359973669052124,
           2.057840347290039,
           2.131570339202881,
           0.011271463707089424,
           817.30126953125,
           148.82919311523438,
           0.28010204434394836
          ],
          [
           "s",
           0.005643823649734259,
           0.002042681211605668,
           0.0060020992532372475,
           -0.2649109661579132,
           8046.67431640625,
           0.020073451101779938,
           0.0054367221891880035,
           2.5992259979248047,
           2.7623484134674072,
           2.869525671005249,
           0.015600812621414661,
           119.99931335449219,
           360.1122131347656,
           0.5546921491622925
          ],
          [
           "s",
           0.005497642792761326,
           0.002849229145795107,
           0.006192042026668787,
           -0.3065606653690338,
           3883.794189453125,
           0.021468063816428185,
           0.005121820140630007,
           2.5940754413604736,
           2.8927440643310547,
           3.1361165046691895,
           0.016062624752521515,
           120.36626434326172,
           368.7293701171875,
           0.2975490391254425
          ],
          [
           "c",
           0.005464449524879456,
           0.007369031198322773,
           0.009173169732093811,
           0.6045340299606323,
           1558.1387939453125,
           0.05978892743587494,
           0.006352380849421024,
           3.755382776260376,
           4.65451192855835,
           5.42296838760376,
           0.034448761492967606,
           962.11181640625,
           925.0236206054688,
           0.5615736842155457
          ],
          [
           "s",
           0.0054889703169465065,
           0.003800618229433894,
           0.006676329765468836,
           1.0859979391098022,
           9245.587890625,
           0.04518020153045654,
           0.005240036640316248,
           3.8237991333007812,
           4.412014007568359,
           4.871901512145996,
           0.02552894502878189,
           -1181.9976806640625,
           -695.9385986328125,
           0.791843831539154
          ],
          [
           "i",
           0.005514381919056177,
           0.0033292004372924566,
           0.006441381294280291,
           1.6296184062957764,
           3942.33447265625,
           0.033636659383773804,
           0.005266161635518074,
           3.472222089767456,
           3.918086290359497,
           4.247097969055176,
           0.022365905344486237,
           -884.9215087890625,
           -891.9880981445312,
           0.3249569535255432
          ],
          [
           "s",
           0.005501619074493647,
           0.002012958051636815,
           0.005858307238668203,
           -1.208716869354248,
           15209.8486328125,
           0.010692860931158066,
           0.005305155646055937,
           1.9097328186035156,
           2.0335471630096436,
           2.1088545322418213,
           0.011187802068889141,
           -3935.8994140625,
           -3627.6337890625,
           0.24563121795654297
          ],
          [
           "s",
           0.005482410080730915,
           0.0022261396516114473,
           0.005917124450206757,
           -0.4244825541973114,
           6561.84765625,
           0.01978469267487526,
           0.005234144162386656,
           2.693695068359375,
           2.903721332550049,
           3.0451834201812744,
           0.015938928350806236,
           4314.36572265625,
           4157.56689453125,
           0.35124021768569946
          ],
          [
           "s",
           0.0054674306884408,
           0.0022539382334798574,
           0.005913786590099335,
           -0.4413377344608307,
           6797.16650390625,
           0.019956322386860847,
           0.005213762633502483,
           2.600459575653076,
           2.808143138885498,
           2.9496095180511475,
           0.015378563664853573,
           -4312.28564453125,
           -3752.77001953125,
           0.3687346279621124
          ],
          [
           "c",
           0.005521559156477451,
           0.011422527022659779,
           0.012686658650636673,
           0.4643588066101074,
           3282.58349609375,
           0.08571594208478928,
           0.00846195500344038,
           3.4045143127441406,
           4.3011627197265625,
           5.104247570037842,
           0.04319191351532936,
           908.7817993164062,
           1414.1717529296875,
           1.1197659969329834
          ],
          [
           "s",
           0.0054916017688810825,
           0.002170083811506629,
           0.005904821213334799,
           -1.0050829648971558,
           16007.748046875,
           0.014411740936338902,
           0.005255453288555145,
           2.1526732444763184,
           2.3145976066589355,
           2.418658971786499,
           0.012711149640381336,
           -119.85237884521484,
           -816.3772583007812,
           0.5090026259422302
          ],
          [
           "i",
           0.005506737623363733,
           0.0023950173053890467,
           0.006004897877573967,
           1.1596001386642456,
           2265.677490234375,
           0.02345363423228264,
           0.005292072892189026,
           2.756138324737549,
           2.9792611598968506,
           3.1273810863494873,
           0.016550328582525253,
           3556.25244140625,
           2893.2548828125,
           0.11091628670692444
          ],
          [
           "s",
           0.005480404477566481,
           0.0019797233399003744,
           0.0058270045556128025,
           -1.0042070150375366,
           7536.390625,
           0.013784964568912983,
           0.005289877764880657,
           2.09782075881958,
           2.23026442527771,
           2.310830593109131,
           0.01222401112318039,
           -2895.171142578125,
           -2945.970458984375,
           0.15961261093616486
          ],
          [
           "s",
           0.00549290468916297,
           0.0022134361788630486,
           0.005922094453126192,
           -0.25874871015548706,
           8392.5537109375,
           0.021333754062652588,
           0.0052567594684660435,
           2.664158344268799,
           2.867218017578125,
           3.001354455947876,
           0.01577739790081978,
           3268.68359375,
           2926.88525390625,
           0.4186154305934906
          ],
          [
           "i",
           0.005471128039062023,
           0.003885542042553425,
           0.006710130255669355,
           2.8671791553497314,
           1421.945556640625,
           0.0448041632771492,
           0.005275285337120295,
           3.9216670989990234,
           4.5292768478393555,
           4.988336086273193,
           0.02631489746272564,
           -2668.58642578125,
           -4837.212890625,
           0.13285131752490997
          ],
          [
           "i",
           0.005485984496772289,
           0.0108364662155509,
           0.012145213782787323,
           2.572413682937622,
           1851.5841064453125,
           0.08834255486726761,
           0.007714160718023777,
           4.263478755950928,
           5.682111740112305,
           6.712442874908447,
           0.05178086459636688,
           -4809.40771484375,
           -3431.462646484375,
           0.4543217718601227
          ],
          [
           "s",
           0.005482924170792103,
           0.0020713075064122677,
           0.005861120764166117,
           -1.0072475671768188,
           17148.564453125,
           0.015502196736633778,
           0.005269561894237995,
           2.0616815090179443,
           2.203794479370117,
           2.2931249141693115,
           0.012083764187991619,
           815.7583618164062,
           695.8986206054688,
           0.43583405017852783
          ],
          [
           "i",
           0.005510888062417507,
           0.0019984261598438025,
           0.005862028803676367,
           -0.4488261938095093,
           5911.046875,
           0.015606221742928028,
           0.005306348670274019,
           2.316251277923584,
           2.4630961418151855,
           2.5588088035583496,
           0.013577932491898537,
           884.9215087890625,
           891.9880981445312,
           0.34698179364204407
          ],
          [
           "s",
           0.005433965474367142,
           0.002566664246842265,
           0.006009605713188648,
           -0.1389492005109787,
           5430.35595703125,
           0.01885700412094593,
           0.005117798689752817,
           2.4138524532318115,
           2.651944398880005,
           2.8344810009002686,
           0.014506302773952484,
           -2958.64794921875,
           -2900.321533203125,
           0.4784005880355835
          ],
          [
           "s",
           0.005507021676748991,
           0.001836843672208488,
           0.005805274937301874,
           0.11722984164953232,
           8839.001953125,
           0.020372331142425537,
           0.005341268610209227,
           2.6455440521240234,
           2.7871575355529785,
           2.8753678798675537,
           0.015358110889792442,
           4388.4140625,
           3522.40673828125,
           0.41925710439682007
          ]
         ],
         "hovertemplate": "Cluster=%{x}<br>chatter_presence=%{customdata[0]}<br>med=%{customdata[1]}<br>std=%{customdata[2]}<br>rms=%{customdata[3]}<br>curtose=%{customdata[4]}<br>distortion=%{customdata[5]}<br>amplitude=%{customdata[6]}<br>sra=%{customdata[7]}<br>crest=%{customdata[8]}<br>impulse=%{customdata[9]}<br>margin=%{customdata[10]}<br>max=%{customdata[11]}<br>freq_max=%{customdata[12]}<br>freq_sec_highest=%{customdata[13]}<br>fft_mean=%{customdata[14]}<extra></extra>",
         "legendgroup": "Cluster 1",
         "marker": {
          "color": "#EF553B"
         },
         "name": "Cluster 1",
         "notched": true,
         "offsetgroup": "Cluster 1",
         "showlegend": false,
         "type": "box",
         "x": [
          "Cluster 1",
          "Cluster 1",
          "Cluster 1",
          "Cluster 1",
          "Cluster 1",
          "Cluster 1",
          "Cluster 1",
          "Cluster 1",
          "Cluster 1",
          "Cluster 1",
          "Cluster 1",
          "Cluster 1",
          "Cluster 1",
          "Cluster 1",
          "Cluster 1",
          "Cluster 1",
          "Cluster 1",
          "Cluster 1",
          "Cluster 1",
          "Cluster 1",
          "Cluster 1",
          "Cluster 1",
          "Cluster 1",
          "Cluster 1",
          "Cluster 1",
          "Cluster 1",
          "Cluster 1",
          "Cluster 1",
          "Cluster 1",
          "Cluster 1",
          "Cluster 1",
          "Cluster 1",
          "Cluster 1",
          "Cluster 1",
          "Cluster 1",
          "Cluster 1",
          "Cluster 1",
          "Cluster 1",
          "Cluster 1",
          "Cluster 1",
          "Cluster 1",
          "Cluster 1",
          "Cluster 1",
          "Cluster 1",
          "Cluster 1",
          "Cluster 1",
          "Cluster 1",
          "Cluster 1",
          "Cluster 1",
          "Cluster 1",
          "Cluster 1",
          "Cluster 1",
          "Cluster 1",
          "Cluster 1",
          "Cluster 1",
          "Cluster 1",
          "Cluster 1",
          "Cluster 1",
          "Cluster 1",
          "Cluster 1",
          "Cluster 1",
          "Cluster 1",
          "Cluster 1",
          "Cluster 1",
          "Cluster 1",
          "Cluster 1",
          "Cluster 1",
          "Cluster 1",
          "Cluster 1",
          "Cluster 1",
          "Cluster 1",
          "Cluster 1",
          "Cluster 1",
          "Cluster 1",
          "Cluster 1",
          "Cluster 1",
          "Cluster 1",
          "Cluster 1",
          "Cluster 1",
          "Cluster 1",
          "Cluster 1",
          "Cluster 1",
          "Cluster 1",
          "Cluster 1",
          "Cluster 1",
          "Cluster 1",
          "Cluster 1",
          "Cluster 1",
          "Cluster 1",
          "Cluster 1",
          "Cluster 1",
          "Cluster 1",
          "Cluster 1",
          "Cluster 1",
          "Cluster 1",
          "Cluster 1",
          "Cluster 1",
          "Cluster 1",
          "Cluster 1",
          "Cluster 1",
          "Cluster 1",
          "Cluster 1",
          "Cluster 1",
          "Cluster 1",
          "Cluster 1",
          "Cluster 1",
          "Cluster 1",
          "Cluster 1",
          "Cluster 1",
          "Cluster 1",
          "Cluster 1",
          "Cluster 1",
          "Cluster 1",
          "Cluster 1",
          "Cluster 1",
          "Cluster 1",
          "Cluster 1",
          "Cluster 1",
          "Cluster 1",
          "Cluster 1",
          "Cluster 1",
          "Cluster 1",
          "Cluster 1",
          "Cluster 1",
          "Cluster 1",
          "Cluster 1",
          "Cluster 1",
          "Cluster 1",
          "Cluster 1",
          "Cluster 1",
          "Cluster 1",
          "Cluster 1",
          "Cluster 1",
          "Cluster 1",
          "Cluster 1",
          "Cluster 1",
          "Cluster 1",
          "Cluster 1",
          "Cluster 1",
          "Cluster 1",
          "Cluster 1",
          "Cluster 1",
          "Cluster 1",
          "Cluster 1",
          "Cluster 1",
          "Cluster 1",
          "Cluster 1",
          "Cluster 1",
          "Cluster 1",
          "Cluster 1",
          "Cluster 1",
          "Cluster 1",
          "Cluster 1",
          "Cluster 1",
          "Cluster 1",
          "Cluster 1",
          "Cluster 1",
          "Cluster 1",
          "Cluster 1",
          "Cluster 1",
          "Cluster 1",
          "Cluster 1",
          "Cluster 1",
          "Cluster 1",
          "Cluster 1",
          "Cluster 1",
          "Cluster 1",
          "Cluster 1",
          "Cluster 1",
          "Cluster 1",
          "Cluster 1",
          "Cluster 1",
          "Cluster 1",
          "Cluster 1",
          "Cluster 1",
          "Cluster 1",
          "Cluster 1",
          "Cluster 1",
          "Cluster 1",
          "Cluster 1",
          "Cluster 1",
          "Cluster 1",
          "Cluster 1",
          "Cluster 1",
          "Cluster 1",
          "Cluster 1",
          "Cluster 1",
          "Cluster 1",
          "Cluster 1",
          "Cluster 1",
          "Cluster 1",
          "Cluster 1",
          "Cluster 1",
          "Cluster 1",
          "Cluster 1",
          "Cluster 1",
          "Cluster 1",
          "Cluster 1",
          "Cluster 1",
          "Cluster 1",
          "Cluster 1",
          "Cluster 1",
          "Cluster 1",
          "Cluster 1",
          "Cluster 1",
          "Cluster 1",
          "Cluster 1",
          "Cluster 1",
          "Cluster 1",
          "Cluster 1",
          "Cluster 1",
          "Cluster 1",
          "Cluster 1",
          "Cluster 1",
          "Cluster 1",
          "Cluster 1",
          "Cluster 1",
          "Cluster 1",
          "Cluster 1",
          "Cluster 1",
          "Cluster 1",
          "Cluster 1",
          "Cluster 1",
          "Cluster 1",
          "Cluster 1",
          "Cluster 1",
          "Cluster 1",
          "Cluster 1",
          "Cluster 1",
          "Cluster 1",
          "Cluster 1",
          "Cluster 1",
          "Cluster 1",
          "Cluster 1",
          "Cluster 1",
          "Cluster 1",
          "Cluster 1",
          "Cluster 1",
          "Cluster 1",
          "Cluster 1",
          "Cluster 1",
          "Cluster 1",
          "Cluster 1",
          "Cluster 1",
          "Cluster 1",
          "Cluster 1",
          "Cluster 1",
          "Cluster 1",
          "Cluster 1",
          "Cluster 1",
          "Cluster 1",
          "Cluster 1",
          "Cluster 1",
          "Cluster 1",
          "Cluster 1",
          "Cluster 1",
          "Cluster 1",
          "Cluster 1",
          "Cluster 1",
          "Cluster 1",
          "Cluster 1",
          "Cluster 1",
          "Cluster 1",
          "Cluster 1",
          "Cluster 1",
          "Cluster 1",
          "Cluster 1",
          "Cluster 1",
          "Cluster 1",
          "Cluster 1",
          "Cluster 1",
          "Cluster 1",
          "Cluster 1",
          "Cluster 1",
          "Cluster 1",
          "Cluster 1",
          "Cluster 1",
          "Cluster 1",
          "Cluster 1",
          "Cluster 1",
          "Cluster 1",
          "Cluster 1",
          "Cluster 1",
          "Cluster 1",
          "Cluster 1",
          "Cluster 1",
          "Cluster 1",
          "Cluster 1",
          "Cluster 1",
          "Cluster 1",
          "Cluster 1",
          "Cluster 1",
          "Cluster 1",
          "Cluster 1",
          "Cluster 1",
          "Cluster 1",
          "Cluster 1",
          "Cluster 1",
          "Cluster 1",
          "Cluster 1",
          "Cluster 1",
          "Cluster 1",
          "Cluster 1",
          "Cluster 1",
          "Cluster 1",
          "Cluster 1",
          "Cluster 1",
          "Cluster 1",
          "Cluster 1",
          "Cluster 1",
          "Cluster 1",
          "Cluster 1",
          "Cluster 1",
          "Cluster 1",
          "Cluster 1",
          "Cluster 1",
          "Cluster 1",
          "Cluster 1",
          "Cluster 1",
          "Cluster 1",
          "Cluster 1",
          "Cluster 1",
          "Cluster 1",
          "Cluster 1"
         ],
         "xaxis": "x2",
         "yaxis": "y2"
        }
       ],
       "layout": {
        "barmode": "relative",
        "height": 600,
        "legend": {
         "title": {
          "text": "Cluster"
         },
         "tracegroupgap": 0
        },
        "margin": {
         "t": 60
        },
        "template": {
         "data": {
          "bar": [
           {
            "error_x": {
             "color": "#2a3f5f"
            },
            "error_y": {
             "color": "#2a3f5f"
            },
            "marker": {
             "line": {
              "color": "#E5ECF6",
              "width": 0.5
             },
             "pattern": {
              "fillmode": "overlay",
              "size": 10,
              "solidity": 0.2
             }
            },
            "type": "bar"
           }
          ],
          "barpolar": [
           {
            "marker": {
             "line": {
              "color": "#E5ECF6",
              "width": 0.5
             },
             "pattern": {
              "fillmode": "overlay",
              "size": 10,
              "solidity": 0.2
             }
            },
            "type": "barpolar"
           }
          ],
          "carpet": [
           {
            "aaxis": {
             "endlinecolor": "#2a3f5f",
             "gridcolor": "white",
             "linecolor": "white",
             "minorgridcolor": "white",
             "startlinecolor": "#2a3f5f"
            },
            "baxis": {
             "endlinecolor": "#2a3f5f",
             "gridcolor": "white",
             "linecolor": "white",
             "minorgridcolor": "white",
             "startlinecolor": "#2a3f5f"
            },
            "type": "carpet"
           }
          ],
          "choropleth": [
           {
            "colorbar": {
             "outlinewidth": 0,
             "ticks": ""
            },
            "type": "choropleth"
           }
          ],
          "contour": [
           {
            "colorbar": {
             "outlinewidth": 0,
             "ticks": ""
            },
            "colorscale": [
             [
              0,
              "#0d0887"
             ],
             [
              0.1111111111111111,
              "#46039f"
             ],
             [
              0.2222222222222222,
              "#7201a8"
             ],
             [
              0.3333333333333333,
              "#9c179e"
             ],
             [
              0.4444444444444444,
              "#bd3786"
             ],
             [
              0.5555555555555556,
              "#d8576b"
             ],
             [
              0.6666666666666666,
              "#ed7953"
             ],
             [
              0.7777777777777778,
              "#fb9f3a"
             ],
             [
              0.8888888888888888,
              "#fdca26"
             ],
             [
              1,
              "#f0f921"
             ]
            ],
            "type": "contour"
           }
          ],
          "contourcarpet": [
           {
            "colorbar": {
             "outlinewidth": 0,
             "ticks": ""
            },
            "type": "contourcarpet"
           }
          ],
          "heatmap": [
           {
            "colorbar": {
             "outlinewidth": 0,
             "ticks": ""
            },
            "colorscale": [
             [
              0,
              "#0d0887"
             ],
             [
              0.1111111111111111,
              "#46039f"
             ],
             [
              0.2222222222222222,
              "#7201a8"
             ],
             [
              0.3333333333333333,
              "#9c179e"
             ],
             [
              0.4444444444444444,
              "#bd3786"
             ],
             [
              0.5555555555555556,
              "#d8576b"
             ],
             [
              0.6666666666666666,
              "#ed7953"
             ],
             [
              0.7777777777777778,
              "#fb9f3a"
             ],
             [
              0.8888888888888888,
              "#fdca26"
             ],
             [
              1,
              "#f0f921"
             ]
            ],
            "type": "heatmap"
           }
          ],
          "heatmapgl": [
           {
            "colorbar": {
             "outlinewidth": 0,
             "ticks": ""
            },
            "colorscale": [
             [
              0,
              "#0d0887"
             ],
             [
              0.1111111111111111,
              "#46039f"
             ],
             [
              0.2222222222222222,
              "#7201a8"
             ],
             [
              0.3333333333333333,
              "#9c179e"
             ],
             [
              0.4444444444444444,
              "#bd3786"
             ],
             [
              0.5555555555555556,
              "#d8576b"
             ],
             [
              0.6666666666666666,
              "#ed7953"
             ],
             [
              0.7777777777777778,
              "#fb9f3a"
             ],
             [
              0.8888888888888888,
              "#fdca26"
             ],
             [
              1,
              "#f0f921"
             ]
            ],
            "type": "heatmapgl"
           }
          ],
          "histogram": [
           {
            "marker": {
             "pattern": {
              "fillmode": "overlay",
              "size": 10,
              "solidity": 0.2
             }
            },
            "type": "histogram"
           }
          ],
          "histogram2d": [
           {
            "colorbar": {
             "outlinewidth": 0,
             "ticks": ""
            },
            "colorscale": [
             [
              0,
              "#0d0887"
             ],
             [
              0.1111111111111111,
              "#46039f"
             ],
             [
              0.2222222222222222,
              "#7201a8"
             ],
             [
              0.3333333333333333,
              "#9c179e"
             ],
             [
              0.4444444444444444,
              "#bd3786"
             ],
             [
              0.5555555555555556,
              "#d8576b"
             ],
             [
              0.6666666666666666,
              "#ed7953"
             ],
             [
              0.7777777777777778,
              "#fb9f3a"
             ],
             [
              0.8888888888888888,
              "#fdca26"
             ],
             [
              1,
              "#f0f921"
             ]
            ],
            "type": "histogram2d"
           }
          ],
          "histogram2dcontour": [
           {
            "colorbar": {
             "outlinewidth": 0,
             "ticks": ""
            },
            "colorscale": [
             [
              0,
              "#0d0887"
             ],
             [
              0.1111111111111111,
              "#46039f"
             ],
             [
              0.2222222222222222,
              "#7201a8"
             ],
             [
              0.3333333333333333,
              "#9c179e"
             ],
             [
              0.4444444444444444,
              "#bd3786"
             ],
             [
              0.5555555555555556,
              "#d8576b"
             ],
             [
              0.6666666666666666,
              "#ed7953"
             ],
             [
              0.7777777777777778,
              "#fb9f3a"
             ],
             [
              0.8888888888888888,
              "#fdca26"
             ],
             [
              1,
              "#f0f921"
             ]
            ],
            "type": "histogram2dcontour"
           }
          ],
          "mesh3d": [
           {
            "colorbar": {
             "outlinewidth": 0,
             "ticks": ""
            },
            "type": "mesh3d"
           }
          ],
          "parcoords": [
           {
            "line": {
             "colorbar": {
              "outlinewidth": 0,
              "ticks": ""
             }
            },
            "type": "parcoords"
           }
          ],
          "pie": [
           {
            "automargin": true,
            "type": "pie"
           }
          ],
          "scatter": [
           {
            "fillpattern": {
             "fillmode": "overlay",
             "size": 10,
             "solidity": 0.2
            },
            "type": "scatter"
           }
          ],
          "scatter3d": [
           {
            "line": {
             "colorbar": {
              "outlinewidth": 0,
              "ticks": ""
             }
            },
            "marker": {
             "colorbar": {
              "outlinewidth": 0,
              "ticks": ""
             }
            },
            "type": "scatter3d"
           }
          ],
          "scattercarpet": [
           {
            "marker": {
             "colorbar": {
              "outlinewidth": 0,
              "ticks": ""
             }
            },
            "type": "scattercarpet"
           }
          ],
          "scattergeo": [
           {
            "marker": {
             "colorbar": {
              "outlinewidth": 0,
              "ticks": ""
             }
            },
            "type": "scattergeo"
           }
          ],
          "scattergl": [
           {
            "marker": {
             "colorbar": {
              "outlinewidth": 0,
              "ticks": ""
             }
            },
            "type": "scattergl"
           }
          ],
          "scattermapbox": [
           {
            "marker": {
             "colorbar": {
              "outlinewidth": 0,
              "ticks": ""
             }
            },
            "type": "scattermapbox"
           }
          ],
          "scatterpolar": [
           {
            "marker": {
             "colorbar": {
              "outlinewidth": 0,
              "ticks": ""
             }
            },
            "type": "scatterpolar"
           }
          ],
          "scatterpolargl": [
           {
            "marker": {
             "colorbar": {
              "outlinewidth": 0,
              "ticks": ""
             }
            },
            "type": "scatterpolargl"
           }
          ],
          "scatterternary": [
           {
            "marker": {
             "colorbar": {
              "outlinewidth": 0,
              "ticks": ""
             }
            },
            "type": "scatterternary"
           }
          ],
          "surface": [
           {
            "colorbar": {
             "outlinewidth": 0,
             "ticks": ""
            },
            "colorscale": [
             [
              0,
              "#0d0887"
             ],
             [
              0.1111111111111111,
              "#46039f"
             ],
             [
              0.2222222222222222,
              "#7201a8"
             ],
             [
              0.3333333333333333,
              "#9c179e"
             ],
             [
              0.4444444444444444,
              "#bd3786"
             ],
             [
              0.5555555555555556,
              "#d8576b"
             ],
             [
              0.6666666666666666,
              "#ed7953"
             ],
             [
              0.7777777777777778,
              "#fb9f3a"
             ],
             [
              0.8888888888888888,
              "#fdca26"
             ],
             [
              1,
              "#f0f921"
             ]
            ],
            "type": "surface"
           }
          ],
          "table": [
           {
            "cells": {
             "fill": {
              "color": "#EBF0F8"
             },
             "line": {
              "color": "white"
             }
            },
            "header": {
             "fill": {
              "color": "#C8D4E3"
             },
             "line": {
              "color": "white"
             }
            },
            "type": "table"
           }
          ]
         },
         "layout": {
          "annotationdefaults": {
           "arrowcolor": "#2a3f5f",
           "arrowhead": 0,
           "arrowwidth": 1
          },
          "autotypenumbers": "strict",
          "coloraxis": {
           "colorbar": {
            "outlinewidth": 0,
            "ticks": ""
           }
          },
          "colorscale": {
           "diverging": [
            [
             0,
             "#8e0152"
            ],
            [
             0.1,
             "#c51b7d"
            ],
            [
             0.2,
             "#de77ae"
            ],
            [
             0.3,
             "#f1b6da"
            ],
            [
             0.4,
             "#fde0ef"
            ],
            [
             0.5,
             "#f7f7f7"
            ],
            [
             0.6,
             "#e6f5d0"
            ],
            [
             0.7,
             "#b8e186"
            ],
            [
             0.8,
             "#7fbc41"
            ],
            [
             0.9,
             "#4d9221"
            ],
            [
             1,
             "#276419"
            ]
           ],
           "sequential": [
            [
             0,
             "#0d0887"
            ],
            [
             0.1111111111111111,
             "#46039f"
            ],
            [
             0.2222222222222222,
             "#7201a8"
            ],
            [
             0.3333333333333333,
             "#9c179e"
            ],
            [
             0.4444444444444444,
             "#bd3786"
            ],
            [
             0.5555555555555556,
             "#d8576b"
            ],
            [
             0.6666666666666666,
             "#ed7953"
            ],
            [
             0.7777777777777778,
             "#fb9f3a"
            ],
            [
             0.8888888888888888,
             "#fdca26"
            ],
            [
             1,
             "#f0f921"
            ]
           ],
           "sequentialminus": [
            [
             0,
             "#0d0887"
            ],
            [
             0.1111111111111111,
             "#46039f"
            ],
            [
             0.2222222222222222,
             "#7201a8"
            ],
            [
             0.3333333333333333,
             "#9c179e"
            ],
            [
             0.4444444444444444,
             "#bd3786"
            ],
            [
             0.5555555555555556,
             "#d8576b"
            ],
            [
             0.6666666666666666,
             "#ed7953"
            ],
            [
             0.7777777777777778,
             "#fb9f3a"
            ],
            [
             0.8888888888888888,
             "#fdca26"
            ],
            [
             1,
             "#f0f921"
            ]
           ]
          },
          "colorway": [
           "#636efa",
           "#EF553B",
           "#00cc96",
           "#ab63fa",
           "#FFA15A",
           "#19d3f3",
           "#FF6692",
           "#B6E880",
           "#FF97FF",
           "#FECB52"
          ],
          "font": {
           "color": "#2a3f5f"
          },
          "geo": {
           "bgcolor": "white",
           "lakecolor": "white",
           "landcolor": "#E5ECF6",
           "showlakes": true,
           "showland": true,
           "subunitcolor": "white"
          },
          "hoverlabel": {
           "align": "left"
          },
          "hovermode": "closest",
          "mapbox": {
           "style": "light"
          },
          "paper_bgcolor": "white",
          "plot_bgcolor": "#E5ECF6",
          "polar": {
           "angularaxis": {
            "gridcolor": "white",
            "linecolor": "white",
            "ticks": ""
           },
           "bgcolor": "#E5ECF6",
           "radialaxis": {
            "gridcolor": "white",
            "linecolor": "white",
            "ticks": ""
           }
          },
          "scene": {
           "xaxis": {
            "backgroundcolor": "#E5ECF6",
            "gridcolor": "white",
            "gridwidth": 2,
            "linecolor": "white",
            "showbackground": true,
            "ticks": "",
            "zerolinecolor": "white"
           },
           "yaxis": {
            "backgroundcolor": "#E5ECF6",
            "gridcolor": "white",
            "gridwidth": 2,
            "linecolor": "white",
            "showbackground": true,
            "ticks": "",
            "zerolinecolor": "white"
           },
           "zaxis": {
            "backgroundcolor": "#E5ECF6",
            "gridcolor": "white",
            "gridwidth": 2,
            "linecolor": "white",
            "showbackground": true,
            "ticks": "",
            "zerolinecolor": "white"
           }
          },
          "shapedefaults": {
           "line": {
            "color": "#2a3f5f"
           }
          },
          "ternary": {
           "aaxis": {
            "gridcolor": "white",
            "linecolor": "white",
            "ticks": ""
           },
           "baxis": {
            "gridcolor": "white",
            "linecolor": "white",
            "ticks": ""
           },
           "bgcolor": "#E5ECF6",
           "caxis": {
            "gridcolor": "white",
            "linecolor": "white",
            "ticks": ""
           }
          },
          "title": {
           "x": 0.05
          },
          "xaxis": {
           "automargin": true,
           "gridcolor": "white",
           "linecolor": "white",
           "ticks": "",
           "title": {
            "standoff": 15
           },
           "zerolinecolor": "white",
           "zerolinewidth": 2
          },
          "yaxis": {
           "automargin": true,
           "gridcolor": "white",
           "linecolor": "white",
           "ticks": "",
           "title": {
            "standoff": 15
           },
           "zerolinecolor": "white",
           "zerolinewidth": 2
          }
         }
        },
        "xaxis": {
         "anchor": "y",
         "categoryarray": [
          "Cluster 0",
          "Cluster 1"
         ],
         "categoryorder": "array",
         "domain": [
          0,
          1
         ],
         "title": {
          "text": "Cluster"
         }
        },
        "xaxis2": {
         "anchor": "y2",
         "domain": [
          0,
          1
         ],
         "matches": "x",
         "showgrid": true,
         "showticklabels": false
        },
        "yaxis": {
         "anchor": "x",
         "domain": [
          0,
          0.7326
         ],
         "title": {
          "text": "count"
         }
        },
        "yaxis2": {
         "anchor": "x2",
         "domain": [
          0.7426,
          1
         ],
         "matches": "y2",
         "showgrid": false,
         "showline": false,
         "showticklabels": false,
         "ticks": ""
        }
       }
      }
     },
     "metadata": {},
     "output_type": "display_data"
    }
   ],
   "source": [
    "plot_model(kmeans, plot = 'distribution')\n",
    "# cluster 0 has way more occurence than s"
   ]
  },
  {
   "cell_type": "code",
   "execution_count": null,
   "metadata": {},
   "outputs": [],
   "source": []
  },
  {
   "attachments": {},
   "cell_type": "markdown",
   "metadata": {},
   "source": [
    "# ap"
   ]
  },
  {
   "cell_type": "code",
   "execution_count": null,
   "metadata": {},
   "outputs": [
    {
     "data": {
      "text/html": [
       "<style type=\"text/css\">\n",
       "</style>\n",
       "<table id=\"T_f0b05\">\n",
       "  <thead>\n",
       "    <tr>\n",
       "      <th class=\"blank level0\" >&nbsp;</th>\n",
       "      <th id=\"T_f0b05_level0_col0\" class=\"col_heading level0 col0\" >Silhouette</th>\n",
       "      <th id=\"T_f0b05_level0_col1\" class=\"col_heading level0 col1\" >Calinski-Harabasz</th>\n",
       "      <th id=\"T_f0b05_level0_col2\" class=\"col_heading level0 col2\" >Davies-Bouldin</th>\n",
       "      <th id=\"T_f0b05_level0_col3\" class=\"col_heading level0 col3\" >Homogeneity</th>\n",
       "      <th id=\"T_f0b05_level0_col4\" class=\"col_heading level0 col4\" >Rand Index</th>\n",
       "      <th id=\"T_f0b05_level0_col5\" class=\"col_heading level0 col5\" >Completeness</th>\n",
       "    </tr>\n",
       "  </thead>\n",
       "  <tbody>\n",
       "    <tr>\n",
       "      <th id=\"T_f0b05_level0_row0\" class=\"row_heading level0 row0\" >0</th>\n",
       "      <td id=\"T_f0b05_row0_col0\" class=\"data row0 col0\" >0.2327</td>\n",
       "      <td id=\"T_f0b05_row0_col1\" class=\"data row0 col1\" >97.5647</td>\n",
       "      <td id=\"T_f0b05_row0_col2\" class=\"data row0 col2\" >1.0634</td>\n",
       "      <td id=\"T_f0b05_row0_col3\" class=\"data row0 col3\" >0</td>\n",
       "      <td id=\"T_f0b05_row0_col4\" class=\"data row0 col4\" >0</td>\n",
       "      <td id=\"T_f0b05_row0_col5\" class=\"data row0 col5\" >0</td>\n",
       "    </tr>\n",
       "  </tbody>\n",
       "</table>\n"
      ],
      "text/plain": [
       "<pandas.io.formats.style.Styler at 0x7f20181ba3e0>"
      ]
     },
     "metadata": {},
     "output_type": "display_data"
    }
   ],
   "source": [
    "ap = create_model('ap', num_clusters=2)"
   ]
  },
  {
   "cell_type": "code",
   "execution_count": null,
   "metadata": {},
   "outputs": [
    {
     "data": {
      "text/html": [
       "<div>\n",
       "<style scoped>\n",
       "    .dataframe tbody tr th:only-of-type {\n",
       "        vertical-align: middle;\n",
       "    }\n",
       "\n",
       "    .dataframe tbody tr th {\n",
       "        vertical-align: top;\n",
       "    }\n",
       "\n",
       "    .dataframe thead th {\n",
       "        text-align: right;\n",
       "    }\n",
       "</style>\n",
       "<table border=\"1\" class=\"dataframe\">\n",
       "  <thead>\n",
       "    <tr style=\"text-align: right;\">\n",
       "      <th></th>\n",
       "      <th>chatter_presence</th>\n",
       "      <th>med</th>\n",
       "      <th>std</th>\n",
       "      <th>rms</th>\n",
       "      <th>curtose</th>\n",
       "      <th>distortion</th>\n",
       "      <th>amplitude</th>\n",
       "      <th>sra</th>\n",
       "      <th>crest</th>\n",
       "      <th>impulse</th>\n",
       "      <th>margin</th>\n",
       "      <th>max</th>\n",
       "      <th>freq_max</th>\n",
       "      <th>freq_sec_highest</th>\n",
       "      <th>fft_mean</th>\n",
       "      <th>Cluster</th>\n",
       "    </tr>\n",
       "  </thead>\n",
       "  <tbody>\n",
       "    <tr>\n",
       "      <th>0</th>\n",
       "      <td>s</td>\n",
       "      <td>0.005482</td>\n",
       "      <td>0.002285</td>\n",
       "      <td>0.005940</td>\n",
       "      <td>-0.684501</td>\n",
       "      <td>13046.608398</td>\n",
       "      <td>0.019401</td>\n",
       "      <td>0.005217</td>\n",
       "      <td>2.709846</td>\n",
       "      <td>2.934680</td>\n",
       "      <td>3.084994</td>\n",
       "      <td>0.016095</td>\n",
       "      <td>3075.253906</td>\n",
       "      <td>3314.593262</td>\n",
       "      <td>0.617542</td>\n",
       "      <td>Cluster 10</td>\n",
       "    </tr>\n",
       "    <tr>\n",
       "      <th>1</th>\n",
       "      <td>s</td>\n",
       "      <td>0.005475</td>\n",
       "      <td>0.002081</td>\n",
       "      <td>0.005857</td>\n",
       "      <td>-0.254890</td>\n",
       "      <td>7052.356934</td>\n",
       "      <td>0.041907</td>\n",
       "      <td>0.005266</td>\n",
       "      <td>4.755545</td>\n",
       "      <td>5.084255</td>\n",
       "      <td>5.289695</td>\n",
       "      <td>0.027854</td>\n",
       "      <td>119.866402</td>\n",
       "      <td>696.665100</td>\n",
       "      <td>0.406478</td>\n",
       "      <td>Cluster 7</td>\n",
       "    </tr>\n",
       "    <tr>\n",
       "      <th>2</th>\n",
       "      <td>s</td>\n",
       "      <td>0.005492</td>\n",
       "      <td>0.001971</td>\n",
       "      <td>0.005835</td>\n",
       "      <td>-1.170823</td>\n",
       "      <td>8819.340820</td>\n",
       "      <td>0.010459</td>\n",
       "      <td>0.005303</td>\n",
       "      <td>1.792693</td>\n",
       "      <td>1.904703</td>\n",
       "      <td>1.972551</td>\n",
       "      <td>0.010460</td>\n",
       "      <td>-119.598801</td>\n",
       "      <td>-1207.787964</td>\n",
       "      <td>0.159834</td>\n",
       "      <td>Cluster 12</td>\n",
       "    </tr>\n",
       "    <tr>\n",
       "      <th>3</th>\n",
       "      <td>c</td>\n",
       "      <td>0.005414</td>\n",
       "      <td>0.040638</td>\n",
       "      <td>0.040996</td>\n",
       "      <td>0.898666</td>\n",
       "      <td>4733.248535</td>\n",
       "      <td>0.416909</td>\n",
       "      <td>0.026842</td>\n",
       "      <td>5.159852</td>\n",
       "      <td>6.625808</td>\n",
       "      <td>7.880688</td>\n",
       "      <td>0.205375</td>\n",
       "      <td>-945.862488</td>\n",
       "      <td>-845.862915</td>\n",
       "      <td>6.028744</td>\n",
       "      <td>Cluster 0</td>\n",
       "    </tr>\n",
       "    <tr>\n",
       "      <th>4</th>\n",
       "      <td>c</td>\n",
       "      <td>0.005469</td>\n",
       "      <td>0.014140</td>\n",
       "      <td>0.015160</td>\n",
       "      <td>3.312443</td>\n",
       "      <td>1899.488770</td>\n",
       "      <td>0.160458</td>\n",
       "      <td>0.008789</td>\n",
       "      <td>5.493718</td>\n",
       "      <td>7.627771</td>\n",
       "      <td>9.475498</td>\n",
       "      <td>0.077174</td>\n",
       "      <td>933.575134</td>\n",
       "      <td>959.974426</td>\n",
       "      <td>1.305385</td>\n",
       "      <td>Cluster 11</td>\n",
       "    </tr>\n",
       "  </tbody>\n",
       "</table>\n",
       "</div>"
      ],
      "text/plain": [
       "  chatter_presence       med       std       rms   curtose    distortion  \\\n",
       "0                s  0.005482  0.002285  0.005940 -0.684501  13046.608398   \n",
       "1                s  0.005475  0.002081  0.005857 -0.254890   7052.356934   \n",
       "2                s  0.005492  0.001971  0.005835 -1.170823   8819.340820   \n",
       "3                c  0.005414  0.040638  0.040996  0.898666   4733.248535   \n",
       "4                c  0.005469  0.014140  0.015160  3.312443   1899.488770   \n",
       "\n",
       "   amplitude       sra     crest   impulse    margin       max     freq_max  \\\n",
       "0   0.019401  0.005217  2.709846  2.934680  3.084994  0.016095  3075.253906   \n",
       "1   0.041907  0.005266  4.755545  5.084255  5.289695  0.027854   119.866402   \n",
       "2   0.010459  0.005303  1.792693  1.904703  1.972551  0.010460  -119.598801   \n",
       "3   0.416909  0.026842  5.159852  6.625808  7.880688  0.205375  -945.862488   \n",
       "4   0.160458  0.008789  5.493718  7.627771  9.475498  0.077174   933.575134   \n",
       "\n",
       "   freq_sec_highest  fft_mean     Cluster  \n",
       "0       3314.593262  0.617542  Cluster 10  \n",
       "1        696.665100  0.406478   Cluster 7  \n",
       "2      -1207.787964  0.159834  Cluster 12  \n",
       "3       -845.862915  6.028744   Cluster 0  \n",
       "4        959.974426  1.305385  Cluster 11  "
      ]
     },
     "execution_count": 67,
     "metadata": {},
     "output_type": "execute_result"
    }
   ],
   "source": [
    "ap_results = assign_model(ap)\n",
    "ap_results.head()"
   ]
  },
  {
   "cell_type": "code",
   "execution_count": null,
   "metadata": {},
   "outputs": [
    {
     "data": {
      "text/html": [],
      "text/plain": [
       "<IPython.core.display.HTML object>"
      ]
     },
     "metadata": {},
     "output_type": "display_data"
    },
    {
     "data": {
      "application/vnd.plotly.v1+json": {
       "config": {
        "plotlyServerURL": "https://plot.ly"
       },
       "data": [
        {
         "customdata": [
          [
           16
          ],
          [
           71
          ],
          [
           3
          ]
         ],
         "hovertemplate": "Cluster=Cluster 0<br>PCA1=%{x}<br>PCA2=%{y}<br>Feature=%{customdata[0]}<extra></extra>",
         "legendgroup": "Cluster 0",
         "marker": {
          "color": "#636efa",
          "opacity": 0.5,
          "symbol": "circle"
         },
         "mode": "markers",
         "name": "Cluster 0",
         "orientation": "v",
         "showlegend": true,
         "textposition": "top center",
         "type": "scatter",
         "x": [
          11.456924442685754,
          14.952498378613203,
          13.253196196607751
         ],
         "xaxis": "x",
         "y": [
          5.244760731350452,
          4.782855943184749,
          5.94450724628585
         ],
         "yaxis": "y"
        },
        {
         "customdata": [
          [
           139
          ],
          [
           15
          ],
          [
           144
          ],
          [
           62
          ]
         ],
         "hovertemplate": "Cluster=Cluster 1<br>PCA1=%{x}<br>PCA2=%{y}<br>Feature=%{customdata[0]}<extra></extra>",
         "legendgroup": "Cluster 1",
         "marker": {
          "color": "#EF553B",
          "opacity": 0.5,
          "symbol": "circle"
         },
         "mode": "markers",
         "name": "Cluster 1",
         "orientation": "v",
         "showlegend": true,
         "textposition": "top center",
         "type": "scatter",
         "x": [
          3.6309064684381185,
          3.4920422673578444,
          3.633246496865305,
          4.087773518873541
         ],
         "xaxis": "x",
         "y": [
          -3.4436438814707366,
          -3.0891154585021927,
          -3.3462548254023767,
          -2.6900143828520218
         ],
         "yaxis": "y"
        },
        {
         "customdata": [
          [
           11
          ],
          [
           141
          ],
          [
           38
          ]
         ],
         "hovertemplate": "Cluster=Cluster 2<br>PCA1=%{x}<br>PCA2=%{y}<br>Feature=%{customdata[0]}<extra></extra>",
         "legendgroup": "Cluster 2",
         "marker": {
          "color": "#00cc96",
          "opacity": 0.5,
          "symbol": "circle"
         },
         "mode": "markers",
         "name": "Cluster 2",
         "orientation": "v",
         "showlegend": true,
         "textposition": "top center",
         "type": "scatter",
         "x": [
          5.752055462975942,
          5.580893460976709,
          6.178737137973255
         ],
         "xaxis": "x",
         "y": [
          -3.9247857179576604,
          -3.6657423438105528,
          -5.143317156653033
         ],
         "yaxis": "y"
        },
        {
         "customdata": [
          [
           107
          ],
          [
           54
          ]
         ],
         "hovertemplate": "Cluster=Cluster 3<br>PCA1=%{x}<br>PCA2=%{y}<br>Feature=%{customdata[0]}<extra></extra>",
         "legendgroup": "Cluster 3",
         "marker": {
          "color": "#ab63fa",
          "opacity": 0.5,
          "symbol": "circle"
         },
         "mode": "markers",
         "name": "Cluster 3",
         "orientation": "v",
         "showlegend": true,
         "textposition": "top center",
         "type": "scatter",
         "x": [
          15.110345058125544,
          14.287741204893125
         ],
         "xaxis": "x",
         "y": [
          8.385116010723346,
          7.77732952442597
         ],
         "yaxis": "y"
        },
        {
         "customdata": [
          [
           199
          ],
          [
           64
          ],
          [
           65
          ],
          [
           47
          ],
          [
           145
          ],
          [
           50
          ],
          [
           114
          ],
          [
           342
          ],
          [
           17
          ],
          [
           10
          ],
          [
           308
          ],
          [
           80
          ],
          [
           135
          ]
         ],
         "hovertemplate": "Cluster=Cluster 4<br>PCA1=%{x}<br>PCA2=%{y}<br>Feature=%{customdata[0]}<extra></extra>",
         "legendgroup": "Cluster 4",
         "marker": {
          "color": "#FFA15A",
          "opacity": 0.5,
          "symbol": "circle"
         },
         "mode": "markers",
         "name": "Cluster 4",
         "orientation": "v",
         "showlegend": true,
         "textposition": "top center",
         "type": "scatter",
         "x": [
          -0.43604900562205645,
          -1.2819521234073965,
          -1.2677386180552745,
          -0.82471171531322,
          -0.6558647615322669,
          -1.3424147944145766,
          -1.0759682827993609,
          -1.2435631161287388,
          -1.1829319699125613,
          -1.2648183225932503,
          -0.9241962782084815,
          -1.3027624226644618,
          -1.304376361456665
         ],
         "xaxis": "x",
         "y": [
          -1.443425984894828,
          -0.7986258708488929,
          -0.6928627276053211,
          -0.9028175297123808,
          -1.5185170715241996,
          -0.8041193578487988,
          -0.8262442689090971,
          -0.7394836297199795,
          -1.022486374705416,
          -0.9842628820820261,
          -0.9560747402421155,
          -0.8487482704509233,
          -0.6625888605663939
         ],
         "yaxis": "y"
        },
        {
         "customdata": [
          [
           84
          ],
          [
           86
          ],
          [
           143
          ],
          [
           119
          ],
          [
           165
          ],
          [
           105
          ],
          [
           148
          ],
          [
           98
          ],
          [
           46
          ],
          [
           159
          ],
          [
           160
          ],
          [
           161
          ],
          [
           66
          ],
          [
           70
          ],
          [
           104
          ],
          [
           323
          ],
          [
           305
          ],
          [
           251
          ],
          [
           26
          ],
          [
           223
          ],
          [
           198
          ],
          [
           257
          ],
          [
           12
          ],
          [
           302
          ],
          [
           192
          ],
          [
           335
          ],
          [
           330
          ],
          [
           356
          ]
         ],
         "hovertemplate": "Cluster=Cluster 5<br>PCA1=%{x}<br>PCA2=%{y}<br>Feature=%{customdata[0]}<extra></extra>",
         "legendgroup": "Cluster 5",
         "marker": {
          "color": "#19d3f3",
          "opacity": 0.5,
          "symbol": "circle"
         },
         "mode": "markers",
         "name": "Cluster 5",
         "orientation": "v",
         "showlegend": true,
         "textposition": "top center",
         "type": "scatter",
         "x": [
          -2.183923141439952,
          -0.9429606204889368,
          -1.9005425637097615,
          -1.759741050513591,
          -1.0318482561921714,
          -0.808304244946476,
          -1.3234750169286615,
          -1.7609468931811363,
          -1.6298354225949374,
          -1.2919892352326399,
          -1.498915828595433,
          -1.0454238633925261,
          -1.294115696885721,
          -0.18484834262195526,
          -1.3654329786165895,
          -1.4440280725080603,
          -1.5686350042299277,
          -1.3976107461772516,
          -0.6317727747770393,
          -1.069553835632324,
          -1.2321760206410688,
          -2.038401820106676,
          -1.7151499251461555,
          -1.383203136553548,
          -1.435455685893966,
          -0.9590446205418557,
          -1.6030187357803463,
          -1.6397880275770498
         ],
         "xaxis": "x",
         "y": [
          0.9584483505290159,
          0.3578891146147242,
          0.7975607436061195,
          0.8207538551737196,
          0.1505300364825308,
          0.39371193885079087,
          0.3565438331340915,
          1.0727663118573025,
          0.5377871460623,
          0.40444213056143796,
          0.3362966449698593,
          0.1355951959403409,
          0.4834425644561634,
          -0.08879072674132198,
          0.28146510561457255,
          0.5143849606938217,
          0.5753007550715996,
          0.4576622324440782,
          0.3928052992161412,
          0.23032246916672328,
          0.23642548844363276,
          0.7501453231547774,
          0.7086218541261375,
          0.1496235211165939,
          0.5197604027217612,
          -0.026335197848585908,
          0.8089885633269299,
          0.33087633115591936
         ],
         "yaxis": "y"
        },
        {
         "customdata": [
          [
           100
          ],
          [
           124
          ],
          [
           128
          ],
          [
           55
          ],
          [
           24
          ],
          [
           96
          ],
          [
           69
          ]
         ],
         "hovertemplate": "Cluster=Cluster 6<br>PCA1=%{x}<br>PCA2=%{y}<br>Feature=%{customdata[0]}<extra></extra>",
         "legendgroup": "Cluster 6",
         "marker": {
          "color": "#FF6692",
          "opacity": 0.5,
          "symbol": "circle"
         },
         "mode": "markers",
         "name": "Cluster 6",
         "orientation": "v",
         "showlegend": true,
         "textposition": "top center",
         "type": "scatter",
         "x": [
          3.7930092263879978,
          3.99197300762679,
          4.938091971105082,
          3.746952991787682,
          3.994609880690002,
          3.8180731130468826,
          4.196875578660013
         ],
         "xaxis": "x",
         "y": [
          -0.293193765258254,
          1.3893227083204296,
          0.752018558608971,
          0.09802681429110016,
          1.7694027658578815,
          -0.7416420251929458,
          0.14513627869928425
         ],
         "yaxis": "y"
        },
        {
         "customdata": [
          [
           85
          ],
          [
           1
          ],
          [
           315
          ],
          [
           95
          ],
          [
           73
          ],
          [
           172
          ],
          [
           173
          ],
          [
           310
          ],
          [
           154
          ],
          [
           41
          ],
          [
           206
          ],
          [
           189
          ],
          [
           44
          ]
         ],
         "hovertemplate": "Cluster=Cluster 7<br>PCA1=%{x}<br>PCA2=%{y}<br>Feature=%{customdata[0]}<extra></extra>",
         "legendgroup": "Cluster 7",
         "marker": {
          "color": "#B6E880",
          "opacity": 0.5,
          "symbol": "circle"
         },
         "mode": "markers",
         "name": "Cluster 7",
         "orientation": "v",
         "showlegend": true,
         "textposition": "top center",
         "type": "scatter",
         "x": [
          -0.42688843505457436,
          0.1999356579853376,
          0.1692185522960107,
          -0.6637784251192475,
          -0.4161163790738634,
          -0.06019405232412614,
          -0.11616160083476502,
          -0.6936667171603785,
          0.07308323980602077,
          0.5632891012771019,
          0.1879390234649081,
          -0.23791237107705082,
          0.48433287265651825
         ],
         "xaxis": "x",
         "y": [
          -0.3857833319603809,
          -0.405995457332274,
          -1.444941302470935,
          -0.5348153256115195,
          0.34132035728476245,
          -0.5221321875767709,
          -0.3508331995522747,
          -0.07793408785325531,
          -0.05352301286596253,
          -1.7385004768874432,
          -0.8280523334818158,
          -0.46307412023968625,
          -1.028335696874984
         ],
         "yaxis": "y"
        },
        {
         "customdata": [
          [
           87
          ],
          [
           127
          ],
          [
           52
          ],
          [
           63
          ],
          [
           43
          ],
          [
           72
          ],
          [
           116
          ]
         ],
         "hovertemplate": "Cluster=Cluster 8<br>PCA1=%{x}<br>PCA2=%{y}<br>Feature=%{customdata[0]}<extra></extra>",
         "legendgroup": "Cluster 8",
         "marker": {
          "color": "#FF97FF",
          "opacity": 0.5,
          "symbol": "circle"
         },
         "mode": "markers",
         "name": "Cluster 8",
         "orientation": "v",
         "showlegend": true,
         "textposition": "top center",
         "type": "scatter",
         "x": [
          3.6114565012584383,
          2.9225236269513766,
          5.593164648056265,
          4.063610443496239,
          5.042398515951828,
          2.2432581090317054,
          3.7671440707586794
         ],
         "xaxis": "x",
         "y": [
          0.3180736883509655,
          -1.2845673336293286,
          0.18936146181771443,
          -0.5751244173431583,
          2.3073752638165557,
          1.2631782209826843,
          1.532708081105898
         ],
         "yaxis": "y"
        },
        {
         "customdata": [
          [
           118
          ],
          [
           34
          ],
          [
           89
          ],
          [
           32
          ],
          [
           99
          ],
          [
           48
          ],
          [
           9
          ],
          [
           150
          ],
          [
           129
          ],
          [
           133
          ],
          [
           134
          ],
          [
           31
          ],
          [
           136
          ],
          [
           146
          ],
          [
           61
          ]
         ],
         "hovertemplate": "Cluster=Cluster 9<br>PCA1=%{x}<br>PCA2=%{y}<br>Feature=%{customdata[0]}<extra></extra>",
         "legendgroup": "Cluster 9",
         "marker": {
          "color": "#FECB52",
          "opacity": 0.5,
          "symbol": "circle"
         },
         "mode": "markers",
         "name": "Cluster 9",
         "orientation": "v",
         "showlegend": true,
         "textposition": "top center",
         "type": "scatter",
         "x": [
          -1.8964237908479071,
          -2.1459103252240137,
          -1.972926461026564,
          -2.080579402487945,
          -2.2414217055376215,
          -1.7875838504649457,
          -2.176909067089253,
          -2.330554239974503,
          -1.819973711971209,
          -1.6259179894365376,
          -2.3259687404258487,
          -2.0366199799439006,
          -2.2405396306099354,
          -2.105385631541851,
          -1.7459231694759723
         ],
         "xaxis": "x",
         "y": [
          1.6338893937068348,
          1.6558813501327774,
          1.681453699360844,
          1.8141030132891232,
          1.7644921501178976,
          1.5281107173266661,
          1.8623588927594976,
          1.6408516491928729,
          1.415864176784334,
          1.4223539353220003,
          1.9404147916620038,
          1.5527240381109786,
          2.110557987715725,
          1.8662639267174488,
          1.7040165055662322
         ],
         "yaxis": "y"
        },
        {
         "customdata": [
          [
           125
          ],
          [
           126
          ],
          [
           341
          ],
          [
           357
          ],
          [
           142
          ],
          [
           290
          ],
          [
           0
          ],
          [
           363
          ],
          [
           67
          ],
          [
           83
          ],
          [
           90
          ],
          [
           6
          ],
          [
           77
          ],
          [
           13
          ],
          [
           94
          ],
          [
           20
          ]
         ],
         "hovertemplate": "Cluster=Cluster 10<br>PCA1=%{x}<br>PCA2=%{y}<br>Feature=%{customdata[0]}<extra></extra>",
         "legendgroup": "Cluster 10",
         "marker": {
          "color": "#636efa",
          "opacity": 0.5,
          "symbol": "circle"
         },
         "mode": "markers",
         "name": "Cluster 10",
         "orientation": "v",
         "showlegend": true,
         "textposition": "top center",
         "type": "scatter",
         "x": [
          -0.3655632344917663,
          -1.518440985976752,
          -1.9284763729150873,
          -1.7226477160877587,
          -1.408826169093584,
          -2.1184436315856003,
          -1.5476241002947038,
          -1.4665845071220476,
          -1.7123098791316196,
          -2.172058134307993,
          -1.3034234584239848,
          -2.3308129178311674,
          -1.647164995091202,
          -2.135386348978679,
          -1.5343264364070055,
          -2.5074314874883776
         ],
         "xaxis": "x",
         "y": [
          0.3540272398654225,
          1.4326719769182759,
          1.3587884488863553,
          1.190750088997072,
          0.8727989959272047,
          1.2885175700420428,
          1.5010626750263025,
          0.8709335267742286,
          1.0439337749663289,
          2.1911744239593,
          1.124114185445609,
          1.577628573770246,
          1.0326346136369915,
          2.0432326130802267,
          1.2628195056363012,
          2.2261587825643363
         ],
         "yaxis": "y"
        },
        {
         "customdata": [
          [
           53
          ],
          [
           132
          ],
          [
           4
          ],
          [
           115
          ],
          [
           78
          ],
          [
           97
          ],
          [
           101
          ]
         ],
         "hovertemplate": "Cluster=Cluster 11<br>PCA1=%{x}<br>PCA2=%{y}<br>Feature=%{customdata[0]}<extra></extra>",
         "legendgroup": "Cluster 11",
         "marker": {
          "color": "#EF553B",
          "opacity": 0.5,
          "symbol": "circle"
         },
         "mode": "markers",
         "name": "Cluster 11",
         "orientation": "v",
         "showlegend": true,
         "textposition": "top center",
         "type": "scatter",
         "x": [
          4.908398074737465,
          7.391742397253832,
          5.856547865185938,
          4.301036427166056,
          6.02848709984753,
          5.409344053264213,
          3.8976874222911366
         ],
         "xaxis": "x",
         "y": [
          -1.1078378987197244,
          -1.413193888187339,
          -1.5882025115444611,
          -1.798354561152244,
          -1.6586390611966524,
          -1.54018678094951,
          -3.091777042692997
         ],
         "yaxis": "y"
        },
        {
         "customdata": [
          [
           244
          ],
          [
           234
          ],
          [
           350
          ],
          [
           324
          ],
          [
           346
          ],
          [
           353
          ],
          [
           195
          ],
          [
           102
          ],
          [
           57
          ],
          [
           163
          ],
          [
           164
          ],
          [
           8
          ],
          [
           216
          ],
          [
           5
          ],
          [
           205
          ],
          [
           30
          ],
          [
           196
          ],
          [
           187
          ],
          [
           185
          ],
          [
           42
          ],
          [
           325
          ],
          [
           318
          ],
          [
           339
          ],
          [
           272
          ],
          [
           2
          ],
          [
           76
          ],
          [
           19
          ],
          [
           74
          ],
          [
           121
          ],
          [
           282
          ],
          [
           361
          ],
          [
           106
          ]
         ],
         "hovertemplate": "Cluster=Cluster 12<br>PCA1=%{x}<br>PCA2=%{y}<br>Feature=%{customdata[0]}<extra></extra>",
         "legendgroup": "Cluster 12",
         "marker": {
          "color": "#00cc96",
          "opacity": 0.5,
          "symbol": "circle"
         },
         "mode": "markers",
         "name": "Cluster 12",
         "orientation": "v",
         "showlegend": true,
         "textposition": "top center",
         "type": "scatter",
         "x": [
          -1.9697311008549885,
          -1.3584180795079959,
          -1.7078114164625904,
          -1.8016051326776124,
          -1.8956458394700355,
          -1.7555122744936862,
          -1.4615959331073205,
          -1.6768811711117193,
          -1.7314757192775148,
          -1.6067724568571968,
          -1.0788974510817557,
          -1.7803379307173042,
          -1.57829982842563,
          -1.2863667071114513,
          -1.5621053561035734,
          -1.148045106232955,
          -1.0907704473053033,
          -1.3156658179641922,
          -1.4628345012400197,
          -2.0121013307834055,
          -1.561132527800011,
          -1.736248899304055,
          -1.5987062035353277,
          -1.939142794782748,
          -2.2293042689563456,
          -1.5472158912503424,
          -1.6028936679770664,
          -1.1808212928525952,
          -1.9374565980731804,
          -1.9915896654746705,
          -1.5851186987301622,
          -1.8477299770394933
         ],
         "xaxis": "x",
         "y": [
          1.0226386979788062,
          0.7351455262125114,
          0.9772129603699526,
          1.1054110218094064,
          1.2879762334492864,
          0.6730618421355588,
          0.7248620975725865,
          0.8550270358075477,
          0.7906337423863564,
          0.768129623774228,
          0.2865672495815236,
          0.8900887442092074,
          0.95392205283411,
          0.43870797061791367,
          0.5766080868530091,
          0.2873066668100268,
          0.30113907233743586,
          0.5065366395395959,
          0.6735857149400445,
          1.2490104955457286,
          0.8647620437392862,
          0.6224686921084454,
          0.5911551388317117,
          1.2076927378475641,
          1.2359762054049348,
          0.583934007138547,
          0.8167950301691483,
          0.7056723990038593,
          1.0261929813507147,
          0.95501369312677,
          0.4398655920430194,
          1.1912448016448298
         ],
         "yaxis": "y"
        },
        {
         "customdata": [
          [
           28
          ],
          [
           151
          ],
          [
           113
          ]
         ],
         "hovertemplate": "Cluster=Cluster 13<br>PCA1=%{x}<br>PCA2=%{y}<br>Feature=%{customdata[0]}<extra></extra>",
         "legendgroup": "Cluster 13",
         "marker": {
          "color": "#ab63fa",
          "opacity": 0.5,
          "symbol": "circle"
         },
         "mode": "markers",
         "name": "Cluster 13",
         "orientation": "v",
         "showlegend": true,
         "textposition": "top center",
         "type": "scatter",
         "x": [
          9.19648453495234,
          9.60306109377946,
          8.341498194294385
         ],
         "xaxis": "x",
         "y": [
          5.083611230671559,
          5.399235890192164,
          4.786473696230905
         ],
         "yaxis": "y"
        },
        {
         "customdata": [
          [
           33
          ],
          [
           331
          ],
          [
           92
          ],
          [
           117
          ],
          [
           359
          ],
          [
           120
          ],
          [
           37
          ],
          [
           140
          ],
          [
           45
          ],
          [
           138
          ],
          [
           25
          ],
          [
           58
          ],
          [
           51
          ],
          [
           122
          ],
          [
           79
          ],
          [
           306
          ],
          [
           82
          ],
          [
           153
          ]
         ],
         "hovertemplate": "Cluster=Cluster 14<br>PCA1=%{x}<br>PCA2=%{y}<br>Feature=%{customdata[0]}<extra></extra>",
         "legendgroup": "Cluster 14",
         "marker": {
          "color": "#FFA15A",
          "opacity": 0.5,
          "symbol": "circle"
         },
         "mode": "markers",
         "name": "Cluster 14",
         "orientation": "v",
         "showlegend": true,
         "textposition": "top center",
         "type": "scatter",
         "x": [
          1.6048430587002795,
          0.44204129808793957,
          3.78851399345144,
          0.9336768452512026,
          0.4468649618458622,
          0.24738774906585204,
          0.2656292463205109,
          0.9003300748733999,
          2.5238007951436012,
          2.849159124171425,
          0.9342651905202589,
          1.8752568330325532,
          0.28929060837033677,
          1.4736340412931372,
          0.48999811371066293,
          -0.12094019748721757,
          1.2375976153330093,
          0.14104442871083706
         ],
         "xaxis": "x",
         "y": [
          -3.0823902290147327,
          -1.5897734312001344,
          -2.1008184020013587,
          -2.262058614750764,
          -2.0625570652596834,
          -1.8867812760207228,
          -2.764625171948372,
          -2.9292950103014554,
          -2.682707075681676,
          -2.3102165525340683,
          -3.151538648436015,
          -1.5637033643168838,
          -2.5119169743728795,
          -1.7118997179902777,
          -1.4237447716829976,
          -1.875794374234574,
          -2.4092434653312416,
          -2.028259766065826
         ],
         "yaxis": "y"
        },
        {
         "customdata": [
          [
           131
          ]
         ],
         "hovertemplate": "Cluster=Cluster 15<br>PCA1=%{x}<br>PCA2=%{y}<br>Feature=%{customdata[0]}<extra></extra>",
         "legendgroup": "Cluster 15",
         "marker": {
          "color": "#19d3f3",
          "opacity": 0.5,
          "symbol": "circle"
         },
         "mode": "markers",
         "name": "Cluster 15",
         "orientation": "v",
         "showlegend": true,
         "textposition": "top center",
         "type": "scatter",
         "x": [
          8.403371240638785
         ],
         "xaxis": "x",
         "y": [
          -3.7374775558987903
         ],
         "yaxis": "y"
        },
        {
         "customdata": [
          [
           137
          ]
         ],
         "hovertemplate": "Cluster=Cluster 16<br>PCA1=%{x}<br>PCA2=%{y}<br>Feature=%{customdata[0]}<extra></extra>",
         "legendgroup": "Cluster 16",
         "marker": {
          "color": "#FF6692",
          "opacity": 0.5,
          "symbol": "circle"
         },
         "mode": "markers",
         "name": "Cluster 16",
         "orientation": "v",
         "showlegend": true,
         "textposition": "top center",
         "type": "scatter",
         "x": [
          17.70299287946039
         ],
         "xaxis": "x",
         "y": [
          -7.429836640932882
         ],
         "yaxis": "y"
        },
        {
         "customdata": [
          [
           152
          ]
         ],
         "hovertemplate": "Cluster=Cluster 17<br>PCA1=%{x}<br>PCA2=%{y}<br>Feature=%{customdata[0]}<extra></extra>",
         "legendgroup": "Cluster 17",
         "marker": {
          "color": "#B6E880",
          "opacity": 0.5,
          "symbol": "circle"
         },
         "mode": "markers",
         "name": "Cluster 17",
         "orientation": "v",
         "showlegend": true,
         "textposition": "top center",
         "type": "scatter",
         "x": [
          12.88693585009203
         ],
         "xaxis": "x",
         "y": [
          0.47698032418118214
         ],
         "yaxis": "y"
        },
        {
         "customdata": [
          [
           209
          ],
          [
           322
          ],
          [
           18
          ],
          [
           297
          ],
          [
           183
          ],
          [
           188
          ],
          [
           286
          ],
          [
           21
          ],
          [
           289
          ],
          [
           60
          ],
          [
           167
          ],
          [
           340
          ],
          [
           344
          ],
          [
           354
          ]
         ],
         "hovertemplate": "Cluster=Cluster 18<br>PCA1=%{x}<br>PCA2=%{y}<br>Feature=%{customdata[0]}<extra></extra>",
         "legendgroup": "Cluster 18",
         "marker": {
          "color": "#FF97FF",
          "opacity": 0.5,
          "symbol": "circle"
         },
         "mode": "markers",
         "name": "Cluster 18",
         "orientation": "v",
         "showlegend": true,
         "textposition": "top center",
         "type": "scatter",
         "x": [
          -0.7510315099330946,
          0.10738279227772224,
          0.7339067504171636,
          -0.6947956109820749,
          -0.4467164425545036,
          -0.6106493953107677,
          -0.9081470345701206,
          -0.7662798745886079,
          -1.1018440104354108,
          -0.782915530394871,
          -0.6363524433202257,
          -1.593559393998633,
          -0.4772212382415606,
          -1.187585833444734
         ],
         "xaxis": "x",
         "y": [
          -0.6783773152898948,
          -1.4528144930345306,
          -0.9328695432293037,
          -0.9388729045456432,
          -1.0097367185841304,
          -0.8467814276056422,
          -0.7842826509471443,
          -1.1351629414231472,
          -0.6060417344700214,
          -1.14011266065566,
          -0.8197851817337387,
          -0.45589109792004445,
          -0.8416946076689922,
          -0.5362003041502923
         ],
         "yaxis": "y"
        },
        {
         "customdata": [
          [
           40
          ],
          [
           182
          ],
          [
           149
          ],
          [
           317
          ],
          [
           316
          ],
          [
           337
          ],
          [
           235
          ],
          [
           307
          ],
          [
           338
          ],
          [
           190
          ],
          [
           35
          ],
          [
           93
          ],
          [
           304
          ],
          [
           23
          ]
         ],
         "hovertemplate": "Cluster=Cluster 19<br>PCA1=%{x}<br>PCA2=%{y}<br>Feature=%{customdata[0]}<extra></extra>",
         "legendgroup": "Cluster 19",
         "marker": {
          "color": "#FECB52",
          "opacity": 0.5,
          "symbol": "circle"
         },
         "mode": "markers",
         "name": "Cluster 19",
         "orientation": "v",
         "showlegend": true,
         "textposition": "top center",
         "type": "scatter",
         "x": [
          -1.9678424802943912,
          -1.3996685592333034,
          -1.3697928032305153,
          -1.713983328373147,
          -1.864220044031212,
          -2.011536526636961,
          -1.27195902582618,
          -1.7673076427955774,
          -1.6791317836778612,
          -1.6538490984814123,
          -1.831433212893061,
          -1.582453891014011,
          -2.0075215895973875,
          -1.4937823113123525
         ],
         "xaxis": "x",
         "y": [
          0.6806186412180143,
          0.6575909852709941,
          0.7823472487946109,
          0.48025633592985717,
          0.7550326560505186,
          0.7474055967206418,
          0.4685607792732406,
          0.8501524572232877,
          0.7956603216188934,
          0.5936194829612841,
          0.5745294511796237,
          0.48334840731248063,
          0.9549737475806749,
          0.3243019325620431
         ],
         "yaxis": "y"
        },
        {
         "customdata": [
          [
           258
          ],
          [
           111
          ],
          [
           345
          ],
          [
           326
          ],
          [
           162
          ],
          [
           226
          ],
          [
           56
          ],
          [
           214
          ],
          [
           225
          ],
          [
           212
          ],
          [
           180
          ],
          [
           202
          ],
          [
           174
          ],
          [
           203
          ],
          [
           177
          ],
          [
           175
          ],
          [
           334
          ]
         ],
         "hovertemplate": "Cluster=Cluster 20<br>PCA1=%{x}<br>PCA2=%{y}<br>Feature=%{customdata[0]}<extra></extra>",
         "legendgroup": "Cluster 20",
         "marker": {
          "color": "#636efa",
          "opacity": 0.5,
          "symbol": "circle"
         },
         "mode": "markers",
         "name": "Cluster 20",
         "orientation": "v",
         "showlegend": true,
         "textposition": "top center",
         "type": "scatter",
         "x": [
          0.6131909965882273,
          2.0153248995826627,
          0.8996294679654006,
          2.001389390737878,
          1.187066065125568,
          0.7480279580324202,
          1.8391026191553046,
          1.563002679894862,
          1.1383765412579918,
          1.0485073120670698,
          1.078541399052943,
          0.3703611835806694,
          0.4668878112281667,
          1.117564871950794,
          0.7022111979367236,
          0.47876050234554673,
          0.8403245298992046
         ],
         "xaxis": "x",
         "y": [
          -0.638735070526249,
          -2.084408302983317,
          -1.3590916537763063,
          -1.1527929102086922,
          -1.3158759204135881,
          -0.7145017893172285,
          -1.4646294978771501,
          -1.3104766831962869,
          -1.1627065438003545,
          -1.519706087841322,
          -1.0476777275851907,
          -0.833742739151421,
          -0.7984252459209065,
          -1.2675102121634068,
          -0.9296319839290335,
          -0.7888382930521488,
          -1.1264702698401332
         ],
         "yaxis": "y"
        },
        {
         "customdata": [
          [
           245
          ],
          [
           246
          ],
          [
           211
          ],
          [
           252
          ],
          [
           287
          ],
          [
           213
          ],
          [
           265
          ],
          [
           123
          ],
          [
           360
          ],
          [
           277
          ],
          [
           280
          ],
          [
           291
          ],
          [
           108
          ],
          [
           261
          ],
          [
           193
          ],
          [
           181
          ],
          [
           210
          ],
          [
           215
          ],
          [
           207
          ],
          [
           224
          ],
          [
           218
          ],
          [
           232
          ],
          [
           220
          ]
         ],
         "hovertemplate": "Cluster=Cluster 21<br>PCA1=%{x}<br>PCA2=%{y}<br>Feature=%{customdata[0]}<extra></extra>",
         "legendgroup": "Cluster 21",
         "marker": {
          "color": "#EF553B",
          "opacity": 0.5,
          "symbol": "circle"
         },
         "mode": "markers",
         "name": "Cluster 21",
         "orientation": "v",
         "showlegend": true,
         "textposition": "top center",
         "type": "scatter",
         "x": [
          -1.7316464210281766,
          -2.0356877396741395,
          -1.451706988684744,
          -1.6405449301280957,
          -2.041152031794612,
          -1.1880238163720929,
          -1.6578222598189516,
          -1.2783857142396327,
          -0.44445782199270645,
          -1.7857343214090973,
          -1.8466404296256922,
          -1.9601647664958006,
          -0.7976687797265822,
          -1.783797162505674,
          -0.8597914099746446,
          -0.5078368086477602,
          -1.3668947560419518,
          -1.1422126311557115,
          -1.422871268696337,
          -0.8853616658560791,
          -0.46598905964719234,
          -1.2622741712624665,
          -1.6562193751818264
         ],
         "xaxis": "x",
         "y": [
          1.1387792230431173,
          1.0236826046724559,
          0.911716204673926,
          0.8533068281491729,
          1.1052361921043459,
          0.6290714676895718,
          0.7851687735493263,
          0.7401622730612328,
          -0.47891435462253795,
          1.1226925377774035,
          1.2438495998832386,
          1.036038254163782,
          0.04742320336498962,
          1.0811787799405232,
          0.22980289459475237,
          0.016965208760924187,
          0.8007361965952422,
          0.5965379351274293,
          0.38085248150522266,
          0.33280379661036574,
          0.08654690490986648,
          0.7672833155815685,
          1.107099580013185
         ],
         "yaxis": "y"
        },
        {
         "customdata": [
          [
           333
          ],
          [
           314
          ],
          [
           343
          ],
          [
           228
          ],
          [
           229
          ],
          [
           311
          ],
          [
           158
          ],
          [
           217
          ],
          [
           186
          ],
          [
           319
          ]
         ],
         "hovertemplate": "Cluster=Cluster 22<br>PCA1=%{x}<br>PCA2=%{y}<br>Feature=%{customdata[0]}<extra></extra>",
         "legendgroup": "Cluster 22",
         "marker": {
          "color": "#00cc96",
          "opacity": 0.5,
          "symbol": "circle"
         },
         "mode": "markers",
         "name": "Cluster 22",
         "orientation": "v",
         "showlegend": true,
         "textposition": "top center",
         "type": "scatter",
         "x": [
          -0.7763763937695797,
          1.6070953396094563,
          -0.4104380453579737,
          0.7291922135280041,
          1.3160239707301544,
          -0.7817214380235301,
          -0.028415225692188954,
          0.19048388273908656,
          0.8112573367678166,
          -0.2666749524825059
         ],
         "xaxis": "x",
         "y": [
          0.03347044081897082,
          1.0301115878136047,
          -0.22768344923385203,
          -0.5383775199684179,
          -1.001050790378546,
          -0.04185788044059317,
          -0.21717500326024364,
          -0.3022667165393364,
          -0.42148427336941396,
          -0.4183230765555976
         ],
         "yaxis": "y"
        },
        {
         "customdata": [
          [
           230
          ],
          [
           176
          ]
         ],
         "hovertemplate": "Cluster=Cluster 23<br>PCA1=%{x}<br>PCA2=%{y}<br>Feature=%{customdata[0]}<extra></extra>",
         "legendgroup": "Cluster 23",
         "marker": {
          "color": "#ab63fa",
          "opacity": 0.5,
          "symbol": "circle"
         },
         "mode": "markers",
         "name": "Cluster 23",
         "orientation": "v",
         "showlegend": true,
         "textposition": "top center",
         "type": "scatter",
         "x": [
          -0.746857631003074,
          -0.7058449070353077
         ],
         "xaxis": "x",
         "y": [
          0.8230382120943193,
          0.6672640423167179
         ],
         "yaxis": "y"
        },
        {
         "customdata": [
          [
           178
          ],
          [
           81
          ],
          [
           355
          ],
          [
           221
          ],
          [
           68
          ],
          [
           296
          ],
          [
           110
          ],
          [
           39
          ],
          [
           329
          ],
          [
           250
          ],
          [
           349
          ],
          [
           171
          ],
          [
           7
          ],
          [
           237
          ],
          [
           200
          ],
          [
           204
          ],
          [
           248
          ],
          [
           238
          ],
          [
           321
          ]
         ],
         "hovertemplate": "Cluster=Cluster 24<br>PCA1=%{x}<br>PCA2=%{y}<br>Feature=%{customdata[0]}<extra></extra>",
         "legendgroup": "Cluster 24",
         "marker": {
          "color": "#FFA15A",
          "opacity": 0.5,
          "symbol": "circle"
         },
         "mode": "markers",
         "name": "Cluster 24",
         "orientation": "v",
         "showlegend": true,
         "textposition": "top center",
         "type": "scatter",
         "x": [
          0.22776665339097393,
          -1.077019582963777,
          -1.5880806171095732,
          -1.1610456355694783,
          -1.772190413485505,
          -1.9174517641400348,
          -1.6733959968115386,
          -0.8666898823758353,
          -1.639974266038832,
          -1.4674847540275882,
          -0.9360454259699149,
          -0.606611744949348,
          -1.1561523582413349,
          -0.6492228727537813,
          -1.227138207945791,
          -1.462455885568238,
          -1.7305648205184652,
          -1.1779500653033594,
          -1.717872410696967
         ],
         "xaxis": "x",
         "y": [
          -1.1568061982815476,
          -0.33621375213256627,
          0.07893487782973506,
          -0.014837418683340375,
          0.13316685371379391,
          0.5925982346692175,
          0.12841639403638141,
          -0.4936257808462759,
          0.13962975088255156,
          0.21576137254289263,
          -0.4368798264934111,
          -0.4721046806873643,
          -0.3697320532604241,
          -0.36965514151722073,
          0.18015007453052698,
          0.06156690761336603,
          0.3764194081861011,
          -0.3200191268333802,
          0.17737995133736906
         ],
         "yaxis": "y"
        },
        {
         "customdata": [
          [
           281
          ],
          [
           241
          ],
          [
           242
          ],
          [
           273
          ],
          [
           231
          ],
          [
           249
          ],
          [
           269
          ],
          [
           191
          ],
          [
           266
          ],
          [
           285
          ],
          [
           293
          ]
         ],
         "hovertemplate": "Cluster=Cluster 25<br>PCA1=%{x}<br>PCA2=%{y}<br>Feature=%{customdata[0]}<extra></extra>",
         "legendgroup": "Cluster 25",
         "marker": {
          "color": "#19d3f3",
          "opacity": 0.5,
          "symbol": "circle"
         },
         "mode": "markers",
         "name": "Cluster 25",
         "orientation": "v",
         "showlegend": true,
         "textposition": "top center",
         "type": "scatter",
         "x": [
          1.2942955582680968,
          0.7396431286522784,
          0.5724596335352639,
          0.9554942806763258,
          0.26836009560211155,
          1.0404123753563372,
          0.5861276344812567,
          0.2392736423330315,
          0.5322134917239711,
          0.2272048418927522,
          1.188890026460032
         ],
         "xaxis": "x",
         "y": [
          0.5475058423210708,
          0.017559593570528883,
          -1.091182695537285,
          -0.05073350701734232,
          0.15409341510435778,
          -0.3238416270628959,
          -0.08819339398730107,
          -0.33385367018122103,
          -0.5644287391894739,
          -0.675269678483054,
          0.22550766022045848
         ],
         "yaxis": "y"
        },
        {
         "customdata": [
          [
           14
          ],
          [
           312
          ],
          [
           309
          ],
          [
           351
          ],
          [
           303
          ],
          [
           103
          ],
          [
           49
          ],
          [
           274
          ],
          [
           275
          ],
          [
           166
          ],
          [
           59
          ],
          [
           362
          ],
          [
           227
          ],
          [
           243
          ],
          [
           240
          ],
          [
           197
          ]
         ],
         "hovertemplate": "Cluster=Cluster 26<br>PCA1=%{x}<br>PCA2=%{y}<br>Feature=%{customdata[0]}<extra></extra>",
         "legendgroup": "Cluster 26",
         "marker": {
          "color": "#FF6692",
          "opacity": 0.5,
          "symbol": "circle"
         },
         "mode": "markers",
         "name": "Cluster 26",
         "orientation": "v",
         "showlegend": true,
         "textposition": "top center",
         "type": "scatter",
         "x": [
          -0.24998592490604932,
          -1.080535367056074,
          -0.7265785371695235,
          -1.3883759002509846,
          -1.4232864484153682,
          -0.90259289321087,
          -0.13099960673963532,
          -0.3653484821874456,
          -1.3118656485276152,
          -0.47014061422607656,
          -0.07558438527216065,
          0.32158265201352215,
          -0.7613499089105331,
          -0.5832590741904328,
          -0.4020212254410147,
          -0.6398008940461855
         ],
         "xaxis": "x",
         "y": [
          -1.7690723644704507,
          -1.1306385090892412,
          -1.7044141493424356,
          -0.4535012862311819,
          -0.2271230608516241,
          -1.5082958127085544,
          -1.8632823744836355,
          -1.6453688845459442,
          -0.8963377614442765,
          -1.403635876633182,
          -2.0220122550651296,
          -2.187614897590357,
          -1.332264942326958,
          -1.2440261863981728,
          -1.360436011131752,
          -1.4092793300791138
         ],
         "yaxis": "y"
        },
        {
         "customdata": [
          [
           184
          ],
          [
           253
          ],
          [
           264
          ],
          [
           247
          ],
          [
           179
          ],
          [
           219
          ],
          [
           260
          ],
          [
           262
          ],
          [
           259
          ],
          [
           267
          ],
          [
           352
          ],
          [
           284
          ],
          [
           292
          ],
          [
           283
          ],
          [
           294
          ],
          [
           268
          ],
          [
           279
          ],
          [
           288
          ],
          [
           298
          ],
          [
           276
          ],
          [
           271
          ],
          [
           278
          ]
         ],
         "hovertemplate": "Cluster=Cluster 27<br>PCA1=%{x}<br>PCA2=%{y}<br>Feature=%{customdata[0]}<extra></extra>",
         "legendgroup": "Cluster 27",
         "marker": {
          "color": "#B6E880",
          "opacity": 0.5,
          "symbol": "circle"
         },
         "mode": "markers",
         "name": "Cluster 27",
         "orientation": "v",
         "showlegend": true,
         "textposition": "top center",
         "type": "scatter",
         "x": [
          -1.5354536251259188,
          -1.8220475509742728,
          -1.9131649000053847,
          -1.7066422942949895,
          -1.5662575954987912,
          -0.5850157261981678,
          -2.005974395738166,
          -1.6893097091188416,
          -1.250417287615156,
          -1.78565857923733,
          -0.9465645596910642,
          -1.7253112260590904,
          -1.8979168610555623,
          -1.6839151868738342,
          -1.5884206136562407,
          -1.9973579375529404,
          -1.682283479796894,
          -1.8956591876926414,
          -1.443049564179069,
          -1.284110229258509,
          -1.2935248888716733,
          -1.7587055838543946
         ],
         "xaxis": "x",
         "y": [
          0.2581324095851887,
          0.7865432821402878,
          1.0210569586397165,
          1.1096579994631657,
          0.9132410500482876,
          0.36622764670112085,
          0.9451558926652737,
          0.5976564030409642,
          0.14322963033517544,
          0.9271901927720898,
          -0.2534509796778932,
          0.5647088541502028,
          1.1899484509735971,
          0.47968666054458037,
          0.6564184529137851,
          1.0388696772209733,
          0.9974910131155832,
          0.9886888060975432,
          0.6821859542098648,
          0.5296769813483354,
          0.3022250442368425,
          1.063140769943293
         ],
         "yaxis": "y"
        },
        {
         "customdata": [
          [
           348
          ],
          [
           201
          ],
          [
           169
          ],
          [
           222
          ],
          [
           170
          ],
          [
           233
          ],
          [
           256
          ],
          [
           295
          ],
          [
           299
          ],
          [
           270
          ],
          [
           263
          ],
          [
           255
          ],
          [
           254
          ],
          [
           320
          ],
          [
           239
          ]
         ],
         "hovertemplate": "Cluster=Cluster 28<br>PCA1=%{x}<br>PCA2=%{y}<br>Feature=%{customdata[0]}<extra></extra>",
         "legendgroup": "Cluster 28",
         "marker": {
          "color": "#FF97FF",
          "opacity": 0.5,
          "symbol": "circle"
         },
         "mode": "markers",
         "name": "Cluster 28",
         "orientation": "v",
         "showlegend": true,
         "textposition": "top center",
         "type": "scatter",
         "x": [
          -0.7786210217330864,
          -0.698294092355134,
          -0.7089675795437873,
          -0.825259908078983,
          -0.7602268921434752,
          -0.32054529001569165,
          -0.747915502043695,
          -0.4155245269070591,
          -0.7702274557922717,
          -1.031959876599321,
          -1.4593140075363962,
          -0.9773362876028943,
          -0.8723616469530382,
          -1.3306070812091333,
          -0.3059855569929717
         ],
         "xaxis": "x",
         "y": [
          -1.0166128831239116,
          -0.988618430310113,
          -1.108785045999385,
          -1.1495010609764564,
          -0.9626975834758451,
          -1.083428040538388,
          -1.3122816802514214,
          -1.1286906698269643,
          -1.0426843431889288,
          -0.8043570139140548,
          -0.5297195809599416,
          -0.8364645091069918,
          -1.1273677392034374,
          -0.7767855151163126,
          -1.4781972621038673
         ],
         "yaxis": "y"
        },
        {
         "customdata": [
          [
           130
          ],
          [
           155
          ],
          [
           327
          ],
          [
           36
          ],
          [
           332
          ],
          [
           75
          ],
          [
           301
          ],
          [
           300
          ],
          [
           147
          ],
          [
           112
          ],
          [
           29
          ]
         ],
         "hovertemplate": "Cluster=Cluster 29<br>PCA1=%{x}<br>PCA2=%{y}<br>Feature=%{customdata[0]}<extra></extra>",
         "legendgroup": "Cluster 29",
         "marker": {
          "color": "#FECB52",
          "opacity": 0.5,
          "symbol": "circle"
         },
         "mode": "markers",
         "name": "Cluster 29",
         "orientation": "v",
         "showlegend": true,
         "textposition": "top center",
         "type": "scatter",
         "x": [
          2.384147352923474,
          1.8973911682174314,
          2.0497728739188465,
          2.759204033416176,
          1.4981321522102398,
          2.3683712999857973,
          3.1056852984077157,
          1.7602028315101017,
          2.516557669257349,
          2.6456681009799095,
          2.5804475366535797
         ],
         "xaxis": "x",
         "y": [
          0.42267823697198087,
          -0.9811793751715446,
          -0.17750620661688413,
          -0.7854068629902276,
          0.644561930474674,
          0.8438221549314852,
          -1.5168197876646738,
          0.2624231223076638,
          0.04045902386653138,
          -1.0047746570612863,
          -0.6025134373405988
         ],
         "yaxis": "y"
        },
        {
         "customdata": [
          [
           88
          ],
          [
           109
          ],
          [
           358
          ],
          [
           91
          ],
          [
           22
          ],
          [
           347
          ],
          [
           157
          ],
          [
           168
          ],
          [
           194
          ],
          [
           336
          ],
          [
           208
          ],
          [
           328
          ],
          [
           236
          ],
          [
           313
          ],
          [
           156
          ],
          [
           27
          ]
         ],
         "hovertemplate": "Cluster=Cluster 30<br>PCA1=%{x}<br>PCA2=%{y}<br>Feature=%{customdata[0]}<extra></extra>",
         "legendgroup": "Cluster 30",
         "marker": {
          "color": "#636efa",
          "opacity": 0.5,
          "symbol": "circle"
         },
         "mode": "markers",
         "name": "Cluster 30",
         "orientation": "v",
         "showlegend": true,
         "textposition": "top center",
         "type": "scatter",
         "x": [
          -1.7159618802097472,
          -1.3453293018938195,
          -1.865259319066225,
          -1.504634337883935,
          -1.8136764866250839,
          -1.8247627320006001,
          -1.5178300272454976,
          -1.4656470190017743,
          -1.4655278411510153,
          -1.7217247958523036,
          -1.8379248523103746,
          -2.0251399834900514,
          -1.3818812127429891,
          -1.583122418815022,
          -1.2018901061279375,
          -1.4075125370836925
         ],
         "xaxis": "x",
         "y": [
          0.4106853131551265,
          0.01375871322543785,
          0.5798542736755647,
          0.02294651642982408,
          0.5191450520770234,
          0.521693731258183,
          0.4020235985203825,
          0.36497873780311374,
          0.2088608223061927,
          0.44384683188658647,
          0.654000029291574,
          0.613616379928922,
          0.4555764858053596,
          0.2626943613398965,
          0.21211181843466712,
          0.03638724909835231
         ],
         "yaxis": "y"
        }
       ],
       "layout": {
        "height": 600,
        "legend": {
         "title": {
          "text": "Cluster"
         },
         "tracegroupgap": 0
        },
        "margin": {
         "t": 60
        },
        "plot_bgcolor": "rgb(240,240,240)",
        "template": {
         "data": {
          "bar": [
           {
            "error_x": {
             "color": "#2a3f5f"
            },
            "error_y": {
             "color": "#2a3f5f"
            },
            "marker": {
             "line": {
              "color": "#E5ECF6",
              "width": 0.5
             },
             "pattern": {
              "fillmode": "overlay",
              "size": 10,
              "solidity": 0.2
             }
            },
            "type": "bar"
           }
          ],
          "barpolar": [
           {
            "marker": {
             "line": {
              "color": "#E5ECF6",
              "width": 0.5
             },
             "pattern": {
              "fillmode": "overlay",
              "size": 10,
              "solidity": 0.2
             }
            },
            "type": "barpolar"
           }
          ],
          "carpet": [
           {
            "aaxis": {
             "endlinecolor": "#2a3f5f",
             "gridcolor": "white",
             "linecolor": "white",
             "minorgridcolor": "white",
             "startlinecolor": "#2a3f5f"
            },
            "baxis": {
             "endlinecolor": "#2a3f5f",
             "gridcolor": "white",
             "linecolor": "white",
             "minorgridcolor": "white",
             "startlinecolor": "#2a3f5f"
            },
            "type": "carpet"
           }
          ],
          "choropleth": [
           {
            "colorbar": {
             "outlinewidth": 0,
             "ticks": ""
            },
            "type": "choropleth"
           }
          ],
          "contour": [
           {
            "colorbar": {
             "outlinewidth": 0,
             "ticks": ""
            },
            "colorscale": [
             [
              0,
              "#0d0887"
             ],
             [
              0.1111111111111111,
              "#46039f"
             ],
             [
              0.2222222222222222,
              "#7201a8"
             ],
             [
              0.3333333333333333,
              "#9c179e"
             ],
             [
              0.4444444444444444,
              "#bd3786"
             ],
             [
              0.5555555555555556,
              "#d8576b"
             ],
             [
              0.6666666666666666,
              "#ed7953"
             ],
             [
              0.7777777777777778,
              "#fb9f3a"
             ],
             [
              0.8888888888888888,
              "#fdca26"
             ],
             [
              1,
              "#f0f921"
             ]
            ],
            "type": "contour"
           }
          ],
          "contourcarpet": [
           {
            "colorbar": {
             "outlinewidth": 0,
             "ticks": ""
            },
            "type": "contourcarpet"
           }
          ],
          "heatmap": [
           {
            "colorbar": {
             "outlinewidth": 0,
             "ticks": ""
            },
            "colorscale": [
             [
              0,
              "#0d0887"
             ],
             [
              0.1111111111111111,
              "#46039f"
             ],
             [
              0.2222222222222222,
              "#7201a8"
             ],
             [
              0.3333333333333333,
              "#9c179e"
             ],
             [
              0.4444444444444444,
              "#bd3786"
             ],
             [
              0.5555555555555556,
              "#d8576b"
             ],
             [
              0.6666666666666666,
              "#ed7953"
             ],
             [
              0.7777777777777778,
              "#fb9f3a"
             ],
             [
              0.8888888888888888,
              "#fdca26"
             ],
             [
              1,
              "#f0f921"
             ]
            ],
            "type": "heatmap"
           }
          ],
          "heatmapgl": [
           {
            "colorbar": {
             "outlinewidth": 0,
             "ticks": ""
            },
            "colorscale": [
             [
              0,
              "#0d0887"
             ],
             [
              0.1111111111111111,
              "#46039f"
             ],
             [
              0.2222222222222222,
              "#7201a8"
             ],
             [
              0.3333333333333333,
              "#9c179e"
             ],
             [
              0.4444444444444444,
              "#bd3786"
             ],
             [
              0.5555555555555556,
              "#d8576b"
             ],
             [
              0.6666666666666666,
              "#ed7953"
             ],
             [
              0.7777777777777778,
              "#fb9f3a"
             ],
             [
              0.8888888888888888,
              "#fdca26"
             ],
             [
              1,
              "#f0f921"
             ]
            ],
            "type": "heatmapgl"
           }
          ],
          "histogram": [
           {
            "marker": {
             "pattern": {
              "fillmode": "overlay",
              "size": 10,
              "solidity": 0.2
             }
            },
            "type": "histogram"
           }
          ],
          "histogram2d": [
           {
            "colorbar": {
             "outlinewidth": 0,
             "ticks": ""
            },
            "colorscale": [
             [
              0,
              "#0d0887"
             ],
             [
              0.1111111111111111,
              "#46039f"
             ],
             [
              0.2222222222222222,
              "#7201a8"
             ],
             [
              0.3333333333333333,
              "#9c179e"
             ],
             [
              0.4444444444444444,
              "#bd3786"
             ],
             [
              0.5555555555555556,
              "#d8576b"
             ],
             [
              0.6666666666666666,
              "#ed7953"
             ],
             [
              0.7777777777777778,
              "#fb9f3a"
             ],
             [
              0.8888888888888888,
              "#fdca26"
             ],
             [
              1,
              "#f0f921"
             ]
            ],
            "type": "histogram2d"
           }
          ],
          "histogram2dcontour": [
           {
            "colorbar": {
             "outlinewidth": 0,
             "ticks": ""
            },
            "colorscale": [
             [
              0,
              "#0d0887"
             ],
             [
              0.1111111111111111,
              "#46039f"
             ],
             [
              0.2222222222222222,
              "#7201a8"
             ],
             [
              0.3333333333333333,
              "#9c179e"
             ],
             [
              0.4444444444444444,
              "#bd3786"
             ],
             [
              0.5555555555555556,
              "#d8576b"
             ],
             [
              0.6666666666666666,
              "#ed7953"
             ],
             [
              0.7777777777777778,
              "#fb9f3a"
             ],
             [
              0.8888888888888888,
              "#fdca26"
             ],
             [
              1,
              "#f0f921"
             ]
            ],
            "type": "histogram2dcontour"
           }
          ],
          "mesh3d": [
           {
            "colorbar": {
             "outlinewidth": 0,
             "ticks": ""
            },
            "type": "mesh3d"
           }
          ],
          "parcoords": [
           {
            "line": {
             "colorbar": {
              "outlinewidth": 0,
              "ticks": ""
             }
            },
            "type": "parcoords"
           }
          ],
          "pie": [
           {
            "automargin": true,
            "type": "pie"
           }
          ],
          "scatter": [
           {
            "fillpattern": {
             "fillmode": "overlay",
             "size": 10,
             "solidity": 0.2
            },
            "type": "scatter"
           }
          ],
          "scatter3d": [
           {
            "line": {
             "colorbar": {
              "outlinewidth": 0,
              "ticks": ""
             }
            },
            "marker": {
             "colorbar": {
              "outlinewidth": 0,
              "ticks": ""
             }
            },
            "type": "scatter3d"
           }
          ],
          "scattercarpet": [
           {
            "marker": {
             "colorbar": {
              "outlinewidth": 0,
              "ticks": ""
             }
            },
            "type": "scattercarpet"
           }
          ],
          "scattergeo": [
           {
            "marker": {
             "colorbar": {
              "outlinewidth": 0,
              "ticks": ""
             }
            },
            "type": "scattergeo"
           }
          ],
          "scattergl": [
           {
            "marker": {
             "colorbar": {
              "outlinewidth": 0,
              "ticks": ""
             }
            },
            "type": "scattergl"
           }
          ],
          "scattermapbox": [
           {
            "marker": {
             "colorbar": {
              "outlinewidth": 0,
              "ticks": ""
             }
            },
            "type": "scattermapbox"
           }
          ],
          "scatterpolar": [
           {
            "marker": {
             "colorbar": {
              "outlinewidth": 0,
              "ticks": ""
             }
            },
            "type": "scatterpolar"
           }
          ],
          "scatterpolargl": [
           {
            "marker": {
             "colorbar": {
              "outlinewidth": 0,
              "ticks": ""
             }
            },
            "type": "scatterpolargl"
           }
          ],
          "scatterternary": [
           {
            "marker": {
             "colorbar": {
              "outlinewidth": 0,
              "ticks": ""
             }
            },
            "type": "scatterternary"
           }
          ],
          "surface": [
           {
            "colorbar": {
             "outlinewidth": 0,
             "ticks": ""
            },
            "colorscale": [
             [
              0,
              "#0d0887"
             ],
             [
              0.1111111111111111,
              "#46039f"
             ],
             [
              0.2222222222222222,
              "#7201a8"
             ],
             [
              0.3333333333333333,
              "#9c179e"
             ],
             [
              0.4444444444444444,
              "#bd3786"
             ],
             [
              0.5555555555555556,
              "#d8576b"
             ],
             [
              0.6666666666666666,
              "#ed7953"
             ],
             [
              0.7777777777777778,
              "#fb9f3a"
             ],
             [
              0.8888888888888888,
              "#fdca26"
             ],
             [
              1,
              "#f0f921"
             ]
            ],
            "type": "surface"
           }
          ],
          "table": [
           {
            "cells": {
             "fill": {
              "color": "#EBF0F8"
             },
             "line": {
              "color": "white"
             }
            },
            "header": {
             "fill": {
              "color": "#C8D4E3"
             },
             "line": {
              "color": "white"
             }
            },
            "type": "table"
           }
          ]
         },
         "layout": {
          "annotationdefaults": {
           "arrowcolor": "#2a3f5f",
           "arrowhead": 0,
           "arrowwidth": 1
          },
          "autotypenumbers": "strict",
          "coloraxis": {
           "colorbar": {
            "outlinewidth": 0,
            "ticks": ""
           }
          },
          "colorscale": {
           "diverging": [
            [
             0,
             "#8e0152"
            ],
            [
             0.1,
             "#c51b7d"
            ],
            [
             0.2,
             "#de77ae"
            ],
            [
             0.3,
             "#f1b6da"
            ],
            [
             0.4,
             "#fde0ef"
            ],
            [
             0.5,
             "#f7f7f7"
            ],
            [
             0.6,
             "#e6f5d0"
            ],
            [
             0.7,
             "#b8e186"
            ],
            [
             0.8,
             "#7fbc41"
            ],
            [
             0.9,
             "#4d9221"
            ],
            [
             1,
             "#276419"
            ]
           ],
           "sequential": [
            [
             0,
             "#0d0887"
            ],
            [
             0.1111111111111111,
             "#46039f"
            ],
            [
             0.2222222222222222,
             "#7201a8"
            ],
            [
             0.3333333333333333,
             "#9c179e"
            ],
            [
             0.4444444444444444,
             "#bd3786"
            ],
            [
             0.5555555555555556,
             "#d8576b"
            ],
            [
             0.6666666666666666,
             "#ed7953"
            ],
            [
             0.7777777777777778,
             "#fb9f3a"
            ],
            [
             0.8888888888888888,
             "#fdca26"
            ],
            [
             1,
             "#f0f921"
            ]
           ],
           "sequentialminus": [
            [
             0,
             "#0d0887"
            ],
            [
             0.1111111111111111,
             "#46039f"
            ],
            [
             0.2222222222222222,
             "#7201a8"
            ],
            [
             0.3333333333333333,
             "#9c179e"
            ],
            [
             0.4444444444444444,
             "#bd3786"
            ],
            [
             0.5555555555555556,
             "#d8576b"
            ],
            [
             0.6666666666666666,
             "#ed7953"
            ],
            [
             0.7777777777777778,
             "#fb9f3a"
            ],
            [
             0.8888888888888888,
             "#fdca26"
            ],
            [
             1,
             "#f0f921"
            ]
           ]
          },
          "colorway": [
           "#636efa",
           "#EF553B",
           "#00cc96",
           "#ab63fa",
           "#FFA15A",
           "#19d3f3",
           "#FF6692",
           "#B6E880",
           "#FF97FF",
           "#FECB52"
          ],
          "font": {
           "color": "#2a3f5f"
          },
          "geo": {
           "bgcolor": "white",
           "lakecolor": "white",
           "landcolor": "#E5ECF6",
           "showlakes": true,
           "showland": true,
           "subunitcolor": "white"
          },
          "hoverlabel": {
           "align": "left"
          },
          "hovermode": "closest",
          "mapbox": {
           "style": "light"
          },
          "paper_bgcolor": "white",
          "plot_bgcolor": "#E5ECF6",
          "polar": {
           "angularaxis": {
            "gridcolor": "white",
            "linecolor": "white",
            "ticks": ""
           },
           "bgcolor": "#E5ECF6",
           "radialaxis": {
            "gridcolor": "white",
            "linecolor": "white",
            "ticks": ""
           }
          },
          "scene": {
           "xaxis": {
            "backgroundcolor": "#E5ECF6",
            "gridcolor": "white",
            "gridwidth": 2,
            "linecolor": "white",
            "showbackground": true,
            "ticks": "",
            "zerolinecolor": "white"
           },
           "yaxis": {
            "backgroundcolor": "#E5ECF6",
            "gridcolor": "white",
            "gridwidth": 2,
            "linecolor": "white",
            "showbackground": true,
            "ticks": "",
            "zerolinecolor": "white"
           },
           "zaxis": {
            "backgroundcolor": "#E5ECF6",
            "gridcolor": "white",
            "gridwidth": 2,
            "linecolor": "white",
            "showbackground": true,
            "ticks": "",
            "zerolinecolor": "white"
           }
          },
          "shapedefaults": {
           "line": {
            "color": "#2a3f5f"
           }
          },
          "ternary": {
           "aaxis": {
            "gridcolor": "white",
            "linecolor": "white",
            "ticks": ""
           },
           "baxis": {
            "gridcolor": "white",
            "linecolor": "white",
            "ticks": ""
           },
           "bgcolor": "#E5ECF6",
           "caxis": {
            "gridcolor": "white",
            "linecolor": "white",
            "ticks": ""
           }
          },
          "title": {
           "x": 0.05
          },
          "xaxis": {
           "automargin": true,
           "gridcolor": "white",
           "linecolor": "white",
           "ticks": "",
           "title": {
            "standoff": 15
           },
           "zerolinecolor": "white",
           "zerolinewidth": 2
          },
          "yaxis": {
           "automargin": true,
           "gridcolor": "white",
           "linecolor": "white",
           "ticks": "",
           "title": {
            "standoff": 15
           },
           "zerolinecolor": "white",
           "zerolinewidth": 2
          }
         }
        },
        "title": {
         "text": "2D Cluster PCA Plot"
        },
        "xaxis": {
         "anchor": "y",
         "domain": [
          0,
          1
         ],
         "title": {
          "text": "PCA1"
         }
        },
        "yaxis": {
         "anchor": "x",
         "domain": [
          0,
          1
         ],
         "title": {
          "text": "PCA2"
         }
        }
       }
      }
     },
     "metadata": {},
     "output_type": "display_data"
    }
   ],
   "source": [
    "plot_model(ap) "
   ]
  },
  {
   "cell_type": "code",
   "execution_count": null,
   "metadata": {},
   "outputs": [
    {
     "data": {
      "text/html": [],
      "text/plain": [
       "<IPython.core.display.HTML object>"
      ]
     },
     "metadata": {},
     "output_type": "display_data"
    },
    {
     "data": {
      "application/vnd.plotly.v1+json": {
       "config": {
        "plotlyServerURL": "https://plot.ly"
       },
       "data": [
        {
         "alignmentgroup": "True",
         "bingroup": "x",
         "hovertemplate": "Cluster=%{x}<br>count=%{y}<extra></extra>",
         "legendgroup": "Cluster 0",
         "marker": {
          "color": "#636efa",
          "opacity": 0.7,
          "pattern": {
           "shape": ""
          }
         },
         "name": "Cluster 0",
         "offsetgroup": "Cluster 0",
         "orientation": "v",
         "showlegend": true,
         "type": "histogram",
         "x": [
          "Cluster 0",
          "Cluster 0",
          "Cluster 0"
         ],
         "xaxis": "x",
         "yaxis": "y"
        },
        {
         "alignmentgroup": "True",
         "customdata": [
          [
           "c",
           0.005429938435554504,
           0.035444099456071854,
           0.03585733100771904,
           -0.24231363832950592,
           4845.0078125,
           0.3436638414859772,
           0.025069328024983406,
           5.158851623535156,
           6.331270694732666,
           7.378843307495117,
           0.18498265743255615,
           -845.3566284179688,
           -783.31689453125,
           5.176962375640869
          ],
          [
           "c",
           0.005457265302538872,
           0.0406428761780262,
           0.04100726544857025,
           2.189605236053467,
           3806.807861328125,
           0.46964573860168457,
           0.024462712928652763,
           6.228082656860352,
           8.479188919067383,
           10.440241813659668,
           0.25539663434028625,
           945.8624877929688,
           845.8629150390625,
           6.050340175628662
          ],
          [
           "c",
           0.005413639824837446,
           0.04063750430941582,
           0.04099615663290024,
           0.8986664414405823,
           4733.24853515625,
           0.416909396648407,
           0.026842083781957626,
           5.159851551055908,
           6.625808238983154,
           7.880688190460205,
           0.2053752988576889,
           -945.8624877929688,
           -845.8629150390625,
           6.028744220733643
          ]
         ],
         "hovertemplate": "Cluster=%{x}<br>chatter_presence=%{customdata[0]}<br>med=%{customdata[1]}<br>std=%{customdata[2]}<br>rms=%{customdata[3]}<br>curtose=%{customdata[4]}<br>distortion=%{customdata[5]}<br>amplitude=%{customdata[6]}<br>sra=%{customdata[7]}<br>crest=%{customdata[8]}<br>impulse=%{customdata[9]}<br>margin=%{customdata[10]}<br>max=%{customdata[11]}<br>freq_max=%{customdata[12]}<br>freq_sec_highest=%{customdata[13]}<br>fft_mean=%{customdata[14]}<extra></extra>",
         "legendgroup": "Cluster 0",
         "marker": {
          "color": "#636efa"
         },
         "name": "Cluster 0",
         "notched": true,
         "offsetgroup": "Cluster 0",
         "showlegend": false,
         "type": "box",
         "x": [
          "Cluster 0",
          "Cluster 0",
          "Cluster 0"
         ],
         "xaxis": "x2",
         "yaxis": "y2"
        },
        {
         "alignmentgroup": "True",
         "bingroup": "x",
         "hovertemplate": "Cluster=%{x}<br>count=%{y}<extra></extra>",
         "legendgroup": "Cluster 1",
         "marker": {
          "color": "#EF553B",
          "opacity": 0.7,
          "pattern": {
           "shape": ""
          }
         },
         "name": "Cluster 1",
         "offsetgroup": "Cluster 1",
         "orientation": "v",
         "showlegend": true,
         "type": "histogram",
         "x": [
          "Cluster 1",
          "Cluster 1",
          "Cluster 1",
          "Cluster 1"
         ],
         "xaxis": "x",
         "yaxis": "y"
        },
        {
         "alignmentgroup": "True",
         "customdata": [
          [
           "c",
           0.005484603811055422,
           0.005445972550660372,
           0.0077289496548473835,
           7.285404682159424,
           1938.9793701171875,
           0.07580456882715225,
           0.005711432546377182,
           5.26990270614624,
           6.395200252532959,
           7.131453037261963,
           0.04073081165552139,
           999.1403198242188,
           1018.2443237304688,
           0.8259340524673462
          ],
          [
           "c",
           0.005486064590513706,
           0.005674524698406458,
           0.007892690598964691,
           5.062982082366943,
           2066.730712890625,
           0.08397745341062546,
           0.0058586616069078445,
           5.403353214263916,
           6.470215320587158,
           7.279306411743164,
           0.042646992951631546,
           -715.1856689453125,
           -905.3818969726562,
           0.625824511051178
          ],
          [
           "c",
           0.005483257118612528,
           0.0043164766393601894,
           0.006978293880820274,
           3.8990700244903564,
           1787.420166015625,
           0.0691971480846405,
           0.005265265237540007,
           6.2454986572265625,
           7.374850749969482,
           8.277441024780273,
           0.04358292371034622,
           715.1856689453125,
           905.3818969726562,
           0.6477260589599609
          ],
          [
           "c",
           0.005497246980667114,
           0.008553114719688892,
           0.010166327469050884,
           3.7052855491638184,
           1092.4208984375,
           0.10341932624578476,
           0.006730614695698023,
           5.34426212310791,
           6.890815258026123,
           8.072297096252441,
           0.054331518709659576,
           -962.11181640625,
           -925.0236206054688,
           0.5397824048995972
          ]
         ],
         "hovertemplate": "Cluster=%{x}<br>chatter_presence=%{customdata[0]}<br>med=%{customdata[1]}<br>std=%{customdata[2]}<br>rms=%{customdata[3]}<br>curtose=%{customdata[4]}<br>distortion=%{customdata[5]}<br>amplitude=%{customdata[6]}<br>sra=%{customdata[7]}<br>crest=%{customdata[8]}<br>impulse=%{customdata[9]}<br>margin=%{customdata[10]}<br>max=%{customdata[11]}<br>freq_max=%{customdata[12]}<br>freq_sec_highest=%{customdata[13]}<br>fft_mean=%{customdata[14]}<extra></extra>",
         "legendgroup": "Cluster 1",
         "marker": {
          "color": "#EF553B"
         },
         "name": "Cluster 1",
         "notched": true,
         "offsetgroup": "Cluster 1",
         "showlegend": false,
         "type": "box",
         "x": [
          "Cluster 1",
          "Cluster 1",
          "Cluster 1",
          "Cluster 1"
         ],
         "xaxis": "x2",
         "yaxis": "y2"
        },
        {
         "alignmentgroup": "True",
         "bingroup": "x",
         "hovertemplate": "Cluster=%{x}<br>count=%{y}<extra></extra>",
         "legendgroup": "Cluster 2",
         "marker": {
          "color": "#00cc96",
          "opacity": 0.7,
          "pattern": {
           "shape": ""
          }
         },
         "name": "Cluster 2",
         "offsetgroup": "Cluster 2",
         "orientation": "v",
         "showlegend": true,
         "type": "histogram",
         "x": [
          "Cluster 2",
          "Cluster 2",
          "Cluster 2"
         ],
         "xaxis": "x",
         "yaxis": "y"
        },
        {
         "alignmentgroup": "True",
         "customdata": [
          [
           "c",
           0.00547885661944747,
           0.008628536947071552,
           0.010220741853117943,
           8.492365837097168,
           1795.9913330078125,
           0.12595319747924805,
           0.0064577218145132065,
           6.215785026550293,
           8.296980857849121,
           9.837824821472168,
           0.06352993845939636,
           1071.778564453125,
           1259.5748291015625,
           1.2854816913604736
          ],
          [
           "c",
           0.005445319227874279,
           0.007912046276032925,
           0.009604714810848236,
           6.494952201843262,
           3234.424560546875,
           0.1163485050201416,
           0.006289955228567123,
           6.463749885559082,
           8.482305526733398,
           9.870098114013672,
           0.06208247318863869,
           -4660.25927734375,
           -3925.006103515625,
           1.655203938484192
          ],
          [
           "c",
           0.005450661294162273,
           0.0051619005389511585,
           0.0075069512240588665,
           9.13510513305664,
           2625.689208984375,
           0.10892722755670547,
           0.005550121422857046,
           7.960328102111816,
           9.66424560546875,
           10.766935348510742,
           0.05975779518485069,
           -1038.50830078125,
           -965.8230590820312,
           1.3879340887069702
          ]
         ],
         "hovertemplate": "Cluster=%{x}<br>chatter_presence=%{customdata[0]}<br>med=%{customdata[1]}<br>std=%{customdata[2]}<br>rms=%{customdata[3]}<br>curtose=%{customdata[4]}<br>distortion=%{customdata[5]}<br>amplitude=%{customdata[6]}<br>sra=%{customdata[7]}<br>crest=%{customdata[8]}<br>impulse=%{customdata[9]}<br>margin=%{customdata[10]}<br>max=%{customdata[11]}<br>freq_max=%{customdata[12]}<br>freq_sec_highest=%{customdata[13]}<br>fft_mean=%{customdata[14]}<extra></extra>",
         "legendgroup": "Cluster 2",
         "marker": {
          "color": "#00cc96"
         },
         "name": "Cluster 2",
         "notched": true,
         "offsetgroup": "Cluster 2",
         "showlegend": false,
         "type": "box",
         "x": [
          "Cluster 2",
          "Cluster 2",
          "Cluster 2"
         ],
         "xaxis": "x2",
         "yaxis": "y2"
        },
        {
         "alignmentgroup": "True",
         "bingroup": "x",
         "hovertemplate": "Cluster=%{x}<br>count=%{y}<extra></extra>",
         "legendgroup": "Cluster 3",
         "marker": {
          "color": "#ab63fa",
          "opacity": 0.7,
          "pattern": {
           "shape": ""
          }
         },
         "name": "Cluster 3",
         "offsetgroup": "Cluster 3",
         "orientation": "v",
         "showlegend": true,
         "type": "histogram",
         "x": [
          "Cluster 3",
          "Cluster 3"
         ],
         "xaxis": "x",
         "yaxis": "y"
        },
        {
         "alignmentgroup": "True",
         "customdata": [
          [
           "c",
           0.005423230119049549,
           0.04302934929728508,
           0.04336938261985779,
           0.5506352782249451,
           5043.29541015625,
           0.4329476058483124,
           0.028126107528805733,
           5.281022071838379,
           6.79782247543335,
           8.143135070800781,
           0.2039129137992859,
           3859.227294921875,
           3810.338623046875,
           12.481369018554688
          ],
          [
           "c",
           0.005409283097833395,
           0.04081236571073532,
           0.04116892069578171,
           0.7546960711479187,
           4934.4853515625,
           0.3957327902317047,
           0.02704869955778122,
           4.807009220123291,
           6.157003402709961,
           7.316409587860107,
           0.19783343374729156,
           -3859.227294921875,
           -3810.338623046875,
           12.481369018554688
          ]
         ],
         "hovertemplate": "Cluster=%{x}<br>chatter_presence=%{customdata[0]}<br>med=%{customdata[1]}<br>std=%{customdata[2]}<br>rms=%{customdata[3]}<br>curtose=%{customdata[4]}<br>distortion=%{customdata[5]}<br>amplitude=%{customdata[6]}<br>sra=%{customdata[7]}<br>crest=%{customdata[8]}<br>impulse=%{customdata[9]}<br>margin=%{customdata[10]}<br>max=%{customdata[11]}<br>freq_max=%{customdata[12]}<br>freq_sec_highest=%{customdata[13]}<br>fft_mean=%{customdata[14]}<extra></extra>",
         "legendgroup": "Cluster 3",
         "marker": {
          "color": "#ab63fa"
         },
         "name": "Cluster 3",
         "notched": true,
         "offsetgroup": "Cluster 3",
         "showlegend": false,
         "type": "box",
         "x": [
          "Cluster 3",
          "Cluster 3"
         ],
         "xaxis": "x2",
         "yaxis": "y2"
        },
        {
         "alignmentgroup": "True",
         "bingroup": "x",
         "hovertemplate": "Cluster=%{x}<br>count=%{y}<extra></extra>",
         "legendgroup": "Cluster 4",
         "marker": {
          "color": "#FFA15A",
          "opacity": 0.7,
          "pattern": {
           "shape": ""
          }
         },
         "name": "Cluster 4",
         "offsetgroup": "Cluster 4",
         "orientation": "v",
         "showlegend": true,
         "type": "histogram",
         "x": [
          "Cluster 4",
          "Cluster 4",
          "Cluster 4",
          "Cluster 4",
          "Cluster 4",
          "Cluster 4",
          "Cluster 4",
          "Cluster 4",
          "Cluster 4",
          "Cluster 4",
          "Cluster 4",
          "Cluster 4",
          "Cluster 4"
         ],
         "xaxis": "x",
         "yaxis": "y"
        },
        {
         "alignmentgroup": "True",
         "customdata": [
          [
           "i",
           0.005483757238835096,
           0.0033246399834752083,
           0.006412741262465715,
           0.5449644327163696,
           2934.125,
           0.028113767504692078,
           0.005203561391681433,
           2.856332302093506,
           3.2247745990753174,
           3.520073890686035,
           0.01831691898405552,
           698.9973754882812,
           119.46241760253906,
           0.25372806191444397
          ],
          [
           "i",
           0.005512704607099295,
           0.0022627110593020916,
           0.005958938971161842,
           -0.4013592600822449,
           3478.401611328125,
           0.015441087074577808,
           0.00525650242343545,
           2.2718565464019775,
           2.45255184173584,
           2.575448989868164,
           0.013537853956222534,
           2905.48388671875,
           3864.245361328125,
           0.1589452177286148
          ],
          [
           "i",
           0.005494420416653156,
           0.0021383713465183973,
           0.005895839538425207,
           -0.8282530307769775,
           4661.34375,
           0.016399014741182327,
           0.0052694655023515224,
           2.398066997528076,
           2.572455883026123,
           2.683121919631958,
           0.014138618484139442,
           1928.5614013671875,
           1780.3643798828125,
           0.16846588253974915
          ],
          [
           "i",
           0.00550064304843545,
           0.0023814612068235874,
           0.005993994884192944,
           -0.26669296622276306,
           3983.587158203125,
           0.019709551706910133,
           0.005220898427069187,
           2.8057172298431396,
           3.0517845153808594,
           3.2211802005767822,
           0.016817454248666763,
           3661.52685546875,
           4636.30712890625,
           0.3918890655040741
          ],
          [
           "i",
           0.005506737623363733,
           0.0023950173053890467,
           0.006004897877573967,
           1.1596001386642456,
           2265.677490234375,
           0.02345363423228264,
           0.005292072892189026,
           2.756138324737549,
           2.9792611598968506,
           3.1273810863494873,
           0.016550328582525253,
           3556.25244140625,
           2893.2548828125,
           0.11091628670692444
          ],
          [
           "i",
           0.005468809045851231,
           0.002254361053928733,
           0.005915098823606968,
           -0.49093756079673767,
           2709.645263671875,
           0.014015275053679943,
           0.00520364148542285,
           2.0619897842407227,
           2.2274718284606934,
           2.3439111709594727,
           0.012196873314678669,
           980.7215576171875,
           887.1290283203125,
           0.21821556985378265
          ],
          [
           "i",
           0.005507952533662319,
           0.002292066114023328,
           0.005965805146843195,
           -0.11577727645635605,
           5356.62158203125,
           0.018866315484046936,
           0.005243516527116299,
           2.555842161178589,
           2.763221502304077,
           2.9079065322875977,
           0.015247655101120472,
           3011.159912109375,
           2569.565673828125,
           0.2055261731147766
          ],
          [
           "i",
           0.005484459456056356,
           0.00204283045604825,
           0.005852540489286184,
           -0.20191814005374908,
           5912.4716796875,
           0.015696432441473007,
           0.005269622430205345,
           2.315631628036499,
           2.469710111618042,
           2.5717835426330566,
           0.013552327640354633,
           -229.1969451904297,
           -11.999839782714844,
           0.31337907910346985
          ],
          [
           "i",
           0.005518823862075806,
           0.0021619792096316814,
           0.005927125923335552,
           -0.467586487531662,
           3303.09521484375,
           0.015535361133515835,
           0.005279533099383116,
           2.3925154209136963,
           2.5684897899627686,
           2.685983657836914,
           0.014180739410221577,
           612.37548828125,
           1349.14599609375,
           0.18338996171951294
          ],
          [
           "i",
           0.0055066002532839775,
           0.002176335547119379,
           0.005920968949794769,
           -0.3413277566432953,
           2827.549560546875,
           0.015721797943115234,
           0.005264969542622566,
           2.2092254161834717,
           2.3732104301452637,
           2.4844882488250732,
           0.01308075524866581,
           119.6723403930664,
           1834.12255859375,
           0.18000932037830353
          ],
          [
           "i",
           0.005497792735695839,
           0.002587518421933055,
           0.0060762339271605015,
           0.14443577826023102,
           5345.23583984375,
           0.021649722009897232,
           0.005186430644243956,
           2.561352491378784,
           2.8129518032073975,
           3.0007877349853516,
           0.015563377179205418,
           229.1969451904297,
           1578.37890625,
           0.3353048264980316
          ],
          [
           "i",
           0.005490831099450588,
           0.0022291054483503103,
           0.005925978999584913,
           -0.3073980212211609,
           3483.1767578125,
           0.015198440290987492,
           0.005240109283477068,
           2.1222646236419678,
           2.2865869998931885,
           2.4000444412231445,
           0.012576496228575706,
           905.55859375,
           256.4454345703125,
           0.2740625739097595
          ],
          [
           "i",
           0.005510888062417507,
           0.0019984261598438025,
           0.005862028803676367,
           -0.4488261938095093,
           5911.046875,
           0.015606221742928028,
           0.005306348670274019,
           2.316251277923584,
           2.4630961418151855,
           2.5588088035583496,
           0.013577932491898537,
           884.9215087890625,
           891.9880981445312,
           0.34698179364204407
          ]
         ],
         "hovertemplate": "Cluster=%{x}<br>chatter_presence=%{customdata[0]}<br>med=%{customdata[1]}<br>std=%{customdata[2]}<br>rms=%{customdata[3]}<br>curtose=%{customdata[4]}<br>distortion=%{customdata[5]}<br>amplitude=%{customdata[6]}<br>sra=%{customdata[7]}<br>crest=%{customdata[8]}<br>impulse=%{customdata[9]}<br>margin=%{customdata[10]}<br>max=%{customdata[11]}<br>freq_max=%{customdata[12]}<br>freq_sec_highest=%{customdata[13]}<br>fft_mean=%{customdata[14]}<extra></extra>",
         "legendgroup": "Cluster 4",
         "marker": {
          "color": "#FFA15A"
         },
         "name": "Cluster 4",
         "notched": true,
         "offsetgroup": "Cluster 4",
         "showlegend": false,
         "type": "box",
         "x": [
          "Cluster 4",
          "Cluster 4",
          "Cluster 4",
          "Cluster 4",
          "Cluster 4",
          "Cluster 4",
          "Cluster 4",
          "Cluster 4",
          "Cluster 4",
          "Cluster 4",
          "Cluster 4",
          "Cluster 4",
          "Cluster 4"
         ],
         "xaxis": "x2",
         "yaxis": "y2"
        },
        {
         "alignmentgroup": "True",
         "bingroup": "x",
         "hovertemplate": "Cluster=%{x}<br>count=%{y}<extra></extra>",
         "legendgroup": "Cluster 5",
         "marker": {
          "color": "#19d3f3",
          "opacity": 0.7,
          "pattern": {
           "shape": ""
          }
         },
         "name": "Cluster 5",
         "offsetgroup": "Cluster 5",
         "orientation": "v",
         "showlegend": true,
         "type": "histogram",
         "x": [
          "Cluster 5",
          "Cluster 5",
          "Cluster 5",
          "Cluster 5",
          "Cluster 5",
          "Cluster 5",
          "Cluster 5",
          "Cluster 5",
          "Cluster 5",
          "Cluster 5",
          "Cluster 5",
          "Cluster 5",
          "Cluster 5",
          "Cluster 5",
          "Cluster 5",
          "Cluster 5",
          "Cluster 5",
          "Cluster 5",
          "Cluster 5",
          "Cluster 5",
          "Cluster 5",
          "Cluster 5",
          "Cluster 5",
          "Cluster 5",
          "Cluster 5",
          "Cluster 5",
          "Cluster 5",
          "Cluster 5"
         ],
         "xaxis": "x",
         "yaxis": "y"
        },
        {
         "alignmentgroup": "True",
         "customdata": [
          [
           "s",
           0.005488167516887188,
           0.0019214892527088523,
           0.005814804695546627,
           -1.1712613105773926,
           8749.94921875,
           0.009224371053278446,
           0.005309587810188532,
           1.8069082498550415,
           1.9144494533538818,
           1.9788389205932617,
           0.010506819002330303,
           -4628.853515625,
           -4721.15283203125,
           0.12864702939987183
          ],
          [
           "s",
           0.005484563298523426,
           0.002251328667625785,
           0.0059286486357450485,
           -0.2724702060222626,
           10819.37890625,
           0.02584945410490036,
           0.005250535439699888,
           3.267639398574829,
           3.5243122577667236,
           3.689659595489502,
           0.019372686743736267,
           -4465.35107421875,
           -4862.43017578125,
           0.46593037247657776
          ],
          [
           "s",
           0.005480404477566481,
           0.0019797233399003744,
           0.0058270045556128025,
           -1.0042070150375366,
           7536.390625,
           0.013784964568912983,
           0.005289877764880657,
           2.09782075881958,
           2.23026442527771,
           2.310830593109131,
           0.01222401112318039,
           -2895.171142578125,
           -2945.970458984375,
           0.15961261093616486
          ],
          [
           "s",
           0.005482643377035856,
           0.0021912117954343557,
           0.005904289428144693,
           -0.8297412991523743,
           7941.0810546875,
           0.014353088103234768,
           0.005236955359578133,
           2.2259271144866943,
           2.396693229675293,
           2.5095722675323486,
           0.013142517767846584,
           -1818.7054443359375,
           -2235.822021484375,
           0.29612669348716736
          ],
          [
           "s",
           0.005479190964251757,
           0.0029198070988059044,
           0.006208579987287521,
           -0.14770497381687164,
           5759.337890625,
           0.026170514523983,
           0.005116747226566076,
           2.744934558868408,
           3.069300651550293,
           3.330660104751587,
           0.017042145133018494,
           -3302.56689453125,
           -2890.77099609375,
           0.39637187123298645
          ],
          [
           "s",
           0.005487916991114616,
           0.002557457657530904,
           0.006054566241800785,
           -0.2774963974952698,
           10544.60546875,
           0.02561820112168789,
           0.005167786031961441,
           3.35278058052063,
           3.689457893371582,
           3.928110122680664,
           0.020299632102251053,
           -3542.79296875,
           -3033.7939453125,
           0.6192664504051208
          ],
          [
           "s",
           0.0054674306884408,
           0.0022539382334798574,
           0.005913786590099335,
           -0.4413377344608307,
           6797.16650390625,
           0.019956322386860847,
           0.005213762633502483,
           2.600459575653076,
           2.808143138885498,
           2.9496095180511475,
           0.015378563664853573,
           -4312.28564453125,
           -3752.77001953125,
           0.3687346279621124
          ],
          [
           "s",
           0.005481068044900894,
           0.002263784408569336,
           0.005930156446993351,
           -0.9727421998977661,
           11706.6982421875,
           0.015942847356200218,
           0.005219887476414442,
           2.3392698764801025,
           2.5304081439971924,
           2.65757417678833,
           0.01387223694473505,
           -4501.78515625,
           -4168.0859375,
           0.4233745038509369
          ],
          [
           "s",
           0.005494412500411272,
           0.0021567100193351507,
           0.005902526434510946,
           -0.579346776008606,
           7686.341796875,
           0.01659085601568222,
           0.005258318968117237,
           2.2996861934661865,
           2.4688799381256104,
           2.581425428390503,
           0.013573958538472652,
           -4146.52685546875,
           -4689.16259765625,
           0.3471258282661438
          ],
          [
           "s",
           0.005433965474367142,
           0.002566664246842265,
           0.006009605713188648,
           -0.1389492005109787,
           5430.35595703125,
           0.01885700412094593,
           0.005117798689752817,
           2.4138524532318115,
           2.651944398880005,
           2.8344810009002686,
           0.014506302773952484,
           -2958.64794921875,
           -2900.321533203125,
           0.4784005880355835
          ],
          [
           "s",
           0.005487867631018162,
           0.0025792026426643133,
           0.006063707638531923,
           -0.4134203791618347,
           5536.1875,
           0.018324851989746094,
           0.005156848579645157,
           2.2575032711029053,
           2.4824037551879883,
           2.6544971466064453,
           0.01368884090334177,
           -4457.20849609375,
           -3445.384765625,
           0.3394978642463684
          ],
          [
           "s",
           0.00546683045104146,
           0.0022438596934080124,
           0.00590940099209547,
           0.142729252576828,
           6963.0380859375,
           0.022398056462407112,
           0.005222404841333628,
           2.8943638801574707,
           3.1186959743499756,
           3.275111198425293,
           0.017103957012295723,
           -3553.947265625,
           -3472.655517578125,
           0.38830146193504333
          ],
          [
           "s",
           0.0054772403091192245,
           0.002165315207093954,
           0.005889708176255226,
           -0.4587060511112213,
           8145.61376953125,
           0.020212987437844276,
           0.005246315151453018,
           2.7449121475219727,
           2.9480667114257812,
           3.081540107727051,
           0.01616673171520233,
           -3268.68359375,
           -2926.88525390625,
           0.4186154305934906
          ],
          [
           "s",
           0.0054727960377931595,
           0.002576141618192196,
           0.0060487971641123295,
           -0.2451043725013733,
           8579.5498046875,
           0.033023957163095474,
           0.005143946502357721,
           4.016268730163574,
           4.423494338989258,
           4.72275447845459,
           0.024293597787618637,
           -3125.76171875,
           -3923.907470703125,
           0.747319221496582
          ],
          [
           "s",
           0.005502341315150261,
           0.00234948075376451,
           0.005982946138828993,
           -0.544347882270813,
           6751.1064453125,
           0.017650488764047623,
           0.005224679596722126,
           2.618197441101074,
           2.8455567359924316,
           2.998180866241455,
           0.015664534643292427,
           -4615.48291015625,
           -2931.256591796875,
           0.29582396149635315
          ],
          [
           "s",
           0.005477682687342167,
           0.0019753563683480024,
           0.005822968203574419,
           0.21896010637283325,
           8972.6708984375,
           0.019196705892682076,
           0.005284050013870001,
           2.4919326305389404,
           2.646368980407715,
           2.746083974838257,
           0.014510445296764374,
           -3602.431884765625,
           -3108.83447265625,
           0.4015209376811981
          ],
          [
           "s",
           0.005497336853295565,
           0.0017875204794108868,
           0.0057806470431387424,
           0.0988638699054718,
           9671.591796875,
           0.017674876376986504,
           0.005341564770787954,
           2.4178249835968018,
           2.5410561561584473,
           2.616572856903076,
           0.013976593501865864,
           -4388.4140625,
           -3522.40673828125,
           0.41925710439682007
          ],
          [
           "s",
           0.005433787126094103,
           0.002077842131257057,
           0.005817503202706575,
           -0.36827337741851807,
           7078.8125,
           0.02030820958316326,
           0.005221612751483917,
           2.558699131011963,
           2.736509323120117,
           2.8506977558135986,
           0.014885240234434605,
           -3239.746826171875,
           -3586.33447265625,
           0.18972289562225342
          ],
          [
           "s",
           0.00549362413585186,
           0.0026069132145494223,
           0.006080776918679476,
           -0.2384730875492096,
           9786.0556640625,
           0.02821909822523594,
           0.005157355219125748,
           3.521165609359741,
           3.8843276500701904,
           4.151628494262695,
           0.02141142264008522,
           -1171.934326171875,
           -1124.6923828125,
           0.7763245701789856
          ],
          [
           "s",
           0.005464846268296242,
           0.0027225525118410587,
           0.006105451844632626,
           0.013415351510047913,
           5742.595703125,
           0.02253858372569084,
           0.00512731121852994,
           2.7529349327087402,
           3.0471084117889404,
           3.278114080429077,
           0.016807910054922104,
           -2059.679443359375,
           -922.4907836914062,
           0.370526522397995
          ],
          [
           "s",
           0.005445396061986685,
           0.002164524747058749,
           0.005859807133674622,
           -0.17664691805839539,
           6309.8515625,
           0.0206267312169075,
           0.005206916946917772,
           2.6574957370758057,
           2.8546764850616455,
           2.9907164573669434,
           0.015572412870824337,
           -3863.343505859375,
           -4757.82421875,
           0.32673653960227966
          ],
          [
           "s",
           0.005503242835402489,
           0.0018390739569440484,
           0.005802390165627003,
           -0.9054431915283203,
           7836.78564453125,
           0.011028236709535122,
           0.00534121785312891,
           1.953381061553955,
           2.059563636779785,
           2.122040033340454,
           0.011334278620779514,
           -4539.25830078125,
           -3309.084716796875,
           0.12860538065433502
          ],
          [
           "s",
           0.005473758094012737,
           0.0021522738970816135,
           0.005881680175662041,
           -0.804729163646698,
           7947.884765625,
           0.014764673076570034,
           0.005236535798758268,
           2.2240219116210938,
           2.38919734954834,
           2.4980227947235107,
           0.013080986216664314,
           -4314.36572265625,
           -4157.56689453125,
           0.35124021768569946
          ],
          [
           "s",
           0.005464904010295868,
           0.002011488424614072,
           0.005823318846523762,
           0.5008198618888855,
           5694.9375,
           0.018001914024353027,
           0.005267733708024025,
           2.4040567874908447,
           2.5566720962524414,
           2.657611608505249,
           0.013999590650200844,
           -2843.6953125,
           -3389.2880859375,
           0.2286866307258606
          ],
          [
           "s",
           0.005454227793961763,
           0.0021437928080558777,
           0.00586040411144495,
           -0.13314171135425568,
           8058.53857421875,
           0.018447821959853172,
           0.005222748499363661,
           2.5009613037109375,
           2.682053327560425,
           2.8063085079193115,
           0.014656643383204937,
           -3692.223388671875,
           -2939.85888671875,
           0.3041871190071106
          ],
          [
           "s",
           0.005498243495821953,
           0.0018854085355997086,
           0.005812518764287233,
           0.16772617399692535,
           7226.47607421875,
           0.028523709625005722,
           0.005328009836375713,
           3.09397554397583,
           3.2678325176239014,
           3.3753297328948975,
           0.01798379048705101,
           -3065.084716796875,
           -4934.775390625,
           0.3607911467552185
          ],
          [
           "s",
           0.0054693385027348995,
           0.0018032367806881666,
           0.005758929066359997,
           -0.3104187548160553,
           9201.5595703125,
           0.01827700063586235,
           0.0053106313571333885,
           2.429953098297119,
           2.5575780868530273,
           2.635077953338623,
           0.013993927277624607,
           -2050.98974609375,
           -1545.4923095703125,
           0.3848745822906494
          ],
          [
           "s",
           0.00547276996076107,
           0.0017512377817183733,
           0.005746115930378437,
           -0.11331750452518463,
           5647.07470703125,
           0.014427343383431435,
           0.005319418851286173,
           2.213188648223877,
           2.3233327865600586,
           2.390719413757324,
           0.012717238627374172,
           -3566.343017578125,
           -3533.863525390625,
           0.21597589552402496
          ]
         ],
         "hovertemplate": "Cluster=%{x}<br>chatter_presence=%{customdata[0]}<br>med=%{customdata[1]}<br>std=%{customdata[2]}<br>rms=%{customdata[3]}<br>curtose=%{customdata[4]}<br>distortion=%{customdata[5]}<br>amplitude=%{customdata[6]}<br>sra=%{customdata[7]}<br>crest=%{customdata[8]}<br>impulse=%{customdata[9]}<br>margin=%{customdata[10]}<br>max=%{customdata[11]}<br>freq_max=%{customdata[12]}<br>freq_sec_highest=%{customdata[13]}<br>fft_mean=%{customdata[14]}<extra></extra>",
         "legendgroup": "Cluster 5",
         "marker": {
          "color": "#19d3f3"
         },
         "name": "Cluster 5",
         "notched": true,
         "offsetgroup": "Cluster 5",
         "showlegend": false,
         "type": "box",
         "x": [
          "Cluster 5",
          "Cluster 5",
          "Cluster 5",
          "Cluster 5",
          "Cluster 5",
          "Cluster 5",
          "Cluster 5",
          "Cluster 5",
          "Cluster 5",
          "Cluster 5",
          "Cluster 5",
          "Cluster 5",
          "Cluster 5",
          "Cluster 5",
          "Cluster 5",
          "Cluster 5",
          "Cluster 5",
          "Cluster 5",
          "Cluster 5",
          "Cluster 5",
          "Cluster 5",
          "Cluster 5",
          "Cluster 5",
          "Cluster 5",
          "Cluster 5",
          "Cluster 5",
          "Cluster 5",
          "Cluster 5"
         ],
         "xaxis": "x2",
         "yaxis": "y2"
        },
        {
         "alignmentgroup": "True",
         "bingroup": "x",
         "hovertemplate": "Cluster=%{x}<br>count=%{y}<extra></extra>",
         "legendgroup": "Cluster 6",
         "marker": {
          "color": "#FF6692",
          "opacity": 0.7,
          "pattern": {
           "shape": ""
          }
         },
         "name": "Cluster 6",
         "offsetgroup": "Cluster 6",
         "orientation": "v",
         "showlegend": true,
         "type": "histogram",
         "x": [
          "Cluster 6",
          "Cluster 6",
          "Cluster 6",
          "Cluster 6",
          "Cluster 6",
          "Cluster 6",
          "Cluster 6"
         ],
         "xaxis": "x",
         "yaxis": "y"
        },
        {
         "alignmentgroup": "True",
         "customdata": [
          [
           "c",
           0.005484491586685181,
           0.012395118363201618,
           0.013554057106375694,
           0.5051963925361633,
           4186.75390625,
           0.11043865978717804,
           0.00902804359793663,
           4.372564792633057,
           5.5258612632751465,
           6.564655303955078,
           0.05117266625165939,
           -3871.76123046875,
           -3895.6611328125,
           1.819014310836792
          ],
          [
           "c",
           0.005478902719914913,
           0.017995595932006836,
           0.01881047524511814,
           -0.1573055237531662,
           3534.438232421875,
           0.12049224972724915,
           0.012805025093257427,
           3.243600368499756,
           4.038939952850342,
           4.764822006225586,
           0.05947858467698097,
           -3868.12255859375,
           -3811.123779296875,
           1.828121542930603
          ],
          [
           "c",
           0.005484506022185087,
           0.017482956871390343,
           0.018322700634598732,
           0.00233116140589118,
           3656.030029296875,
           0.15063168108463287,
           0.011977944523096085,
           4.323125839233398,
           5.504205226898193,
           6.613099098205566,
           0.07921133935451508,
           -980.3901977539062,
           -1196.0880126953125,
           1.4721823930740356
          ],
          [
           "c",
           0.005474105477333069,
           0.013576654717326164,
           0.014638442546129227,
           0.3786567747592926,
           4174.76318359375,
           0.11655354499816895,
           0.009748101234436035,
           4.175867080688477,
           5.277188777923584,
           6.270779609680176,
           0.05542535334825516,
           -1009.7899169921875,
           -911.6908569335938,
           1.2311066389083862
          ],
          [
           "c",
           0.005478484556078911,
           0.019542545080184937,
           0.02029518038034439,
           -0.3686767816543579,
           3597.78173828125,
           0.1253700852394104,
           0.013917790725827217,
           3.1063649654388428,
           3.844698429107666,
           4.529758930206299,
           0.0630442351102829,
           -908.7817993164062,
           -1414.1717529296875,
           1.0978809595108032
          ],
          [
           "c",
           0.005464160814881325,
           0.012737217359244823,
           0.01385923009365797,
           1.0904406309127808,
           2421.58447265625,
           0.11249811947345734,
           0.00883365236222744,
           4.2216572761535645,
           5.502612113952637,
           6.623412132263184,
           0.058508921414613724,
           -3914.17529296875,
           -3837.520263671875,
           0.9242613315582275
          ],
          [
           "c",
           0.005487510468810797,
           0.014789639040827751,
           0.01577458158135414,
           0.17811472713947296,
           3781.649169921875,
           0.126459002494812,
           0.010266892611980438,
           4.179621696472168,
           5.345249652862549,
           6.421785831451416,
           0.0659317895770073,
           -3904.06103515625,
           -3826.76171875,
           1.5268863439559937
          ]
         ],
         "hovertemplate": "Cluster=%{x}<br>chatter_presence=%{customdata[0]}<br>med=%{customdata[1]}<br>std=%{customdata[2]}<br>rms=%{customdata[3]}<br>curtose=%{customdata[4]}<br>distortion=%{customdata[5]}<br>amplitude=%{customdata[6]}<br>sra=%{customdata[7]}<br>crest=%{customdata[8]}<br>impulse=%{customdata[9]}<br>margin=%{customdata[10]}<br>max=%{customdata[11]}<br>freq_max=%{customdata[12]}<br>freq_sec_highest=%{customdata[13]}<br>fft_mean=%{customdata[14]}<extra></extra>",
         "legendgroup": "Cluster 6",
         "marker": {
          "color": "#FF6692"
         },
         "name": "Cluster 6",
         "notched": true,
         "offsetgroup": "Cluster 6",
         "showlegend": false,
         "type": "box",
         "x": [
          "Cluster 6",
          "Cluster 6",
          "Cluster 6",
          "Cluster 6",
          "Cluster 6",
          "Cluster 6",
          "Cluster 6"
         ],
         "xaxis": "x2",
         "yaxis": "y2"
        },
        {
         "alignmentgroup": "True",
         "bingroup": "x",
         "hovertemplate": "Cluster=%{x}<br>count=%{y}<extra></extra>",
         "legendgroup": "Cluster 7",
         "marker": {
          "color": "#B6E880",
          "opacity": 0.7,
          "pattern": {
           "shape": ""
          }
         },
         "name": "Cluster 7",
         "offsetgroup": "Cluster 7",
         "orientation": "v",
         "showlegend": true,
         "type": "histogram",
         "x": [
          "Cluster 7",
          "Cluster 7",
          "Cluster 7",
          "Cluster 7",
          "Cluster 7",
          "Cluster 7",
          "Cluster 7",
          "Cluster 7",
          "Cluster 7",
          "Cluster 7",
          "Cluster 7",
          "Cluster 7",
          "Cluster 7"
         ],
         "xaxis": "x",
         "yaxis": "y"
        },
        {
         "alignmentgroup": "True",
         "customdata": [
          [
           "s",
           0.005475691519677639,
           0.001971775433048606,
           0.005819874815642834,
           0.08136139810085297,
           4170.677734375,
           0.03054899163544178,
           0.005293291062116623,
           3.790070056915283,
           4.0247039794921875,
           4.167111396789551,
           0.022057732567191124,
           120.19879913330078,
           64.49935150146484,
           0.22480416297912598
          ],
          [
           "s",
           0.005474938079714775,
           0.0020810619462281466,
           0.0058571090921759605,
           -0.25488969683647156,
           7052.35693359375,
           0.041906654834747314,
           0.0052656615152955055,
           4.755544662475586,
           5.084255218505859,
           5.289694786071777,
           0.027853742241859436,
           119.86640167236328,
           696.6651000976562,
           0.4064783751964569
          ],
          [
           "s",
           0.005471471231430769,
           0.0018217323813587427,
           0.005766729824244976,
           3.3657355308532715,
           1968.1954345703125,
           0.02794324979186058,
           0.00532795675098896,
           4.011868476867676,
           4.219336032867432,
           4.342257976531982,
           0.023135362192988396,
           979.9608154296875,
           377.9848937988281,
           0.21800725162029266
          ],
          [
           "s",
           0.005509022157639265,
           0.0027963556349277496,
           0.0061778477393090725,
           1.3081295490264893,
           1650.598876953125,
           0.02605382725596428,
           0.005255965515971184,
           3.024264097213745,
           3.330042600631714,
           3.5547122955322266,
           0.01868344470858574,
           2330.766845703125,
           1480.8519287109375,
           0.16723965108394623
          ],
          [
           "s",
           0.005487811751663685,
           0.002610329305753112,
           0.006076992489397526,
           0.05011339485645294,
           9228.7177734375,
           0.034143295139074326,
           0.0051648360677063465,
           3.7338061332702637,
           4.112979888916016,
           4.393230438232422,
           0.022690312936902046,
           1171.934326171875,
           1124.6923828125,
           0.7982632517814636
          ],
          [
           "s",
           0.005494963843375444,
           0.003600083524361253,
           0.006569224409759045,
           0.11026707291603088,
           4197.40380859375,
           0.03450167179107666,
           0.005125231575220823,
           3.765876293182373,
           4.340220928192139,
           4.826881408691406,
           0.024738885462284088,
           -2410.3759765625,
           -1259.6873779296875,
           0.4539497494697571
          ],
          [
           "s",
           0.005426481831818819,
           0.003614659421145916,
           0.006520100403577089,
           0.5386505722999573,
           3661.372802734375,
           0.03555666655302048,
           0.0051260474137961864,
           3.579267740249634,
           4.108262062072754,
           4.552666187286377,
           0.02333718352019787,
           -186.17910766601562,
           -407.7031555175781,
           0.3253784775733948
          ],
          [
           "s",
           0.005471224430948496,
           0.0019831745885312557,
           0.005819553975015879,
           1.3973759412765503,
           7180.6533203125,
           0.02514507621526718,
           0.005294905509799719,
           3.2563867568969727,
           3.453090190887451,
           3.579047441482544,
           0.01895071752369404,
           -25.23417091369629,
           -697.5968017578125,
           0.49055713415145874
          ],
          [
           "s",
           0.0054889703169465065,
           0.003800618229433894,
           0.006676329765468836,
           1.0859979391098022,
           9245.587890625,
           0.04518020153045654,
           0.005240036640316248,
           3.8237991333007812,
           4.412014007568359,
           4.871901512145996,
           0.02552894502878189,
           -1181.9976806640625,
           -695.9385986328125,
           0.791843831539154
          ],
          [
           "s",
           0.005479122046381235,
           0.0034627756103873253,
           0.006481141783297062,
           4.539231300354004,
           1121.1474609375,
           0.03896469622850418,
           0.005249626934528351,
           3.8479814529418945,
           4.374358177185059,
           4.750683307647705,
           0.024939315393567085,
           1354.486083984375,
           707.9056396484375,
           0.1709093600511551
          ],
          [
           "s",
           0.005508966278284788,
           0.0034600046928972006,
           0.006505349650979042,
           0.30999618768692017,
           3027.8779296875,
           0.03788146749138832,
           0.005173529032617807,
           4.126054286956787,
           4.700075149536133,
           5.188223838806152,
           0.026841426268219948,
           -482.8722839355469,
           -22.079647064208984,
           0.30116474628448486
          ],
          [
           "s",
           0.005450613331049681,
           0.003585409140214324,
           0.006524038501083851,
           0.21915945410728455,
           2938.892822265625,
           0.034648168832063675,
           0.005143648944795132,
           3.427096366882324,
           3.9243125915527344,
           4.346818447113037,
           0.02235850878059864,
           -2535.322265625,
           -2538.768310546875,
           0.34505489468574524
          ],
          [
           "s",
           0.005479537881910801,
           0.002421983052045107,
           0.005990928038954735,
           1.400373935699463,
           4771.73193359375,
           0.038830555975437164,
           0.005232649855315685,
           4.685090065002441,
           5.09210205078125,
           5.364019870758057,
           0.02806803770363331,
           682.3966064453125,
           125.89936828613281,
           0.3894857168197632
          ]
         ],
         "hovertemplate": "Cluster=%{x}<br>chatter_presence=%{customdata[0]}<br>med=%{customdata[1]}<br>std=%{customdata[2]}<br>rms=%{customdata[3]}<br>curtose=%{customdata[4]}<br>distortion=%{customdata[5]}<br>amplitude=%{customdata[6]}<br>sra=%{customdata[7]}<br>crest=%{customdata[8]}<br>impulse=%{customdata[9]}<br>margin=%{customdata[10]}<br>max=%{customdata[11]}<br>freq_max=%{customdata[12]}<br>freq_sec_highest=%{customdata[13]}<br>fft_mean=%{customdata[14]}<extra></extra>",
         "legendgroup": "Cluster 7",
         "marker": {
          "color": "#B6E880"
         },
         "name": "Cluster 7",
         "notched": true,
         "offsetgroup": "Cluster 7",
         "showlegend": false,
         "type": "box",
         "x": [
          "Cluster 7",
          "Cluster 7",
          "Cluster 7",
          "Cluster 7",
          "Cluster 7",
          "Cluster 7",
          "Cluster 7",
          "Cluster 7",
          "Cluster 7",
          "Cluster 7",
          "Cluster 7",
          "Cluster 7",
          "Cluster 7"
         ],
         "xaxis": "x2",
         "yaxis": "y2"
        },
        {
         "alignmentgroup": "True",
         "bingroup": "x",
         "hovertemplate": "Cluster=%{x}<br>count=%{y}<extra></extra>",
         "legendgroup": "Cluster 8",
         "marker": {
          "color": "#FF97FF",
          "opacity": 0.7,
          "pattern": {
           "shape": ""
          }
         },
         "name": "Cluster 8",
         "offsetgroup": "Cluster 8",
         "orientation": "v",
         "showlegend": true,
         "type": "histogram",
         "x": [
          "Cluster 8",
          "Cluster 8",
          "Cluster 8",
          "Cluster 8",
          "Cluster 8",
          "Cluster 8",
          "Cluster 8"
         ],
         "xaxis": "x",
         "yaxis": "y"
        },
        {
         "alignmentgroup": "True",
         "customdata": [
          [
           "c",
           0.005490909796208143,
           0.012458964250981808,
           0.01361505314707756,
           0.5140854120254517,
           3811.943359375,
           0.11053355038166046,
           0.009065761230885983,
           4.14642858505249,
           5.242889881134033,
           6.227148532867432,
           0.05645384266972542,
           3871.76123046875,
           3895.6611328125,
           1.819014310836792
          ],
          [
           "c",
           0.005493317265063524,
           0.008860788308084011,
           0.010424358770251274,
           1.2924795150756836,
           1428.8397216796875,
           0.08942971378564835,
           0.006910357158631086,
           4.485289096832275,
           5.704071044921875,
           6.766113758087158,
           0.04267344996333122,
           3875.3544921875,
           3933.5322265625,
           0.46339815855026245
          ],
          [
           "c",
           0.005463855806738138,
           0.016310904175043106,
           0.017201106995344162,
           1.8452690839767456,
           2413.046630859375,
           0.16207349300384521,
           0.010649140924215317,
           4.792956829071045,
           6.350702285766602,
           7.741860389709473,
           0.0796293318271637,
           3909.32177734375,
           3782.5244140625,
           2.2192862033843994
          ],
          [
           "c",
           0.0055088563822209835,
           0.011784986592829227,
           0.01300876121968031,
           1.490659475326538,
           3507.70556640625,
           0.11961822211742401,
           0.00823191273957491,
           4.689419746398926,
           6.134790897369385,
           7.41061544418335,
           0.05861468240618706,
           3904.06103515625,
           3826.76171875,
           1.5268863439559937
          ],
          [
           "c",
           0.005454865749925375,
           0.02083943784236908,
           0.021540459245443344,
           0.3208470046520233,
           2848.34912109375,
           0.1438341587781906,
           0.014001390896737576,
           3.3972299098968506,
           4.352804660797119,
           5.226473331451416,
           0.07317789644002914,
           3812.965087890625,
           3741.500244140625,
           2.7061190605163574
          ],
          [
           "c",
           0.005454446654766798,
           0.012788157910108566,
           0.013902595266699791,
           -0.49294954538345337,
           5491.94482421875,
           0.0745130181312561,
           0.009556567296385765,
           3.053149938583374,
           3.764349937438965,
           4.441627025604248,
           0.04244670644402504,
           3886.365478515625,
           3742.811279296875,
           1.1579819917678833
          ],
          [
           "c",
           0.005495304241776466,
           0.01675122044980526,
           0.017628934234380722,
           -0.06879163533449173,
           3308.4912109375,
           0.11601614207029343,
           0.011977365240454674,
           3.37774395942688,
           4.210748672485352,
           4.971545696258545,
           0.05954602360725403,
           3868.12255859375,
           3811.123779296875,
           1.828121542930603
          ]
         ],
         "hovertemplate": "Cluster=%{x}<br>chatter_presence=%{customdata[0]}<br>med=%{customdata[1]}<br>std=%{customdata[2]}<br>rms=%{customdata[3]}<br>curtose=%{customdata[4]}<br>distortion=%{customdata[5]}<br>amplitude=%{customdata[6]}<br>sra=%{customdata[7]}<br>crest=%{customdata[8]}<br>impulse=%{customdata[9]}<br>margin=%{customdata[10]}<br>max=%{customdata[11]}<br>freq_max=%{customdata[12]}<br>freq_sec_highest=%{customdata[13]}<br>fft_mean=%{customdata[14]}<extra></extra>",
         "legendgroup": "Cluster 8",
         "marker": {
          "color": "#FF97FF"
         },
         "name": "Cluster 8",
         "notched": true,
         "offsetgroup": "Cluster 8",
         "showlegend": false,
         "type": "box",
         "x": [
          "Cluster 8",
          "Cluster 8",
          "Cluster 8",
          "Cluster 8",
          "Cluster 8",
          "Cluster 8",
          "Cluster 8"
         ],
         "xaxis": "x2",
         "yaxis": "y2"
        },
        {
         "alignmentgroup": "True",
         "bingroup": "x",
         "hovertemplate": "Cluster=%{x}<br>count=%{y}<extra></extra>",
         "legendgroup": "Cluster 9",
         "marker": {
          "color": "#FECB52",
          "opacity": 0.7,
          "pattern": {
           "shape": ""
          }
         },
         "name": "Cluster 9",
         "offsetgroup": "Cluster 9",
         "orientation": "v",
         "showlegend": true,
         "type": "histogram",
         "x": [
          "Cluster 9",
          "Cluster 9",
          "Cluster 9",
          "Cluster 9",
          "Cluster 9",
          "Cluster 9",
          "Cluster 9",
          "Cluster 9",
          "Cluster 9",
          "Cluster 9",
          "Cluster 9",
          "Cluster 9",
          "Cluster 9",
          "Cluster 9",
          "Cluster 9"
         ],
         "xaxis": "x",
         "yaxis": "y"
        },
        {
         "alignmentgroup": "True",
         "customdata": [
          [
           "s",
           0.005501880310475826,
           0.0021765537094324827,
           0.00591675890609622,
           -0.8147792220115662,
           14659.197265625,
           0.017137067392468452,
           0.005264123901724815,
           2.350706100463867,
           2.5276527404785156,
           2.642141819000244,
           0.013908561319112778,
           119.85237884521484,
           816.3772583007812,
           0.5309707522392273
          ],
          [
           "s",
           0.005478675477206707,
           0.002080392325296998,
           0.005860364995896816,
           -1.0736411809921265,
           16114.0390625,
           0.013006797060370445,
           0.0052641998045146465,
           2.0814380645751953,
           2.2264301776885986,
           2.3171586990356445,
           0.012197987176477909,
           -4354.14599609375,
           -4963.63330078125,
           0.40819790959358215
          ],
          [
           "s",
           0.005482913926243782,
           0.0021598816383630037,
           0.005892995744943619,
           -0.9914996027946472,
           15268.4267578125,
           0.015313833951950073,
           0.005249209236353636,
           2.315535306930542,
           2.4884984493255615,
           2.5995230674743652,
           0.01364543940871954,
           -815.7583618164062,
           -695.8986206054688,
           0.4138947129249573
          ],
          [
           "s",
           0.005483115091919899,
           0.002235875930637121,
           0.005921456962823868,
           -1.0252279043197632,
           16621.853515625,
           0.013494851067662239,
           0.005229192320257425,
           2.1270010471343994,
           2.296948194503784,
           2.408583402633667,
           0.012594945728778839,
           -3075.25390625,
           -3314.59326171875,
           0.6175416707992554
          ],
          [
           "s",
           0.005483788438141346,
           0.0019818900618702173,
           0.005830932874232531,
           -1.141397476196289,
           14480.42578125,
           0.013987564481794834,
           0.005292794667184353,
           2.005927324295044,
           2.132847547531128,
           2.2098774909973145,
           0.011696428060531616,
           -817.30126953125,
           -148.82919311523438,
           0.258136510848999
          ],
          [
           "s",
           0.005494639277458191,
           0.0023616566322743893,
           0.005980672314763069,
           -0.7198852896690369,
           14734.4150390625,
           0.018069660291075706,
           0.005205059889703989,
           2.3994522094726562,
           2.609865665435791,
           2.756997585296631,
           0.014350336976349354,
           -1271.657470703125,
           -700.9985961914062,
           0.5919966101646423
          ],
          [
           "s",
           0.005488978698849678,
           0.0020900999661535025,
           0.005873445887118578,
           -1.0798267126083374,
           15858.1689453125,
           0.01328743901103735,
           0.005272846668958664,
           2.115020513534546,
           2.2631335258483887,
           2.3559300899505615,
           0.012422459200024605,
           -119.86640167236328,
           -696.6651000976562,
           0.38454246520996094
          ],
          [
           "s",
           0.005501619074493647,
           0.002012958051636815,
           0.005858307238668203,
           -1.208716869354248,
           15209.8486328125,
           0.010692860931158066,
           0.005305155646055937,
           1.9097328186035156,
           2.0335471630096436,
           2.1088545322418213,
           0.011187802068889141,
           -3935.8994140625,
           -3627.6337890625,
           0.24563121795654297
          ],
          [
           "s",
           0.005484465509653091,
           0.002228387165814638,
           0.005919883958995342,
           -0.9053429365158081,
           14453.375,
           0.016216570511460304,
           0.005232491996139288,
           2.384169578552246,
           2.5731332302093506,
           2.6973776817321777,
           0.014114007353782654,
           -3567.066162109375,
           -2673.02587890625,
           0.5227053761482239
          ],
          [
           "s",
           0.005500262137502432,
           0.0024873760994523764,
           0.0060365451499819756,
           -0.3772369623184204,
           13960.626953125,
           0.018812155351042747,
           0.005189866758882999,
           2.5324490070343018,
           2.7762608528137207,
           2.945594072341919,
           0.015287241898477077,
           1271.657470703125,
           700.9985961914062,
           0.6139522194862366
          ],
          [
           "s",
           0.005477306433022022,
           0.001973668346181512,
           0.005822044797241688,
           -1.1775436401367188,
           15003.5859375,
           0.011933854781091213,
           0.005287868436425924,
           1.9359973669052124,
           2.057840347290039,
           2.131570339202881,
           0.011271463707089424,
           817.30126953125,
           148.82919311523438,
           0.28010204434394836
          ],
          [
           "s",
           0.005497640930116177,
           0.0022038707975298166,
           0.005922924727201462,
           -1.0202723741531372,
           12963.109375,
           0.017636971548199654,
           0.005254040006548166,
           2.1125574111938477,
           2.27547550201416,
           2.3815042972564697,
           0.012512518092989922,
           -360.19879150390625,
           -149.16616821289062,
           0.39357009530067444
          ],
          [
           "s",
           0.005482924170792103,
           0.0020713075064122677,
           0.005861120764166117,
           -1.0072475671768188,
           17148.564453125,
           0.015502196736633778,
           0.005269561894237995,
           2.0616815090179443,
           2.203794479370117,
           2.2931249141693115,
           0.012083764187991619,
           815.7583618164062,
           695.8986206054688,
           0.43583405017852783
          ],
          [
           "s",
           0.0054916017688810825,
           0.002170083811506629,
           0.005904821213334799,
           -1.0050829648971558,
           16007.748046875,
           0.014411740936338902,
           0.005255453288555145,
           2.1526732444763184,
           2.3145976066589355,
           2.418658971786499,
           0.012711149640381336,
           -119.85237884521484,
           -816.3772583007812,
           0.5090026259422302
          ],
          [
           "s",
           0.005487642716616392,
           0.0021687475964426994,
           0.005900648422539234,
           -0.8305751085281372,
           14417.0029296875,
           0.018597692251205444,
           0.0052530220709741116,
           2.452286958694458,
           2.636199712753296,
           2.7546207904815674,
           0.014470083639025688,
           1181.9976806640625,
           695.9385986328125,
           0.813805103302002
          ]
         ],
         "hovertemplate": "Cluster=%{x}<br>chatter_presence=%{customdata[0]}<br>med=%{customdata[1]}<br>std=%{customdata[2]}<br>rms=%{customdata[3]}<br>curtose=%{customdata[4]}<br>distortion=%{customdata[5]}<br>amplitude=%{customdata[6]}<br>sra=%{customdata[7]}<br>crest=%{customdata[8]}<br>impulse=%{customdata[9]}<br>margin=%{customdata[10]}<br>max=%{customdata[11]}<br>freq_max=%{customdata[12]}<br>freq_sec_highest=%{customdata[13]}<br>fft_mean=%{customdata[14]}<extra></extra>",
         "legendgroup": "Cluster 9",
         "marker": {
          "color": "#FECB52"
         },
         "name": "Cluster 9",
         "notched": true,
         "offsetgroup": "Cluster 9",
         "showlegend": false,
         "type": "box",
         "x": [
          "Cluster 9",
          "Cluster 9",
          "Cluster 9",
          "Cluster 9",
          "Cluster 9",
          "Cluster 9",
          "Cluster 9",
          "Cluster 9",
          "Cluster 9",
          "Cluster 9",
          "Cluster 9",
          "Cluster 9",
          "Cluster 9",
          "Cluster 9",
          "Cluster 9"
         ],
         "xaxis": "x2",
         "yaxis": "y2"
        },
        {
         "alignmentgroup": "True",
         "bingroup": "x",
         "hovertemplate": "Cluster=%{x}<br>count=%{y}<extra></extra>",
         "legendgroup": "Cluster 10",
         "marker": {
          "color": "#636efa",
          "opacity": 0.7,
          "pattern": {
           "shape": ""
          }
         },
         "name": "Cluster 10",
         "offsetgroup": "Cluster 10",
         "orientation": "v",
         "showlegend": true,
         "type": "histogram",
         "x": [
          "Cluster 10",
          "Cluster 10",
          "Cluster 10",
          "Cluster 10",
          "Cluster 10",
          "Cluster 10",
          "Cluster 10",
          "Cluster 10",
          "Cluster 10",
          "Cluster 10",
          "Cluster 10",
          "Cluster 10",
          "Cluster 10",
          "Cluster 10",
          "Cluster 10",
          "Cluster 10"
         ],
         "xaxis": "x",
         "yaxis": "y"
        },
        {
         "alignmentgroup": "True",
         "customdata": [
          [
           "s",
           0.0054911114275455475,
           0.0025242085102945566,
           0.006043498869985342,
           0.37620076537132263,
           9050.4658203125,
           0.03652001544833183,
           0.00519888661801815,
           3.8073198795318604,
           4.169131278991699,
           4.425858020782471,
           0.023009534925222397,
           3125.76171875,
           3923.907470703125,
           0.747319221496582
          ],
          [
           "s",
           0.005503189750015736,
           0.002169274026528001,
           0.005915303248912096,
           -0.8925508856773376,
           12624.5,
           0.021476970985531807,
           0.0052699316293001175,
           2.800446033477783,
           3.009337902069092,
           3.143397092819214,
           0.016565486788749695,
           3542.79296875,
           3033.7939453125,
           0.6192664504051208
          ],
          [
           "s",
           0.005486784502863884,
           0.001756874262355268,
           0.005761193577200174,
           -0.20748722553253174,
           10481.20703125,
           0.015511468052864075,
           0.005333716981112957,
           2.133309841156006,
           2.2396399974823,
           2.304286241531372,
           0.01229041162878275,
           3602.431884765625,
           3108.83447265625,
           0.4015209376811981
          ],
          [
           "s",
           0.005479920655488968,
           0.0018080362351611257,
           0.005770482122898102,
           -0.4476785361766815,
           9232.619140625,
           0.015910163521766663,
           0.0053181760013103485,
           2.4217793941497803,
           2.5499277114868164,
           2.6277496814727783,
           0.01397483516484499,
           3065.084716796875,
           4934.775390625,
           0.3607911467552185
          ],
          [
           "s",
           0.00549290468916297,
           0.0022134361788630486,
           0.005922094453126192,
           -0.25874871015548706,
           8392.5537109375,
           0.021333754062652588,
           0.0052567594684660435,
           2.664158344268799,
           2.867218017578125,
           3.001354455947876,
           0.01577739790081978,
           3268.68359375,
           2926.88525390625,
           0.4186154305934906
          ],
          [
           "s",
           0.005487358663231134,
           0.0018215373856946826,
           0.005781778134405613,
           -0.9065842628479004,
           7809.14892578125,
           0.011168385855853558,
           0.005328118335455656,
           1.960292935371399,
           2.0654709339141846,
           2.1272010803222656,
           0.011333978734910488,
           4539.25830078125,
           3309.084716796875,
           0.12860538065433502
          ],
          [
           "s",
           0.0054824473336339,
           0.0022851263638585806,
           0.005939611699432135,
           -0.6845011711120605,
           13046.6083984375,
           0.019401386380195618,
           0.005217330064624548,
           2.709846019744873,
           2.9346795082092285,
           3.084994316101074,
           0.01609543338418007,
           3075.25390625,
           3314.59326171875,
           0.6175416707992554
          ],
          [
           "s",
           0.005507021676748991,
           0.001836843672208488,
           0.005805274937301874,
           0.11722984164953232,
           8839.001953125,
           0.020372331142425537,
           0.005341268610209227,
           2.6455440521240234,
           2.7871575355529785,
           2.8753678798675537,
           0.015358110889792442,
           4388.4140625,
           3522.40673828125,
           0.41925710439682007
          ],
          [
           "s",
           0.005493642296642065,
           0.002380696590989828,
           0.0059872898273169994,
           -0.5164693593978882,
           7715.1953125,
           0.01625824347138405,
           0.005206338129937649,
           2.2910871505737305,
           2.4950125217437744,
           2.6347506046295166,
           0.013717401772737503,
           4615.48291015625,
           2931.256591796875,
           0.29582396149635315
          ],
          [
           "s",
           0.005492379888892174,
           0.0021178501192480326,
           0.005886551924049854,
           -1.0339062213897705,
           16160.0947265625,
           0.014022566378116608,
           0.005269249901175499,
           2.1877756118774414,
           2.3447306156158447,
           2.444077491760254,
           0.01287845429033041,
           4465.35107421875,
           4862.43017578125,
           0.46593037247657776
          ],
          [
           "s",
           0.005494634620845318,
           0.002381501719355583,
           0.005988531745970249,
           -0.4944952428340912,
           11622.0625,
           0.020722679793834686,
           0.0052062636241316795,
           2.9649510383605957,
           3.229231119155884,
           3.4104502201080322,
           0.017755704000592232,
           3567.066162109375,
           2673.02587890625,
           0.5227053761482239
          ],
          [
           "s",
           0.005495917983353138,
           0.0018949733348563313,
           0.005813423544168472,
           -1.1777677536010742,
           8882.0703125,
           0.009266376495361328,
           0.005323251709342003,
           1.780033826828003,
           1.8828685283660889,
           1.9439417123794556,
           0.010348090901970863,
           4628.853515625,
           4721.15283203125,
           0.12864702939987183
          ],
          [
           "s",
           0.005490640178322792,
           0.0021721217781305313,
           0.0059046670794487,
           -0.5503296852111816,
           7372.83642578125,
           0.01745809055864811,
           0.005249416455626488,
           2.3974549770355225,
           2.575894355773926,
           2.69671368598938,
           0.014156173914670944,
           4146.52685546875,
           4689.16259765625,
           0.3471258282661438
          ],
          [
           "s",
           0.005496885161846876,
           0.002047005109488964,
           0.005865657702088356,
           -1.0603063106536865,
           15073.9375,
           0.013997120782732964,
           0.00529017997905612,
           2.225051164627075,
           2.3742918968200684,
           2.467097282409668,
           0.01305138785392046,
           4354.14599609375,
           4963.63330078125,
           0.40819790959358215
          ],
          [
           "s",
           0.005489910952746868,
           0.0023130825720727444,
           0.005957298446446657,
           -0.7718707323074341,
           10254.2578125,
           0.021138548851013184,
           0.005217132158577442,
           2.6705808639526367,
           2.894944190979004,
           3.049462080001831,
           0.01590944640338421,
           4501.78515625,
           4168.0859375,
           0.4233745038509369
          ],
          [
           "s",
           0.005506062414497137,
           0.0019764546304941177,
           0.005850046873092651,
           -1.1931395530700684,
           15870.541015625,
           0.010556558147072792,
           0.0053179324604570866,
           1.8302336931228638,
           1.944575309753418,
           2.0133676528930664,
           0.010706952773034573,
           3935.8994140625,
           3627.6337890625,
           0.24563121795654297
          ]
         ],
         "hovertemplate": "Cluster=%{x}<br>chatter_presence=%{customdata[0]}<br>med=%{customdata[1]}<br>std=%{customdata[2]}<br>rms=%{customdata[3]}<br>curtose=%{customdata[4]}<br>distortion=%{customdata[5]}<br>amplitude=%{customdata[6]}<br>sra=%{customdata[7]}<br>crest=%{customdata[8]}<br>impulse=%{customdata[9]}<br>margin=%{customdata[10]}<br>max=%{customdata[11]}<br>freq_max=%{customdata[12]}<br>freq_sec_highest=%{customdata[13]}<br>fft_mean=%{customdata[14]}<extra></extra>",
         "legendgroup": "Cluster 10",
         "marker": {
          "color": "#636efa"
         },
         "name": "Cluster 10",
         "notched": true,
         "offsetgroup": "Cluster 10",
         "showlegend": false,
         "type": "box",
         "x": [
          "Cluster 10",
          "Cluster 10",
          "Cluster 10",
          "Cluster 10",
          "Cluster 10",
          "Cluster 10",
          "Cluster 10",
          "Cluster 10",
          "Cluster 10",
          "Cluster 10",
          "Cluster 10",
          "Cluster 10",
          "Cluster 10",
          "Cluster 10",
          "Cluster 10",
          "Cluster 10"
         ],
         "xaxis": "x2",
         "yaxis": "y2"
        },
        {
         "alignmentgroup": "True",
         "bingroup": "x",
         "hovertemplate": "Cluster=%{x}<br>count=%{y}<extra></extra>",
         "legendgroup": "Cluster 11",
         "marker": {
          "color": "#EF553B",
          "opacity": 0.7,
          "pattern": {
           "shape": ""
          }
         },
         "name": "Cluster 11",
         "offsetgroup": "Cluster 11",
         "orientation": "v",
         "showlegend": true,
         "type": "histogram",
         "x": [
          "Cluster 11",
          "Cluster 11",
          "Cluster 11",
          "Cluster 11",
          "Cluster 11",
          "Cluster 11",
          "Cluster 11"
         ],
         "xaxis": "x",
         "yaxis": "y"
        },
        {
         "alignmentgroup": "True",
         "customdata": [
          [
           "c",
           0.005483240820467472,
           0.011967546306550503,
           0.013163675554096699,
           1.4153401851654053,
           3071.869384765625,
           0.13958676159381866,
           0.008327551186084747,
           5.459401607513428,
           7.145145893096924,
           8.6298828125,
           0.06772095710039139,
           980.3901977539062,
           1196.0880126953125,
           1.4940869808197021
          ],
          [
           "c",
           0.005492647644132376,
           0.016267867758870125,
           0.017169494181871414,
           2.4818241596221924,
           1783.826904296875,
           0.2037266045808792,
           0.010310528799891472,
           6.257789611816406,
           8.467670440673828,
           10.42071533203125,
           0.10744308680295944,
           -3909.32177734375,
           -3782.5244140625,
           2.2192862033843994
          ],
          [
           "c",
           0.005468503572046757,
           0.014140067622065544,
           0.015159971080720425,
           3.3124427795410156,
           1899.48876953125,
           0.16045832633972168,
           0.008789469487965107,
           5.493717670440674,
           7.627771377563477,
           9.47549819946289,
           0.07717371731996536,
           933.5751342773438,
           959.9744262695312,
           1.3053849935531616
          ],
          [
           "c",
           0.0054862406104803085,
           0.01050094049423933,
           0.011847279965877533,
           3.1821043491363525,
           2461.429443359375,
           0.1114528551697731,
           0.007428884971886873,
           5.254031181335449,
           7.004272937774658,
           8.378912925720215,
           0.04920687526464462,
           3914.17529296875,
           3837.520263671875,
           0.9242093563079834
          ],
          [
           "c",
           0.005441373214125633,
           0.012046825140714645,
           0.013218593783676624,
           2.960988759994507,
           3338.362548828125,
           0.1490524858236313,
           0.007936879061162472,
           6.262688159942627,
           8.537179946899414,
           10.43028736114502,
           0.08278393000364304,
           4660.25927734375,
           3925.006103515625,
           1.655203938484192
          ],
          [
           "c",
           0.0054671429097652435,
           0.012138357385993004,
           0.01331262569874525,
           2.63490629196167,
           3650.771240234375,
           0.13988234102725983,
           0.008109739050269127,
           5.727254867553711,
           7.709959506988525,
           9.401634216308594,
           0.07624480128288269,
           1038.50830078125,
           965.8230590820312,
           1.409706473350525
          ],
          [
           "c",
           0.005481435917317867,
           0.004448278341442347,
           0.007059159688651562,
           2.7464520931243896,
           1660.55322265625,
           0.07026573270559311,
           0.005289160646498203,
           6.720725059509277,
           7.9624342918396,
           8.969792366027832,
           0.04744267091155052,
           3501.72998046875,
           3860.122802734375,
           0.8496307134628296
          ]
         ],
         "hovertemplate": "Cluster=%{x}<br>chatter_presence=%{customdata[0]}<br>med=%{customdata[1]}<br>std=%{customdata[2]}<br>rms=%{customdata[3]}<br>curtose=%{customdata[4]}<br>distortion=%{customdata[5]}<br>amplitude=%{customdata[6]}<br>sra=%{customdata[7]}<br>crest=%{customdata[8]}<br>impulse=%{customdata[9]}<br>margin=%{customdata[10]}<br>max=%{customdata[11]}<br>freq_max=%{customdata[12]}<br>freq_sec_highest=%{customdata[13]}<br>fft_mean=%{customdata[14]}<extra></extra>",
         "legendgroup": "Cluster 11",
         "marker": {
          "color": "#EF553B"
         },
         "name": "Cluster 11",
         "notched": true,
         "offsetgroup": "Cluster 11",
         "showlegend": false,
         "type": "box",
         "x": [
          "Cluster 11",
          "Cluster 11",
          "Cluster 11",
          "Cluster 11",
          "Cluster 11",
          "Cluster 11",
          "Cluster 11"
         ],
         "xaxis": "x2",
         "yaxis": "y2"
        },
        {
         "alignmentgroup": "True",
         "bingroup": "x",
         "hovertemplate": "Cluster=%{x}<br>count=%{y}<extra></extra>",
         "legendgroup": "Cluster 12",
         "marker": {
          "color": "#00cc96",
          "opacity": 0.7,
          "pattern": {
           "shape": ""
          }
         },
         "name": "Cluster 12",
         "offsetgroup": "Cluster 12",
         "orientation": "v",
         "showlegend": true,
         "type": "histogram",
         "x": [
          "Cluster 12",
          "Cluster 12",
          "Cluster 12",
          "Cluster 12",
          "Cluster 12",
          "Cluster 12",
          "Cluster 12",
          "Cluster 12",
          "Cluster 12",
          "Cluster 12",
          "Cluster 12",
          "Cluster 12",
          "Cluster 12",
          "Cluster 12",
          "Cluster 12",
          "Cluster 12",
          "Cluster 12",
          "Cluster 12",
          "Cluster 12",
          "Cluster 12",
          "Cluster 12",
          "Cluster 12",
          "Cluster 12",
          "Cluster 12",
          "Cluster 12",
          "Cluster 12",
          "Cluster 12",
          "Cluster 12",
          "Cluster 12",
          "Cluster 12",
          "Cluster 12",
          "Cluster 12"
         ],
         "xaxis": "x",
         "yaxis": "y"
        },
        {
         "alignmentgroup": "True",
         "customdata": [
          [
           "s",
           0.005486934445798397,
           0.001702767563983798,
           0.005745062604546547,
           -0.871419370174408,
           7454.484375,
           0.013699039816856384,
           0.0053489916026592255,
           2.053542137145996,
           2.1500113010406494,
           2.2055983543395996,
           0.011797727085649967,
           1087.135009765625,
           119.89205169677734,
           0.25240734219551086
          ],
          [
           "s",
           0.005448128562420607,
           0.0021694134920835495,
           0.0058641573414206505,
           -0.27797552943229675,
           7618.6630859375,
           0.018282579258084297,
           0.005205056164413691,
           2.6453664302825928,
           2.843853235244751,
           2.980341672897339,
           0.015512845478951931,
           696.7957153320312,
           696.9187622070312,
           0.4026985168457031
          ],
          [
           "s",
           0.00550307659432292,
           0.0019470512634143233,
           0.005837361328303814,
           -0.1018248051404953,
           9721.923828125,
           0.016767125576734543,
           0.005311248358339071,
           2.2999277114868164,
           2.4384918212890625,
           2.527750253677368,
           0.013425508514046669,
           55.19972229003906,
           1048.894775390625,
           0.4766680896282196
          ],
          [
           "s",
           0.005497113335877657,
           0.0017947960877791047,
           0.005782688967883587,
           0.03304167464375496,
           10658.0390625,
           0.01637481525540352,
           0.005337351933121681,
           2.194065570831299,
           2.307262659072876,
           2.37713360786438,
           0.01268759835511446,
           25.23417091369629,
           697.5968017578125,
           0.5125207304954529
          ],
          [
           "s",
           0.00547974556684494,
           0.0017041617538779974,
           0.005738616921007633,
           -0.5974475741386414,
           10107.140625,
           0.014560351148247719,
           0.005338127259165049,
           2.2122786045074463,
           2.3167097568511963,
           2.378253221511841,
           0.012695418670773506,
           2050.98974609375,
           1545.4923095703125,
           0.4067938029766083
          ],
          [
           "s",
           0.005485642235726118,
           0.001760386978276074,
           0.005761166103184223,
           -0.07394906133413315,
           5844.22314453125,
           0.014358380809426308,
           0.005333146546036005,
           2.1386196613311768,
           2.2454495429992676,
           2.31025767326355,
           0.012320943176746368,
           853.9063110351562,
           1765.091796875,
           0.23972173035144806
          ],
          [
           "s",
           0.005454590544104576,
           0.0021697762422263622,
           0.005870295688509941,
           -0.1399603933095932,
           8112.4892578125,
           0.018439657986164093,
           0.005216266494244337,
           2.4843316078186035,
           2.6683685779571533,
           2.795823574066162,
           0.014583760872483253,
           -696.7957153320312,
           -696.9187622070312,
           0.3809002935886383
          ],
          [
           "s",
           0.005480807274580002,
           0.0021536974236369133,
           0.0058887614868581295,
           -0.6304177045822144,
           7641.626953125,
           0.017185568809509277,
           0.0052439868450164795,
           2.3131773471832275,
           2.4840099811553955,
           2.5975942611694336,
           0.01362175028771162,
           69.03944396972656,
           240.0780792236328,
           0.31020230054855347
          ],
          [
           "s",
           0.005485238507390022,
           0.0020279823802411556,
           0.0058481101877987385,
           -0.9944677352905273,
           6789.20068359375,
           0.015048238448798656,
           0.005282857920974493,
           2.3286502361297607,
           2.4825406074523926,
           2.5778098106384277,
           0.013618201948702335,
           -120.19879913330078,
           -64.49935150146484,
           0.20289373397827148
          ],
          [
           "s",
           0.00548904575407505,
           0.002177819609642029,
           0.005905279889702797,
           -0.12896698713302612,
           6912.4697265625,
           0.017307531088590622,
           0.005250199697911739,
           2.2871780395507812,
           2.4549107551574707,
           2.57255482673645,
           0.01350642740726471,
           2059.679443359375,
           922.4907836914062,
           0.3924204409122467
          ],
          [
           "s",
           0.0054567428305745125,
           0.0027470788918435574,
           0.0061091771349310875,
           -0.07463710010051727,
           4794.27392578125,
           0.021865706890821457,
           0.005106800235807896,
           2.733980178833008,
           3.0370967388153076,
           3.270613670349121,
           0.01670237071812153,
           186.17910766601562,
           407.7031555175781,
           0.34711143374443054
          ],
          [
           "s",
           0.005486154928803444,
           0.0021837218664586544,
           0.005904776509851217,
           -0.7523409128189087,
           7960.06591796875,
           0.015459498390555382,
           0.0052424767054617405,
           2.2206192016601562,
           2.3889007568359375,
           2.501157522201538,
           0.013112259097397327,
           -295.75762939453125,
           -696.554443359375,
           0.2550429403781891
          ],
          [
           "s",
           0.005450887605547905,
           0.00212207087315619,
           0.005849380046129227,
           -0.37648576498031616,
           8344.9306640625,
           0.01696154847741127,
           0.005216341000050306,
           2.4151721000671387,
           2.5889906883239746,
           2.7082700729370117,
           0.014127260074019432,
           1285.345947265625,
           697.1033935546875,
           0.38201653957366943
          ],
          [
           "s",
           0.005483629181981087,
           0.0022656049113720655,
           0.0059332107193768024,
           -0.40405067801475525,
           6453.73876953125,
           0.02004576101899147,
           0.005229067988693714,
           2.738807439804077,
           2.9582552909851074,
           3.1076133251190186,
           0.016249923035502434,
           -69.03944396972656,
           -240.0780792236328,
           0.2883117198944092
          ],
          [
           "s",
           0.005504962522536516,
           0.0022644700948148966,
           0.005952498875558376,
           -0.5050255060195923,
           6849.9033203125,
           0.01688341051340103,
           0.005237536039203405,
           2.379028558731079,
           2.569207191467285,
           2.7037839889526367,
           0.014161165803670883,
           -1725.1602783203125,
           -893.3563232421875,
           0.3670773208141327
          ],
          [
           "s",
           0.005501177627593279,
           0.0022358980495482683,
           0.005938184913247824,
           -0.3219137191772461,
           6036.04638671875,
           0.022060265764594078,
           0.005250014830380678,
           2.928328514099121,
           3.1566972732543945,
           3.3121728897094727,
           0.017388956621289253,
           295.75762939453125,
           696.554443359375,
           0.2769777476787567
          ],
          [
           "s",
           0.005453547462821007,
           0.002510823542252183,
           0.00600376445800066,
           0.12777471542358398,
           6043.3134765625,
           0.02184053137898445,
           0.005156300496309996,
           2.774672269821167,
           3.0379416942596436,
           3.230703830718994,
           0.01665847934782505,
           -1221.1446533203125,
           -120.17671203613281,
           0.3591289818286896
          ],
          [
           "s",
           0.005473649129271507,
           0.0022580933291465044,
           0.005921122618019581,
           -0.03864296153187752,
           7621.51611328125,
           0.02011823281645775,
           0.005219746846705675,
           2.644343852996826,
           2.8532943725585938,
           2.999663829803467,
           0.015657484531402588,
           -1285.345947265625,
           -697.1033935546875,
           0.36016011238098145
          ],
          [
           "s",
           0.005462083965539932,
           0.002197164809331298,
           0.0058874208480119705,
           -0.0072164530865848064,
           6915.69384765625,
           0.018128089606761932,
           0.005222095642238855,
           2.4247827529907227,
           2.606943368911743,
           2.7337141036987305,
           0.014275716617703438,
           1221.1446533203125,
           120.17671203613281,
           0.38091784715652466
          ],
          [
           "s",
           0.005501453764736652,
           0.002112835645675659,
           0.00589320994913578,
           -0.8862041234970093,
           8752.0966796875,
           0.013179345987737179,
           0.00527743436396122,
           2.019721508026123,
           2.1633877754211426,
           2.2553842067718506,
           0.01190264243632555,
           1818.7054443359375,
           2235.822021484375,
           0.318096786737442
          ],
          [
           "s",
           0.005457371007651091,
           0.0018331550527364016,
           0.00575702078640461,
           -0.04737222567200661,
           9183.083984375,
           0.01676219329237938,
           0.005289372522383928,
           2.4348413944244385,
           2.5677404403686523,
           2.6501123905181885,
           0.014017432928085327,
           -55.19972229003906,
           -1048.894775390625,
           0.4547525942325592
          ],
          [
           "s",
           0.005476280115544796,
           0.0017261069733649492,
           0.005741857457906008,
           -0.34967589378356934,
           6311.43798828125,
           0.01500769518315792,
           0.005328417755663395,
           2.1692910194396973,
           2.2742650508880615,
           2.3376095294952393,
           0.012455759570002556,
           -1902.5079345703125,
           -1058.3858642578125,
           0.28202110528945923
          ],
          [
           "s",
           0.0054893651977181435,
           0.0018584236968308687,
           0.0057954019866883755,
           0.0312822051346302,
           5915.56982421875,
           0.01568714715540409,
           0.005316893104463816,
           2.314480781555176,
           2.4423675537109375,
           2.5227792263031006,
           0.013413346372544765,
           1902.5079345703125,
           1058.3858642578125,
           0.3039024770259857
          ],
          [
           "s",
           0.005465737544000149,
           0.0018018357222899795,
           0.005755067337304354,
           -0.8366949558258057,
           8760.9755859375,
           0.015423632226884365,
           0.005309110041707754,
           2.0674843788146973,
           2.17671275138855,
           2.24114990234375,
           0.011898511089384556,
           120.22765350341797,
           655.461669921875,
           0.3723088204860687
          ],
          [
           "s",
           0.005491730757057667,
           0.0019714566878974438,
           0.005834860261529684,
           -1.170823097229004,
           8819.3408203125,
           0.010458587668836117,
           0.005302835255861282,
           1.7926931381225586,
           1.9047025442123413,
           1.9725512266159058,
           0.010460113175213337,
           -119.59880065917969,
           -1207.7879638671875,
           0.15983395278453827
          ],
          [
           "s",
           0.0054967766627669334,
           0.002186988713219762,
           0.0059158531948924065,
           -0.5362294912338257,
           7214.59326171875,
           0.018873482942581177,
           0.005255948286503553,
           2.4500303268432617,
           2.6345877647399902,
           2.757641077041626,
           0.01449401956051588,
           -2281.26171875,
           -273.5978088378906,
           0.26514384150505066
          ],
          [
           "s",
           0.005484950263053179,
           0.0021715157199651003,
           0.005899153184145689,
           -0.5563986301422119,
           7331.572265625,
           0.018352389335632324,
           0.005243625957518816,
           2.410984754562378,
           2.5910115242004395,
           2.7123918533325195,
           0.014222768135368824,
           2281.26171875,
           273.5978088378906,
           0.2871016263961792
          ],
          [
           "s",
           0.005498953629285097,
           0.0022078549955040216,
           0.005925626493990421,
           -0.7380459308624268,
           9110.2919921875,
           0.0310512762516737,
           0.005255056079477072,
           3.005903720855713,
           3.237255811691284,
           3.3894712924957275,
           0.017811862751841545,
           360.19879150390625,
           149.16616821289062,
           0.4155322015285492
          ],
          [
           "s",
           0.005486559122800827,
           0.0018960675224661827,
           0.005804934073239565,
           -1.1603002548217773,
           7389.6494140625,
           0.014254597947001457,
           0.005313454195857048,
           2.1395137310028076,
           2.2634053230285645,
           2.3374130725860596,
           0.012419736944139004,
           119.59880065917969,
           1207.7879638671875,
           0.18178927898406982
          ],
          [
           "s",
           0.0055003296583890915,
           0.0018754432676360011,
           0.00581126194447279,
           -0.8772100806236267,
           7645.45556640625,
           0.014035276137292385,
           0.005331919528543949,
           2.002213954925537,
           2.1153135299682617,
           2.1822140216827393,
           0.011635389178991318,
           -1087.135009765625,
           -119.89205169677734,
           0.23043952882289886
          ],
          [
           "s",
           0.00546217430382967,
           0.0016194273484870791,
           0.005697167944163084,
           -0.3560388684272766,
           5265.63330078125,
           0.01392512395977974,
           0.005334049928933382,
           2.37345552444458,
           2.4754750728607178,
           2.535029411315918,
           0.01352197490632534,
           -853.9063110351562,
           -1765.091796875,
           0.21784882247447968
          ],
          [
           "s",
           0.005475301295518875,
           0.0020943840499967337,
           0.00586219085380435,
           -0.8469659090042114,
           10071.6962890625,
           0.015594327822327614,
           0.00525515154004097,
           2.220040798187256,
           2.3761510848999023,
           2.476484775543213,
           0.013014302588999271,
           -682.3966064453125,
           -125.89936828613281,
           0.36756840348243713
          ]
         ],
         "hovertemplate": "Cluster=%{x}<br>chatter_presence=%{customdata[0]}<br>med=%{customdata[1]}<br>std=%{customdata[2]}<br>rms=%{customdata[3]}<br>curtose=%{customdata[4]}<br>distortion=%{customdata[5]}<br>amplitude=%{customdata[6]}<br>sra=%{customdata[7]}<br>crest=%{customdata[8]}<br>impulse=%{customdata[9]}<br>margin=%{customdata[10]}<br>max=%{customdata[11]}<br>freq_max=%{customdata[12]}<br>freq_sec_highest=%{customdata[13]}<br>fft_mean=%{customdata[14]}<extra></extra>",
         "legendgroup": "Cluster 12",
         "marker": {
          "color": "#00cc96"
         },
         "name": "Cluster 12",
         "notched": true,
         "offsetgroup": "Cluster 12",
         "showlegend": false,
         "type": "box",
         "x": [
          "Cluster 12",
          "Cluster 12",
          "Cluster 12",
          "Cluster 12",
          "Cluster 12",
          "Cluster 12",
          "Cluster 12",
          "Cluster 12",
          "Cluster 12",
          "Cluster 12",
          "Cluster 12",
          "Cluster 12",
          "Cluster 12",
          "Cluster 12",
          "Cluster 12",
          "Cluster 12",
          "Cluster 12",
          "Cluster 12",
          "Cluster 12",
          "Cluster 12",
          "Cluster 12",
          "Cluster 12",
          "Cluster 12",
          "Cluster 12",
          "Cluster 12",
          "Cluster 12",
          "Cluster 12",
          "Cluster 12",
          "Cluster 12",
          "Cluster 12",
          "Cluster 12",
          "Cluster 12"
         ],
         "xaxis": "x2",
         "yaxis": "y2"
        },
        {
         "alignmentgroup": "True",
         "bingroup": "x",
         "hovertemplate": "Cluster=%{x}<br>count=%{y}<extra></extra>",
         "legendgroup": "Cluster 13",
         "marker": {
          "color": "#ab63fa",
          "opacity": 0.7,
          "pattern": {
           "shape": ""
          }
         },
         "name": "Cluster 13",
         "offsetgroup": "Cluster 13",
         "orientation": "v",
         "showlegend": true,
         "type": "histogram",
         "x": [
          "Cluster 13",
          "Cluster 13",
          "Cluster 13"
         ],
         "xaxis": "x",
         "yaxis": "y"
        },
        {
         "alignmentgroup": "True",
         "customdata": [
          [
           "c",
           0.005440704524517059,
           0.03066389262676239,
           0.031142583116889,
           -0.24499088525772095,
           6045.79541015625,
           0.2522902488708496,
           0.02188609354197979,
           4.134539604187012,
           5.056169509887695,
           5.8831987380981445,
           0.12876024842262268,
           -4018.263916015625,
           -3489.946044921875,
           6.7268476486206055
          ],
          [
           "c",
           0.005424237344413996,
           0.030498556792736053,
           0.03097691759467125,
           -0.16010773181915283,
           5521.84130859375,
           0.2687888741493225,
           0.022049464285373688,
           4.526732921600342,
           5.503958702087402,
           6.359529972076416,
           0.14022423326969147,
           4018.263916015625,
           3489.946044921875,
           6.7268476486206055
          ],
          [
           "c",
           0.005437604617327452,
           0.029008112847805023,
           0.029513128101825714,
           -0.42402008175849915,
           6093.9453125,
           0.2407563030719757,
           0.021094612777233124,
           4.1019134521484375,
           4.963529109954834,
           5.738919734954834,
           0.12106028944253922,
           845.3566284179688,
           783.31689453125,
           5.198611736297607
          ]
         ],
         "hovertemplate": "Cluster=%{x}<br>chatter_presence=%{customdata[0]}<br>med=%{customdata[1]}<br>std=%{customdata[2]}<br>rms=%{customdata[3]}<br>curtose=%{customdata[4]}<br>distortion=%{customdata[5]}<br>amplitude=%{customdata[6]}<br>sra=%{customdata[7]}<br>crest=%{customdata[8]}<br>impulse=%{customdata[9]}<br>margin=%{customdata[10]}<br>max=%{customdata[11]}<br>freq_max=%{customdata[12]}<br>freq_sec_highest=%{customdata[13]}<br>fft_mean=%{customdata[14]}<extra></extra>",
         "legendgroup": "Cluster 13",
         "marker": {
          "color": "#ab63fa"
         },
         "name": "Cluster 13",
         "notched": true,
         "offsetgroup": "Cluster 13",
         "showlegend": false,
         "type": "box",
         "x": [
          "Cluster 13",
          "Cluster 13",
          "Cluster 13"
         ],
         "xaxis": "x2",
         "yaxis": "y2"
        },
        {
         "alignmentgroup": "True",
         "bingroup": "x",
         "hovertemplate": "Cluster=%{x}<br>count=%{y}<extra></extra>",
         "legendgroup": "Cluster 14",
         "marker": {
          "color": "#FFA15A",
          "opacity": 0.7,
          "pattern": {
           "shape": ""
          }
         },
         "name": "Cluster 14",
         "offsetgroup": "Cluster 14",
         "orientation": "v",
         "showlegend": true,
         "type": "histogram",
         "x": [
          "Cluster 14",
          "Cluster 14",
          "Cluster 14",
          "Cluster 14",
          "Cluster 14",
          "Cluster 14",
          "Cluster 14",
          "Cluster 14",
          "Cluster 14",
          "Cluster 14",
          "Cluster 14",
          "Cluster 14",
          "Cluster 14",
          "Cluster 14",
          "Cluster 14",
          "Cluster 14",
          "Cluster 14",
          "Cluster 14"
         ],
         "xaxis": "x",
         "yaxis": "y"
        },
        {
         "alignmentgroup": "True",
         "customdata": [
          [
           "i",
           0.00552668422460556,
           0.004544324241578579,
           0.007154845632612705,
           3.9261794090270996,
           1743.699462890625,
           0.05026031658053398,
           0.005601109936833382,
           4.526787281036377,
           5.275152683258057,
           5.782508373260498,
           0.032388463616371155,
           897.964111328125,
           954.7617797851562,
           0.5737626552581787
          ],
          [
           "i",
           0.005470543168485165,
           0.004098869860172272,
           0.006835732609033585,
           1.7659655809402466,
           6135.287109375,
           0.04180097579956055,
           0.005381645634770393,
           3.6441545486450195,
           4.209433555603027,
           4.628782749176025,
           0.024910466745495796,
           1044.0947265625,
           1048.8447265625,
           0.5613875389099121
          ],
          [
           "i",
           0.005483505316078663,
           0.012358448468148708,
           0.013519453816115856,
           1.8634506464004517,
           1595.0355224609375,
           0.11090792715549469,
           0.008340887725353241,
           4.946725368499756,
           6.643486022949219,
           8.017974853515625,
           0.06687702983617783,
           -897.964111328125,
           -954.7617797851562,
           0.5518573522567749
          ],
          [
           "i",
           0.005494914948940277,
           0.005909129977226257,
           0.008068502880632877,
           1.8562157154083252,
           1543.2406005859375,
           0.051383331418037415,
           0.005697282496839762,
           3.614776849746704,
           4.43519926071167,
           5.119254112243652,
           0.029165836051106453,
           -980.7215576171875,
           -887.1290283203125,
           0.19638362526893616
          ],
          [
           "i",
           0.005463438108563423,
           0.004673128016293049,
           0.007189062424004078,
           1.400803565979004,
           1982.86572265625,
           0.03792908042669296,
           0.0054242610931396484,
           3.4482803344726562,
           4.078653812408447,
           4.570189952850342,
           0.024789903312921524,
           -455.9756774902344,
           -2122.020263671875,
           0.18213112652301788
          ],
          [
           "i",
           0.0054762400686740875,
           0.004585202783346176,
           0.007142241112887859,
           1.4975433349609375,
           3414.38330078125,
           0.04051917418837547,
           0.005533321760594845,
           3.2730793952941895,
           3.7938737869262695,
           4.224790096282959,
           0.02337712235748768,
           -1928.5614013671875,
           -1780.3643798828125,
           0.14651626348495483
          ],
          [
           "i",
           0.0055095963180065155,
           0.0030547587666660547,
           0.006299588363617659,
           3.3571064472198486,
           1870.578369140625,
           0.03328191488981247,
           0.00532354973256588,
           3.336341619491577,
           3.7000415325164795,
           3.9480385780334473,
           0.02101757936179638,
           -3556.25244140625,
           -2893.2548828125,
           0.11093037575483322
          ],
          [
           "i",
           0.005471128039062023,
           0.003885542042553425,
           0.006710130255669355,
           2.8671791553497314,
           1421.945556640625,
           0.0448041632771492,
           0.005275285337120295,
           3.9216670989990234,
           4.5292768478393555,
           4.988336086273193,
           0.02631489746272564,
           -2668.58642578125,
           -4837.212890625,
           0.13285131752490997
          ],
          [
           "i",
           0.005500054452568293,
           0.007433889899402857,
           0.009246863424777985,
           3.344325304031372,
           1615.158447265625,
           0.07438237965106964,
           0.006494406145066023,
           4.885331630706787,
           6.120264053344727,
           6.955831050872803,
           0.045173995196819305,
           4809.40771484375,
           3431.462646484375,
           0.4543217718601227
          ],
          [
           "i",
           0.005485984496772289,
           0.0108364662155509,
           0.012145213782787323,
           2.572413682937622,
           1851.5841064453125,
           0.08834255486726761,
           0.007714160718023777,
           4.263478755950928,
           5.682111740112305,
           6.712442874908447,
           0.05178086459636688,
           -4809.40771484375,
           -3431.462646484375,
           0.4543217718601227
          ],
          [
           "i",
           0.005510628689080477,
           0.0031334618106484413,
           0.006339088082313538,
           4.089519500732422,
           1930.8865966796875,
           0.0422968789935112,
           0.005288790445774794,
           4.08885383605957,
           4.566356182098389,
           4.900856971740723,
           0.025919605046510696,
           -612.37548828125,
           -1349.14599609375,
           0.16136513650417328
          ],
          [
           "i",
           0.005517412442713976,
           0.008530933409929276,
           0.010159531608223915,
           0.8343782424926758,
           4254.341796875,
           0.0818026214838028,
           0.006810234859585762,
           4.110924243927002,
           5.178433895111084,
           6.132690906524658,
           0.04003756120800972,
           -1098.6568603515625,
           -946.7471313476562,
           0.8465975522994995
          ],
          [
           "i",
           0.0054984730668365955,
           0.0036212685517966747,
           0.006583572831004858,
           3.4512972831726074,
           1943.50537109375,
           0.03637027367949486,
           0.005365903023630381,
           3.2114875316619873,
           3.639812469482422,
           3.9402616024017334,
           0.02114306204020977,
           -119.6723403930664,
           -1834.12255859375,
           0.1580311805009842
          ],
          [
           "i",
           0.005509663373231888,
           0.006492412183433771,
           0.008515063673257828,
           0.5440348982810974,
           4188.3603515625,
           0.06512491405010223,
           0.005837565753608942,
           4.002934455871582,
           4.969229698181152,
           5.838947296142578,
           0.034085240215063095,
           -3886.720947265625,
           -3913.654052734375,
           1.469128966331482
          ],
          [
           "i",
           0.005491261836141348,
           0.004618398379534483,
           0.007175151724368334,
           0.5527350306510925,
           4654.87646484375,
           0.04297499358654022,
           0.0052864449098706245,
           3.602015972137451,
           4.299264907836914,
           4.88892126083374,
           0.025845011696219444,
           1098.6568603515625,
           946.7471313476562,
           0.8685817122459412
          ],
          [
           "i",
           0.0054907361045479774,
           0.0028437175787985325,
           0.006183392833918333,
           1.7333643436431885,
           3764.34423828125,
           0.028136931359767914,
           0.005258915014564991,
           3.1839144229888916,
           3.51051664352417,
           3.7436227798461914,
           0.01968739554286003,
           -1183.4576416015625,
           -1038.9384765625,
           0.3950229585170746
          ],
          [
           "i",
           0.005497701466083527,
           0.005509974434971809,
           0.007783250417560339,
           1.5297741889953613,
           1779.3785400390625,
           0.05693932622671127,
           0.0056784567423164845,
           4.149548530578613,
           4.991766929626465,
           5.6876325607299805,
           0.03229697421193123,
           -905.55859375,
           -256.4454345703125,
           0.2521209418773651
          ],
          [
           "i",
           0.005514381919056177,
           0.0033292004372924566,
           0.006441381294280291,
           1.6296184062957764,
           3942.33447265625,
           0.033636659383773804,
           0.005266161635518074,
           3.472222089767456,
           3.918086290359497,
           4.247097969055176,
           0.022365905344486237,
           -884.9215087890625,
           -891.9880981445312,
           0.3249569535255432
          ]
         ],
         "hovertemplate": "Cluster=%{x}<br>chatter_presence=%{customdata[0]}<br>med=%{customdata[1]}<br>std=%{customdata[2]}<br>rms=%{customdata[3]}<br>curtose=%{customdata[4]}<br>distortion=%{customdata[5]}<br>amplitude=%{customdata[6]}<br>sra=%{customdata[7]}<br>crest=%{customdata[8]}<br>impulse=%{customdata[9]}<br>margin=%{customdata[10]}<br>max=%{customdata[11]}<br>freq_max=%{customdata[12]}<br>freq_sec_highest=%{customdata[13]}<br>fft_mean=%{customdata[14]}<extra></extra>",
         "legendgroup": "Cluster 14",
         "marker": {
          "color": "#FFA15A"
         },
         "name": "Cluster 14",
         "notched": true,
         "offsetgroup": "Cluster 14",
         "showlegend": false,
         "type": "box",
         "x": [
          "Cluster 14",
          "Cluster 14",
          "Cluster 14",
          "Cluster 14",
          "Cluster 14",
          "Cluster 14",
          "Cluster 14",
          "Cluster 14",
          "Cluster 14",
          "Cluster 14",
          "Cluster 14",
          "Cluster 14",
          "Cluster 14",
          "Cluster 14",
          "Cluster 14",
          "Cluster 14",
          "Cluster 14",
          "Cluster 14"
         ],
         "xaxis": "x2",
         "yaxis": "y2"
        },
        {
         "alignmentgroup": "True",
         "bingroup": "x",
         "hovertemplate": "Cluster=%{x}<br>count=%{y}<extra></extra>",
         "legendgroup": "Cluster 15",
         "marker": {
          "color": "#19d3f3",
          "opacity": 0.7,
          "pattern": {
           "shape": ""
          }
         },
         "name": "Cluster 15",
         "offsetgroup": "Cluster 15",
         "orientation": "v",
         "showlegend": true,
         "type": "histogram",
         "x": [
          "Cluster 15"
         ],
         "xaxis": "x",
         "yaxis": "y"
        },
        {
         "alignmentgroup": "True",
         "customdata": [
          [
           "c",
           0.005470529664307833,
           0.013462627306580544,
           0.014531060121953487,
           4.890751361846924,
           1399.00341796875,
           0.22184641659259796,
           0.00844015646725893,
           7.972018241882324,
           11.135601997375488,
           13.725086212158203,
           0.10600454360246658,
           -999.1403198242188,
           -1018.2443237304688,
           0.8040518760681152
          ]
         ],
         "hovertemplate": "Cluster=%{x}<br>chatter_presence=%{customdata[0]}<br>med=%{customdata[1]}<br>std=%{customdata[2]}<br>rms=%{customdata[3]}<br>curtose=%{customdata[4]}<br>distortion=%{customdata[5]}<br>amplitude=%{customdata[6]}<br>sra=%{customdata[7]}<br>crest=%{customdata[8]}<br>impulse=%{customdata[9]}<br>margin=%{customdata[10]}<br>max=%{customdata[11]}<br>freq_max=%{customdata[12]}<br>freq_sec_highest=%{customdata[13]}<br>fft_mean=%{customdata[14]}<extra></extra>",
         "legendgroup": "Cluster 15",
         "marker": {
          "color": "#19d3f3"
         },
         "name": "Cluster 15",
         "notched": true,
         "offsetgroup": "Cluster 15",
         "showlegend": false,
         "type": "box",
         "x": [
          "Cluster 15"
         ],
         "xaxis": "x2",
         "yaxis": "y2"
        },
        {
         "alignmentgroup": "True",
         "bingroup": "x",
         "hovertemplate": "Cluster=%{x}<br>count=%{y}<extra></extra>",
         "legendgroup": "Cluster 16",
         "marker": {
          "color": "#FF6692",
          "opacity": 0.7,
          "pattern": {
           "shape": ""
          }
         },
         "name": "Cluster 16",
         "offsetgroup": "Cluster 16",
         "orientation": "v",
         "showlegend": true,
         "type": "histogram",
         "x": [
          "Cluster 16"
         ],
         "xaxis": "x",
         "yaxis": "y"
        },
        {
         "alignmentgroup": "True",
         "customdata": [
          [
           "c",
           0.005478781647980213,
           0.025896456092596054,
           0.026468319818377495,
           19.269060134887695,
           1027.044189453125,
           0.4770222306251526,
           0.010077327489852905,
           9.383126258850098,
           17.591154098510742,
           24.64498519897461,
           0.24835559725761414,
           -933.5751342773438,
           -959.9744262695312,
           1.2836813926696777
          ]
         ],
         "hovertemplate": "Cluster=%{x}<br>chatter_presence=%{customdata[0]}<br>med=%{customdata[1]}<br>std=%{customdata[2]}<br>rms=%{customdata[3]}<br>curtose=%{customdata[4]}<br>distortion=%{customdata[5]}<br>amplitude=%{customdata[6]}<br>sra=%{customdata[7]}<br>crest=%{customdata[8]}<br>impulse=%{customdata[9]}<br>margin=%{customdata[10]}<br>max=%{customdata[11]}<br>freq_max=%{customdata[12]}<br>freq_sec_highest=%{customdata[13]}<br>fft_mean=%{customdata[14]}<extra></extra>",
         "legendgroup": "Cluster 16",
         "marker": {
          "color": "#FF6692"
         },
         "name": "Cluster 16",
         "notched": true,
         "offsetgroup": "Cluster 16",
         "showlegend": false,
         "type": "box",
         "x": [
          "Cluster 16"
         ],
         "xaxis": "x2",
         "yaxis": "y2"
        },
        {
         "alignmentgroup": "True",
         "bingroup": "x",
         "hovertemplate": "Cluster=%{x}<br>count=%{y}<extra></extra>",
         "legendgroup": "Cluster 17",
         "marker": {
          "color": "#B6E880",
          "opacity": 0.7,
          "pattern": {
           "shape": ""
          }
         },
         "name": "Cluster 17",
         "offsetgroup": "Cluster 17",
         "orientation": "v",
         "showlegend": true,
         "type": "histogram",
         "x": [
          "Cluster 17"
         ],
         "xaxis": "x",
         "yaxis": "y"
        },
        {
         "alignmentgroup": "True",
         "customdata": [
          [
           "c",
           0.005440111737698317,
           0.030929796397686005,
           0.03140294551849365,
           4.804506778717041,
           1433.119384765625,
           0.4225460886955261,
           0.017405059188604355,
           6.739824295043945,
           9.654864311218262,
           12.160277366638184,
           0.21165034174919128,
           -3812.965087890625,
           -3741.500244140625,
           2.7061190605163574
          ]
         ],
         "hovertemplate": "Cluster=%{x}<br>chatter_presence=%{customdata[0]}<br>med=%{customdata[1]}<br>std=%{customdata[2]}<br>rms=%{customdata[3]}<br>curtose=%{customdata[4]}<br>distortion=%{customdata[5]}<br>amplitude=%{customdata[6]}<br>sra=%{customdata[7]}<br>crest=%{customdata[8]}<br>impulse=%{customdata[9]}<br>margin=%{customdata[10]}<br>max=%{customdata[11]}<br>freq_max=%{customdata[12]}<br>freq_sec_highest=%{customdata[13]}<br>fft_mean=%{customdata[14]}<extra></extra>",
         "legendgroup": "Cluster 17",
         "marker": {
          "color": "#B6E880"
         },
         "name": "Cluster 17",
         "notched": true,
         "offsetgroup": "Cluster 17",
         "showlegend": false,
         "type": "box",
         "x": [
          "Cluster 17"
         ],
         "xaxis": "x2",
         "yaxis": "y2"
        },
        {
         "alignmentgroup": "True",
         "bingroup": "x",
         "hovertemplate": "Cluster=%{x}<br>count=%{y}<extra></extra>",
         "legendgroup": "Cluster 18",
         "marker": {
          "color": "#FF97FF",
          "opacity": 0.7,
          "pattern": {
           "shape": ""
          }
         },
         "name": "Cluster 18",
         "offsetgroup": "Cluster 18",
         "orientation": "v",
         "showlegend": true,
         "type": "histogram",
         "x": [
          "Cluster 18",
          "Cluster 18",
          "Cluster 18",
          "Cluster 18",
          "Cluster 18",
          "Cluster 18",
          "Cluster 18",
          "Cluster 18",
          "Cluster 18",
          "Cluster 18",
          "Cluster 18",
          "Cluster 18",
          "Cluster 18",
          "Cluster 18"
         ],
         "xaxis": "x",
         "yaxis": "y"
        },
        {
         "alignmentgroup": "True",
         "customdata": [
          [
           "i",
           0.005430170334875584,
           0.003911580424755812,
           0.006692115683108568,
           -0.4336514174938202,
           2966.703369140625,
           0.02393816038966179,
           0.0050895060412585735,
           2.4913413524627686,
           2.904330015182495,
           3.2758278846740723,
           0.016672344878315926,
           3298.135009765625,
           4905.3759765625,
           0.25155535340309143
          ],
          [
           "i",
           0.005442036781460047,
           0.003672948107123375,
           0.00656546838581562,
           1.1491849422454834,
           3516.2900390625,
           0.03286951035261154,
           0.0051687974482774734,
           3.408345937728882,
           3.929546356201172,
           4.329322338104248,
           0.022377388551831245,
           3717.50048828125,
           4653.83203125,
           0.32348117232322693
          ],
          [
           "i",
           0.00549654196947813,
           0.005630530882626772,
           0.007868527434766293,
           0.4228918254375458,
           4740.39111328125,
           0.04849923029541969,
           0.005556805990636349,
           3.5370032787323,
           4.319541931152344,
           5.008454322814941,
           0.027831008657813072,
           3886.720947265625,
           3913.654052734375,
           1.469128966331482
          ],
          [
           "i",
           0.005403828341513872,
           0.003200751030817628,
           0.00628044456243515,
           0.058551084250211716,
           2610.445068359375,
           0.023350579664111137,
           0.00504578510299325,
           2.620962619781494,
           2.9719464778900146,
           3.262289047241211,
           0.016460809856653214,
           3381.153076171875,
           3343.82177734375,
           0.13554981350898743
          ],
          [
           "i",
           0.005461576394736767,
           0.0031906114891171455,
           0.006325201131403446,
           -0.019251564517617226,
           4183.79833984375,
           0.027505166828632355,
           0.005084615666419268,
           2.986862897872925,
           3.387105941772461,
           3.7156214714050293,
           0.018892508000135422,
           2969.552490234375,
           2903.153564453125,
           0.452880322933197
          ],
          [
           "i",
           0.005464026238769293,
           0.004156976472586393,
           0.006865390110760927,
           -0.1883605420589447,
           3246.974853515625,
           0.02831892855465412,
           0.005274038761854172,
           2.5813961029052734,
           2.998218297958374,
           3.360288143157959,
           0.017722290009260178,
           2949.939453125,
           2917.2294921875,
           0.29246631264686584
          ],
          [
           "i",
           0.0054094018414616585,
           0.0031517536845058203,
           0.006260402034968138,
           -0.3630243241786957,
           2572.493896484375,
           0.019464004784822464,
           0.004984220955520868,
           2.427948474884033,
           2.769254207611084,
           3.0496108531951904,
           0.015199934132397175,
           3565.851806640625,
           2852.29736328125,
           0.14691311120986938
          ],
          [
           "i",
           0.005477515049278736,
           0.00257489993236959,
           0.006052443291991949,
           0.11346396803855896,
           2694.0029296875,
           0.02097025327384472,
           0.005173203535377979,
           2.743196487426758,
           3.012643814086914,
           3.2094314098358154,
           0.01660304144024849,
           2623.4228515625,
           4757.26806640625,
           0.1668783724308014
          ],
          [
           "i",
           0.005429863464087248,
           0.0024675498716533184,
           0.0059641823172569275,
           -0.4767788052558899,
           3753.059326171875,
           0.02014351263642311,
           0.005117734428495169,
           2.4008893966674805,
           2.6294705867767334,
           2.7979846000671387,
           0.014319341629743576,
           3263.591796875,
           4441.70947265625,
           0.16930659115314484
          ],
          [
           "i",
           0.005465163849294186,
           0.002641970757395029,
           0.006070073693990707,
           0.18163298070430756,
           2103.0185546875,
           0.021937044337391853,
           0.00517559377476573,
           2.655164957046509,
           2.9211909770965576,
           3.1140475273132324,
           0.016117045655846596,
           2668.58642578125,
           4837.212890625,
           0.13285131752490997
          ],
          [
           "i",
           0.005447710398584604,
           0.0035870701540261507,
           0.006522526498883963,
           -0.1524561643600464,
           3749.600830078125,
           0.025948498398065567,
           0.005060218274593353,
           2.6868491172790527,
           3.103106737136841,
           3.4632983207702637,
           0.017525045201182365,
           2875.252197265625,
           4689.85400390625,
           0.31724071502685547
          ],
          [
           "i",
           0.005438679363578558,
           0.001672485377639532,
           0.005689977668225765,
           -0.34567517042160034,
           3629.3720703125,
           0.010762826539576054,
           0.005300209857523441,
           1.8858082294464111,
           1.9729382991790771,
           2.024487018585205,
           0.010730206966400146,
           3545.410888671875,
           3456.348876953125,
           0.1040664091706276
          ],
          [
           "i",
           0.005461269058287144,
           0.0029379744082689285,
           0.006201369222253561,
           0.6638936400413513,
           7286.36181640625,
           0.02671707421541214,
           0.00517417723312974,
           3.0685513019561768,
           3.415217161178589,
           3.6777286529541016,
           0.019029218703508377,
           3492.732421875,
           3601.931884765625,
           0.43930864334106445
          ],
          [
           "i",
           0.005488038063049316,
           0.0021820764522999525,
           0.005905909463763237,
           -0.15640871226787567,
           5610.2734375,
           0.01828697882592678,
           0.005242966115474701,
           2.4403247833251953,
           2.623403787612915,
           2.748889923095703,
           0.014412336982786655,
           4886.3349609375,
           4985,
           0.2573882043361664
          ]
         ],
         "hovertemplate": "Cluster=%{x}<br>chatter_presence=%{customdata[0]}<br>med=%{customdata[1]}<br>std=%{customdata[2]}<br>rms=%{customdata[3]}<br>curtose=%{customdata[4]}<br>distortion=%{customdata[5]}<br>amplitude=%{customdata[6]}<br>sra=%{customdata[7]}<br>crest=%{customdata[8]}<br>impulse=%{customdata[9]}<br>margin=%{customdata[10]}<br>max=%{customdata[11]}<br>freq_max=%{customdata[12]}<br>freq_sec_highest=%{customdata[13]}<br>fft_mean=%{customdata[14]}<extra></extra>",
         "legendgroup": "Cluster 18",
         "marker": {
          "color": "#FF97FF"
         },
         "name": "Cluster 18",
         "notched": true,
         "offsetgroup": "Cluster 18",
         "showlegend": false,
         "type": "box",
         "x": [
          "Cluster 18",
          "Cluster 18",
          "Cluster 18",
          "Cluster 18",
          "Cluster 18",
          "Cluster 18",
          "Cluster 18",
          "Cluster 18",
          "Cluster 18",
          "Cluster 18",
          "Cluster 18",
          "Cluster 18",
          "Cluster 18",
          "Cluster 18"
         ],
         "xaxis": "x2",
         "yaxis": "y2"
        },
        {
         "alignmentgroup": "True",
         "bingroup": "x",
         "hovertemplate": "Cluster=%{x}<br>count=%{y}<extra></extra>",
         "legendgroup": "Cluster 19",
         "marker": {
          "color": "#FECB52",
          "opacity": 0.7,
          "pattern": {
           "shape": ""
          }
         },
         "name": "Cluster 19",
         "offsetgroup": "Cluster 19",
         "orientation": "v",
         "showlegend": true,
         "type": "histogram",
         "x": [
          "Cluster 19",
          "Cluster 19",
          "Cluster 19",
          "Cluster 19",
          "Cluster 19",
          "Cluster 19",
          "Cluster 19",
          "Cluster 19",
          "Cluster 19",
          "Cluster 19",
          "Cluster 19",
          "Cluster 19",
          "Cluster 19",
          "Cluster 19"
         ],
         "xaxis": "x",
         "yaxis": "y"
        },
        {
         "alignmentgroup": "True",
         "customdata": [
          [
           "s",
           0.005540335550904274,
           0.002149927197024226,
           0.005942728836089373,
           -0.8123438954353333,
           2884.016845703125,
           0.011411793529987335,
           0.005301720462739468,
           1.9371635913848877,
           2.077859401702881,
           2.171377658843994,
           0.011512037366628647,
           4403.64794921875,
           4756.41943359375,
           0.06496769934892654
          ],
          [
           "s",
           0.005488645285367966,
           0.00256414245814085,
           0.006058022379875183,
           -0.21976780891418457,
           5071.728515625,
           0.020889291539788246,
           0.005176255013793707,
           2.4641640186309814,
           2.7060706615448,
           2.8839306831359863,
           0.014927960932254791,
           4457.20849609375,
           3445.384765625,
           0.3394978642463684
          ],
          [
           "s",
           0.005482410080730915,
           0.0022261396516114473,
           0.005917124450206757,
           -0.4244825541973114,
           6561.84765625,
           0.01978469267487526,
           0.005234144162386656,
           2.693695068359375,
           2.903721332550049,
           3.0451834201812744,
           0.015938928350806236,
           4314.36572265625,
           4157.56689453125,
           0.35124021768569946
          ],
          [
           "s",
           0.005523898173123598,
           0.0020151224453002214,
           0.005879936274141073,
           -0.2652706503868103,
           4097.60595703125,
           0.01589474081993103,
           0.005321420729160309,
           2.1564998626708984,
           2.293912172317505,
           2.3828377723693848,
           0.012680081650614738,
           2366.96435546875,
           1610.1884765625,
           0.19273830950260162
          ],
          [
           "s",
           0.005499279126524925,
           0.0019062788924202323,
           0.005820262245833874,
           -0.5650927424430847,
           4052.61962890625,
           0.012318790890276432,
           0.005320033058524132,
           2.068575620651245,
           2.1892831325531006,
           2.263078451156616,
           0.012039653025567532,
           3657.114501953125,
           4569.4375,
           0.12025929987430573
          ],
          [
           "s",
           0.005533702205866575,
           0.00179616070818156,
           0.00581787247210741,
           -0.6338459849357605,
           4565.28857421875,
           0.010849733836948872,
           0.005378622096031904,
           1.9356931447982788,
           2.0350961685180664,
           2.093773365020752,
           0.011261614970862865,
           3561.805908203125,
           2538.798828125,
           0.1268792599439621
          ],
          [
           "s",
           0.00549387838691473,
           0.002885692985728383,
           0.0062055704183876514,
           -0.23478803038597107,
           3971.984619140625,
           0.02220122329890728,
           0.005116949323564768,
           2.536515951156616,
           2.8341732025146484,
           3.0761547088623047,
           0.01574052684009075,
           4208.634765625,
           3354.994384765625,
           0.28023409843444824
          ],
          [
           "s",
           0.005467300768941641,
           0.0017841124208644032,
           0.005751019809395075,
           -0.1697576940059662,
           5768.9423828125,
           0.013416372239589691,
           0.0053075989708304405,
           2.166449546813965,
           2.278726100921631,
           2.347444534301758,
           0.012459293939173222,
           3566.343017578125,
           3533.863525390625,
           0.21597589552402496
          ],
          [
           "s",
           0.005466736387461424,
           0.001781868515536189,
           0.00574979092925787,
           -0.2104889303445816,
           5966.76953125,
           0.014539611525833607,
           0.005308777559548616,
           2.294564962387085,
           2.4130470752716064,
           2.485180377960205,
           0.01319326926022768,
           2843.6953125,
           3389.2880859375,
           0.2286866307258606
          ],
          [
           "s",
           0.00549525860697031,
           0.002036670222878456,
           0.005860499106347561,
           -0.22794109582901,
           4286.1123046875,
           0.015752164646983147,
           0.005283369682729244,
           2.258415937423706,
           2.4071145057678223,
           2.5051143169403076,
           0.013235445134341717,
           3290.578857421875,
           3965.2275390625,
           0.14750953018665314
          ],
          [
           "s",
           0.005521612241864204,
           0.002218383364379406,
           0.005950449965894222,
           -0.5893299579620361,
           2756.294677734375,
           0.013980529271066189,
           0.00526602054014802,
           2.026813268661499,
           2.1824443340301514,
           2.2902400493621826,
           0.01206045038998127,
           3205.343505859375,
           4745.22021484375,
           0.06569874286651611
          ],
          [
           "s",
           0.005504037253558636,
           0.0025968956761062145,
           0.006085687782615423,
           -0.35900506377220154,
           2251.31103515625,
           0.015399744734168053,
           0.005165047477930784,
           2.218740463256836,
           2.445401906967163,
           2.614218235015869,
           0.01350256148725748,
           4968.5029296875,
           4944.50537109375,
           0.1180541068315506
          ],
          [
           "s",
           0.005453393328934908,
           0.0017060121754184365,
           0.00571396155282855,
           -0.6461814641952515,
           3689.88330078125,
           0.010451685637235641,
           0.005309211555868387,
           1.854905366897583,
           1.9435343742370605,
           1.9963148832321167,
           0.010598857887089252,
           4134.712890625,
           4659.48486328125,
           0.11471675336360931
          ],
          [
           "s",
           0.005496702156960964,
           0.0026086282450705767,
           0.006083999294787645,
           -0.25204896926879883,
           1903.230712890625,
           0.015713516622781754,
           0.005167562048882246,
           2.2720115184783936,
           2.5035386085510254,
           2.6749396324157715,
           0.013822916895151138,
           3546.19384765625,
           3612.8515625,
           0.11797477304935455
          ]
         ],
         "hovertemplate": "Cluster=%{x}<br>chatter_presence=%{customdata[0]}<br>med=%{customdata[1]}<br>std=%{customdata[2]}<br>rms=%{customdata[3]}<br>curtose=%{customdata[4]}<br>distortion=%{customdata[5]}<br>amplitude=%{customdata[6]}<br>sra=%{customdata[7]}<br>crest=%{customdata[8]}<br>impulse=%{customdata[9]}<br>margin=%{customdata[10]}<br>max=%{customdata[11]}<br>freq_max=%{customdata[12]}<br>freq_sec_highest=%{customdata[13]}<br>fft_mean=%{customdata[14]}<extra></extra>",
         "legendgroup": "Cluster 19",
         "marker": {
          "color": "#FECB52"
         },
         "name": "Cluster 19",
         "notched": true,
         "offsetgroup": "Cluster 19",
         "showlegend": false,
         "type": "box",
         "x": [
          "Cluster 19",
          "Cluster 19",
          "Cluster 19",
          "Cluster 19",
          "Cluster 19",
          "Cluster 19",
          "Cluster 19",
          "Cluster 19",
          "Cluster 19",
          "Cluster 19",
          "Cluster 19",
          "Cluster 19",
          "Cluster 19",
          "Cluster 19"
         ],
         "xaxis": "x2",
         "yaxis": "y2"
        },
        {
         "alignmentgroup": "True",
         "bingroup": "x",
         "hovertemplate": "Cluster=%{x}<br>count=%{y}<extra></extra>",
         "legendgroup": "Cluster 20",
         "marker": {
          "color": "#636efa",
          "opacity": 0.7,
          "pattern": {
           "shape": ""
          }
         },
         "name": "Cluster 20",
         "offsetgroup": "Cluster 20",
         "orientation": "v",
         "showlegend": true,
         "type": "histogram",
         "x": [
          "Cluster 20",
          "Cluster 20",
          "Cluster 20",
          "Cluster 20",
          "Cluster 20",
          "Cluster 20",
          "Cluster 20",
          "Cluster 20",
          "Cluster 20",
          "Cluster 20",
          "Cluster 20",
          "Cluster 20",
          "Cluster 20",
          "Cluster 20",
          "Cluster 20",
          "Cluster 20",
          "Cluster 20"
         ],
         "xaxis": "x",
         "yaxis": "y"
        },
        {
         "alignmentgroup": "True",
         "customdata": [
          [
           "c",
           0.005376431159675121,
           0.005372424144297838,
           0.007600299548357725,
           -0.0879744365811348,
           2861.109619140625,
           0.03888128325343132,
           0.00571365375071764,
           2.82977294921875,
           3.3306691646575928,
           3.76416277885437,
           0.021507123485207558,
           -4785.34130859375,
           -4715.6298828125,
           0.2190961241722107
          ],
          [
           "c",
           0.005502176471054554,
           0.004964347463101149,
           0.007410581689327955,
           2.7852392196655273,
           2721.714111328125,
           0.05916944891214371,
           0.005499128717929125,
           4.105060577392578,
           4.88846492767334,
           5.531946182250977,
           0.030420884490013123,
           -3501.72998046875,
           -3860.122802734375,
           0.8496307134628296
          ],
          [
           "c",
           0.005489754024893045,
           0.004265072289854288,
           0.006951732095330954,
           1.649670958518982,
           3111.146484375,
           0.03753380849957466,
           0.005421981681138277,
           3.3597302436828613,
           3.9045515060424805,
           4.307640075683594,
           0.023355945944786072,
           -46.170372009277344,
           -1095.9749755859375,
           0.2905389666557312
          ],
          [
           "c",
           0.0054320236667990685,
           0.007904776372015476,
           0.009590569883584976,
           0.195081889629364,
           1815.751953125,
           0.061786528676748276,
           0.00659922556951642,
           3.765127182006836,
           4.685303211212158,
           5.471810817718506,
           0.036109715700149536,
           -4686.14990234375,
           -4728.28125,
           0.32989367842674255
          ],
          [
           "c",
           0.0054398407228291035,
           0.0030783298425376415,
           0.006250415463000536,
           1.5288623571395874,
           4602.1552734375,
           0.03689311444759369,
           0.0051916674710810184,
           3.9350709915161133,
           4.394488334655762,
           4.737558364868164,
           0.024595826864242554,
           -2411.5625,
           -41.14254379272461,
           0.8040634989738464
          ],
          [
           "c",
           0.0054620178416371346,
           0.005098254419863224,
           0.00747154513373971,
           -0.14483614265918732,
           3704.090087890625,
           0.04088975489139557,
           0.0054189059883356094,
           3.200249195098877,
           3.8394954204559326,
           4.412478923797607,
           0.023910807445645332,
           -1089.9361572265625,
           -430.392333984375,
           0.33895930647850037
          ],
          [
           "c",
           0.0055053806863725185,
           0.005145737435668707,
           0.007535629440099001,
           1.5451947450637817,
           2786.933349609375,
           0.05142125114798546,
           0.005557830911129713,
           4.009119510650635,
           4.792065143585205,
           5.435797214508057,
           0.03021124191582203,
           -1071.778564453125,
           -1259.5748291015625,
           1.2636433839797974
          ],
          [
           "c",
           0.005451781675219536,
           0.0037267820443958044,
           0.006603817455470562,
           1.0196261405944824,
           4176.30517578125,
           0.04339423403143883,
           0.005178686697036028,
           4.336169719696045,
           4.999804973602295,
           5.529447078704834,
           0.02863527461886406,
           2411.5625,
           41.14254379272461,
           0.8258324861526489
          ],
          [
           "c",
           0.005454538390040398,
           0.0028828242793679237,
           0.006169483065605164,
           1.5214414596557617,
           5888.69091796875,
           0.04004450887441635,
           0.005189887247979641,
           4.054879188537598,
           4.497560501098633,
           4.820241451263428,
           0.025016507133841515,
           409.7735595703125,
           1614.020263671875,
           0.6741961240768433
          ],
          [
           "c",
           0.0054894667118787766,
           0.0024342848919332027,
           0.006004988215863705,
           1.0384842157363892,
           5831.45556640625,
           0.03640313446521759,
           0.00523718586191535,
           4.094630241394043,
           4.449277877807617,
           4.694927215576172,
           0.02458820678293705,
           -4371.75048828125,
           -4928.85498046875,
           0.6642183661460876
          ],
          [
           "c",
           0.005430042278021574,
           0.004537504632025957,
           0.007076216861605644,
           0.17883048951625824,
           3329.527099609375,
           0.039666797965765,
           0.005280687473714352,
           3.560087203979492,
           4.207113742828369,
           4.770581245422363,
           0.02519194781780243,
           -2930.081298828125,
           -2980.213623046875,
           0.6287297010421753
          ],
          [
           "c",
           0.00543926702812314,
           0.004287320654839277,
           0.006925560068339109,
           -0.0037462019827216864,
           2601.310546875,
           0.02928098477423191,
           0.005230797454714775,
           2.8408029079437256,
           3.3395097255706787,
           3.761214256286621,
           0.01967415027320385,
           -2940.20849609375,
           -2889.925048828125,
           0.30924949049949646
          ],
          [
           "c",
           0.005443515721708536,
           0.0037723511923104525,
           0.006622814107686281,
           -0.027202283963561058,
           4174.33251953125,
           0.03138965368270874,
           0.005115780513733625,
           3.139702081680298,
           3.637246608734131,
           4.064611911773682,
           0.02079366333782673,
           -2358.947509765625,
           -2360.402099609375,
           0.40860313177108765
          ],
          [
           "c",
           0.005453702062368393,
           0.0035187897738069296,
           0.006490328814834356,
           1.1884369850158691,
           4794.240234375,
           0.03594494238495827,
           0.0051653627306222916,
           3.7775368690490723,
           4.321074962615967,
           4.746511936187744,
           0.02451745606958866,
           -2508.781005859375,
           -2696.1318359375,
           0.8072932958602905
          ],
          [
           "c",
           0.005466160364449024,
           0.0024127215147018433,
           0.005974950734525919,
           0.524776041507721,
           6293.333984375,
           0.031540460884571075,
           0.005200555548071861,
           3.7941970825195312,
           4.124741077423096,
           4.3591766357421875,
           0.022670140489935875,
           -409.7735595703125,
           -1614.020263671875,
           0.6523653864860535
          ],
          [
           "c",
           0.005447982810437679,
           0.00384434312582016,
           0.006667730398476124,
           0.09637430310249329,
           4262.47412109375,
           0.03174198791384697,
           0.005140203516930342,
           3.0749030113220215,
           3.5655243396759033,
           3.9886794090270996,
           0.020502625033259392,
           -2963.44775390625,
           -2947.1572265625,
           0.5450159311294556
          ],
          [
           "c",
           0.005478181876242161,
           0.005433501675724983,
           0.007715615443885326,
           0.6549177169799805,
           3356.736083984375,
           0.039241891354322433,
           0.005587933585047722,
           3.114290475845337,
           3.767371892929077,
           4.300098896026611,
           0.02402866818010807,
           -3616.60302734375,
           -3893.168212890625,
           0.20060297846794128
          ]
         ],
         "hovertemplate": "Cluster=%{x}<br>chatter_presence=%{customdata[0]}<br>med=%{customdata[1]}<br>std=%{customdata[2]}<br>rms=%{customdata[3]}<br>curtose=%{customdata[4]}<br>distortion=%{customdata[5]}<br>amplitude=%{customdata[6]}<br>sra=%{customdata[7]}<br>crest=%{customdata[8]}<br>impulse=%{customdata[9]}<br>margin=%{customdata[10]}<br>max=%{customdata[11]}<br>freq_max=%{customdata[12]}<br>freq_sec_highest=%{customdata[13]}<br>fft_mean=%{customdata[14]}<extra></extra>",
         "legendgroup": "Cluster 20",
         "marker": {
          "color": "#636efa"
         },
         "name": "Cluster 20",
         "notched": true,
         "offsetgroup": "Cluster 20",
         "showlegend": false,
         "type": "box",
         "x": [
          "Cluster 20",
          "Cluster 20",
          "Cluster 20",
          "Cluster 20",
          "Cluster 20",
          "Cluster 20",
          "Cluster 20",
          "Cluster 20",
          "Cluster 20",
          "Cluster 20",
          "Cluster 20",
          "Cluster 20",
          "Cluster 20",
          "Cluster 20",
          "Cluster 20",
          "Cluster 20",
          "Cluster 20"
         ],
         "xaxis": "x2",
         "yaxis": "y2"
        },
        {
         "alignmentgroup": "True",
         "bingroup": "x",
         "hovertemplate": "Cluster=%{x}<br>count=%{y}<extra></extra>",
         "legendgroup": "Cluster 21",
         "marker": {
          "color": "#EF553B",
          "opacity": 0.7,
          "pattern": {
           "shape": ""
          }
         },
         "name": "Cluster 21",
         "offsetgroup": "Cluster 21",
         "orientation": "v",
         "showlegend": true,
         "type": "histogram",
         "x": [
          "Cluster 21",
          "Cluster 21",
          "Cluster 21",
          "Cluster 21",
          "Cluster 21",
          "Cluster 21",
          "Cluster 21",
          "Cluster 21",
          "Cluster 21",
          "Cluster 21",
          "Cluster 21",
          "Cluster 21",
          "Cluster 21",
          "Cluster 21",
          "Cluster 21",
          "Cluster 21",
          "Cluster 21",
          "Cluster 21",
          "Cluster 21",
          "Cluster 21",
          "Cluster 21",
          "Cluster 21",
          "Cluster 21"
         ],
         "xaxis": "x",
         "yaxis": "y"
        },
        {
         "alignmentgroup": "True",
         "customdata": [
          [
           "s",
           0.00543445348739624,
           0.0019519866909831762,
           0.005774376448243856,
           -0.6808812022209167,
           7725.54541015625,
           0.015357173047959805,
           0.005246514454483986,
           2.344538927078247,
           2.4907515048980713,
           2.580427408218384,
           0.013538249768316746,
           3239.746826171875,
           3586.33447265625,
           0.18972289562225342
          ],
          [
           "s",
           0.005428064148873091,
           0.0018827037420123816,
           0.005745242349803448,
           -1.0319925546646118,
           4126.6162109375,
           0.010571036487817764,
           0.005250330548733473,
           1.7915642261505127,
           1.896213412284851,
           1.9604424238204956,
           0.010292970575392246,
           1255.2569580078125,
           2483.543701171875,
           0.1600928008556366
          ],
          [
           "s",
           0.005441175773739815,
           0.0021597689483314753,
           0.005854129325598478,
           -0.26023736596107483,
           6612.03857421875,
           0.0183732770383358,
           0.005201243795454502,
           2.536069869995117,
           2.724729537963867,
           2.85440993309021,
           0.014846481382846832,
           3863.343505859375,
           4757.82421875,
           0.32673653960227966
          ],
          [
           "s",
           0.005433240905404091,
           0.002028388436883688,
           0.005799494683742523,
           -0.420009046792984,
           4850.060546875,
           0.0167190320789814,
           0.005231131333857775,
           2.30470609664917,
           2.457563877105713,
           2.555112600326538,
           0.01336613018065691,
           4541.9091796875,
           4546.9091796875,
           0.09078150987625122
          ],
          [
           "s",
           0.005433171521872282,
           0.0019830954261124134,
           0.005783710163086653,
           -1.0487672090530396,
           4004.7841796875,
           0.010036299005150795,
           0.0052351029589772224,
           1.8460332155227661,
           1.965135931968689,
           2.0394864082336426,
           0.010676921345293522,
           3606.6923828125,
           4888.91943359375,
           0.07017181068658829
          ],
          [
           "s",
           0.00543499831110239,
           0.002595876343548298,
           0.006023071240633726,
           -0.1840820163488388,
           4968.65283203125,
           0.019489558413624763,
           0.0050995731726288795,
           2.638068437576294,
           2.909839391708374,
           3.11580491065979,
           0.015889275819063187,
           2958.64794921875,
           2900.321533203125,
           0.4784005880355835
          ],
          [
           "s",
           0.005427555181086063,
           0.002306296955794096,
           0.005897088907659054,
           -0.8425548672676086,
           2527.06298828125,
           0.013647757470607758,
           0.005147462710738182,
           2.2103915214538574,
           2.401437282562256,
           2.5322911739349365,
           0.013034874573349953,
           4984.4013671875,
           4995.6005859375,
           0.07755571603775024
          ],
          [
           "s",
           0.005468458868563175,
           0.0021950858645141125,
           0.005892562214285135,
           -0.5661486387252808,
           6260.8759765625,
           0.019126705825328827,
           0.005222182720899582,
           2.8231537342071533,
           3.039930582046509,
           3.1855664253234863,
           0.016635609790682793,
           4312.28564453125,
           3752.77001953125,
           0.3687346279621124
          ],
          [
           "s",
           0.005466510076075792,
           0.002554373349994421,
           0.006033780984580517,
           1.406596064567566,
           2328.811767578125,
           0.027255594730377197,
           0.0052129486575722694,
           3.3916075229644775,
           3.704620599746704,
           3.9256508350372314,
           0.0204642154276371,
           2696.292236328125,
           4574.216796875,
           0.14741957187652588
          ],
          [
           "s",
           0.005430488847196102,
           0.0019755037501454353,
           0.005778639577329159,
           -0.5720206499099731,
           7365.556640625,
           0.015402852557599545,
           0.005232602823525667,
           2.2125494480133057,
           2.353964328765869,
           2.443434953689575,
           0.012785525992512703,
           2527.505615234375,
           3546.88427734375,
           0.1829008311033249
          ],
          [
           "s",
           0.005401122849434614,
           0.002148665953427553,
           0.005812798626720905,
           -0.9730481505393982,
           6258.07861328125,
           0.013461253605782986,
           0.00516239320859313,
           2.1135988235473633,
           2.274507999420166,
           2.3798892498016357,
           0.012285924516618252,
           4165.9404296875,
           3292.81005859375,
           0.14619438350200653
          ],
          [
           "s",
           0.005419584456831217,
           0.0019362767925485969,
           0.0057550352066755295,
           -1.0634878873825073,
           3991.2626953125,
           0.010464268736541271,
           0.00523413484916091,
           1.9300719499588013,
           2.0495357513427734,
           2.12215256690979,
           0.011107632890343666,
           2783.8828125,
           3648.267333984375,
           0.09422953426837921
          ],
          [
           "s",
           0.005477868486195803,
           0.0019954924937337637,
           0.005829997826367617,
           -0.08859764784574509,
           4644.2802734375,
           0.026160823181271553,
           0.005295480601489544,
           3.4036972522735596,
           3.618166208267212,
           3.747260808944702,
           0.01984354667365551,
           2895.171142578125,
           2945.970458984375,
           0.15961261093616486
          ],
          [
           "s",
           0.0054509202018380165,
           0.0017034098273143172,
           0.00571086909621954,
           -0.8886247277259827,
           7128.947265625,
           0.014297897927463055,
           0.005311600863933563,
           2.2859694957733154,
           2.3949294090270996,
           2.457803964614868,
           0.013054872862994671,
           2384.918701171875,
           2215.979248046875,
           0.303166002035141
          ],
          [
           "s",
           0.0054363347589969635,
           0.003000939032062888,
           0.006209547631442547,
           -0.2094273567199707,
           3443.927734375,
           0.02578909508883953,
           0.005053672008216381,
           2.925133466720581,
           3.292862892150879,
           3.594170093536377,
           0.018163755536079407,
           1532.51611328125,
           2369.910888671875,
           0.32668715715408325
          ],
          [
           "s",
           0.0054472689516842365,
           0.003449385752901435,
           0.006447466555982828,
           -0.017148001119494438,
           3098.107421875,
           0.029472414404153824,
           0.005096809938549995,
           3.2513232231140137,
           3.7165651321411133,
           4.112925052642822,
           0.020962798967957497,
           2535.322265625,
           2538.768310546875,
           0.34503066539764404
          ],
          [
           "s",
           0.005446700379252434,
           0.0024801716208457947,
           0.0059847766533494,
           -0.5864058136940002,
           6213.5029296875,
           0.018484795466065407,
           0.005119314882904291,
           2.544403314590454,
           2.7887766361236572,
           2.974555253982544,
           0.015227685682475567,
           2410.3759765625,
           1259.6873779296875,
           0.4757958650588989
          ],
          [
           "s",
           0.0054743364453315735,
           0.002172880107536912,
           0.005889792460948229,
           -0.09894217550754547,
           6846.455078125,
           0.021890005096793175,
           0.005239972844719887,
           2.9436392784118652,
           3.1599459648132324,
           3.3086860179901123,
           0.01733742468059063,
           3553.947265625,
           3472.655517578125,
           0.38830146193504333
          ],
          [
           "s",
           0.0054521323181688786,
           0.0022732482757419348,
           0.0059069241397082806,
           -0.15787483751773834,
           2323.401123046875,
           0.016377180814743042,
           0.005190995521843433,
           2.4038033485412598,
           2.5997986793518066,
           2.7353296279907227,
           0.014199083670973778,
           3462.39990234375,
           3953.60009765625,
           0.0871792808175087
          ],
          [
           "s",
           0.00547430757433176,
           0.002763827797025442,
           0.006132412236183882,
           0.16914553940296173,
           5195.5654296875,
           0.025543227791786194,
           0.005144244991242886,
           3.0426833629608154,
           3.3731086254119873,
           3.627157688140869,
           0.018658988177776337,
           4937.650390625,
           3243.567626953125,
           0.34607189893722534
          ],
          [
           "s",
           0.00544407544657588,
           0.0030089563224464655,
           0.006220242474228144,
           0.06472335755825043,
           4560.84765625,
           0.029354292899370193,
           0.005075166001915932,
           3.4659323692321777,
           3.8979012966156006,
           4.247927665710449,
           0.021558938547968864,
           3302.56689453125,
           2890.77099609375,
           0.39637187123298645
          ],
          [
           "s",
           0.0054525407031178474,
           0.0025112349539995193,
           0.006003021262586117,
           -0.19760683178901672,
           6044.3037109375,
           0.021645141765475273,
           0.0051449136808514595,
           2.696080446243286,
           2.954263925552368,
           3.1457533836364746,
           0.016184629872441292,
           4790.7314453125,
           4952.423828125,
           0.32196253538131714
          ],
          [
           "s",
           0.005451071076095104,
           0.0020825855899602175,
           0.005835343152284622,
           -0.2694534361362457,
           8535.1708984375,
           0.017656434327363968,
           0.005228664726018906,
           2.361319065093994,
           2.5244009494781494,
           2.635301351547241,
           0.013779107481241226,
           3692.223388671875,
           2939.85888671875,
           0.3041871190071106
          ]
         ],
         "hovertemplate": "Cluster=%{x}<br>chatter_presence=%{customdata[0]}<br>med=%{customdata[1]}<br>std=%{customdata[2]}<br>rms=%{customdata[3]}<br>curtose=%{customdata[4]}<br>distortion=%{customdata[5]}<br>amplitude=%{customdata[6]}<br>sra=%{customdata[7]}<br>crest=%{customdata[8]}<br>impulse=%{customdata[9]}<br>margin=%{customdata[10]}<br>max=%{customdata[11]}<br>freq_max=%{customdata[12]}<br>freq_sec_highest=%{customdata[13]}<br>fft_mean=%{customdata[14]}<extra></extra>",
         "legendgroup": "Cluster 21",
         "marker": {
          "color": "#EF553B"
         },
         "name": "Cluster 21",
         "notched": true,
         "offsetgroup": "Cluster 21",
         "showlegend": false,
         "type": "box",
         "x": [
          "Cluster 21",
          "Cluster 21",
          "Cluster 21",
          "Cluster 21",
          "Cluster 21",
          "Cluster 21",
          "Cluster 21",
          "Cluster 21",
          "Cluster 21",
          "Cluster 21",
          "Cluster 21",
          "Cluster 21",
          "Cluster 21",
          "Cluster 21",
          "Cluster 21",
          "Cluster 21",
          "Cluster 21",
          "Cluster 21",
          "Cluster 21",
          "Cluster 21",
          "Cluster 21",
          "Cluster 21",
          "Cluster 21"
         ],
         "xaxis": "x2",
         "yaxis": "y2"
        },
        {
         "alignmentgroup": "True",
         "bingroup": "x",
         "hovertemplate": "Cluster=%{x}<br>count=%{y}<extra></extra>",
         "legendgroup": "Cluster 22",
         "marker": {
          "color": "#00cc96",
          "opacity": 0.7,
          "pattern": {
           "shape": ""
          }
         },
         "name": "Cluster 22",
         "offsetgroup": "Cluster 22",
         "orientation": "v",
         "showlegend": true,
         "type": "histogram",
         "x": [
          "Cluster 22",
          "Cluster 22",
          "Cluster 22",
          "Cluster 22",
          "Cluster 22",
          "Cluster 22",
          "Cluster 22",
          "Cluster 22",
          "Cluster 22",
          "Cluster 22"
         ],
         "xaxis": "x",
         "yaxis": "y"
        },
        {
         "alignmentgroup": "True",
         "customdata": [
          [
           "c",
           0.005429267417639494,
           0.001713036559522152,
           0.005693049635738134,
           -0.4285490810871124,
           3411.74169921875,
           0.012570244260132313,
           0.005281630903482437,
           2.0060012340545654,
           2.103271484375,
           2.1622607707977295,
           0.011420263908803463,
           1275.1319580078125,
           1112.4739990234375,
           0.43834781646728516
          ],
          [
           "c",
           0.005464764777570963,
           0.011370640248060226,
           0.01261543482542038,
           -0.8768990635871887,
           5244.9951171875,
           0.06270983070135117,
           0.008517426438629627,
           2.819356918334961,
           3.5082714557647705,
           4.175840377807617,
           0.03556741029024124,
           3163.278076171875,
           3158.478271484375,
           0.8307616710662842
          ],
          [
           "c",
           0.0054481057450175285,
           0.0019740478601306677,
           0.005794642958790064,
           0.21854610741138458,
           2811.01953125,
           0.017305472865700722,
           0.005255425814539194,
           2.434194564819336,
           2.587493658065796,
           2.683947801589966,
           0.014105288311839104,
           4686.14990234375,
           4728.28125,
           0.32989367842674255
          ],
          [
           "c",
           0.005432199686765671,
           0.002694333204999566,
           0.006063670385628939,
           0.9997528195381165,
           6438.73779296875,
           0.03622986003756523,
           0.005144326947629452,
           3.7085673809051514,
           4.091951370239258,
           4.371325492858887,
           0.02248753048479557,
           4371.75048828125,
           4928.85498046875,
           0.664210319519043
          ],
          [
           "c",
           0.0054483553394675255,
           0.0038510647136718035,
           0.006671943236142397,
           1.0764966011047363,
           4536.181640625,
           0.04501352459192276,
           0.00521817896515131,
           3.992335319519043,
           4.607914924621582,
           5.104584217071533,
           0.026636634021997452,
           2508.781005859375,
           2696.1318359375,
           0.8072932958602905
          ],
          [
           "c",
           0.005464070942252874,
           0.0016391787212342024,
           0.0057046241126954556,
           -0.4247739315032959,
           4852.32421875,
           0.012595794163644314,
           0.005332255270332098,
           2.1548991203308105,
           2.249725580215454,
           2.3053829669952393,
           0.012292889878153801,
           46.170372009277344,
           1095.9749755859375,
           0.31241050362586975
          ],
          [
           "c",
           0.0054709818214178085,
           0.0037301145493984222,
           0.006621524225920439,
           0.002754657529294491,
           4956.61669921875,
           0.026380006223917007,
           0.005150576122105122,
           2.6444718837738037,
           3.0538249015808105,
           3.3997042179107666,
           0.017510436475276947,
           2358.947509765625,
           2360.402099609375,
           0.4304044246673584
          ],
          [
           "c",
           0.005462903529405594,
           0.0036825404968112707,
           0.0065881432965397835,
           0.049721308052539825,
           4562.59912109375,
           0.029167423024773598,
           0.0051199705339968204,
           2.8727383613586426,
           3.3175289630889893,
           3.696507692337036,
           0.01892601139843464,
           2963.44775390625,
           2947.1572265625,
           0.5450159311294556
          ],
          [
           "c",
           0.005420277360826731,
           0.00482973363250494,
           0.00725975725799799,
           0.05820496007800102,
           3633.917724609375,
           0.037505555897951126,
           0.0052998485043644905,
           3.2621169090270996,
           3.9043564796447754,
           4.468462944030762,
           0.02368217706680298,
           2930.081298828125,
           2980.213623046875,
           0.6287297010421753
          ],
          [
           "c",
           0.005466594360768795,
           0.002200514078140259,
           0.005892832763493061,
           0.5361056327819824,
           3971.92236328125,
           0.019671546295285225,
           0.005233346484601498,
           2.6322710514068604,
           2.8292810916900635,
           2.963979721069336,
           0.015511532314121723,
           3616.60302734375,
           3893.168212890625,
           0.20060297846794128
          ]
         ],
         "hovertemplate": "Cluster=%{x}<br>chatter_presence=%{customdata[0]}<br>med=%{customdata[1]}<br>std=%{customdata[2]}<br>rms=%{customdata[3]}<br>curtose=%{customdata[4]}<br>distortion=%{customdata[5]}<br>amplitude=%{customdata[6]}<br>sra=%{customdata[7]}<br>crest=%{customdata[8]}<br>impulse=%{customdata[9]}<br>margin=%{customdata[10]}<br>max=%{customdata[11]}<br>freq_max=%{customdata[12]}<br>freq_sec_highest=%{customdata[13]}<br>fft_mean=%{customdata[14]}<extra></extra>",
         "legendgroup": "Cluster 22",
         "marker": {
          "color": "#00cc96"
         },
         "name": "Cluster 22",
         "notched": true,
         "offsetgroup": "Cluster 22",
         "showlegend": false,
         "type": "box",
         "x": [
          "Cluster 22",
          "Cluster 22",
          "Cluster 22",
          "Cluster 22",
          "Cluster 22",
          "Cluster 22",
          "Cluster 22",
          "Cluster 22",
          "Cluster 22",
          "Cluster 22"
         ],
         "xaxis": "x2",
         "yaxis": "y2"
        },
        {
         "alignmentgroup": "True",
         "bingroup": "x",
         "hovertemplate": "Cluster=%{x}<br>count=%{y}<extra></extra>",
         "legendgroup": "Cluster 23",
         "marker": {
          "color": "#ab63fa",
          "opacity": 0.7,
          "pattern": {
           "shape": ""
          }
         },
         "name": "Cluster 23",
         "offsetgroup": "Cluster 23",
         "orientation": "v",
         "showlegend": true,
         "type": "histogram",
         "x": [
          "Cluster 23",
          "Cluster 23"
         ],
         "xaxis": "x",
         "yaxis": "y"
        },
        {
         "alignmentgroup": "True",
         "customdata": [
          [
           "s",
           0.005293448455631733,
           0.0022068344987928867,
           0.005735033191740513,
           0.07782158255577087,
           6554.4208984375,
           0.02502249740064144,
           0.005049322731792927,
           3.190833568572998,
           3.4465548992156982,
           3.6241567134857178,
           0.018299536779522896,
           3119.525146484375,
           3625.864990234375,
           0.545539915561676
          ],
          [
           "s",
           0.005253591109067202,
           0.0027723300736397505,
           0.005940190050750971,
           0.0723787248134613,
           7070.04736328125,
           0.029392927885055542,
           0.004907186143100262,
           2.9581711292266846,
           3.305701494216919,
           3.5808908939361572,
           0.01757209748029709,
           -3119.525146484375,
           -2504.8427734375,
           0.545539915561676
          ]
         ],
         "hovertemplate": "Cluster=%{x}<br>chatter_presence=%{customdata[0]}<br>med=%{customdata[1]}<br>std=%{customdata[2]}<br>rms=%{customdata[3]}<br>curtose=%{customdata[4]}<br>distortion=%{customdata[5]}<br>amplitude=%{customdata[6]}<br>sra=%{customdata[7]}<br>crest=%{customdata[8]}<br>impulse=%{customdata[9]}<br>margin=%{customdata[10]}<br>max=%{customdata[11]}<br>freq_max=%{customdata[12]}<br>freq_sec_highest=%{customdata[13]}<br>fft_mean=%{customdata[14]}<extra></extra>",
         "legendgroup": "Cluster 23",
         "marker": {
          "color": "#ab63fa"
         },
         "name": "Cluster 23",
         "notched": true,
         "offsetgroup": "Cluster 23",
         "showlegend": false,
         "type": "box",
         "x": [
          "Cluster 23",
          "Cluster 23"
         ],
         "xaxis": "x2",
         "yaxis": "y2"
        },
        {
         "alignmentgroup": "True",
         "bingroup": "x",
         "hovertemplate": "Cluster=%{x}<br>count=%{y}<extra></extra>",
         "legendgroup": "Cluster 24",
         "marker": {
          "color": "#FFA15A",
          "opacity": 0.7,
          "pattern": {
           "shape": ""
          }
         },
         "name": "Cluster 24",
         "offsetgroup": "Cluster 24",
         "orientation": "v",
         "showlegend": true,
         "type": "histogram",
         "x": [
          "Cluster 24",
          "Cluster 24",
          "Cluster 24",
          "Cluster 24",
          "Cluster 24",
          "Cluster 24",
          "Cluster 24",
          "Cluster 24",
          "Cluster 24",
          "Cluster 24",
          "Cluster 24",
          "Cluster 24",
          "Cluster 24",
          "Cluster 24",
          "Cluster 24",
          "Cluster 24",
          "Cluster 24",
          "Cluster 24",
          "Cluster 24"
         ],
         "xaxis": "x",
         "yaxis": "y"
        },
        {
         "alignmentgroup": "True",
         "customdata": [
          [
           "s",
           0.005494459066540003,
           0.0029052714817225933,
           0.006215252913534641,
           0.8271580934524536,
           3883.53369140625,
           0.036578692495822906,
           0.005170777440071106,
           4.195343971252441,
           4.671902179718018,
           5.04278564453125,
           0.026075122877955437,
           -4790.7314453125,
           -4952.423828125,
           0.32196253538131714
          ],
          [
           "s",
           0.005477471277117729,
           0.0026955793146044016,
           0.006104503758251667,
           -0.08460750430822372,
           1647.263671875,
           0.020666049793362617,
           0.005135742947459221,
           2.6238484382629395,
           2.902350425720215,
           3.1187877655029297,
           0.01601729355752468,
           -3546.19384765625,
           -3612.8515625,
           0.11797477304935455
          ],
          [
           "s",
           0.005460432264953852,
           0.001719681196846068,
           0.00572477001696825,
           -0.4502071142196655,
           3065.576904296875,
           0.01319272443652153,
           0.005316449794918299,
           2.232290029525757,
           2.3401334285736084,
           2.4037370681762695,
           0.012779347598552704,
           -4134.712890625,
           -4659.48486328125,
           0.11471675336360931
          ],
          [
           "s",
           0.005469111725687981,
           0.0024095068220049143,
           0.0059763104654848576,
           0.39816340804100037,
           3752.281005859375,
           0.02226945012807846,
           0.005208228249102831,
           2.5795035362243652,
           2.8023180961608887,
           2.9599151611328125,
           0.015415913425385952,
           -1098.10400390625,
           -1680.2218017578125,
           0.19952385127544403
          ],
          [
           "s",
           0.005495368968695402,
           0.0022295978851616383,
           0.0059303115122020245,
           -0.6616995334625244,
           2852.994873046875,
           0.012618858367204666,
           0.005233795382082462,
           1.9582016468048096,
           2.112281322479248,
           2.2188003063201904,
           0.011612745933234692,
           -4403.64794921875,
           -4756.41943359375,
           0.06496769934892654
          ],
          [
           "s",
           0.005415921099483967,
           0.0020574182271957397,
           0.0057934788055717945,
           -1.034899353981018,
           4020.617919921875,
           0.010426939465105534,
           0.005200451705604792,
           1.8387677669525146,
           1.966952919960022,
           2.0484492778778076,
           0.01065286248922348,
           -3606.6923828125,
           -4888.91943359375,
           0.07014882564544678
          ],
          [
           "s",
           0.005485634319484234,
           0.0021421415731310844,
           0.00588892912492156,
           -0.7798607349395752,
           2643.097412109375,
           0.014477583579719067,
           0.005251928698271513,
           2.113495111465454,
           2.267857313156128,
           2.369838237762451,
           0.012446222826838493,
           -3205.343505859375,
           -4745.22021484375,
           0.06569874286651611
          ],
          [
           "s",
           0.005503298714756966,
           0.00272447825409472,
           0.006140530109405518,
           0.39012226462364197,
           1739.6190185546875,
           0.023036738857626915,
           0.005183988716453314,
           2.869455575942993,
           3.1715826988220215,
           3.398922920227051,
           0.01761997863650322,
           -2330.766845703125,
           -1480.8519287109375,
           0.14529681205749512
          ],
          [
           "s",
           0.005516375880688429,
           0.0018097629072144628,
           0.005805619992315769,
           -0.6011983752250671,
           3859.460693359375,
           0.013633161783218384,
           0.005356804467737675,
           2.2894785404205322,
           2.4094862937927246,
           2.4813005924224854,
           0.013291842304170132,
           -3561.805908203125,
           -2505.83984375,
           0.1268792599439621
          ],
          [
           "s",
           0.00542171997949481,
           0.0019982142839580774,
           0.005778199061751366,
           -0.19028516113758087,
           4785.619140625,
           0.017649874091148376,
           0.005235874559730291,
           2.3357272148132324,
           2.4844987392425537,
           2.5776586532592773,
           0.013496296480298042,
           -4541.9091796875,
           -4546.9091796875,
           0.09078150987625122
          ],
          [
           "s",
           0.005474898964166641,
           0.0024918238632380962,
           0.006015206687152386,
           0.6139025092124939,
           2836.197509765625,
           0.021880920976400375,
           0.005206298548728228,
           2.785696268081665,
           3.0388424396514893,
           3.218512535095215,
           0.016756538301706314,
           -2696.292236328125,
           -4574.216796875,
           0.14741957187652588
          ],
          [
           "s",
           0.005494928918778896,
           0.003165401751175523,
           0.006341374013572931,
           0.00909437332302332,
           3194.531982421875,
           0.027881847694516182,
           0.005099667701870203,
           3.1531267166137695,
           3.5714330673217773,
           3.9208743572235107,
           0.019995154812932014,
           -4208.634765625,
           -3354.994384765625,
           0.28025633096694946
          ],
          [
           "s",
           0.0054911780171096325,
           0.002754222834482789,
           0.006142942700535059,
           -0.021513095125555992,
           1987.998291015625,
           0.018851637840270996,
           0.005137454252690077,
           2.5119168758392334,
           2.7899277210235596,
           3.003542184829712,
           0.01543056033551693,
           -4848.51513671875,
           -4664.53369140625,
           0.1180541068315506
          ],
          [
           "s",
           0.005481178872287273,
           0.00260080280713737,
           0.006066896021366119,
           0.3243103623390198,
           4892.283203125,
           0.02676508203148842,
           0.0051796333864331245,
           3.2312285900115967,
           3.5467402935028076,
           3.7847328186035156,
           0.019603528082370758,
           -4937.650390625,
           -3243.567626953125,
           0.34607189893722534
          ],
          [
           "s",
           0.0054706702940166,
           0.0027611195109784603,
           0.006127908825874329,
           -0.3570140600204468,
           3981.60693359375,
           0.020097844302654266,
           0.005099078174680471,
           2.5302650928497314,
           2.8153700828552246,
           3.0407915115356445,
           0.015505233779549599,
           -1532.51611328125,
           -2369.910888671875,
           0.30491337180137634
          ],
          [
           "s",
           0.005481729283928871,
           0.0022400079760700464,
           0.00592169351875782,
           0.054847024381160736,
           4221.6015625,
           0.016865935176610947,
           0.005236766766756773,
           2.29290771484375,
           2.4699525833129883,
           2.592801332473755,
           0.013577896170318127,
           -3290.578857421875,
           -3965.2275390625,
           0.14750953018665314
          ],
          [
           "s",
           0.005440175533294678,
           0.002304572146385908,
           0.005908033810555935,
           -0.8474571704864502,
           2786.184326171875,
           0.012193459086120129,
           0.005158792249858379,
           2.0050981044769287,
           2.1772475242614746,
           2.2963101863861084,
           0.011846186593174934,
           -2822.17431640625,
           -2910.967041015625,
           0.07755571603775024
          ],
          [
           "s",
           0.005484833847731352,
           0.002251983853057027,
           0.005929014179855585,
           -0.04811248928308487,
           2128.452880859375,
           0.018180809915065765,
           0.005240992177277803,
           2.623506784439087,
           2.8295884132385254,
           2.9679129123687744,
           0.015554809011518955,
           -3462.39990234375,
           -3953.60009765625,
           0.08710061013698578
          ],
          [
           "s",
           0.005503085441887379,
           0.001832670415751636,
           0.005800185725092888,
           -0.5713130831718445,
           3935.232421875,
           0.014508729800581932,
           0.0053411126136779785,
           2.1300902366638184,
           2.244785785675049,
           2.313173294067383,
           0.012354918755590916,
           -3657.114501953125,
           -4569.4375,
           0.12026874721050262
          ]
         ],
         "hovertemplate": "Cluster=%{x}<br>chatter_presence=%{customdata[0]}<br>med=%{customdata[1]}<br>std=%{customdata[2]}<br>rms=%{customdata[3]}<br>curtose=%{customdata[4]}<br>distortion=%{customdata[5]}<br>amplitude=%{customdata[6]}<br>sra=%{customdata[7]}<br>crest=%{customdata[8]}<br>impulse=%{customdata[9]}<br>margin=%{customdata[10]}<br>max=%{customdata[11]}<br>freq_max=%{customdata[12]}<br>freq_sec_highest=%{customdata[13]}<br>fft_mean=%{customdata[14]}<extra></extra>",
         "legendgroup": "Cluster 24",
         "marker": {
          "color": "#FFA15A"
         },
         "name": "Cluster 24",
         "notched": true,
         "offsetgroup": "Cluster 24",
         "showlegend": false,
         "type": "box",
         "x": [
          "Cluster 24",
          "Cluster 24",
          "Cluster 24",
          "Cluster 24",
          "Cluster 24",
          "Cluster 24",
          "Cluster 24",
          "Cluster 24",
          "Cluster 24",
          "Cluster 24",
          "Cluster 24",
          "Cluster 24",
          "Cluster 24",
          "Cluster 24",
          "Cluster 24",
          "Cluster 24",
          "Cluster 24",
          "Cluster 24",
          "Cluster 24"
         ],
         "xaxis": "x2",
         "yaxis": "y2"
        },
        {
         "alignmentgroup": "True",
         "bingroup": "x",
         "hovertemplate": "Cluster=%{x}<br>count=%{y}<extra></extra>",
         "legendgroup": "Cluster 25",
         "marker": {
          "color": "#19d3f3",
          "opacity": 0.7,
          "pattern": {
           "shape": ""
          }
         },
         "name": "Cluster 25",
         "offsetgroup": "Cluster 25",
         "orientation": "v",
         "showlegend": true,
         "type": "histogram",
         "x": [
          "Cluster 25",
          "Cluster 25",
          "Cluster 25",
          "Cluster 25",
          "Cluster 25",
          "Cluster 25",
          "Cluster 25",
          "Cluster 25",
          "Cluster 25",
          "Cluster 25",
          "Cluster 25"
         ],
         "xaxis": "x",
         "yaxis": "y"
        },
        {
         "alignmentgroup": "True",
         "customdata": [
          [
           "c",
           0.0053946757689118385,
           0.009157165884971619,
           0.010627714917063713,
           -0.5301212072372437,
           3620.177978515625,
           0.053106505423784256,
           0.007731493096798658,
           2.8463568687438965,
           3.4041285514831543,
           3.9126036167144775,
           0.030250268056988716,
           1674.3135986328125,
           1623.4912109375,
           0.656216025352478
          ],
          [
           "c",
           0.0054005892015993595,
           0.006750320550054312,
           0.0086446488276124,
           -0.38934582471847534,
           4163.95947265625,
           0.0395590141415596,
           0.006176095921546221,
           2.847130060195923,
           3.4501287937164307,
           3.9851129055023193,
           0.024612439796328545,
           1089.9361572265625,
           430.392333984375,
           0.3606477379798889
          ],
          [
           "c",
           0.005428786389529705,
           0.003506000153720379,
           0.006462314631789923,
           0.34023985266685486,
           2256.08203125,
           0.030403533950448036,
           0.005052537657320499,
           3.274710178375244,
           3.77645206451416,
           4.188431739807129,
           0.021162208169698715,
           -1279.9415283203125,
           -45.712196350097656,
           0.1773734837770462
          ],
          [
           "c",
           0.005383756943047047,
           0.007034395355731249,
           0.008857928216457367,
           -0.17153742909431458,
           3655.1953125,
           0.04784981533885002,
           0.00636659562587738,
           2.8189761638641357,
           3.399411678314209,
           3.9220786094665527,
           0.024970289319753647,
           -1674.3135986328125,
           -1623.4912109375,
           0.6347234845161438
          ],
          [
           "c",
           0.005405407398939133,
           0.005957083776593208,
           0.008043555542826653,
           -0.780905544757843,
           2929.643310546875,
           0.03212098404765129,
           0.005735036451369524,
           2.522820472717285,
           3.043248176574707,
           3.5383291244506836,
           0.02029244787991047,
           2940.20849609375,
           2889.925048828125,
           0.3093167245388031
          ],
          [
           "c",
           0.005377292633056641,
           0.006881154142320156,
           0.008732760325074196,
           -0.07423260062932968,
           3463.244140625,
           0.047709718346595764,
           0.006295290309935808,
           2.9750919342041016,
           3.575814723968506,
           4.127016544342041,
           0.025980764999985695,
           -2515.47021484375,
           -3414.7431640625,
           0.42034053802490234
          ],
          [
           "c",
           0.005373229272663593,
           0.005522432271391153,
           0.00770481675863266,
           0.13457536697387695,
           2829.01806640625,
           0.03954266384243965,
           0.005697628948837519,
           2.861833333969116,
           3.3988165855407715,
           3.870013475418091,
           0.022049900144338608,
           4785.34130859375,
           4715.6298828125,
           0.2190961241722107
          ],
          [
           "c",
           0.0054321191273629665,
           0.0050406851805746555,
           0.007410248275846243,
           -0.43792805075645447,
           2790.239990234375,
           0.03163355216383934,
           0.005413581617176533,
           2.64870548248291,
           3.1580002307891846,
           3.625615358352661,
           0.019627563655376434,
           1279.9415283203125,
           45.712196350097656,
           0.19901026785373688
          ],
          [
           "c",
           0.005371313542127609,
           0.0039039135444909334,
           0.006639971863478422,
           0.20783299207687378,
           2623.501708984375,
           0.03036148101091385,
           0.00510490732267499,
           3.0857062339782715,
           3.5907230377197266,
           4.013589382171631,
           0.020489003509283066,
           1633.842529296875,
           1646.4134521484375,
           0.39153796434402466
          ],
          [
           "c",
           0.005399306304752827,
           0.0035550149623304605,
           0.006464418955147266,
           0.35517850518226624,
           2944.176513671875,
           0.026928769424557686,
           0.005133742932230234,
           2.7498176097869873,
           3.141660690307617,
           3.462575674057007,
           0.017775973305106163,
           -1633.842529296875,
           -1646.4134521484375,
           0.37007489800453186
          ],
          [
           "c",
           0.005398099776357412,
           0.008032532408833504,
           0.009677550755441189,
           -0.16579705476760864,
           3434.631103515625,
           0.053340211510658264,
           0.006981620565056801,
           2.9998557567596436,
           3.6106746196746826,
           4.15824031829834,
           0.029031256213784218,
           3414.7431640625,
           3464.15380859375,
           0.42034053802490234
          ]
         ],
         "hovertemplate": "Cluster=%{x}<br>chatter_presence=%{customdata[0]}<br>med=%{customdata[1]}<br>std=%{customdata[2]}<br>rms=%{customdata[3]}<br>curtose=%{customdata[4]}<br>distortion=%{customdata[5]}<br>amplitude=%{customdata[6]}<br>sra=%{customdata[7]}<br>crest=%{customdata[8]}<br>impulse=%{customdata[9]}<br>margin=%{customdata[10]}<br>max=%{customdata[11]}<br>freq_max=%{customdata[12]}<br>freq_sec_highest=%{customdata[13]}<br>fft_mean=%{customdata[14]}<extra></extra>",
         "legendgroup": "Cluster 25",
         "marker": {
          "color": "#19d3f3"
         },
         "name": "Cluster 25",
         "notched": true,
         "offsetgroup": "Cluster 25",
         "showlegend": false,
         "type": "box",
         "x": [
          "Cluster 25",
          "Cluster 25",
          "Cluster 25",
          "Cluster 25",
          "Cluster 25",
          "Cluster 25",
          "Cluster 25",
          "Cluster 25",
          "Cluster 25",
          "Cluster 25",
          "Cluster 25"
         ],
         "xaxis": "x2",
         "yaxis": "y2"
        },
        {
         "alignmentgroup": "True",
         "bingroup": "x",
         "hovertemplate": "Cluster=%{x}<br>count=%{y}<extra></extra>",
         "legendgroup": "Cluster 26",
         "marker": {
          "color": "#FF6692",
          "opacity": 0.7,
          "pattern": {
           "shape": ""
          }
         },
         "name": "Cluster 26",
         "offsetgroup": "Cluster 26",
         "orientation": "v",
         "showlegend": true,
         "type": "histogram",
         "x": [
          "Cluster 26",
          "Cluster 26",
          "Cluster 26",
          "Cluster 26",
          "Cluster 26",
          "Cluster 26",
          "Cluster 26",
          "Cluster 26",
          "Cluster 26",
          "Cluster 26",
          "Cluster 26",
          "Cluster 26",
          "Cluster 26",
          "Cluster 26",
          "Cluster 26",
          "Cluster 26"
         ],
         "xaxis": "x",
         "yaxis": "y"
        },
        {
         "alignmentgroup": "True",
         "customdata": [
          [
           "i",
           0.005509838927537203,
           0.0034187270794063807,
           0.006484242156147957,
           0.8814220428466797,
           4439.06494140625,
           0.029418792575597763,
           0.005197302438318729,
           3.083890676498413,
           3.513953685760498,
           3.8475136756896973,
           0.01999669335782528,
           -3011.159912109375,
           -2569.565673828125,
           0.2055261731147766
          ],
          [
           "i",
           0.005473059602081776,
           0.002154539106413722,
           0.00588185153901577,
           -0.13339479267597198,
           5674.05908203125,
           0.017598358914256096,
           0.005236899945884943,
           2.41290020942688,
           2.591019630432129,
           2.7100613117218018,
           0.014192319475114346,
           -4886.3349609375,
           -4985,
           0.2573882043361664
          ],
          [
           "i",
           0.005463502835482359,
           0.002333936048671603,
           0.005941040348261595,
           0.9747397899627686,
           2655.543212890625,
           0.020440950989723206,
           0.005217774771153927,
           2.5765154361724854,
           2.7873947620391846,
           2.9336609840393066,
           0.015307181514799595,
           -3545.410888671875,
           -3456.348876953125,
           0.1040664091706276
          ],
          [
           "i",
           0.005483866203576326,
           0.001979831140488386,
           0.005830303765833378,
           -0.2556919455528259,
           10000.5,
           0.016044525429606438,
           0.00528332544490695,
           2.235844373703003,
           2.376338005065918,
           2.4673194885253906,
           0.013035652227699757,
           -3492.732421875,
           -3601.931884765625,
           0.43930864334106445
          ],
          [
           "i",
           0.005480681546032429,
           0.001835696049965918,
           0.005779929459095001,
           -0.4446088373661041,
           9923.66015625,
           0.015514572151005268,
           0.005312041845172644,
           2.253154993057251,
           2.3759050369262695,
           2.4516141414642334,
           0.013023076578974724,
           -1044.0947265625,
           -1048.8447265625,
           0.5395022630691528
          ],
          [
           "i",
           0.0055111306719481945,
           0.0024226512759923935,
           0.006020038388669491,
           0.13887685537338257,
           3139.6181640625,
           0.020379627123475075,
           0.00524910306558013,
           2.5167670249938965,
           2.7344377040863037,
           2.886404514312744,
           0.015151034109294415,
           -2905.48388671875,
           -3864.245361328125,
           0.1589452177286148
          ],
          [
           "i",
           0.005491341929882765,
           0.002998760435730219,
           0.0062567307613790035,
           0.28006982803344727,
           3384.826171875,
           0.028541797772049904,
           0.005121272522956133,
           3.301635980606079,
           3.7127339839935303,
           4.033655643463135,
           0.02065744809806347,
           -3661.52685546875,
           -4636.30712890625,
           0.3918890655040741
          ],
          [
           "i",
           0.005422839429229498,
           0.003065281780436635,
           0.006229023449122906,
           0.10097087174654007,
           2096.547119140625,
           0.024372076615691185,
           0.005084705073386431,
           2.977611541748047,
           3.345641613006592,
           3.64772629737854,
           0.01854761317372322,
           -3565.851806640625,
           -2852.29736328125,
           0.14694280922412872
          ],
          [
           "i",
           0.005450677126646042,
           0.0022606258280575275,
           0.005900820251554251,
           -0.8849055767059326,
           4170.81982421875,
           0.014411394484341145,
           0.005184432957321405,
           2.160555601119995,
           2.3385298252105713,
           2.459102153778076,
           0.012749050743877888,
           -3263.591796875,
           -4441.70947265625,
           0.16930659115314484
          ],
          [
           "i",
           0.005482648964971304,
           0.003415169660001993,
           0.006459192372858524,
           0.062405992299318314,
           2935.797607421875,
           0.0284877959638834,
           0.005113352555781603,
           2.854503870010376,
           3.258439302444458,
           3.6058125495910645,
           0.018437789753079414,
           -698.9973754882812,
           -119.46241760253906,
           0.2318539023399353
          ],
          [
           "i",
           0.005490350537002087,
           0.0036608045920729637,
           0.006598711479455233,
           0.8909278512001038,
           2356.55517578125,
           0.03030022606253624,
           0.005234458018094301,
           3.135347604751587,
           3.592700719833374,
           3.9525113105773926,
           0.020689252763986588,
           -2623.4228515625,
           -4757.26806640625,
           0.16686980426311493
          ],
          [
           "i",
           0.005482157692313194,
           0.003982331603765488,
           0.006775833200663328,
           1.8606442213058472,
           3536.756591796875,
           0.037606265395879745,
           0.005364818498492241,
           3.3886382579803467,
           3.8992691040039062,
           4.279892444610596,
           0.02296084724366665,
           -3717.50048828125,
           -4653.83203125,
           0.32348117232322693
          ],
          [
           "i",
           0.005458536092191935,
           0.0032498890068382025,
           0.006352595053613186,
           -0.33112427592277527,
           2945.43994140625,
           0.021524740383028984,
           0.005067290738224983,
           2.509305953979492,
           2.8528201580047607,
           3.145784616470337,
           0.015940604731440544,
           -3298.135009765625,
           -4905.3759765625,
           0.2515025734901428
          ],
          [
           "i",
           0.005464719142764807,
           0.0030769517179578543,
           0.0062713781371712685,
           -0.08736073970794678,
           4511.0830078125,
           0.025026962161064148,
           0.005075080785900354,
           2.7702724933624268,
           3.128868579864502,
           3.423280715942383,
           0.017373425886034966,
           -2969.552490234375,
           -2903.153564453125,
           0.452880322933197
          ],
          [
           "i",
           0.005455148871988058,
           0.004014837555587292,
           0.006773181259632111,
           -0.16849809885025024,
           3626.356689453125,
           0.02750854752957821,
           0.00513547845184803,
           2.777958631515503,
           3.2508389949798584,
           3.663848876953125,
           0.01881561614573002,
           -2875.252197265625,
           -4689.85400390625,
           0.3172673285007477
          ],
          [
           "i",
           0.005478254985064268,
           0.003113012295216322,
           0.006300852634012699,
           -0.17526115477085114,
           3099.165771484375,
           0.023246947675943375,
           0.0050857895985245705,
           2.704193592071533,
           3.057576894760132,
           3.3502614498138428,
           0.017038725316524506,
           -2949.939453125,
           -2917.2294921875,
           0.2925000786781311
          ]
         ],
         "hovertemplate": "Cluster=%{x}<br>chatter_presence=%{customdata[0]}<br>med=%{customdata[1]}<br>std=%{customdata[2]}<br>rms=%{customdata[3]}<br>curtose=%{customdata[4]}<br>distortion=%{customdata[5]}<br>amplitude=%{customdata[6]}<br>sra=%{customdata[7]}<br>crest=%{customdata[8]}<br>impulse=%{customdata[9]}<br>margin=%{customdata[10]}<br>max=%{customdata[11]}<br>freq_max=%{customdata[12]}<br>freq_sec_highest=%{customdata[13]}<br>fft_mean=%{customdata[14]}<extra></extra>",
         "legendgroup": "Cluster 26",
         "marker": {
          "color": "#FF6692"
         },
         "name": "Cluster 26",
         "notched": true,
         "offsetgroup": "Cluster 26",
         "showlegend": false,
         "type": "box",
         "x": [
          "Cluster 26",
          "Cluster 26",
          "Cluster 26",
          "Cluster 26",
          "Cluster 26",
          "Cluster 26",
          "Cluster 26",
          "Cluster 26",
          "Cluster 26",
          "Cluster 26",
          "Cluster 26",
          "Cluster 26",
          "Cluster 26",
          "Cluster 26",
          "Cluster 26",
          "Cluster 26"
         ],
         "xaxis": "x2",
         "yaxis": "y2"
        },
        {
         "alignmentgroup": "True",
         "bingroup": "x",
         "hovertemplate": "Cluster=%{x}<br>count=%{y}<extra></extra>",
         "legendgroup": "Cluster 27",
         "marker": {
          "color": "#B6E880",
          "opacity": 0.7,
          "pattern": {
           "shape": ""
          }
         },
         "name": "Cluster 27",
         "offsetgroup": "Cluster 27",
         "orientation": "v",
         "showlegend": true,
         "type": "histogram",
         "x": [
          "Cluster 27",
          "Cluster 27",
          "Cluster 27",
          "Cluster 27",
          "Cluster 27",
          "Cluster 27",
          "Cluster 27",
          "Cluster 27",
          "Cluster 27",
          "Cluster 27",
          "Cluster 27",
          "Cluster 27",
          "Cluster 27",
          "Cluster 27",
          "Cluster 27",
          "Cluster 27",
          "Cluster 27",
          "Cluster 27",
          "Cluster 27",
          "Cluster 27",
          "Cluster 27",
          "Cluster 27"
         ],
         "xaxis": "x",
         "yaxis": "y"
        },
        {
         "alignmentgroup": "True",
         "customdata": [
          [
           "s",
           0.00544600747525692,
           0.0022434957791119814,
           0.005889877676963806,
           -0.2351342737674713,
           2548.688232421875,
           0.014338921755552292,
           0.005188327748328447,
           2.1916654109954834,
           2.368189573287964,
           2.488015651702881,
           0.012908640317618847,
           -82.4000015258789,
           -1371.199951171875,
           0.11595204472541809
          ],
          [
           "s",
           0.005415789783000946,
           0.0021796103101223707,
           0.005837911274284124,
           -0.9684739112854004,
           6486.0712890625,
           0.013267782516777515,
           0.005170683842152357,
           2.0393214225769043,
           2.1980903148651123,
           2.302476406097412,
           0.011905377730727196,
           -4165.9404296875,
           -3292.81005859375,
           0.14619438350200653
          ],
          [
           "s",
           0.005431888159364462,
           0.001896426547318697,
           0.0057534086517989635,
           -0.801941990852356,
           8083.2412109375,
           0.012168669141829014,
           0.005253730341792107,
           2.0160980224609375,
           2.1354005336761475,
           2.2078473567962646,
           0.011599434539675713,
           -2384.918701171875,
           -2215.979248046875,
           0.2814751863479614
          ],
          [
           "s",
           0.005366344470530748,
           0.002012669574469328,
           0.005731337703764439,
           -0.7004126310348511,
           5732.01220703125,
           0.016250114887952805,
           0.00515771983191371,
           2.180403232574463,
           2.3276925086975098,
           2.4228975772857666,
           0.012496626935899258,
           2696.27685546875,
           2593.718505859375,
           0.16738519072532654
          ],
          [
           "s",
           0.005435476545244455,
           0.0023027306888252497,
           0.005903115961700678,
           -0.30313044786453247,
           7069.423828125,
           0.01687059924006462,
           0.00516454828903079,
           2.305213212966919,
           2.4970269203186035,
           2.6348752975463867,
           0.013607940636575222,
           1725.1602783203125,
           893.3563232421875,
           0.38895073533058167
          ],
          [
           "s",
           0.0053712124936282635,
           0.0028756307438015938,
           0.0060925353318452835,
           0.18235301971435547,
           6493.302734375,
           0.030938738957047462,
           0.005027447361499071,
           3.220860242843628,
           3.602263927459717,
           3.903214454650879,
           0.019623205065727234,
           -119.99931335449219,
           -360.1122131347656,
           0.5331425666809082
          ],
          [
           "s",
           0.005434855353087187,
           0.0018040649592876434,
           0.005726408679038286,
           -1.047589659690857,
           4210.3017578125,
           0.010841111652553082,
           0.005273210350424051,
           1.829719066619873,
           1.9278298616409302,
           1.9869714975357056,
           0.010477718897163868,
           1512.7784423828125,
           119.99494934082031,
           0.19459615647792816
          ],
          [
           "s",
           0.005436452571302652,
           0.0022545706015080214,
           0.005885276477783918,
           -0.8128065466880798,
           2668.177734375,
           0.013707609847187996,
           0.005169248208403587,
           2.09399151802063,
           2.2660224437713623,
           2.384044885635376,
           0.012323719449341297,
           2001.43994140625,
           119.99040222167969,
           0.1456708163022995
          ],
          [
           "s",
           0.005403595510870218,
           0.0023618750274181366,
           0.005897148512303829,
           -0.4826711118221283,
           3016.728515625,
           0.017605392262339592,
           0.005113118793815374,
           2.5529680252075195,
           2.782034397125244,
           2.944432258605957,
           0.015055231750011444,
           -2527.472412109375,
           -2783.8828125,
           0.09422953426837921
          ],
          [
           "s",
           0.005388294812291861,
           0.0018987299408763647,
           0.005713034421205521,
           -0.7786203026771545,
           7619.0693359375,
           0.013076298870146275,
           0.005208978429436684,
           2.1389431953430176,
           2.267774820327759,
           2.345921754837036,
           0.012219855561852455,
           -2527.505615234375,
           -3546.88427734375,
           0.1829008311033249
          ],
          [
           "s",
           0.005440586246550083,
           0.002419469878077507,
           0.005954205524176359,
           1.7579752206802368,
           2654.27099609375,
           0.02446046657860279,
           0.005225684028118849,
           2.5777485370635986,
           2.78771710395813,
           2.937116861343384,
           0.015348444692790508,
           179.19044494628906,
           798.8907470703125,
           0.18753044307231903
          ],
          [
           "s",
           0.005430057644844055,
           0.002283561509102583,
           0.005890605039894581,
           -0.9202957153320312,
           3593.2001953125,
           0.01279973704367876,
           0.005154907237738371,
           2.0573320388793945,
           2.23154878616333,
           2.350950241088867,
           0.0121189309284091,
           -1255.2569580078125,
           -2178.18603515625,
           0.13841211795806885
          ],
          [
           "s",
           0.005378813482820988,
           0.001870787120424211,
           0.005694844760000706,
           -0.9784632325172424,
           6320.04638671875,
           0.011367280967533588,
           0.005203427746891975,
           1.9776493310928345,
           2.0938401222229004,
           2.1644206047058105,
           0.011262405663728714,
           346.554443359375,
           479.83233642578125,
           0.283624529838562
          ],
          [
           "s",
           0.00543778482824564,
           0.0024416872765868902,
           0.005960656795650721,
           -0.8516359329223633,
           2720.792236328125,
           0.013050276786088943,
           0.005122039001435041,
           2.053224802017212,
           2.249340295791626,
           2.3893938064575195,
           0.012238568626344204,
           -2001.43994140625,
           -119.99040222167969,
           0.12397372722625732
          ],
          [
           "s",
           0.005380226299166679,
           0.0022215787321329117,
           0.0058208187110722065,
           -0.37393391132354736,
           5734.20849609375,
           0.015813011676073074,
           0.005129379220306873,
           2.179568290710449,
           2.3529088497161865,
           2.4733738899230957,
           0.012686872854828835,
           -2696.27685546875,
           -2593.718505859375,
           0.16738519072532654
          ],
          [
           "s",
           0.005412726663053036,
           0.0018838486867025495,
           0.005731161218136549,
           -0.940495491027832,
           6002.9208984375,
           0.010309705510735512,
           0.005239750724285841,
           1.8622249364852905,
           1.9717810153961182,
           2.0368738174438477,
           0.01067271176725626,
           -120.19759368896484,
           -1108.3778076171875,
           0.18737824261188507
          ],
          [
           "s",
           0.005430962424725294,
           0.0019275437807664275,
           0.005762869492173195,
           -0.7937412261962891,
           7823.845703125,
           0.01636345684528351,
           0.005249097011983395,
           2.315051317214966,
           2.4561870098114014,
           2.54164457321167,
           0.013341338373720646,
           -120.22765350341797,
           -655.461669921875,
           0.3505547344684601
          ],
          [
           "s",
           0.005421280395239592,
           0.0018663182854652405,
           0.005733510944992304,
           -0.9039079546928406,
           5587.4189453125,
           0.011682725511491299,
           0.005249960348010063,
           2.000744342803955,
           2.1159605979919434,
           2.185023784637451,
           0.011471289210021496,
           120.19759368896484,
           1108.3778076171875,
           0.20905090868473053
          ],
          [
           "s",
           0.005409853532910347,
           0.0023586631286889315,
           0.005901651456952095,
           -0.5699871778488159,
           5473.74267578125,
           0.018031129613518715,
           0.005122355185449123,
           2.416363000869751,
           2.6311802864074707,
           2.783979654312134,
           0.014260532334446907,
           -119.99828338623047,
           -119.71257781982422,
           0.25853586196899414
          ],
          [
           "s",
           0.005385061260312796,
           0.002298408653587103,
           0.005855017341673374,
           -0.1337215155363083,
           4991.62939453125,
           0.020513903349637985,
           0.005123538430780172,
           2.503689765930176,
           2.7126901149749756,
           2.8611373901367188,
           0.014659146778285503,
           -346.554443359375,
           -479.83233642578125,
           0.26213186979293823
          ],
          [
           "s",
           0.005413481034338474,
           0.00251370039768517,
           0.005968534387648106,
           -0.4194861352443695,
           3122.79150390625,
           0.018466893583536148,
           0.005098555702716112,
           2.46614146232605,
           2.7093706130981445,
           2.8869452476501465,
           0.014719250611960888,
           -1512.7784423828125,
           -119.99494934082031,
           0.17295467853546143
          ],
          [
           "s",
           0.0053871707059443,
           0.0021195425651967525,
           0.005789111368358135,
           -0.9569997191429138,
           6227.19189453125,
           0.012851874344050884,
           0.005155167542397976,
           2.1241402626037598,
           2.282477378845215,
           2.3853509426116943,
           0.012296884320676327,
           119.99828338623047,
           119.71257781982422,
           0.2801341116428375
          ]
         ],
         "hovertemplate": "Cluster=%{x}<br>chatter_presence=%{customdata[0]}<br>med=%{customdata[1]}<br>std=%{customdata[2]}<br>rms=%{customdata[3]}<br>curtose=%{customdata[4]}<br>distortion=%{customdata[5]}<br>amplitude=%{customdata[6]}<br>sra=%{customdata[7]}<br>crest=%{customdata[8]}<br>impulse=%{customdata[9]}<br>margin=%{customdata[10]}<br>max=%{customdata[11]}<br>freq_max=%{customdata[12]}<br>freq_sec_highest=%{customdata[13]}<br>fft_mean=%{customdata[14]}<extra></extra>",
         "legendgroup": "Cluster 27",
         "marker": {
          "color": "#B6E880"
         },
         "name": "Cluster 27",
         "notched": true,
         "offsetgroup": "Cluster 27",
         "showlegend": false,
         "type": "box",
         "x": [
          "Cluster 27",
          "Cluster 27",
          "Cluster 27",
          "Cluster 27",
          "Cluster 27",
          "Cluster 27",
          "Cluster 27",
          "Cluster 27",
          "Cluster 27",
          "Cluster 27",
          "Cluster 27",
          "Cluster 27",
          "Cluster 27",
          "Cluster 27",
          "Cluster 27",
          "Cluster 27",
          "Cluster 27",
          "Cluster 27",
          "Cluster 27",
          "Cluster 27",
          "Cluster 27",
          "Cluster 27"
         ],
         "xaxis": "x2",
         "yaxis": "y2"
        },
        {
         "alignmentgroup": "True",
         "bingroup": "x",
         "hovertemplate": "Cluster=%{x}<br>count=%{y}<extra></extra>",
         "legendgroup": "Cluster 28",
         "marker": {
          "color": "#FF97FF",
          "opacity": 0.7,
          "pattern": {
           "shape": ""
          }
         },
         "name": "Cluster 28",
         "offsetgroup": "Cluster 28",
         "orientation": "v",
         "showlegend": true,
         "type": "histogram",
         "x": [
          "Cluster 28",
          "Cluster 28",
          "Cluster 28",
          "Cluster 28",
          "Cluster 28",
          "Cluster 28",
          "Cluster 28",
          "Cluster 28",
          "Cluster 28",
          "Cluster 28",
          "Cluster 28",
          "Cluster 28",
          "Cluster 28",
          "Cluster 28",
          "Cluster 28"
         ],
         "xaxis": "x",
         "yaxis": "y"
        },
        {
         "alignmentgroup": "True",
         "customdata": [
          [
           "i",
           0.005442493129521608,
           0.0021581153851002455,
           0.005854730494320393,
           0.45093992352485657,
           4466.8798828125,
           0.02073359675705433,
           0.0052202544175088406,
           2.6835269927978516,
           2.8780601024627686,
           3.00968599319458,
           0.015711328014731407,
           1183.4576416015625,
           1038.9384765625,
           0.4168517589569092
          ],
          [
           "i",
           0.00543961999937892,
           0.003331506624817848,
           0.006378660444170237,
           -0.15168876945972443,
           3790.0126953125,
           0.022816061973571777,
           0.005054054316133261,
           2.658220052719116,
           3.035029888153076,
           3.354907512664795,
           0.01695588417351246,
           927.7310180664062,
           1357.5050048828125,
           0.22485105693340302
          ],
          [
           "i",
           0.005460245534777641,
           0.0028921684715896845,
           0.0061788661405444145,
           -0.22448962926864624,
           4522.5546875,
           0.022367727011442184,
           0.005093616433441639,
           2.763249158859253,
           3.088404893875122,
           3.3519890308380127,
           0.017073746770620346,
           -488.4721984863281,
           -1192.4609375,
           0.2860445976257324
          ],
          [
           "i",
           0.005456652492284775,
           0.002719100331887603,
           0.006096542812883854,
           -0.29819270968437195,
           3806.9892578125,
           0.019611259922385216,
           0.005082782823592424,
           2.6462442874908447,
           2.945834159851074,
           3.174036979675293,
           0.016132941469550133,
           -927.7310180664062,
           -1357.5050048828125,
           0.20307299494743347
          ],
          [
           "i",
           0.0054413629695773125,
           0.00376094039529562,
           0.006614417303353548,
           -0.32222652435302734,
           3001.264892578125,
           0.023353174328804016,
           0.005138826556503773,
           2.462683916091919,
           2.8393139839172363,
           3.169832468032837,
           0.01628921926021576,
           476.3210754394531,
           119.76595306396484,
           0.2100856602191925
          ],
          [
           "i",
           0.005447677802294493,
           0.0042129866778850555,
           0.006886603776365519,
           0.2586968243122101,
           4357.84912109375,
           0.030290914699435234,
           0.005262226797640324,
           2.8677244186401367,
           3.347369432449341,
           3.7529516220092773,
           0.019748881459236145,
           488.4721984863281,
           1192.4609375,
           0.3078594505786896
          ],
          [
           "i",
           0.0053931777365505695,
           0.002689020475372672,
           0.006026247050613165,
           0.11404123157262802,
           2699.791259765625,
           0.0220362339168787,
           0.005082463379949331,
           2.534346103668213,
           2.7994067668914795,
           3.0049591064453125,
           0.0152725949883461,
           -3381.153076171875,
           -3343.82177734375,
           0.13554981350898743
          ],
          [
           "i",
           0.0053939977660775185,
           0.0036451402120292187,
           0.006509948056191206,
           -0.07110995799303055,
           2439.2744140625,
           0.02623855508863926,
           0.005042822100222111,
           2.804584264755249,
           3.2426435947418213,
           3.6205320358276367,
           0.01825769804418087,
           327.9825134277344,
           1038.8779296875,
           0.26226961612701416
          ],
          [
           "i",
           0.0054249148815870285,
           0.0027938915882259607,
           0.006102013401687145,
           -0.2880798578262329,
           3415.887451171875,
           0.021500781178474426,
           0.005055292975157499,
           2.6376800537109375,
           2.9451098442077637,
           3.183823347091675,
           0.016095159575343132,
           -416.2948913574219,
           -119.99630737304688,
           0.2580142617225647
          ],
          [
           "i",
           0.005417568609118462,
           0.0027457401156425476,
           0.006073484197258949,
           -0.5311174392700195,
           2691.457763671875,
           0.01763972081243992,
           0.005039353389292955,
           2.3207831382751465,
           2.586942195892334,
           2.7970333099365234,
           0.014095239341259003,
           1805.324462890625,
           179.8284912109375,
           0.2714482843875885
          ],
          [
           "i",
           0.0054051256738603115,
           0.002176193753257394,
           0.005826679524034262,
           -0.8434591889381409,
           3559.002685546875,
           0.012128275819122791,
           0.00515661621466279,
           1.9228606224060059,
           2.072425603866577,
           2.1727218627929688,
           0.011203892529010773,
           -327.9825134277344,
           -1038.8779296875,
           0.24072600901126862
          ],
          [
           "i",
           0.005432430189102888,
           0.002840700326487422,
           0.006130243185907602,
           -0.4087134003639221,
           3760.118896484375,
           0.019811728969216347,
           0.005041154101490974,
           2.3965322971343994,
           2.6849234104156494,
           2.914278507232666,
           0.014691326767206192,
           416.2948913574219,
           119.99630737304688,
           0.2797183692455292
          ],
          [
           "i",
           0.005432690493762493,
           0.002910815877839923,
           0.006163181737065315,
           0.04183216765522957,
           2621.578125,
           0.02016689069569111,
           0.005103881470859051,
           2.382251262664795,
           2.6575403213500977,
           2.876682758331299,
           0.014682247303426266,
           -1805.324462890625,
           -179.8284912109375,
           0.24983251094818115
          ],
          [
           "i",
           0.005439835134893656,
           0.001646474003791809,
           0.00568349426612258,
           -0.22266249358654022,
           3182.84326171875,
           0.012432870455086231,
           0.005300975404679775,
           2.15012788772583,
           2.2463531494140625,
           2.305281162261963,
           0.012220239266753197,
           455.9756774902344,
           2122.020263671875,
           0.20389656722545624
          ],
          [
           "i",
           0.005440686829388142,
           0.003255419200286269,
           0.0063401018269360065,
           -0.0681057721376419,
           2392.255615234375,
           0.027313699945807457,
           0.00504227913916111,
           3.088639736175537,
           3.520164966583252,
           3.8836190700531006,
           0.019582290202379227,
           -476.3210754394531,
           -119.76595306396484,
           0.1883692890405655
          ]
         ],
         "hovertemplate": "Cluster=%{x}<br>chatter_presence=%{customdata[0]}<br>med=%{customdata[1]}<br>std=%{customdata[2]}<br>rms=%{customdata[3]}<br>curtose=%{customdata[4]}<br>distortion=%{customdata[5]}<br>amplitude=%{customdata[6]}<br>sra=%{customdata[7]}<br>crest=%{customdata[8]}<br>impulse=%{customdata[9]}<br>margin=%{customdata[10]}<br>max=%{customdata[11]}<br>freq_max=%{customdata[12]}<br>freq_sec_highest=%{customdata[13]}<br>fft_mean=%{customdata[14]}<extra></extra>",
         "legendgroup": "Cluster 28",
         "marker": {
          "color": "#FF97FF"
         },
         "name": "Cluster 28",
         "notched": true,
         "offsetgroup": "Cluster 28",
         "showlegend": false,
         "type": "box",
         "x": [
          "Cluster 28",
          "Cluster 28",
          "Cluster 28",
          "Cluster 28",
          "Cluster 28",
          "Cluster 28",
          "Cluster 28",
          "Cluster 28",
          "Cluster 28",
          "Cluster 28",
          "Cluster 28",
          "Cluster 28",
          "Cluster 28",
          "Cluster 28",
          "Cluster 28"
         ],
         "xaxis": "x2",
         "yaxis": "y2"
        },
        {
         "alignmentgroup": "True",
         "bingroup": "x",
         "hovertemplate": "Cluster=%{x}<br>count=%{y}<extra></extra>",
         "legendgroup": "Cluster 29",
         "marker": {
          "color": "#FECB52",
          "opacity": 0.7,
          "pattern": {
           "shape": ""
          }
         },
         "name": "Cluster 29",
         "offsetgroup": "Cluster 29",
         "orientation": "v",
         "showlegend": true,
         "type": "histogram",
         "x": [
          "Cluster 29",
          "Cluster 29",
          "Cluster 29",
          "Cluster 29",
          "Cluster 29",
          "Cluster 29",
          "Cluster 29",
          "Cluster 29",
          "Cluster 29",
          "Cluster 29",
          "Cluster 29"
         ],
         "xaxis": "x",
         "yaxis": "y"
        },
        {
         "alignmentgroup": "True",
         "customdata": [
          [
           "c",
           0.005453485995531082,
           0.011442256160080433,
           0.012675215490162373,
           -0.0043985238298773766,
           5047.38623046875,
           0.07619298249483109,
           0.008489523082971573,
           3.321960687637329,
           4.176877975463867,
           4.959827423095703,
           0.042106568813323975,
           -918.6585083007812,
           -911.7252197265625,
           1.2395246028900146
          ],
          [
           "c",
           0.005464449524879456,
           0.007369031198322773,
           0.009173169732093811,
           0.6045340299606323,
           1558.1387939453125,
           0.05978892743587494,
           0.006352380849421024,
           3.755382776260376,
           4.65451192855835,
           5.42296838760376,
           0.034448761492967606,
           962.11181640625,
           925.0236206054688,
           0.5615736842155457
          ],
          [
           "c",
           0.005473039112985134,
           0.009477542713284492,
           0.0109441252425313,
           -0.3187859058380127,
           4167.615234375,
           0.06676133722066879,
           0.007326218765228987,
           3.547818899154663,
           4.455156326293945,
           5.299838066101074,
           0.03882777318358421,
           -1055.9879150390625,
           -1037.1309814453125,
           0.8848588466644287
          ],
          [
           "c",
           0.005505589302629232,
           0.009059097617864609,
           0.010600730776786804,
           1.3362058401107788,
           3878.342529296875,
           0.08437363058328629,
           0.007023440673947334,
           4.075568675994873,
           5.195364952087402,
           6.151401519775391,
           0.04320400580763817,
           1009.7899169921875,
           911.6908569335938,
           1.2530118227005005
          ],
          [
           "c",
           0.005446117836982012,
           0.010178553871810436,
           0.011543761007487774,
           -0.7183502316474915,
           5114.7734375,
           0.05562150850892067,
           0.007649489212781191,
           2.891176462173462,
           3.64217209815979,
           4.363042831420898,
           0.033375050872564316,
           1055.9879150390625,
           1037.1309814453125,
           0.9066747426986694
          ],
          [
           "c",
           0.005459781736135483,
           0.012936368584632874,
           0.01404111459851265,
           -0.6494572758674622,
           5461.0478515625,
           0.0770297721028328,
           0.009846813045442104,
           3.070417881011963,
           3.747910261154175,
           4.378278732299805,
           0.04311209172010422,
           -3886.365478515625,
           -3742.811279296875,
           1.1579819917678833
          ],
          [
           "c",
           0.005422403570264578,
           0.008803361095488071,
           0.010338524356484413,
           1.089070200920105,
           1802.6754150390625,
           0.08822472393512726,
           0.0069878799840807915,
           4.74163818359375,
           5.952059268951416,
           7.015223503112793,
           0.039203181862831116,
           -1275.1319580078125,
           -1112.4739990234375,
           0.41670605540275574
          ],
          [
           "c",
           0.005473158322274685,
           0.01049328874796629,
           0.011834675446152687,
           -0.6066091656684875,
           4844.8955078125,
           0.06369268149137497,
           0.008109944872558117,
           3.052088499069214,
           3.7855355739593506,
           4.453849792480469,
           0.03612047806382179,
           -3163.278076171875,
           -3158.478271484375,
           0.8307616710662842
          ],
          [
           "c",
           0.005521559156477451,
           0.011422527022659779,
           0.012686658650636673,
           0.4643588066101074,
           3282.58349609375,
           0.08571594208478928,
           0.00846195500344038,
           3.4045143127441406,
           4.3011627197265625,
           5.104247570037842,
           0.04319191351532936,
           908.7817993164062,
           1414.1717529296875,
           1.1197659969329834
          ],
          [
           "c",
           0.00549487117677927,
           0.010488476604223251,
           0.01183933112770319,
           0.7727540135383606,
           1569.98486328125,
           0.08338705450296402,
           0.007794083096086979,
           3.7271621227264404,
           4.757381916046143,
           5.66161584854126,
           0.04412710666656494,
           -3875.3544921875,
           -3933.5322265625,
           0.46339815855026245
          ],
          [
           "c",
           0.005494463257491589,
           0.009214868769049644,
           0.010728462599217892,
           1.446057677268982,
           4356.21142578125,
           0.0783717930316925,
           0.007104684133082628,
           3.848846912384033,
           4.917168140411377,
           5.811969757080078,
           0.041292209178209305,
           918.6585083007812,
           911.7252197265625,
           1.261342167854309
          ]
         ],
         "hovertemplate": "Cluster=%{x}<br>chatter_presence=%{customdata[0]}<br>med=%{customdata[1]}<br>std=%{customdata[2]}<br>rms=%{customdata[3]}<br>curtose=%{customdata[4]}<br>distortion=%{customdata[5]}<br>amplitude=%{customdata[6]}<br>sra=%{customdata[7]}<br>crest=%{customdata[8]}<br>impulse=%{customdata[9]}<br>margin=%{customdata[10]}<br>max=%{customdata[11]}<br>freq_max=%{customdata[12]}<br>freq_sec_highest=%{customdata[13]}<br>fft_mean=%{customdata[14]}<extra></extra>",
         "legendgroup": "Cluster 29",
         "marker": {
          "color": "#FECB52"
         },
         "name": "Cluster 29",
         "notched": true,
         "offsetgroup": "Cluster 29",
         "showlegend": false,
         "type": "box",
         "x": [
          "Cluster 29",
          "Cluster 29",
          "Cluster 29",
          "Cluster 29",
          "Cluster 29",
          "Cluster 29",
          "Cluster 29",
          "Cluster 29",
          "Cluster 29",
          "Cluster 29",
          "Cluster 29"
         ],
         "xaxis": "x2",
         "yaxis": "y2"
        },
        {
         "alignmentgroup": "True",
         "bingroup": "x",
         "hovertemplate": "Cluster=%{x}<br>count=%{y}<extra></extra>",
         "legendgroup": "Cluster 30",
         "marker": {
          "color": "#636efa",
          "opacity": 0.7,
          "pattern": {
           "shape": ""
          }
         },
         "name": "Cluster 30",
         "offsetgroup": "Cluster 30",
         "orientation": "v",
         "showlegend": true,
         "type": "histogram",
         "x": [
          "Cluster 30",
          "Cluster 30",
          "Cluster 30",
          "Cluster 30",
          "Cluster 30",
          "Cluster 30",
          "Cluster 30",
          "Cluster 30",
          "Cluster 30",
          "Cluster 30",
          "Cluster 30",
          "Cluster 30",
          "Cluster 30",
          "Cluster 30",
          "Cluster 30",
          "Cluster 30"
         ],
         "xaxis": "x",
         "yaxis": "y"
        },
        {
         "alignmentgroup": "True",
         "customdata": [
          [
           "s",
           0.005490306299179792,
           0.0022342116571962833,
           0.005927357356995344,
           -0.6335378885269165,
           2692.712158203125,
           0.013594969175755978,
           0.0052221608348190784,
           2.0749387741088867,
           2.2386181354522705,
           2.3551368713378906,
           0.012298903428018093,
           119.99040222167969,
           707.1434326171875,
           0.14971233904361725
          ],
          [
           "s",
           0.0054839616641402245,
           0.0026645883917808533,
           0.006096727214753628,
           -0.08796826750040054,
           1858.7215576171875,
           0.017973849549889565,
           0.0051499526016414165,
           2.3262622356414795,
           2.5682756900787354,
           2.7539255619049072,
           0.01418258622288704,
           -119.98400115966797,
           -1354.486083984375,
           0.14906032383441925
          ],
          [
           "s",
           0.005497574340552092,
           0.0018428986659273505,
           0.005798199214041233,
           -0.6651607155799866,
           4171.9853515625,
           0.011975116096436977,
           0.005331350024789572,
           2.009425640106201,
           2.1192708015441895,
           2.185384750366211,
           0.011651050299406052,
           56.17578125,
           120.17350769042969,
           0.18323969841003418
          ],
          [
           "s",
           0.005539815407246351,
           0.0024881886783987284,
           0.006072779651731253,
           -0.26751378178596497,
           2458.9609375,
           0.016778307035565376,
           0.005230176728218794,
           2.2715094089508057,
           2.4790542125701904,
           2.6374590396881104,
           0.013794377446174622,
           -712.7429809570312,
           -693.5444946289062,
           0.13218194246292114
          ],
          [
           "s",
           0.005488295573741198,
           0.0022204939741641283,
           0.005920337978750467,
           -0.6905946731567383,
           2845.8779296875,
           0.012448483146727085,
           0.0052293697372078896,
           1.9634066820144653,
           2.117325782775879,
           2.2228360176086426,
           0.011624031700193882,
           712.7429809570312,
           693.5444946289062,
           0.15419816970825195
          ],
          [
           "s",
           0.005495775490999222,
           0.0018408057512715459,
           0.005795828532427549,
           -0.6279401183128357,
           4062.48486328125,
           0.011499013751745224,
           0.005328754894435406,
           2.063408613204956,
           2.1760647296905518,
           2.244269609451294,
           0.011959163472056389,
           -56.17578125,
           -24.176918029785156,
           0.16126848757266998
          ],
          [
           "s",
           0.005643823649734259,
           0.002042681211605668,
           0.0060020992532372475,
           -0.2649109661579132,
           8046.67431640625,
           0.020073451101779938,
           0.0054367221891880035,
           2.5992259979248047,
           2.7623484134674072,
           2.869525671005249,
           0.015600812621414661,
           119.99931335449219,
           360.1122131347656,
           0.5546921491622925
          ],
          [
           "s",
           0.0055136289447546005,
           0.0028541795909404755,
           0.006208513397723436,
           -0.39033883810043335,
           4395.6787109375,
           0.019454732537269592,
           0.005140936467796564,
           2.2920446395874023,
           2.5548620223999023,
           2.7680153846740723,
           0.014230189844965935,
           -120.36626434326172,
           -368.7293701171875,
           0.2755771577358246
          ],
          [
           "s",
           0.005475057289004326,
           0.0023239145521074533,
           0.005947697442024946,
           -0.10737226158380508,
           2440.19287109375,
           0.01586226560175419,
           0.0052075511775910854,
           2.2889509201049805,
           2.4806017875671387,
           2.6142780780792236,
           0.0136139877140522,
           82.4000015258789,
           1371.199951171875,
           0.1377294808626175
          ],
          [
           "s",
           0.00545826880261302,
           0.001853855443187058,
           0.005764437839388847,
           -0.3124939203262329,
           3350.96875,
           0.014756320975720882,
           0.005291395355015993,
           2.0421321392059326,
           2.1552114486694336,
           2.2246954441070557,
           0.011771743185818195,
           -179.19044494628906,
           -798.8907470703125,
           0.1657542884349823
          ],
          [
           "s",
           0.005495052319020033,
           0.0018354712519794703,
           0.005793461576104164,
           -0.29255393147468567,
           4800.73388671875,
           0.013056370429694653,
           0.005322202108800411,
           2.016540765762329,
           2.1257340908050537,
           2.1950972080230713,
           0.011682750657200813,
           1098.10400390625,
           1680.2218017578125,
           0.22144196927547455
          ],
          [
           "s",
           0.005502224434167147,
           0.0017939945682883263,
           0.0057872687466442585,
           -0.7323462963104248,
           4874.212890625,
           0.010558194480836391,
           0.005344810429960489,
           1.8129475116729736,
           1.9068619012832642,
           1.9630283117294312,
           0.010492014698684216,
           -2366.96435546875,
           -1610.1884765625,
           0.17068466544151306
          ],
          [
           "s",
           0.0054779332131147385,
           0.0024084006436169147,
           0.005983959883451462,
           -0.4093126654624939,
           5009.95263671875,
           0.018884757533669472,
           0.0051842061802744865,
           2.4946165084838867,
           2.719534158706665,
           2.8794543743133545,
           0.01492768619209528,
           482.8722839355469,
           22.079647064208984,
           0.32310783863067627
          ],
          [
           "s",
           0.005491230171173811,
           0.0019303848966956139,
           0.005820601247251034,
           -0.2712858319282532,
           3496.08837890625,
           0.014244427904486656,
           0.005298356059938669,
           2.2603726387023926,
           2.3957929611206055,
           2.4831717014312744,
           0.013156726956367493,
           -979.9608154296875,
           -377.9848937988281,
           0.19613714516162872
          ],
          [
           "s",
           0.005497642792761326,
           0.002849229145795107,
           0.006192042026668787,
           -0.3065606653690338,
           3883.794189453125,
           0.021468063816428185,
           0.005121820140630007,
           2.5940754413604736,
           2.8927440643310547,
           3.1361165046691895,
           0.016062624752521515,
           120.36626434326172,
           368.7293701171875,
           0.2975490391254425
          ],
          [
           "s",
           0.00551525317132473,
           0.0023485980927944183,
           0.005994344595819712,
           -0.4803493022918701,
           2281.35986328125,
           0.016519254073500633,
           0.005229203496128321,
           2.448016881942749,
           2.6576452255249023,
           2.8062126636505127,
           0.014674256555736065,
           -119.99040222167969,
           -707.1434326171875,
           0.12774568796157837
          ]
         ],
         "hovertemplate": "Cluster=%{x}<br>chatter_presence=%{customdata[0]}<br>med=%{customdata[1]}<br>std=%{customdata[2]}<br>rms=%{customdata[3]}<br>curtose=%{customdata[4]}<br>distortion=%{customdata[5]}<br>amplitude=%{customdata[6]}<br>sra=%{customdata[7]}<br>crest=%{customdata[8]}<br>impulse=%{customdata[9]}<br>margin=%{customdata[10]}<br>max=%{customdata[11]}<br>freq_max=%{customdata[12]}<br>freq_sec_highest=%{customdata[13]}<br>fft_mean=%{customdata[14]}<extra></extra>",
         "legendgroup": "Cluster 30",
         "marker": {
          "color": "#636efa"
         },
         "name": "Cluster 30",
         "notched": true,
         "offsetgroup": "Cluster 30",
         "showlegend": false,
         "type": "box",
         "x": [
          "Cluster 30",
          "Cluster 30",
          "Cluster 30",
          "Cluster 30",
          "Cluster 30",
          "Cluster 30",
          "Cluster 30",
          "Cluster 30",
          "Cluster 30",
          "Cluster 30",
          "Cluster 30",
          "Cluster 30",
          "Cluster 30",
          "Cluster 30",
          "Cluster 30",
          "Cluster 30"
         ],
         "xaxis": "x2",
         "yaxis": "y2"
        }
       ],
       "layout": {
        "barmode": "relative",
        "height": 600,
        "legend": {
         "title": {
          "text": "Cluster"
         },
         "tracegroupgap": 0
        },
        "margin": {
         "t": 60
        },
        "template": {
         "data": {
          "bar": [
           {
            "error_x": {
             "color": "#2a3f5f"
            },
            "error_y": {
             "color": "#2a3f5f"
            },
            "marker": {
             "line": {
              "color": "#E5ECF6",
              "width": 0.5
             },
             "pattern": {
              "fillmode": "overlay",
              "size": 10,
              "solidity": 0.2
             }
            },
            "type": "bar"
           }
          ],
          "barpolar": [
           {
            "marker": {
             "line": {
              "color": "#E5ECF6",
              "width": 0.5
             },
             "pattern": {
              "fillmode": "overlay",
              "size": 10,
              "solidity": 0.2
             }
            },
            "type": "barpolar"
           }
          ],
          "carpet": [
           {
            "aaxis": {
             "endlinecolor": "#2a3f5f",
             "gridcolor": "white",
             "linecolor": "white",
             "minorgridcolor": "white",
             "startlinecolor": "#2a3f5f"
            },
            "baxis": {
             "endlinecolor": "#2a3f5f",
             "gridcolor": "white",
             "linecolor": "white",
             "minorgridcolor": "white",
             "startlinecolor": "#2a3f5f"
            },
            "type": "carpet"
           }
          ],
          "choropleth": [
           {
            "colorbar": {
             "outlinewidth": 0,
             "ticks": ""
            },
            "type": "choropleth"
           }
          ],
          "contour": [
           {
            "colorbar": {
             "outlinewidth": 0,
             "ticks": ""
            },
            "colorscale": [
             [
              0,
              "#0d0887"
             ],
             [
              0.1111111111111111,
              "#46039f"
             ],
             [
              0.2222222222222222,
              "#7201a8"
             ],
             [
              0.3333333333333333,
              "#9c179e"
             ],
             [
              0.4444444444444444,
              "#bd3786"
             ],
             [
              0.5555555555555556,
              "#d8576b"
             ],
             [
              0.6666666666666666,
              "#ed7953"
             ],
             [
              0.7777777777777778,
              "#fb9f3a"
             ],
             [
              0.8888888888888888,
              "#fdca26"
             ],
             [
              1,
              "#f0f921"
             ]
            ],
            "type": "contour"
           }
          ],
          "contourcarpet": [
           {
            "colorbar": {
             "outlinewidth": 0,
             "ticks": ""
            },
            "type": "contourcarpet"
           }
          ],
          "heatmap": [
           {
            "colorbar": {
             "outlinewidth": 0,
             "ticks": ""
            },
            "colorscale": [
             [
              0,
              "#0d0887"
             ],
             [
              0.1111111111111111,
              "#46039f"
             ],
             [
              0.2222222222222222,
              "#7201a8"
             ],
             [
              0.3333333333333333,
              "#9c179e"
             ],
             [
              0.4444444444444444,
              "#bd3786"
             ],
             [
              0.5555555555555556,
              "#d8576b"
             ],
             [
              0.6666666666666666,
              "#ed7953"
             ],
             [
              0.7777777777777778,
              "#fb9f3a"
             ],
             [
              0.8888888888888888,
              "#fdca26"
             ],
             [
              1,
              "#f0f921"
             ]
            ],
            "type": "heatmap"
           }
          ],
          "heatmapgl": [
           {
            "colorbar": {
             "outlinewidth": 0,
             "ticks": ""
            },
            "colorscale": [
             [
              0,
              "#0d0887"
             ],
             [
              0.1111111111111111,
              "#46039f"
             ],
             [
              0.2222222222222222,
              "#7201a8"
             ],
             [
              0.3333333333333333,
              "#9c179e"
             ],
             [
              0.4444444444444444,
              "#bd3786"
             ],
             [
              0.5555555555555556,
              "#d8576b"
             ],
             [
              0.6666666666666666,
              "#ed7953"
             ],
             [
              0.7777777777777778,
              "#fb9f3a"
             ],
             [
              0.8888888888888888,
              "#fdca26"
             ],
             [
              1,
              "#f0f921"
             ]
            ],
            "type": "heatmapgl"
           }
          ],
          "histogram": [
           {
            "marker": {
             "pattern": {
              "fillmode": "overlay",
              "size": 10,
              "solidity": 0.2
             }
            },
            "type": "histogram"
           }
          ],
          "histogram2d": [
           {
            "colorbar": {
             "outlinewidth": 0,
             "ticks": ""
            },
            "colorscale": [
             [
              0,
              "#0d0887"
             ],
             [
              0.1111111111111111,
              "#46039f"
             ],
             [
              0.2222222222222222,
              "#7201a8"
             ],
             [
              0.3333333333333333,
              "#9c179e"
             ],
             [
              0.4444444444444444,
              "#bd3786"
             ],
             [
              0.5555555555555556,
              "#d8576b"
             ],
             [
              0.6666666666666666,
              "#ed7953"
             ],
             [
              0.7777777777777778,
              "#fb9f3a"
             ],
             [
              0.8888888888888888,
              "#fdca26"
             ],
             [
              1,
              "#f0f921"
             ]
            ],
            "type": "histogram2d"
           }
          ],
          "histogram2dcontour": [
           {
            "colorbar": {
             "outlinewidth": 0,
             "ticks": ""
            },
            "colorscale": [
             [
              0,
              "#0d0887"
             ],
             [
              0.1111111111111111,
              "#46039f"
             ],
             [
              0.2222222222222222,
              "#7201a8"
             ],
             [
              0.3333333333333333,
              "#9c179e"
             ],
             [
              0.4444444444444444,
              "#bd3786"
             ],
             [
              0.5555555555555556,
              "#d8576b"
             ],
             [
              0.6666666666666666,
              "#ed7953"
             ],
             [
              0.7777777777777778,
              "#fb9f3a"
             ],
             [
              0.8888888888888888,
              "#fdca26"
             ],
             [
              1,
              "#f0f921"
             ]
            ],
            "type": "histogram2dcontour"
           }
          ],
          "mesh3d": [
           {
            "colorbar": {
             "outlinewidth": 0,
             "ticks": ""
            },
            "type": "mesh3d"
           }
          ],
          "parcoords": [
           {
            "line": {
             "colorbar": {
              "outlinewidth": 0,
              "ticks": ""
             }
            },
            "type": "parcoords"
           }
          ],
          "pie": [
           {
            "automargin": true,
            "type": "pie"
           }
          ],
          "scatter": [
           {
            "fillpattern": {
             "fillmode": "overlay",
             "size": 10,
             "solidity": 0.2
            },
            "type": "scatter"
           }
          ],
          "scatter3d": [
           {
            "line": {
             "colorbar": {
              "outlinewidth": 0,
              "ticks": ""
             }
            },
            "marker": {
             "colorbar": {
              "outlinewidth": 0,
              "ticks": ""
             }
            },
            "type": "scatter3d"
           }
          ],
          "scattercarpet": [
           {
            "marker": {
             "colorbar": {
              "outlinewidth": 0,
              "ticks": ""
             }
            },
            "type": "scattercarpet"
           }
          ],
          "scattergeo": [
           {
            "marker": {
             "colorbar": {
              "outlinewidth": 0,
              "ticks": ""
             }
            },
            "type": "scattergeo"
           }
          ],
          "scattergl": [
           {
            "marker": {
             "colorbar": {
              "outlinewidth": 0,
              "ticks": ""
             }
            },
            "type": "scattergl"
           }
          ],
          "scattermapbox": [
           {
            "marker": {
             "colorbar": {
              "outlinewidth": 0,
              "ticks": ""
             }
            },
            "type": "scattermapbox"
           }
          ],
          "scatterpolar": [
           {
            "marker": {
             "colorbar": {
              "outlinewidth": 0,
              "ticks": ""
             }
            },
            "type": "scatterpolar"
           }
          ],
          "scatterpolargl": [
           {
            "marker": {
             "colorbar": {
              "outlinewidth": 0,
              "ticks": ""
             }
            },
            "type": "scatterpolargl"
           }
          ],
          "scatterternary": [
           {
            "marker": {
             "colorbar": {
              "outlinewidth": 0,
              "ticks": ""
             }
            },
            "type": "scatterternary"
           }
          ],
          "surface": [
           {
            "colorbar": {
             "outlinewidth": 0,
             "ticks": ""
            },
            "colorscale": [
             [
              0,
              "#0d0887"
             ],
             [
              0.1111111111111111,
              "#46039f"
             ],
             [
              0.2222222222222222,
              "#7201a8"
             ],
             [
              0.3333333333333333,
              "#9c179e"
             ],
             [
              0.4444444444444444,
              "#bd3786"
             ],
             [
              0.5555555555555556,
              "#d8576b"
             ],
             [
              0.6666666666666666,
              "#ed7953"
             ],
             [
              0.7777777777777778,
              "#fb9f3a"
             ],
             [
              0.8888888888888888,
              "#fdca26"
             ],
             [
              1,
              "#f0f921"
             ]
            ],
            "type": "surface"
           }
          ],
          "table": [
           {
            "cells": {
             "fill": {
              "color": "#EBF0F8"
             },
             "line": {
              "color": "white"
             }
            },
            "header": {
             "fill": {
              "color": "#C8D4E3"
             },
             "line": {
              "color": "white"
             }
            },
            "type": "table"
           }
          ]
         },
         "layout": {
          "annotationdefaults": {
           "arrowcolor": "#2a3f5f",
           "arrowhead": 0,
           "arrowwidth": 1
          },
          "autotypenumbers": "strict",
          "coloraxis": {
           "colorbar": {
            "outlinewidth": 0,
            "ticks": ""
           }
          },
          "colorscale": {
           "diverging": [
            [
             0,
             "#8e0152"
            ],
            [
             0.1,
             "#c51b7d"
            ],
            [
             0.2,
             "#de77ae"
            ],
            [
             0.3,
             "#f1b6da"
            ],
            [
             0.4,
             "#fde0ef"
            ],
            [
             0.5,
             "#f7f7f7"
            ],
            [
             0.6,
             "#e6f5d0"
            ],
            [
             0.7,
             "#b8e186"
            ],
            [
             0.8,
             "#7fbc41"
            ],
            [
             0.9,
             "#4d9221"
            ],
            [
             1,
             "#276419"
            ]
           ],
           "sequential": [
            [
             0,
             "#0d0887"
            ],
            [
             0.1111111111111111,
             "#46039f"
            ],
            [
             0.2222222222222222,
             "#7201a8"
            ],
            [
             0.3333333333333333,
             "#9c179e"
            ],
            [
             0.4444444444444444,
             "#bd3786"
            ],
            [
             0.5555555555555556,
             "#d8576b"
            ],
            [
             0.6666666666666666,
             "#ed7953"
            ],
            [
             0.7777777777777778,
             "#fb9f3a"
            ],
            [
             0.8888888888888888,
             "#fdca26"
            ],
            [
             1,
             "#f0f921"
            ]
           ],
           "sequentialminus": [
            [
             0,
             "#0d0887"
            ],
            [
             0.1111111111111111,
             "#46039f"
            ],
            [
             0.2222222222222222,
             "#7201a8"
            ],
            [
             0.3333333333333333,
             "#9c179e"
            ],
            [
             0.4444444444444444,
             "#bd3786"
            ],
            [
             0.5555555555555556,
             "#d8576b"
            ],
            [
             0.6666666666666666,
             "#ed7953"
            ],
            [
             0.7777777777777778,
             "#fb9f3a"
            ],
            [
             0.8888888888888888,
             "#fdca26"
            ],
            [
             1,
             "#f0f921"
            ]
           ]
          },
          "colorway": [
           "#636efa",
           "#EF553B",
           "#00cc96",
           "#ab63fa",
           "#FFA15A",
           "#19d3f3",
           "#FF6692",
           "#B6E880",
           "#FF97FF",
           "#FECB52"
          ],
          "font": {
           "color": "#2a3f5f"
          },
          "geo": {
           "bgcolor": "white",
           "lakecolor": "white",
           "landcolor": "#E5ECF6",
           "showlakes": true,
           "showland": true,
           "subunitcolor": "white"
          },
          "hoverlabel": {
           "align": "left"
          },
          "hovermode": "closest",
          "mapbox": {
           "style": "light"
          },
          "paper_bgcolor": "white",
          "plot_bgcolor": "#E5ECF6",
          "polar": {
           "angularaxis": {
            "gridcolor": "white",
            "linecolor": "white",
            "ticks": ""
           },
           "bgcolor": "#E5ECF6",
           "radialaxis": {
            "gridcolor": "white",
            "linecolor": "white",
            "ticks": ""
           }
          },
          "scene": {
           "xaxis": {
            "backgroundcolor": "#E5ECF6",
            "gridcolor": "white",
            "gridwidth": 2,
            "linecolor": "white",
            "showbackground": true,
            "ticks": "",
            "zerolinecolor": "white"
           },
           "yaxis": {
            "backgroundcolor": "#E5ECF6",
            "gridcolor": "white",
            "gridwidth": 2,
            "linecolor": "white",
            "showbackground": true,
            "ticks": "",
            "zerolinecolor": "white"
           },
           "zaxis": {
            "backgroundcolor": "#E5ECF6",
            "gridcolor": "white",
            "gridwidth": 2,
            "linecolor": "white",
            "showbackground": true,
            "ticks": "",
            "zerolinecolor": "white"
           }
          },
          "shapedefaults": {
           "line": {
            "color": "#2a3f5f"
           }
          },
          "ternary": {
           "aaxis": {
            "gridcolor": "white",
            "linecolor": "white",
            "ticks": ""
           },
           "baxis": {
            "gridcolor": "white",
            "linecolor": "white",
            "ticks": ""
           },
           "bgcolor": "#E5ECF6",
           "caxis": {
            "gridcolor": "white",
            "linecolor": "white",
            "ticks": ""
           }
          },
          "title": {
           "x": 0.05
          },
          "xaxis": {
           "automargin": true,
           "gridcolor": "white",
           "linecolor": "white",
           "ticks": "",
           "title": {
            "standoff": 15
           },
           "zerolinecolor": "white",
           "zerolinewidth": 2
          },
          "yaxis": {
           "automargin": true,
           "gridcolor": "white",
           "linecolor": "white",
           "ticks": "",
           "title": {
            "standoff": 15
           },
           "zerolinecolor": "white",
           "zerolinewidth": 2
          }
         }
        },
        "xaxis": {
         "anchor": "y",
         "categoryarray": [
          "Cluster 0",
          "Cluster 1",
          "Cluster 2",
          "Cluster 3",
          "Cluster 4",
          "Cluster 5",
          "Cluster 6",
          "Cluster 7",
          "Cluster 8",
          "Cluster 9",
          "Cluster 10",
          "Cluster 11",
          "Cluster 12",
          "Cluster 13",
          "Cluster 14",
          "Cluster 15",
          "Cluster 16",
          "Cluster 17",
          "Cluster 18",
          "Cluster 19",
          "Cluster 20",
          "Cluster 21",
          "Cluster 22",
          "Cluster 23",
          "Cluster 24",
          "Cluster 25",
          "Cluster 26",
          "Cluster 27",
          "Cluster 28",
          "Cluster 29",
          "Cluster 30"
         ],
         "categoryorder": "array",
         "domain": [
          0,
          1
         ],
         "title": {
          "text": "Cluster"
         }
        },
        "xaxis2": {
         "anchor": "y2",
         "domain": [
          0,
          1
         ],
         "matches": "x",
         "showgrid": true,
         "showticklabels": false
        },
        "yaxis": {
         "anchor": "x",
         "domain": [
          0,
          0.7326
         ],
         "title": {
          "text": "count"
         }
        },
        "yaxis2": {
         "anchor": "x2",
         "domain": [
          0.7426,
          1
         ],
         "matches": "y2",
         "showgrid": false,
         "showline": false,
         "showticklabels": false,
         "ticks": ""
        }
       }
      }
     },
     "metadata": {},
     "output_type": "display_data"
    }
   ],
   "source": [
    "plot_model(ap, plot = 'distribution')"
   ]
  },
  {
   "cell_type": "code",
   "execution_count": null,
   "metadata": {},
   "outputs": [
    {
     "data": {
      "text/plain": [
       "s    200\n",
       "c     88\n",
       "i     76\n",
       "Name: chatter_presence, dtype: int64"
      ]
     },
     "execution_count": 70,
     "metadata": {},
     "output_type": "execute_result"
    }
   ],
   "source": [
    "df.chatter_presence.value_counts()"
   ]
  },
  {
   "attachments": {},
   "cell_type": "markdown",
   "metadata": {},
   "source": [
    "# meanshift"
   ]
  },
  {
   "cell_type": "code",
   "execution_count": null,
   "metadata": {},
   "outputs": [
    {
     "data": {
      "text/html": [
       "<style type=\"text/css\">\n",
       "</style>\n",
       "<table id=\"T_fc91f\">\n",
       "  <thead>\n",
       "    <tr>\n",
       "      <th class=\"blank level0\" >&nbsp;</th>\n",
       "      <th id=\"T_fc91f_level0_col0\" class=\"col_heading level0 col0\" >Silhouette</th>\n",
       "      <th id=\"T_fc91f_level0_col1\" class=\"col_heading level0 col1\" >Calinski-Harabasz</th>\n",
       "      <th id=\"T_fc91f_level0_col2\" class=\"col_heading level0 col2\" >Davies-Bouldin</th>\n",
       "      <th id=\"T_fc91f_level0_col3\" class=\"col_heading level0 col3\" >Homogeneity</th>\n",
       "      <th id=\"T_fc91f_level0_col4\" class=\"col_heading level0 col4\" >Rand Index</th>\n",
       "      <th id=\"T_fc91f_level0_col5\" class=\"col_heading level0 col5\" >Completeness</th>\n",
       "    </tr>\n",
       "  </thead>\n",
       "  <tbody>\n",
       "    <tr>\n",
       "      <th id=\"T_fc91f_level0_row0\" class=\"row_heading level0 row0\" >0</th>\n",
       "      <td id=\"T_fc91f_row0_col0\" class=\"data row0 col0\" >0.5800</td>\n",
       "      <td id=\"T_fc91f_row0_col1\" class=\"data row0 col1\" >44.0011</td>\n",
       "      <td id=\"T_fc91f_row0_col2\" class=\"data row0 col2\" >0.6265</td>\n",
       "      <td id=\"T_fc91f_row0_col3\" class=\"data row0 col3\" >0</td>\n",
       "      <td id=\"T_fc91f_row0_col4\" class=\"data row0 col4\" >0</td>\n",
       "      <td id=\"T_fc91f_row0_col5\" class=\"data row0 col5\" >0</td>\n",
       "    </tr>\n",
       "  </tbody>\n",
       "</table>\n"
      ],
      "text/plain": [
       "<pandas.io.formats.style.Styler at 0x7f1ffeaa27a0>"
      ]
     },
     "metadata": {},
     "output_type": "display_data"
    }
   ],
   "source": [
    "meanshift = create_model('meanshift', num_clusters=2)"
   ]
  },
  {
   "cell_type": "code",
   "execution_count": null,
   "metadata": {},
   "outputs": [
    {
     "data": {
      "text/html": [
       "<div>\n",
       "<style scoped>\n",
       "    .dataframe tbody tr th:only-of-type {\n",
       "        vertical-align: middle;\n",
       "    }\n",
       "\n",
       "    .dataframe tbody tr th {\n",
       "        vertical-align: top;\n",
       "    }\n",
       "\n",
       "    .dataframe thead th {\n",
       "        text-align: right;\n",
       "    }\n",
       "</style>\n",
       "<table border=\"1\" class=\"dataframe\">\n",
       "  <thead>\n",
       "    <tr style=\"text-align: right;\">\n",
       "      <th></th>\n",
       "      <th>chatter_presence</th>\n",
       "      <th>med</th>\n",
       "      <th>std</th>\n",
       "      <th>rms</th>\n",
       "      <th>curtose</th>\n",
       "      <th>distortion</th>\n",
       "      <th>amplitude</th>\n",
       "      <th>sra</th>\n",
       "      <th>crest</th>\n",
       "      <th>impulse</th>\n",
       "      <th>margin</th>\n",
       "      <th>max</th>\n",
       "      <th>freq_max</th>\n",
       "      <th>freq_sec_highest</th>\n",
       "      <th>fft_mean</th>\n",
       "      <th>Cluster</th>\n",
       "    </tr>\n",
       "  </thead>\n",
       "  <tbody>\n",
       "    <tr>\n",
       "      <th>0</th>\n",
       "      <td>s</td>\n",
       "      <td>0.005482</td>\n",
       "      <td>0.002285</td>\n",
       "      <td>0.005940</td>\n",
       "      <td>-0.684501</td>\n",
       "      <td>13046.608398</td>\n",
       "      <td>0.019401</td>\n",
       "      <td>0.005217</td>\n",
       "      <td>2.709846</td>\n",
       "      <td>2.934680</td>\n",
       "      <td>3.084994</td>\n",
       "      <td>0.016095</td>\n",
       "      <td>3075.253906</td>\n",
       "      <td>3314.593262</td>\n",
       "      <td>0.617542</td>\n",
       "      <td>Cluster 0</td>\n",
       "    </tr>\n",
       "    <tr>\n",
       "      <th>1</th>\n",
       "      <td>s</td>\n",
       "      <td>0.005475</td>\n",
       "      <td>0.002081</td>\n",
       "      <td>0.005857</td>\n",
       "      <td>-0.254890</td>\n",
       "      <td>7052.356934</td>\n",
       "      <td>0.041907</td>\n",
       "      <td>0.005266</td>\n",
       "      <td>4.755545</td>\n",
       "      <td>5.084255</td>\n",
       "      <td>5.289695</td>\n",
       "      <td>0.027854</td>\n",
       "      <td>119.866402</td>\n",
       "      <td>696.665100</td>\n",
       "      <td>0.406478</td>\n",
       "      <td>Cluster 0</td>\n",
       "    </tr>\n",
       "    <tr>\n",
       "      <th>2</th>\n",
       "      <td>s</td>\n",
       "      <td>0.005492</td>\n",
       "      <td>0.001971</td>\n",
       "      <td>0.005835</td>\n",
       "      <td>-1.170823</td>\n",
       "      <td>8819.340820</td>\n",
       "      <td>0.010459</td>\n",
       "      <td>0.005303</td>\n",
       "      <td>1.792693</td>\n",
       "      <td>1.904703</td>\n",
       "      <td>1.972551</td>\n",
       "      <td>0.010460</td>\n",
       "      <td>-119.598801</td>\n",
       "      <td>-1207.787964</td>\n",
       "      <td>0.159834</td>\n",
       "      <td>Cluster 0</td>\n",
       "    </tr>\n",
       "    <tr>\n",
       "      <th>3</th>\n",
       "      <td>c</td>\n",
       "      <td>0.005414</td>\n",
       "      <td>0.040638</td>\n",
       "      <td>0.040996</td>\n",
       "      <td>0.898666</td>\n",
       "      <td>4733.248535</td>\n",
       "      <td>0.416909</td>\n",
       "      <td>0.026842</td>\n",
       "      <td>5.159852</td>\n",
       "      <td>6.625808</td>\n",
       "      <td>7.880688</td>\n",
       "      <td>0.205375</td>\n",
       "      <td>-945.862488</td>\n",
       "      <td>-845.862915</td>\n",
       "      <td>6.028744</td>\n",
       "      <td>Cluster 1</td>\n",
       "    </tr>\n",
       "    <tr>\n",
       "      <th>4</th>\n",
       "      <td>c</td>\n",
       "      <td>0.005469</td>\n",
       "      <td>0.014140</td>\n",
       "      <td>0.015160</td>\n",
       "      <td>3.312443</td>\n",
       "      <td>1899.488770</td>\n",
       "      <td>0.160458</td>\n",
       "      <td>0.008789</td>\n",
       "      <td>5.493718</td>\n",
       "      <td>7.627771</td>\n",
       "      <td>9.475498</td>\n",
       "      <td>0.077174</td>\n",
       "      <td>933.575134</td>\n",
       "      <td>959.974426</td>\n",
       "      <td>1.305385</td>\n",
       "      <td>Cluster 0</td>\n",
       "    </tr>\n",
       "  </tbody>\n",
       "</table>\n",
       "</div>"
      ],
      "text/plain": [
       "  chatter_presence       med       std       rms   curtose    distortion  \\\n",
       "0                s  0.005482  0.002285  0.005940 -0.684501  13046.608398   \n",
       "1                s  0.005475  0.002081  0.005857 -0.254890   7052.356934   \n",
       "2                s  0.005492  0.001971  0.005835 -1.170823   8819.340820   \n",
       "3                c  0.005414  0.040638  0.040996  0.898666   4733.248535   \n",
       "4                c  0.005469  0.014140  0.015160  3.312443   1899.488770   \n",
       "\n",
       "   amplitude       sra     crest   impulse    margin       max     freq_max  \\\n",
       "0   0.019401  0.005217  2.709846  2.934680  3.084994  0.016095  3075.253906   \n",
       "1   0.041907  0.005266  4.755545  5.084255  5.289695  0.027854   119.866402   \n",
       "2   0.010459  0.005303  1.792693  1.904703  1.972551  0.010460  -119.598801   \n",
       "3   0.416909  0.026842  5.159852  6.625808  7.880688  0.205375  -945.862488   \n",
       "4   0.160458  0.008789  5.493718  7.627771  9.475498  0.077174   933.575134   \n",
       "\n",
       "   freq_sec_highest  fft_mean    Cluster  \n",
       "0       3314.593262  0.617542  Cluster 0  \n",
       "1        696.665100  0.406478  Cluster 0  \n",
       "2      -1207.787964  0.159834  Cluster 0  \n",
       "3       -845.862915  6.028744  Cluster 1  \n",
       "4        959.974426  1.305385  Cluster 0  "
      ]
     },
     "execution_count": 72,
     "metadata": {},
     "output_type": "execute_result"
    }
   ],
   "source": [
    "ms_results = assign_model(meanshift)\n",
    "ms_results.head()"
   ]
  },
  {
   "cell_type": "code",
   "execution_count": null,
   "metadata": {},
   "outputs": [
    {
     "data": {
      "text/html": [],
      "text/plain": [
       "<IPython.core.display.HTML object>"
      ]
     },
     "metadata": {},
     "output_type": "display_data"
    },
    {
     "data": {
      "application/vnd.plotly.v1+json": {
       "config": {
        "plotlyServerURL": "https://plot.ly"
       },
       "data": [
        {
         "customdata": [
          [
           0
          ],
          [
           247
          ],
          [
           246
          ],
          [
           245
          ],
          [
           244
          ],
          [
           243
          ],
          [
           242
          ],
          [
           241
          ],
          [
           240
          ],
          [
           248
          ],
          [
           239
          ],
          [
           237
          ],
          [
           236
          ],
          [
           235
          ],
          [
           234
          ],
          [
           233
          ],
          [
           232
          ],
          [
           231
          ],
          [
           230
          ],
          [
           238
          ],
          [
           249
          ],
          [
           250
          ],
          [
           251
          ],
          [
           270
          ],
          [
           269
          ],
          [
           268
          ],
          [
           267
          ],
          [
           266
          ],
          [
           265
          ],
          [
           264
          ],
          [
           263
          ],
          [
           262
          ],
          [
           261
          ],
          [
           260
          ],
          [
           259
          ],
          [
           258
          ],
          [
           257
          ],
          [
           256
          ],
          [
           255
          ],
          [
           254
          ],
          [
           253
          ],
          [
           252
          ],
          [
           229
          ],
          [
           228
          ],
          [
           227
          ],
          [
           226
          ],
          [
           202
          ],
          [
           201
          ],
          [
           200
          ],
          [
           199
          ],
          [
           198
          ],
          [
           197
          ],
          [
           196
          ],
          [
           195
          ],
          [
           194
          ],
          [
           193
          ],
          [
           192
          ],
          [
           191
          ],
          [
           190
          ],
          [
           189
          ],
          [
           188
          ],
          [
           187
          ],
          [
           186
          ],
          [
           185
          ],
          [
           184
          ],
          [
           203
          ],
          [
           271
          ],
          [
           204
          ],
          [
           206
          ],
          [
           225
          ],
          [
           224
          ],
          [
           223
          ],
          [
           222
          ],
          [
           221
          ],
          [
           220
          ],
          [
           219
          ],
          [
           218
          ],
          [
           217
          ],
          [
           216
          ],
          [
           215
          ],
          [
           214
          ],
          [
           213
          ],
          [
           212
          ],
          [
           211
          ],
          [
           210
          ],
          [
           209
          ],
          [
           208
          ],
          [
           207
          ],
          [
           205
          ],
          [
           183
          ],
          [
           272
          ],
          [
           274
          ],
          [
           338
          ],
          [
           337
          ],
          [
           336
          ],
          [
           335
          ],
          [
           334
          ],
          [
           333
          ],
          [
           332
          ],
          [
           331
          ],
          [
           339
          ],
          [
           330
          ],
          [
           328
          ],
          [
           327
          ],
          [
           326
          ],
          [
           325
          ],
          [
           324
          ],
          [
           323
          ],
          [
           322
          ],
          [
           321
          ],
          [
           329
          ],
          [
           340
          ],
          [
           341
          ],
          [
           342
          ],
          [
           361
          ],
          [
           360
          ],
          [
           359
          ],
          [
           358
          ],
          [
           357
          ],
          [
           356
          ],
          [
           355
          ],
          [
           354
          ],
          [
           353
          ],
          [
           352
          ],
          [
           351
          ],
          [
           350
          ],
          [
           349
          ],
          [
           348
          ],
          [
           347
          ],
          [
           346
          ],
          [
           345
          ],
          [
           344
          ],
          [
           343
          ],
          [
           320
          ],
          [
           319
          ],
          [
           318
          ],
          [
           317
          ],
          [
           293
          ],
          [
           292
          ],
          [
           291
          ],
          [
           290
          ],
          [
           289
          ],
          [
           288
          ],
          [
           287
          ],
          [
           286
          ],
          [
           285
          ],
          [
           284
          ],
          [
           283
          ],
          [
           282
          ],
          [
           281
          ],
          [
           280
          ],
          [
           279
          ],
          [
           278
          ],
          [
           277
          ],
          [
           276
          ],
          [
           275
          ],
          [
           294
          ],
          [
           273
          ],
          [
           295
          ],
          [
           297
          ],
          [
           316
          ],
          [
           315
          ],
          [
           314
          ],
          [
           313
          ],
          [
           312
          ],
          [
           311
          ],
          [
           310
          ],
          [
           309
          ],
          [
           308
          ],
          [
           307
          ],
          [
           306
          ],
          [
           305
          ],
          [
           304
          ],
          [
           303
          ],
          [
           302
          ],
          [
           301
          ],
          [
           300
          ],
          [
           299
          ],
          [
           298
          ],
          [
           296
          ],
          [
           182
          ],
          [
           181
          ],
          [
           180
          ],
          [
           67
          ],
          [
           66
          ],
          [
           65
          ],
          [
           64
          ],
          [
           63
          ],
          [
           62
          ],
          [
           61
          ],
          [
           60
          ],
          [
           68
          ],
          [
           59
          ],
          [
           57
          ],
          [
           56
          ],
          [
           55
          ],
          [
           53
          ],
          [
           52
          ],
          [
           51
          ],
          [
           50
          ],
          [
           49
          ],
          [
           58
          ],
          [
           48
          ],
          [
           69
          ],
          [
           72
          ],
          [
           362
          ],
          [
           89
          ],
          [
           88
          ],
          [
           87
          ],
          [
           86
          ],
          [
           85
          ],
          [
           84
          ],
          [
           83
          ],
          [
           70
          ],
          [
           82
          ],
          [
           80
          ],
          [
           79
          ],
          [
           78
          ],
          [
           77
          ],
          [
           76
          ],
          [
           75
          ],
          [
           74
          ],
          [
           73
          ],
          [
           81
          ],
          [
           91
          ],
          [
           47
          ],
          [
           45
          ],
          [
           20
          ],
          [
           19
          ],
          [
           18
          ],
          [
           17
          ],
          [
           15
          ],
          [
           14
          ],
          [
           13
          ],
          [
           12
          ],
          [
           21
          ],
          [
           11
          ],
          [
           9
          ],
          [
           8
          ],
          [
           7
          ],
          [
           6
          ],
          [
           5
          ],
          [
           4
          ],
          [
           2
          ],
          [
           1
          ],
          [
           10
          ],
          [
           46
          ],
          [
           22
          ],
          [
           24
          ],
          [
           44
          ],
          [
           42
          ],
          [
           41
          ],
          [
           40
          ],
          [
           39
          ],
          [
           38
          ],
          [
           37
          ],
          [
           36
          ],
          [
           23
          ],
          [
           35
          ],
          [
           33
          ],
          [
           32
          ],
          [
           31
          ],
          [
           30
          ],
          [
           29
          ],
          [
           27
          ],
          [
           26
          ],
          [
           25
          ],
          [
           34
          ],
          [
           92
          ],
          [
           90
          ],
          [
           94
          ],
          [
           157
          ],
          [
           156
          ],
          [
           155
          ],
          [
           154
          ],
          [
           153
          ],
          [
           150
          ],
          [
           149
          ],
          [
           148
          ],
          [
           158
          ],
          [
           147
          ],
          [
           145
          ],
          [
           144
          ],
          [
           143
          ],
          [
           142
          ],
          [
           141
          ],
          [
           140
          ],
          [
           139
          ],
          [
           93
          ],
          [
           146
          ],
          [
           136
          ],
          [
           159
          ],
          [
           161
          ],
          [
           179
          ],
          [
           178
          ],
          [
           177
          ],
          [
           176
          ],
          [
           175
          ],
          [
           174
          ],
          [
           173
          ],
          [
           172
          ],
          [
           160
          ],
          [
           171
          ],
          [
           169
          ],
          [
           168
          ],
          [
           167
          ],
          [
           166
          ],
          [
           165
          ],
          [
           164
          ],
          [
           163
          ],
          [
           162
          ],
          [
           170
          ],
          [
           135
          ],
          [
           138
          ],
          [
           133
          ],
          [
           134
          ],
          [
           114
          ],
          [
           112
          ],
          [
           111
          ],
          [
           110
          ],
          [
           109
          ],
          [
           108
          ],
          [
           106
          ],
          [
           105
          ],
          [
           104
          ],
          [
           103
          ],
          [
           102
          ],
          [
           101
          ],
          [
           100
          ],
          [
           99
          ],
          [
           98
          ],
          [
           97
          ],
          [
           96
          ],
          [
           95
          ],
          [
           116
          ],
          [
           117
          ],
          [
           115
          ],
          [
           125
          ],
          [
           130
          ],
          [
           129
          ],
          [
           128
          ],
          [
           127
          ],
          [
           126
          ],
          [
           118
          ],
          [
           124
          ],
          [
           123
          ],
          [
           363
          ],
          [
           122
          ],
          [
           120
          ],
          [
           119
          ],
          [
           121
          ]
         ],
         "hovertemplate": "Cluster=Cluster 0<br>PCA1=%{x}<br>PCA2=%{y}<br>Feature=%{customdata[0]}<extra></extra>",
         "legendgroup": "Cluster 0",
         "marker": {
          "color": "#636efa",
          "opacity": 0.5,
          "symbol": "circle"
         },
         "mode": "markers",
         "name": "Cluster 0",
         "orientation": "v",
         "showlegend": true,
         "textposition": "top center",
         "type": "scatter",
         "x": [
          -1.5476241002947038,
          -1.7066422942949895,
          -2.0356877396741395,
          -1.7316464210281766,
          -1.9697311008549885,
          -0.5832590741904328,
          0.5724596335352639,
          0.7396431286522784,
          -0.4020212254410147,
          -1.7305648205184652,
          -0.3059855569929717,
          -0.6492228727537813,
          -1.3818812127429891,
          -1.27195902582618,
          -1.3584180795079959,
          -0.32054529001569165,
          -1.2622741712624665,
          0.26836009560211155,
          -0.746857631003074,
          -1.1779500653033594,
          1.0404123753563372,
          -1.4674847540275882,
          -1.3976107461772516,
          -1.031959876599321,
          0.5861276344812567,
          -1.9973579375529404,
          -1.78565857923733,
          0.5322134917239711,
          -1.6578222598189516,
          -1.9131649000053847,
          -1.4593140075363962,
          -1.6893097091188416,
          -1.783797162505674,
          -2.005974395738166,
          -1.250417287615156,
          0.6131909965882273,
          -2.038401820106676,
          -0.747915502043695,
          -0.9773362876028943,
          -0.8723616469530382,
          -1.8220475509742728,
          -1.6405449301280957,
          1.3160239707301544,
          0.7291922135280041,
          -0.7613499089105331,
          0.7480279580324202,
          0.3703611835806694,
          -0.698294092355134,
          -1.227138207945791,
          -0.43604900562205645,
          -1.2321760206410688,
          -0.6398008940461855,
          -1.0907704473053033,
          -1.4615959331073205,
          -1.4655278411510153,
          -0.8597914099746446,
          -1.435455685893966,
          0.2392736423330315,
          -1.6538490984814123,
          -0.23791237107705082,
          -0.6106493953107677,
          -1.3156658179641922,
          0.8112573367678166,
          -1.4628345012400197,
          -1.5354536251259188,
          1.117564871950794,
          -1.2935248888716733,
          -1.462455885568238,
          0.1879390234649081,
          1.1383765412579918,
          -0.8853616658560791,
          -1.069553835632324,
          -0.825259908078983,
          -1.1610456355694783,
          -1.6562193751818264,
          -0.5850157261981678,
          -0.46598905964719234,
          0.19048388273908656,
          -1.57829982842563,
          -1.1422126311557115,
          1.563002679894862,
          -1.1880238163720929,
          1.0485073120670698,
          -1.451706988684744,
          -1.3668947560419518,
          -0.7510315099330946,
          -1.8379248523103746,
          -1.422871268696337,
          -1.5621053561035734,
          -0.4467164425545036,
          -1.939142794782748,
          -0.3653484821874456,
          -1.6791317836778612,
          -2.011536526636961,
          -1.7217247958523036,
          -0.9590446205418557,
          0.8403245298992046,
          -0.7763763937695797,
          1.4981321522102398,
          0.44204129808793957,
          -1.5987062035353277,
          -1.6030187357803463,
          -2.0251399834900514,
          2.0497728739188465,
          2.001389390737878,
          -1.561132527800011,
          -1.8016051326776124,
          -1.4440280725080603,
          0.10738279227772224,
          -1.717872410696967,
          -1.639974266038832,
          -1.593559393998633,
          -1.9284763729150873,
          -1.2435631161287388,
          -1.5851186987301622,
          -0.44445782199270645,
          0.4468649618458622,
          -1.865259319066225,
          -1.7226477160877587,
          -1.6397880275770498,
          -1.5880806171095732,
          -1.187585833444734,
          -1.7555122744936862,
          -0.9465645596910642,
          -1.3883759002509846,
          -1.7078114164625904,
          -0.9360454259699149,
          -0.7786210217330864,
          -1.8247627320006001,
          -1.8956458394700355,
          0.8996294679654006,
          -0.4772212382415606,
          -0.4104380453579737,
          -1.3306070812091333,
          -0.2666749524825059,
          -1.736248899304055,
          -1.713983328373147,
          1.188890026460032,
          -1.8979168610555623,
          -1.9601647664958006,
          -2.1184436315856003,
          -1.1018440104354108,
          -1.8956591876926414,
          -2.041152031794612,
          -0.9081470345701206,
          0.2272048418927522,
          -1.7253112260590904,
          -1.6839151868738342,
          -1.9915896654746705,
          1.2942955582680968,
          -1.8466404296256922,
          -1.682283479796894,
          -1.7587055838543946,
          -1.7857343214090973,
          -1.284110229258509,
          -1.3118656485276152,
          -1.5884206136562407,
          0.9554942806763258,
          -0.4155245269070591,
          -0.6947956109820749,
          -1.864220044031212,
          0.1692185522960107,
          1.6070953396094563,
          -1.583122418815022,
          -1.080535367056074,
          -0.7817214380235301,
          -0.6936667171603785,
          -0.7265785371695235,
          -0.9241962782084815,
          -1.7673076427955774,
          -0.12094019748721757,
          -1.5686350042299277,
          -2.0075215895973875,
          -1.4232864484153682,
          -1.383203136553548,
          3.1056852984077157,
          1.7602028315101017,
          -0.7702274557922717,
          -1.443049564179069,
          -1.9174517641400348,
          -1.3996685592333034,
          -0.5078368086477602,
          1.078541399052943,
          -1.7123098791316196,
          -1.294115696885721,
          -1.2677386180552745,
          -1.2819521234073965,
          4.063610443496239,
          4.087773518873541,
          -1.7459231694759723,
          -0.782915530394871,
          -1.772190413485505,
          -0.07558438527216065,
          -1.7314757192775148,
          1.8391026191553046,
          3.746952991787682,
          4.908398074737465,
          5.593164648056265,
          0.28929060837033677,
          -1.3424147944145766,
          -0.13099960673963532,
          1.8752568330325532,
          -1.7875838504649457,
          4.196875578660013,
          2.2432581090317054,
          0.32158265201352215,
          -1.972926461026564,
          -1.7159618802097472,
          3.6114565012584383,
          -0.9429606204889368,
          -0.42688843505457436,
          -2.183923141439952,
          -2.172058134307993,
          -0.18484834262195526,
          1.2375976153330093,
          -1.3027624226644618,
          0.48999811371066293,
          6.02848709984753,
          -1.647164995091202,
          -1.5472158912503424,
          2.3683712999857973,
          -1.1808212928525952,
          -0.4161163790738634,
          -1.077019582963777,
          -1.504634337883935,
          -0.82471171531322,
          2.5238007951436012,
          -2.5074314874883776,
          -1.6028936679770664,
          0.7339067504171636,
          -1.1829319699125613,
          3.4920422673578444,
          -0.24998592490604932,
          -2.135386348978679,
          -1.7151499251461555,
          -0.7662798745886079,
          5.752055462975942,
          -2.176909067089253,
          -1.7803379307173042,
          -1.1561523582413349,
          -2.3308129178311674,
          -1.2863667071114513,
          5.856547865185938,
          -2.2293042689563456,
          0.1999356579853376,
          -1.2648183225932503,
          -1.6298354225949374,
          -1.8136764866250839,
          3.994609880690002,
          0.48433287265651825,
          -2.0121013307834055,
          0.5632891012771019,
          -1.9678424802943912,
          -0.8666898823758353,
          6.178737137973255,
          0.2656292463205109,
          2.759204033416176,
          -1.4937823113123525,
          -1.831433212893061,
          1.6048430587002795,
          -2.080579402487945,
          -2.0366199799439006,
          -1.148045106232955,
          2.5804475366535797,
          -1.4075125370836925,
          -0.6317727747770393,
          0.9342651905202589,
          -2.1459103252240137,
          3.78851399345144,
          -1.3034234584239848,
          -1.5343264364070055,
          -1.5178300272454976,
          -1.2018901061279375,
          1.8973911682174314,
          0.07308323980602077,
          0.14104442871083706,
          -2.330554239974503,
          -1.3697928032305153,
          -1.3234750169286615,
          -0.028415225692188954,
          2.516557669257349,
          -0.6558647615322669,
          3.633246496865305,
          -1.9005425637097615,
          -1.408826169093584,
          5.580893460976709,
          0.9003300748733999,
          3.6309064684381185,
          -1.582453891014011,
          -2.105385631541851,
          -2.2405396306099354,
          -1.2919892352326399,
          -1.0454238633925261,
          -1.5662575954987912,
          0.22776665339097393,
          0.7022111979367236,
          -0.7058449070353077,
          0.47876050234554673,
          0.4668878112281667,
          -0.11616160083476502,
          -0.06019405232412614,
          -1.498915828595433,
          -0.606611744949348,
          -0.7089675795437873,
          -1.4656470190017743,
          -0.6363524433202257,
          -0.47014061422607656,
          -1.0318482561921714,
          -1.0788974510817557,
          -1.6067724568571968,
          1.187066065125568,
          -0.7602268921434752,
          -1.304376361456665,
          2.849159124171425,
          -1.6259179894365376,
          -2.3259687404258487,
          -1.0759682827993609,
          2.6456681009799095,
          2.0153248995826627,
          -1.6733959968115386,
          -1.3453293018938195,
          -0.7976687797265822,
          -1.8477299770394933,
          -0.808304244946476,
          -1.3654329786165895,
          -0.90259289321087,
          -1.6768811711117193,
          3.8976874222911366,
          3.7930092263879978,
          -2.2414217055376215,
          -1.7609468931811363,
          5.409344053264213,
          3.8180731130468826,
          -0.6637784251192475,
          3.7671440707586794,
          0.9336768452512026,
          4.301036427166056,
          -0.3655632344917663,
          2.384147352923474,
          -1.819973711971209,
          4.938091971105082,
          2.9225236269513766,
          -1.518440985976752,
          -1.8964237908479071,
          3.99197300762679,
          -1.2783857142396327,
          -1.4665845071220476,
          1.4736340412931372,
          0.24738774906585204,
          -1.759741050513591,
          -1.9374565980731804
         ],
         "xaxis": "x",
         "y": [
          1.5010626750263025,
          1.1096579994631657,
          1.0236826046724559,
          1.1387792230431173,
          1.0226386979788062,
          -1.2440261863981728,
          -1.091182695537285,
          0.017559593570528883,
          -1.360436011131752,
          0.3764194081861011,
          -1.4781972621038673,
          -0.36965514151722073,
          0.4555764858053596,
          0.4685607792732406,
          0.7351455262125114,
          -1.083428040538388,
          0.7672833155815685,
          0.15409341510435778,
          0.8230382120943193,
          -0.3200191268333802,
          -0.3238416270628959,
          0.21576137254289263,
          0.4576622324440782,
          -0.8043570139140548,
          -0.08819339398730107,
          1.0388696772209733,
          0.9271901927720898,
          -0.5644287391894739,
          0.7851687735493263,
          1.0210569586397165,
          -0.5297195809599416,
          0.5976564030409642,
          1.0811787799405232,
          0.9451558926652737,
          0.14322963033517544,
          -0.638735070526249,
          0.7501453231547774,
          -1.3122816802514214,
          -0.8364645091069918,
          -1.1273677392034374,
          0.7865432821402878,
          0.8533068281491729,
          -1.001050790378546,
          -0.5383775199684179,
          -1.332264942326958,
          -0.7145017893172285,
          -0.833742739151421,
          -0.988618430310113,
          0.18015007453052698,
          -1.443425984894828,
          0.23642548844363276,
          -1.4092793300791138,
          0.30113907233743586,
          0.7248620975725865,
          0.2088608223061927,
          0.22980289459475237,
          0.5197604027217612,
          -0.33385367018122103,
          0.5936194829612841,
          -0.46307412023968625,
          -0.8467814276056422,
          0.5065366395395959,
          -0.42148427336941396,
          0.6735857149400445,
          0.2581324095851887,
          -1.2675102121634068,
          0.3022250442368425,
          0.06156690761336603,
          -0.8280523334818158,
          -1.1627065438003545,
          0.33280379661036574,
          0.23032246916672328,
          -1.1495010609764564,
          -0.014837418683340375,
          1.107099580013185,
          0.36622764670112085,
          0.08654690490986648,
          -0.3022667165393364,
          0.95392205283411,
          0.5965379351274293,
          -1.3104766831962869,
          0.6290714676895718,
          -1.519706087841322,
          0.911716204673926,
          0.8007361965952422,
          -0.6783773152898948,
          0.654000029291574,
          0.38085248150522266,
          0.5766080868530091,
          -1.0097367185841304,
          1.2076927378475641,
          -1.6453688845459442,
          0.7956603216188934,
          0.7474055967206418,
          0.44384683188658647,
          -0.026335197848585908,
          -1.1264702698401332,
          0.03347044081897082,
          0.644561930474674,
          -1.5897734312001344,
          0.5911551388317117,
          0.8089885633269299,
          0.613616379928922,
          -0.17750620661688413,
          -1.1527929102086922,
          0.8647620437392862,
          1.1054110218094064,
          0.5143849606938217,
          -1.4528144930345306,
          0.17737995133736906,
          0.13962975088255156,
          -0.45589109792004445,
          1.3587884488863553,
          -0.7394836297199795,
          0.4398655920430194,
          -0.47891435462253795,
          -2.0625570652596834,
          0.5798542736755647,
          1.190750088997072,
          0.33087633115591936,
          0.07893487782973506,
          -0.5362003041502923,
          0.6730618421355588,
          -0.2534509796778932,
          -0.4535012862311819,
          0.9772129603699526,
          -0.4368798264934111,
          -1.0166128831239116,
          0.521693731258183,
          1.2879762334492864,
          -1.3590916537763063,
          -0.8416946076689922,
          -0.22768344923385203,
          -0.7767855151163126,
          -0.4183230765555976,
          0.6224686921084454,
          0.48025633592985717,
          0.22550766022045848,
          1.1899484509735971,
          1.036038254163782,
          1.2885175700420428,
          -0.6060417344700214,
          0.9886888060975432,
          1.1052361921043459,
          -0.7842826509471443,
          -0.675269678483054,
          0.5647088541502028,
          0.47968666054458037,
          0.95501369312677,
          0.5475058423210708,
          1.2438495998832386,
          0.9974910131155832,
          1.063140769943293,
          1.1226925377774035,
          0.5296769813483354,
          -0.8963377614442765,
          0.6564184529137851,
          -0.05073350701734232,
          -1.1286906698269643,
          -0.9388729045456432,
          0.7550326560505186,
          -1.444941302470935,
          1.0301115878136047,
          0.2626943613398965,
          -1.1306385090892412,
          -0.04185788044059317,
          -0.07793408785325531,
          -1.7044141493424356,
          -0.9560747402421155,
          0.8501524572232877,
          -1.875794374234574,
          0.5753007550715996,
          0.9549737475806749,
          -0.2271230608516241,
          0.1496235211165939,
          -1.5168197876646738,
          0.2624231223076638,
          -1.0426843431889288,
          0.6821859542098648,
          0.5925982346692175,
          0.6575909852709941,
          0.016965208760924187,
          -1.0476777275851907,
          1.0439337749663289,
          0.4834425644561634,
          -0.6928627276053211,
          -0.7986258708488929,
          -0.5751244173431583,
          -2.6900143828520218,
          1.7040165055662322,
          -1.14011266065566,
          0.13316685371379391,
          -2.0220122550651296,
          0.7906337423863564,
          -1.4646294978771501,
          0.09802681429110016,
          -1.1078378987197244,
          0.18936146181771443,
          -2.5119169743728795,
          -0.8041193578487988,
          -1.8632823744836355,
          -1.5637033643168838,
          1.5281107173266661,
          0.14513627869928425,
          1.2631782209826843,
          -2.187614897590357,
          1.681453699360844,
          0.4106853131551265,
          0.3180736883509655,
          0.3578891146147242,
          -0.3857833319603809,
          0.9584483505290159,
          2.1911744239593,
          -0.08879072674132198,
          -2.4092434653312416,
          -0.8487482704509233,
          -1.4237447716829976,
          -1.6586390611966524,
          1.0326346136369915,
          0.583934007138547,
          0.8438221549314852,
          0.7056723990038593,
          0.34132035728476245,
          -0.33621375213256627,
          0.02294651642982408,
          -0.9028175297123808,
          -2.682707075681676,
          2.2261587825643363,
          0.8167950301691483,
          -0.9328695432293037,
          -1.022486374705416,
          -3.0891154585021927,
          -1.7690723644704507,
          2.0432326130802267,
          0.7086218541261375,
          -1.1351629414231472,
          -3.9247857179576604,
          1.8623588927594976,
          0.8900887442092074,
          -0.3697320532604241,
          1.577628573770246,
          0.43870797061791367,
          -1.5882025115444611,
          1.2359762054049348,
          -0.405995457332274,
          -0.9842628820820261,
          0.5377871460623,
          0.5191450520770234,
          1.7694027658578815,
          -1.028335696874984,
          1.2490104955457286,
          -1.7385004768874432,
          0.6806186412180143,
          -0.4936257808462759,
          -5.143317156653033,
          -2.764625171948372,
          -0.7854068629902276,
          0.3243019325620431,
          0.5745294511796237,
          -3.0823902290147327,
          1.8141030132891232,
          1.5527240381109786,
          0.2873066668100268,
          -0.6025134373405988,
          0.03638724909835231,
          0.3928052992161412,
          -3.151538648436015,
          1.6558813501327774,
          -2.1008184020013587,
          1.124114185445609,
          1.2628195056363012,
          0.4020235985203825,
          0.21211181843466712,
          -0.9811793751715446,
          -0.05352301286596253,
          -2.028259766065826,
          1.6408516491928729,
          0.7823472487946109,
          0.3565438331340915,
          -0.21717500326024364,
          0.04045902386653138,
          -1.5185170715241996,
          -3.3462548254023767,
          0.7975607436061195,
          0.8727989959272047,
          -3.6657423438105528,
          -2.9292950103014554,
          -3.4436438814707366,
          0.48334840731248063,
          1.8662639267174488,
          2.110557987715725,
          0.40444213056143796,
          0.1355951959403409,
          0.9132410500482876,
          -1.1568061982815476,
          -0.9296319839290335,
          0.6672640423167179,
          -0.7888382930521488,
          -0.7984252459209065,
          -0.3508331995522747,
          -0.5221321875767709,
          0.3362966449698593,
          -0.4721046806873643,
          -1.108785045999385,
          0.36497873780311374,
          -0.8197851817337387,
          -1.403635876633182,
          0.1505300364825308,
          0.2865672495815236,
          0.768129623774228,
          -1.3158759204135881,
          -0.9626975834758451,
          -0.6625888605663939,
          -2.3102165525340683,
          1.4223539353220003,
          1.9404147916620038,
          -0.8262442689090971,
          -1.0047746570612863,
          -2.084408302983317,
          0.12841639403638141,
          0.01375871322543785,
          0.04742320336498962,
          1.1912448016448298,
          0.39371193885079087,
          0.28146510561457255,
          -1.5082958127085544,
          0.8550270358075477,
          -3.091777042692997,
          -0.293193765258254,
          1.7644921501178976,
          1.0727663118573025,
          -1.54018678094951,
          -0.7416420251929458,
          -0.5348153256115195,
          1.532708081105898,
          -2.262058614750764,
          -1.798354561152244,
          0.3540272398654225,
          0.42267823697198087,
          1.415864176784334,
          0.752018558608971,
          -1.2845673336293286,
          1.4326719769182759,
          1.6338893937068348,
          1.3893227083204296,
          0.7401622730612328,
          0.8709335267742286,
          -1.7118997179902777,
          -1.8867812760207228,
          0.8207538551737196,
          1.0261929813507147
         ],
         "yaxis": "y"
        },
        {
         "customdata": [
          [
           151
          ],
          [
           113
          ],
          [
           71
          ],
          [
           16
          ],
          [
           43
          ],
          [
           3
          ],
          [
           28
          ]
         ],
         "hovertemplate": "Cluster=Cluster 1<br>PCA1=%{x}<br>PCA2=%{y}<br>Feature=%{customdata[0]}<extra></extra>",
         "legendgroup": "Cluster 1",
         "marker": {
          "color": "#EF553B",
          "opacity": 0.5,
          "symbol": "circle"
         },
         "mode": "markers",
         "name": "Cluster 1",
         "orientation": "v",
         "showlegend": true,
         "textposition": "top center",
         "type": "scatter",
         "x": [
          9.60306109377946,
          8.341498194294385,
          14.952498378613203,
          11.456924442685754,
          5.042398515951828,
          13.253196196607751,
          9.19648453495234
         ],
         "xaxis": "x",
         "y": [
          5.399235890192164,
          4.786473696230905,
          4.782855943184749,
          5.244760731350452,
          2.3073752638165557,
          5.94450724628585,
          5.083611230671559
         ],
         "yaxis": "y"
        },
        {
         "customdata": [
          [
           137
          ]
         ],
         "hovertemplate": "Cluster=Cluster 2<br>PCA1=%{x}<br>PCA2=%{y}<br>Feature=%{customdata[0]}<extra></extra>",
         "legendgroup": "Cluster 2",
         "marker": {
          "color": "#00cc96",
          "opacity": 0.5,
          "symbol": "circle"
         },
         "mode": "markers",
         "name": "Cluster 2",
         "orientation": "v",
         "showlegend": true,
         "textposition": "top center",
         "type": "scatter",
         "x": [
          17.70299287946039
         ],
         "xaxis": "x",
         "y": [
          -7.429836640932882
         ],
         "yaxis": "y"
        },
        {
         "customdata": [
          [
           152
          ],
          [
           131
          ],
          [
           132
          ]
         ],
         "hovertemplate": "Cluster=Cluster 3<br>PCA1=%{x}<br>PCA2=%{y}<br>Feature=%{customdata[0]}<extra></extra>",
         "legendgroup": "Cluster 3",
         "marker": {
          "color": "#ab63fa",
          "opacity": 0.5,
          "symbol": "circle"
         },
         "mode": "markers",
         "name": "Cluster 3",
         "orientation": "v",
         "showlegend": true,
         "textposition": "top center",
         "type": "scatter",
         "x": [
          12.88693585009203,
          8.403371240638785,
          7.391742397253832
         ],
         "xaxis": "x",
         "y": [
          0.47698032418118214,
          -3.7374775558987903,
          -1.413193888187339
         ],
         "yaxis": "y"
        },
        {
         "customdata": [
          [
           107
          ]
         ],
         "hovertemplate": "Cluster=Cluster 4<br>PCA1=%{x}<br>PCA2=%{y}<br>Feature=%{customdata[0]}<extra></extra>",
         "legendgroup": "Cluster 4",
         "marker": {
          "color": "#FFA15A",
          "opacity": 0.5,
          "symbol": "circle"
         },
         "mode": "markers",
         "name": "Cluster 4",
         "orientation": "v",
         "showlegend": true,
         "textposition": "top center",
         "type": "scatter",
         "x": [
          15.110345058125544
         ],
         "xaxis": "x",
         "y": [
          8.385116010723346
         ],
         "yaxis": "y"
        },
        {
         "customdata": [
          [
           54
          ]
         ],
         "hovertemplate": "Cluster=Cluster 5<br>PCA1=%{x}<br>PCA2=%{y}<br>Feature=%{customdata[0]}<extra></extra>",
         "legendgroup": "Cluster 5",
         "marker": {
          "color": "#19d3f3",
          "opacity": 0.5,
          "symbol": "circle"
         },
         "mode": "markers",
         "name": "Cluster 5",
         "orientation": "v",
         "showlegend": true,
         "textposition": "top center",
         "type": "scatter",
         "x": [
          14.287741204893125
         ],
         "xaxis": "x",
         "y": [
          7.77732952442597
         ],
         "yaxis": "y"
        }
       ],
       "layout": {
        "height": 600,
        "legend": {
         "title": {
          "text": "Cluster"
         },
         "tracegroupgap": 0
        },
        "margin": {
         "t": 60
        },
        "plot_bgcolor": "rgb(240,240,240)",
        "template": {
         "data": {
          "bar": [
           {
            "error_x": {
             "color": "#2a3f5f"
            },
            "error_y": {
             "color": "#2a3f5f"
            },
            "marker": {
             "line": {
              "color": "#E5ECF6",
              "width": 0.5
             },
             "pattern": {
              "fillmode": "overlay",
              "size": 10,
              "solidity": 0.2
             }
            },
            "type": "bar"
           }
          ],
          "barpolar": [
           {
            "marker": {
             "line": {
              "color": "#E5ECF6",
              "width": 0.5
             },
             "pattern": {
              "fillmode": "overlay",
              "size": 10,
              "solidity": 0.2
             }
            },
            "type": "barpolar"
           }
          ],
          "carpet": [
           {
            "aaxis": {
             "endlinecolor": "#2a3f5f",
             "gridcolor": "white",
             "linecolor": "white",
             "minorgridcolor": "white",
             "startlinecolor": "#2a3f5f"
            },
            "baxis": {
             "endlinecolor": "#2a3f5f",
             "gridcolor": "white",
             "linecolor": "white",
             "minorgridcolor": "white",
             "startlinecolor": "#2a3f5f"
            },
            "type": "carpet"
           }
          ],
          "choropleth": [
           {
            "colorbar": {
             "outlinewidth": 0,
             "ticks": ""
            },
            "type": "choropleth"
           }
          ],
          "contour": [
           {
            "colorbar": {
             "outlinewidth": 0,
             "ticks": ""
            },
            "colorscale": [
             [
              0,
              "#0d0887"
             ],
             [
              0.1111111111111111,
              "#46039f"
             ],
             [
              0.2222222222222222,
              "#7201a8"
             ],
             [
              0.3333333333333333,
              "#9c179e"
             ],
             [
              0.4444444444444444,
              "#bd3786"
             ],
             [
              0.5555555555555556,
              "#d8576b"
             ],
             [
              0.6666666666666666,
              "#ed7953"
             ],
             [
              0.7777777777777778,
              "#fb9f3a"
             ],
             [
              0.8888888888888888,
              "#fdca26"
             ],
             [
              1,
              "#f0f921"
             ]
            ],
            "type": "contour"
           }
          ],
          "contourcarpet": [
           {
            "colorbar": {
             "outlinewidth": 0,
             "ticks": ""
            },
            "type": "contourcarpet"
           }
          ],
          "heatmap": [
           {
            "colorbar": {
             "outlinewidth": 0,
             "ticks": ""
            },
            "colorscale": [
             [
              0,
              "#0d0887"
             ],
             [
              0.1111111111111111,
              "#46039f"
             ],
             [
              0.2222222222222222,
              "#7201a8"
             ],
             [
              0.3333333333333333,
              "#9c179e"
             ],
             [
              0.4444444444444444,
              "#bd3786"
             ],
             [
              0.5555555555555556,
              "#d8576b"
             ],
             [
              0.6666666666666666,
              "#ed7953"
             ],
             [
              0.7777777777777778,
              "#fb9f3a"
             ],
             [
              0.8888888888888888,
              "#fdca26"
             ],
             [
              1,
              "#f0f921"
             ]
            ],
            "type": "heatmap"
           }
          ],
          "heatmapgl": [
           {
            "colorbar": {
             "outlinewidth": 0,
             "ticks": ""
            },
            "colorscale": [
             [
              0,
              "#0d0887"
             ],
             [
              0.1111111111111111,
              "#46039f"
             ],
             [
              0.2222222222222222,
              "#7201a8"
             ],
             [
              0.3333333333333333,
              "#9c179e"
             ],
             [
              0.4444444444444444,
              "#bd3786"
             ],
             [
              0.5555555555555556,
              "#d8576b"
             ],
             [
              0.6666666666666666,
              "#ed7953"
             ],
             [
              0.7777777777777778,
              "#fb9f3a"
             ],
             [
              0.8888888888888888,
              "#fdca26"
             ],
             [
              1,
              "#f0f921"
             ]
            ],
            "type": "heatmapgl"
           }
          ],
          "histogram": [
           {
            "marker": {
             "pattern": {
              "fillmode": "overlay",
              "size": 10,
              "solidity": 0.2
             }
            },
            "type": "histogram"
           }
          ],
          "histogram2d": [
           {
            "colorbar": {
             "outlinewidth": 0,
             "ticks": ""
            },
            "colorscale": [
             [
              0,
              "#0d0887"
             ],
             [
              0.1111111111111111,
              "#46039f"
             ],
             [
              0.2222222222222222,
              "#7201a8"
             ],
             [
              0.3333333333333333,
              "#9c179e"
             ],
             [
              0.4444444444444444,
              "#bd3786"
             ],
             [
              0.5555555555555556,
              "#d8576b"
             ],
             [
              0.6666666666666666,
              "#ed7953"
             ],
             [
              0.7777777777777778,
              "#fb9f3a"
             ],
             [
              0.8888888888888888,
              "#fdca26"
             ],
             [
              1,
              "#f0f921"
             ]
            ],
            "type": "histogram2d"
           }
          ],
          "histogram2dcontour": [
           {
            "colorbar": {
             "outlinewidth": 0,
             "ticks": ""
            },
            "colorscale": [
             [
              0,
              "#0d0887"
             ],
             [
              0.1111111111111111,
              "#46039f"
             ],
             [
              0.2222222222222222,
              "#7201a8"
             ],
             [
              0.3333333333333333,
              "#9c179e"
             ],
             [
              0.4444444444444444,
              "#bd3786"
             ],
             [
              0.5555555555555556,
              "#d8576b"
             ],
             [
              0.6666666666666666,
              "#ed7953"
             ],
             [
              0.7777777777777778,
              "#fb9f3a"
             ],
             [
              0.8888888888888888,
              "#fdca26"
             ],
             [
              1,
              "#f0f921"
             ]
            ],
            "type": "histogram2dcontour"
           }
          ],
          "mesh3d": [
           {
            "colorbar": {
             "outlinewidth": 0,
             "ticks": ""
            },
            "type": "mesh3d"
           }
          ],
          "parcoords": [
           {
            "line": {
             "colorbar": {
              "outlinewidth": 0,
              "ticks": ""
             }
            },
            "type": "parcoords"
           }
          ],
          "pie": [
           {
            "automargin": true,
            "type": "pie"
           }
          ],
          "scatter": [
           {
            "fillpattern": {
             "fillmode": "overlay",
             "size": 10,
             "solidity": 0.2
            },
            "type": "scatter"
           }
          ],
          "scatter3d": [
           {
            "line": {
             "colorbar": {
              "outlinewidth": 0,
              "ticks": ""
             }
            },
            "marker": {
             "colorbar": {
              "outlinewidth": 0,
              "ticks": ""
             }
            },
            "type": "scatter3d"
           }
          ],
          "scattercarpet": [
           {
            "marker": {
             "colorbar": {
              "outlinewidth": 0,
              "ticks": ""
             }
            },
            "type": "scattercarpet"
           }
          ],
          "scattergeo": [
           {
            "marker": {
             "colorbar": {
              "outlinewidth": 0,
              "ticks": ""
             }
            },
            "type": "scattergeo"
           }
          ],
          "scattergl": [
           {
            "marker": {
             "colorbar": {
              "outlinewidth": 0,
              "ticks": ""
             }
            },
            "type": "scattergl"
           }
          ],
          "scattermapbox": [
           {
            "marker": {
             "colorbar": {
              "outlinewidth": 0,
              "ticks": ""
             }
            },
            "type": "scattermapbox"
           }
          ],
          "scatterpolar": [
           {
            "marker": {
             "colorbar": {
              "outlinewidth": 0,
              "ticks": ""
             }
            },
            "type": "scatterpolar"
           }
          ],
          "scatterpolargl": [
           {
            "marker": {
             "colorbar": {
              "outlinewidth": 0,
              "ticks": ""
             }
            },
            "type": "scatterpolargl"
           }
          ],
          "scatterternary": [
           {
            "marker": {
             "colorbar": {
              "outlinewidth": 0,
              "ticks": ""
             }
            },
            "type": "scatterternary"
           }
          ],
          "surface": [
           {
            "colorbar": {
             "outlinewidth": 0,
             "ticks": ""
            },
            "colorscale": [
             [
              0,
              "#0d0887"
             ],
             [
              0.1111111111111111,
              "#46039f"
             ],
             [
              0.2222222222222222,
              "#7201a8"
             ],
             [
              0.3333333333333333,
              "#9c179e"
             ],
             [
              0.4444444444444444,
              "#bd3786"
             ],
             [
              0.5555555555555556,
              "#d8576b"
             ],
             [
              0.6666666666666666,
              "#ed7953"
             ],
             [
              0.7777777777777778,
              "#fb9f3a"
             ],
             [
              0.8888888888888888,
              "#fdca26"
             ],
             [
              1,
              "#f0f921"
             ]
            ],
            "type": "surface"
           }
          ],
          "table": [
           {
            "cells": {
             "fill": {
              "color": "#EBF0F8"
             },
             "line": {
              "color": "white"
             }
            },
            "header": {
             "fill": {
              "color": "#C8D4E3"
             },
             "line": {
              "color": "white"
             }
            },
            "type": "table"
           }
          ]
         },
         "layout": {
          "annotationdefaults": {
           "arrowcolor": "#2a3f5f",
           "arrowhead": 0,
           "arrowwidth": 1
          },
          "autotypenumbers": "strict",
          "coloraxis": {
           "colorbar": {
            "outlinewidth": 0,
            "ticks": ""
           }
          },
          "colorscale": {
           "diverging": [
            [
             0,
             "#8e0152"
            ],
            [
             0.1,
             "#c51b7d"
            ],
            [
             0.2,
             "#de77ae"
            ],
            [
             0.3,
             "#f1b6da"
            ],
            [
             0.4,
             "#fde0ef"
            ],
            [
             0.5,
             "#f7f7f7"
            ],
            [
             0.6,
             "#e6f5d0"
            ],
            [
             0.7,
             "#b8e186"
            ],
            [
             0.8,
             "#7fbc41"
            ],
            [
             0.9,
             "#4d9221"
            ],
            [
             1,
             "#276419"
            ]
           ],
           "sequential": [
            [
             0,
             "#0d0887"
            ],
            [
             0.1111111111111111,
             "#46039f"
            ],
            [
             0.2222222222222222,
             "#7201a8"
            ],
            [
             0.3333333333333333,
             "#9c179e"
            ],
            [
             0.4444444444444444,
             "#bd3786"
            ],
            [
             0.5555555555555556,
             "#d8576b"
            ],
            [
             0.6666666666666666,
             "#ed7953"
            ],
            [
             0.7777777777777778,
             "#fb9f3a"
            ],
            [
             0.8888888888888888,
             "#fdca26"
            ],
            [
             1,
             "#f0f921"
            ]
           ],
           "sequentialminus": [
            [
             0,
             "#0d0887"
            ],
            [
             0.1111111111111111,
             "#46039f"
            ],
            [
             0.2222222222222222,
             "#7201a8"
            ],
            [
             0.3333333333333333,
             "#9c179e"
            ],
            [
             0.4444444444444444,
             "#bd3786"
            ],
            [
             0.5555555555555556,
             "#d8576b"
            ],
            [
             0.6666666666666666,
             "#ed7953"
            ],
            [
             0.7777777777777778,
             "#fb9f3a"
            ],
            [
             0.8888888888888888,
             "#fdca26"
            ],
            [
             1,
             "#f0f921"
            ]
           ]
          },
          "colorway": [
           "#636efa",
           "#EF553B",
           "#00cc96",
           "#ab63fa",
           "#FFA15A",
           "#19d3f3",
           "#FF6692",
           "#B6E880",
           "#FF97FF",
           "#FECB52"
          ],
          "font": {
           "color": "#2a3f5f"
          },
          "geo": {
           "bgcolor": "white",
           "lakecolor": "white",
           "landcolor": "#E5ECF6",
           "showlakes": true,
           "showland": true,
           "subunitcolor": "white"
          },
          "hoverlabel": {
           "align": "left"
          },
          "hovermode": "closest",
          "mapbox": {
           "style": "light"
          },
          "paper_bgcolor": "white",
          "plot_bgcolor": "#E5ECF6",
          "polar": {
           "angularaxis": {
            "gridcolor": "white",
            "linecolor": "white",
            "ticks": ""
           },
           "bgcolor": "#E5ECF6",
           "radialaxis": {
            "gridcolor": "white",
            "linecolor": "white",
            "ticks": ""
           }
          },
          "scene": {
           "xaxis": {
            "backgroundcolor": "#E5ECF6",
            "gridcolor": "white",
            "gridwidth": 2,
            "linecolor": "white",
            "showbackground": true,
            "ticks": "",
            "zerolinecolor": "white"
           },
           "yaxis": {
            "backgroundcolor": "#E5ECF6",
            "gridcolor": "white",
            "gridwidth": 2,
            "linecolor": "white",
            "showbackground": true,
            "ticks": "",
            "zerolinecolor": "white"
           },
           "zaxis": {
            "backgroundcolor": "#E5ECF6",
            "gridcolor": "white",
            "gridwidth": 2,
            "linecolor": "white",
            "showbackground": true,
            "ticks": "",
            "zerolinecolor": "white"
           }
          },
          "shapedefaults": {
           "line": {
            "color": "#2a3f5f"
           }
          },
          "ternary": {
           "aaxis": {
            "gridcolor": "white",
            "linecolor": "white",
            "ticks": ""
           },
           "baxis": {
            "gridcolor": "white",
            "linecolor": "white",
            "ticks": ""
           },
           "bgcolor": "#E5ECF6",
           "caxis": {
            "gridcolor": "white",
            "linecolor": "white",
            "ticks": ""
           }
          },
          "title": {
           "x": 0.05
          },
          "xaxis": {
           "automargin": true,
           "gridcolor": "white",
           "linecolor": "white",
           "ticks": "",
           "title": {
            "standoff": 15
           },
           "zerolinecolor": "white",
           "zerolinewidth": 2
          },
          "yaxis": {
           "automargin": true,
           "gridcolor": "white",
           "linecolor": "white",
           "ticks": "",
           "title": {
            "standoff": 15
           },
           "zerolinecolor": "white",
           "zerolinewidth": 2
          }
         }
        },
        "title": {
         "text": "2D Cluster PCA Plot"
        },
        "xaxis": {
         "anchor": "y",
         "domain": [
          0,
          1
         ],
         "title": {
          "text": "PCA1"
         }
        },
        "yaxis": {
         "anchor": "x",
         "domain": [
          0,
          1
         ],
         "title": {
          "text": "PCA2"
         }
        }
       }
      }
     },
     "metadata": {},
     "output_type": "display_data"
    }
   ],
   "source": [
    "plot_model(meanshift)"
   ]
  },
  {
   "cell_type": "code",
   "execution_count": null,
   "metadata": {},
   "outputs": [
    {
     "data": {
      "text/html": [],
      "text/plain": [
       "<IPython.core.display.HTML object>"
      ]
     },
     "metadata": {},
     "output_type": "display_data"
    },
    {
     "data": {
      "application/vnd.plotly.v1+json": {
       "config": {
        "plotlyServerURL": "https://plot.ly"
       },
       "data": [
        {
         "alignmentgroup": "True",
         "bingroup": "x",
         "hovertemplate": "Cluster=%{x}<br>count=%{y}<extra></extra>",
         "legendgroup": "Cluster 0",
         "marker": {
          "color": "#636efa",
          "opacity": 0.7,
          "pattern": {
           "shape": ""
          }
         },
         "name": "Cluster 0",
         "offsetgroup": "Cluster 0",
         "orientation": "v",
         "showlegend": true,
         "type": "histogram",
         "x": [
          "Cluster 0",
          "Cluster 0",
          "Cluster 0",
          "Cluster 0",
          "Cluster 0",
          "Cluster 0",
          "Cluster 0",
          "Cluster 0",
          "Cluster 0",
          "Cluster 0",
          "Cluster 0",
          "Cluster 0",
          "Cluster 0",
          "Cluster 0",
          "Cluster 0",
          "Cluster 0",
          "Cluster 0",
          "Cluster 0",
          "Cluster 0",
          "Cluster 0",
          "Cluster 0",
          "Cluster 0",
          "Cluster 0",
          "Cluster 0",
          "Cluster 0",
          "Cluster 0",
          "Cluster 0",
          "Cluster 0",
          "Cluster 0",
          "Cluster 0",
          "Cluster 0",
          "Cluster 0",
          "Cluster 0",
          "Cluster 0",
          "Cluster 0",
          "Cluster 0",
          "Cluster 0",
          "Cluster 0",
          "Cluster 0",
          "Cluster 0",
          "Cluster 0",
          "Cluster 0",
          "Cluster 0",
          "Cluster 0",
          "Cluster 0",
          "Cluster 0",
          "Cluster 0",
          "Cluster 0",
          "Cluster 0",
          "Cluster 0",
          "Cluster 0",
          "Cluster 0",
          "Cluster 0",
          "Cluster 0",
          "Cluster 0",
          "Cluster 0",
          "Cluster 0",
          "Cluster 0",
          "Cluster 0",
          "Cluster 0",
          "Cluster 0",
          "Cluster 0",
          "Cluster 0",
          "Cluster 0",
          "Cluster 0",
          "Cluster 0",
          "Cluster 0",
          "Cluster 0",
          "Cluster 0",
          "Cluster 0",
          "Cluster 0",
          "Cluster 0",
          "Cluster 0",
          "Cluster 0",
          "Cluster 0",
          "Cluster 0",
          "Cluster 0",
          "Cluster 0",
          "Cluster 0",
          "Cluster 0",
          "Cluster 0",
          "Cluster 0",
          "Cluster 0",
          "Cluster 0",
          "Cluster 0",
          "Cluster 0",
          "Cluster 0",
          "Cluster 0",
          "Cluster 0",
          "Cluster 0",
          "Cluster 0",
          "Cluster 0",
          "Cluster 0",
          "Cluster 0",
          "Cluster 0",
          "Cluster 0",
          "Cluster 0",
          "Cluster 0",
          "Cluster 0",
          "Cluster 0",
          "Cluster 0",
          "Cluster 0",
          "Cluster 0",
          "Cluster 0",
          "Cluster 0",
          "Cluster 0",
          "Cluster 0",
          "Cluster 0",
          "Cluster 0",
          "Cluster 0",
          "Cluster 0",
          "Cluster 0",
          "Cluster 0",
          "Cluster 0",
          "Cluster 0",
          "Cluster 0",
          "Cluster 0",
          "Cluster 0",
          "Cluster 0",
          "Cluster 0",
          "Cluster 0",
          "Cluster 0",
          "Cluster 0",
          "Cluster 0",
          "Cluster 0",
          "Cluster 0",
          "Cluster 0",
          "Cluster 0",
          "Cluster 0",
          "Cluster 0",
          "Cluster 0",
          "Cluster 0",
          "Cluster 0",
          "Cluster 0",
          "Cluster 0",
          "Cluster 0",
          "Cluster 0",
          "Cluster 0",
          "Cluster 0",
          "Cluster 0",
          "Cluster 0",
          "Cluster 0",
          "Cluster 0",
          "Cluster 0",
          "Cluster 0",
          "Cluster 0",
          "Cluster 0",
          "Cluster 0",
          "Cluster 0",
          "Cluster 0",
          "Cluster 0",
          "Cluster 0",
          "Cluster 0",
          "Cluster 0",
          "Cluster 0",
          "Cluster 0",
          "Cluster 0",
          "Cluster 0",
          "Cluster 0",
          "Cluster 0",
          "Cluster 0",
          "Cluster 0",
          "Cluster 0",
          "Cluster 0",
          "Cluster 0",
          "Cluster 0",
          "Cluster 0",
          "Cluster 0",
          "Cluster 0",
          "Cluster 0",
          "Cluster 0",
          "Cluster 0",
          "Cluster 0",
          "Cluster 0",
          "Cluster 0",
          "Cluster 0",
          "Cluster 0",
          "Cluster 0",
          "Cluster 0",
          "Cluster 0",
          "Cluster 0",
          "Cluster 0",
          "Cluster 0",
          "Cluster 0",
          "Cluster 0",
          "Cluster 0",
          "Cluster 0",
          "Cluster 0",
          "Cluster 0",
          "Cluster 0",
          "Cluster 0",
          "Cluster 0",
          "Cluster 0",
          "Cluster 0",
          "Cluster 0",
          "Cluster 0",
          "Cluster 0",
          "Cluster 0",
          "Cluster 0",
          "Cluster 0",
          "Cluster 0",
          "Cluster 0",
          "Cluster 0",
          "Cluster 0",
          "Cluster 0",
          "Cluster 0",
          "Cluster 0",
          "Cluster 0",
          "Cluster 0",
          "Cluster 0",
          "Cluster 0",
          "Cluster 0",
          "Cluster 0",
          "Cluster 0",
          "Cluster 0",
          "Cluster 0",
          "Cluster 0",
          "Cluster 0",
          "Cluster 0",
          "Cluster 0",
          "Cluster 0",
          "Cluster 0",
          "Cluster 0",
          "Cluster 0",
          "Cluster 0",
          "Cluster 0",
          "Cluster 0",
          "Cluster 0",
          "Cluster 0",
          "Cluster 0",
          "Cluster 0",
          "Cluster 0",
          "Cluster 0",
          "Cluster 0",
          "Cluster 0",
          "Cluster 0",
          "Cluster 0",
          "Cluster 0",
          "Cluster 0",
          "Cluster 0",
          "Cluster 0",
          "Cluster 0",
          "Cluster 0",
          "Cluster 0",
          "Cluster 0",
          "Cluster 0",
          "Cluster 0",
          "Cluster 0",
          "Cluster 0",
          "Cluster 0",
          "Cluster 0",
          "Cluster 0",
          "Cluster 0",
          "Cluster 0",
          "Cluster 0",
          "Cluster 0",
          "Cluster 0",
          "Cluster 0",
          "Cluster 0",
          "Cluster 0",
          "Cluster 0",
          "Cluster 0",
          "Cluster 0",
          "Cluster 0",
          "Cluster 0",
          "Cluster 0",
          "Cluster 0",
          "Cluster 0",
          "Cluster 0",
          "Cluster 0",
          "Cluster 0",
          "Cluster 0",
          "Cluster 0",
          "Cluster 0",
          "Cluster 0",
          "Cluster 0",
          "Cluster 0",
          "Cluster 0",
          "Cluster 0",
          "Cluster 0",
          "Cluster 0",
          "Cluster 0",
          "Cluster 0",
          "Cluster 0",
          "Cluster 0",
          "Cluster 0",
          "Cluster 0",
          "Cluster 0",
          "Cluster 0",
          "Cluster 0",
          "Cluster 0",
          "Cluster 0",
          "Cluster 0",
          "Cluster 0",
          "Cluster 0",
          "Cluster 0",
          "Cluster 0",
          "Cluster 0",
          "Cluster 0",
          "Cluster 0",
          "Cluster 0",
          "Cluster 0",
          "Cluster 0",
          "Cluster 0",
          "Cluster 0",
          "Cluster 0",
          "Cluster 0",
          "Cluster 0",
          "Cluster 0",
          "Cluster 0",
          "Cluster 0",
          "Cluster 0",
          "Cluster 0",
          "Cluster 0",
          "Cluster 0",
          "Cluster 0",
          "Cluster 0",
          "Cluster 0",
          "Cluster 0",
          "Cluster 0",
          "Cluster 0",
          "Cluster 0",
          "Cluster 0",
          "Cluster 0",
          "Cluster 0",
          "Cluster 0",
          "Cluster 0",
          "Cluster 0",
          "Cluster 0",
          "Cluster 0",
          "Cluster 0",
          "Cluster 0",
          "Cluster 0",
          "Cluster 0",
          "Cluster 0",
          "Cluster 0",
          "Cluster 0",
          "Cluster 0",
          "Cluster 0",
          "Cluster 0",
          "Cluster 0",
          "Cluster 0",
          "Cluster 0",
          "Cluster 0",
          "Cluster 0",
          "Cluster 0",
          "Cluster 0",
          "Cluster 0",
          "Cluster 0",
          "Cluster 0",
          "Cluster 0"
         ],
         "xaxis": "x",
         "yaxis": "y"
        },
        {
         "alignmentgroup": "True",
         "customdata": [
          [
           "s",
           0.0054824473336339,
           0.0022851263638585806,
           0.005939611699432135,
           -0.6845011711120605,
           13046.6083984375,
           0.019401386380195618,
           0.005217330064624548,
           2.709846019744873,
           2.9346795082092285,
           3.084994316101074,
           0.01609543338418007,
           3075.25390625,
           3314.59326171875,
           0.6175416707992554
          ],
          [
           "s",
           0.005366344470530748,
           0.002012669574469328,
           0.005731337703764439,
           -0.7004126310348511,
           5732.01220703125,
           0.016250114887952805,
           0.00515771983191371,
           2.180403232574463,
           2.3276925086975098,
           2.4228975772857666,
           0.012496626935899258,
           2696.27685546875,
           2593.718505859375,
           0.16738519072532654
          ],
          [
           "s",
           0.005428064148873091,
           0.0018827037420123816,
           0.005745242349803448,
           -1.0319925546646118,
           4126.6162109375,
           0.010571036487817764,
           0.005250330548733473,
           1.7915642261505127,
           1.896213412284851,
           1.9604424238204956,
           0.010292970575392246,
           1255.2569580078125,
           2483.543701171875,
           0.1600928008556366
          ],
          [
           "s",
           0.00543445348739624,
           0.0019519866909831762,
           0.005774376448243856,
           -0.6808812022209167,
           7725.54541015625,
           0.015357173047959805,
           0.005246514454483986,
           2.344538927078247,
           2.4907515048980713,
           2.580427408218384,
           0.013538249768316746,
           3239.746826171875,
           3586.33447265625,
           0.18972289562225342
          ],
          [
           "s",
           0.005486934445798397,
           0.001702767563983798,
           0.005745062604546547,
           -0.871419370174408,
           7454.484375,
           0.013699039816856384,
           0.0053489916026592255,
           2.053542137145996,
           2.1500113010406494,
           2.2055983543395996,
           0.011797727085649967,
           1087.135009765625,
           119.89205169677734,
           0.25240734219551086
          ],
          [
           "i",
           0.005464719142764807,
           0.0030769517179578543,
           0.0062713781371712685,
           -0.08736073970794678,
           4511.0830078125,
           0.025026962161064148,
           0.005075080785900354,
           2.7702724933624268,
           3.128868579864502,
           3.423280715942383,
           0.017373425886034966,
           -2969.552490234375,
           -2903.153564453125,
           0.452880322933197
          ],
          [
           "c",
           0.005428786389529705,
           0.003506000153720379,
           0.006462314631789923,
           0.34023985266685486,
           2256.08203125,
           0.030403533950448036,
           0.005052537657320499,
           3.274710178375244,
           3.77645206451416,
           4.188431739807129,
           0.021162208169698715,
           -1279.9415283203125,
           -45.712196350097656,
           0.1773734837770462
          ],
          [
           "c",
           0.0054005892015993595,
           0.006750320550054312,
           0.0086446488276124,
           -0.38934582471847534,
           4163.95947265625,
           0.0395590141415596,
           0.006176095921546221,
           2.847130060195923,
           3.4501287937164307,
           3.9851129055023193,
           0.024612439796328545,
           1089.9361572265625,
           430.392333984375,
           0.3606477379798889
          ],
          [
           "i",
           0.005455148871988058,
           0.004014837555587292,
           0.006773181259632111,
           -0.16849809885025024,
           3626.356689453125,
           0.02750854752957821,
           0.00513547845184803,
           2.777958631515503,
           3.2508389949798584,
           3.663848876953125,
           0.01881561614573002,
           -2875.252197265625,
           -4689.85400390625,
           0.3172673285007477
          ],
          [
           "s",
           0.005440175533294678,
           0.002304572146385908,
           0.005908033810555935,
           -0.8474571704864502,
           2786.184326171875,
           0.012193459086120129,
           0.005158792249858379,
           2.0050981044769287,
           2.1772475242614746,
           2.2963101863861084,
           0.011846186593174934,
           -2822.17431640625,
           -2910.967041015625,
           0.07755571603775024
          ],
          [
           "i",
           0.005440686829388142,
           0.003255419200286269,
           0.0063401018269360065,
           -0.0681057721376419,
           2392.255615234375,
           0.027313699945807457,
           0.00504227913916111,
           3.088639736175537,
           3.520164966583252,
           3.8836190700531006,
           0.019582290202379227,
           -476.3210754394531,
           -119.76595306396484,
           0.1883692890405655
          ],
          [
           "s",
           0.005481178872287273,
           0.00260080280713737,
           0.006066896021366119,
           0.3243103623390198,
           4892.283203125,
           0.02676508203148842,
           0.0051796333864331245,
           3.2312285900115967,
           3.5467402935028076,
           3.7847328186035156,
           0.019603528082370758,
           -4937.650390625,
           -3243.567626953125,
           0.34607189893722534
          ],
          [
           "s",
           0.0054779332131147385,
           0.0024084006436169147,
           0.005983959883451462,
           -0.4093126654624939,
           5009.95263671875,
           0.018884757533669472,
           0.0051842061802744865,
           2.4946165084838867,
           2.719534158706665,
           2.8794543743133545,
           0.01492768619209528,
           482.8722839355469,
           22.079647064208984,
           0.32310783863067627
          ],
          [
           "s",
           0.00549387838691473,
           0.002885692985728383,
           0.0062055704183876514,
           -0.23478803038597107,
           3971.984619140625,
           0.02220122329890728,
           0.005116949323564768,
           2.536515951156616,
           2.8341732025146484,
           3.0761547088623047,
           0.01574052684009075,
           4208.634765625,
           3354.994384765625,
           0.28023409843444824
          ],
          [
           "s",
           0.005448128562420607,
           0.0021694134920835495,
           0.0058641573414206505,
           -0.27797552943229675,
           7618.6630859375,
           0.018282579258084297,
           0.005205056164413691,
           2.6453664302825928,
           2.843853235244751,
           2.980341672897339,
           0.015512845478951931,
           696.7957153320312,
           696.9187622070312,
           0.4026985168457031
          ],
          [
           "i",
           0.005447677802294493,
           0.0042129866778850555,
           0.006886603776365519,
           0.2586968243122101,
           4357.84912109375,
           0.030290914699435234,
           0.005262226797640324,
           2.8677244186401367,
           3.347369432449341,
           3.7529516220092773,
           0.019748881459236145,
           488.4721984863281,
           1192.4609375,
           0.3078594505786896
          ],
          [
           "s",
           0.0054525407031178474,
           0.0025112349539995193,
           0.006003021262586117,
           -0.19760683178901672,
           6044.3037109375,
           0.021645141765475273,
           0.0051449136808514595,
           2.696080446243286,
           2.954263925552368,
           3.1457533836364746,
           0.016184629872441292,
           4790.7314453125,
           4952.423828125,
           0.32196253538131714
          ],
          [
           "c",
           0.005405407398939133,
           0.005957083776593208,
           0.008043555542826653,
           -0.780905544757843,
           2929.643310546875,
           0.03212098404765129,
           0.005735036451369524,
           2.522820472717285,
           3.043248176574707,
           3.5383291244506836,
           0.02029244787991047,
           2940.20849609375,
           2889.925048828125,
           0.3093167245388031
          ],
          [
           "s",
           0.005293448455631733,
           0.0022068344987928867,
           0.005735033191740513,
           0.07782158255577087,
           6554.4208984375,
           0.02502249740064144,
           0.005049322731792927,
           3.190833568572998,
           3.4465548992156982,
           3.6241567134857178,
           0.018299536779522896,
           3119.525146484375,
           3625.864990234375,
           0.545539915561676
          ],
          [
           "s",
           0.005484833847731352,
           0.002251983853057027,
           0.005929014179855585,
           -0.04811248928308487,
           2128.452880859375,
           0.018180809915065765,
           0.005240992177277803,
           2.623506784439087,
           2.8295884132385254,
           2.9679129123687744,
           0.015554809011518955,
           -3462.39990234375,
           -3953.60009765625,
           0.08710061013698578
          ],
          [
           "c",
           0.005377292633056641,
           0.006881154142320156,
           0.008732760325074196,
           -0.07423260062932968,
           3463.244140625,
           0.047709718346595764,
           0.006295290309935808,
           2.9750919342041016,
           3.575814723968506,
           4.127016544342041,
           0.025980764999985695,
           -2515.47021484375,
           -3414.7431640625,
           0.42034053802490234
          ],
          [
           "s",
           0.00542171997949481,
           0.0019982142839580774,
           0.005778199061751366,
           -0.19028516113758087,
           4785.619140625,
           0.017649874091148376,
           0.005235874559730291,
           2.3357272148132324,
           2.4844987392425537,
           2.5776586532592773,
           0.013496296480298042,
           -4541.9091796875,
           -4546.9091796875,
           0.09078150987625122
          ],
          [
           "s",
           0.005433787126094103,
           0.002077842131257057,
           0.005817503202706575,
           -0.36827337741851807,
           7078.8125,
           0.02030820958316326,
           0.005221612751483917,
           2.558699131011963,
           2.736509323120117,
           2.8506977558135986,
           0.014885240234434605,
           -3239.746826171875,
           -3586.33447265625,
           0.18972289562225342
          ],
          [
           "i",
           0.005417568609118462,
           0.0027457401156425476,
           0.006073484197258949,
           -0.5311174392700195,
           2691.457763671875,
           0.01763972081243992,
           0.005039353389292955,
           2.3207831382751465,
           2.586942195892334,
           2.7970333099365234,
           0.014095239341259003,
           1805.324462890625,
           179.8284912109375,
           0.2714482843875885
          ],
          [
           "c",
           0.005373229272663593,
           0.005522432271391153,
           0.00770481675863266,
           0.13457536697387695,
           2829.01806640625,
           0.03954266384243965,
           0.005697628948837519,
           2.861833333969116,
           3.3988165855407715,
           3.870013475418091,
           0.022049900144338608,
           4785.34130859375,
           4715.6298828125,
           0.2190961241722107
          ],
          [
           "s",
           0.005412726663053036,
           0.0018838486867025495,
           0.005731161218136549,
           -0.940495491027832,
           6002.9208984375,
           0.010309705510735512,
           0.005239750724285841,
           1.8622249364852905,
           1.9717810153961182,
           2.0368738174438477,
           0.01067271176725626,
           -120.19759368896484,
           -1108.3778076171875,
           0.18737824261188507
          ],
          [
           "s",
           0.005388294812291861,
           0.0018987299408763647,
           0.005713034421205521,
           -0.7786203026771545,
           7619.0693359375,
           0.013076298870146275,
           0.005208978429436684,
           2.1389431953430176,
           2.267774820327759,
           2.345921754837036,
           0.012219855561852455,
           -2527.505615234375,
           -3546.88427734375,
           0.1829008311033249
          ],
          [
           "c",
           0.005371313542127609,
           0.0039039135444909334,
           0.006639971863478422,
           0.20783299207687378,
           2623.501708984375,
           0.03036148101091385,
           0.00510490732267499,
           3.0857062339782715,
           3.5907230377197266,
           4.013589382171631,
           0.020489003509283066,
           1633.842529296875,
           1646.4134521484375,
           0.39153796434402466
          ],
          [
           "s",
           0.005427555181086063,
           0.002306296955794096,
           0.005897088907659054,
           -0.8425548672676086,
           2527.06298828125,
           0.013647757470607758,
           0.005147462710738182,
           2.2103915214538574,
           2.401437282562256,
           2.5322911739349365,
           0.013034874573349953,
           4984.4013671875,
           4995.6005859375,
           0.07755571603775024
          ],
          [
           "s",
           0.005431888159364462,
           0.001896426547318697,
           0.0057534086517989635,
           -0.801941990852356,
           8083.2412109375,
           0.012168669141829014,
           0.005253730341792107,
           2.0160980224609375,
           2.1354005336761475,
           2.2078473567962646,
           0.011599434539675713,
           -2384.918701171875,
           -2215.979248046875,
           0.2814751863479614
          ],
          [
           "i",
           0.0054051256738603115,
           0.002176193753257394,
           0.005826679524034262,
           -0.8434591889381409,
           3559.002685546875,
           0.012128275819122791,
           0.00515661621466279,
           1.9228606224060059,
           2.072425603866577,
           2.1727218627929688,
           0.011203892529010773,
           -327.9825134277344,
           -1038.8779296875,
           0.24072600901126862
          ],
          [
           "s",
           0.005436452571302652,
           0.0022545706015080214,
           0.005885276477783918,
           -0.8128065466880798,
           2668.177734375,
           0.013707609847187996,
           0.005169248208403587,
           2.09399151802063,
           2.2660224437713623,
           2.384044885635376,
           0.012323719449341297,
           2001.43994140625,
           119.99040222167969,
           0.1456708163022995
          ],
          [
           "s",
           0.0054509202018380165,
           0.0017034098273143172,
           0.00571086909621954,
           -0.8886247277259827,
           7128.947265625,
           0.014297897927463055,
           0.005311600863933563,
           2.2859694957733154,
           2.3949294090270996,
           2.457803964614868,
           0.013054872862994671,
           2384.918701171875,
           2215.979248046875,
           0.303166002035141
          ],
          [
           "s",
           0.005434855353087187,
           0.0018040649592876434,
           0.005726408679038286,
           -1.047589659690857,
           4210.3017578125,
           0.010841111652553082,
           0.005273210350424051,
           1.829719066619873,
           1.9278298616409302,
           1.9869714975357056,
           0.010477718897163868,
           1512.7784423828125,
           119.99494934082031,
           0.19459615647792816
          ],
          [
           "s",
           0.005403595510870218,
           0.0023618750274181366,
           0.005897148512303829,
           -0.4826711118221283,
           3016.728515625,
           0.017605392262339592,
           0.005113118793815374,
           2.5529680252075195,
           2.782034397125244,
           2.944432258605957,
           0.015055231750011444,
           -2527.472412109375,
           -2783.8828125,
           0.09422953426837921
          ],
          [
           "c",
           0.005376431159675121,
           0.005372424144297838,
           0.007600299548357725,
           -0.0879744365811348,
           2861.109619140625,
           0.03888128325343132,
           0.00571365375071764,
           2.82977294921875,
           3.3306691646575928,
           3.76416277885437,
           0.021507123485207558,
           -4785.34130859375,
           -4715.6298828125,
           0.2190961241722107
          ],
          [
           "s",
           0.005503242835402489,
           0.0018390739569440484,
           0.005802390165627003,
           -0.9054431915283203,
           7836.78564453125,
           0.011028236709535122,
           0.00534121785312891,
           1.953381061553955,
           2.059563636779785,
           2.122040033340454,
           0.011334278620779514,
           -4539.25830078125,
           -3309.084716796875,
           0.12860538065433502
          ],
          [
           "i",
           0.0053931777365505695,
           0.002689020475372672,
           0.006026247050613165,
           0.11404123157262802,
           2699.791259765625,
           0.0220362339168787,
           0.005082463379949331,
           2.534346103668213,
           2.7994067668914795,
           3.0049591064453125,
           0.0152725949883461,
           -3381.153076171875,
           -3343.82177734375,
           0.13554981350898743
          ],
          [
           "i",
           0.005432430189102888,
           0.002840700326487422,
           0.006130243185907602,
           -0.4087134003639221,
           3760.118896484375,
           0.019811728969216347,
           0.005041154101490974,
           2.3965322971343994,
           2.6849234104156494,
           2.914278507232666,
           0.014691326767206192,
           416.2948913574219,
           119.99630737304688,
           0.2797183692455292
          ],
          [
           "i",
           0.005432690493762493,
           0.002910815877839923,
           0.006163181737065315,
           0.04183216765522957,
           2621.578125,
           0.02016689069569111,
           0.005103881470859051,
           2.382251262664795,
           2.6575403213500977,
           2.876682758331299,
           0.014682247303426266,
           -1805.324462890625,
           -179.8284912109375,
           0.24983251094818115
          ],
          [
           "s",
           0.005415789783000946,
           0.0021796103101223707,
           0.005837911274284124,
           -0.9684739112854004,
           6486.0712890625,
           0.013267782516777515,
           0.005170683842152357,
           2.0393214225769043,
           2.1980903148651123,
           2.302476406097412,
           0.011905377730727196,
           -4165.9404296875,
           -3292.81005859375,
           0.14619438350200653
          ],
          [
           "s",
           0.005433240905404091,
           0.002028388436883688,
           0.005799494683742523,
           -0.420009046792984,
           4850.060546875,
           0.0167190320789814,
           0.005231131333857775,
           2.30470609664917,
           2.457563877105713,
           2.555112600326538,
           0.01336613018065691,
           4541.9091796875,
           4546.9091796875,
           0.09078150987625122
          ],
          [
           "c",
           0.0054483553394675255,
           0.0038510647136718035,
           0.006671943236142397,
           1.0764966011047363,
           4536.181640625,
           0.04501352459192276,
           0.00521817896515131,
           3.992335319519043,
           4.607914924621582,
           5.104584217071533,
           0.026636634021997452,
           2508.781005859375,
           2696.1318359375,
           0.8072932958602905
          ],
          [
           "c",
           0.005432199686765671,
           0.002694333204999566,
           0.006063670385628939,
           0.9997528195381165,
           6438.73779296875,
           0.03622986003756523,
           0.005144326947629452,
           3.7085673809051514,
           4.091951370239258,
           4.371325492858887,
           0.02248753048479557,
           4371.75048828125,
           4928.85498046875,
           0.664210319519043
          ],
          [
           "i",
           0.005458536092191935,
           0.0032498890068382025,
           0.006352595053613186,
           -0.33112427592277527,
           2945.43994140625,
           0.021524740383028984,
           0.005067290738224983,
           2.509305953979492,
           2.8528201580047607,
           3.145784616470337,
           0.015940604731440544,
           -3298.135009765625,
           -4905.3759765625,
           0.2515025734901428
          ],
          [
           "c",
           0.0054620178416371346,
           0.005098254419863224,
           0.00747154513373971,
           -0.14483614265918732,
           3704.090087890625,
           0.04088975489139557,
           0.0054189059883356094,
           3.200249195098877,
           3.8394954204559326,
           4.412478923797607,
           0.023910807445645332,
           -1089.9361572265625,
           -430.392333984375,
           0.33895930647850037
          ],
          [
           "c",
           0.00543926702812314,
           0.004287320654839277,
           0.006925560068339109,
           -0.0037462019827216864,
           2601.310546875,
           0.02928098477423191,
           0.005230797454714775,
           2.8408029079437256,
           3.3395097255706787,
           3.761214256286621,
           0.01967415027320385,
           -2940.20849609375,
           -2889.925048828125,
           0.30924949049949646
          ],
          [
           "i",
           0.00543961999937892,
           0.003331506624817848,
           0.006378660444170237,
           -0.15168876945972443,
           3790.0126953125,
           0.022816061973571777,
           0.005054054316133261,
           2.658220052719116,
           3.035029888153076,
           3.354907512664795,
           0.01695588417351246,
           927.7310180664062,
           1357.5050048828125,
           0.22485105693340302
          ],
          [
           "s",
           0.0054706702940166,
           0.0027611195109784603,
           0.006127908825874329,
           -0.3570140600204468,
           3981.60693359375,
           0.020097844302654266,
           0.005099078174680471,
           2.5302650928497314,
           2.8153700828552246,
           3.0407915115356445,
           0.015505233779549599,
           -1532.51611328125,
           -2369.910888671875,
           0.30491337180137634
          ],
          [
           "i",
           0.005483757238835096,
           0.0033246399834752083,
           0.006412741262465715,
           0.5449644327163696,
           2934.125,
           0.028113767504692078,
           0.005203561391681433,
           2.856332302093506,
           3.2247745990753174,
           3.520073890686035,
           0.01831691898405552,
           698.9973754882812,
           119.46241760253906,
           0.25372806191444397
          ],
          [
           "s",
           0.005445396061986685,
           0.002164524747058749,
           0.005859807133674622,
           -0.17664691805839539,
           6309.8515625,
           0.0206267312169075,
           0.005206916946917772,
           2.6574957370758057,
           2.8546764850616455,
           2.9907164573669434,
           0.015572412870824337,
           -3863.343505859375,
           -4757.82421875,
           0.32673653960227966
          ],
          [
           "i",
           0.005478254985064268,
           0.003113012295216322,
           0.006300852634012699,
           -0.17526115477085114,
           3099.165771484375,
           0.023246947675943375,
           0.0050857895985245705,
           2.704193592071533,
           3.057576894760132,
           3.3502614498138428,
           0.017038725316524506,
           -2949.939453125,
           -2917.2294921875,
           0.2925000786781311
          ],
          [
           "s",
           0.005453547462821007,
           0.002510823542252183,
           0.00600376445800066,
           0.12777471542358398,
           6043.3134765625,
           0.02184053137898445,
           0.005156300496309996,
           2.774672269821167,
           3.0379416942596436,
           3.230703830718994,
           0.01665847934782505,
           -1221.1446533203125,
           -120.17671203613281,
           0.3591289818286896
          ],
          [
           "s",
           0.005454590544104576,
           0.0021697762422263622,
           0.005870295688509941,
           -0.1399603933095932,
           8112.4892578125,
           0.018439657986164093,
           0.005216266494244337,
           2.4843316078186035,
           2.6683685779571533,
           2.795823574066162,
           0.014583760872483253,
           -696.7957153320312,
           -696.9187622070312,
           0.3809002935886383
          ],
          [
           "s",
           0.005475057289004326,
           0.0023239145521074533,
           0.005947697442024946,
           -0.10737226158380508,
           2440.19287109375,
           0.01586226560175419,
           0.0052075511775910854,
           2.2889509201049805,
           2.4806017875671387,
           2.6142780780792236,
           0.0136139877140522,
           82.4000015258789,
           1371.199951171875,
           0.1377294808626175
          ],
          [
           "s",
           0.0054363347589969635,
           0.003000939032062888,
           0.006209547631442547,
           -0.2094273567199707,
           3443.927734375,
           0.02578909508883953,
           0.005053672008216381,
           2.925133466720581,
           3.292862892150879,
           3.594170093536377,
           0.018163755536079407,
           1532.51611328125,
           2369.910888671875,
           0.32668715715408325
          ],
          [
           "s",
           0.005454227793961763,
           0.0021437928080558777,
           0.00586040411144495,
           -0.13314171135425568,
           8058.53857421875,
           0.018447821959853172,
           0.005222748499363661,
           2.5009613037109375,
           2.682053327560425,
           2.8063085079193115,
           0.014656643383204937,
           -3692.223388671875,
           -2939.85888671875,
           0.3041871190071106
          ],
          [
           "c",
           0.0054321191273629665,
           0.0050406851805746555,
           0.007410248275846243,
           -0.43792805075645447,
           2790.239990234375,
           0.03163355216383934,
           0.005413581617176533,
           2.64870548248291,
           3.1580002307891846,
           3.625615358352661,
           0.019627563655376434,
           1279.9415283203125,
           45.712196350097656,
           0.19901026785373688
          ],
          [
           "s",
           0.00549525860697031,
           0.002036670222878456,
           0.005860499106347561,
           -0.22794109582901,
           4286.1123046875,
           0.015752164646983147,
           0.005283369682729244,
           2.258415937423706,
           2.4071145057678223,
           2.5051143169403076,
           0.013235445134341717,
           3290.578857421875,
           3965.2275390625,
           0.14750953018665314
          ],
          [
           "s",
           0.005450613331049681,
           0.003585409140214324,
           0.006524038501083851,
           0.21915945410728455,
           2938.892822265625,
           0.034648168832063675,
           0.005143648944795132,
           3.427096366882324,
           3.9243125915527344,
           4.346818447113037,
           0.02235850878059864,
           -2535.322265625,
           -2538.768310546875,
           0.34505489468574524
          ],
          [
           "i",
           0.005464026238769293,
           0.004156976472586393,
           0.006865390110760927,
           -0.1883605420589447,
           3246.974853515625,
           0.02831892855465412,
           0.005274038761854172,
           2.5813961029052734,
           2.998218297958374,
           3.360288143157959,
           0.017722290009260178,
           2949.939453125,
           2917.2294921875,
           0.29246631264686584
          ],
          [
           "s",
           0.005473649129271507,
           0.0022580933291465044,
           0.005921122618019581,
           -0.03864296153187752,
           7621.51611328125,
           0.02011823281645775,
           0.005219746846705675,
           2.644343852996826,
           2.8532943725585938,
           2.999663829803467,
           0.015657484531402588,
           -1285.345947265625,
           -697.1033935546875,
           0.36016011238098145
          ],
          [
           "c",
           0.005420277360826731,
           0.00482973363250494,
           0.00725975725799799,
           0.05820496007800102,
           3633.917724609375,
           0.037505555897951126,
           0.0052998485043644905,
           3.2621169090270996,
           3.9043564796447754,
           4.468462944030762,
           0.02368217706680298,
           2930.081298828125,
           2980.213623046875,
           0.6287297010421753
          ],
          [
           "s",
           0.005462083965539932,
           0.002197164809331298,
           0.0058874208480119705,
           -0.0072164530865848064,
           6915.69384765625,
           0.018128089606761932,
           0.005222095642238855,
           2.4247827529907227,
           2.606943368911743,
           2.7337141036987305,
           0.014275716617703438,
           1221.1446533203125,
           120.17671203613281,
           0.38091784715652466
          ],
          [
           "s",
           0.00544600747525692,
           0.0022434957791119814,
           0.005889877676963806,
           -0.2351342737674713,
           2548.688232421875,
           0.014338921755552292,
           0.005188327748328447,
           2.1916654109954834,
           2.368189573287964,
           2.488015651702881,
           0.012908640317618847,
           -82.4000015258789,
           -1371.199951171875,
           0.11595204472541809
          ],
          [
           "c",
           0.005453702062368393,
           0.0035187897738069296,
           0.006490328814834356,
           1.1884369850158691,
           4794.240234375,
           0.03594494238495827,
           0.0051653627306222916,
           3.7775368690490723,
           4.321074962615967,
           4.746511936187744,
           0.02451745606958866,
           -2508.781005859375,
           -2696.1318359375,
           0.8072932958602905
          ],
          [
           "s",
           0.005413481034338474,
           0.00251370039768517,
           0.005968534387648106,
           -0.4194861352443695,
           3122.79150390625,
           0.018466893583536148,
           0.005098555702716112,
           2.46614146232605,
           2.7093706130981445,
           2.8869452476501465,
           0.014719250611960888,
           -1512.7784423828125,
           -119.99494934082031,
           0.17295467853546143
          ],
          [
           "s",
           0.005481729283928871,
           0.0022400079760700464,
           0.00592169351875782,
           0.054847024381160736,
           4221.6015625,
           0.016865935176610947,
           0.005236766766756773,
           2.29290771484375,
           2.4699525833129883,
           2.592801332473755,
           0.013577896170318127,
           -3290.578857421875,
           -3965.2275390625,
           0.14750953018665314
          ],
          [
           "s",
           0.005508966278284788,
           0.0034600046928972006,
           0.006505349650979042,
           0.30999618768692017,
           3027.8779296875,
           0.03788146749138832,
           0.005173529032617807,
           4.126054286956787,
           4.700075149536133,
           5.188223838806152,
           0.026841426268219948,
           -482.8722839355469,
           -22.079647064208984,
           0.30116474628448486
          ],
          [
           "c",
           0.005454538390040398,
           0.0028828242793679237,
           0.006169483065605164,
           1.5214414596557617,
           5888.69091796875,
           0.04004450887441635,
           0.005189887247979641,
           4.054879188537598,
           4.497560501098633,
           4.820241451263428,
           0.025016507133841515,
           409.7735595703125,
           1614.020263671875,
           0.6741961240768433
          ],
          [
           "s",
           0.00547430757433176,
           0.002763827797025442,
           0.006132412236183882,
           0.16914553940296173,
           5195.5654296875,
           0.025543227791786194,
           0.005144244991242886,
           3.0426833629608154,
           3.3731086254119873,
           3.627157688140869,
           0.018658988177776337,
           4937.650390625,
           3243.567626953125,
           0.34607189893722534
          ],
          [
           "s",
           0.005464846268296242,
           0.0027225525118410587,
           0.006105451844632626,
           0.013415351510047913,
           5742.595703125,
           0.02253858372569084,
           0.00512731121852994,
           2.7529349327087402,
           3.0471084117889404,
           3.278114080429077,
           0.016807910054922104,
           -2059.679443359375,
           -922.4907836914062,
           0.370526522397995
          ],
          [
           "i",
           0.005456652492284775,
           0.002719100331887603,
           0.006096542812883854,
           -0.29819270968437195,
           3806.9892578125,
           0.019611259922385216,
           0.005082782823592424,
           2.6462442874908447,
           2.945834159851074,
           3.174036979675293,
           0.016132941469550133,
           -927.7310180664062,
           -1357.5050048828125,
           0.20307299494743347
          ],
          [
           "s",
           0.005469111725687981,
           0.0024095068220049143,
           0.0059763104654848576,
           0.39816340804100037,
           3752.281005859375,
           0.02226945012807846,
           0.005208228249102831,
           2.5795035362243652,
           2.8023180961608887,
           2.9599151611328125,
           0.015415913425385952,
           -1098.10400390625,
           -1680.2218017578125,
           0.19952385127544403
          ],
          [
           "s",
           0.005451071076095104,
           0.0020825855899602175,
           0.005835343152284622,
           -0.2694534361362457,
           8535.1708984375,
           0.017656434327363968,
           0.005228664726018906,
           2.361319065093994,
           2.5244009494781494,
           2.635301351547241,
           0.013779107481241226,
           3692.223388671875,
           2939.85888671875,
           0.3041871190071106
          ],
          [
           "s",
           0.0053712124936282635,
           0.0028756307438015938,
           0.0060925353318452835,
           0.18235301971435547,
           6493.302734375,
           0.030938738957047462,
           0.005027447361499071,
           3.220860242843628,
           3.602263927459717,
           3.903214454650879,
           0.019623205065727234,
           -119.99931335449219,
           -360.1122131347656,
           0.5331425666809082
          ],
          [
           "s",
           0.00544407544657588,
           0.0030089563224464655,
           0.006220242474228144,
           0.06472335755825043,
           4560.84765625,
           0.029354292899370193,
           0.005075166001915932,
           3.4659323692321777,
           3.8979012966156006,
           4.247927665710449,
           0.021558938547968864,
           3302.56689453125,
           2890.77099609375,
           0.39637187123298645
          ],
          [
           "c",
           0.005462903529405594,
           0.0036825404968112707,
           0.0065881432965397835,
           0.049721308052539825,
           4562.59912109375,
           0.029167423024773598,
           0.0051199705339968204,
           2.8727383613586426,
           3.3175289630889893,
           3.696507692337036,
           0.01892601139843464,
           2963.44775390625,
           2947.1572265625,
           0.5450159311294556
          ],
          [
           "s",
           0.005450887605547905,
           0.00212207087315619,
           0.005849380046129227,
           -0.37648576498031616,
           8344.9306640625,
           0.01696154847741127,
           0.005216341000050306,
           2.4151721000671387,
           2.5889906883239746,
           2.7082700729370117,
           0.014127260074019432,
           1285.345947265625,
           697.1033935546875,
           0.38201653957366943
          ],
          [
           "s",
           0.0054743364453315735,
           0.002172880107536912,
           0.005889792460948229,
           -0.09894217550754547,
           6846.455078125,
           0.021890005096793175,
           0.005239972844719887,
           2.9436392784118652,
           3.1599459648132324,
           3.3086860179901123,
           0.01733742468059063,
           3553.947265625,
           3472.655517578125,
           0.38830146193504333
          ],
          [
           "c",
           0.005451781675219536,
           0.0037267820443958044,
           0.006603817455470562,
           1.0196261405944824,
           4176.30517578125,
           0.04339423403143883,
           0.005178686697036028,
           4.336169719696045,
           4.999804973602295,
           5.529447078704834,
           0.02863527461886406,
           2411.5625,
           41.14254379272461,
           0.8258324861526489
          ],
          [
           "s",
           0.00543499831110239,
           0.002595876343548298,
           0.006023071240633726,
           -0.1840820163488388,
           4968.65283203125,
           0.019489558413624763,
           0.0050995731726288795,
           2.638068437576294,
           2.909839391708374,
           3.11580491065979,
           0.015889275819063187,
           2958.64794921875,
           2900.321533203125,
           0.4784005880355835
          ],
          [
           "c",
           0.0054894667118787766,
           0.0024342848919332027,
           0.006004988215863705,
           1.0384842157363892,
           5831.45556640625,
           0.03640313446521759,
           0.00523718586191535,
           4.094630241394043,
           4.449277877807617,
           4.694927215576172,
           0.02458820678293705,
           -4371.75048828125,
           -4928.85498046875,
           0.6642183661460876
          ],
          [
           "s",
           0.005441175773739815,
           0.0021597689483314753,
           0.005854129325598478,
           -0.26023736596107483,
           6612.03857421875,
           0.0183732770383358,
           0.005201243795454502,
           2.536069869995117,
           2.724729537963867,
           2.85440993309021,
           0.014846481382846832,
           3863.343505859375,
           4757.82421875,
           0.32673653960227966
          ],
          [
           "s",
           0.005446700379252434,
           0.0024801716208457947,
           0.0059847766533494,
           -0.5864058136940002,
           6213.5029296875,
           0.018484795466065407,
           0.005119314882904291,
           2.544403314590454,
           2.7887766361236572,
           2.974555253982544,
           0.015227685682475567,
           2410.3759765625,
           1259.6873779296875,
           0.4757958650588989
          ],
          [
           "i",
           0.005430170334875584,
           0.003911580424755812,
           0.006692115683108568,
           -0.4336514174938202,
           2966.703369140625,
           0.02393816038966179,
           0.0050895060412585735,
           2.4913413524627686,
           2.904330015182495,
           3.2758278846740723,
           0.016672344878315926,
           3298.135009765625,
           4905.3759765625,
           0.25155535340309143
          ],
          [
           "s",
           0.005495052319020033,
           0.0018354712519794703,
           0.005793461576104164,
           -0.29255393147468567,
           4800.73388671875,
           0.013056370429694653,
           0.005322202108800411,
           2.016540765762329,
           2.1257340908050537,
           2.1950972080230713,
           0.011682750657200813,
           1098.10400390625,
           1680.2218017578125,
           0.22144196927547455
          ],
          [
           "s",
           0.0054521323181688786,
           0.0022732482757419348,
           0.0059069241397082806,
           -0.15787483751773834,
           2323.401123046875,
           0.016377180814743042,
           0.005190995521843433,
           2.4038033485412598,
           2.5997986793518066,
           2.7353296279907227,
           0.014199083670973778,
           3462.39990234375,
           3953.60009765625,
           0.0871792808175087
          ],
          [
           "s",
           0.005504962522536516,
           0.0022644700948148966,
           0.005952498875558376,
           -0.5050255060195923,
           6849.9033203125,
           0.01688341051340103,
           0.005237536039203405,
           2.379028558731079,
           2.569207191467285,
           2.7037839889526367,
           0.014161165803670883,
           -1725.1602783203125,
           -893.3563232421875,
           0.3670773208141327
          ],
          [
           "i",
           0.005461576394736767,
           0.0031906114891171455,
           0.006325201131403446,
           -0.019251564517617226,
           4183.79833984375,
           0.027505166828632355,
           0.005084615666419268,
           2.986862897872925,
           3.387105941772461,
           3.7156214714050293,
           0.018892508000135422,
           2969.552490234375,
           2903.153564453125,
           0.452880322933197
          ],
          [
           "s",
           0.005465737544000149,
           0.0018018357222899795,
           0.005755067337304354,
           -0.8366949558258057,
           8760.9755859375,
           0.015423632226884365,
           0.005309110041707754,
           2.0674843788146973,
           2.17671275138855,
           2.24114990234375,
           0.011898511089384556,
           120.22765350341797,
           655.461669921875,
           0.3723088204860687
          ],
          [
           "i",
           0.005422839429229498,
           0.003065281780436635,
           0.006229023449122906,
           0.10097087174654007,
           2096.547119140625,
           0.024372076615691185,
           0.005084705073386431,
           2.977611541748047,
           3.345641613006592,
           3.64772629737854,
           0.01854761317372322,
           -3565.851806640625,
           -2852.29736328125,
           0.14694280922412872
          ],
          [
           "s",
           0.005466736387461424,
           0.001781868515536189,
           0.00574979092925787,
           -0.2104889303445816,
           5966.76953125,
           0.014539611525833607,
           0.005308777559548616,
           2.294564962387085,
           2.4130470752716064,
           2.485180377960205,
           0.01319326926022768,
           2843.6953125,
           3389.2880859375,
           0.2286866307258606
          ],
          [
           "s",
           0.005533702205866575,
           0.00179616070818156,
           0.00581787247210741,
           -0.6338459849357605,
           4565.28857421875,
           0.010849733836948872,
           0.005378622096031904,
           1.9356931447982788,
           2.0350961685180664,
           2.093773365020752,
           0.011261614970862865,
           3561.805908203125,
           2538.798828125,
           0.1268792599439621
          ],
          [
           "s",
           0.00545826880261302,
           0.001853855443187058,
           0.005764437839388847,
           -0.3124939203262329,
           3350.96875,
           0.014756320975720882,
           0.005291395355015993,
           2.0421321392059326,
           2.1552114486694336,
           2.2246954441070557,
           0.011771743185818195,
           -179.19044494628906,
           -798.8907470703125,
           0.1657542884349823
          ],
          [
           "s",
           0.005498243495821953,
           0.0018854085355997086,
           0.005812518764287233,
           0.16772617399692535,
           7226.47607421875,
           0.028523709625005722,
           0.005328009836375713,
           3.09397554397583,
           3.2678325176239014,
           3.3753297328948975,
           0.01798379048705101,
           -3065.084716796875,
           -4934.775390625,
           0.3607911467552185
          ],
          [
           "c",
           0.005478181876242161,
           0.005433501675724983,
           0.007715615443885326,
           0.6549177169799805,
           3356.736083984375,
           0.039241891354322433,
           0.005587933585047722,
           3.114290475845337,
           3.767371892929077,
           4.300098896026611,
           0.02402866818010807,
           -3616.60302734375,
           -3893.168212890625,
           0.20060297846794128
          ],
          [
           "c",
           0.005429267417639494,
           0.001713036559522152,
           0.005693049635738134,
           -0.4285490810871124,
           3411.74169921875,
           0.012570244260132313,
           0.005281630903482437,
           2.0060012340545654,
           2.103271484375,
           2.1622607707977295,
           0.011420263908803463,
           1275.1319580078125,
           1112.4739990234375,
           0.43834781646728516
          ],
          [
           "c",
           0.005446117836982012,
           0.010178553871810436,
           0.011543761007487774,
           -0.7183502316474915,
           5114.7734375,
           0.05562150850892067,
           0.007649489212781191,
           2.891176462173462,
           3.64217209815979,
           4.363042831420898,
           0.033375050872564316,
           1055.9879150390625,
           1037.1309814453125,
           0.9066747426986694
          ],
          [
           "i",
           0.005470543168485165,
           0.004098869860172272,
           0.006835732609033585,
           1.7659655809402466,
           6135.287109375,
           0.04180097579956055,
           0.005381645634770393,
           3.6441545486450195,
           4.209433555603027,
           4.628782749176025,
           0.024910466745495796,
           1044.0947265625,
           1048.8447265625,
           0.5613875389099121
          ],
          [
           "s",
           0.0054893651977181435,
           0.0018584236968308687,
           0.0057954019866883755,
           0.0312822051346302,
           5915.56982421875,
           0.01568714715540409,
           0.005316893104463816,
           2.314480781555176,
           2.4423675537109375,
           2.5227792263031006,
           0.013413346372544765,
           1902.5079345703125,
           1058.3858642578125,
           0.3039024770259857
          ],
          [
           "s",
           0.0054693385027348995,
           0.0018032367806881666,
           0.005758929066359997,
           -0.3104187548160553,
           9201.5595703125,
           0.01827700063586235,
           0.0053106313571333885,
           2.429953098297119,
           2.5575780868530273,
           2.635077953338623,
           0.013993927277624607,
           -2050.98974609375,
           -1545.4923095703125,
           0.3848745822906494
          ],
          [
           "s",
           0.005502224434167147,
           0.0017939945682883263,
           0.0057872687466442585,
           -0.7323462963104248,
           4874.212890625,
           0.010558194480836391,
           0.005344810429960489,
           1.8129475116729736,
           1.9068619012832642,
           1.9630283117294312,
           0.010492014698684216,
           -2366.96435546875,
           -1610.1884765625,
           0.17068466544151306
          ],
          [
           "c",
           0.005473039112985134,
           0.009477542713284492,
           0.0109441252425313,
           -0.3187859058380127,
           4167.615234375,
           0.06676133722066879,
           0.007326218765228987,
           3.547818899154663,
           4.455156326293945,
           5.299838066101074,
           0.03882777318358421,
           -1055.9879150390625,
           -1037.1309814453125,
           0.8848588466644287
          ],
          [
           "c",
           0.0054320236667990685,
           0.007904776372015476,
           0.009590569883584976,
           0.195081889629364,
           1815.751953125,
           0.061786528676748276,
           0.00659922556951642,
           3.765127182006836,
           4.685303211212158,
           5.471810817718506,
           0.036109715700149536,
           -4686.14990234375,
           -4728.28125,
           0.32989367842674255
          ],
          [
           "s",
           0.005457371007651091,
           0.0018331550527364016,
           0.00575702078640461,
           -0.04737222567200661,
           9183.083984375,
           0.01676219329237938,
           0.005289372522383928,
           2.4348413944244385,
           2.5677404403686523,
           2.6501123905181885,
           0.014017432928085327,
           -55.19972229003906,
           -1048.894775390625,
           0.4547525942325592
          ],
          [
           "s",
           0.005497113335877657,
           0.0017947960877791047,
           0.005782688967883587,
           0.03304167464375496,
           10658.0390625,
           0.01637481525540352,
           0.005337351933121681,
           2.194065570831299,
           2.307262659072876,
           2.37713360786438,
           0.01268759835511446,
           25.23417091369629,
           697.5968017578125,
           0.5125207304954529
          ],
          [
           "s",
           0.005477682687342167,
           0.0019753563683480024,
           0.005822968203574419,
           0.21896010637283325,
           8972.6708984375,
           0.019196705892682076,
           0.005284050013870001,
           2.4919326305389404,
           2.646368980407715,
           2.746083974838257,
           0.014510445296764374,
           -3602.431884765625,
           -3108.83447265625,
           0.4015209376811981
          ],
          [
           "i",
           0.005442036781460047,
           0.003672948107123375,
           0.00656546838581562,
           1.1491849422454834,
           3516.2900390625,
           0.03286951035261154,
           0.0051687974482774734,
           3.408345937728882,
           3.929546356201172,
           4.329322338104248,
           0.022377388551831245,
           3717.50048828125,
           4653.83203125,
           0.32348117232322693
          ],
          [
           "s",
           0.005503085441887379,
           0.001832670415751636,
           0.005800185725092888,
           -0.5713130831718445,
           3935.232421875,
           0.014508729800581932,
           0.0053411126136779785,
           2.1300902366638184,
           2.244785785675049,
           2.313173294067383,
           0.012354918755590916,
           -3657.114501953125,
           -4569.4375,
           0.12026874721050262
          ],
          [
           "s",
           0.005516375880688429,
           0.0018097629072144628,
           0.005805619992315769,
           -0.6011983752250671,
           3859.460693359375,
           0.013633161783218384,
           0.005356804467737675,
           2.2894785404205322,
           2.4094862937927246,
           2.4813005924224854,
           0.013291842304170132,
           -3561.805908203125,
           -2505.83984375,
           0.1268792599439621
          ],
          [
           "i",
           0.005438679363578558,
           0.001672485377639532,
           0.005689977668225765,
           -0.34567517042160034,
           3629.3720703125,
           0.010762826539576054,
           0.005300209857523441,
           1.8858082294464111,
           1.9729382991790771,
           2.024487018585205,
           0.010730206966400146,
           3545.410888671875,
           3456.348876953125,
           0.1040664091706276
          ],
          [
           "s",
           0.005486784502863884,
           0.001756874262355268,
           0.005761193577200174,
           -0.20748722553253174,
           10481.20703125,
           0.015511468052864075,
           0.005333716981112957,
           2.133309841156006,
           2.2396399974823,
           2.304286241531372,
           0.01229041162878275,
           3602.431884765625,
           3108.83447265625,
           0.4015209376811981
          ],
          [
           "i",
           0.005484459456056356,
           0.00204283045604825,
           0.005852540489286184,
           -0.20191814005374908,
           5912.4716796875,
           0.015696432441473007,
           0.005269622430205345,
           2.315631628036499,
           2.469710111618042,
           2.5717835426330566,
           0.013552327640354633,
           -229.1969451904297,
           -11.999839782714844,
           0.31337907910346985
          ],
          [
           "s",
           0.00546217430382967,
           0.0016194273484870791,
           0.005697167944163084,
           -0.3560388684272766,
           5265.63330078125,
           0.01392512395977974,
           0.005334049928933382,
           2.37345552444458,
           2.4754750728607178,
           2.535029411315918,
           0.01352197490632534,
           -853.9063110351562,
           -1765.091796875,
           0.21784882247447968
          ],
          [
           "s",
           0.005466510076075792,
           0.002554373349994421,
           0.006033780984580517,
           1.406596064567566,
           2328.811767578125,
           0.027255594730377197,
           0.0052129486575722694,
           3.3916075229644775,
           3.704620599746704,
           3.9256508350372314,
           0.0204642154276371,
           2696.292236328125,
           4574.216796875,
           0.14741957187652588
          ],
          [
           "i",
           0.005463438108563423,
           0.004673128016293049,
           0.007189062424004078,
           1.400803565979004,
           1982.86572265625,
           0.03792908042669296,
           0.0054242610931396484,
           3.4482803344726562,
           4.078653812408447,
           4.570189952850342,
           0.024789903312921524,
           -455.9756774902344,
           -2122.020263671875,
           0.18213112652301788
          ],
          [
           "s",
           0.005497574340552092,
           0.0018428986659273505,
           0.005798199214041233,
           -0.6651607155799866,
           4171.9853515625,
           0.011975116096436977,
           0.005331350024789572,
           2.009425640106201,
           2.1192708015441895,
           2.185384750366211,
           0.011651050299406052,
           56.17578125,
           120.17350769042969,
           0.18323969841003418
          ],
          [
           "s",
           0.005479920655488968,
           0.0018080362351611257,
           0.005770482122898102,
           -0.4476785361766815,
           9232.619140625,
           0.015910163521766663,
           0.0053181760013103485,
           2.4217793941497803,
           2.5499277114868164,
           2.6277496814727783,
           0.01397483516484499,
           3065.084716796875,
           4934.775390625,
           0.3607911467552185
          ],
          [
           "s",
           0.00547276996076107,
           0.0017512377817183733,
           0.005746115930378437,
           -0.11331750452518463,
           5647.07470703125,
           0.014427343383431435,
           0.005319418851286173,
           2.213188648223877,
           2.3233327865600586,
           2.390719413757324,
           0.012717238627374172,
           -3566.343017578125,
           -3533.863525390625,
           0.21597589552402496
          ],
          [
           "s",
           0.005460432264953852,
           0.001719681196846068,
           0.00572477001696825,
           -0.4502071142196655,
           3065.576904296875,
           0.01319272443652153,
           0.005316449794918299,
           2.232290029525757,
           2.3401334285736084,
           2.4037370681762695,
           0.012779347598552704,
           -4134.712890625,
           -4659.48486328125,
           0.11471675336360931
          ],
          [
           "i",
           0.005488038063049316,
           0.0021820764522999525,
           0.005905909463763237,
           -0.15640871226787567,
           5610.2734375,
           0.01828697882592678,
           0.005242966115474701,
           2.4403247833251953,
           2.623403787612915,
           2.748889923095703,
           0.014412336982786655,
           4886.3349609375,
           4985,
           0.2573882043361664
          ],
          [
           "s",
           0.005485642235726118,
           0.001760386978276074,
           0.005761166103184223,
           -0.07394906133413315,
           5844.22314453125,
           0.014358380809426308,
           0.005333146546036005,
           2.1386196613311768,
           2.2454495429992676,
           2.31025767326355,
           0.012320943176746368,
           853.9063110351562,
           1765.091796875,
           0.23972173035144806
          ],
          [
           "s",
           0.005440586246550083,
           0.002419469878077507,
           0.005954205524176359,
           1.7579752206802368,
           2654.27099609375,
           0.02446046657860279,
           0.005225684028118849,
           2.5777485370635986,
           2.78771710395813,
           2.937116861343384,
           0.015348444692790508,
           179.19044494628906,
           798.8907470703125,
           0.18753044307231903
          ],
          [
           "i",
           0.005483866203576326,
           0.001979831140488386,
           0.005830303765833378,
           -0.2556919455528259,
           10000.5,
           0.016044525429606438,
           0.00528332544490695,
           2.235844373703003,
           2.376338005065918,
           2.4673194885253906,
           0.013035652227699757,
           -3492.732421875,
           -3601.931884765625,
           0.43930864334106445
          ],
          [
           "s",
           0.00550307659432292,
           0.0019470512634143233,
           0.005837361328303814,
           -0.1018248051404953,
           9721.923828125,
           0.016767125576734543,
           0.005311248358339071,
           2.2999277114868164,
           2.4384918212890625,
           2.527750253677368,
           0.013425508514046669,
           55.19972229003906,
           1048.894775390625,
           0.4766680896282196
          ],
          [
           "s",
           0.005474898964166641,
           0.0024918238632380962,
           0.006015206687152386,
           0.6139025092124939,
           2836.197509765625,
           0.021880920976400375,
           0.005206298548728228,
           2.785696268081665,
           3.0388424396514893,
           3.218512535095215,
           0.016756538301706314,
           -2696.292236328125,
           -4574.216796875,
           0.14741957187652588
          ],
          [
           "i",
           0.005442493129521608,
           0.0021581153851002455,
           0.005854730494320393,
           0.45093992352485657,
           4466.8798828125,
           0.02073359675705433,
           0.0052202544175088406,
           2.6835269927978516,
           2.8780601024627686,
           3.00968599319458,
           0.015711328014731407,
           1183.4576416015625,
           1038.9384765625,
           0.4168517589569092
          ],
          [
           "s",
           0.005495775490999222,
           0.0018408057512715459,
           0.005795828532427549,
           -0.6279401183128357,
           4062.48486328125,
           0.011499013751745224,
           0.005328754894435406,
           2.063408613204956,
           2.1760647296905518,
           2.244269609451294,
           0.011959163472056389,
           -56.17578125,
           -24.176918029785156,
           0.16126848757266998
          ],
          [
           "s",
           0.00547974556684494,
           0.0017041617538779974,
           0.005738616921007633,
           -0.5974475741386414,
           10107.140625,
           0.014560351148247719,
           0.005338127259165049,
           2.2122786045074463,
           2.3167097568511963,
           2.378253221511841,
           0.012695418670773506,
           2050.98974609375,
           1545.4923095703125,
           0.4067938029766083
          ],
          [
           "c",
           0.005489754024893045,
           0.004265072289854288,
           0.006951732095330954,
           1.649670958518982,
           3111.146484375,
           0.03753380849957466,
           0.005421981681138277,
           3.3597302436828613,
           3.9045515060424805,
           4.307640075683594,
           0.023355945944786072,
           -46.170372009277344,
           -1095.9749755859375,
           0.2905389666557312
          ],
          [
           "i",
           0.005461269058287144,
           0.0029379744082689285,
           0.006201369222253561,
           0.6638936400413513,
           7286.36181640625,
           0.02671707421541214,
           0.00517417723312974,
           3.0685513019561768,
           3.415217161178589,
           3.6777286529541016,
           0.019029218703508377,
           3492.732421875,
           3601.931884765625,
           0.43930864334106445
          ],
          [
           "c",
           0.0054481057450175285,
           0.0019740478601306677,
           0.005794642958790064,
           0.21854610741138458,
           2811.01953125,
           0.017305472865700722,
           0.005255425814539194,
           2.434194564819336,
           2.587493658065796,
           2.683947801589966,
           0.014105288311839104,
           4686.14990234375,
           4728.28125,
           0.32989367842674255
          ],
          [
           "i",
           0.005439835134893656,
           0.001646474003791809,
           0.00568349426612258,
           -0.22266249358654022,
           3182.84326171875,
           0.012432870455086231,
           0.005300975404679775,
           2.15012788772583,
           2.2463531494140625,
           2.305281162261963,
           0.012220239266753197,
           455.9756774902344,
           2122.020263671875,
           0.20389656722545624
          ],
          [
           "c",
           0.005466594360768795,
           0.002200514078140259,
           0.005892832763493061,
           0.5361056327819824,
           3971.92236328125,
           0.019671546295285225,
           0.005233346484601498,
           2.6322710514068604,
           2.8292810916900635,
           2.963979721069336,
           0.015511532314121723,
           3616.60302734375,
           3893.168212890625,
           0.20060297846794128
          ],
          [
           "s",
           0.005476280115544796,
           0.0017261069733649492,
           0.005741857457906008,
           -0.34967589378356934,
           6311.43798828125,
           0.01500769518315792,
           0.005328417755663395,
           2.1692910194396973,
           2.2742650508880615,
           2.3376095294952393,
           0.012455759570002556,
           -1902.5079345703125,
           -1058.3858642578125,
           0.28202110528945923
          ],
          [
           "s",
           0.005523898173123598,
           0.0020151224453002214,
           0.005879936274141073,
           -0.2652706503868103,
           4097.60595703125,
           0.01589474081993103,
           0.005321420729160309,
           2.1564998626708984,
           2.293912172317505,
           2.3828377723693848,
           0.012680081650614738,
           2366.96435546875,
           1610.1884765625,
           0.19273830950260162
          ],
          [
           "c",
           0.005398099776357412,
           0.008032532408833504,
           0.009677550755441189,
           -0.16579705476760864,
           3434.631103515625,
           0.053340211510658264,
           0.006981620565056801,
           2.9998557567596436,
           3.6106746196746826,
           4.15824031829834,
           0.029031256213784218,
           3414.7431640625,
           3464.15380859375,
           0.42034053802490234
          ],
          [
           "s",
           0.005378813482820988,
           0.001870787120424211,
           0.005694844760000706,
           -0.9784632325172424,
           6320.04638671875,
           0.011367280967533588,
           0.005203427746891975,
           1.9776493310928345,
           2.0938401222229004,
           2.1644206047058105,
           0.011262405663728714,
           346.554443359375,
           479.83233642578125,
           0.283624529838562
          ],
          [
           "s",
           0.005419584456831217,
           0.0019362767925485969,
           0.0057550352066755295,
           -1.0634878873825073,
           3991.2626953125,
           0.010464268736541271,
           0.00523413484916091,
           1.9300719499588013,
           2.0495357513427734,
           2.12215256690979,
           0.011107632890343666,
           2783.8828125,
           3648.267333984375,
           0.09422953426837921
          ],
          [
           "s",
           0.005487358663231134,
           0.0018215373856946826,
           0.005781778134405613,
           -0.9065842628479004,
           7809.14892578125,
           0.011168385855853558,
           0.005328118335455656,
           1.960292935371399,
           2.0654709339141846,
           2.1272010803222656,
           0.011333978734910488,
           4539.25830078125,
           3309.084716796875,
           0.12860538065433502
          ],
          [
           "i",
           0.005429863464087248,
           0.0024675498716533184,
           0.0059641823172569275,
           -0.4767788052558899,
           3753.059326171875,
           0.02014351263642311,
           0.005117734428495169,
           2.4008893966674805,
           2.6294705867767334,
           2.7979846000671387,
           0.014319341629743576,
           3263.591796875,
           4441.70947265625,
           0.16930659115314484
          ],
          [
           "s",
           0.005421280395239592,
           0.0018663182854652405,
           0.005733510944992304,
           -0.9039079546928406,
           5587.4189453125,
           0.011682725511491299,
           0.005249960348010063,
           2.000744342803955,
           2.1159605979919434,
           2.185023784637451,
           0.011471289210021496,
           120.19759368896484,
           1108.3778076171875,
           0.20905090868473053
          ],
          [
           "s",
           0.005433171521872282,
           0.0019830954261124134,
           0.005783710163086653,
           -1.0487672090530396,
           4004.7841796875,
           0.010036299005150795,
           0.0052351029589772224,
           1.8460332155227661,
           1.965135931968689,
           2.0394864082336426,
           0.010676921345293522,
           3606.6923828125,
           4888.91943359375,
           0.07017181068658829
          ],
          [
           "i",
           0.0054094018414616585,
           0.0031517536845058203,
           0.006260402034968138,
           -0.3630243241786957,
           2572.493896484375,
           0.019464004784822464,
           0.004984220955520868,
           2.427948474884033,
           2.769254207611084,
           3.0496108531951904,
           0.015199934132397175,
           3565.851806640625,
           2852.29736328125,
           0.14691311120986938
          ],
          [
           "c",
           0.005399306304752827,
           0.0035550149623304605,
           0.006464418955147266,
           0.35517850518226624,
           2944.176513671875,
           0.026928769424557686,
           0.005133742932230234,
           2.7498176097869873,
           3.141660690307617,
           3.462575674057007,
           0.017775973305106163,
           -1633.842529296875,
           -1646.4134521484375,
           0.37007489800453186
          ],
          [
           "s",
           0.005430057644844055,
           0.002283561509102583,
           0.005890605039894581,
           -0.9202957153320312,
           3593.2001953125,
           0.01279973704367876,
           0.005154907237738371,
           2.0573320388793945,
           2.23154878616333,
           2.350950241088867,
           0.0121189309284091,
           -1255.2569580078125,
           -2178.18603515625,
           0.13841211795806885
          ],
          [
           "s",
           0.00543778482824564,
           0.0024416872765868902,
           0.005960656795650721,
           -0.8516359329223633,
           2720.792236328125,
           0.013050276786088943,
           0.005122039001435041,
           2.053224802017212,
           2.249340295791626,
           2.3893938064575195,
           0.012238568626344204,
           -2001.43994140625,
           -119.99040222167969,
           0.12397372722625732
          ],
          [
           "s",
           0.0055003296583890915,
           0.0018754432676360011,
           0.00581126194447279,
           -0.8772100806236267,
           7645.45556640625,
           0.014035276137292385,
           0.005331919528543949,
           2.002213954925537,
           2.1153135299682617,
           2.1822140216827393,
           0.011635389178991318,
           -1087.135009765625,
           -119.89205169677734,
           0.23043952882289886
          ],
          [
           "c",
           0.0053946757689118385,
           0.009157165884971619,
           0.010627714917063713,
           -0.5301212072372437,
           3620.177978515625,
           0.053106505423784256,
           0.007731493096798658,
           2.8463568687438965,
           3.4041285514831543,
           3.9126036167144775,
           0.030250268056988716,
           1674.3135986328125,
           1623.4912109375,
           0.656216025352478
          ],
          [
           "s",
           0.005401122849434614,
           0.002148665953427553,
           0.005812798626720905,
           -0.9730481505393982,
           6258.07861328125,
           0.013461253605782986,
           0.00516239320859313,
           2.1135988235473633,
           2.274507999420166,
           2.3798892498016357,
           0.012285924516618252,
           4165.9404296875,
           3292.81005859375,
           0.14619438350200653
          ],
          [
           "s",
           0.005430962424725294,
           0.0019275437807664275,
           0.005762869492173195,
           -0.7937412261962891,
           7823.845703125,
           0.01636345684528351,
           0.005249097011983395,
           2.315051317214966,
           2.4561870098114014,
           2.54164457321167,
           0.013341338373720646,
           -120.22765350341797,
           -655.461669921875,
           0.3505547344684601
          ],
          [
           "s",
           0.0053871707059443,
           0.0021195425651967525,
           0.005789111368358135,
           -0.9569997191429138,
           6227.19189453125,
           0.012851874344050884,
           0.005155167542397976,
           2.1241402626037598,
           2.282477378845215,
           2.3853509426116943,
           0.012296884320676327,
           119.99828338623047,
           119.71257781982422,
           0.2801341116428375
          ],
          [
           "s",
           0.005430488847196102,
           0.0019755037501454353,
           0.005778639577329159,
           -0.5720206499099731,
           7365.556640625,
           0.015402852557599545,
           0.005232602823525667,
           2.2125494480133057,
           2.353964328765869,
           2.443434953689575,
           0.012785525992512703,
           2527.505615234375,
           3546.88427734375,
           0.1829008311033249
          ],
          [
           "s",
           0.005385061260312796,
           0.002298408653587103,
           0.005855017341673374,
           -0.1337215155363083,
           4991.62939453125,
           0.020513903349637985,
           0.005123538430780172,
           2.503689765930176,
           2.7126901149749756,
           2.8611373901367188,
           0.014659146778285503,
           -346.554443359375,
           -479.83233642578125,
           0.26213186979293823
          ],
          [
           "i",
           0.005450677126646042,
           0.0022606258280575275,
           0.005900820251554251,
           -0.8849055767059326,
           4170.81982421875,
           0.014411394484341145,
           0.005184432957321405,
           2.160555601119995,
           2.3385298252105713,
           2.459102153778076,
           0.012749050743877888,
           -3263.591796875,
           -4441.70947265625,
           0.16930659115314484
          ],
          [
           "s",
           0.005380226299166679,
           0.0022215787321329117,
           0.0058208187110722065,
           -0.37393391132354736,
           5734.20849609375,
           0.015813011676073074,
           0.005129379220306873,
           2.179568290710449,
           2.3529088497161865,
           2.4733738899230957,
           0.012686872854828835,
           -2696.27685546875,
           -2593.718505859375,
           0.16738519072532654
          ],
          [
           "c",
           0.005383756943047047,
           0.007034395355731249,
           0.008857928216457367,
           -0.17153742909431458,
           3655.1953125,
           0.04784981533885002,
           0.00636659562587738,
           2.8189761638641357,
           3.399411678314209,
           3.9220786094665527,
           0.024970289319753647,
           -1674.3135986328125,
           -1623.4912109375,
           0.6347234845161438
          ],
          [
           "i",
           0.0053939977660775185,
           0.0036451402120292187,
           0.006509948056191206,
           -0.07110995799303055,
           2439.2744140625,
           0.02623855508863926,
           0.005042822100222111,
           2.804584264755249,
           3.2426435947418213,
           3.6205320358276367,
           0.01825769804418087,
           327.9825134277344,
           1038.8779296875,
           0.26226961612701416
          ],
          [
           "i",
           0.005403828341513872,
           0.003200751030817628,
           0.00628044456243515,
           0.058551084250211716,
           2610.445068359375,
           0.023350579664111137,
           0.00504578510299325,
           2.620962619781494,
           2.9719464778900146,
           3.262289047241211,
           0.016460809856653214,
           3381.153076171875,
           3343.82177734375,
           0.13554981350898743
          ],
          [
           "s",
           0.005499279126524925,
           0.0019062788924202323,
           0.005820262245833874,
           -0.5650927424430847,
           4052.61962890625,
           0.012318790890276432,
           0.005320033058524132,
           2.068575620651245,
           2.1892831325531006,
           2.263078451156616,
           0.012039653025567532,
           3657.114501953125,
           4569.4375,
           0.12025929987430573
          ],
          [
           "s",
           0.005471471231430769,
           0.0018217323813587427,
           0.005766729824244976,
           3.3657355308532715,
           1968.1954345703125,
           0.02794324979186058,
           0.00532795675098896,
           4.011868476867676,
           4.219336032867432,
           4.342257976531982,
           0.023135362192988396,
           979.9608154296875,
           377.9848937988281,
           0.21800725162029266
          ],
          [
           "c",
           0.005464764777570963,
           0.011370640248060226,
           0.01261543482542038,
           -0.8768990635871887,
           5244.9951171875,
           0.06270983070135117,
           0.008517426438629627,
           2.819356918334961,
           3.5082714557647705,
           4.175840377807617,
           0.03556741029024124,
           3163.278076171875,
           3158.478271484375,
           0.8307616710662842
          ],
          [
           "s",
           0.005491230171173811,
           0.0019303848966956139,
           0.005820601247251034,
           -0.2712858319282532,
           3496.08837890625,
           0.014244427904486656,
           0.005298356059938669,
           2.2603726387023926,
           2.3957929611206055,
           2.4831717014312744,
           0.013156726956367493,
           -979.9608154296875,
           -377.9848937988281,
           0.19613714516162872
          ],
          [
           "i",
           0.005473059602081776,
           0.002154539106413722,
           0.00588185153901577,
           -0.13339479267597198,
           5674.05908203125,
           0.017598358914256096,
           0.005236899945884943,
           2.41290020942688,
           2.591019630432129,
           2.7100613117218018,
           0.014192319475114346,
           -4886.3349609375,
           -4985,
           0.2573882043361664
          ],
          [
           "c",
           0.005464070942252874,
           0.0016391787212342024,
           0.0057046241126954556,
           -0.4247739315032959,
           4852.32421875,
           0.012595794163644314,
           0.005332255270332098,
           2.1548991203308105,
           2.249725580215454,
           2.3053829669952393,
           0.012292889878153801,
           46.170372009277344,
           1095.9749755859375,
           0.31241050362586975
          ],
          [
           "s",
           0.005471224430948496,
           0.0019831745885312557,
           0.005819553975015879,
           1.3973759412765503,
           7180.6533203125,
           0.02514507621526718,
           0.005294905509799719,
           3.2563867568969727,
           3.453090190887451,
           3.579047441482544,
           0.01895071752369404,
           -25.23417091369629,
           -697.5968017578125,
           0.49055713415145874
          ],
          [
           "i",
           0.005463502835482359,
           0.002333936048671603,
           0.005941040348261595,
           0.9747397899627686,
           2655.543212890625,
           0.020440950989723206,
           0.005217774771153927,
           2.5765154361724854,
           2.7873947620391846,
           2.9336609840393066,
           0.015307181514799595,
           -3545.410888671875,
           -3456.348876953125,
           0.1040664091706276
          ],
          [
           "i",
           0.005497792735695839,
           0.002587518421933055,
           0.0060762339271605015,
           0.14443577826023102,
           5345.23583984375,
           0.021649722009897232,
           0.005186430644243956,
           2.561352491378784,
           2.8129518032073975,
           3.0007877349853516,
           0.015563377179205418,
           229.1969451904297,
           1578.37890625,
           0.3353048264980316
          ],
          [
           "s",
           0.005467300768941641,
           0.0017841124208644032,
           0.005751019809395075,
           -0.1697576940059662,
           5768.9423828125,
           0.013416372239589691,
           0.0053075989708304405,
           2.166449546813965,
           2.278726100921631,
           2.347444534301758,
           0.012459293939173222,
           3566.343017578125,
           3533.863525390625,
           0.21597589552402496
          ],
          [
           "i",
           0.0054907361045479774,
           0.0028437175787985325,
           0.006183392833918333,
           1.7333643436431885,
           3764.34423828125,
           0.028136931359767914,
           0.005258915014564991,
           3.1839144229888916,
           3.51051664352417,
           3.7436227798461914,
           0.01968739554286003,
           -1183.4576416015625,
           -1038.9384765625,
           0.3950229585170746
          ],
          [
           "s",
           0.005497336853295565,
           0.0017875204794108868,
           0.0057806470431387424,
           0.0988638699054718,
           9671.591796875,
           0.017674876376986504,
           0.005341564770787954,
           2.4178249835968018,
           2.5410561561584473,
           2.616572856903076,
           0.013976593501865864,
           -4388.4140625,
           -3522.40673828125,
           0.41925710439682007
          ],
          [
           "s",
           0.005453393328934908,
           0.0017060121754184365,
           0.00571396155282855,
           -0.6461814641952515,
           3689.88330078125,
           0.010451685637235641,
           0.005309211555868387,
           1.854905366897583,
           1.9435343742370605,
           1.9963148832321167,
           0.010598857887089252,
           4134.712890625,
           4659.48486328125,
           0.11471675336360931
          ],
          [
           "i",
           0.005480681546032429,
           0.001835696049965918,
           0.005779929459095001,
           -0.4446088373661041,
           9923.66015625,
           0.015514572151005268,
           0.005312041845172644,
           2.253154993057251,
           2.3759050369262695,
           2.4516141414642334,
           0.013023076578974724,
           -1044.0947265625,
           -1048.8447265625,
           0.5395022630691528
          ],
          [
           "s",
           0.005464904010295868,
           0.002011488424614072,
           0.005823318846523762,
           0.5008198618888855,
           5694.9375,
           0.018001914024353027,
           0.005267733708024025,
           2.4040567874908447,
           2.5566720962524414,
           2.657611608505249,
           0.013999590650200844,
           -2843.6953125,
           -3389.2880859375,
           0.2286866307258606
          ],
          [
           "c",
           0.005422403570264578,
           0.008803361095488071,
           0.010338524356484413,
           1.089070200920105,
           1802.6754150390625,
           0.08822472393512726,
           0.0069878799840807915,
           4.74163818359375,
           5.952059268951416,
           7.015223503112793,
           0.039203181862831116,
           -1275.1319580078125,
           -1112.4739990234375,
           0.41670605540275574
          ],
          [
           "c",
           0.005473158322274685,
           0.01049328874796629,
           0.011834675446152687,
           -0.6066091656684875,
           4844.8955078125,
           0.06369268149137497,
           0.008109944872558117,
           3.052088499069214,
           3.7855355739593506,
           4.453849792480469,
           0.03612047806382179,
           -3163.278076171875,
           -3158.478271484375,
           0.8307616710662842
          ],
          [
           "i",
           0.0054249148815870285,
           0.0027938915882259607,
           0.006102013401687145,
           -0.2880798578262329,
           3415.887451171875,
           0.021500781178474426,
           0.005055292975157499,
           2.6376800537109375,
           2.9451098442077637,
           3.183823347091675,
           0.016095159575343132,
           -416.2948913574219,
           -119.99630737304688,
           0.2580142617225647
          ],
          [
           "s",
           0.005409853532910347,
           0.0023586631286889315,
           0.005901651456952095,
           -0.5699871778488159,
           5473.74267578125,
           0.018031129613518715,
           0.005122355185449123,
           2.416363000869751,
           2.6311802864074707,
           2.783979654312134,
           0.014260532334446907,
           -119.99828338623047,
           -119.71257781982422,
           0.25853586196899414
          ],
          [
           "s",
           0.005415921099483967,
           0.0020574182271957397,
           0.0057934788055717945,
           -1.034899353981018,
           4020.617919921875,
           0.010426939465105534,
           0.005200451705604792,
           1.8387677669525146,
           1.966952919960022,
           2.0484492778778076,
           0.01065286248922348,
           -3606.6923828125,
           -4888.91943359375,
           0.07014882564544678
          ],
          [
           "s",
           0.005488645285367966,
           0.00256414245814085,
           0.006058022379875183,
           -0.21976780891418457,
           5071.728515625,
           0.020889291539788246,
           0.005176255013793707,
           2.4641640186309814,
           2.7060706615448,
           2.8839306831359863,
           0.014927960932254791,
           4457.20849609375,
           3445.384765625,
           0.3394978642463684
          ],
          [
           "s",
           0.0054472689516842365,
           0.003449385752901435,
           0.006447466555982828,
           -0.017148001119494438,
           3098.107421875,
           0.029472414404153824,
           0.005096809938549995,
           3.2513232231140137,
           3.7165651321411133,
           4.112925052642822,
           0.020962798967957497,
           2535.322265625,
           2538.768310546875,
           0.34503066539764404
          ],
          [
           "c",
           0.005430042278021574,
           0.004537504632025957,
           0.007076216861605644,
           0.17883048951625824,
           3329.527099609375,
           0.039666797965765,
           0.005280687473714352,
           3.560087203979492,
           4.207113742828369,
           4.770581245422363,
           0.02519194781780243,
           -2930.081298828125,
           -2980.213623046875,
           0.6287297010421753
          ],
          [
           "s",
           0.005493642296642065,
           0.002380696590989828,
           0.0059872898273169994,
           -0.5164693593978882,
           7715.1953125,
           0.01625824347138405,
           0.005206338129937649,
           2.2910871505737305,
           2.4950125217437744,
           2.6347506046295166,
           0.013717401772737503,
           4615.48291015625,
           2931.256591796875,
           0.29582396149635315
          ],
          [
           "s",
           0.0054772403091192245,
           0.002165315207093954,
           0.005889708176255226,
           -0.4587060511112213,
           8145.61376953125,
           0.020212987437844276,
           0.005246315151453018,
           2.7449121475219727,
           2.9480667114257812,
           3.081540107727051,
           0.01616673171520233,
           -3268.68359375,
           -2926.88525390625,
           0.4186154305934906
          ],
          [
           "i",
           0.005494420416653156,
           0.0021383713465183973,
           0.005895839538425207,
           -0.8282530307769775,
           4661.34375,
           0.016399014741182327,
           0.0052694655023515224,
           2.398066997528076,
           2.572455883026123,
           2.683121919631958,
           0.014138618484139442,
           1928.5614013671875,
           1780.3643798828125,
           0.16846588253974915
          ],
          [
           "i",
           0.005512704607099295,
           0.0022627110593020916,
           0.005958938971161842,
           -0.4013592600822449,
           3478.401611328125,
           0.015441087074577808,
           0.00525650242343545,
           2.2718565464019775,
           2.45255184173584,
           2.575448989868164,
           0.013537853956222534,
           2905.48388671875,
           3864.245361328125,
           0.1589452177286148
          ],
          [
           "c",
           0.0055088563822209835,
           0.011784986592829227,
           0.01300876121968031,
           1.490659475326538,
           3507.70556640625,
           0.11961822211742401,
           0.00823191273957491,
           4.689419746398926,
           6.134790897369385,
           7.41061544418335,
           0.05861468240618706,
           3904.06103515625,
           3826.76171875,
           1.5268863439559937
          ],
          [
           "c",
           0.005497246980667114,
           0.008553114719688892,
           0.010166327469050884,
           3.7052855491638184,
           1092.4208984375,
           0.10341932624578476,
           0.006730614695698023,
           5.34426212310791,
           6.890815258026123,
           8.072297096252441,
           0.054331518709659576,
           -962.11181640625,
           -925.0236206054688,
           0.5397824048995972
          ],
          [
           "s",
           0.005487642716616392,
           0.0021687475964426994,
           0.005900648422539234,
           -0.8305751085281372,
           14417.0029296875,
           0.018597692251205444,
           0.0052530220709741116,
           2.452286958694458,
           2.636199712753296,
           2.7546207904815674,
           0.014470083639025688,
           1181.9976806640625,
           695.9385986328125,
           0.813805103302002
          ],
          [
           "i",
           0.005465163849294186,
           0.002641970757395029,
           0.006070073693990707,
           0.18163298070430756,
           2103.0185546875,
           0.021937044337391853,
           0.00517559377476573,
           2.655164957046509,
           2.9211909770965576,
           3.1140475273132324,
           0.016117045655846596,
           2668.58642578125,
           4837.212890625,
           0.13285131752490997
          ],
          [
           "s",
           0.005495368968695402,
           0.0022295978851616383,
           0.0059303115122020245,
           -0.6616995334625244,
           2852.994873046875,
           0.012618858367204666,
           0.005233795382082462,
           1.9582016468048096,
           2.112281322479248,
           2.2188003063201904,
           0.011612745933234692,
           -4403.64794921875,
           -4756.41943359375,
           0.06496769934892654
          ],
          [
           "i",
           0.005490350537002087,
           0.0036608045920729637,
           0.006598711479455233,
           0.8909278512001038,
           2356.55517578125,
           0.03030022606253624,
           0.005234458018094301,
           3.135347604751587,
           3.592700719833374,
           3.9525113105773926,
           0.020689252763986588,
           -2623.4228515625,
           -4757.26806640625,
           0.16686980426311493
          ],
          [
           "s",
           0.005485238507390022,
           0.0020279823802411556,
           0.0058481101877987385,
           -0.9944677352905273,
           6789.20068359375,
           0.015048238448798656,
           0.005282857920974493,
           2.3286502361297607,
           2.4825406074523926,
           2.5778098106384277,
           0.013618201948702335,
           -120.19879913330078,
           -64.49935150146484,
           0.20289373397827148
          ],
          [
           "c",
           0.0055053806863725185,
           0.005145737435668707,
           0.007535629440099001,
           1.5451947450637817,
           2786.933349609375,
           0.05142125114798546,
           0.005557830911129713,
           4.009119510650635,
           4.792065143585205,
           5.435797214508057,
           0.03021124191582203,
           -1071.778564453125,
           -1259.5748291015625,
           1.2636433839797974
          ],
          [
           "c",
           0.005474105477333069,
           0.013576654717326164,
           0.014638442546129227,
           0.3786567747592926,
           4174.76318359375,
           0.11655354499816895,
           0.009748101234436035,
           4.175867080688477,
           5.277188777923584,
           6.270779609680176,
           0.05542535334825516,
           -1009.7899169921875,
           -911.6908569335938,
           1.2311066389083862
          ],
          [
           "c",
           0.005483240820467472,
           0.011967546306550503,
           0.013163675554096699,
           1.4153401851654053,
           3071.869384765625,
           0.13958676159381866,
           0.008327551186084747,
           5.459401607513428,
           7.145145893096924,
           8.6298828125,
           0.06772095710039139,
           980.3901977539062,
           1196.0880126953125,
           1.4940869808197021
          ],
          [
           "c",
           0.005463855806738138,
           0.016310904175043106,
           0.017201106995344162,
           1.8452690839767456,
           2413.046630859375,
           0.16207349300384521,
           0.010649140924215317,
           4.792956829071045,
           6.350702285766602,
           7.741860389709473,
           0.0796293318271637,
           3909.32177734375,
           3782.5244140625,
           2.2192862033843994
          ],
          [
           "i",
           0.0054984730668365955,
           0.0036212685517966747,
           0.006583572831004858,
           3.4512972831726074,
           1943.50537109375,
           0.03637027367949486,
           0.005365903023630381,
           3.2114875316619873,
           3.639812469482422,
           3.9402616024017334,
           0.02114306204020977,
           -119.6723403930664,
           -1834.12255859375,
           0.1580311805009842
          ],
          [
           "i",
           0.005468809045851231,
           0.002254361053928733,
           0.005915098823606968,
           -0.49093756079673767,
           2709.645263671875,
           0.014015275053679943,
           0.00520364148542285,
           2.0619897842407227,
           2.2274718284606934,
           2.3439111709594727,
           0.012196873314678669,
           980.7215576171875,
           887.1290283203125,
           0.21821556985378265
          ],
          [
           "i",
           0.005491341929882765,
           0.002998760435730219,
           0.0062567307613790035,
           0.28006982803344727,
           3384.826171875,
           0.028541797772049904,
           0.005121272522956133,
           3.301635980606079,
           3.7127339839935303,
           4.033655643463135,
           0.02065744809806347,
           -3661.52685546875,
           -4636.30712890625,
           0.3918890655040741
          ],
          [
           "i",
           0.005517412442713976,
           0.008530933409929276,
           0.010159531608223915,
           0.8343782424926758,
           4254.341796875,
           0.0818026214838028,
           0.006810234859585762,
           4.110924243927002,
           5.178433895111084,
           6.132690906524658,
           0.04003756120800972,
           -1098.6568603515625,
           -946.7471313476562,
           0.8465975522994995
          ],
          [
           "s",
           0.005494639277458191,
           0.0023616566322743893,
           0.005980672314763069,
           -0.7198852896690369,
           14734.4150390625,
           0.018069660291075706,
           0.005205059889703989,
           2.3994522094726562,
           2.609865665435791,
           2.756997585296631,
           0.014350336976349354,
           -1271.657470703125,
           -700.9985961914062,
           0.5919966101646423
          ],
          [
           "c",
           0.005487510468810797,
           0.014789639040827751,
           0.01577458158135414,
           0.17811472713947296,
           3781.649169921875,
           0.126459002494812,
           0.010266892611980438,
           4.179621696472168,
           5.345249652862549,
           6.421785831451416,
           0.0659317895770073,
           -3904.06103515625,
           -3826.76171875,
           1.5268863439559937
          ],
          [
           "c",
           0.005454446654766798,
           0.012788157910108566,
           0.013902595266699791,
           -0.49294954538345337,
           5491.94482421875,
           0.0745130181312561,
           0.009556567296385765,
           3.053149938583374,
           3.764349937438965,
           4.441627025604248,
           0.04244670644402504,
           3886.365478515625,
           3742.811279296875,
           1.1579819917678833
          ],
          [
           "i",
           0.005482157692313194,
           0.003982331603765488,
           0.006775833200663328,
           1.8606442213058472,
           3536.756591796875,
           0.037606265395879745,
           0.005364818498492241,
           3.3886382579803467,
           3.8992691040039062,
           4.279892444610596,
           0.02296084724366665,
           -3717.50048828125,
           -4653.83203125,
           0.32348117232322693
          ],
          [
           "s",
           0.005482913926243782,
           0.0021598816383630037,
           0.005892995744943619,
           -0.9914996027946472,
           15268.4267578125,
           0.015313833951950073,
           0.005249209236353636,
           2.315535306930542,
           2.4884984493255615,
           2.5995230674743652,
           0.01364543940871954,
           -815.7583618164062,
           -695.8986206054688,
           0.4138947129249573
          ],
          [
           "s",
           0.005490306299179792,
           0.0022342116571962833,
           0.005927357356995344,
           -0.6335378885269165,
           2692.712158203125,
           0.013594969175755978,
           0.0052221608348190784,
           2.0749387741088867,
           2.2386181354522705,
           2.3551368713378906,
           0.012298903428018093,
           119.99040222167969,
           707.1434326171875,
           0.14971233904361725
          ],
          [
           "c",
           0.005490909796208143,
           0.012458964250981808,
           0.01361505314707756,
           0.5140854120254517,
           3811.943359375,
           0.11053355038166046,
           0.009065761230885983,
           4.14642858505249,
           5.242889881134033,
           6.227148532867432,
           0.05645384266972542,
           3871.76123046875,
           3895.6611328125,
           1.819014310836792
          ],
          [
           "s",
           0.005484563298523426,
           0.002251328667625785,
           0.0059286486357450485,
           -0.2724702060222626,
           10819.37890625,
           0.02584945410490036,
           0.005250535439699888,
           3.267639398574829,
           3.5243122577667236,
           3.689659595489502,
           0.019372686743736267,
           -4465.35107421875,
           -4862.43017578125,
           0.46593037247657776
          ],
          [
           "s",
           0.005475691519677639,
           0.001971775433048606,
           0.005819874815642834,
           0.08136139810085297,
           4170.677734375,
           0.03054899163544178,
           0.005293291062116623,
           3.790070056915283,
           4.0247039794921875,
           4.167111396789551,
           0.022057732567191124,
           120.19879913330078,
           64.49935150146484,
           0.22480416297912598
          ],
          [
           "s",
           0.005488167516887188,
           0.0019214892527088523,
           0.005814804695546627,
           -1.1712613105773926,
           8749.94921875,
           0.009224371053278446,
           0.005309587810188532,
           1.8069082498550415,
           1.9144494533538818,
           1.9788389205932617,
           0.010506819002330303,
           -4628.853515625,
           -4721.15283203125,
           0.12864702939987183
          ],
          [
           "s",
           0.005492379888892174,
           0.0021178501192480326,
           0.005886551924049854,
           -1.0339062213897705,
           16160.0947265625,
           0.014022566378116608,
           0.005269249901175499,
           2.1877756118774414,
           2.3447306156158447,
           2.444077491760254,
           0.01287845429033041,
           4465.35107421875,
           4862.43017578125,
           0.46593037247657776
          ],
          [
           "s",
           0.0054727960377931595,
           0.002576141618192196,
           0.0060487971641123295,
           -0.2451043725013733,
           8579.5498046875,
           0.033023957163095474,
           0.005143946502357721,
           4.016268730163574,
           4.423494338989258,
           4.72275447845459,
           0.024293597787618637,
           -3125.76171875,
           -3923.907470703125,
           0.747319221496582
          ],
          [
           "i",
           0.005497701466083527,
           0.005509974434971809,
           0.007783250417560339,
           1.5297741889953613,
           1779.3785400390625,
           0.05693932622671127,
           0.0056784567423164845,
           4.149548530578613,
           4.991766929626465,
           5.6876325607299805,
           0.03229697421193123,
           -905.55859375,
           -256.4454345703125,
           0.2521209418773651
          ],
          [
           "i",
           0.005490831099450588,
           0.0022291054483503103,
           0.005925978999584913,
           -0.3073980212211609,
           3483.1767578125,
           0.015198440290987492,
           0.005240109283477068,
           2.1222646236419678,
           2.2865869998931885,
           2.4000444412231445,
           0.012576496228575706,
           905.55859375,
           256.4454345703125,
           0.2740625739097595
          ],
          [
           "i",
           0.005491261836141348,
           0.004618398379534483,
           0.007175151724368334,
           0.5527350306510925,
           4654.87646484375,
           0.04297499358654022,
           0.0052864449098706245,
           3.602015972137451,
           4.299264907836914,
           4.88892126083374,
           0.025845011696219444,
           1098.6568603515625,
           946.7471313476562,
           0.8685817122459412
          ],
          [
           "c",
           0.005441373214125633,
           0.012046825140714645,
           0.013218593783676624,
           2.960988759994507,
           3338.362548828125,
           0.1490524858236313,
           0.007936879061162472,
           6.262688159942627,
           8.537179946899414,
           10.43028736114502,
           0.08278393000364304,
           4660.25927734375,
           3925.006103515625,
           1.655203938484192
          ],
          [
           "s",
           0.005490640178322792,
           0.0021721217781305313,
           0.0059046670794487,
           -0.5503296852111816,
           7372.83642578125,
           0.01745809055864811,
           0.005249416455626488,
           2.3974549770355225,
           2.575894355773926,
           2.69671368598938,
           0.014156173914670944,
           4146.52685546875,
           4689.16259765625,
           0.3471258282661438
          ],
          [
           "s",
           0.0054967766627669334,
           0.002186988713219762,
           0.0059158531948924065,
           -0.5362294912338257,
           7214.59326171875,
           0.018873482942581177,
           0.005255948286503553,
           2.4500303268432617,
           2.6345877647399902,
           2.757641077041626,
           0.01449401956051588,
           -2281.26171875,
           -273.5978088378906,
           0.26514384150505066
          ],
          [
           "c",
           0.005459781736135483,
           0.012936368584632874,
           0.01404111459851265,
           -0.6494572758674622,
           5461.0478515625,
           0.0770297721028328,
           0.009846813045442104,
           3.070417881011963,
           3.747910261154175,
           4.378278732299805,
           0.04311209172010422,
           -3886.365478515625,
           -3742.811279296875,
           1.1579819917678833
          ],
          [
           "s",
           0.005498953629285097,
           0.0022078549955040216,
           0.005925626493990421,
           -0.7380459308624268,
           9110.2919921875,
           0.0310512762516737,
           0.005255056079477072,
           3.005903720855713,
           3.237255811691284,
           3.3894712924957275,
           0.017811862751841545,
           360.19879150390625,
           149.16616821289062,
           0.4155322015285492
          ],
          [
           "s",
           0.005487811751663685,
           0.002610329305753112,
           0.006076992489397526,
           0.05011339485645294,
           9228.7177734375,
           0.034143295139074326,
           0.0051648360677063465,
           3.7338061332702637,
           4.112979888916016,
           4.393230438232422,
           0.022690312936902046,
           1171.934326171875,
           1124.6923828125,
           0.7982632517814636
          ],
          [
           "s",
           0.005477471277117729,
           0.0026955793146044016,
           0.006104503758251667,
           -0.08460750430822372,
           1647.263671875,
           0.020666049793362617,
           0.005135742947459221,
           2.6238484382629395,
           2.902350425720215,
           3.1187877655029297,
           0.01601729355752468,
           -3546.19384765625,
           -3612.8515625,
           0.11797477304935455
          ],
          [
           "s",
           0.005539815407246351,
           0.0024881886783987284,
           0.006072779651731253,
           -0.26751378178596497,
           2458.9609375,
           0.016778307035565376,
           0.005230176728218794,
           2.2715094089508057,
           2.4790542125701904,
           2.6374590396881104,
           0.013794377446174622,
           -712.7429809570312,
           -693.5444946289062,
           0.13218194246292114
          ],
          [
           "i",
           0.00550064304843545,
           0.0023814612068235874,
           0.005993994884192944,
           -0.26669296622276306,
           3983.587158203125,
           0.019709551706910133,
           0.005220898427069187,
           2.8057172298431396,
           3.0517845153808594,
           3.2211802005767822,
           0.016817454248666763,
           3661.52685546875,
           4636.30712890625,
           0.3918890655040741
          ],
          [
           "i",
           0.005500054452568293,
           0.007433889899402857,
           0.009246863424777985,
           3.344325304031372,
           1615.158447265625,
           0.07438237965106964,
           0.006494406145066023,
           4.885331630706787,
           6.120264053344727,
           6.955831050872803,
           0.045173995196819305,
           4809.40771484375,
           3431.462646484375,
           0.4543217718601227
          ],
          [
           "s",
           0.005506062414497137,
           0.0019764546304941177,
           0.005850046873092651,
           -1.1931395530700684,
           15870.541015625,
           0.010556558147072792,
           0.0053179324604570866,
           1.8302336931228638,
           1.944575309753418,
           2.0133676528930664,
           0.010706952773034573,
           3935.8994140625,
           3627.6337890625,
           0.24563121795654297
          ],
          [
           "s",
           0.005484950263053179,
           0.0021715157199651003,
           0.005899153184145689,
           -0.5563986301422119,
           7331.572265625,
           0.018352389335632324,
           0.005243625957518816,
           2.410984754562378,
           2.5910115242004395,
           2.7123918533325195,
           0.014222768135368824,
           2281.26171875,
           273.5978088378906,
           0.2871016263961792
          ],
          [
           "i",
           0.00549654196947813,
           0.005630530882626772,
           0.007868527434766293,
           0.4228918254375458,
           4740.39111328125,
           0.04849923029541969,
           0.005556805990636349,
           3.5370032787323,
           4.319541931152344,
           5.008454322814941,
           0.027831008657813072,
           3886.720947265625,
           3913.654052734375,
           1.469128966331482
          ],
          [
           "i",
           0.005518823862075806,
           0.0021619792096316814,
           0.005927125923335552,
           -0.467586487531662,
           3303.09521484375,
           0.015535361133515835,
           0.005279533099383116,
           2.3925154209136963,
           2.5684897899627686,
           2.685983657836914,
           0.014180739410221577,
           612.37548828125,
           1349.14599609375,
           0.18338996171951294
          ],
          [
           "c",
           0.005486064590513706,
           0.005674524698406458,
           0.007892690598964691,
           5.062982082366943,
           2066.730712890625,
           0.08397745341062546,
           0.0058586616069078445,
           5.403353214263916,
           6.470215320587158,
           7.279306411743164,
           0.042646992951631546,
           -715.1856689453125,
           -905.3818969726562,
           0.625824511051178
          ],
          [
           "i",
           0.005509838927537203,
           0.0034187270794063807,
           0.006484242156147957,
           0.8814220428466797,
           4439.06494140625,
           0.029418792575597763,
           0.005197302438318729,
           3.083890676498413,
           3.513953685760498,
           3.8475136756896973,
           0.01999669335782528,
           -3011.159912109375,
           -2569.565673828125,
           0.2055261731147766
          ],
          [
           "s",
           0.005496885161846876,
           0.002047005109488964,
           0.005865657702088356,
           -1.0603063106536865,
           15073.9375,
           0.013997120782732964,
           0.00529017997905612,
           2.225051164627075,
           2.3742918968200684,
           2.467097282409668,
           0.01305138785392046,
           4354.14599609375,
           4963.63330078125,
           0.40819790959358215
          ],
          [
           "s",
           0.005473758094012737,
           0.0021522738970816135,
           0.005881680175662041,
           -0.804729163646698,
           7947.884765625,
           0.014764673076570034,
           0.005236535798758268,
           2.2240219116210938,
           2.38919734954834,
           2.4980227947235107,
           0.013080986216664314,
           -4314.36572265625,
           -4157.56689453125,
           0.35124021768569946
          ],
          [
           "i",
           0.005477515049278736,
           0.00257489993236959,
           0.006052443291991949,
           0.11346396803855896,
           2694.0029296875,
           0.02097025327384472,
           0.005173203535377979,
           2.743196487426758,
           3.012643814086914,
           3.2094314098358154,
           0.01660304144024849,
           2623.4228515625,
           4757.26806640625,
           0.1668783724308014
          ],
          [
           "c",
           0.00547885661944747,
           0.008628536947071552,
           0.010220741853117943,
           8.492365837097168,
           1795.9913330078125,
           0.12595319747924805,
           0.0064577218145132065,
           6.215785026550293,
           8.296980857849121,
           9.837824821472168,
           0.06352993845939636,
           1071.778564453125,
           1259.5748291015625,
           1.2854816913604736
          ],
          [
           "s",
           0.005488978698849678,
           0.0020900999661535025,
           0.005873445887118578,
           -1.0798267126083374,
           15858.1689453125,
           0.01328743901103735,
           0.005272846668958664,
           2.115020513534546,
           2.2631335258483887,
           2.3559300899505615,
           0.012422459200024605,
           -119.86640167236328,
           -696.6651000976562,
           0.38454246520996094
          ],
          [
           "s",
           0.005486154928803444,
           0.0021837218664586544,
           0.005904776509851217,
           -0.7523409128189087,
           7960.06591796875,
           0.015459498390555382,
           0.0052424767054617405,
           2.2206192016601562,
           2.3889007568359375,
           2.501157522201538,
           0.013112259097397327,
           -295.75762939453125,
           -696.554443359375,
           0.2550429403781891
          ],
          [
           "s",
           0.0054911780171096325,
           0.002754222834482789,
           0.006142942700535059,
           -0.021513095125555992,
           1987.998291015625,
           0.018851637840270996,
           0.005137454252690077,
           2.5119168758392334,
           2.7899277210235596,
           3.003542184829712,
           0.01543056033551693,
           -4848.51513671875,
           -4664.53369140625,
           0.1180541068315506
          ],
          [
           "s",
           0.005495917983353138,
           0.0018949733348563313,
           0.005813423544168472,
           -1.1777677536010742,
           8882.0703125,
           0.009266376495361328,
           0.005323251709342003,
           1.780033826828003,
           1.8828685283660889,
           1.9439417123794556,
           0.010348090901970863,
           4628.853515625,
           4721.15283203125,
           0.12864702939987183
          ],
          [
           "s",
           0.005483629181981087,
           0.0022656049113720655,
           0.0059332107193768024,
           -0.40405067801475525,
           6453.73876953125,
           0.02004576101899147,
           0.005229067988693714,
           2.738807439804077,
           2.9582552909851074,
           3.1076133251190186,
           0.016249923035502434,
           -69.03944396972656,
           -240.0780792236328,
           0.2883117198944092
          ],
          [
           "c",
           0.005468503572046757,
           0.014140067622065544,
           0.015159971080720425,
           3.3124427795410156,
           1899.48876953125,
           0.16045832633972168,
           0.008789469487965107,
           5.493717670440674,
           7.627771377563477,
           9.47549819946289,
           0.07717371731996536,
           933.5751342773438,
           959.9744262695312,
           1.3053849935531616
          ],
          [
           "s",
           0.005491730757057667,
           0.0019714566878974438,
           0.005834860261529684,
           -1.170823097229004,
           8819.3408203125,
           0.010458587668836117,
           0.005302835255861282,
           1.7926931381225586,
           1.9047025442123413,
           1.9725512266159058,
           0.010460113175213337,
           -119.59880065917969,
           -1207.7879638671875,
           0.15983395278453827
          ],
          [
           "s",
           0.005474938079714775,
           0.0020810619462281466,
           0.0058571090921759605,
           -0.25488969683647156,
           7052.35693359375,
           0.041906654834747314,
           0.0052656615152955055,
           4.755544662475586,
           5.084255218505859,
           5.289694786071777,
           0.027853742241859436,
           119.86640167236328,
           696.6651000976562,
           0.4064783751964569
          ],
          [
           "i",
           0.0055066002532839775,
           0.002176335547119379,
           0.005920968949794769,
           -0.3413277566432953,
           2827.549560546875,
           0.015721797943115234,
           0.005264969542622566,
           2.2092254161834717,
           2.3732104301452637,
           2.4844882488250732,
           0.01308075524866581,
           119.6723403930664,
           1834.12255859375,
           0.18000932037830353
          ],
          [
           "s",
           0.005494412500411272,
           0.0021567100193351507,
           0.005902526434510946,
           -0.579346776008606,
           7686.341796875,
           0.01659085601568222,
           0.005258318968117237,
           2.2996861934661865,
           2.4688799381256104,
           2.581425428390503,
           0.013573958538472652,
           -4146.52685546875,
           -4689.16259765625,
           0.3471258282661438
          ],
          [
           "s",
           0.005488295573741198,
           0.0022204939741641283,
           0.005920337978750467,
           -0.6905946731567383,
           2845.8779296875,
           0.012448483146727085,
           0.0052293697372078896,
           1.9634066820144653,
           2.117325782775879,
           2.2228360176086426,
           0.011624031700193882,
           712.7429809570312,
           693.5444946289062,
           0.15419816970825195
          ],
          [
           "c",
           0.005478484556078911,
           0.019542545080184937,
           0.02029518038034439,
           -0.3686767816543579,
           3597.78173828125,
           0.1253700852394104,
           0.013917790725827217,
           3.1063649654388428,
           3.844698429107666,
           4.529758930206299,
           0.0630442351102829,
           -908.7817993164062,
           -1414.1717529296875,
           1.0978809595108032
          ],
          [
           "s",
           0.005479537881910801,
           0.002421983052045107,
           0.005990928038954735,
           1.400373935699463,
           4771.73193359375,
           0.038830555975437164,
           0.005232649855315685,
           4.685090065002441,
           5.09210205078125,
           5.364019870758057,
           0.02806803770363331,
           682.3966064453125,
           125.89936828613281,
           0.3894857168197632
          ],
          [
           "s",
           0.005501453764736652,
           0.002112835645675659,
           0.00589320994913578,
           -0.8862041234970093,
           8752.0966796875,
           0.013179345987737179,
           0.00527743436396122,
           2.019721508026123,
           2.1633877754211426,
           2.2553842067718506,
           0.01190264243632555,
           1818.7054443359375,
           2235.822021484375,
           0.318096786737442
          ],
          [
           "s",
           0.005479122046381235,
           0.0034627756103873253,
           0.006481141783297062,
           4.539231300354004,
           1121.1474609375,
           0.03896469622850418,
           0.005249626934528351,
           3.8479814529418945,
           4.374358177185059,
           4.750683307647705,
           0.024939315393567085,
           1354.486083984375,
           707.9056396484375,
           0.1709093600511551
          ],
          [
           "s",
           0.005540335550904274,
           0.002149927197024226,
           0.005942728836089373,
           -0.8123438954353333,
           2884.016845703125,
           0.011411793529987335,
           0.005301720462739468,
           1.9371635913848877,
           2.077859401702881,
           2.171377658843994,
           0.011512037366628647,
           4403.64794921875,
           4756.41943359375,
           0.06496769934892654
          ],
          [
           "s",
           0.005503298714756966,
           0.00272447825409472,
           0.006140530109405518,
           0.39012226462364197,
           1739.6190185546875,
           0.023036738857626915,
           0.005183988716453314,
           2.869455575942993,
           3.1715826988220215,
           3.398922920227051,
           0.01761997863650322,
           -2330.766845703125,
           -1480.8519287109375,
           0.14529681205749512
          ],
          [
           "c",
           0.005450661294162273,
           0.0051619005389511585,
           0.0075069512240588665,
           9.13510513305664,
           2625.689208984375,
           0.10892722755670547,
           0.005550121422857046,
           7.960328102111816,
           9.66424560546875,
           10.766935348510742,
           0.05975779518485069,
           -1038.50830078125,
           -965.8230590820312,
           1.3879340887069702
          ],
          [
           "i",
           0.0055095963180065155,
           0.0030547587666660547,
           0.006299588363617659,
           3.3571064472198486,
           1870.578369140625,
           0.03328191488981247,
           0.00532354973256588,
           3.336341619491577,
           3.7000415325164795,
           3.9480385780334473,
           0.02101757936179638,
           -3556.25244140625,
           -2893.2548828125,
           0.11093037575483322
          ],
          [
           "c",
           0.005505589302629232,
           0.009059097617864609,
           0.010600730776786804,
           1.3362058401107788,
           3878.342529296875,
           0.08437363058328629,
           0.007023440673947334,
           4.075568675994873,
           5.195364952087402,
           6.151401519775391,
           0.04320400580763817,
           1009.7899169921875,
           911.6908569335938,
           1.2530118227005005
          ],
          [
           "s",
           0.005496702156960964,
           0.0026086282450705767,
           0.006083999294787645,
           -0.25204896926879883,
           1903.230712890625,
           0.015713516622781754,
           0.005167562048882246,
           2.2720115184783936,
           2.5035386085510254,
           2.6749396324157715,
           0.013822916895151138,
           3546.19384765625,
           3612.8515625,
           0.11797477304935455
          ],
          [
           "s",
           0.005521612241864204,
           0.002218383364379406,
           0.005950449965894222,
           -0.5893299579620361,
           2756.294677734375,
           0.013980529271066189,
           0.00526602054014802,
           2.026813268661499,
           2.1824443340301514,
           2.2902400493621826,
           0.01206045038998127,
           3205.343505859375,
           4745.22021484375,
           0.06569874286651611
          ],
          [
           "i",
           0.00552668422460556,
           0.004544324241578579,
           0.007154845632612705,
           3.9261794090270996,
           1743.699462890625,
           0.05026031658053398,
           0.005601109936833382,
           4.526787281036377,
           5.275152683258057,
           5.782508373260498,
           0.032388463616371155,
           897.964111328125,
           954.7617797851562,
           0.5737626552581787
          ],
          [
           "s",
           0.005483115091919899,
           0.002235875930637121,
           0.005921456962823868,
           -1.0252279043197632,
           16621.853515625,
           0.013494851067662239,
           0.005229192320257425,
           2.1270010471343994,
           2.296948194503784,
           2.408583402633667,
           0.012594945728778839,
           -3075.25390625,
           -3314.59326171875,
           0.6175416707992554
          ],
          [
           "s",
           0.005497640930116177,
           0.0022038707975298166,
           0.005922924727201462,
           -1.0202723741531372,
           12963.109375,
           0.017636971548199654,
           0.005254040006548166,
           2.1125574111938477,
           2.27547550201416,
           2.3815042972564697,
           0.012512518092989922,
           -360.19879150390625,
           -149.16616821289062,
           0.39357009530067444
          ],
          [
           "s",
           0.005501177627593279,
           0.0022358980495482683,
           0.005938184913247824,
           -0.3219137191772461,
           6036.04638671875,
           0.022060265764594078,
           0.005250014830380678,
           2.928328514099121,
           3.1566972732543945,
           3.3121728897094727,
           0.017388956621289253,
           295.75762939453125,
           696.554443359375,
           0.2769777476787567
          ],
          [
           "c",
           0.005494463257491589,
           0.009214868769049644,
           0.010728462599217892,
           1.446057677268982,
           4356.21142578125,
           0.0783717930316925,
           0.007104684133082628,
           3.848846912384033,
           4.917168140411377,
           5.811969757080078,
           0.041292209178209305,
           918.6585083007812,
           911.7252197265625,
           1.261342167854309
          ],
          [
           "s",
           0.00551525317132473,
           0.0023485980927944183,
           0.005994344595819712,
           -0.4803493022918701,
           2281.35986328125,
           0.016519254073500633,
           0.005229203496128321,
           2.448016881942749,
           2.6576452255249023,
           2.8062126636505127,
           0.014674256555736065,
           -119.99040222167969,
           -707.1434326171875,
           0.12774568796157837
          ],
          [
           "s",
           0.00549362413585186,
           0.0026069132145494223,
           0.006080776918679476,
           -0.2384730875492096,
           9786.0556640625,
           0.02821909822523594,
           0.005157355219125748,
           3.521165609359741,
           3.8843276500701904,
           4.151628494262695,
           0.02141142264008522,
           -1171.934326171875,
           -1124.6923828125,
           0.7763245701789856
          ],
          [
           "i",
           0.005510628689080477,
           0.0031334618106484413,
           0.006339088082313538,
           4.089519500732422,
           1930.8865966796875,
           0.0422968789935112,
           0.005288790445774794,
           4.08885383605957,
           4.566356182098389,
           4.900856971740723,
           0.025919605046510696,
           -612.37548828125,
           -1349.14599609375,
           0.16136513650417328
          ],
          [
           "s",
           0.005478675477206707,
           0.002080392325296998,
           0.005860364995896816,
           -1.0736411809921265,
           16114.0390625,
           0.013006797060370445,
           0.0052641998045146465,
           2.0814380645751953,
           2.2264301776885986,
           2.3171586990356445,
           0.012197987176477909,
           -4354.14599609375,
           -4963.63330078125,
           0.40819790959358215
          ],
          [
           "i",
           0.005483505316078663,
           0.012358448468148708,
           0.013519453816115856,
           1.8634506464004517,
           1595.0355224609375,
           0.11090792715549469,
           0.008340887725353241,
           4.946725368499756,
           6.643486022949219,
           8.017974853515625,
           0.06687702983617783,
           -897.964111328125,
           -954.7617797851562,
           0.5518573522567749
          ],
          [
           "s",
           0.005494634620845318,
           0.002381501719355583,
           0.005988531745970249,
           -0.4944952428340912,
           11622.0625,
           0.020722679793834686,
           0.0052062636241316795,
           2.9649510383605957,
           3.229231119155884,
           3.4104502201080322,
           0.017755704000592232,
           3567.066162109375,
           2673.02587890625,
           0.5227053761482239
          ],
          [
           "s",
           0.005489910952746868,
           0.0023130825720727444,
           0.005957298446446657,
           -0.7718707323074341,
           10254.2578125,
           0.021138548851013184,
           0.005217132158577442,
           2.6705808639526367,
           2.894944190979004,
           3.049462080001831,
           0.01590944640338421,
           4501.78515625,
           4168.0859375,
           0.4233745038509369
          ],
          [
           "s",
           0.005643823649734259,
           0.002042681211605668,
           0.0060020992532372475,
           -0.2649109661579132,
           8046.67431640625,
           0.020073451101779938,
           0.0054367221891880035,
           2.5992259979248047,
           2.7623484134674072,
           2.869525671005249,
           0.015600812621414661,
           119.99931335449219,
           360.1122131347656,
           0.5546921491622925
          ],
          [
           "s",
           0.005497642792761326,
           0.002849229145795107,
           0.006192042026668787,
           -0.3065606653690338,
           3883.794189453125,
           0.021468063816428185,
           0.005121820140630007,
           2.5940754413604736,
           2.8927440643310547,
           3.1361165046691895,
           0.016062624752521515,
           120.36626434326172,
           368.7293701171875,
           0.2975490391254425
          ],
          [
           "c",
           0.005464449524879456,
           0.007369031198322773,
           0.009173169732093811,
           0.6045340299606323,
           1558.1387939453125,
           0.05978892743587494,
           0.006352380849421024,
           3.755382776260376,
           4.65451192855835,
           5.42296838760376,
           0.034448761492967606,
           962.11181640625,
           925.0236206054688,
           0.5615736842155457
          ],
          [
           "s",
           0.0054889703169465065,
           0.003800618229433894,
           0.006676329765468836,
           1.0859979391098022,
           9245.587890625,
           0.04518020153045654,
           0.005240036640316248,
           3.8237991333007812,
           4.412014007568359,
           4.871901512145996,
           0.02552894502878189,
           -1181.9976806640625,
           -695.9385986328125,
           0.791843831539154
          ],
          [
           "i",
           0.005514381919056177,
           0.0033292004372924566,
           0.006441381294280291,
           1.6296184062957764,
           3942.33447265625,
           0.033636659383773804,
           0.005266161635518074,
           3.472222089767456,
           3.918086290359497,
           4.247097969055176,
           0.022365905344486237,
           -884.9215087890625,
           -891.9880981445312,
           0.3249569535255432
          ],
          [
           "s",
           0.005501619074493647,
           0.002012958051636815,
           0.005858307238668203,
           -1.208716869354248,
           15209.8486328125,
           0.010692860931158066,
           0.005305155646055937,
           1.9097328186035156,
           2.0335471630096436,
           2.1088545322418213,
           0.011187802068889141,
           -3935.8994140625,
           -3627.6337890625,
           0.24563121795654297
          ],
          [
           "s",
           0.005482410080730915,
           0.0022261396516114473,
           0.005917124450206757,
           -0.4244825541973114,
           6561.84765625,
           0.01978469267487526,
           0.005234144162386656,
           2.693695068359375,
           2.903721332550049,
           3.0451834201812744,
           0.015938928350806236,
           4314.36572265625,
           4157.56689453125,
           0.35124021768569946
          ],
          [
           "s",
           0.0054674306884408,
           0.0022539382334798574,
           0.005913786590099335,
           -0.4413377344608307,
           6797.16650390625,
           0.019956322386860847,
           0.005213762633502483,
           2.600459575653076,
           2.808143138885498,
           2.9496095180511475,
           0.015378563664853573,
           -4312.28564453125,
           -3752.77001953125,
           0.3687346279621124
          ],
          [
           "c",
           0.0054709818214178085,
           0.0037301145493984222,
           0.006621524225920439,
           0.002754657529294491,
           4956.61669921875,
           0.026380006223917007,
           0.005150576122105122,
           2.6444718837738037,
           3.0538249015808105,
           3.3997042179107666,
           0.017510436475276947,
           2358.947509765625,
           2360.402099609375,
           0.4304044246673584
          ],
          [
           "c",
           0.005521559156477451,
           0.011422527022659779,
           0.012686658650636673,
           0.4643588066101074,
           3282.58349609375,
           0.08571594208478928,
           0.00846195500344038,
           3.4045143127441406,
           4.3011627197265625,
           5.104247570037842,
           0.04319191351532936,
           908.7817993164062,
           1414.1717529296875,
           1.1197659969329834
          ],
          [
           "i",
           0.005506737623363733,
           0.0023950173053890467,
           0.006004897877573967,
           1.1596001386642456,
           2265.677490234375,
           0.02345363423228264,
           0.005292072892189026,
           2.756138324737549,
           2.9792611598968506,
           3.1273810863494873,
           0.016550328582525253,
           3556.25244140625,
           2893.2548828125,
           0.11091628670692444
          ],
          [
           "c",
           0.005483257118612528,
           0.0043164766393601894,
           0.006978293880820274,
           3.8990700244903564,
           1787.420166015625,
           0.0691971480846405,
           0.005265265237540007,
           6.2454986572265625,
           7.374850749969482,
           8.277441024780273,
           0.04358292371034622,
           715.1856689453125,
           905.3818969726562,
           0.6477260589599609
          ],
          [
           "s",
           0.005480404477566481,
           0.0019797233399003744,
           0.0058270045556128025,
           -1.0042070150375366,
           7536.390625,
           0.013784964568912983,
           0.005289877764880657,
           2.09782075881958,
           2.23026442527771,
           2.310830593109131,
           0.01222401112318039,
           -2895.171142578125,
           -2945.970458984375,
           0.15961261093616486
          ],
          [
           "s",
           0.00549290468916297,
           0.0022134361788630486,
           0.005922094453126192,
           -0.25874871015548706,
           8392.5537109375,
           0.021333754062652588,
           0.0052567594684660435,
           2.664158344268799,
           2.867218017578125,
           3.001354455947876,
           0.01577739790081978,
           3268.68359375,
           2926.88525390625,
           0.4186154305934906
          ],
          [
           "c",
           0.005445319227874279,
           0.007912046276032925,
           0.009604714810848236,
           6.494952201843262,
           3234.424560546875,
           0.1163485050201416,
           0.006289955228567123,
           6.463749885559082,
           8.482305526733398,
           9.870098114013672,
           0.06208247318863869,
           -4660.25927734375,
           -3925.006103515625,
           1.655203938484192
          ],
          [
           "i",
           0.005471128039062023,
           0.003885542042553425,
           0.006710130255669355,
           2.8671791553497314,
           1421.945556640625,
           0.0448041632771492,
           0.005275285337120295,
           3.9216670989990234,
           4.5292768478393555,
           4.988336086273193,
           0.02631489746272564,
           -2668.58642578125,
           -4837.212890625,
           0.13285131752490997
          ],
          [
           "c",
           0.005484603811055422,
           0.005445972550660372,
           0.0077289496548473835,
           7.285404682159424,
           1938.9793701171875,
           0.07580456882715225,
           0.005711432546377182,
           5.26990270614624,
           6.395200252532959,
           7.131453037261963,
           0.04073081165552139,
           999.1403198242188,
           1018.2443237304688,
           0.8259340524673462
          ],
          [
           "s",
           0.005504037253558636,
           0.0025968956761062145,
           0.006085687782615423,
           -0.35900506377220154,
           2251.31103515625,
           0.015399744734168053,
           0.005165047477930784,
           2.218740463256836,
           2.445401906967163,
           2.614218235015869,
           0.01350256148725748,
           4968.5029296875,
           4944.50537109375,
           0.1180541068315506
          ],
          [
           "s",
           0.0054916017688810825,
           0.002170083811506629,
           0.005904821213334799,
           -1.0050829648971558,
           16007.748046875,
           0.014411740936338902,
           0.005255453288555145,
           2.1526732444763184,
           2.3145976066589355,
           2.418658971786499,
           0.012711149640381336,
           -119.85237884521484,
           -816.3772583007812,
           0.5090026259422302
          ],
          [
           "s",
           0.005482924170792103,
           0.0020713075064122677,
           0.005861120764166117,
           -1.0072475671768188,
           17148.564453125,
           0.015502196736633778,
           0.005269561894237995,
           2.0616815090179443,
           2.203794479370117,
           2.2931249141693115,
           0.012083764187991619,
           815.7583618164062,
           695.8986206054688,
           0.43583405017852783
          ],
          [
           "s",
           0.005433965474367142,
           0.002566664246842265,
           0.006009605713188648,
           -0.1389492005109787,
           5430.35595703125,
           0.01885700412094593,
           0.005117798689752817,
           2.4138524532318115,
           2.651944398880005,
           2.8344810009002686,
           0.014506302773952484,
           -2958.64794921875,
           -2900.321533203125,
           0.4784005880355835
          ],
          [
           "s",
           0.00546683045104146,
           0.0022438596934080124,
           0.00590940099209547,
           0.142729252576828,
           6963.0380859375,
           0.022398056462407112,
           0.005222404841333628,
           2.8943638801574707,
           3.1186959743499756,
           3.275111198425293,
           0.017103957012295723,
           -3553.947265625,
           -3472.655517578125,
           0.38830146193504333
          ],
          [
           "s",
           0.005435476545244455,
           0.0023027306888252497,
           0.005903115961700678,
           -0.30313044786453247,
           7069.423828125,
           0.01687059924006462,
           0.00516454828903079,
           2.305213212966919,
           2.4970269203186035,
           2.6348752975463867,
           0.013607940636575222,
           1725.1602783203125,
           893.3563232421875,
           0.38895073533058167
          ],
          [
           "s",
           0.005494459066540003,
           0.0029052714817225933,
           0.006215252913534641,
           0.8271580934524536,
           3883.53369140625,
           0.036578692495822906,
           0.005170777440071106,
           4.195343971252441,
           4.671902179718018,
           5.04278564453125,
           0.026075122877955437,
           -4790.7314453125,
           -4952.423828125,
           0.32196253538131714
          ],
          [
           "c",
           0.005466160364449024,
           0.0024127215147018433,
           0.005974950734525919,
           0.524776041507721,
           6293.333984375,
           0.031540460884571075,
           0.005200555548071861,
           3.7941970825195312,
           4.124741077423096,
           4.3591766357421875,
           0.022670140489935875,
           -409.7735595703125,
           -1614.020263671875,
           0.6523653864860535
          ],
          [
           "s",
           0.005253591109067202,
           0.0027723300736397505,
           0.005940190050750971,
           0.0723787248134613,
           7070.04736328125,
           0.029392927885055542,
           0.004907186143100262,
           2.9581711292266846,
           3.305701494216919,
           3.5808908939361572,
           0.01757209748029709,
           -3119.525146484375,
           -2504.8427734375,
           0.545539915561676
          ],
          [
           "c",
           0.005447982810437679,
           0.00384434312582016,
           0.006667730398476124,
           0.09637430310249329,
           4262.47412109375,
           0.03174198791384697,
           0.005140203516930342,
           3.0749030113220215,
           3.5655243396759033,
           3.9886794090270996,
           0.020502625033259392,
           -2963.44775390625,
           -2947.1572265625,
           0.5450159311294556
          ],
          [
           "c",
           0.005443515721708536,
           0.0037723511923104525,
           0.006622814107686281,
           -0.027202283963561058,
           4174.33251953125,
           0.03138965368270874,
           0.005115780513733625,
           3.139702081680298,
           3.637246608734131,
           4.064611911773682,
           0.02079366333782673,
           -2358.947509765625,
           -2360.402099609375,
           0.40860313177108765
          ],
          [
           "s",
           0.005426481831818819,
           0.003614659421145916,
           0.006520100403577089,
           0.5386505722999573,
           3661.372802734375,
           0.03555666655302048,
           0.0051260474137961864,
           3.579267740249634,
           4.108262062072754,
           4.552666187286377,
           0.02333718352019787,
           -186.17910766601562,
           -407.7031555175781,
           0.3253784775733948
          ],
          [
           "s",
           0.005494963843375444,
           0.003600083524361253,
           0.006569224409759045,
           0.11026707291603088,
           4197.40380859375,
           0.03450167179107666,
           0.005125231575220823,
           3.765876293182373,
           4.340220928192139,
           4.826881408691406,
           0.024738885462284088,
           -2410.3759765625,
           -1259.6873779296875,
           0.4539497494697571
          ],
          [
           "s",
           0.005487867631018162,
           0.0025792026426643133,
           0.006063707638531923,
           -0.4134203791618347,
           5536.1875,
           0.018324851989746094,
           0.005156848579645157,
           2.2575032711029053,
           2.4824037551879883,
           2.6544971466064453,
           0.01368884090334177,
           -4457.20849609375,
           -3445.384765625,
           0.3394978642463684
          ],
          [
           "s",
           0.005494928918778896,
           0.003165401751175523,
           0.006341374013572931,
           0.00909437332302332,
           3194.531982421875,
           0.027881847694516182,
           0.005099667701870203,
           3.1531267166137695,
           3.5714330673217773,
           3.9208743572235107,
           0.019995154812932014,
           -4208.634765625,
           -3354.994384765625,
           0.28025633096694946
          ],
          [
           "i",
           0.005460245534777641,
           0.0028921684715896845,
           0.0061788661405444145,
           -0.22448962926864624,
           4522.5546875,
           0.022367727011442184,
           0.005093616433441639,
           2.763249158859253,
           3.088404893875122,
           3.3519890308380127,
           0.017073746770620346,
           -488.4721984863281,
           -1192.4609375,
           0.2860445976257324
          ],
          [
           "s",
           0.0055136289447546005,
           0.0028541795909404755,
           0.006208513397723436,
           -0.39033883810043335,
           4395.6787109375,
           0.019454732537269592,
           0.005140936467796564,
           2.2920446395874023,
           2.5548620223999023,
           2.7680153846740723,
           0.014230189844965935,
           -120.36626434326172,
           -368.7293701171875,
           0.2755771577358246
          ],
          [
           "i",
           0.005447710398584604,
           0.0035870701540261507,
           0.006522526498883963,
           -0.1524561643600464,
           3749.600830078125,
           0.025948498398065567,
           0.005060218274593353,
           2.6868491172790527,
           3.103106737136841,
           3.4632983207702637,
           0.017525045201182365,
           2875.252197265625,
           4689.85400390625,
           0.31724071502685547
          ],
          [
           "i",
           0.005482648964971304,
           0.003415169660001993,
           0.006459192372858524,
           0.062405992299318314,
           2935.797607421875,
           0.0284877959638834,
           0.005113352555781603,
           2.854503870010376,
           3.258439302444458,
           3.6058125495910645,
           0.018437789753079414,
           -698.9973754882812,
           -119.46241760253906,
           0.2318539023399353
          ],
          [
           "s",
           0.005479190964251757,
           0.0029198070988059044,
           0.006208579987287521,
           -0.14770497381687164,
           5759.337890625,
           0.026170514523983,
           0.005116747226566076,
           2.744934558868408,
           3.069300651550293,
           3.330660104751587,
           0.017042145133018494,
           -3302.56689453125,
           -2890.77099609375,
           0.39637187123298645
          ],
          [
           "s",
           0.0054567428305745125,
           0.0027470788918435574,
           0.0061091771349310875,
           -0.07463710010051727,
           4794.27392578125,
           0.021865706890821457,
           0.005106800235807896,
           2.733980178833008,
           3.0370967388153076,
           3.270613670349121,
           0.01670237071812153,
           186.17910766601562,
           407.7031555175781,
           0.34711143374443054
          ],
          [
           "s",
           0.00548904575407505,
           0.002177819609642029,
           0.005905279889702797,
           -0.12896698713302612,
           6912.4697265625,
           0.017307531088590622,
           0.005250199697911739,
           2.2871780395507812,
           2.4549107551574707,
           2.57255482673645,
           0.01350642740726471,
           2059.679443359375,
           922.4907836914062,
           0.3924204409122467
          ],
          [
           "c",
           0.0054398407228291035,
           0.0030783298425376415,
           0.006250415463000536,
           1.5288623571395874,
           4602.1552734375,
           0.03689311444759369,
           0.0051916674710810184,
           3.9350709915161133,
           4.394488334655762,
           4.737558364868164,
           0.024595826864242554,
           -2411.5625,
           -41.14254379272461,
           0.8040634989738464
          ],
          [
           "i",
           0.0054413629695773125,
           0.00376094039529562,
           0.006614417303353548,
           -0.32222652435302734,
           3001.264892578125,
           0.023353174328804016,
           0.005138826556503773,
           2.462683916091919,
           2.8393139839172363,
           3.169832468032837,
           0.01628921926021576,
           476.3210754394531,
           119.76595306396484,
           0.2100856602191925
          ],
          [
           "i",
           0.005510888062417507,
           0.0019984261598438025,
           0.005862028803676367,
           -0.4488261938095093,
           5911.046875,
           0.015606221742928028,
           0.005306348670274019,
           2.316251277923584,
           2.4630961418151855,
           2.5588088035583496,
           0.013577932491898537,
           884.9215087890625,
           891.9880981445312,
           0.34698179364204407
          ],
          [
           "i",
           0.005485984496772289,
           0.0108364662155509,
           0.012145213782787323,
           2.572413682937622,
           1851.5841064453125,
           0.08834255486726761,
           0.007714160718023777,
           4.263478755950928,
           5.682111740112305,
           6.712442874908447,
           0.05178086459636688,
           -4809.40771484375,
           -3431.462646484375,
           0.4543217718601227
          ],
          [
           "s",
           0.005500262137502432,
           0.0024873760994523764,
           0.0060365451499819756,
           -0.3772369623184204,
           13960.626953125,
           0.018812155351042747,
           0.005189866758882999,
           2.5324490070343018,
           2.7762608528137207,
           2.945594072341919,
           0.015287241898477077,
           1271.657470703125,
           700.9985961914062,
           0.6139522194862366
          ],
          [
           "s",
           0.005477306433022022,
           0.001973668346181512,
           0.005822044797241688,
           -1.1775436401367188,
           15003.5859375,
           0.011933854781091213,
           0.005287868436425924,
           1.9359973669052124,
           2.057840347290039,
           2.131570339202881,
           0.011271463707089424,
           817.30126953125,
           148.82919311523438,
           0.28010204434394836
          ],
          [
           "i",
           0.005507952533662319,
           0.002292066114023328,
           0.005965805146843195,
           -0.11577727645635605,
           5356.62158203125,
           0.018866315484046936,
           0.005243516527116299,
           2.555842161178589,
           2.763221502304077,
           2.9079065322875977,
           0.015247655101120472,
           3011.159912109375,
           2569.565673828125,
           0.2055261731147766
          ],
          [
           "c",
           0.00549487117677927,
           0.010488476604223251,
           0.01183933112770319,
           0.7727540135383606,
           1569.98486328125,
           0.08338705450296402,
           0.007794083096086979,
           3.7271621227264404,
           4.757381916046143,
           5.66161584854126,
           0.04412710666656494,
           -3875.3544921875,
           -3933.5322265625,
           0.46339815855026245
          ],
          [
           "c",
           0.005502176471054554,
           0.004964347463101149,
           0.007410581689327955,
           2.7852392196655273,
           2721.714111328125,
           0.05916944891214371,
           0.005499128717929125,
           4.105060577392578,
           4.88846492767334,
           5.531946182250977,
           0.030420884490013123,
           -3501.72998046875,
           -3860.122802734375,
           0.8496307134628296
          ],
          [
           "s",
           0.005485634319484234,
           0.0021421415731310844,
           0.00588892912492156,
           -0.7798607349395752,
           2643.097412109375,
           0.014477583579719067,
           0.005251928698271513,
           2.113495111465454,
           2.267857313156128,
           2.369838237762451,
           0.012446222826838493,
           -3205.343505859375,
           -4745.22021484375,
           0.06569874286651611
          ],
          [
           "s",
           0.0054839616641402245,
           0.0026645883917808533,
           0.006096727214753628,
           -0.08796826750040054,
           1858.7215576171875,
           0.017973849549889565,
           0.0051499526016414165,
           2.3262622356414795,
           2.5682756900787354,
           2.7539255619049072,
           0.01418258622288704,
           -119.98400115966797,
           -1354.486083984375,
           0.14906032383441925
          ],
          [
           "s",
           0.005477868486195803,
           0.0019954924937337637,
           0.005829997826367617,
           -0.08859764784574509,
           4644.2802734375,
           0.026160823181271553,
           0.005295480601489544,
           3.4036972522735596,
           3.618166208267212,
           3.747260808944702,
           0.01984354667365551,
           2895.171142578125,
           2945.970458984375,
           0.15961261093616486
          ],
          [
           "s",
           0.005475301295518875,
           0.0020943840499967337,
           0.00586219085380435,
           -0.8469659090042114,
           10071.6962890625,
           0.015594327822327614,
           0.00525515154004097,
           2.220040798187256,
           2.3761510848999023,
           2.476484775543213,
           0.013014302588999271,
           -682.3966064453125,
           -125.89936828613281,
           0.36756840348243713
          ],
          [
           "s",
           0.005487916991114616,
           0.002557457657530904,
           0.006054566241800785,
           -0.2774963974952698,
           10544.60546875,
           0.02561820112168789,
           0.005167786031961441,
           3.35278058052063,
           3.689457893371582,
           3.928110122680664,
           0.020299632102251053,
           -3542.79296875,
           -3033.7939453125,
           0.6192664504051208
          ],
          [
           "s",
           0.005502341315150261,
           0.00234948075376451,
           0.005982946138828993,
           -0.544347882270813,
           6751.1064453125,
           0.017650488764047623,
           0.005224679596722126,
           2.618197441101074,
           2.8455567359924316,
           2.998180866241455,
           0.015664534643292427,
           -4615.48291015625,
           -2931.256591796875,
           0.29582396149635315
          ],
          [
           "i",
           0.0055111306719481945,
           0.0024226512759923935,
           0.006020038388669491,
           0.13887685537338257,
           3139.6181640625,
           0.020379627123475075,
           0.00524910306558013,
           2.5167670249938965,
           2.7344377040863037,
           2.886404514312744,
           0.015151034109294415,
           -2905.48388671875,
           -3864.245361328125,
           0.1589452177286148
          ],
          [
           "s",
           0.005480807274580002,
           0.0021536974236369133,
           0.0058887614868581295,
           -0.6304177045822144,
           7641.626953125,
           0.017185568809509277,
           0.0052439868450164795,
           2.3131773471832275,
           2.4840099811553955,
           2.5975942611694336,
           0.01362175028771162,
           69.03944396972656,
           240.0780792236328,
           0.31020230054855347
          ],
          [
           "c",
           0.005481435917317867,
           0.004448278341442347,
           0.007059159688651562,
           2.7464520931243896,
           1660.55322265625,
           0.07026573270559311,
           0.005289160646498203,
           6.720725059509277,
           7.9624342918396,
           8.969792366027832,
           0.04744267091155052,
           3501.72998046875,
           3860.122802734375,
           0.8496307134628296
          ],
          [
           "c",
           0.005484491586685181,
           0.012395118363201618,
           0.013554057106375694,
           0.5051963925361633,
           4186.75390625,
           0.11043865978717804,
           0.00902804359793663,
           4.372564792633057,
           5.5258612632751465,
           6.564655303955078,
           0.05117266625165939,
           -3871.76123046875,
           -3895.6611328125,
           1.819014310836792
          ],
          [
           "s",
           0.005483788438141346,
           0.0019818900618702173,
           0.005830932874232531,
           -1.141397476196289,
           14480.42578125,
           0.013987564481794834,
           0.005292794667184353,
           2.005927324295044,
           2.132847547531128,
           2.2098774909973145,
           0.011696428060531616,
           -817.30126953125,
           -148.82919311523438,
           0.258136510848999
          ],
          [
           "s",
           0.005481068044900894,
           0.002263784408569336,
           0.005930156446993351,
           -0.9727421998977661,
           11706.6982421875,
           0.015942847356200218,
           0.005219887476414442,
           2.3392698764801025,
           2.5304081439971924,
           2.65757417678833,
           0.01387223694473505,
           -4501.78515625,
           -4168.0859375,
           0.4233745038509369
          ],
          [
           "c",
           0.0054671429097652435,
           0.012138357385993004,
           0.01331262569874525,
           2.63490629196167,
           3650.771240234375,
           0.13988234102725983,
           0.008109739050269127,
           5.727254867553711,
           7.709959506988525,
           9.401634216308594,
           0.07624480128288269,
           1038.50830078125,
           965.8230590820312,
           1.409706473350525
          ],
          [
           "c",
           0.005464160814881325,
           0.012737217359244823,
           0.01385923009365797,
           1.0904406309127808,
           2421.58447265625,
           0.11249811947345734,
           0.00883365236222744,
           4.2216572761535645,
           5.502612113952637,
           6.623412132263184,
           0.058508921414613724,
           -3914.17529296875,
           -3837.520263671875,
           0.9242613315582275
          ],
          [
           "s",
           0.005509022157639265,
           0.0027963556349277496,
           0.0061778477393090725,
           1.3081295490264893,
           1650.598876953125,
           0.02605382725596428,
           0.005255965515971184,
           3.024264097213745,
           3.330042600631714,
           3.5547122955322266,
           0.01868344470858574,
           2330.766845703125,
           1480.8519287109375,
           0.16723965108394623
          ],
          [
           "c",
           0.005495304241776466,
           0.01675122044980526,
           0.017628934234380722,
           -0.06879163533449173,
           3308.4912109375,
           0.11601614207029343,
           0.011977365240454674,
           3.37774395942688,
           4.210748672485352,
           4.971545696258545,
           0.05954602360725403,
           3868.12255859375,
           3811.123779296875,
           1.828121542930603
          ],
          [
           "i",
           0.005494914948940277,
           0.005909129977226257,
           0.008068502880632877,
           1.8562157154083252,
           1543.2406005859375,
           0.051383331418037415,
           0.005697282496839762,
           3.614776849746704,
           4.43519926071167,
           5.119254112243652,
           0.029165836051106453,
           -980.7215576171875,
           -887.1290283203125,
           0.19638362526893616
          ],
          [
           "c",
           0.0054862406104803085,
           0.01050094049423933,
           0.011847279965877533,
           3.1821043491363525,
           2461.429443359375,
           0.1114528551697731,
           0.007428884971886873,
           5.254031181335449,
           7.004272937774658,
           8.378912925720215,
           0.04920687526464462,
           3914.17529296875,
           3837.520263671875,
           0.9242093563079834
          ],
          [
           "s",
           0.0054911114275455475,
           0.0025242085102945566,
           0.006043498869985342,
           0.37620076537132263,
           9050.4658203125,
           0.03652001544833183,
           0.00519888661801815,
           3.8073198795318604,
           4.169131278991699,
           4.425858020782471,
           0.023009534925222397,
           3125.76171875,
           3923.907470703125,
           0.747319221496582
          ],
          [
           "c",
           0.005453485995531082,
           0.011442256160080433,
           0.012675215490162373,
           -0.0043985238298773766,
           5047.38623046875,
           0.07619298249483109,
           0.008489523082971573,
           3.321960687637329,
           4.176877975463867,
           4.959827423095703,
           0.042106568813323975,
           -918.6585083007812,
           -911.7252197265625,
           1.2395246028900146
          ],
          [
           "s",
           0.005484465509653091,
           0.002228387165814638,
           0.005919883958995342,
           -0.9053429365158081,
           14453.375,
           0.016216570511460304,
           0.005232491996139288,
           2.384169578552246,
           2.5731332302093506,
           2.6973776817321777,
           0.014114007353782654,
           -3567.066162109375,
           -2673.02587890625,
           0.5227053761482239
          ],
          [
           "c",
           0.005484506022185087,
           0.017482956871390343,
           0.018322700634598732,
           0.00233116140589118,
           3656.030029296875,
           0.15063168108463287,
           0.011977944523096085,
           4.323125839233398,
           5.504205226898193,
           6.613099098205566,
           0.07921133935451508,
           -980.3901977539062,
           -1196.0880126953125,
           1.4721823930740356
          ],
          [
           "c",
           0.005493317265063524,
           0.008860788308084011,
           0.010424358770251274,
           1.2924795150756836,
           1428.8397216796875,
           0.08942971378564835,
           0.006910357158631086,
           4.485289096832275,
           5.704071044921875,
           6.766113758087158,
           0.04267344996333122,
           3875.3544921875,
           3933.5322265625,
           0.46339815855026245
          ],
          [
           "s",
           0.005503189750015736,
           0.002169274026528001,
           0.005915303248912096,
           -0.8925508856773376,
           12624.5,
           0.021476970985531807,
           0.0052699316293001175,
           2.800446033477783,
           3.009337902069092,
           3.143397092819214,
           0.016565486788749695,
           3542.79296875,
           3033.7939453125,
           0.6192664504051208
          ],
          [
           "s",
           0.005501880310475826,
           0.0021765537094324827,
           0.00591675890609622,
           -0.8147792220115662,
           14659.197265625,
           0.017137067392468452,
           0.005264123901724815,
           2.350706100463867,
           2.5276527404785156,
           2.642141819000244,
           0.013908561319112778,
           119.85237884521484,
           816.3772583007812,
           0.5309707522392273
          ],
          [
           "c",
           0.005478902719914913,
           0.017995595932006836,
           0.01881047524511814,
           -0.1573055237531662,
           3534.438232421875,
           0.12049224972724915,
           0.012805025093257427,
           3.243600368499756,
           4.038939952850342,
           4.764822006225586,
           0.05947858467698097,
           -3868.12255859375,
           -3811.123779296875,
           1.828121542930603
          ],
          [
           "s",
           0.005468458868563175,
           0.0021950858645141125,
           0.005892562214285135,
           -0.5661486387252808,
           6260.8759765625,
           0.019126705825328827,
           0.005222182720899582,
           2.8231537342071533,
           3.039930582046509,
           3.1855664253234863,
           0.016635609790682793,
           4312.28564453125,
           3752.77001953125,
           0.3687346279621124
          ],
          [
           "s",
           0.005507021676748991,
           0.001836843672208488,
           0.005805274937301874,
           0.11722984164953232,
           8839.001953125,
           0.020372331142425537,
           0.005341268610209227,
           2.6455440521240234,
           2.7871575355529785,
           2.8753678798675537,
           0.015358110889792442,
           4388.4140625,
           3522.40673828125,
           0.41925710439682007
          ],
          [
           "i",
           0.005509663373231888,
           0.006492412183433771,
           0.008515063673257828,
           0.5440348982810974,
           4188.3603515625,
           0.06512491405010223,
           0.005837565753608942,
           4.002934455871582,
           4.969229698181152,
           5.838947296142578,
           0.034085240215063095,
           -3886.720947265625,
           -3913.654052734375,
           1.469128966331482
          ],
          [
           "i",
           0.0054762400686740875,
           0.004585202783346176,
           0.007142241112887859,
           1.4975433349609375,
           3414.38330078125,
           0.04051917418837547,
           0.005533321760594845,
           3.2730793952941895,
           3.7938737869262695,
           4.224790096282959,
           0.02337712235748768,
           -1928.5614013671875,
           -1780.3643798828125,
           0.14651626348495483
          ],
          [
           "s",
           0.005482643377035856,
           0.0021912117954343557,
           0.005904289428144693,
           -0.8297412991523743,
           7941.0810546875,
           0.014353088103234768,
           0.005236955359578133,
           2.2259271144866943,
           2.396693229675293,
           2.5095722675323486,
           0.013142517767846584,
           -1818.7054443359375,
           -2235.822021484375,
           0.29612669348716736
          ],
          [
           "s",
           0.005486559122800827,
           0.0018960675224661827,
           0.005804934073239565,
           -1.1603002548217773,
           7389.6494140625,
           0.014254597947001457,
           0.005313454195857048,
           2.1395137310028076,
           2.2634053230285645,
           2.3374130725860596,
           0.012419736944139004,
           119.59880065917969,
           1207.7879638671875,
           0.18178927898406982
          ]
         ],
         "hovertemplate": "Cluster=%{x}<br>chatter_presence=%{customdata[0]}<br>med=%{customdata[1]}<br>std=%{customdata[2]}<br>rms=%{customdata[3]}<br>curtose=%{customdata[4]}<br>distortion=%{customdata[5]}<br>amplitude=%{customdata[6]}<br>sra=%{customdata[7]}<br>crest=%{customdata[8]}<br>impulse=%{customdata[9]}<br>margin=%{customdata[10]}<br>max=%{customdata[11]}<br>freq_max=%{customdata[12]}<br>freq_sec_highest=%{customdata[13]}<br>fft_mean=%{customdata[14]}<extra></extra>",
         "legendgroup": "Cluster 0",
         "marker": {
          "color": "#636efa"
         },
         "name": "Cluster 0",
         "notched": true,
         "offsetgroup": "Cluster 0",
         "showlegend": false,
         "type": "box",
         "x": [
          "Cluster 0",
          "Cluster 0",
          "Cluster 0",
          "Cluster 0",
          "Cluster 0",
          "Cluster 0",
          "Cluster 0",
          "Cluster 0",
          "Cluster 0",
          "Cluster 0",
          "Cluster 0",
          "Cluster 0",
          "Cluster 0",
          "Cluster 0",
          "Cluster 0",
          "Cluster 0",
          "Cluster 0",
          "Cluster 0",
          "Cluster 0",
          "Cluster 0",
          "Cluster 0",
          "Cluster 0",
          "Cluster 0",
          "Cluster 0",
          "Cluster 0",
          "Cluster 0",
          "Cluster 0",
          "Cluster 0",
          "Cluster 0",
          "Cluster 0",
          "Cluster 0",
          "Cluster 0",
          "Cluster 0",
          "Cluster 0",
          "Cluster 0",
          "Cluster 0",
          "Cluster 0",
          "Cluster 0",
          "Cluster 0",
          "Cluster 0",
          "Cluster 0",
          "Cluster 0",
          "Cluster 0",
          "Cluster 0",
          "Cluster 0",
          "Cluster 0",
          "Cluster 0",
          "Cluster 0",
          "Cluster 0",
          "Cluster 0",
          "Cluster 0",
          "Cluster 0",
          "Cluster 0",
          "Cluster 0",
          "Cluster 0",
          "Cluster 0",
          "Cluster 0",
          "Cluster 0",
          "Cluster 0",
          "Cluster 0",
          "Cluster 0",
          "Cluster 0",
          "Cluster 0",
          "Cluster 0",
          "Cluster 0",
          "Cluster 0",
          "Cluster 0",
          "Cluster 0",
          "Cluster 0",
          "Cluster 0",
          "Cluster 0",
          "Cluster 0",
          "Cluster 0",
          "Cluster 0",
          "Cluster 0",
          "Cluster 0",
          "Cluster 0",
          "Cluster 0",
          "Cluster 0",
          "Cluster 0",
          "Cluster 0",
          "Cluster 0",
          "Cluster 0",
          "Cluster 0",
          "Cluster 0",
          "Cluster 0",
          "Cluster 0",
          "Cluster 0",
          "Cluster 0",
          "Cluster 0",
          "Cluster 0",
          "Cluster 0",
          "Cluster 0",
          "Cluster 0",
          "Cluster 0",
          "Cluster 0",
          "Cluster 0",
          "Cluster 0",
          "Cluster 0",
          "Cluster 0",
          "Cluster 0",
          "Cluster 0",
          "Cluster 0",
          "Cluster 0",
          "Cluster 0",
          "Cluster 0",
          "Cluster 0",
          "Cluster 0",
          "Cluster 0",
          "Cluster 0",
          "Cluster 0",
          "Cluster 0",
          "Cluster 0",
          "Cluster 0",
          "Cluster 0",
          "Cluster 0",
          "Cluster 0",
          "Cluster 0",
          "Cluster 0",
          "Cluster 0",
          "Cluster 0",
          "Cluster 0",
          "Cluster 0",
          "Cluster 0",
          "Cluster 0",
          "Cluster 0",
          "Cluster 0",
          "Cluster 0",
          "Cluster 0",
          "Cluster 0",
          "Cluster 0",
          "Cluster 0",
          "Cluster 0",
          "Cluster 0",
          "Cluster 0",
          "Cluster 0",
          "Cluster 0",
          "Cluster 0",
          "Cluster 0",
          "Cluster 0",
          "Cluster 0",
          "Cluster 0",
          "Cluster 0",
          "Cluster 0",
          "Cluster 0",
          "Cluster 0",
          "Cluster 0",
          "Cluster 0",
          "Cluster 0",
          "Cluster 0",
          "Cluster 0",
          "Cluster 0",
          "Cluster 0",
          "Cluster 0",
          "Cluster 0",
          "Cluster 0",
          "Cluster 0",
          "Cluster 0",
          "Cluster 0",
          "Cluster 0",
          "Cluster 0",
          "Cluster 0",
          "Cluster 0",
          "Cluster 0",
          "Cluster 0",
          "Cluster 0",
          "Cluster 0",
          "Cluster 0",
          "Cluster 0",
          "Cluster 0",
          "Cluster 0",
          "Cluster 0",
          "Cluster 0",
          "Cluster 0",
          "Cluster 0",
          "Cluster 0",
          "Cluster 0",
          "Cluster 0",
          "Cluster 0",
          "Cluster 0",
          "Cluster 0",
          "Cluster 0",
          "Cluster 0",
          "Cluster 0",
          "Cluster 0",
          "Cluster 0",
          "Cluster 0",
          "Cluster 0",
          "Cluster 0",
          "Cluster 0",
          "Cluster 0",
          "Cluster 0",
          "Cluster 0",
          "Cluster 0",
          "Cluster 0",
          "Cluster 0",
          "Cluster 0",
          "Cluster 0",
          "Cluster 0",
          "Cluster 0",
          "Cluster 0",
          "Cluster 0",
          "Cluster 0",
          "Cluster 0",
          "Cluster 0",
          "Cluster 0",
          "Cluster 0",
          "Cluster 0",
          "Cluster 0",
          "Cluster 0",
          "Cluster 0",
          "Cluster 0",
          "Cluster 0",
          "Cluster 0",
          "Cluster 0",
          "Cluster 0",
          "Cluster 0",
          "Cluster 0",
          "Cluster 0",
          "Cluster 0",
          "Cluster 0",
          "Cluster 0",
          "Cluster 0",
          "Cluster 0",
          "Cluster 0",
          "Cluster 0",
          "Cluster 0",
          "Cluster 0",
          "Cluster 0",
          "Cluster 0",
          "Cluster 0",
          "Cluster 0",
          "Cluster 0",
          "Cluster 0",
          "Cluster 0",
          "Cluster 0",
          "Cluster 0",
          "Cluster 0",
          "Cluster 0",
          "Cluster 0",
          "Cluster 0",
          "Cluster 0",
          "Cluster 0",
          "Cluster 0",
          "Cluster 0",
          "Cluster 0",
          "Cluster 0",
          "Cluster 0",
          "Cluster 0",
          "Cluster 0",
          "Cluster 0",
          "Cluster 0",
          "Cluster 0",
          "Cluster 0",
          "Cluster 0",
          "Cluster 0",
          "Cluster 0",
          "Cluster 0",
          "Cluster 0",
          "Cluster 0",
          "Cluster 0",
          "Cluster 0",
          "Cluster 0",
          "Cluster 0",
          "Cluster 0",
          "Cluster 0",
          "Cluster 0",
          "Cluster 0",
          "Cluster 0",
          "Cluster 0",
          "Cluster 0",
          "Cluster 0",
          "Cluster 0",
          "Cluster 0",
          "Cluster 0",
          "Cluster 0",
          "Cluster 0",
          "Cluster 0",
          "Cluster 0",
          "Cluster 0",
          "Cluster 0",
          "Cluster 0",
          "Cluster 0",
          "Cluster 0",
          "Cluster 0",
          "Cluster 0",
          "Cluster 0",
          "Cluster 0",
          "Cluster 0",
          "Cluster 0",
          "Cluster 0",
          "Cluster 0",
          "Cluster 0",
          "Cluster 0",
          "Cluster 0",
          "Cluster 0",
          "Cluster 0",
          "Cluster 0",
          "Cluster 0",
          "Cluster 0",
          "Cluster 0",
          "Cluster 0",
          "Cluster 0",
          "Cluster 0",
          "Cluster 0",
          "Cluster 0",
          "Cluster 0",
          "Cluster 0",
          "Cluster 0",
          "Cluster 0",
          "Cluster 0",
          "Cluster 0",
          "Cluster 0",
          "Cluster 0",
          "Cluster 0",
          "Cluster 0",
          "Cluster 0",
          "Cluster 0",
          "Cluster 0",
          "Cluster 0",
          "Cluster 0",
          "Cluster 0",
          "Cluster 0",
          "Cluster 0",
          "Cluster 0",
          "Cluster 0",
          "Cluster 0",
          "Cluster 0",
          "Cluster 0",
          "Cluster 0",
          "Cluster 0",
          "Cluster 0",
          "Cluster 0",
          "Cluster 0",
          "Cluster 0",
          "Cluster 0",
          "Cluster 0",
          "Cluster 0",
          "Cluster 0",
          "Cluster 0",
          "Cluster 0",
          "Cluster 0",
          "Cluster 0",
          "Cluster 0",
          "Cluster 0",
          "Cluster 0",
          "Cluster 0",
          "Cluster 0",
          "Cluster 0",
          "Cluster 0",
          "Cluster 0"
         ],
         "xaxis": "x2",
         "yaxis": "y2"
        },
        {
         "alignmentgroup": "True",
         "bingroup": "x",
         "hovertemplate": "Cluster=%{x}<br>count=%{y}<extra></extra>",
         "legendgroup": "Cluster 1",
         "marker": {
          "color": "#EF553B",
          "opacity": 0.7,
          "pattern": {
           "shape": ""
          }
         },
         "name": "Cluster 1",
         "offsetgroup": "Cluster 1",
         "orientation": "v",
         "showlegend": true,
         "type": "histogram",
         "x": [
          "Cluster 1",
          "Cluster 1",
          "Cluster 1",
          "Cluster 1",
          "Cluster 1",
          "Cluster 1",
          "Cluster 1"
         ],
         "xaxis": "x",
         "yaxis": "y"
        },
        {
         "alignmentgroup": "True",
         "customdata": [
          [
           "c",
           0.005424237344413996,
           0.030498556792736053,
           0.03097691759467125,
           -0.16010773181915283,
           5521.84130859375,
           0.2687888741493225,
           0.022049464285373688,
           4.526732921600342,
           5.503958702087402,
           6.359529972076416,
           0.14022423326969147,
           4018.263916015625,
           3489.946044921875,
           6.7268476486206055
          ],
          [
           "c",
           0.005437604617327452,
           0.029008112847805023,
           0.029513128101825714,
           -0.42402008175849915,
           6093.9453125,
           0.2407563030719757,
           0.021094612777233124,
           4.1019134521484375,
           4.963529109954834,
           5.738919734954834,
           0.12106028944253922,
           845.3566284179688,
           783.31689453125,
           5.198611736297607
          ],
          [
           "c",
           0.005457265302538872,
           0.0406428761780262,
           0.04100726544857025,
           2.189605236053467,
           3806.807861328125,
           0.46964573860168457,
           0.024462712928652763,
           6.228082656860352,
           8.479188919067383,
           10.440241813659668,
           0.25539663434028625,
           945.8624877929688,
           845.8629150390625,
           6.050340175628662
          ],
          [
           "c",
           0.005429938435554504,
           0.035444099456071854,
           0.03585733100771904,
           -0.24231363832950592,
           4845.0078125,
           0.3436638414859772,
           0.025069328024983406,
           5.158851623535156,
           6.331270694732666,
           7.378843307495117,
           0.18498265743255615,
           -845.3566284179688,
           -783.31689453125,
           5.176962375640869
          ],
          [
           "c",
           0.005454865749925375,
           0.02083943784236908,
           0.021540459245443344,
           0.3208470046520233,
           2848.34912109375,
           0.1438341587781906,
           0.014001390896737576,
           3.3972299098968506,
           4.352804660797119,
           5.226473331451416,
           0.07317789644002914,
           3812.965087890625,
           3741.500244140625,
           2.7061190605163574
          ],
          [
           "c",
           0.005413639824837446,
           0.04063750430941582,
           0.04099615663290024,
           0.8986664414405823,
           4733.24853515625,
           0.416909396648407,
           0.026842083781957626,
           5.159851551055908,
           6.625808238983154,
           7.880688190460205,
           0.2053752988576889,
           -945.8624877929688,
           -845.8629150390625,
           6.028744220733643
          ],
          [
           "c",
           0.005440704524517059,
           0.03066389262676239,
           0.031142583116889,
           -0.24499088525772095,
           6045.79541015625,
           0.2522902488708496,
           0.02188609354197979,
           4.134539604187012,
           5.056169509887695,
           5.8831987380981445,
           0.12876024842262268,
           -4018.263916015625,
           -3489.946044921875,
           6.7268476486206055
          ]
         ],
         "hovertemplate": "Cluster=%{x}<br>chatter_presence=%{customdata[0]}<br>med=%{customdata[1]}<br>std=%{customdata[2]}<br>rms=%{customdata[3]}<br>curtose=%{customdata[4]}<br>distortion=%{customdata[5]}<br>amplitude=%{customdata[6]}<br>sra=%{customdata[7]}<br>crest=%{customdata[8]}<br>impulse=%{customdata[9]}<br>margin=%{customdata[10]}<br>max=%{customdata[11]}<br>freq_max=%{customdata[12]}<br>freq_sec_highest=%{customdata[13]}<br>fft_mean=%{customdata[14]}<extra></extra>",
         "legendgroup": "Cluster 1",
         "marker": {
          "color": "#EF553B"
         },
         "name": "Cluster 1",
         "notched": true,
         "offsetgroup": "Cluster 1",
         "showlegend": false,
         "type": "box",
         "x": [
          "Cluster 1",
          "Cluster 1",
          "Cluster 1",
          "Cluster 1",
          "Cluster 1",
          "Cluster 1",
          "Cluster 1"
         ],
         "xaxis": "x2",
         "yaxis": "y2"
        },
        {
         "alignmentgroup": "True",
         "bingroup": "x",
         "hovertemplate": "Cluster=%{x}<br>count=%{y}<extra></extra>",
         "legendgroup": "Cluster 2",
         "marker": {
          "color": "#00cc96",
          "opacity": 0.7,
          "pattern": {
           "shape": ""
          }
         },
         "name": "Cluster 2",
         "offsetgroup": "Cluster 2",
         "orientation": "v",
         "showlegend": true,
         "type": "histogram",
         "x": [
          "Cluster 2"
         ],
         "xaxis": "x",
         "yaxis": "y"
        },
        {
         "alignmentgroup": "True",
         "customdata": [
          [
           "c",
           0.005478781647980213,
           0.025896456092596054,
           0.026468319818377495,
           19.269060134887695,
           1027.044189453125,
           0.4770222306251526,
           0.010077327489852905,
           9.383126258850098,
           17.591154098510742,
           24.64498519897461,
           0.24835559725761414,
           -933.5751342773438,
           -959.9744262695312,
           1.2836813926696777
          ]
         ],
         "hovertemplate": "Cluster=%{x}<br>chatter_presence=%{customdata[0]}<br>med=%{customdata[1]}<br>std=%{customdata[2]}<br>rms=%{customdata[3]}<br>curtose=%{customdata[4]}<br>distortion=%{customdata[5]}<br>amplitude=%{customdata[6]}<br>sra=%{customdata[7]}<br>crest=%{customdata[8]}<br>impulse=%{customdata[9]}<br>margin=%{customdata[10]}<br>max=%{customdata[11]}<br>freq_max=%{customdata[12]}<br>freq_sec_highest=%{customdata[13]}<br>fft_mean=%{customdata[14]}<extra></extra>",
         "legendgroup": "Cluster 2",
         "marker": {
          "color": "#00cc96"
         },
         "name": "Cluster 2",
         "notched": true,
         "offsetgroup": "Cluster 2",
         "showlegend": false,
         "type": "box",
         "x": [
          "Cluster 2"
         ],
         "xaxis": "x2",
         "yaxis": "y2"
        },
        {
         "alignmentgroup": "True",
         "bingroup": "x",
         "hovertemplate": "Cluster=%{x}<br>count=%{y}<extra></extra>",
         "legendgroup": "Cluster 3",
         "marker": {
          "color": "#ab63fa",
          "opacity": 0.7,
          "pattern": {
           "shape": ""
          }
         },
         "name": "Cluster 3",
         "offsetgroup": "Cluster 3",
         "orientation": "v",
         "showlegend": true,
         "type": "histogram",
         "x": [
          "Cluster 3",
          "Cluster 3",
          "Cluster 3"
         ],
         "xaxis": "x",
         "yaxis": "y"
        },
        {
         "alignmentgroup": "True",
         "customdata": [
          [
           "c",
           0.005440111737698317,
           0.030929796397686005,
           0.03140294551849365,
           4.804506778717041,
           1433.119384765625,
           0.4225460886955261,
           0.017405059188604355,
           6.739824295043945,
           9.654864311218262,
           12.160277366638184,
           0.21165034174919128,
           -3812.965087890625,
           -3741.500244140625,
           2.7061190605163574
          ],
          [
           "c",
           0.005470529664307833,
           0.013462627306580544,
           0.014531060121953487,
           4.890751361846924,
           1399.00341796875,
           0.22184641659259796,
           0.00844015646725893,
           7.972018241882324,
           11.135601997375488,
           13.725086212158203,
           0.10600454360246658,
           -999.1403198242188,
           -1018.2443237304688,
           0.8040518760681152
          ],
          [
           "c",
           0.005492647644132376,
           0.016267867758870125,
           0.017169494181871414,
           2.4818241596221924,
           1783.826904296875,
           0.2037266045808792,
           0.010310528799891472,
           6.257789611816406,
           8.467670440673828,
           10.42071533203125,
           0.10744308680295944,
           -3909.32177734375,
           -3782.5244140625,
           2.2192862033843994
          ]
         ],
         "hovertemplate": "Cluster=%{x}<br>chatter_presence=%{customdata[0]}<br>med=%{customdata[1]}<br>std=%{customdata[2]}<br>rms=%{customdata[3]}<br>curtose=%{customdata[4]}<br>distortion=%{customdata[5]}<br>amplitude=%{customdata[6]}<br>sra=%{customdata[7]}<br>crest=%{customdata[8]}<br>impulse=%{customdata[9]}<br>margin=%{customdata[10]}<br>max=%{customdata[11]}<br>freq_max=%{customdata[12]}<br>freq_sec_highest=%{customdata[13]}<br>fft_mean=%{customdata[14]}<extra></extra>",
         "legendgroup": "Cluster 3",
         "marker": {
          "color": "#ab63fa"
         },
         "name": "Cluster 3",
         "notched": true,
         "offsetgroup": "Cluster 3",
         "showlegend": false,
         "type": "box",
         "x": [
          "Cluster 3",
          "Cluster 3",
          "Cluster 3"
         ],
         "xaxis": "x2",
         "yaxis": "y2"
        },
        {
         "alignmentgroup": "True",
         "bingroup": "x",
         "hovertemplate": "Cluster=%{x}<br>count=%{y}<extra></extra>",
         "legendgroup": "Cluster 4",
         "marker": {
          "color": "#FFA15A",
          "opacity": 0.7,
          "pattern": {
           "shape": ""
          }
         },
         "name": "Cluster 4",
         "offsetgroup": "Cluster 4",
         "orientation": "v",
         "showlegend": true,
         "type": "histogram",
         "x": [
          "Cluster 4"
         ],
         "xaxis": "x",
         "yaxis": "y"
        },
        {
         "alignmentgroup": "True",
         "customdata": [
          [
           "c",
           0.005423230119049549,
           0.04302934929728508,
           0.04336938261985779,
           0.5506352782249451,
           5043.29541015625,
           0.4329476058483124,
           0.028126107528805733,
           5.281022071838379,
           6.79782247543335,
           8.143135070800781,
           0.2039129137992859,
           3859.227294921875,
           3810.338623046875,
           12.481369018554688
          ]
         ],
         "hovertemplate": "Cluster=%{x}<br>chatter_presence=%{customdata[0]}<br>med=%{customdata[1]}<br>std=%{customdata[2]}<br>rms=%{customdata[3]}<br>curtose=%{customdata[4]}<br>distortion=%{customdata[5]}<br>amplitude=%{customdata[6]}<br>sra=%{customdata[7]}<br>crest=%{customdata[8]}<br>impulse=%{customdata[9]}<br>margin=%{customdata[10]}<br>max=%{customdata[11]}<br>freq_max=%{customdata[12]}<br>freq_sec_highest=%{customdata[13]}<br>fft_mean=%{customdata[14]}<extra></extra>",
         "legendgroup": "Cluster 4",
         "marker": {
          "color": "#FFA15A"
         },
         "name": "Cluster 4",
         "notched": true,
         "offsetgroup": "Cluster 4",
         "showlegend": false,
         "type": "box",
         "x": [
          "Cluster 4"
         ],
         "xaxis": "x2",
         "yaxis": "y2"
        },
        {
         "alignmentgroup": "True",
         "bingroup": "x",
         "hovertemplate": "Cluster=%{x}<br>count=%{y}<extra></extra>",
         "legendgroup": "Cluster 5",
         "marker": {
          "color": "#19d3f3",
          "opacity": 0.7,
          "pattern": {
           "shape": ""
          }
         },
         "name": "Cluster 5",
         "offsetgroup": "Cluster 5",
         "orientation": "v",
         "showlegend": true,
         "type": "histogram",
         "x": [
          "Cluster 5"
         ],
         "xaxis": "x",
         "yaxis": "y"
        },
        {
         "alignmentgroup": "True",
         "customdata": [
          [
           "c",
           0.005409283097833395,
           0.04081236571073532,
           0.04116892069578171,
           0.7546960711479187,
           4934.4853515625,
           0.3957327902317047,
           0.02704869955778122,
           4.807009220123291,
           6.157003402709961,
           7.316409587860107,
           0.19783343374729156,
           -3859.227294921875,
           -3810.338623046875,
           12.481369018554688
          ]
         ],
         "hovertemplate": "Cluster=%{x}<br>chatter_presence=%{customdata[0]}<br>med=%{customdata[1]}<br>std=%{customdata[2]}<br>rms=%{customdata[3]}<br>curtose=%{customdata[4]}<br>distortion=%{customdata[5]}<br>amplitude=%{customdata[6]}<br>sra=%{customdata[7]}<br>crest=%{customdata[8]}<br>impulse=%{customdata[9]}<br>margin=%{customdata[10]}<br>max=%{customdata[11]}<br>freq_max=%{customdata[12]}<br>freq_sec_highest=%{customdata[13]}<br>fft_mean=%{customdata[14]}<extra></extra>",
         "legendgroup": "Cluster 5",
         "marker": {
          "color": "#19d3f3"
         },
         "name": "Cluster 5",
         "notched": true,
         "offsetgroup": "Cluster 5",
         "showlegend": false,
         "type": "box",
         "x": [
          "Cluster 5"
         ],
         "xaxis": "x2",
         "yaxis": "y2"
        }
       ],
       "layout": {
        "barmode": "relative",
        "height": 600,
        "legend": {
         "title": {
          "text": "Cluster"
         },
         "tracegroupgap": 0
        },
        "margin": {
         "t": 60
        },
        "template": {
         "data": {
          "bar": [
           {
            "error_x": {
             "color": "#2a3f5f"
            },
            "error_y": {
             "color": "#2a3f5f"
            },
            "marker": {
             "line": {
              "color": "#E5ECF6",
              "width": 0.5
             },
             "pattern": {
              "fillmode": "overlay",
              "size": 10,
              "solidity": 0.2
             }
            },
            "type": "bar"
           }
          ],
          "barpolar": [
           {
            "marker": {
             "line": {
              "color": "#E5ECF6",
              "width": 0.5
             },
             "pattern": {
              "fillmode": "overlay",
              "size": 10,
              "solidity": 0.2
             }
            },
            "type": "barpolar"
           }
          ],
          "carpet": [
           {
            "aaxis": {
             "endlinecolor": "#2a3f5f",
             "gridcolor": "white",
             "linecolor": "white",
             "minorgridcolor": "white",
             "startlinecolor": "#2a3f5f"
            },
            "baxis": {
             "endlinecolor": "#2a3f5f",
             "gridcolor": "white",
             "linecolor": "white",
             "minorgridcolor": "white",
             "startlinecolor": "#2a3f5f"
            },
            "type": "carpet"
           }
          ],
          "choropleth": [
           {
            "colorbar": {
             "outlinewidth": 0,
             "ticks": ""
            },
            "type": "choropleth"
           }
          ],
          "contour": [
           {
            "colorbar": {
             "outlinewidth": 0,
             "ticks": ""
            },
            "colorscale": [
             [
              0,
              "#0d0887"
             ],
             [
              0.1111111111111111,
              "#46039f"
             ],
             [
              0.2222222222222222,
              "#7201a8"
             ],
             [
              0.3333333333333333,
              "#9c179e"
             ],
             [
              0.4444444444444444,
              "#bd3786"
             ],
             [
              0.5555555555555556,
              "#d8576b"
             ],
             [
              0.6666666666666666,
              "#ed7953"
             ],
             [
              0.7777777777777778,
              "#fb9f3a"
             ],
             [
              0.8888888888888888,
              "#fdca26"
             ],
             [
              1,
              "#f0f921"
             ]
            ],
            "type": "contour"
           }
          ],
          "contourcarpet": [
           {
            "colorbar": {
             "outlinewidth": 0,
             "ticks": ""
            },
            "type": "contourcarpet"
           }
          ],
          "heatmap": [
           {
            "colorbar": {
             "outlinewidth": 0,
             "ticks": ""
            },
            "colorscale": [
             [
              0,
              "#0d0887"
             ],
             [
              0.1111111111111111,
              "#46039f"
             ],
             [
              0.2222222222222222,
              "#7201a8"
             ],
             [
              0.3333333333333333,
              "#9c179e"
             ],
             [
              0.4444444444444444,
              "#bd3786"
             ],
             [
              0.5555555555555556,
              "#d8576b"
             ],
             [
              0.6666666666666666,
              "#ed7953"
             ],
             [
              0.7777777777777778,
              "#fb9f3a"
             ],
             [
              0.8888888888888888,
              "#fdca26"
             ],
             [
              1,
              "#f0f921"
             ]
            ],
            "type": "heatmap"
           }
          ],
          "heatmapgl": [
           {
            "colorbar": {
             "outlinewidth": 0,
             "ticks": ""
            },
            "colorscale": [
             [
              0,
              "#0d0887"
             ],
             [
              0.1111111111111111,
              "#46039f"
             ],
             [
              0.2222222222222222,
              "#7201a8"
             ],
             [
              0.3333333333333333,
              "#9c179e"
             ],
             [
              0.4444444444444444,
              "#bd3786"
             ],
             [
              0.5555555555555556,
              "#d8576b"
             ],
             [
              0.6666666666666666,
              "#ed7953"
             ],
             [
              0.7777777777777778,
              "#fb9f3a"
             ],
             [
              0.8888888888888888,
              "#fdca26"
             ],
             [
              1,
              "#f0f921"
             ]
            ],
            "type": "heatmapgl"
           }
          ],
          "histogram": [
           {
            "marker": {
             "pattern": {
              "fillmode": "overlay",
              "size": 10,
              "solidity": 0.2
             }
            },
            "type": "histogram"
           }
          ],
          "histogram2d": [
           {
            "colorbar": {
             "outlinewidth": 0,
             "ticks": ""
            },
            "colorscale": [
             [
              0,
              "#0d0887"
             ],
             [
              0.1111111111111111,
              "#46039f"
             ],
             [
              0.2222222222222222,
              "#7201a8"
             ],
             [
              0.3333333333333333,
              "#9c179e"
             ],
             [
              0.4444444444444444,
              "#bd3786"
             ],
             [
              0.5555555555555556,
              "#d8576b"
             ],
             [
              0.6666666666666666,
              "#ed7953"
             ],
             [
              0.7777777777777778,
              "#fb9f3a"
             ],
             [
              0.8888888888888888,
              "#fdca26"
             ],
             [
              1,
              "#f0f921"
             ]
            ],
            "type": "histogram2d"
           }
          ],
          "histogram2dcontour": [
           {
            "colorbar": {
             "outlinewidth": 0,
             "ticks": ""
            },
            "colorscale": [
             [
              0,
              "#0d0887"
             ],
             [
              0.1111111111111111,
              "#46039f"
             ],
             [
              0.2222222222222222,
              "#7201a8"
             ],
             [
              0.3333333333333333,
              "#9c179e"
             ],
             [
              0.4444444444444444,
              "#bd3786"
             ],
             [
              0.5555555555555556,
              "#d8576b"
             ],
             [
              0.6666666666666666,
              "#ed7953"
             ],
             [
              0.7777777777777778,
              "#fb9f3a"
             ],
             [
              0.8888888888888888,
              "#fdca26"
             ],
             [
              1,
              "#f0f921"
             ]
            ],
            "type": "histogram2dcontour"
           }
          ],
          "mesh3d": [
           {
            "colorbar": {
             "outlinewidth": 0,
             "ticks": ""
            },
            "type": "mesh3d"
           }
          ],
          "parcoords": [
           {
            "line": {
             "colorbar": {
              "outlinewidth": 0,
              "ticks": ""
             }
            },
            "type": "parcoords"
           }
          ],
          "pie": [
           {
            "automargin": true,
            "type": "pie"
           }
          ],
          "scatter": [
           {
            "fillpattern": {
             "fillmode": "overlay",
             "size": 10,
             "solidity": 0.2
            },
            "type": "scatter"
           }
          ],
          "scatter3d": [
           {
            "line": {
             "colorbar": {
              "outlinewidth": 0,
              "ticks": ""
             }
            },
            "marker": {
             "colorbar": {
              "outlinewidth": 0,
              "ticks": ""
             }
            },
            "type": "scatter3d"
           }
          ],
          "scattercarpet": [
           {
            "marker": {
             "colorbar": {
              "outlinewidth": 0,
              "ticks": ""
             }
            },
            "type": "scattercarpet"
           }
          ],
          "scattergeo": [
           {
            "marker": {
             "colorbar": {
              "outlinewidth": 0,
              "ticks": ""
             }
            },
            "type": "scattergeo"
           }
          ],
          "scattergl": [
           {
            "marker": {
             "colorbar": {
              "outlinewidth": 0,
              "ticks": ""
             }
            },
            "type": "scattergl"
           }
          ],
          "scattermapbox": [
           {
            "marker": {
             "colorbar": {
              "outlinewidth": 0,
              "ticks": ""
             }
            },
            "type": "scattermapbox"
           }
          ],
          "scatterpolar": [
           {
            "marker": {
             "colorbar": {
              "outlinewidth": 0,
              "ticks": ""
             }
            },
            "type": "scatterpolar"
           }
          ],
          "scatterpolargl": [
           {
            "marker": {
             "colorbar": {
              "outlinewidth": 0,
              "ticks": ""
             }
            },
            "type": "scatterpolargl"
           }
          ],
          "scatterternary": [
           {
            "marker": {
             "colorbar": {
              "outlinewidth": 0,
              "ticks": ""
             }
            },
            "type": "scatterternary"
           }
          ],
          "surface": [
           {
            "colorbar": {
             "outlinewidth": 0,
             "ticks": ""
            },
            "colorscale": [
             [
              0,
              "#0d0887"
             ],
             [
              0.1111111111111111,
              "#46039f"
             ],
             [
              0.2222222222222222,
              "#7201a8"
             ],
             [
              0.3333333333333333,
              "#9c179e"
             ],
             [
              0.4444444444444444,
              "#bd3786"
             ],
             [
              0.5555555555555556,
              "#d8576b"
             ],
             [
              0.6666666666666666,
              "#ed7953"
             ],
             [
              0.7777777777777778,
              "#fb9f3a"
             ],
             [
              0.8888888888888888,
              "#fdca26"
             ],
             [
              1,
              "#f0f921"
             ]
            ],
            "type": "surface"
           }
          ],
          "table": [
           {
            "cells": {
             "fill": {
              "color": "#EBF0F8"
             },
             "line": {
              "color": "white"
             }
            },
            "header": {
             "fill": {
              "color": "#C8D4E3"
             },
             "line": {
              "color": "white"
             }
            },
            "type": "table"
           }
          ]
         },
         "layout": {
          "annotationdefaults": {
           "arrowcolor": "#2a3f5f",
           "arrowhead": 0,
           "arrowwidth": 1
          },
          "autotypenumbers": "strict",
          "coloraxis": {
           "colorbar": {
            "outlinewidth": 0,
            "ticks": ""
           }
          },
          "colorscale": {
           "diverging": [
            [
             0,
             "#8e0152"
            ],
            [
             0.1,
             "#c51b7d"
            ],
            [
             0.2,
             "#de77ae"
            ],
            [
             0.3,
             "#f1b6da"
            ],
            [
             0.4,
             "#fde0ef"
            ],
            [
             0.5,
             "#f7f7f7"
            ],
            [
             0.6,
             "#e6f5d0"
            ],
            [
             0.7,
             "#b8e186"
            ],
            [
             0.8,
             "#7fbc41"
            ],
            [
             0.9,
             "#4d9221"
            ],
            [
             1,
             "#276419"
            ]
           ],
           "sequential": [
            [
             0,
             "#0d0887"
            ],
            [
             0.1111111111111111,
             "#46039f"
            ],
            [
             0.2222222222222222,
             "#7201a8"
            ],
            [
             0.3333333333333333,
             "#9c179e"
            ],
            [
             0.4444444444444444,
             "#bd3786"
            ],
            [
             0.5555555555555556,
             "#d8576b"
            ],
            [
             0.6666666666666666,
             "#ed7953"
            ],
            [
             0.7777777777777778,
             "#fb9f3a"
            ],
            [
             0.8888888888888888,
             "#fdca26"
            ],
            [
             1,
             "#f0f921"
            ]
           ],
           "sequentialminus": [
            [
             0,
             "#0d0887"
            ],
            [
             0.1111111111111111,
             "#46039f"
            ],
            [
             0.2222222222222222,
             "#7201a8"
            ],
            [
             0.3333333333333333,
             "#9c179e"
            ],
            [
             0.4444444444444444,
             "#bd3786"
            ],
            [
             0.5555555555555556,
             "#d8576b"
            ],
            [
             0.6666666666666666,
             "#ed7953"
            ],
            [
             0.7777777777777778,
             "#fb9f3a"
            ],
            [
             0.8888888888888888,
             "#fdca26"
            ],
            [
             1,
             "#f0f921"
            ]
           ]
          },
          "colorway": [
           "#636efa",
           "#EF553B",
           "#00cc96",
           "#ab63fa",
           "#FFA15A",
           "#19d3f3",
           "#FF6692",
           "#B6E880",
           "#FF97FF",
           "#FECB52"
          ],
          "font": {
           "color": "#2a3f5f"
          },
          "geo": {
           "bgcolor": "white",
           "lakecolor": "white",
           "landcolor": "#E5ECF6",
           "showlakes": true,
           "showland": true,
           "subunitcolor": "white"
          },
          "hoverlabel": {
           "align": "left"
          },
          "hovermode": "closest",
          "mapbox": {
           "style": "light"
          },
          "paper_bgcolor": "white",
          "plot_bgcolor": "#E5ECF6",
          "polar": {
           "angularaxis": {
            "gridcolor": "white",
            "linecolor": "white",
            "ticks": ""
           },
           "bgcolor": "#E5ECF6",
           "radialaxis": {
            "gridcolor": "white",
            "linecolor": "white",
            "ticks": ""
           }
          },
          "scene": {
           "xaxis": {
            "backgroundcolor": "#E5ECF6",
            "gridcolor": "white",
            "gridwidth": 2,
            "linecolor": "white",
            "showbackground": true,
            "ticks": "",
            "zerolinecolor": "white"
           },
           "yaxis": {
            "backgroundcolor": "#E5ECF6",
            "gridcolor": "white",
            "gridwidth": 2,
            "linecolor": "white",
            "showbackground": true,
            "ticks": "",
            "zerolinecolor": "white"
           },
           "zaxis": {
            "backgroundcolor": "#E5ECF6",
            "gridcolor": "white",
            "gridwidth": 2,
            "linecolor": "white",
            "showbackground": true,
            "ticks": "",
            "zerolinecolor": "white"
           }
          },
          "shapedefaults": {
           "line": {
            "color": "#2a3f5f"
           }
          },
          "ternary": {
           "aaxis": {
            "gridcolor": "white",
            "linecolor": "white",
            "ticks": ""
           },
           "baxis": {
            "gridcolor": "white",
            "linecolor": "white",
            "ticks": ""
           },
           "bgcolor": "#E5ECF6",
           "caxis": {
            "gridcolor": "white",
            "linecolor": "white",
            "ticks": ""
           }
          },
          "title": {
           "x": 0.05
          },
          "xaxis": {
           "automargin": true,
           "gridcolor": "white",
           "linecolor": "white",
           "ticks": "",
           "title": {
            "standoff": 15
           },
           "zerolinecolor": "white",
           "zerolinewidth": 2
          },
          "yaxis": {
           "automargin": true,
           "gridcolor": "white",
           "linecolor": "white",
           "ticks": "",
           "title": {
            "standoff": 15
           },
           "zerolinecolor": "white",
           "zerolinewidth": 2
          }
         }
        },
        "xaxis": {
         "anchor": "y",
         "categoryarray": [
          "Cluster 0",
          "Cluster 1",
          "Cluster 2",
          "Cluster 3",
          "Cluster 4",
          "Cluster 5"
         ],
         "categoryorder": "array",
         "domain": [
          0,
          1
         ],
         "title": {
          "text": "Cluster"
         }
        },
        "xaxis2": {
         "anchor": "y2",
         "domain": [
          0,
          1
         ],
         "matches": "x",
         "showgrid": true,
         "showticklabels": false
        },
        "yaxis": {
         "anchor": "x",
         "domain": [
          0,
          0.7326
         ],
         "title": {
          "text": "count"
         }
        },
        "yaxis2": {
         "anchor": "x2",
         "domain": [
          0.7426,
          1
         ],
         "matches": "y2",
         "showgrid": false,
         "showline": false,
         "showticklabels": false,
         "ticks": ""
        }
       }
      }
     },
     "metadata": {},
     "output_type": "display_data"
    }
   ],
   "source": [
    "plot_model(meanshift, plot='distribution')\n"
   ]
  },
  {
   "cell_type": "code",
   "execution_count": null,
   "metadata": {},
   "outputs": [
    {
     "data": {
      "text/plain": [
       "s    200\n",
       "c     88\n",
       "i     76\n",
       "Name: chatter_presence, dtype: int64"
      ]
     },
     "execution_count": 75,
     "metadata": {},
     "output_type": "execute_result"
    }
   ],
   "source": [
    "df.chatter_presence.value_counts()"
   ]
  },
  {
   "cell_type": "code",
   "execution_count": null,
   "metadata": {},
   "outputs": [],
   "source": []
  },
  {
   "cell_type": "code",
   "execution_count": null,
   "metadata": {},
   "outputs": [],
   "source": []
  },
  {
   "cell_type": "code",
   "execution_count": null,
   "metadata": {},
   "outputs": [],
   "source": []
  }
 ],
 "metadata": {
  "kernelspec": {
   "display_name": "Python 3",
   "language": "python",
   "name": "python3"
  },
  "language_info": {
   "codemirror_mode": {
    "name": "ipython",
    "version": 3
   },
   "file_extension": ".py",
   "mimetype": "text/x-python",
   "name": "python",
   "nbconvert_exporter": "python",
   "pygments_lexer": "ipython3",
   "version": "3.10.6"
  },
  "orig_nbformat": 4,
  "vscode": {
   "interpreter": {
    "hash": "916dbcbb3f70747c44a77c7bcd40155683ae19c65e1c03b4aa3499c5328201f1"
   }
  }
 },
 "nbformat": 4,
 "nbformat_minor": 2
}
