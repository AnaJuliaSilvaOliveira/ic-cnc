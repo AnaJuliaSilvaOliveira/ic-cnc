{
 "cells": [
  {
   "cell_type": "code",
   "execution_count": 20,
   "id": "cfa908d4",
   "metadata": {},
   "outputs": [],
   "source": [
    "import pandas as pd\n",
    "import numpy as np\n",
    "\n",
    "import scipy.io as sc\n",
    "import scipy.stats\n",
    "from scipy.fft import fft, fftfreq\n",
    "from scipy.fftpack import fft, ifft \n",
    "from os import listdir\n",
    "import os.path\n",
    "import shutil \n",
    "from IPython.display import clear_output\n",
    "\n",
    "import matplotlib.pyplot as plt\n",
    "import seaborn as sns"
   ]
  },
  {
   "cell_type": "code",
   "execution_count": 37,
   "id": "c72b914b",
   "metadata": {},
   "outputs": [],
   "source": [
    " success = True\n",
    "while success == True:\n",
    "    try:\n",
    "        shutil.rmtree('corrected')\n",
    "        success = False\n",
    "    except:\n",
    "        success = False"
   ]
  },
  {
   "cell_type": "code",
   "execution_count": 38,
   "id": "ee16f13d",
   "metadata": {},
   "outputs": [],
   "source": [
    "success = True\n",
    "while success == True:\n",
    "    try: \n",
    "        list_of_folders = listdir(\"cutting_tests_processed\")\n",
    "        for folder in list_of_folders:\n",
    "            os.makedirs(f'corrected/{folder}')\n",
    "        success = False\n",
    "    except:\n",
    "        success = False"
   ]
  },
  {
   "cell_type": "code",
   "execution_count": 39,
   "id": "6e07ae56",
   "metadata": {},
   "outputs": [],
   "source": [
    "def main_():\n",
    "    '''\n",
    "    changes the split files first letter to match it's correct classification to\n",
    "    the presence of chatter according to the users input and saves the file with\n",
    "    the corect name to the folder \"corrected\" with the same folders as \n",
    "    split_cutting_tests_processed.\n",
    "    '''\n",
    "    folders = listdir('split_cutting_tests_processed')\n",
    "    print(folders)\n",
    "    # folder = ''\n",
    "    path_split = 'split_cutting_tests_processed'\n",
    "    path_corrected = 'corrected'\n",
    "\n",
    "    for folder in folders:\n",
    "        list_of_files = listdir(f'{path_split}/{folder}') \n",
    "        for file in list_of_files:\n",
    "            if file[0] != 's' and file[-5] != 'd':\n",
    "                print(f'Folder: {folder}') \n",
    "                print(f'File: {file}')\n",
    "                print('')\n",
    "\n",
    "                plot = pd.read_csv(f'{path_split}/{folder}/{file}')\n",
    "\n",
    "                # data = sc.loadmat(f'cutting_tests_processed/{folder}/{file[0:9]}.mat')\n",
    "                # lim = pd.DataFrame.from_dict(data['tsDS'][:,:])\n",
    "                # lim.rename({0: 't', 1: 'y'}, axis=1, inplace=True)\n",
    "                # limit = np.fft.fft(lim['y']).max()\n",
    "\n",
    "                fft = np.fft.fft(plot['y'])\n",
    "                fftfreq = np.fft.fftfreq(len(plot['t']), plot['t'][1] - plot['t'][0])\n",
    "\n",
    "                # ploting\n",
    "                fig, ax = plt.subplots(1,2, figsize = (10,4))\n",
    "                # plt.ylim(0,limit)\n",
    "                ax[0].plot(plot['t'], plot['y'])\n",
    "                ax[1].plot(fftfreq[10:int(len(fft)/2)], np.abs(fft[10:int(len(fft)/2)])/len(fft), c = 'k')\n",
    "                fig.suptitle(file)\n",
    "                plt.show()\n",
    "\n",
    "                # classifing \n",
    "                print(\"c = has chatter \\n s = no chatter \\n or \\\"stop\\\"\")\n",
    "                presence = input('')\n",
    "                if presence == 'stop':\n",
    "                    break\n",
    "\n",
    "                # saving files\n",
    "                shutil.copyfile(f'{path_split}/{folder}/{file}', f'{path_corrected}/{folder}/{presence}{file[1:]}')\n",
    "                shutil.copyfile(f'{path_split}/{folder}/{file[:-4]}_noise_added.csv', f'{path_corrected}/{folder}/{presence}{file[1:-4]}_noise_added.csv')\n",
    "\n",
    "                clear_output()\n"
   ]
  },
  {
   "cell_type": "code",
   "execution_count": 40,
   "id": "45b2e316",
   "metadata": {},
   "outputs": [],
   "source": [
    "main_()"
   ]
  },
  {
   "attachments": {},
   "cell_type": "markdown",
   "id": "0eba658f",
   "metadata": {},
   "source": [
    "# Creating a new data frame with math features "
   ]
  },
  {
   "attachments": {},
   "cell_type": "markdown",
   "id": "17dd1429",
   "metadata": {},
   "source": [
    "Defining the functions used in the creation of the dataframe as to keep the formulas more organized and easy to read. "
   ]
  },
  {
   "cell_type": "code",
   "execution_count": 1,
   "id": "82603bb2",
   "metadata": {},
   "outputs": [],
   "source": [
    "def thd(data_): # true harmonic distortion\n",
    "    sq_sum = 0.0\n",
    "    for r in range(len(data_)):\n",
    "        sq_sum = sq_sum + data_[r]**2\n",
    "    sq_harmonics = sq_sum - max(data_)**2\n",
    "    return 100*sq_harmonics**0.5 / max(data_)\n",
    "\n",
    "def rms(data_):\n",
    "    return np.sqrt(np.mean(data_**2))\n",
    "\n",
    "def amp(data_):\n",
    "    return max(data_) - min(data_)\n",
    "\n",
    "def SRA(data_):\n",
    "    return np.mean(np.sqrt(np.abs(data_)))**2\n",
    "\n",
    "def crest(data_):\n",
    "    return max(np.abs(data_))/np.sqrt(np.mean(data_**2))\n",
    "\n",
    "def impulse(data_):\n",
    "    return max(np.abs(data_))/np.mean(abs(data_))\n",
    "\n",
    "def margin(data_):\n",
    "    return max(abs(data_))/np.mean(np.sqrt(np.abs(data_)))**2\n",
    "\n",
    "def freq_max(data_):\n",
    "    # sorted(np.array(scipy.fftpack.fft(file['y'].values)))[-2]\n",
    "    # print(data_)\n",
    "    print(data_['fftfreq'][data_['fft'] == data_['fft'].max()].values[0])\n",
    "\n",
    "def freq_sec_highest(data_):\n",
    "    # sorted(np.array(scipy.fftpack.fft(file['fftfreq'].values)))[-3]\n",
    "    data_sorted = data_.sort_values(by = ['fft'], ascending = False)\n",
    "    return data_sorted['fftfreq'][1]\n",
    "\n",
    "def freq_mean(data_):\n",
    "    return data_['fftfreq'].mean()\n",
    "\n",
    "# def freq_pico(data_):\n",
    "#     # sorted(np.array(scipy.fftpack.fft(file['y'].values)))[-2]\n",
    "#     return data_['fftfreq'].max()\n",
    "\n",
    "#         cols['freq_max'].append(scipy.fftpack.fft(file['y'].values).max()) # https://gist.github.com/endolith/255291\n",
    "#         cols['freq_sec_highest'].append(sorted(np.array(scipy.fftpack.fft(file['y'].values)))[-2]) \n",
    "#         cols['freq_mean'].append(scipy.fftpack.fft(file['y'].values).mean()) \n"
   ]
  },
  {
   "cell_type": "code",
   "execution_count": null,
   "id": "1b7b8e58",
   "metadata": {},
   "outputs": [],
   "source": [
    "''' Creating the data frame of math equations outputs.\n",
    "'''\n",
    "cols = {'Experiment': [],\n",
    "        'chatter_presence': [],\n",
    "        'med': [],\n",
    "        'std': [],\n",
    "        'rms': [],\n",
    "        'curtose': [],\n",
    "        'distortion': [],\n",
    "        'amplitude': [],\n",
    "        'sra': [],\n",
    "        'crest': [],\n",
    "        'impulse': [],\n",
    "        'margin': [],\n",
    "        'max': [],\n",
    "        'freq_max': [],\n",
    "        'freq_sec_highest': [],\n",
    "        'freq_mean': []}\n",
    "\n",
    "list_of_folders = listdir(\"corrected\")\n",
    "for folder in list_of_folders:\n",
    "    list_of_files = listdir(f'corrected/{folder}')\n",
    "    for file in list_of_files:\n",
    "        cols['Experiment'].append(f'{file[:-4]}')\n",
    "        cols['chatter_presence'].append(f'{file[:1]}')\n",
    "        \n",
    "        # print(file)\n",
    "        file = pd.read_csv(f'corrected/{folder}/{file}', index_col=0)\n",
    "                \n",
    "        cols['med'].append(file['y'].mean())\n",
    "        cols['std'].append(file['y'].std())\n",
    "        cols['rms'].append(rms(file['y']))\n",
    "        \n",
    "        cols['curtose'].append(scipy.stats.kurtosis(file['y']))\n",
    "        cols['distortion'].append(thd(file['y']))\n",
    "        cols['amplitude'].append(amp(file['y']))\n",
    "        cols['sra'].append(SRA(file['y']))\n",
    "        \n",
    "        cols['crest'].append(crest(file['y']))\n",
    "        cols['impulse'].append(impulse(file['y']))\n",
    "        cols['margin'].append(margin(file['y']))\n",
    "        cols['max'].append(file['y'].max())\n",
    "        \n",
    "        cols['freq_max'].append(freq_max(file)) # https://gist.github.com/endolith/255291\n",
    "        cols['freq_sec_highest'].append(freq_sec_highest(file)) \n",
    "        cols['freq_mean'].append(freq_mean(file))\n",
    "        clear_output()\n",
    "\n",
    "dataframe = pd.DataFrame(cols)"
   ]
  },
  {
   "cell_type": "code",
   "execution_count": null,
   "id": "87612f00",
   "metadata": {},
   "outputs": [],
   "source": [
    "dataframe"
   ]
  },
  {
   "cell_type": "code",
   "execution_count": 1,
   "id": "e96e9e57",
   "metadata": {},
   "outputs": [
    {
     "ename": "NameError",
     "evalue": "name 'dataframe' is not defined",
     "output_type": "error",
     "traceback": [
      "\u001b[0;31m---------------------------------------------------------------------------\u001b[0m",
      "\u001b[0;31mNameError\u001b[0m                                 Traceback (most recent call last)",
      "Cell \u001b[0;32mIn[1], line 1\u001b[0m\n\u001b[0;32m----> 1\u001b[0m dataframe\u001b[39m.\u001b[39mto_csv(\u001b[39m'\u001b[39m\u001b[39mmath_outputs.csv\u001b[39m\u001b[39m'\u001b[39m)\n",
      "\u001b[0;31mNameError\u001b[0m: name 'dataframe' is not defined"
     ]
    }
   ],
   "source": [
    "dataframe.to_csv('math_outputs.csv')"
   ]
  }
 ],
 "metadata": {
  "kernelspec": {
   "display_name": "Python 3",
   "language": "python",
   "name": "python3"
  },
  "language_info": {
   "codemirror_mode": {
    "name": "ipython",
    "version": 3
   },
   "file_extension": ".py",
   "mimetype": "text/x-python",
   "name": "python",
   "nbconvert_exporter": "python",
   "pygments_lexer": "ipython3",
   "version": "3.10.6 (main, Nov 14 2022, 16:10:14) [GCC 11.3.0]"
  },
  "vscode": {
   "interpreter": {
    "hash": "916dbcbb3f70747c44a77c7bcd40155683ae19c65e1c03b4aa3499c5328201f1"
   }
  }
 },
 "nbformat": 4,
 "nbformat_minor": 5
}
