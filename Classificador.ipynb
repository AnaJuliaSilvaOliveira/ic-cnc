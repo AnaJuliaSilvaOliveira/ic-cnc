{
 "cells": [
  {
   "cell_type": "code",
   "execution_count": 20,
   "id": "cfa908d4",
   "metadata": {},
   "outputs": [],
   "source": [
    "import pandas as pd\n",
    "import numpy as np\n",
    "import scipy.io as sc\n",
    "import matplotlib.pyplot as plt\n",
    "from os import listdir\n",
    "import os.path\n",
    "from IPython.display import clear_output\n",
    "import shutil"
   ]
  },
  {
   "cell_type": "code",
   "execution_count": 37,
   "id": "c72b914b",
   "metadata": {},
   "outputs": [],
   "source": [
    " success = True\n",
    "while success == True:\n",
    "    try:\n",
    "        shutil.rmtree('corrected')\n",
    "        success = False\n",
    "    except:\n",
    "        success = False"
   ]
  },
  {
   "cell_type": "code",
   "execution_count": 38,
   "id": "ee16f13d",
   "metadata": {},
   "outputs": [],
   "source": [
    "success = True\n",
    "while success == True:\n",
    "    try: \n",
    "        list_of_folders = listdir(\"cutting_tests_processed\")\n",
    "        for folder in list_of_folders:\n",
    "            os.makedirs(f'corrected/{folder}')\n",
    "        success = False\n",
    "    except:\n",
    "        success = False"
   ]
  },
  {
   "cell_type": "code",
   "execution_count": 39,
   "id": "6e07ae56",
   "metadata": {},
   "outputs": [],
   "source": [
    "def main_():\n",
    "    '''\n",
    "    changes the split files first letter to match it's correct classification to\n",
    "    the presence of chatter according to the users input and saves the file with\n",
    "    the corect name to the folder \"corrected\" with the same folders as \n",
    "    split_cutting_tests_processed.\n",
    "    '''\n",
    "    folders = listdir('split_cutting_tests_processed')\n",
    "    print(folders)\n",
    "    # folder = ''\n",
    "    path_split = 'split_cutting_tests_processed'\n",
    "    path_corrected = 'corrected'\n",
    "\n",
    "    for folder in folders:\n",
    "        list_of_files = listdir(f'{path_split}/{folder}') \n",
    "        for file in list_of_files:\n",
    "            if file[0] != 's' and file[-5] != 'd':\n",
    "                print(f'Folder: {folder}') \n",
    "                print(f'File: {file}')\n",
    "                print('')\n",
    "\n",
    "                plot = pd.read_csv(f'{path_split}/{folder}/{file}')\n",
    "\n",
    "                # data = sc.loadmat(f'cutting_tests_processed/{folder}/{file[0:9]}.mat')\n",
    "                # lim = pd.DataFrame.from_dict(data['tsDS'][:,:])\n",
    "                # lim.rename({0: 't', 1: 'y'}, axis=1, inplace=True)\n",
    "                # limit = np.fft.fft(lim['y']).max()\n",
    "\n",
    "                fft = np.fft.fft(plot['y'])\n",
    "                fftfreq = np.fft.fftfreq(len(plot['t']), plot['t'][1] - plot['t'][0])\n",
    "\n",
    "                # ploting\n",
    "                fig, ax = plt.subplots(1,2, figsize = (10,4))\n",
    "                # plt.ylim(0,limit)\n",
    "                ax[0].plot(plot['t'], plot['y'])\n",
    "                ax[1].plot(fftfreq[10:int(len(fft)/2)], np.abs(fft[10:int(len(fft)/2)])/len(fft), c = 'k')\n",
    "                fig.suptitle(file)\n",
    "                plt.show()\n",
    "\n",
    "                # classifing \n",
    "                print(\"c = has chatter \\n s = no chatter \\n or \\\"stop\\\"\")\n",
    "                presence = input('')\n",
    "                if presence == 'stop':\n",
    "                    break\n",
    "\n",
    "                # saving files\n",
    "                shutil.copyfile(f'{path_split}/{folder}/{file}', f'{path_corrected}/{folder}/{presence}{file[1:]}')\n",
    "                shutil.copyfile(f'{path_split}/{folder}/{file[:-4]}_noise_added.csv', f'{path_corrected}/{folder}/{presence}{file[1:-4]}_noise_added.csv')\n",
    "\n",
    "                clear_output()\n"
   ]
  },
  {
   "cell_type": "code",
   "execution_count": 40,
   "id": "45b2e316",
   "metadata": {},
   "outputs": [],
   "source": [
    "main_()"
   ]
  }
 ],
 "metadata": {
  "kernelspec": {
   "display_name": "Python 3",
   "language": "python",
   "name": "python3"
  },
  "language_info": {
   "codemirror_mode": {
    "name": "ipython",
    "version": 3
   },
   "file_extension": ".py",
   "mimetype": "text/x-python",
   "name": "python",
   "nbconvert_exporter": "python",
   "pygments_lexer": "ipython3",
   "version": "3.10.6"
  },
  "vscode": {
   "interpreter": {
    "hash": "916dbcbb3f70747c44a77c7bcd40155683ae19c65e1c03b4aa3499c5328201f1"
   }
  }
 },
 "nbformat": 4,
 "nbformat_minor": 5
}
