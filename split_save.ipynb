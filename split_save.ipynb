{
 "cells": [
  {
   "cell_type": "code",
   "execution_count": 12,
   "metadata": {},
   "outputs": [],
   "source": [
    "import pandas as pd\n",
    "import numpy as np\n",
    "\n",
    "import scipy.io as sc\n",
    "import scipy.stats\n",
    "from scipy.fft import fft, fftfreq\n",
    "from scipy.fftpack import fft, ifft \n",
    "from os import listdir\n",
    "import os.path\n",
    "import shutil \n",
    "\n",
    "import matplotlib.pyplot as plt\n",
    "import seaborn as sns"
   ]
  },
  {
   "attachments": {},
   "cell_type": "markdown",
   "metadata": {},
   "source": [
    "# In case you want to remove previously created files"
   ]
  },
  {
   "cell_type": "code",
   "execution_count": 13,
   "metadata": {},
   "outputs": [],
   "source": [
    "# success = True\n",
    "# while success == True:\n",
    "#     try:\n",
    "#         shutil.rmtree('split_cutting_tests_processed')\n",
    "#         success = False\n",
    "#     except:\n",
    "#         success = False"
   ]
  },
  {
   "attachments": {},
   "cell_type": "markdown",
   "metadata": {},
   "source": [
    "# Creating new directories for saving the split files "
   ]
  },
  {
   "cell_type": "code",
   "execution_count": 14,
   "metadata": {},
   "outputs": [],
   "source": [
    "# # creating directory using os\n",
    "# success = True\n",
    "# while success == True:\n",
    "#     try: \n",
    "#         list_of_folders = listdir(\"cutting_tests_processed\")\n",
    "#         for folder in list_of_folders:\n",
    "#             os.makedirs(f'split_cutting_tests_processed/{folder}')\n",
    "#         success = False\n",
    "#     except:\n",
    "#         success = False"
   ]
  },
  {
   "attachments": {},
   "cell_type": "markdown",
   "metadata": {},
   "source": [
    "# Spliting files, Fast Fourrier Transforms and Graphs"
   ]
  },
  {
   "cell_type": "code",
   "execution_count": 15,
   "metadata": {},
   "outputs": [],
   "source": [
    "# for folder in list_of_folders:\n",
    "#     list_of_files = listdir(f'cutting_tests_processed/{folder}')\n",
    "#     for file in list_of_files:\n",
    "#         if file[0] != 'u':\n",
    "#             '''\n",
    "#             loading the original data on MatLab files and creating dataframes \n",
    "#             with a time, t, and a distance, y, column. \n",
    "#             plots the Fast Fourrier Transform for each dataframea and/or \n",
    "#             the original file contents. \n",
    "#             saves the FFT outputs into new columns on the dataframe. \n",
    "#             spliting each processed data into for new files\n",
    "#             saves them as files in the same organization logic as the original files\n",
    "#             files classified as \"unknown\" presence for chatter have not been used.\n",
    "#             '''\n",
    "#             data = sc.loadmat(f'cutting_tests_processed/{folder}/{file}')\n",
    "#             df = pd.DataFrame.from_dict(data['tsDS'][:,:])\n",
    "#             df.rename({0: 't', 1: 'y'}, axis=1, inplace=True)\n",
    "            \n",
    "#             freq = np.fft.fftfreq(len(df['t']), df['t'][1] - df['t'][0])\n",
    "#             yf = np.fft.fft(df['y'])\n",
    "#             df['fft'] = yf\n",
    "#             df['fftfreq'] = freq # omega\n",
    "# \n",
    "#                 ''' ploting files '''\n",
    "#             # plt.figure()\n",
    "#             # plt.title(f'{file}')\n",
    "#             # plt.xlabel('t')\n",
    "#             # plt.ylabel('y')\n",
    "#             # plt.plot(df['t'], df['y'])\n",
    "\n",
    "\n",
    "#                 ''' ploting FFT results '''\n",
    "#             # plt.figure()\n",
    "#             # plt.title(f'{file}')\n",
    "#             # plt.xlabel('f')\n",
    "#             # plt.ylabel('A')\n",
    "#             # plt.plot(freq,yf)\n",
    "#             # plt.show()\n",
    "\n",
    "#             df_split = np.array_split(df,4)\n",
    "#             for split_num in np.arange(4):\n",
    "#                 df_split[split_num] = df_split[split_num].reset_index(drop=True)\n",
    "#                 print(df_split[split_num].head())\n",
    "#                 df_split[split_num].to_csv(f'split_cutting_tests_processed/{folder}/{file[:-4]}_split_{split_num}.csv')\n"
   ]
  },
  {
   "cell_type": "code",
   "execution_count": 16,
   "metadata": {},
   "outputs": [],
   "source": [
    "# list_of_folders = listdir(\"split_cutting_tests_processed\")\n",
    "# for folder in list_of_folders:\n",
    "#     list_of_files = listdir(f'split_cutting_tests_processed/2inch_stickout')\n",
    "#     for file in list_of_files:\n",
    "#         ''' ploting files that were already split with fft transformation\n",
    "#         '''\n",
    "#         file_ = pd.read_csv(f'split_cutting_tests_processed/2inch_stickout/{file}')\n",
    "#         plt.figure(figsize=(10,9))\n",
    "#         plt.title(f'{file}')\n",
    "#         plt.xlabel('time')\n",
    "#         plt.ylabel('FFT amplitude')\n",
    "#         plt.plot(file_['t'],scipy.fftpack.fft(file_['y'].values))"
   ]
  },
  {
   "cell_type": "code",
   "execution_count": 17,
   "metadata": {},
   "outputs": [],
   "source": [
    "# list_of_folders = listdir(\"split_cutting_tests_processed\")\n",
    "# for folder in list_of_folders:\n",
    "#     list_of_files = listdir(f'split_cutting_tests_processed/{folder}')\n",
    "#     for file in list_of_files:\n",
    "#         ''' finding the highest and second highest frequencies\n",
    "#         these are not saved. \n",
    "#         '''\n",
    "#         file_ = pd.read_csv(f'split_cutting_tests_processed/{folder}/{file}')\n",
    "#         fft_ = scipy.fftpack.fft(file_['y'].values) \n",
    "#         max_fft_amplitude = fft_.max()\n",
    "#         fft_amplitudes = sorted(np.array(fft_))\n",
    "#         print(f'file: {file} \\n max: {max_fft_amplitude} \\n second highest: {fft_amplitudes[-2]}')\n"
   ]
  },
  {
   "cell_type": "code",
   "execution_count": null,
   "metadata": {},
   "outputs": [],
   "source": []
  }
 ],
 "metadata": {
  "kernelspec": {
   "display_name": "Python 3",
   "language": "python",
   "name": "python3"
  },
  "language_info": {
   "codemirror_mode": {
    "name": "ipython",
    "version": 3
   },
   "file_extension": ".py",
   "mimetype": "text/x-python",
   "name": "python",
   "nbconvert_exporter": "python",
   "pygments_lexer": "ipython3",
   "version": "3.11.3"
  },
  "orig_nbformat": 4,
  "vscode": {
   "interpreter": {
    "hash": "916dbcbb3f70747c44a77c7bcd40155683ae19c65e1c03b4aa3499c5328201f1"
   }
  }
 },
 "nbformat": 4,
 "nbformat_minor": 2
}
